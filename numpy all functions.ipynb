{
 "cells": [
  {
   "cell_type": "code",
   "execution_count": 50,
   "metadata": {
    "pycharm": {
     "name": "#%%\n"
    }
   },
   "outputs": [],
   "source": [
    "#### All numpy functions"
   ]
  },
  {
   "cell_type": "code",
   "execution_count": 51,
   "metadata": {
    "pycharm": {
     "name": "#%%\n"
    }
   },
   "outputs": [],
   "source": [
    "# import numpy\n",
    "\n",
    "# !pip install numpy\n",
    "\n",
    "import numpy as np\n"
   ]
  },
  {
   "cell_type": "code",
   "execution_count": 52,
   "metadata": {
    "pycharm": {
     "name": "#%%\n"
    }
   },
   "outputs": [
    {
     "name": "stdout",
     "output_type": "stream",
     "text": [
      "numpy all functions count : 526\n",
      "0 : abs\n",
      "1 : absolute\n",
      "2 : add\n",
      "3 : add_docstring\n",
      "4 : add_newdoc\n",
      "5 : add_newdoc_ufunc\n",
      "6 : all\n",
      "7 : allclose\n",
      "8 : alltrue\n",
      "9 : amax\n",
      "10 : amin\n",
      "11 : angle\n",
      "12 : any\n",
      "13 : append\n",
      "14 : apply_along_axis\n",
      "15 : apply_over_axes\n",
      "16 : arange\n",
      "17 : arccos\n",
      "18 : arccosh\n",
      "19 : arcsin\n",
      "20 : arcsinh\n",
      "21 : arctan\n",
      "22 : arctan2\n",
      "23 : arctanh\n",
      "24 : argmax\n",
      "25 : argmin\n",
      "26 : argpartition\n",
      "27 : argsort\n",
      "28 : argwhere\n",
      "29 : around\n",
      "30 : array\n",
      "31 : array2string\n",
      "32 : array_equal\n",
      "33 : array_equiv\n",
      "34 : array_repr\n",
      "35 : array_split\n",
      "36 : array_str\n",
      "37 : asanyarray\n",
      "38 : asarray\n",
      "39 : asarray_chkfinite\n",
      "40 : ascontiguousarray\n",
      "41 : asfarray\n",
      "42 : asfortranarray\n",
      "43 : asmatrix\n",
      "44 : atleast_1d\n",
      "45 : atleast_2d\n",
      "46 : atleast_3d\n",
      "47 : average\n",
      "48 : bartlett\n",
      "49 : base_repr\n",
      "50 : binary_repr\n",
      "51 : bincount\n",
      "52 : bitwise_and\n",
      "53 : bitwise_not\n",
      "54 : bitwise_or\n",
      "55 : bitwise_xor\n",
      "56 : blackman\n",
      "57 : block\n",
      "58 : bmat\n",
      "59 : bool8\n",
      "60 : bool_\n",
      "61 : broadcast\n",
      "62 : broadcast_arrays\n",
      "63 : broadcast_shapes\n",
      "64 : broadcast_to\n",
      "65 : busday_count\n",
      "66 : busday_offset\n",
      "67 : busdaycalendar\n",
      "68 : byte\n",
      "69 : byte_bounds\n",
      "70 : bytes0\n",
      "71 : bytes_\n",
      "72 : can_cast\n",
      "73 : cast\n",
      "74 : cbrt\n",
      "75 : cdouble\n",
      "76 : ceil\n",
      "77 : cfloat\n",
      "78 : char\n",
      "79 : character\n",
      "80 : chararray\n",
      "81 : choose\n",
      "82 : clip\n",
      "83 : clongdouble\n",
      "84 : clongfloat\n",
      "85 : column_stack\n",
      "86 : common_type\n",
      "87 : compare_chararrays\n",
      "88 : compat\n",
      "89 : complex128\n",
      "90 : complex256\n",
      "91 : complex64\n",
      "92 : complex_\n",
      "93 : complexfloating\n",
      "94 : compress\n",
      "95 : concatenate\n",
      "96 : conj\n",
      "97 : conjugate\n",
      "98 : convolve\n",
      "99 : copy\n",
      "100 : copysign\n",
      "101 : copyto\n",
      "102 : core\n",
      "103 : corrcoef\n",
      "104 : correlate\n",
      "105 : cos\n",
      "106 : cosh\n",
      "107 : count_nonzero\n",
      "108 : cov\n",
      "109 : cross\n",
      "110 : csingle\n",
      "111 : ctypeslib\n",
      "112 : cumprod\n",
      "113 : cumproduct\n",
      "114 : cumsum\n",
      "115 : datetime64\n",
      "116 : datetime_as_string\n",
      "117 : datetime_data\n",
      "118 : deg2rad\n",
      "119 : degrees\n",
      "120 : delete\n",
      "121 : deprecate\n",
      "122 : deprecate_with_doc\n",
      "123 : diag\n",
      "124 : diag_indices\n",
      "125 : diag_indices_from\n",
      "126 : diagflat\n",
      "127 : diagonal\n",
      "128 : diff\n",
      "129 : digitize\n",
      "130 : disp\n",
      "131 : divide\n",
      "132 : divmod\n",
      "133 : dot\n",
      "134 : double\n",
      "135 : dsplit\n",
      "136 : dstack\n",
      "137 : dtype\n",
      "138 : e\n",
      "139 : ediff1d\n",
      "140 : einsum\n",
      "141 : einsum_path\n",
      "142 : emath\n",
      "143 : empty\n",
      "144 : empty_like\n",
      "145 : equal\n",
      "146 : error_message\n",
      "147 : errstate\n",
      "148 : euler_gamma\n",
      "149 : exp\n",
      "150 : exp2\n",
      "151 : expand_dims\n",
      "152 : expm1\n",
      "153 : extract\n",
      "154 : eye\n",
      "155 : fabs\n",
      "156 : fastCopyAndTranspose\n",
      "157 : fft\n",
      "158 : fill_diagonal\n",
      "159 : find_common_type\n",
      "160 : finfo\n",
      "161 : fix\n",
      "162 : flatiter\n",
      "163 : flatnonzero\n",
      "164 : flexible\n",
      "165 : flip\n",
      "166 : fliplr\n",
      "167 : flipud\n",
      "168 : float128\n",
      "169 : float16\n",
      "170 : float32\n",
      "171 : float64\n",
      "172 : float_\n",
      "173 : float_power\n",
      "174 : floating\n",
      "175 : floor\n",
      "176 : floor_divide\n",
      "177 : fmax\n",
      "178 : fmin\n",
      "179 : fmod\n",
      "180 : format_float_positional\n",
      "181 : format_float_scientific\n",
      "182 : format_parser\n",
      "183 : frexp\n",
      "184 : from_dlpack\n",
      "185 : frombuffer\n",
      "186 : fromfile\n",
      "187 : fromfunction\n",
      "188 : fromiter\n",
      "189 : frompyfunc\n",
      "190 : fromregex\n",
      "191 : fromstring\n",
      "192 : full\n",
      "193 : full_like\n",
      "194 : gcd\n",
      "195 : generic\n",
      "196 : genfromtxt\n",
      "197 : geomspace\n",
      "198 : get_array_wrap\n",
      "199 : get_include\n",
      "200 : get_printoptions\n",
      "201 : getbufsize\n",
      "202 : geterr\n",
      "203 : geterrcall\n",
      "204 : geterrobj\n",
      "205 : gradient\n",
      "206 : greater\n",
      "207 : greater_equal\n",
      "208 : half\n",
      "209 : hamming\n",
      "210 : hanning\n",
      "211 : heaviside\n",
      "212 : histogram\n",
      "213 : histogram2d\n",
      "214 : histogram_bin_edges\n",
      "215 : histogramdd\n",
      "216 : hsplit\n",
      "217 : hstack\n",
      "218 : hypot\n",
      "219 : i0\n",
      "220 : identity\n",
      "221 : iinfo\n",
      "222 : imag\n",
      "223 : in1d\n",
      "224 : index_exp\n",
      "225 : indices\n",
      "226 : inexact\n",
      "227 : inf\n",
      "228 : info\n",
      "229 : infty\n",
      "230 : inner\n",
      "231 : insert\n",
      "232 : int0\n",
      "233 : int16\n",
      "234 : int32\n",
      "235 : int64\n",
      "236 : int8\n",
      "237 : int_\n",
      "238 : intc\n",
      "239 : integer\n",
      "240 : interp\n",
      "241 : intersect1d\n",
      "242 : intp\n",
      "243 : invert\n",
      "244 : is_busday\n",
      "245 : isclose\n",
      "246 : iscomplex\n",
      "247 : iscomplexobj\n",
      "248 : isfinite\n",
      "249 : isfortran\n",
      "250 : isin\n",
      "251 : isinf\n",
      "252 : isnan\n",
      "253 : isnat\n",
      "254 : isneginf\n",
      "255 : isposinf\n",
      "256 : isreal\n",
      "257 : isrealobj\n",
      "258 : isscalar\n",
      "259 : issctype\n",
      "260 : issubclass_\n",
      "261 : issubdtype\n",
      "262 : issubsctype\n",
      "263 : iterable\n",
      "264 : ix_\n",
      "265 : kaiser\n",
      "266 : kron\n",
      "267 : lcm\n",
      "268 : ldexp\n",
      "269 : left_shift\n",
      "270 : less\n",
      "271 : less_equal\n",
      "272 : lexsort\n",
      "273 : lib\n",
      "274 : linalg\n",
      "275 : linspace\n",
      "276 : little_endian\n",
      "277 : load\n",
      "278 : loadtxt\n",
      "279 : log\n",
      "280 : log10\n",
      "281 : log1p\n",
      "282 : log2\n",
      "283 : logaddexp\n",
      "284 : logaddexp2\n",
      "285 : logical_and\n",
      "286 : logical_not\n",
      "287 : logical_or\n",
      "288 : logical_xor\n",
      "289 : logspace\n",
      "290 : longcomplex\n",
      "291 : longdouble\n",
      "292 : longfloat\n",
      "293 : longlong\n",
      "294 : lookfor\n",
      "295 : ma\n",
      "296 : mask_indices\n",
      "297 : mat\n",
      "298 : math\n",
      "299 : matmul\n",
      "300 : matrix\n",
      "301 : matrixlib\n",
      "302 : max\n",
      "303 : maximum\n",
      "304 : maximum_sctype\n",
      "305 : may_share_memory\n",
      "306 : mean\n",
      "307 : median\n",
      "308 : memmap\n",
      "309 : meshgrid\n",
      "310 : mgrid\n",
      "311 : min\n",
      "312 : min_scalar_type\n",
      "313 : minimum\n",
      "314 : mintypecode\n",
      "315 : mod\n",
      "316 : modf\n",
      "317 : moveaxis\n",
      "318 : msort\n",
      "319 : multiply\n",
      "320 : nan\n",
      "321 : nan_to_num\n",
      "322 : nanargmax\n",
      "323 : nanargmin\n",
      "324 : nancumprod\n",
      "325 : nancumsum\n",
      "326 : nanmax\n",
      "327 : nanmean\n",
      "328 : nanmedian\n",
      "329 : nanmin\n",
      "330 : nanpercentile\n",
      "331 : nanprod\n",
      "332 : nanquantile\n",
      "333 : nanstd\n",
      "334 : nansum\n",
      "335 : nanvar\n",
      "336 : nbytes\n",
      "337 : ndarray\n",
      "338 : ndenumerate\n",
      "339 : ndim\n",
      "340 : ndindex\n",
      "341 : nditer\n",
      "342 : negative\n",
      "343 : nested_iters\n",
      "344 : newaxis\n",
      "345 : nextafter\n",
      "346 : nonzero\n",
      "347 : not_equal\n",
      "348 : numarray\n",
      "349 : number\n",
      "350 : obj2sctype\n",
      "351 : object0\n",
      "352 : object_\n",
      "353 : ogrid\n",
      "354 : oldnumeric\n",
      "355 : ones\n",
      "356 : ones_like\n",
      "357 : os\n",
      "358 : outer\n",
      "359 : packbits\n",
      "360 : pad\n",
      "361 : partition\n",
      "362 : percentile\n",
      "363 : pi\n",
      "364 : piecewise\n",
      "365 : place\n",
      "366 : poly\n",
      "367 : poly1d\n",
      "368 : polyadd\n",
      "369 : polyder\n",
      "370 : polydiv\n",
      "371 : polyfit\n",
      "372 : polyint\n",
      "373 : polymul\n",
      "374 : polynomial\n",
      "375 : polysub\n",
      "376 : polyval\n",
      "377 : positive\n",
      "378 : power\n",
      "379 : printoptions\n",
      "380 : prod\n",
      "381 : product\n",
      "382 : promote_types\n",
      "383 : ptp\n",
      "384 : put\n",
      "385 : put_along_axis\n",
      "386 : putmask\n",
      "387 : quantile\n",
      "388 : rad2deg\n",
      "389 : radians\n",
      "390 : random\n",
      "391 : ravel\n",
      "392 : ravel_multi_index\n",
      "393 : real\n",
      "394 : real_if_close\n",
      "395 : rec\n",
      "396 : recarray\n",
      "397 : recfromcsv\n",
      "398 : recfromtxt\n",
      "399 : reciprocal\n",
      "400 : record\n",
      "401 : remainder\n",
      "402 : repeat\n",
      "403 : require\n",
      "404 : reshape\n",
      "405 : resize\n",
      "406 : result_type\n",
      "407 : right_shift\n",
      "408 : rint\n",
      "409 : roll\n",
      "410 : rollaxis\n",
      "411 : roots\n",
      "412 : rot90\n",
      "413 : round\n",
      "414 : round_\n",
      "415 : row_stack\n",
      "416 : safe_eval\n",
      "417 : save\n",
      "418 : savetxt\n",
      "419 : savez\n",
      "420 : savez_compressed\n",
      "421 : sctype2char\n",
      "422 : sctypeDict\n",
      "423 : sctypes\n",
      "424 : searchsorted\n",
      "425 : select\n",
      "426 : set_numeric_ops\n",
      "427 : set_printoptions\n",
      "428 : set_string_function\n",
      "429 : setbufsize\n",
      "430 : setdiff1d\n",
      "431 : seterr\n",
      "432 : seterrcall\n",
      "433 : seterrobj\n",
      "434 : setxor1d\n",
      "435 : shape\n",
      "436 : shares_memory\n",
      "437 : short\n",
      "438 : show_config\n",
      "439 : sign\n",
      "440 : signbit\n",
      "441 : signedinteger\n",
      "442 : sin\n",
      "443 : sinc\n",
      "444 : single\n",
      "445 : singlecomplex\n",
      "446 : sinh\n",
      "447 : size\n",
      "448 : sometrue\n",
      "449 : sort\n",
      "450 : sort_complex\n",
      "451 : source\n",
      "452 : spacing\n",
      "453 : split\n",
      "454 : sqrt\n",
      "455 : square\n",
      "456 : squeeze\n",
      "457 : stack\n",
      "458 : std\n",
      "459 : str0\n",
      "460 : str_\n",
      "461 : string_\n",
      "462 : subtract\n",
      "463 : sum\n",
      "464 : swapaxes\n",
      "465 : sys\n",
      "466 : take\n",
      "467 : take_along_axis\n",
      "468 : tan\n",
      "469 : tanh\n",
      "470 : tensordot\n",
      "471 : test\n",
      "472 : testing\n",
      "473 : tile\n",
      "474 : timedelta64\n",
      "475 : trace\n",
      "476 : tracemalloc_domain\n",
      "477 : transpose\n",
      "478 : trapz\n",
      "479 : tri\n",
      "480 : tril\n",
      "481 : tril_indices\n",
      "482 : tril_indices_from\n",
      "483 : trim_zeros\n",
      "484 : triu\n",
      "485 : triu_indices\n",
      "486 : triu_indices_from\n",
      "487 : true_divide\n",
      "488 : trunc\n",
      "489 : typecodes\n",
      "490 : typename\n",
      "491 : ubyte\n",
      "492 : ufunc\n",
      "493 : uint\n",
      "494 : uint0\n",
      "495 : uint16\n",
      "496 : uint32\n",
      "497 : uint64\n",
      "498 : uint8\n",
      "499 : uintc\n",
      "500 : uintp\n",
      "501 : ulonglong\n",
      "502 : unicode_\n",
      "503 : union1d\n",
      "504 : unique\n",
      "505 : unpackbits\n",
      "506 : unravel_index\n",
      "507 : unsignedinteger\n",
      "508 : unwrap\n",
      "509 : use_hugepage\n",
      "510 : ushort\n",
      "511 : vander\n",
      "512 : var\n",
      "513 : vdot\n",
      "514 : vectorize\n",
      "515 : version\n",
      "516 : void\n",
      "517 : void0\n",
      "518 : vsplit\n",
      "519 : vstack\n",
      "520 : w\n",
      "521 : warnings\n",
      "522 : where\n",
      "523 : who\n",
      "524 : zeros\n",
      "525 : zeros_like\n",
      "numpy all functions count : 526\n",
      "0 : abs\n",
      "1 : absolute\n",
      "2 : add\n",
      "3 : add_docstring\n",
      "4 : add_newdoc\n",
      "5 : add_newdoc_ufunc\n",
      "6 : all\n",
      "7 : allclose\n",
      "8 : alltrue\n",
      "9 : amax\n",
      "10 : amin\n",
      "11 : angle\n",
      "12 : any\n",
      "13 : append\n",
      "14 : apply_along_axis\n",
      "15 : apply_over_axes\n",
      "16 : arange\n",
      "17 : arccos\n",
      "18 : arccosh\n",
      "19 : arcsin\n",
      "20 : arcsinh\n",
      "21 : arctan\n",
      "22 : arctan2\n",
      "23 : arctanh\n",
      "24 : argmax\n",
      "25 : argmin\n",
      "26 : argpartition\n",
      "27 : argsort\n",
      "28 : argwhere\n",
      "29 : around\n",
      "30 : array\n",
      "31 : array2string\n",
      "32 : array_equal\n",
      "33 : array_equiv\n",
      "34 : array_repr\n",
      "35 : array_split\n",
      "36 : array_str\n",
      "37 : asanyarray\n",
      "38 : asarray\n",
      "39 : asarray_chkfinite\n",
      "40 : ascontiguousarray\n",
      "41 : asfarray\n",
      "42 : asfortranarray\n",
      "43 : asmatrix\n",
      "44 : atleast_1d\n",
      "45 : atleast_2d\n",
      "46 : atleast_3d\n",
      "47 : average\n",
      "48 : bartlett\n",
      "49 : base_repr\n",
      "50 : binary_repr\n",
      "51 : bincount\n",
      "52 : bitwise_and\n",
      "53 : bitwise_not\n",
      "54 : bitwise_or\n",
      "55 : bitwise_xor\n",
      "56 : blackman\n",
      "57 : block\n",
      "58 : bmat\n",
      "59 : bool8\n",
      "60 : bool_\n",
      "61 : broadcast\n",
      "62 : broadcast_arrays\n",
      "63 : broadcast_shapes\n",
      "64 : broadcast_to\n",
      "65 : busday_count\n",
      "66 : busday_offset\n",
      "67 : busdaycalendar\n",
      "68 : byte\n",
      "69 : byte_bounds\n",
      "70 : bytes0\n",
      "71 : bytes_\n",
      "72 : can_cast\n",
      "73 : cast\n",
      "74 : cbrt\n",
      "75 : cdouble\n",
      "76 : ceil\n",
      "77 : cfloat\n",
      "78 : char\n",
      "79 : character\n",
      "80 : chararray\n",
      "81 : choose\n",
      "82 : clip\n",
      "83 : clongdouble\n",
      "84 : clongfloat\n",
      "85 : column_stack\n",
      "86 : common_type\n",
      "87 : compare_chararrays\n",
      "88 : compat\n",
      "89 : complex128\n",
      "90 : complex256\n",
      "91 : complex64\n",
      "92 : complex_\n",
      "93 : complexfloating\n",
      "94 : compress\n",
      "95 : concatenate\n",
      "96 : conj\n",
      "97 : conjugate\n",
      "98 : convolve\n",
      "99 : copy\n",
      "100 : copysign\n",
      "101 : copyto\n",
      "102 : core\n",
      "103 : corrcoef\n",
      "104 : correlate\n",
      "105 : cos\n",
      "106 : cosh\n",
      "107 : count_nonzero\n",
      "108 : cov\n",
      "109 : cross\n",
      "110 : csingle\n",
      "111 : ctypeslib\n",
      "112 : cumprod\n",
      "113 : cumproduct\n",
      "114 : cumsum\n",
      "115 : datetime64\n",
      "116 : datetime_as_string\n",
      "117 : datetime_data\n",
      "118 : deg2rad\n",
      "119 : degrees\n",
      "120 : delete\n",
      "121 : deprecate\n",
      "122 : deprecate_with_doc\n",
      "123 : diag\n",
      "124 : diag_indices\n",
      "125 : diag_indices_from\n",
      "126 : diagflat\n",
      "127 : diagonal\n",
      "128 : diff\n",
      "129 : digitize\n",
      "130 : disp\n",
      "131 : divide\n",
      "132 : divmod\n",
      "133 : dot\n",
      "134 : double\n",
      "135 : dsplit\n",
      "136 : dstack\n",
      "137 : dtype\n",
      "138 : e\n",
      "139 : ediff1d\n",
      "140 : einsum\n",
      "141 : einsum_path\n",
      "142 : emath\n",
      "143 : empty\n",
      "144 : empty_like\n",
      "145 : equal\n",
      "146 : error_message\n",
      "147 : errstate\n",
      "148 : euler_gamma\n",
      "149 : exp\n",
      "150 : exp2\n",
      "151 : expand_dims\n",
      "152 : expm1\n",
      "153 : extract\n",
      "154 : eye\n",
      "155 : fabs\n",
      "156 : fastCopyAndTranspose\n",
      "157 : fft\n",
      "158 : fill_diagonal\n",
      "159 : find_common_type\n",
      "160 : finfo\n",
      "161 : fix\n",
      "162 : flatiter\n",
      "163 : flatnonzero\n",
      "164 : flexible\n",
      "165 : flip\n",
      "166 : fliplr\n",
      "167 : flipud\n",
      "168 : float128\n",
      "169 : float16\n",
      "170 : float32\n",
      "171 : float64\n",
      "172 : float_\n",
      "173 : float_power\n",
      "174 : floating\n",
      "175 : floor\n",
      "176 : floor_divide\n",
      "177 : fmax\n",
      "178 : fmin\n",
      "179 : fmod\n",
      "180 : format_float_positional\n",
      "181 : format_float_scientific\n",
      "182 : format_parser\n",
      "183 : frexp\n",
      "184 : from_dlpack\n",
      "185 : frombuffer\n",
      "186 : fromfile\n",
      "187 : fromfunction\n",
      "188 : fromiter\n",
      "189 : frompyfunc\n",
      "190 : fromregex\n",
      "191 : fromstring\n",
      "192 : full\n",
      "193 : full_like\n",
      "194 : gcd\n",
      "195 : generic\n",
      "196 : genfromtxt\n",
      "197 : geomspace\n",
      "198 : get_array_wrap\n",
      "199 : get_include\n",
      "200 : get_printoptions\n",
      "201 : getbufsize\n",
      "202 : geterr\n",
      "203 : geterrcall\n",
      "204 : geterrobj\n",
      "205 : gradient\n",
      "206 : greater\n",
      "207 : greater_equal\n",
      "208 : half\n",
      "209 : hamming\n",
      "210 : hanning\n",
      "211 : heaviside\n",
      "212 : histogram\n",
      "213 : histogram2d\n",
      "214 : histogram_bin_edges\n",
      "215 : histogramdd\n",
      "216 : hsplit\n",
      "217 : hstack\n",
      "218 : hypot\n",
      "219 : i0\n",
      "220 : identity\n",
      "221 : iinfo\n",
      "222 : imag\n",
      "223 : in1d\n",
      "224 : index_exp\n",
      "225 : indices\n",
      "226 : inexact\n",
      "227 : inf\n",
      "228 : info\n",
      "229 : infty\n",
      "230 : inner\n",
      "231 : insert\n",
      "232 : int0\n",
      "233 : int16\n",
      "234 : int32\n",
      "235 : int64\n",
      "236 : int8\n",
      "237 : int_\n",
      "238 : intc\n",
      "239 : integer\n",
      "240 : interp\n",
      "241 : intersect1d\n",
      "242 : intp\n",
      "243 : invert\n",
      "244 : is_busday\n",
      "245 : isclose\n",
      "246 : iscomplex\n",
      "247 : iscomplexobj\n",
      "248 : isfinite\n",
      "249 : isfortran\n",
      "250 : isin\n",
      "251 : isinf\n",
      "252 : isnan\n",
      "253 : isnat\n",
      "254 : isneginf\n",
      "255 : isposinf\n",
      "256 : isreal\n",
      "257 : isrealobj\n",
      "258 : isscalar\n",
      "259 : issctype\n",
      "260 : issubclass_\n",
      "261 : issubdtype\n",
      "262 : issubsctype\n",
      "263 : iterable\n",
      "264 : ix_\n",
      "265 : kaiser\n",
      "266 : kron\n",
      "267 : lcm\n",
      "268 : ldexp\n",
      "269 : left_shift\n",
      "270 : less\n",
      "271 : less_equal\n",
      "272 : lexsort\n",
      "273 : lib\n",
      "274 : linalg\n",
      "275 : linspace\n",
      "276 : little_endian\n",
      "277 : load\n",
      "278 : loadtxt\n",
      "279 : log\n",
      "280 : log10\n",
      "281 : log1p\n",
      "282 : log2\n",
      "283 : logaddexp\n",
      "284 : logaddexp2\n",
      "285 : logical_and\n",
      "286 : logical_not\n",
      "287 : logical_or\n",
      "288 : logical_xor\n",
      "289 : logspace\n",
      "290 : longcomplex\n",
      "291 : longdouble\n",
      "292 : longfloat\n",
      "293 : longlong\n",
      "294 : lookfor\n",
      "295 : ma\n",
      "296 : mask_indices\n",
      "297 : mat\n",
      "298 : math\n",
      "299 : matmul\n",
      "300 : matrix\n",
      "301 : matrixlib\n",
      "302 : max\n",
      "303 : maximum\n",
      "304 : maximum_sctype\n",
      "305 : may_share_memory\n",
      "306 : mean\n",
      "307 : median\n",
      "308 : memmap\n",
      "309 : meshgrid\n",
      "310 : mgrid\n",
      "311 : min\n",
      "312 : min_scalar_type\n",
      "313 : minimum\n",
      "314 : mintypecode\n",
      "315 : mod\n",
      "316 : modf\n",
      "317 : moveaxis\n",
      "318 : msort\n",
      "319 : multiply\n",
      "320 : nan\n",
      "321 : nan_to_num\n",
      "322 : nanargmax\n",
      "323 : nanargmin\n",
      "324 : nancumprod\n",
      "325 : nancumsum\n",
      "326 : nanmax\n",
      "327 : nanmean\n",
      "328 : nanmedian\n",
      "329 : nanmin\n",
      "330 : nanpercentile\n",
      "331 : nanprod\n",
      "332 : nanquantile\n",
      "333 : nanstd\n",
      "334 : nansum\n",
      "335 : nanvar\n",
      "336 : nbytes\n",
      "337 : ndarray\n",
      "338 : ndenumerate\n",
      "339 : ndim\n",
      "340 : ndindex\n",
      "341 : nditer\n",
      "342 : negative\n",
      "343 : nested_iters\n",
      "344 : newaxis\n",
      "345 : nextafter\n",
      "346 : nonzero\n",
      "347 : not_equal\n",
      "348 : numarray\n",
      "349 : number\n",
      "350 : obj2sctype\n",
      "351 : object0\n",
      "352 : object_\n",
      "353 : ogrid\n",
      "354 : oldnumeric\n",
      "355 : ones\n",
      "356 : ones_like\n",
      "357 : os\n",
      "358 : outer\n",
      "359 : packbits\n",
      "360 : pad\n",
      "361 : partition\n",
      "362 : percentile\n",
      "363 : pi\n",
      "364 : piecewise\n",
      "365 : place\n",
      "366 : poly\n",
      "367 : poly1d\n",
      "368 : polyadd\n",
      "369 : polyder\n",
      "370 : polydiv\n",
      "371 : polyfit\n",
      "372 : polyint\n",
      "373 : polymul\n",
      "374 : polynomial\n",
      "375 : polysub\n",
      "376 : polyval\n",
      "377 : positive\n",
      "378 : power\n",
      "379 : printoptions\n",
      "380 : prod\n",
      "381 : product\n",
      "382 : promote_types\n",
      "383 : ptp\n",
      "384 : put\n",
      "385 : put_along_axis\n",
      "386 : putmask\n",
      "387 : quantile\n",
      "388 : rad2deg\n",
      "389 : radians\n",
      "390 : random\n",
      "391 : ravel\n",
      "392 : ravel_multi_index\n",
      "393 : real\n",
      "394 : real_if_close\n",
      "395 : rec\n",
      "396 : recarray\n",
      "397 : recfromcsv\n",
      "398 : recfromtxt\n",
      "399 : reciprocal\n",
      "400 : record\n",
      "401 : remainder\n",
      "402 : repeat\n",
      "403 : require\n",
      "404 : reshape\n",
      "405 : resize\n",
      "406 : result_type\n",
      "407 : right_shift\n",
      "408 : rint\n",
      "409 : roll\n",
      "410 : rollaxis\n",
      "411 : roots\n",
      "412 : rot90\n",
      "413 : round\n",
      "414 : round_\n",
      "415 : row_stack\n",
      "416 : safe_eval\n",
      "417 : save\n",
      "418 : savetxt\n",
      "419 : savez\n",
      "420 : savez_compressed\n",
      "421 : sctype2char\n",
      "422 : sctypeDict\n",
      "423 : sctypes\n",
      "424 : searchsorted\n",
      "425 : select\n",
      "426 : set_numeric_ops\n",
      "427 : set_printoptions\n",
      "428 : set_string_function\n",
      "429 : setbufsize\n",
      "430 : setdiff1d\n",
      "431 : seterr\n",
      "432 : seterrcall\n",
      "433 : seterrobj\n",
      "434 : setxor1d\n",
      "435 : shape\n",
      "436 : shares_memory\n",
      "437 : short\n",
      "438 : show_config\n",
      "439 : sign\n",
      "440 : signbit\n",
      "441 : signedinteger\n",
      "442 : sin\n",
      "443 : sinc\n",
      "444 : single\n",
      "445 : singlecomplex\n",
      "446 : sinh\n",
      "447 : size\n",
      "448 : sometrue\n",
      "449 : sort\n",
      "450 : sort_complex\n",
      "451 : source\n",
      "452 : spacing\n",
      "453 : split\n",
      "454 : sqrt\n",
      "455 : square\n",
      "456 : squeeze\n",
      "457 : stack\n",
      "458 : std\n",
      "459 : str0\n",
      "460 : str_\n",
      "461 : string_\n",
      "462 : subtract\n",
      "463 : sum\n",
      "464 : swapaxes\n",
      "465 : sys\n",
      "466 : take\n",
      "467 : take_along_axis\n",
      "468 : tan\n",
      "469 : tanh\n",
      "470 : tensordot\n",
      "471 : test\n",
      "472 : testing\n",
      "473 : tile\n",
      "474 : timedelta64\n",
      "475 : trace\n",
      "476 : tracemalloc_domain\n",
      "477 : transpose\n",
      "478 : trapz\n",
      "479 : tri\n",
      "480 : tril\n",
      "481 : tril_indices\n",
      "482 : tril_indices_from\n",
      "483 : trim_zeros\n",
      "484 : triu\n",
      "485 : triu_indices\n",
      "486 : triu_indices_from\n",
      "487 : true_divide\n",
      "488 : trunc\n",
      "489 : typecodes\n",
      "490 : typename\n",
      "491 : ubyte\n",
      "492 : ufunc\n",
      "493 : uint\n",
      "494 : uint0\n",
      "495 : uint16\n",
      "496 : uint32\n",
      "497 : uint64\n",
      "498 : uint8\n",
      "499 : uintc\n",
      "500 : uintp\n",
      "501 : ulonglong\n",
      "502 : unicode_\n",
      "503 : union1d\n",
      "504 : unique\n",
      "505 : unpackbits\n",
      "506 : unravel_index\n",
      "507 : unsignedinteger\n",
      "508 : unwrap\n",
      "509 : use_hugepage\n",
      "510 : ushort\n",
      "511 : vander\n",
      "512 : var\n",
      "513 : vdot\n",
      "514 : vectorize\n",
      "515 : version\n",
      "516 : void\n",
      "517 : void0\n",
      "518 : vsplit\n",
      "519 : vstack\n",
      "520 : w\n",
      "521 : warnings\n",
      "522 : where\n",
      "523 : who\n",
      "524 : zeros\n",
      "525 : zeros_like\n"
     ]
    }
   ],
   "source": [
    "\n",
    "all_functions = [i for i in dir(np) if not '_' in (i[:2] or i[1]) and i[:1].isupper() == False]\n",
    "\n",
    "print(f\"numpy all functions count : {len(all_functions)}\")\n",
    "\n",
    "for i, v in enumerate(all_functions):\n",
    "    print(f\"{i} : {v}\")\n"
   ]
  },
  {
   "cell_type": "markdown",
   "metadata": {
    "pycharm": {
     "name": "#%% md\n"
    }
   },
   "source": [
    "## start coding"
   ]
  },
  {
   "cell_type": "code",
   "execution_count": 53,
   "metadata": {
    "pycharm": {
     "name": "#%%\n"
    }
   },
   "outputs": [
    {
     "data": {
      "text/plain": "array([1, 2, 3, 4, 5])"
     },
     "execution_count": 46,
     "metadata": {},
     "output_type": "execute_result"
    },
    {
     "data": {
      "text/plain": "array([1, 2, 3, 4, 5])"
     },
     "execution_count": 53,
     "metadata": {},
     "output_type": "execute_result"
    }
   ],
   "source": [
    "#first function is np.abs\n",
    "\n",
    "array = np.array([-1, -2, -3, -4, -5])\n",
    "np.absolute(array) # or np.abs(array)\n"
   ]
  },
  {
   "cell_type": "code",
   "execution_count": 54,
   "outputs": [
    {
     "data": {
      "text/plain": "array([[ 0,  2,  4],\n       [ 3,  5,  7],\n       [ 6,  8, 10]])"
     },
     "execution_count": 47,
     "metadata": {},
     "output_type": "execute_result"
    },
    {
     "data": {
      "text/plain": "array([[ 0,  2,  4],\n       [ 3,  5,  7],\n       [ 6,  8, 10]])"
     },
     "execution_count": 54,
     "metadata": {},
     "output_type": "execute_result"
    }
   ],
   "source": [
    "\n",
    "#second function is np.add\n",
    "\n",
    "a1 = 123\n",
    "a2 = 321\n",
    "np.add(a1, a2)\n",
    "\n",
    "array1 = np.array([0,1,2,3,4,5,6,7,8]).reshape(3,3)\n",
    "array2 = np.array([0,1,2])\n",
    "\n",
    "np.add(array1, array2)\n"
   ],
   "metadata": {
    "collapsed": false,
    "pycharm": {
     "name": "#%%\n"
    }
   }
  },
  {
   "cell_type": "code",
   "execution_count": 55,
   "outputs": [
    {
     "name": "stdout",
     "output_type": "stream",
     "text": [
      "this is documentation string\n",
      "this is documentation string\n"
     ]
    }
   ],
   "source": [
    "\n",
    "#third function is np.add_docstring\n",
    "\n",
    "def func():\n",
    "    # \"\"\"\n",
    "    # you need write doc string here\n",
    "    # \"\"\"\n",
    "    return \"there is not any documentation string. please add documentation string\"\n",
    "\n",
    "np.add_docstring(func, \"this is documentation string\")\n",
    "\n",
    "print(func.__doc__)\n"
   ],
   "metadata": {
    "collapsed": false,
    "pycharm": {
     "name": "#%%\n"
    }
   }
  },
  {
   "cell_type": "code",
   "execution_count": 56,
   "outputs": [
    {
     "ename": "ModuleNotFoundError",
     "evalue": "No module named 'example'",
     "output_type": "error",
     "traceback": [
      "\u001B[0;31m---------------------------------------------------------------------------\u001B[0m",
      "\u001B[0;31mModuleNotFoundError\u001B[0m                       Traceback (most recent call last)",
      "Cell \u001B[0;32mIn [49], line 13\u001B[0m\n\u001B[1;32m      1\u001B[0m \u001B[38;5;66;03m# fourth function is np.add_newdoc\u001B[39;00m\n\u001B[1;32m      2\u001B[0m \n\u001B[1;32m      3\u001B[0m \u001B[38;5;66;03m#create example.py and write in it the code\u001B[39;00m\n\u001B[0;32m   (...)\u001B[0m\n\u001B[1;32m     11\u001B[0m \n\u001B[1;32m     12\u001B[0m \u001B[38;5;66;03m#and write in main.py the codes\u001B[39;00m\n\u001B[0;32m---> 13\u001B[0m \u001B[38;5;28;01mimport\u001B[39;00m \u001B[38;5;21;01mexample\u001B[39;00m\n\u001B[1;32m     14\u001B[0m np\u001B[38;5;241m.\u001B[39madd_newdoc(\u001B[38;5;124m'\u001B[39m\u001B[38;5;124mexample\u001B[39m\u001B[38;5;124m'\u001B[39m, \u001B[38;5;124m'\u001B[39m\u001B[38;5;124mNew\u001B[39m\u001B[38;5;124m'\u001B[39m, \u001B[38;5;124m\"\u001B[39m\u001B[38;5;124mthis is a new docstring\u001B[39m\u001B[38;5;124m\"\u001B[39m)\n\u001B[1;32m     15\u001B[0m \u001B[38;5;28mprint\u001B[39m(example\u001B[38;5;241m.\u001B[39mNew\u001B[38;5;241m.\u001B[39m\u001B[38;5;18m__doc__\u001B[39m)\n",
      "\u001B[0;31mModuleNotFoundError\u001B[0m: No module named 'example'"
     ]
    },
    {
     "ename": "ModuleNotFoundError",
     "evalue": "No module named 'example'",
     "output_type": "error",
     "traceback": [
      "\u001B[0;31m---------------------------------------------------------------------------\u001B[0m",
      "\u001B[0;31mModuleNotFoundError\u001B[0m                       Traceback (most recent call last)",
      "Cell \u001B[0;32mIn [56], line 13\u001B[0m\n\u001B[1;32m      1\u001B[0m \u001B[38;5;66;03m# fourth function is np.add_newdoc\u001B[39;00m\n\u001B[1;32m      2\u001B[0m \n\u001B[1;32m      3\u001B[0m \u001B[38;5;66;03m#create example.py and write in it the code\u001B[39;00m\n\u001B[0;32m   (...)\u001B[0m\n\u001B[1;32m     11\u001B[0m \n\u001B[1;32m     12\u001B[0m \u001B[38;5;66;03m#and write in main.py the codes\u001B[39;00m\n\u001B[0;32m---> 13\u001B[0m \u001B[38;5;28;01mimport\u001B[39;00m \u001B[38;5;21;01mexample\u001B[39;00m\n\u001B[1;32m     14\u001B[0m np\u001B[38;5;241m.\u001B[39madd_newdoc(\u001B[38;5;124m'\u001B[39m\u001B[38;5;124mexample\u001B[39m\u001B[38;5;124m'\u001B[39m, \u001B[38;5;124m'\u001B[39m\u001B[38;5;124mNew\u001B[39m\u001B[38;5;124m'\u001B[39m, \u001B[38;5;124m\"\u001B[39m\u001B[38;5;124mthis is a new docstring\u001B[39m\u001B[38;5;124m\"\u001B[39m)\n\u001B[1;32m     15\u001B[0m \u001B[38;5;28mprint\u001B[39m(example\u001B[38;5;241m.\u001B[39mNew\u001B[38;5;241m.\u001B[39m\u001B[38;5;18m__doc__\u001B[39m)\n",
      "\u001B[0;31mModuleNotFoundError\u001B[0m: No module named 'example'"
     ]
    }
   ],
   "source": [
    "\n",
    "# fourth function is np.add_newdoc\n",
    "\n",
    "#create example.py and write in it the code\n",
    "                                            # class New:\n",
    "                                            #     def __init__(self, a):\n",
    "                                            #         self.a = a\n",
    "                                            #\n",
    "                                            #     def main(self):\n",
    "                                            #         return \"docs iqrorjon\"\n",
    "\n",
    "\n",
    "#and write in main.py the codes\n",
    "import example\n",
    "np.add_newdoc('example', 'New', \"this is a new docstring\")\n",
    "print(example.New.__doc__)\n",
    "\n"
   ],
   "metadata": {
    "collapsed": false,
    "pycharm": {
     "name": "#%%\n"
    }
   }
  },
  {
   "cell_type": "code",
   "execution_count": null,
   "metadata": {
    "pycharm": {
     "name": "#%%\n"
    }
   },
   "outputs": [],
   "source": [
    "\n",
    "# fifth function is np.add_newdoc_ufunc\n",
    "np.add_newdoc_ufunc(np.multiply, \"this is a new string\")\n",
    "print(np.multiply.__doc__)\n"
   ]
  },
  {
   "cell_type": "code",
   "execution_count": null,
   "metadata": {
    "pycharm": {
     "name": "#%%\n"
    }
   },
   "outputs": [],
   "source": [
    "\n",
    "#sixth function is np.all\n",
    "\n",
    "array1 = np.array([[True, False],\n",
    "                   [True, True]])\n",
    "print(np.all(array1))\n",
    "print(np.all(array1, axis=1)) # axis=1 is horizontal"
   ]
  },
  {
   "cell_type": "code",
   "execution_count": null,
   "metadata": {
    "pycharm": {
     "name": "#%%\n"
    }
   },
   "outputs": [],
   "source": [
    "\n",
    "#seventh function is np.allclose\n",
    "\n",
    "print(np.allclose([1.0, -2.0], [1.0, -2.0]))\n",
    "\n",
    "print(np.allclose([2.0, 3.0], [3.0, 2.0]))\n"
   ]
  },
  {
   "cell_type": "code",
   "execution_count": null,
   "metadata": {
    "pycharm": {
     "name": "#%%\n"
    }
   },
   "outputs": [],
   "source": [
    "\n",
    "# eighth function is np.alltrue\n",
    "\n",
    "array1 = np.array([True,1,2,3,4,5])\n",
    "array2 = np.array([False,1,2,3,4,5])\n",
    "\n",
    "print(np.alltrue(array1))\n",
    "print(np.alltrue(array2))\n"
   ]
  },
  {
   "cell_type": "code",
   "execution_count": null,
   "metadata": {
    "pycharm": {
     "name": "#%%\n"
    }
   },
   "outputs": [],
   "source": [
    "\n",
    "# ninth function is np.amax\n",
    "\n",
    "array = np.array([[1,2,3],\n",
    "                  [4,5,6],\n",
    "                  [7,8,9]])\n",
    "\n",
    "print(np.amax(array))\n",
    "print(np.amax(array, axis=0))\n",
    "print(np.amax(array, axis=1))\n"
   ]
  },
  {
   "cell_type": "code",
   "execution_count": null,
   "metadata": {
    "pycharm": {
     "name": "#%%\n"
    }
   },
   "outputs": [],
   "source": [
    "\n",
    "# tenth function is np.amin\n",
    "\n",
    "array = np.array([[1,2,3],\n",
    "                  [4,5,6],\n",
    "                  [7,8,9]])\n",
    "\n",
    "print(np.amin(array))\n",
    "print(np.amin(array, axis=0))\n",
    "print(np.amin(array, axis=1))\n"
   ]
  },
  {
   "cell_type": "code",
   "execution_count": null,
   "metadata": {
    "pycharm": {
     "name": "#%%\n"
    }
   },
   "outputs": [],
   "source": [
    "# eleventh function is np.angle\n",
    "\n",
    "np.angle([1.0, 1.0j, 1+1j])\n"
   ]
  },
  {
   "cell_type": "code",
   "execution_count": null,
   "metadata": {
    "pycharm": {
     "name": "#%%\n"
    }
   },
   "outputs": [],
   "source": [
    "\n",
    "# twelfth function is np.any\n",
    "\n",
    "array1 = np.array([False, False, False])\n",
    "array2 = np.array([True, False, False])\n",
    "\n",
    "print(np.any(array1))\n",
    "print(np.any(array2))\n"
   ]
  },
  {
   "cell_type": "code",
   "execution_count": null,
   "metadata": {
    "pycharm": {
     "name": "#%%\n"
    }
   },
   "outputs": [],
   "source": [
    "\n",
    "# thirteenth function is np.append\n",
    "\n",
    "array = np.array([[1,2,3],\n",
    "                  [4,5,6]])\n",
    "\n",
    "np.append(array, [[7,8,9]], axis=0)\n",
    "\n"
   ]
  },
  {
   "cell_type": "code",
   "execution_count": null,
   "metadata": {
    "pycharm": {
     "name": "#%%\n"
    }
   },
   "outputs": [],
   "source": [
    "\n",
    "# fourteenth function is np.apply_along_axis\n",
    "\n",
    "def func(arr):\n",
    "    return arr[0] * 10\n",
    "\n",
    "array = np.array([[1,2,3],\n",
    "                  [4,5,6]])\n",
    "\n",
    "np.apply_along_axis(func, 1, array)\n"
   ]
  },
  {
   "cell_type": "code",
   "execution_count": null,
   "metadata": {
    "pycharm": {
     "name": "#%%\n"
    }
   },
   "outputs": [],
   "source": [
    "\n",
    "# fifteenth function is np.apply_over_axes\n",
    "\n",
    "def func(arr, axis):\n",
    "    return arr[axis]*10\n",
    "\n",
    "array = np.array([[[1,2],\n",
    "                   [3,4]],\n",
    "                  [[5,6],\n",
    "                   [7,8]]])\n",
    "\n",
    "np.apply_over_axes(func, array, [1, 1])\n"
   ]
  },
  {
   "cell_type": "code",
   "execution_count": null,
   "metadata": {
    "pycharm": {
     "name": "#%%\n"
    }
   },
   "outputs": [],
   "source": [
    "\n",
    "# sixteenth function is np.arange\n",
    "array = np.arange(start=1, stop=10, step=1, dtype='float')\n",
    "array\n"
   ]
  },
  {
   "cell_type": "code",
   "execution_count": null,
   "metadata": {
    "pycharm": {
     "name": "#%%\n"
    }
   },
   "outputs": [],
   "source": [
    "\n",
    "#seventeenth function is np.arccos\n",
    "\n",
    "np.arccos([1,-1,0])\n"
   ]
  },
  {
   "cell_type": "code",
   "execution_count": null,
   "metadata": {
    "pycharm": {
     "name": "#%%\n"
    }
   },
   "outputs": [],
   "source": [
    "\n",
    "#eighteenth function is np.arccosh\n",
    "\n",
    "np.arccosh([4,2,3])\n"
   ]
  },
  {
   "cell_type": "code",
   "execution_count": null,
   "metadata": {
    "pycharm": {
     "name": "#%%\n"
    }
   },
   "outputs": [],
   "source": [
    "\n",
    "#nineteenth function is np.arcsin\n",
    "\n",
    "np.arcsin([-1, 0, 1])\n"
   ]
  },
  {
   "cell_type": "code",
   "execution_count": null,
   "metadata": {
    "pycharm": {
     "name": "#%%\n"
    }
   },
   "outputs": [],
   "source": [
    "\n",
    "#twentieth function is np.arcsinh\n",
    "np.arcsinh([1,2,3])\n"
   ]
  },
  {
   "cell_type": "code",
   "execution_count": null,
   "outputs": [],
   "source": [
    "\n",
    "#twenty first function is np.arctan\n",
    "\n",
    "np.arctan([1,2,3])\n"
   ],
   "metadata": {
    "collapsed": false,
    "pycharm": {
     "name": "#%%\n"
    }
   }
  },
  {
   "cell_type": "code",
   "execution_count": null,
   "outputs": [],
   "source": [
    "\n",
    "#twenty second function is np.arctan2\n",
    "\n",
    "array1 = np.array([1,2,-1])\n",
    "array2 = np.array([-1,-2,1])\n",
    "np.arctan2(array1, array2)\n"
   ],
   "metadata": {
    "collapsed": false,
    "pycharm": {
     "name": "#%%\n"
    }
   }
  },
  {
   "cell_type": "code",
   "execution_count": null,
   "outputs": [],
   "source": [
    "\n",
    "#twenty third function is np.arctanh\n",
    "\n",
    "np.arctanh([0.1, -0.6])\n"
   ],
   "metadata": {
    "collapsed": false,
    "pycharm": {
     "name": "#%%\n"
    }
   }
  },
  {
   "cell_type": "code",
   "execution_count": null,
   "outputs": [],
   "source": [
    "\n",
    "#twenty fourth function is np.argmax\n",
    "\n",
    "array = np.arange(10).reshape(5,2)*11\n",
    "\n",
    "print(array)\n",
    "np.argmax(array, axis=0)\n"
   ],
   "metadata": {
    "collapsed": false,
    "pycharm": {
     "name": "#%%\n"
    }
   }
  },
  {
   "cell_type": "code",
   "execution_count": null,
   "outputs": [],
   "source": [
    "\n",
    "#twenty fifth function is np.argmin\n",
    "\n",
    "array = np.arange(1, 11).reshape(5,2)*10\n",
    "print(array)\n",
    "np.argmin(array, axis=0)"
   ],
   "metadata": {
    "collapsed": false,
    "pycharm": {
     "name": "#%%\n"
    }
   }
  },
  {
   "cell_type": "code",
   "execution_count": null,
   "outputs": [],
   "source": [
    "\n",
    "#twenty sixth function is np.argpartition\n",
    "array = np.array([-1,1,2,3,4,5])\n",
    "\n",
    "print(np.argpartition(array, 1))\n",
    "print(np.argpartition(array, 5))\n"
   ],
   "metadata": {
    "collapsed": false,
    "pycharm": {
     "name": "#%%\n"
    }
   }
  },
  {
   "cell_type": "code",
   "execution_count": null,
   "outputs": [],
   "source": [
    "\n",
    "#twenty seventh function is np.argsort\n",
    "\n",
    "array = np.array([3,4,2,1,0])\n",
    "print(array[np.argsort(array)])\n",
    "\n",
    "array1 = np.array([[3,2,5],\n",
    "                   [6,1,0],\n",
    "                   [5,8,1]])\n",
    "\n",
    "sorted_arr_index = np.argsort(array1, axis=1)\n",
    "print(sorted_arr_index)\n"
   ],
   "metadata": {
    "collapsed": false,
    "pycharm": {
     "name": "#%%\n"
    }
   }
  },
  {
   "cell_type": "code",
   "execution_count": null,
   "outputs": [],
   "source": [
    "\n",
    "#twenty eighth function is np.argwhere\n",
    "\n",
    "array = np.array([[1,2,3],\n",
    "                  [4,5,6],\n",
    "                  [7,8,9]])\n",
    "\n",
    "np.argwhere(array==5).flatten()\n"
   ],
   "metadata": {
    "collapsed": false,
    "pycharm": {
     "name": "#%%\n"
    }
   }
  },
  {
   "cell_type": "code",
   "execution_count": null,
   "outputs": [],
   "source": [
    "\n",
    "#twenty nineth function is np.around\n",
    "\n",
    "array = np.array([1.82345, 3.42325, 5.24642])\n",
    "\n",
    "np.round(array, decimals=2)\n"
   ],
   "metadata": {
    "collapsed": false,
    "pycharm": {
     "name": "#%%\n"
    }
   }
  },
  {
   "cell_type": "code",
   "execution_count": null,
   "outputs": [],
   "source": [
    "\n",
    "#thirty function is np.array\n",
    "\n",
    "array = np.array([1,2,3,4,5])\n",
    "array"
   ],
   "metadata": {
    "collapsed": false,
    "pycharm": {
     "name": "#%%\n"
    }
   }
  },
  {
   "cell_type": "code",
   "execution_count": null,
   "outputs": [],
   "source": [
    "\n",
    "#thirty first function is np.array2string\n",
    "\n",
    "array = np.arange(100)\n",
    "np.array2string(array, separator=' \\n ')\n"
   ],
   "metadata": {
    "collapsed": false,
    "pycharm": {
     "name": "#%%\n"
    }
   }
  },
  {
   "cell_type": "code",
   "execution_count": null,
   "outputs": [],
   "source": [
    "\n",
    "#thirty second function is np.array_equal\n",
    "\n",
    "array1 = np.array([1,2,-1])\n",
    "array2 = np.array([1,2,-1])\n",
    "\n",
    "np.array_equal(array1, array2)\n"
   ],
   "metadata": {
    "collapsed": false,
    "pycharm": {
     "name": "#%%\n"
    }
   }
  },
  {
   "cell_type": "code",
   "execution_count": null,
   "outputs": [],
   "source": [
    "\n",
    "#thirty third function is np.array_equiv\n",
    "\n",
    "print(np.array_equiv([1,2,-4], [1,2,-4]))\n",
    "print(np.array_equiv([1,2,-4], [[1,2,-4]]))"
   ],
   "metadata": {
    "collapsed": false,
    "pycharm": {
     "name": "#%%\n"
    }
   }
  },
  {
   "cell_type": "code",
   "execution_count": null,
   "outputs": [],
   "source": [
    "\n",
    "#thirty fourth function is np.array_repr\n",
    "\n",
    "array = np.array([1,2,3,-1,-1j])\n",
    "\n",
    "np.array_repr(array)\n"
   ],
   "metadata": {
    "collapsed": false,
    "pycharm": {
     "name": "#%%\n"
    }
   }
  },
  {
   "cell_type": "code",
   "execution_count": null,
   "outputs": [],
   "source": [
    "\n",
    "#thirty fifth function is np.array_split\n",
    "\n",
    "array = np.arange(1, 6)\n",
    "\n",
    "np.array_split(array, 3)\n"
   ],
   "metadata": {
    "collapsed": false,
    "pycharm": {
     "name": "#%%\n"
    }
   }
  },
  {
   "cell_type": "code",
   "execution_count": null,
   "outputs": [],
   "source": [
    "\n",
    "#thirty sixth function is np.array_str\n",
    "\n",
    "array = np.array([-1,2,3,-4])\n",
    "\n",
    "np.array_str(array)\n"
   ],
   "metadata": {
    "collapsed": false,
    "pycharm": {
     "name": "#%%\n"
    }
   }
  },
  {
   "cell_type": "code",
   "execution_count": null,
   "outputs": [],
   "source": [
    "\n",
    "#thirty seventh function is np.asanyarray\n",
    "\n",
    "array = [1,2,3,4,45]\n",
    "\n",
    "print(type(np.asanyarray(array)))\n",
    "np.asanyarray(array)\n"
   ],
   "metadata": {
    "collapsed": false,
    "pycharm": {
     "name": "#%%\n"
    }
   }
  },
  {
   "cell_type": "code",
   "execution_count": null,
   "outputs": [],
   "source": [
    "\n",
    "#thirty eighth function is np.asarray\n",
    "\n",
    "array2 = [1,2,3]\n",
    "np.asarray(array2)"
   ],
   "metadata": {
    "collapsed": false,
    "pycharm": {
     "name": "#%%\n"
    }
   }
  },
  {
   "cell_type": "code",
   "execution_count": null,
   "outputs": [],
   "source": [
    "\n",
    "#thirty nineth function is np.asarray_chkfinite\n",
    "\n",
    "array = [1,2,np.inf]\n",
    "\n",
    "try:\n",
    "    print(np.asarray_chkfinite(array))\n",
    "except:\n",
    "    print('it has inf number or numpy nan')\n",
    "    print(\"ValueError\")\n"
   ],
   "metadata": {
    "collapsed": false,
    "pycharm": {
     "name": "#%%\n"
    }
   }
  },
  {
   "cell_type": "code",
   "execution_count": null,
   "outputs": [],
   "source": [
    "\n",
    "#fourty function is np.ascontiguousarray\n",
    "\n",
    "array = [1,2,3,4]\n",
    "\n",
    "array = np.ascontiguousarray(array)\n",
    "array.flags\n"
   ],
   "metadata": {
    "collapsed": false,
    "pycharm": {
     "name": "#%%\n"
    }
   }
  },
  {
   "cell_type": "code",
   "execution_count": null,
   "outputs": [],
   "source": [
    "\n",
    "#fourty first function is np.asfarray\n",
    "\n",
    "array = [1,2,3,4,5]\n",
    "print(np.asfarray(array))\n",
    "print(np.asfarray(array).dtype)\n"
   ],
   "metadata": {
    "collapsed": false,
    "pycharm": {
     "name": "#%%\n"
    }
   }
  },
  {
   "cell_type": "code",
   "execution_count": null,
   "outputs": [],
   "source": [
    "\n",
    "#fourty second function is np.asfortranarray\n",
    "\n",
    "array = [1,2,3,4,5]\n",
    "\n",
    "print(np.asfortranarray(array))\n",
    "print(np.asfortranarray(array).flags)\n"
   ],
   "metadata": {
    "collapsed": false,
    "pycharm": {
     "name": "#%%\n"
    }
   }
  },
  {
   "cell_type": "code",
   "execution_count": null,
   "outputs": [],
   "source": [
    "\n",
    "#fourty third function is np.asmatrix\n",
    "\n",
    "array = np.array([[1,2,3],\n",
    "                  [5,6,7]])\n",
    "\n",
    "array2 = np.asmatrix(array)\n",
    "array2\n"
   ],
   "metadata": {
    "collapsed": false,
    "pycharm": {
     "name": "#%%\n"
    }
   }
  },
  {
   "cell_type": "code",
   "execution_count": null,
   "outputs": [],
   "source": [
    "\n",
    "#fourty fourth function is np.atleast_1d\n",
    "\n",
    "array = np.array([1.0, 2.0, 3.0])\n",
    "np.atleast_1d(array)\n"
   ],
   "metadata": {
    "collapsed": false,
    "pycharm": {
     "name": "#%%\n"
    }
   }
  },
  {
   "cell_type": "code",
   "execution_count": null,
   "outputs": [],
   "source": [
    "\n",
    "#fourty fifth function is np.atleast_2d\n",
    "np.atleast_2d(1.0, 2.0, 3.0)\n"
   ],
   "metadata": {
    "collapsed": false,
    "pycharm": {
     "name": "#%%\n"
    }
   }
  },
  {
   "cell_type": "code",
   "execution_count": null,
   "outputs": [],
   "source": [
    "\n",
    "#fourty sixth function is np.atleast_3d\n",
    "\n",
    "print(np.atleast_3d(11))\n",
    "print(np.atleast_3d(1,2,3))"
   ],
   "metadata": {
    "collapsed": false,
    "pycharm": {
     "name": "#%%\n"
    }
   }
  },
  {
   "cell_type": "code",
   "execution_count": null,
   "outputs": [],
   "source": [
    "\n",
    "#fourty seventh function is np.average\n",
    "\n",
    "array1 = np.arange(1, 16).reshape(3,5)\n",
    "print(array1)\n",
    "print(np.average(array1, axis=1))\n"
   ],
   "metadata": {
    "collapsed": false,
    "pycharm": {
     "name": "#%%\n"
    }
   }
  },
  {
   "cell_type": "code",
   "execution_count": null,
   "outputs": [],
   "source": [
    "\n",
    "#fourty eighth function is np.bartlett\n",
    "\n",
    "print(np.bartlett(10))\n",
    "print(np.bartlett(10).round(2)*100)\n"
   ],
   "metadata": {
    "collapsed": false,
    "pycharm": {
     "name": "#%%\n"
    }
   }
  },
  {
   "cell_type": "code",
   "execution_count": null,
   "outputs": [],
   "source": [
    "\n",
    "#fourty nineth function is np.base_repr\n",
    "for i in range(10):\n",
    "    print(np.base_repr(i))\n"
   ],
   "metadata": {
    "collapsed": false,
    "pycharm": {
     "name": "#%%\n"
    }
   }
  },
  {
   "cell_type": "code",
   "execution_count": null,
   "outputs": [],
   "source": [
    "\n",
    "#fifty function is np.binary_repr\n",
    "\n",
    "for i in range(10):\n",
    "    print(np.binary_repr(i, width=2))\n"
   ],
   "metadata": {
    "collapsed": false,
    "pycharm": {
     "name": "#%%\n"
    }
   }
  },
  {
   "cell_type": "code",
   "execution_count": null,
   "outputs": [],
   "source": [
    "\n",
    "#fifty first function is np.bincount\n",
    "array = np.array([1,2,3,4,1])\n",
    "print(np.bincount(array))\n"
   ],
   "metadata": {
    "collapsed": false,
    "pycharm": {
     "name": "#%%\n"
    }
   }
  },
  {
   "cell_type": "code",
   "execution_count": null,
   "outputs": [],
   "source": [
    "\n",
    "#fifty second function is np.bitwise_and\n",
    "\n",
    "np.bitwise_and([True, False], [True, True])\n"
   ],
   "metadata": {
    "collapsed": false,
    "pycharm": {
     "name": "#%%\n"
    }
   }
  },
  {
   "cell_type": "code",
   "execution_count": null,
   "outputs": [],
   "source": [
    "\n",
    "#fifty third function is np.bitwise_not\n",
    "\n",
    "print(np.bitwise_not is np.invert)\n",
    "\n",
    "np.invert(3)\n"
   ],
   "metadata": {
    "collapsed": false,
    "pycharm": {
     "name": "#%%\n"
    }
   }
  },
  {
   "cell_type": "code",
   "execution_count": null,
   "outputs": [],
   "source": [
    "\n",
    "#fifty fourth function is np.bitwise_or\n",
    "\n",
    "np.bitwise_or([True, False], [True, True])\n"
   ],
   "metadata": {
    "collapsed": false,
    "pycharm": {
     "name": "#%%\n"
    }
   }
  },
  {
   "cell_type": "code",
   "execution_count": null,
   "outputs": [],
   "source": [
    "\n",
    "#fifty fifth function is np.bitwise_xor\n",
    "\n",
    "np.bitwise_xor([True, True], [False, True])\n"
   ],
   "metadata": {
    "collapsed": false,
    "pycharm": {
     "name": "#%%\n"
    }
   }
  },
  {
   "cell_type": "code",
   "execution_count": null,
   "outputs": [],
   "source": [
    "\n",
    "#fifty sixth function is np.blackman\n",
    "import matplotlib.pyplot as plt\n",
    "\n",
    "x = np.blackman(20)\n",
    "plt.plot(x)\n",
    "plt.title(\"this is blackman array plotting\")\n",
    "plt.show()\n"
   ],
   "metadata": {
    "collapsed": false,
    "pycharm": {
     "name": "#%%\n"
    }
   }
  },
  {
   "cell_type": "code",
   "execution_count": null,
   "outputs": [],
   "source": [
    "\n",
    "#fifty seventh function is np.block\n",
    "\n",
    "np.block([np.eye(5), np.ones(5).reshape(5, -1),\n",
    "          np.eye(5)*3])\n"
   ],
   "metadata": {
    "collapsed": false,
    "pycharm": {
     "name": "#%%\n"
    }
   }
  },
  {
   "cell_type": "code",
   "execution_count": null,
   "outputs": [],
   "source": [
    "\n",
    "#fifty eighth function is np.bmat\n",
    "\n",
    "x = np.mat('1 1 1 3')\n",
    "y = np.mat('4 4 2 1')\n",
    "np.bmat([[x], [y]])\n"
   ],
   "metadata": {
    "collapsed": false,
    "pycharm": {
     "name": "#%%\n"
    }
   }
  },
  {
   "cell_type": "code",
   "execution_count": null,
   "outputs": [],
   "source": [
    "\n",
    "#fifty ninth function is np.bool8\n",
    "\n",
    "x = np.array([1,2,3,0])\n",
    "np.bool8(x)\n"
   ],
   "metadata": {
    "collapsed": false,
    "pycharm": {
     "name": "#%%\n"
    }
   }
  },
  {
   "cell_type": "code",
   "execution_count": null,
   "outputs": [],
   "source": [
    "\n",
    "#sixty function is np.bool_\n",
    "\n",
    "a = np.bool_(True)\n",
    "b = True\n",
    "np.array([a is True, b is True], dtype=bool)\n"
   ],
   "metadata": {
    "collapsed": false,
    "pycharm": {
     "name": "#%%\n"
    }
   }
  },
  {
   "cell_type": "code",
   "execution_count": null,
   "outputs": [],
   "source": [
    "\n",
    "#sixty first function is np.broadcast\n",
    "\n",
    "[i for i in np.broadcast([1], [2])]\n"
   ],
   "metadata": {
    "collapsed": false,
    "pycharm": {
     "name": "#%%\n"
    }
   }
  },
  {
   "cell_type": "code",
   "execution_count": null,
   "outputs": [],
   "source": [
    "\n",
    "#sixty second function is np.broadcast_arrays\n",
    "\n",
    "np.broadcast_arrays([[1,2,3]], [[4],[5]])\n"
   ],
   "metadata": {
    "collapsed": false,
    "pycharm": {
     "name": "#%%\n"
    }
   }
  },
  {
   "cell_type": "code",
   "execution_count": null,
   "outputs": [],
   "source": [
    "\n",
    "#sixty third function is np.broadcast_shapes\n",
    "\n",
    "np.broadcast_shapes((1,2), (2,1))\n"
   ],
   "metadata": {
    "collapsed": false,
    "pycharm": {
     "name": "#%%\n"
    }
   }
  },
  {
   "cell_type": "code",
   "execution_count": null,
   "outputs": [],
   "source": [
    "\n",
    "#sixty fourth function is np.broadcast_to\n",
    "\n",
    "x = np.array([1,2,3])\n",
    "np.broadcast_to(x, (4,3))\n"
   ],
   "metadata": {
    "collapsed": false,
    "pycharm": {
     "name": "#%%\n"
    }
   }
  },
  {
   "cell_type": "code",
   "execution_count": null,
   "outputs": [],
   "source": [
    "\n",
    "#sixty fifth function is np.busday_count\n",
    "\n",
    "np.busday_count('2022-09', '2022-10')\n"
   ],
   "metadata": {
    "collapsed": false,
    "pycharm": {
     "name": "#%%\n"
    }
   }
  },
  {
   "cell_type": "code",
   "execution_count": null,
   "outputs": [],
   "source": [
    "\n",
    "#sixty sixth function is np.busday_offset\n",
    "\n",
    "np.busday_offset('2022-09', -6, roll='forward')\n"
   ],
   "metadata": {
    "collapsed": false,
    "pycharm": {
     "name": "#%%\n"
    }
   }
  },
  {
   "cell_type": "code",
   "execution_count": null,
   "outputs": [],
   "source": [
    "\n",
    "#sixty seventh function is np.busdaycalendar\n",
    "\n",
    "x = np.busdaycalendar(\n",
    "            holidays=['2022-09-03', '2022-09-10', '2022-09-30'])\n",
    "# Default is Monday to Friday weekdays\n",
    "\n",
    "print(x.weekmask)\n",
    "print(x.holidays)"
   ],
   "metadata": {
    "collapsed": false,
    "pycharm": {
     "name": "#%%\n"
    }
   }
  },
  {
   "cell_type": "code",
   "execution_count": null,
   "outputs": [],
   "source": [
    "\n",
    "#sixty eighth function is np.byte\n",
    "np.byte([1,2,3])\n"
   ],
   "metadata": {
    "collapsed": false,
    "pycharm": {
     "name": "#%%\n"
    }
   }
  },
  {
   "cell_type": "code",
   "execution_count": null,
   "outputs": [],
   "source": [
    "\n",
    "#sixty ninth function is np.byte_bounds\n",
    "\n",
    "np.byte_bounds(np.array([[1],[2]]))\n"
   ],
   "metadata": {
    "collapsed": false,
    "pycharm": {
     "name": "#%%\n"
    }
   }
  },
  {
   "cell_type": "code",
   "execution_count": null,
   "outputs": [],
   "source": [
    "\n",
    "#seventy function is np.bytes0\n",
    "np.bytes0(np.array([1, 2]))\n"
   ],
   "metadata": {
    "collapsed": false,
    "pycharm": {
     "name": "#%%\n"
    }
   }
  },
  {
   "cell_type": "code",
   "execution_count": null,
   "outputs": [],
   "source": [
    "\n",
    "#seventy first function is np.bytes_\n",
    "\n",
    "np.bytes_([1, 2])\n"
   ],
   "metadata": {
    "collapsed": false,
    "pycharm": {
     "name": "#%%\n"
    }
   }
  },
  {
   "cell_type": "code",
   "execution_count": null,
   "outputs": [],
   "source": [
    "\n",
    "#seventy second function is np.can_cast\n",
    "\n",
    "print(np.can_cast(np.int32, np.float32))\n",
    "print(np.can_cast(np.int32, np.complex))\n"
   ],
   "metadata": {
    "collapsed": false,
    "pycharm": {
     "name": "#%%\n"
    }
   }
  },
  {
   "cell_type": "code",
   "execution_count": null,
   "outputs": [],
   "source": [
    "\n",
    "#seventy third function is np.cast\n",
    "\n",
    "np.cast['float']\n"
   ],
   "metadata": {
    "collapsed": false,
    "pycharm": {
     "name": "#%%\n"
    }
   }
  },
  {
   "cell_type": "code",
   "execution_count": null,
   "outputs": [],
   "source": [
    "\n",
    "#seventy fourth function is np.cbrt\n",
    "\n",
    "np.cbrt([8, 27])\n"
   ],
   "metadata": {
    "collapsed": false,
    "pycharm": {
     "name": "#%%\n"
    }
   }
  },
  {
   "cell_type": "code",
   "execution_count": null,
   "outputs": [],
   "source": [
    "\n",
    "#seventy fifth function is np.cdouble\n",
    "\n",
    "x = np.cdouble(12)\n",
    "print(x)\n",
    "print(x.dtype)"
   ],
   "metadata": {
    "collapsed": false,
    "pycharm": {
     "name": "#%%\n"
    }
   }
  },
  {
   "cell_type": "code",
   "execution_count": null,
   "outputs": [],
   "source": [
    "\n",
    "#seventy sixth function in np.ceil\n",
    "\n",
    "np.ceil([0.0, 0.1, 0.5, 1.0, 1.1])\n"
   ],
   "metadata": {
    "collapsed": false,
    "pycharm": {
     "name": "#%%\n"
    }
   }
  },
  {
   "cell_type": "code",
   "execution_count": null,
   "outputs": [],
   "source": [
    "\n",
    "#seventy seventh function is np.cfloat\n",
    "\n",
    "x = np.cfloat(3)\n",
    "print(x)\n",
    "print(x.dtype)"
   ],
   "metadata": {
    "collapsed": false,
    "pycharm": {
     "name": "#%%\n"
    }
   }
  },
  {
   "cell_type": "code",
   "execution_count": null,
   "outputs": [],
   "source": [
    "\n",
    "#seventy eighth function is np.char\n",
    "\n",
    "x = np.chararray((4,4), itemsize=10)\n",
    "x[:] = 'iqrorjon'\n",
    "x\n"
   ],
   "metadata": {
    "collapsed": false,
    "pycharm": {
     "name": "#%%\n"
    }
   }
  },
  {
   "cell_type": "code",
   "execution_count": null,
   "outputs": [],
   "source": [
    "\n",
    "#seventy ninth function is np.character\n",
    "\n",
    "x = np.array(['i', 'q'], dtype=np.character)\n",
    "x"
   ],
   "metadata": {
    "collapsed": false,
    "pycharm": {
     "name": "#%%\n"
    }
   }
  },
  {
   "cell_type": "code",
   "execution_count": null,
   "outputs": [],
   "source": [
    "\n",
    "#eighty function is np.chararray\n",
    "\n",
    "x = np.chararray((3,3))\n",
    "x[::2] = 'i'\n",
    "x"
   ],
   "metadata": {
    "collapsed": false,
    "pycharm": {
     "name": "#%%\n"
    }
   }
  },
  {
   "cell_type": "code",
   "execution_count": null,
   "outputs": [],
   "source": [
    "\n",
    "#eighty first function is np.choose\n",
    "\n",
    "a = np.array([1,2,3,4,5])\n",
    "np.choose([0, 3], a)\n"
   ],
   "metadata": {
    "collapsed": false,
    "pycharm": {
     "name": "#%%\n"
    }
   }
  },
  {
   "cell_type": "code",
   "execution_count": null,
   "outputs": [],
   "source": [
    "\n",
    "#eighty second function is np.clip\n",
    "\n",
    "x = np.array([1,2,3,4,5,6,7,8])\n",
    "\n",
    "np.clip(x, 2,5)\n"
   ],
   "metadata": {
    "collapsed": false,
    "pycharm": {
     "name": "#%%\n"
    }
   }
  },
  {
   "cell_type": "code",
   "execution_count": null,
   "outputs": [],
   "source": [
    "\n",
    "#eighty third function is np.clongdouble\n",
    "\n",
    "x = np.array([1,2,3], dtype=np.clongdouble)\n",
    "print(x)\n",
    "print(x.dtype)\n"
   ],
   "metadata": {
    "collapsed": false,
    "pycharm": {
     "name": "#%%\n"
    }
   }
  },
  {
   "cell_type": "code",
   "execution_count": null,
   "outputs": [],
   "source": [
    "\n",
    "#eighty fourth function is np.clongfloat\n",
    "x = np.array([1,2,3], dtype=np.clongfloat)\n",
    "print(x)\n",
    "print(x.dtype)\n"
   ],
   "metadata": {
    "collapsed": false,
    "pycharm": {
     "name": "#%%\n"
    }
   }
  },
  {
   "cell_type": "code",
   "execution_count": null,
   "outputs": [],
   "source": [
    "\n",
    "#eighty fifth function is np.column_stack\n",
    "\n",
    "a = np.array([1,2,3])\n",
    "b = np.array([4,5,6])\n",
    "np.column_stack((a, b))\n"
   ],
   "metadata": {
    "collapsed": false,
    "pycharm": {
     "name": "#%%\n"
    }
   }
  },
  {
   "cell_type": "code",
   "execution_count": null,
   "outputs": [],
   "source": [
    "\n",
    "#eighty sixth function is np.common_type\n",
    "\n",
    "np.common_type(np.array([1j,1,2,3.0]))\n"
   ],
   "metadata": {
    "collapsed": false,
    "pycharm": {
     "name": "#%%\n"
    }
   }
  },
  {
   "cell_type": "code",
   "execution_count": null,
   "outputs": [],
   "source": [
    "\n",
    "#eighty seventh function is np.compare_chararrays\n",
    "a = np.array(['a', 'b', 'c', 'x'])\n",
    "b = np.array(['c', 'z', 'a', 'x'])\n",
    "\n",
    "print(np.compare_chararrays(a, b, '>', True))\n",
    "print(np.compare_chararrays(a, b, '==', True))\n"
   ],
   "metadata": {
    "collapsed": false,
    "pycharm": {
     "name": "#%%\n"
    }
   }
  },
  {
   "cell_type": "code",
   "execution_count": null,
   "outputs": [],
   "source": [
    "\n",
    "#eighty eighth function is np.compat\n",
    "\n",
    "np.compat.unicode\n"
   ],
   "metadata": {
    "collapsed": false,
    "pycharm": {
     "name": "#%%\n"
    }
   }
  },
  {
   "cell_type": "code",
   "execution_count": null,
   "outputs": [],
   "source": [
    "\n",
    "#eighty ninth function is np.complex128\n",
    "\n",
    "print(np.array([1j, 2j]))\n",
    "print(np.array([1j, 2j]).dtype)\n"
   ],
   "metadata": {
    "collapsed": false,
    "pycharm": {
     "name": "#%%\n"
    }
   }
  },
  {
   "cell_type": "code",
   "execution_count": null,
   "outputs": [],
   "source": [
    "\n",
    "#ninety function is np.complex64\n",
    "\n",
    "np.array([1,2,3], dtype=np.complex64)\n"
   ],
   "metadata": {
    "collapsed": false,
    "pycharm": {
     "name": "#%%\n"
    }
   }
  },
  {
   "cell_type": "code",
   "execution_count": null,
   "outputs": [],
   "source": [
    "\n",
    "#ninety first function is np.complex_\n",
    "\n",
    "np.complex_(12)\n"
   ],
   "metadata": {
    "collapsed": false,
    "pycharm": {
     "name": "#%%\n"
    }
   }
  },
  {
   "cell_type": "code",
   "execution_count": null,
   "outputs": [],
   "source": [
    "\n",
    "#ninety second function is np.complexfloating\n",
    "\n",
    "np.array([1,2,3], dtype=np.complexfloating)\n"
   ],
   "metadata": {
    "collapsed": false,
    "pycharm": {
     "name": "#%%\n"
    }
   }
  },
  {
   "cell_type": "code",
   "execution_count": null,
   "outputs": [],
   "source": [
    "\n",
    "#ninety third function is np.compress\n",
    "a = np.array([[1,2],\n",
    "              [3,4],\n",
    "              [5,6]])\n",
    "\n",
    "np.compress([0, 1], a, axis=1)"
   ],
   "metadata": {
    "collapsed": false,
    "pycharm": {
     "name": "#%%\n"
    }
   }
  },
  {
   "cell_type": "code",
   "execution_count": null,
   "outputs": [],
   "source": [
    "\n",
    "#ninety fourth function is np.concatenate\n",
    "\n",
    "a = np.array([[1,2,3]])\n",
    "b = np.array([[4,5,6]])\n",
    "\n",
    "np.concatenate((a,b), axis=1)"
   ],
   "metadata": {
    "collapsed": false,
    "pycharm": {
     "name": "#%%\n"
    }
   }
  },
  {
   "cell_type": "code",
   "execution_count": null,
   "outputs": [],
   "source": [
    "\n",
    "#ninety fifth function is np.conj\n",
    "\n",
    "a = np.array([1,2,3], dtype=np.complex128)\n",
    "print(a)\n",
    "np.conj(a)"
   ],
   "metadata": {
    "collapsed": false,
    "pycharm": {
     "name": "#%%\n"
    }
   }
  },
  {
   "cell_type": "code",
   "execution_count": null,
   "outputs": [],
   "source": [
    "\n",
    "#ninety sixth function is np.conjugate\n",
    "\n",
    "print(np.conjugate is np.conj)\n",
    "\n",
    "a = np.array([1,2,3], dtype=np.complex128)\n",
    "print(a)\n",
    "np.conjugate(a)\n"
   ],
   "metadata": {
    "collapsed": false,
    "pycharm": {
     "name": "#%%\n"
    }
   }
  },
  {
   "cell_type": "code",
   "execution_count": null,
   "outputs": [],
   "source": [
    "\n",
    "#ninety seventh function is np.convolve\n",
    "\n",
    "np.convolve([1,2,3],[0,1,0.5], 'same') # i can't understand this function formula !!!\n"
   ],
   "metadata": {
    "collapsed": false,
    "pycharm": {
     "name": "#%%\n"
    }
   }
  },
  {
   "cell_type": "code",
   "execution_count": null,
   "outputs": [],
   "source": [
    "\n",
    "#ninety eighth function is np.copy\n",
    "\n",
    "a = np.array([1,2,3])\n",
    "b = np.copy(a)\n",
    "print(b is a)\n",
    "print(b == a)"
   ],
   "metadata": {
    "collapsed": false,
    "pycharm": {
     "name": "#%%\n"
    }
   }
  },
  {
   "cell_type": "code",
   "execution_count": null,
   "outputs": [],
   "source": [
    "\n",
    "#ninety ninth function is np.copysign\n",
    "\n",
    "a = np.array([-1, 2, 3.0])\n",
    "print(np.copysign(a, 1))\n",
    "print(np.copysign(a, -1))\n"
   ],
   "metadata": {
    "collapsed": false,
    "pycharm": {
     "name": "#%%\n"
    }
   }
  },
  {
   "cell_type": "code",
   "execution_count": null,
   "outputs": [],
   "source": [
    "\n",
    "#hundredth function is np.copyto\n",
    "\n",
    "a = np.array([[1,2,3],\n",
    "              [1,2,3]])\n",
    "b = np.array([4,-5,6])\n",
    "np.copyto(a, b)\n",
    "a"
   ],
   "metadata": {
    "collapsed": false,
    "pycharm": {
     "name": "#%%\n"
    }
   }
  },
  {
   "cell_type": "code",
   "execution_count": null,
   "outputs": [],
   "source": [
    "#one hundred and first function is np.core\n",
    "print(np.core)\n",
    "dir(np.core)"
   ],
   "metadata": {
    "collapsed": false,
    "pycharm": {
     "name": "#%%\n"
    }
   }
  },
  {
   "cell_type": "code",
   "execution_count": null,
   "outputs": [],
   "source": [
    "\n",
    "#one hundred and second function is np.corrcoef\n",
    "a = np.array([[0.77395605, 0.43887844, 0.85859792],\n",
    "               [0.69736803, 0.09417735, 0.97562235],\n",
    "               [0.7611397 , 0.78606431, 0.12811363],\n",
    "               [0.9767686, 0.7897584, 0.547843658943],\n",
    "               [0.5434534 , 0.75675674, 0.1234243]])\n",
    "corr = np.corrcoef(a)\n",
    "corr\n"
   ],
   "metadata": {
    "collapsed": false,
    "pycharm": {
     "name": "#%%\n"
    }
   }
  },
  {
   "cell_type": "code",
   "execution_count": null,
   "outputs": [],
   "source": [
    "\n",
    "#one hundred and third function is np.correlate\n",
    "\n",
    "corr = np.correlate([1,2,3],\n",
    "                    [4,5,6])\n",
    "corr\n"
   ],
   "metadata": {
    "collapsed": false,
    "pycharm": {
     "name": "#%%\n"
    }
   }
  },
  {
   "cell_type": "code",
   "execution_count": null,
   "outputs": [],
   "source": [
    "\n",
    "#one hundred and third function is np.cos\n",
    "\n",
    "a = np.array([1,2,3])\n",
    "np.cos(a)\n"
   ],
   "metadata": {
    "collapsed": false,
    "pycharm": {
     "name": "#%%\n"
    }
   }
  },
  {
   "cell_type": "code",
   "execution_count": null,
   "outputs": [],
   "source": [
    "\n",
    "#one hundred and fourth function is np.cosh\n",
    "\n",
    "np.cosh([1,2,3,4,5])\n"
   ],
   "metadata": {
    "collapsed": false,
    "pycharm": {
     "name": "#%%\n"
    }
   }
  },
  {
   "cell_type": "code",
   "execution_count": null,
   "outputs": [],
   "source": [
    "\n",
    "#one hundred and fifth function is np.count_nonzero\n",
    "\n",
    "a = np.array([0,1,2,3,4,0])\n",
    "np.count_nonzero(a)\n"
   ],
   "metadata": {
    "collapsed": false,
    "pycharm": {
     "name": "#%%\n"
    }
   }
  },
  {
   "cell_type": "code",
   "execution_count": null,
   "outputs": [],
   "source": [
    "\n",
    "#one hundred and seventh function is np.cov\n",
    "\n",
    "a = np.array([[1,2,3],\n",
    "              [4,5,6]])\n",
    "np.cov(a)"
   ],
   "metadata": {
    "collapsed": false,
    "pycharm": {
     "name": "#%%\n"
    }
   }
  },
  {
   "cell_type": "code",
   "execution_count": null,
   "outputs": [],
   "source": [
    "\n",
    "#one hundred and eighth function is np.cross\n",
    "\n",
    "np.cross([1, 2], [3, 4])\n"
   ],
   "metadata": {
    "collapsed": false,
    "pycharm": {
     "name": "#%%\n"
    }
   }
  },
  {
   "cell_type": "code",
   "execution_count": null,
   "outputs": [],
   "source": [
    "\n",
    "#one hundred and ninth function is np.csingle\n",
    "\n",
    "a = np.array([1,2,3], dtype=np.csingle)\n",
    "print(a.dtype)\n",
    "a"
   ],
   "metadata": {
    "collapsed": false,
    "pycharm": {
     "name": "#%%\n"
    }
   }
  },
  {
   "cell_type": "code",
   "execution_count": null,
   "outputs": [],
   "source": [
    "\n",
    "#onme hundred and tenth function is np.ctypeslib\n",
    "\n",
    "np.ctypeslib.as_array([1,2,3])\n"
   ],
   "metadata": {
    "collapsed": false,
    "pycharm": {
     "name": "#%%\n"
    }
   }
  },
  {
   "cell_type": "code",
   "execution_count": null,
   "outputs": [],
   "source": [
    "\n",
    "#one hundred and eleventh function is np.cumprod\n",
    "\n",
    "a = np.array([[1,2,3,4],\n",
    "              [5,6,7,8],\n",
    "              [1,4,2,5]])\n",
    "print(np.cumprod(a, axis=1))\n",
    "print(\"-\"*30)\n",
    "print(np.cumprod(a, axis=0))\n"
   ],
   "metadata": {
    "collapsed": false,
    "pycharm": {
     "name": "#%%\n"
    }
   }
  },
  {
   "cell_type": "code",
   "execution_count": null,
   "outputs": [],
   "source": [
    "\n",
    "#one hundred and twelveth function is np.cumproduct\n",
    "a = np.array([[1,2,3,4],\n",
    "              [5,6,7,8],\n",
    "              [1,4,2,5]])\n",
    "print(np.cumprod(a, axis=1))\n",
    "print(\"-\"*30)\n",
    "print(np.cumproduct(a, axis=0))"
   ],
   "metadata": {
    "collapsed": false,
    "pycharm": {
     "name": "#%%\n"
    }
   }
  },
  {
   "cell_type": "code",
   "execution_count": null,
   "outputs": [],
   "source": [
    "\n",
    "#one hundred and thirteenth function is np.cumsum\n",
    "\n",
    "a = np.array([[1,2,3],\n",
    "              [4,5,6],\n",
    "              [7,8,9]])\n",
    "\n",
    "print(np.cumsum(a, axis=1))\n",
    "print(\"-\"*30)\n",
    "print(np.cumsum(a, axis=0))"
   ],
   "metadata": {
    "collapsed": false,
    "pycharm": {
     "name": "#%%\n"
    }
   }
  },
  {
   "cell_type": "code",
   "execution_count": null,
   "outputs": [],
   "source": [
    "\n",
    "#one hundred and fourteenth function is np.datetime64\n",
    "\n",
    "arr = np.array(['2022', '2023'], dtype=np.datetime64)\n",
    "print(arr.dtype)\n",
    "print(arr)"
   ],
   "metadata": {
    "collapsed": false,
    "pycharm": {
     "name": "#%%\n"
    }
   }
  },
  {
   "cell_type": "code",
   "execution_count": null,
   "outputs": [],
   "source": [
    "\n",
    "#one hundred and fifteenth function is np.datetime_as_string\n",
    "\n",
    "a = np.array(['2022-01-01', '2022-02-01'], dtype=np.datetime64)\n",
    "print(np.datetime_as_string(a))\n",
    "print(np.datetime_as_string(a).dtype)"
   ],
   "metadata": {
    "collapsed": false,
    "pycharm": {
     "name": "#%%\n"
    }
   }
  },
  {
   "cell_type": "code",
   "execution_count": null,
   "outputs": [],
   "source": [
    "\n",
    "#one hundred and sixteenth function is np.datetime_data\n",
    "a = np.datetime64('2022-01-01')\n",
    "np.datetime_data(a)"
   ],
   "metadata": {
    "collapsed": false,
    "pycharm": {
     "name": "#%%\n"
    }
   }
  },
  {
   "cell_type": "code",
   "execution_count": null,
   "outputs": [],
   "source": [
    "\n",
    "#one hundred and seventeenth function is np.deg2rad\n",
    "\n",
    "print(np.deg2rad(180))\n",
    "print(np.deg2rad([100, 101]))\n"
   ],
   "metadata": {
    "collapsed": false,
    "pycharm": {
     "name": "#%%\n"
    }
   }
  },
  {
   "cell_type": "code",
   "execution_count": null,
   "outputs": [],
   "source": [
    "\n",
    "#one hundred and eighteenth function is np.degrees\n",
    "print(np.degrees(np.pi))\n",
    "print(np.degrees(3.14))\n",
    "print(np.degrees([100, 101]))\n"
   ],
   "metadata": {
    "collapsed": false,
    "pycharm": {
     "name": "#%%\n"
    }
   }
  },
  {
   "cell_type": "code",
   "execution_count": null,
   "outputs": [],
   "source": [
    "\n",
    "#one hundred and nineteenth function is np.delete\n",
    "\n",
    "a = np.array([1,2,3,4,5,6])\n",
    "np.delete(a, [0,-1], None)\n"
   ],
   "metadata": {
    "collapsed": false,
    "pycharm": {
     "name": "#%%\n"
    }
   }
  },
  {
   "cell_type": "code",
   "execution_count": null,
   "outputs": [],
   "source": [
    "\n",
    "#one hundred and twentieth function is np.deprecate\n",
    "\n",
    "to_float = np.deprecate(np.float)\n",
    "to_float(12)\n"
   ],
   "metadata": {
    "collapsed": false,
    "pycharm": {
     "name": "#%%\n"
    }
   }
  },
  {
   "cell_type": "code",
   "execution_count": null,
   "outputs": [],
   "source": [
    "\n",
    "#one hundred and twenty first function is np.deprecate_with_doc\n",
    "\n",
    "hello = np.deprecate_with_doc(\"hello\")"
   ],
   "metadata": {
    "collapsed": false,
    "pycharm": {
     "name": "#%%\n"
    }
   }
  },
  {
   "cell_type": "code",
   "execution_count": null,
   "outputs": [],
   "source": [
    "\n",
    "#one hundred and twenty second function is np.diag\n",
    "\n",
    "a = np.array([[1,2,3],\n",
    "              [4,5,6],\n",
    "              [7,8,9]])\n",
    "np.diag(a)"
   ],
   "metadata": {
    "collapsed": false,
    "pycharm": {
     "name": "#%%\n"
    }
   }
  },
  {
   "cell_type": "code",
   "execution_count": null,
   "outputs": [],
   "source": [
    "\n",
    "#one hundred and twenty third function is np.diag_indices\n",
    "\n",
    "di = np.diag_indices(3)\n",
    "arr = np.arange(9).reshape(3,3)\n",
    "print(arr.diagonal())\n",
    "arr[di] = [100, 101, 102]\n",
    "print(arr.diagonal())\n"
   ],
   "metadata": {
    "collapsed": false,
    "pycharm": {
     "name": "#%%\n"
    }
   }
  },
  {
   "cell_type": "code",
   "execution_count": null,
   "outputs": [],
   "source": [
    "\n",
    "#one hundred and twenty fourth function is np.diag_indices_from\n",
    "a = np.array([[1,2],\n",
    "              [4,5]])\n",
    "np.diag_indices_from(a)\n"
   ],
   "metadata": {
    "collapsed": false,
    "pycharm": {
     "name": "#%%\n"
    }
   }
  },
  {
   "cell_type": "code",
   "execution_count": null,
   "outputs": [],
   "source": [
    "\n",
    "#one hundred and twenty fifth function is np.diagflat\n",
    "np.diagflat([[1,2], [3,4]])\n"
   ],
   "metadata": {
    "collapsed": false,
    "pycharm": {
     "name": "#%%\n"
    }
   }
  },
  {
   "cell_type": "code",
   "execution_count": null,
   "outputs": [],
   "source": [
    "\n",
    "#one hundred and twenty sixth function is np.diagonal\n",
    "\n",
    "a = np.arange(9).reshape((3,3))\n",
    "print(a)\n",
    "np.diagonal(a)\n"
   ],
   "metadata": {
    "collapsed": false,
    "pycharm": {
     "name": "#%%\n"
    }
   }
  },
  {
   "cell_type": "code",
   "execution_count": null,
   "outputs": [],
   "source": [
    "\n",
    "#one hundred and twenty seventh function is np.diff\n",
    "a = np.array([[1,10,2],\n",
    "              [4,1,0]])\n",
    "np.diff(a)"
   ],
   "metadata": {
    "collapsed": false,
    "pycharm": {
     "name": "#%%\n"
    }
   }
  },
  {
   "cell_type": "code",
   "execution_count": null,
   "outputs": [],
   "source": [
    "x = np.array([0.2, 6.4, 3.0, 1.6])\n",
    "bins = np.array([0.0, 1.0, 2.5, 4.0, 10.0])\n",
    "inds = np.digitize(x, bins)\n",
    "for n in range(x.size):\n",
    "  print(bins[inds[n]-1], \"<=\", x[n], \"<\", bins[inds[n]])"
   ],
   "metadata": {
    "collapsed": false,
    "pycharm": {
     "name": "#%%\n"
    }
   }
  },
  {
   "cell_type": "code",
   "execution_count": null,
   "outputs": [],
   "source": [
    "\n",
    "#one hundred and twenty ninth function is np.disp\n",
    "from io import StringIO\n",
    "buf = StringIO()\n",
    "np.disp(u'this is a message', device=buf)\n",
    "buf.getvalue()\n"
   ],
   "metadata": {
    "collapsed": false,
    "pycharm": {
     "name": "#%%\n"
    }
   }
  },
  {
   "cell_type": "code",
   "execution_count": null,
   "outputs": [],
   "source": [
    "\n",
    "#one hundred and thirtieth function is np.divide\n",
    "a = np.array([13,2,31,74])\n",
    "b = np.array([55,62,77,85])\n",
    "np.divide(a, b)\n"
   ],
   "metadata": {
    "collapsed": false,
    "pycharm": {
     "name": "#%%\n"
    }
   }
  },
  {
   "cell_type": "code",
   "execution_count": null,
   "outputs": [],
   "source": [
    "\n",
    "#one hundred and thirty first function is np.divmod\n",
    "x = np.array([12,2,3])\n",
    "y = np.array([42,5,6])\n",
    "print(np.divmod(x, 2))\n",
    "print(np.divmod(y, 2))"
   ],
   "metadata": {
    "collapsed": false,
    "pycharm": {
     "name": "#%%\n"
    }
   }
  },
  {
   "cell_type": "code",
   "execution_count": null,
   "outputs": [],
   "source": [
    "\n",
    "#one hundred and thirty second function is np.dot\n",
    "\n",
    "np.dot([1,2,3], 11)\n"
   ],
   "metadata": {
    "collapsed": false,
    "pycharm": {
     "name": "#%%\n"
    }
   }
  },
  {
   "cell_type": "code",
   "execution_count": null,
   "outputs": [],
   "source": [
    "\n",
    "#one hundred and thirty third function is np.double\n",
    "np.double(123)\n"
   ],
   "metadata": {
    "collapsed": false,
    "pycharm": {
     "name": "#%%\n"
    }
   }
  },
  {
   "cell_type": "code",
   "execution_count": null,
   "outputs": [],
   "source": [
    "\n",
    "#one hundred and thirty fourth function is np.dsplit\n",
    "a = np.arange(27).reshape(3,3,3)\n",
    "print(a)\n",
    "np.dsplit(a, 1)\n"
   ],
   "metadata": {
    "collapsed": false,
    "pycharm": {
     "name": "#%%\n"
    }
   }
  },
  {
   "cell_type": "code",
   "execution_count": null,
   "outputs": [],
   "source": [
    "\n",
    "#one hundred and thirty fifth function is np.dstack\n",
    "a = np.array([1,2,3])\n",
    "b = np.array([4,5,6])\n",
    "np.dstack((a, b))"
   ],
   "metadata": {
    "collapsed": false,
    "pycharm": {
     "name": "#%%\n"
    }
   }
  },
  {
   "cell_type": "code",
   "execution_count": null,
   "outputs": [],
   "source": [
    "\n",
    "#one hundred and thirty sixth function is np.dtype\n",
    "\n",
    "a = np.array([1.1, 1.0, 2.0])\n",
    "a.dtype"
   ],
   "metadata": {
    "collapsed": false,
    "pycharm": {
     "name": "#%%\n"
    }
   }
  },
  {
   "cell_type": "code",
   "execution_count": null,
   "outputs": [],
   "source": [
    "\n",
    "#one hundred and thirty seventh function is np.e\n",
    "np.e\n"
   ],
   "metadata": {
    "collapsed": false,
    "pycharm": {
     "name": "#%%\n"
    }
   }
  },
  {
   "cell_type": "code",
   "execution_count": null,
   "outputs": [],
   "source": [
    "\n",
    "#one hundred and thirty eighth function is np.ediff1d\n",
    "np.ediff1d(np.array([1,4,1,6,3,7]))\n"
   ],
   "metadata": {
    "collapsed": false,
    "pycharm": {
     "name": "#%%\n"
    }
   }
  },
  {
   "cell_type": "code",
   "execution_count": null,
   "outputs": [],
   "source": [
    "\n",
    "#one hundred and thirty ninth function is np.einsum\n",
    "a = np.arange(10).reshape(5,2)\n",
    "print(a)\n",
    "np.einsum(a, [1,0])\n"
   ],
   "metadata": {
    "collapsed": false,
    "pycharm": {
     "name": "#%%\n"
    }
   }
  },
  {
   "cell_type": "code",
   "execution_count": null,
   "outputs": [],
   "source": [
    "\n",
    "#one hundred and fourtieth function is np.einsum_path\n",
    "I = np.random.rand(10, 10, 10, 10)\n",
    "C = np.random.rand(10, 10)\n",
    "np.einsum_path('ea,fb,abcd,gc,hd->efgh', C, C, I, C, C,\n",
    "                           optimize='greedy')\n"
   ],
   "metadata": {
    "collapsed": false,
    "pycharm": {
     "name": "#%%\n"
    }
   }
  },
  {
   "cell_type": "code",
   "execution_count": null,
   "outputs": [],
   "source": [
    "\n",
    "#one hundred and fourty first function is np.emath\n",
    "np.emath.sqrt(16)\n",
    "np.emath.log(16)\n"
   ],
   "metadata": {
    "collapsed": false,
    "pycharm": {
     "name": "#%%\n"
    }
   }
  },
  {
   "cell_type": "code",
   "execution_count": null,
   "outputs": [],
   "source": [
    "\n",
    "#one hundred and fourty second function is np.empty\n",
    "\n",
    "np.empty([3,3], dtype=int)\n"
   ],
   "metadata": {
    "collapsed": false,
    "pycharm": {
     "name": "#%%\n"
    }
   }
  },
  {
   "cell_type": "code",
   "execution_count": null,
   "outputs": [],
   "source": [
    "\n",
    "#one hundred and fourty third function is np.empty_like\n",
    "np.empty_like([1,2,3])\n"
   ],
   "metadata": {
    "collapsed": false,
    "pycharm": {
     "name": "#%%\n"
    }
   }
  },
  {
   "cell_type": "code",
   "execution_count": null,
   "outputs": [],
   "source": [
    "\n",
    "#one hundred and fourty fourth function is np.equal\n",
    "\n",
    "np.equal(np.array([0,1,2,3]), np.arange(4))\n"
   ],
   "metadata": {
    "collapsed": false,
    "pycharm": {
     "name": "#%%\n"
    }
   }
  },
  {
   "cell_type": "code",
   "execution_count": null,
   "outputs": [],
   "source": [
    "\n",
    "#one hundred and fourty fifth function is np.errstate\n",
    "print(\"first: \", end='')\n",
    "with np.errstate(all='ignore'):\n",
    "    print(np.sqrt(-16))\n",
    "\n",
    "print(\"second: \", end='')\n",
    "with np.errstate(invalid='raise'):\n",
    "    print(np.sqrt(-16))"
   ],
   "metadata": {
    "collapsed": false,
    "pycharm": {
     "name": "#%%\n"
    }
   }
  },
  {
   "cell_type": "code",
   "execution_count": null,
   "outputs": [],
   "source": [
    "\n",
    "#one hundred and fourty sizth function is np.euler_gamma\n",
    "\n",
    "np.euler_gamma\n"
   ],
   "metadata": {
    "collapsed": false,
    "pycharm": {
     "name": "#%%\n"
    }
   }
  },
  {
   "cell_type": "code",
   "execution_count": null,
   "outputs": [],
   "source": [
    "\n",
    "#one hundred and fourty seventh function is np.exp\n",
    "np.exp([1,2,3])\n"
   ],
   "metadata": {
    "collapsed": false,
    "pycharm": {
     "name": "#%%\n"
    }
   }
  },
  {
   "cell_type": "code",
   "execution_count": null,
   "outputs": [],
   "source": [
    "\n",
    "#one hundred and fourty eighth function is np.exp2\n",
    "\n",
    "np.exp2([1,2,3])\n"
   ],
   "metadata": {
    "collapsed": false,
    "pycharm": {
     "name": "#%%\n"
    }
   }
  },
  {
   "cell_type": "code",
   "execution_count": null,
   "outputs": [],
   "source": [
    "\n",
    "#one hundred and fourty ninth function is np.expand_dims\n",
    "\n",
    "a = np.array([1,2,3])\n",
    "print(a.shape)\n",
    "np.expand_dims(a, axis=0).shape\n"
   ],
   "metadata": {
    "collapsed": false,
    "pycharm": {
     "name": "#%%\n"
    }
   }
  },
  {
   "cell_type": "code",
   "execution_count": null,
   "outputs": [],
   "source": [
    "\n",
    "#one hundred and fiftieth function is np.expm1\n",
    "\n",
    "np.expm1([3,2,1])\n"
   ],
   "metadata": {
    "collapsed": false,
    "pycharm": {
     "name": "#%%\n"
    }
   }
  },
  {
   "cell_type": "code",
   "execution_count": null,
   "outputs": [],
   "source": [
    "\n",
    "#one hundred and fifty first function is np.extract\n",
    "a = np.array([1,0,2,0,3,0])\n",
    "np.extract(~(a==False), a)\n"
   ],
   "metadata": {
    "collapsed": false,
    "pycharm": {
     "name": "#%%\n"
    }
   }
  },
  {
   "cell_type": "code",
   "execution_count": null,
   "outputs": [],
   "source": [
    "\n",
    "#one hundred and fifty second function is np.eye\n",
    "\n",
    "np.eye(3, dtype=np.int64)\n"
   ],
   "metadata": {
    "collapsed": false,
    "pycharm": {
     "name": "#%%\n"
    }
   }
  },
  {
   "cell_type": "code",
   "execution_count": null,
   "outputs": [],
   "source": [
    "\n",
    "#one hundred and fifty third function is np.fabs\n",
    "\n",
    "np.fabs(np.array([-1,13,-12,-0.1]))\n"
   ],
   "metadata": {
    "collapsed": false,
    "pycharm": {
     "name": "#%%\n"
    }
   }
  },
  {
   "cell_type": "code",
   "execution_count": null,
   "outputs": [],
   "source": [
    "\n",
    "#one hundred and fifty fourth function is np.fastCopyAndTranspose\n",
    "np.fastCopyAndTranspose(12)\n"
   ],
   "metadata": {
    "collapsed": false,
    "pycharm": {
     "name": "#%%\n"
    }
   }
  },
  {
   "cell_type": "code",
   "execution_count": null,
   "outputs": [],
   "source": [
    "\n",
    "#one hundred and fifty fifth function is np.fft\n",
    "\n",
    "np.fft.fft((1,2))\n"
   ],
   "metadata": {
    "collapsed": false,
    "pycharm": {
     "name": "#%%\n"
    }
   }
  },
  {
   "cell_type": "code",
   "execution_count": null,
   "outputs": [],
   "source": [
    "\n",
    "#one hundred and fifty sixth function is np.fill_diagonal\n",
    "\n",
    "a = np.zeros((3,3))\n",
    "np.fill_diagonal(a, 10)\n",
    "a"
   ],
   "metadata": {
    "collapsed": false,
    "pycharm": {
     "name": "#%%\n"
    }
   }
  },
  {
   "cell_type": "code",
   "execution_count": null,
   "outputs": [],
   "source": [
    "\n",
    "#one hundred and fifty seventh function is np.find_common_type\n",
    "\n",
    "np.find_common_type([np.int16, np.int32, np.int64], [np.complex])\n"
   ],
   "metadata": {
    "collapsed": false,
    "pycharm": {
     "name": "#%%\n"
    }
   }
  },
  {
   "cell_type": "code",
   "execution_count": null,
   "outputs": [],
   "source": [
    "\n",
    "#one hundred and fifty eighth function is np.finfo\n",
    "\n",
    "np.finfo(np.float32)\n"
   ],
   "metadata": {
    "collapsed": false,
    "pycharm": {
     "name": "#%%\n"
    }
   }
  },
  {
   "cell_type": "code",
   "execution_count": null,
   "outputs": [],
   "source": [
    "\n",
    "#one hundred and fifty ninth function is np.fix\n",
    "\n",
    "a = np.array([-0.1, 1.2, 1.9, 3])\n",
    "np.fix(a)\n"
   ],
   "metadata": {
    "collapsed": false,
    "pycharm": {
     "name": "#%%\n"
    }
   }
  },
  {
   "cell_type": "code",
   "execution_count": null,
   "outputs": [],
   "source": [
    "\n",
    "#one hundred and sixtieth function is np.flatiter\n",
    "\n",
    "a = np.array([6, 5, 4, 3, 2, 1])\n",
    "gfg = a.flat\n",
    "\n",
    "for items in gfg:\n",
    "    print(items)\n"
   ],
   "metadata": {
    "collapsed": false,
    "pycharm": {
     "name": "#%%\n"
    }
   }
  },
  {
   "cell_type": "code",
   "execution_count": null,
   "outputs": [],
   "source": [
    "\n",
    "#one hundred and sixty first function is np.flatnonzero\n",
    "\n",
    "a = np.array([-1,0,1,2])\n",
    "np.flatnonzero(a)\n"
   ],
   "metadata": {
    "collapsed": false,
    "pycharm": {
     "name": "#%%\n"
    }
   }
  },
  {
   "cell_type": "code",
   "execution_count": null,
   "outputs": [],
   "source": [
    "\n",
    "#one hundred and sixty second function is np.flexible\n",
    "\n",
    "np.flexible.mro()\n"
   ],
   "metadata": {
    "collapsed": false,
    "pycharm": {
     "name": "#%%\n"
    }
   }
  },
  {
   "cell_type": "code",
   "execution_count": null,
   "outputs": [],
   "source": [
    "\n",
    "#one hundred and sixty third function is np.flip\n",
    "\n",
    "a = np.array([[1,2,3],\n",
    "              [4,5,6]])\n",
    "np.flip(a, axis=1)\n"
   ],
   "metadata": {
    "collapsed": false,
    "pycharm": {
     "name": "#%%\n"
    }
   }
  },
  {
   "cell_type": "code",
   "execution_count": null,
   "outputs": [],
   "source": [
    "\n",
    "#one hundred and sixty fourth function is np.fliplr\n",
    "\n",
    "a = np.array([[1,2,3]])\n",
    "np.fliplr(a)\n"
   ],
   "metadata": {
    "collapsed": false,
    "pycharm": {
     "name": "#%%\n"
    }
   }
  },
  {
   "cell_type": "code",
   "execution_count": null,
   "outputs": [],
   "source": [
    "\n",
    "#one hundred and sixty fifth function is np.flipud\n",
    "\n",
    "a = np.array([[1,2,3]])\n",
    "np.fliplr(a)\n"
   ],
   "metadata": {
    "collapsed": false,
    "pycharm": {
     "name": "#%%\n"
    }
   }
  },
  {
   "cell_type": "code",
   "execution_count": null,
   "outputs": [],
   "source": [
    "\n",
    "#one hundred and sixty sixth function is np.float16\n",
    "\n",
    "\n",
    "print(np.float16(321))\n",
    "print(np.float16(321).dtype)\n"
   ],
   "metadata": {
    "collapsed": false,
    "pycharm": {
     "name": "#%%\n"
    }
   }
  },
  {
   "cell_type": "code",
   "execution_count": null,
   "outputs": [],
   "source": [
    "\n",
    "#one hundred and sixty seventh function is np.float32\n",
    "\n",
    "print(np.float32(321))\n",
    "print(np.float32(321).dtype)\n"
   ],
   "metadata": {
    "collapsed": false,
    "pycharm": {
     "name": "#%%\n"
    }
   }
  },
  {
   "cell_type": "code",
   "execution_count": null,
   "outputs": [],
   "source": [
    "\n",
    "#one hundred and sixty eighth function is np.float64\n",
    "\n",
    "print(np.float64(321))\n",
    "print(np.float64(321).dtype)\n"
   ],
   "metadata": {
    "collapsed": false,
    "pycharm": {
     "name": "#%%\n"
    }
   }
  },
  {
   "cell_type": "code",
   "execution_count": null,
   "outputs": [],
   "source": [
    "\n",
    "#one hundred and sixty ninth function is np.float_\n",
    "\n",
    "print(np.float_(321))\n",
    "print(np.float_(321).dtype)\n"
   ],
   "metadata": {
    "collapsed": false,
    "pycharm": {
     "name": "#%%\n"
    }
   }
  },
  {
   "cell_type": "code",
   "execution_count": null,
   "outputs": [],
   "source": [
    "\n",
    "#one hundred and seventy function is np.float_power\n",
    "\n",
    "np.float_power([1,2,3], 3)\n"
   ],
   "metadata": {
    "collapsed": false,
    "pycharm": {
     "name": "#%%\n"
    }
   }
  },
  {
   "cell_type": "code",
   "execution_count": null,
   "outputs": [],
   "source": [
    "\n",
    "#one hundred and seventy first function is np.floating\n",
    "np.floating\n"
   ],
   "metadata": {
    "collapsed": false,
    "pycharm": {
     "name": "#%%\n"
    }
   }
  },
  {
   "cell_type": "code",
   "execution_count": null,
   "outputs": [],
   "source": [
    "\n",
    "#one hundred and seventy second function is np.floor\n",
    "arr = np.array([-1.2, -2.1, 1.9, 1.3, 3.0])\n",
    "np.floor(arr)\n"
   ],
   "metadata": {
    "collapsed": false,
    "pycharm": {
     "name": "#%%\n"
    }
   }
  },
  {
   "cell_type": "code",
   "execution_count": null,
   "outputs": [],
   "source": [
    "\n",
    "#one hundred and seventy third function is np.floor_divide\n",
    "\n",
    "np.floor_divide(12, 3)\n"
   ],
   "metadata": {
    "collapsed": false,
    "pycharm": {
     "name": "#%%\n"
    }
   }
  },
  {
   "cell_type": "code",
   "execution_count": null,
   "outputs": [],
   "source": [
    "\n",
    "#one hundred and seventy fourth function is np.fmax\n",
    "\n",
    "np.fmax([1,2,7],\n",
    "        [4,1,6])\n",
    "\n"
   ],
   "metadata": {
    "collapsed": false,
    "pycharm": {
     "name": "#%%\n"
    }
   }
  },
  {
   "cell_type": "code",
   "execution_count": null,
   "outputs": [],
   "source": [
    "\n",
    "#one hundred and seventy fifth function is np.fmin\n",
    "\n",
    "np.fmin([1,2,7],\n",
    "        [4,1,6])\n"
   ],
   "metadata": {
    "collapsed": false,
    "pycharm": {
     "name": "#%%\n"
    }
   }
  },
  {
   "cell_type": "code",
   "execution_count": null,
   "outputs": [],
   "source": [
    "\n",
    "#one hundred and seventy sixth function is np.fmod\n",
    "\n",
    "np.fmod([2.1,4.3,7.8,10], 2)\n"
   ],
   "metadata": {
    "collapsed": false,
    "pycharm": {
     "name": "#%%\n"
    }
   }
  },
  {
   "cell_type": "code",
   "execution_count": null,
   "outputs": [],
   "source": [
    "\n",
    "#one hundred and seventy seventh function is np.format_float_positional\n",
    "\n",
    "np.format_float_positional(np.float16(np.pi))\n",
    "\n"
   ],
   "metadata": {
    "collapsed": false,
    "pycharm": {
     "name": "#%%\n"
    }
   }
  },
  {
   "cell_type": "code",
   "execution_count": null,
   "outputs": [],
   "source": [
    "\n",
    "#one hundred and seventy eighth function is np.format_float_scientific\n",
    "\n",
    "np.format_float_scientific(np.float64(np.pi))\n",
    "\n"
   ],
   "metadata": {
    "collapsed": false,
    "pycharm": {
     "name": "#%%\n"
    }
   }
  },
  {
   "cell_type": "code",
   "execution_count": null,
   "outputs": [],
   "source": [
    "\n",
    "#one hundred and seventy ninth function is np.format_parser\n",
    "\n",
    "np.format_parser(['<f8', '<i4', '<a5'],\n",
    "                 ['col1', 'col2', 'col3'],\n",
    "                 ['T1', 'T2', 'T3']).dtype\n"
   ],
   "metadata": {
    "collapsed": false,
    "pycharm": {
     "name": "#%%\n"
    }
   }
  },
  {
   "cell_type": "code",
   "execution_count": null,
   "outputs": [],
   "source": [
    "\n",
    "#one hundred and eightieth function is np.frexp\n",
    "a = np.array([1,2,3,4])\n",
    "x, y = np.frexp(a)\n",
    "print(y)\n",
    "\n",
    "x * 2**y\n"
   ],
   "metadata": {
    "collapsed": false,
    "pycharm": {
     "name": "#%%\n"
    }
   }
  },
  {
   "cell_type": "code",
   "execution_count": null,
   "outputs": [],
   "source": [
    "\n",
    "#one hundred and eighty first function is np.from_dlpack\n",
    "\n",
    "import torch\n",
    "x = torch.arange(10)\n",
    "# create a view of the torch tensor \"x\" in NumPy\n",
    "np.from_dlpack(x)\n"
   ],
   "metadata": {
    "collapsed": false,
    "pycharm": {
     "name": "#%%\n"
    }
   }
  },
  {
   "cell_type": "code",
   "execution_count": null,
   "outputs": [],
   "source": [
    "\n",
    "#one hundred and eighty second function is np.frombuffer\n",
    "\n",
    "np.frombuffer(b'\\x01\\x02', dtype=np.uint8)\n",
    "\n"
   ],
   "metadata": {
    "collapsed": false,
    "pycharm": {
     "name": "#%%\n"
    }
   }
  },
  {
   "cell_type": "code",
   "execution_count": null,
   "outputs": [],
   "source": [
    "\n",
    "#one hundred and eighty third function is np.fromfile\n",
    "\n",
    "np.fromfile('helper.py')\n"
   ],
   "metadata": {
    "collapsed": false,
    "pycharm": {
     "name": "#%%\n"
    }
   }
  },
  {
   "cell_type": "code",
   "execution_count": null,
   "outputs": [],
   "source": [
    "\n",
    "#one hundred and eighty fourth function is np.fromfunction\n",
    "\n",
    "print(np.fromfunction(lambda x1, x2: x1, (2,5)))\n",
    "print(np.fromfunction(lambda x1, x2: x2, (2,5)))\n"
   ],
   "metadata": {
    "collapsed": false,
    "pycharm": {
     "name": "#%%\n"
    }
   }
  },
  {
   "cell_type": "code",
   "execution_count": null,
   "outputs": [],
   "source": [
    "\n",
    "#one hundred and eighty fifth function is np.fromiter\n",
    "\n",
    "a = np.array([1,2,3])\n",
    "np.fromiter(a, complex)\n"
   ],
   "metadata": {
    "collapsed": false,
    "pycharm": {
     "name": "#%%\n"
    }
   }
  },
  {
   "cell_type": "code",
   "execution_count": null,
   "outputs": [],
   "source": [
    "\n",
    "#one hundred and eighty sixth function is np.frompyfunc\n",
    "\n",
    "f = np.frompyfunc(abs, 1,1)\n",
    "f(np.array((-10, 30, -100)))\n"
   ],
   "metadata": {
    "collapsed": false,
    "pycharm": {
     "name": "#%%\n"
    }
   }
  },
  {
   "cell_type": "code",
   "execution_count": null,
   "outputs": [],
   "source": [
    "\n",
    "#one hundred and eighty seventh function is np.fromregex\n",
    "from io import StringIO\n",
    "text = StringIO('2ug0gu i2dbniew/,.,/ds2')\n",
    "np.fromregex(text, '\\d', [('numbers', np.int64)])\n",
    "\n"
   ],
   "metadata": {
    "collapsed": false,
    "pycharm": {
     "name": "#%%\n"
    }
   }
  },
  {
   "cell_type": "code",
   "execution_count": null,
   "outputs": [],
   "source": [
    "\n",
    "#one hundred and eighty eighth function is np.fromstring\n",
    "\n",
    "string = '1,2,3,4,5,6,7'\n",
    "np.fromstring(string, dtype=np.int64, sep=',')\n"
   ],
   "metadata": {
    "collapsed": false,
    "pycharm": {
     "name": "#%%\n"
    }
   }
  },
  {
   "cell_type": "code",
   "execution_count": null,
   "outputs": [],
   "source": [
    "\n",
    "#one hundred and eighty ninth function is np.full\n",
    "\n",
    "np.full((2,2), 2022)\n",
    "\n"
   ],
   "metadata": {
    "collapsed": false,
    "pycharm": {
     "name": "#%%\n"
    }
   }
  },
  {
   "cell_type": "code",
   "execution_count": null,
   "outputs": [],
   "source": [
    "\n",
    "#one hundred and ninetieth function is np.full_like\n",
    "a = np.array([[1,2,3],\n",
    "              [4,5,6],\n",
    "              [7,8,9]])\n",
    "np.full_like(a, 2022)\n"
   ],
   "metadata": {
    "collapsed": false,
    "pycharm": {
     "name": "#%%\n"
    }
   }
  },
  {
   "cell_type": "code",
   "execution_count": null,
   "outputs": [],
   "source": [
    "\n",
    "#one hundred and ninety first function is np.gcd\n",
    "\n",
    "np.gcd.reduce([15, 25, 35, 45])\n",
    "\n"
   ],
   "metadata": {
    "collapsed": false,
    "pycharm": {
     "name": "#%%\n"
    }
   }
  },
  {
   "cell_type": "code",
   "execution_count": null,
   "outputs": [],
   "source": [
    "\n",
    "#one hundred and ninety second function is np.generic\n",
    "\n",
    "np.generic.data\n",
    "\n"
   ],
   "metadata": {
    "collapsed": false,
    "pycharm": {
     "name": "#%%\n"
    }
   }
  },
  {
   "cell_type": "code",
   "execution_count": null,
   "outputs": [],
   "source": [
    "\n",
    "#one hundred and ninety third function is np.genfromtxt\n",
    "from io import StringIO\n",
    "x = StringIO(\"\"\"1,2,3,hello1, hello2,1f,2f\n",
    "\"\"\")\n",
    "\n",
    "a = np.genfromtxt(x, dtype=None, delimiter=',')\n",
    "a"
   ],
   "metadata": {
    "collapsed": false,
    "pycharm": {
     "name": "#%%\n"
    }
   }
  },
  {
   "cell_type": "code",
   "execution_count": null,
   "outputs": [],
   "source": [
    "\n",
    "#one hundred and ninety fourth function is np.geomspace\n",
    "\n",
    "np.geomspace(1, 100, num=13)\n"
   ],
   "metadata": {
    "collapsed": false,
    "pycharm": {
     "name": "#%%\n"
    }
   }
  },
  {
   "cell_type": "code",
   "execution_count": null,
   "outputs": [],
   "source": [
    "\n",
    "#one hundred and ninety fifth function is np.get_array_wrap\n",
    "a = np.array([12])\n",
    "f = np.get_array_wrap(a)\n",
    "f(np.array([123]))\n"
   ],
   "metadata": {
    "collapsed": false,
    "pycharm": {
     "name": "#%%\n"
    }
   }
  },
  {
   "cell_type": "code",
   "execution_count": null,
   "outputs": [],
   "source": [
    "\n",
    "#one hundred and ninety sixth function is np.get_include\n",
    "np.get_include()\n"
   ],
   "metadata": {
    "collapsed": false,
    "pycharm": {
     "name": "#%%\n"
    }
   }
  },
  {
   "cell_type": "code",
   "execution_count": null,
   "outputs": [],
   "source": [
    "\n",
    "#one hundred and ninety seventh function is np.get_printoptions\n",
    "\n",
    "np.printoptions()\n"
   ],
   "metadata": {
    "collapsed": false,
    "pycharm": {
     "name": "#%%\n"
    }
   }
  },
  {
   "cell_type": "code",
   "execution_count": null,
   "outputs": [],
   "source": [
    "\n",
    "#one hundred and ninety eighth function is np.getbufsize\n",
    "np.getbufsize()\n",
    "\n"
   ],
   "metadata": {
    "collapsed": false,
    "pycharm": {
     "name": "#%%\n"
    }
   }
  },
  {
   "cell_type": "code",
   "execution_count": null,
   "outputs": [],
   "source": [
    "\n",
    "#one hundred and ninety ninth function is np.geterr\n",
    "\n",
    "print(np.geterr())\n"
   ],
   "metadata": {
    "collapsed": false,
    "pycharm": {
     "name": "#%%\n"
    }
   }
  },
  {
   "cell_type": "code",
   "execution_count": null,
   "outputs": [],
   "source": [
    "\n",
    "#two hundredths function is np.geterrcall\n",
    "\n",
    "np.seterr(all='call')\n",
    "def err_handler(type, flag):\n",
    "    print(\"Floating point error (%s), with flag %s\" % (type, flag))\n",
    "np.seterrcall(err_handler)\n",
    "print(np.array([1, 2, 3]) / 0.0)\n",
    "\n",
    "err_handler is np.geterrcall()"
   ],
   "metadata": {
    "collapsed": false,
    "pycharm": {
     "name": "#%%\n"
    }
   }
  },
  {
   "cell_type": "code",
   "execution_count": null,
   "outputs": [],
   "source": [
    "\n",
    "#two hundred and first function is np.geterrobj\n",
    "np.geterrobj()\n"
   ],
   "metadata": {
    "collapsed": false,
    "pycharm": {
     "name": "#%%\n"
    }
   }
  },
  {
   "cell_type": "code",
   "execution_count": null,
   "outputs": [],
   "source": [
    "\n",
    "#two hundred and second function is np.gradient\n",
    "\n",
    "np.gradient(np.array([1, 2, 4, 7, 11, 16]))\n",
    "\n"
   ],
   "metadata": {
    "collapsed": false,
    "pycharm": {
     "name": "#%%\n"
    }
   }
  },
  {
   "cell_type": "code",
   "execution_count": null,
   "outputs": [],
   "source": [
    "\n",
    "#two hundred and third function is np.greater\n",
    "print(np.greater([1,2,3], [2,1,0]))\n",
    "np.array([1,2,3]) > np.array([2,1,0])"
   ],
   "metadata": {
    "collapsed": false,
    "pycharm": {
     "name": "#%%\n"
    }
   }
  },
  {
   "cell_type": "code",
   "execution_count": null,
   "outputs": [],
   "source": [
    "\n",
    "#two hundred and fourth function is np.greater_equal\n",
    "print(np.greater_equal([1,2,0], [2,1,0]))\n",
    "np.array([1,2,3]) > np.array([2,1,0])\n"
   ],
   "metadata": {
    "collapsed": false,
    "pycharm": {
     "name": "#%%\n"
    }
   }
  },
  {
   "cell_type": "code",
   "execution_count": null,
   "outputs": [],
   "source": [
    "\n",
    "#two hundred and fifth function is np.half\n",
    "\n",
    "np.half(1.23542343654)\n",
    "\n"
   ],
   "metadata": {
    "collapsed": false,
    "pycharm": {
     "name": "#%%\n"
    }
   }
  },
  {
   "cell_type": "code",
   "execution_count": null,
   "outputs": [],
   "source": [
    "\n",
    "#two hundred and sixth function is np.hamming\n",
    "print(np.hamming(10))\n",
    "import matplotlib.pyplot as plt\n",
    "plt.plot(np.hamming(10))\n"
   ],
   "metadata": {
    "collapsed": false,
    "pycharm": {
     "name": "#%%\n"
    }
   }
  },
  {
   "cell_type": "code",
   "execution_count": null,
   "outputs": [],
   "source": [
    "\n",
    "#two hundred and seventh function is np.hanning\n",
    "\n",
    "print(np.hanning(10))\n",
    "import matplotlib.pyplot as plt\n",
    "\n",
    "plt.plot(np.hanning(10))\n"
   ],
   "metadata": {
    "collapsed": false,
    "pycharm": {
     "name": "#%%\n"
    }
   }
  },
  {
   "cell_type": "code",
   "execution_count": null,
   "outputs": [],
   "source": [
    "\n",
    "#two hundred and eighth function is np.heaviside\n",
    "\n",
    "np.heaviside([-1.5, 0, 2.0], 0.5)\n",
    "\n"
   ],
   "metadata": {
    "collapsed": false,
    "pycharm": {
     "name": "#%%\n"
    }
   }
  },
  {
   "cell_type": "code",
   "execution_count": null,
   "outputs": [],
   "source": [
    "\n",
    "#two hundred and ninth function is np.histogram\n",
    "\n",
    "a = np.histogram(3)\n",
    "import matplotlib.pyplot as plt\n",
    "plt.hist(a, bins='auto')\n"
   ],
   "metadata": {
    "collapsed": false,
    "pycharm": {
     "name": "#%%\n"
    }
   }
  },
  {
   "cell_type": "code",
   "execution_count": null,
   "outputs": [],
   "source": [
    "\n",
    "#two hundred and tenth function is np.histogram2d\n",
    "\n",
    "a = np.histogram2d([1], [10])\n",
    "import matplotlib.pyplot as plt\n",
    "plt.hist(a[0], bins='auto')\n",
    "plt.hist(a[1], bins='auto')\n",
    "plt.hist(a[2], bins='auto')\n"
   ],
   "metadata": {
    "collapsed": false,
    "pycharm": {
     "name": "#%%\n"
    }
   }
  },
  {
   "cell_type": "code",
   "execution_count": null,
   "outputs": [],
   "source": [
    "\n",
    "#two hundred and eleventh function is np.histogram_bin_edges\n",
    "arr = np.array([0, 0, 0, 1, 2, 3, 3, 4, 5])\n",
    "bins = np.histogram_bin_edges(arr, bins='auto')\n",
    "import matplotlib.pyplot as plt\n",
    "\n",
    "plt.hist(arr, bins=bins, )"
   ],
   "metadata": {
    "collapsed": false,
    "pycharm": {
     "name": "#%%\n"
    }
   }
  },
  {
   "cell_type": "code",
   "execution_count": null,
   "outputs": [],
   "source": [
    "\n",
    "#two hundred and twelveth function is np.histogramdd\n",
    "\n",
    "a = np.array([1,2,3,2,1,3,4,6,7])\n",
    "x = np.histogramdd(a, bins=(3))\n",
    "\n",
    "import matplotlib.pyplot as plt\n",
    "plt.hist(x[0], x[1][0])\n"
   ],
   "metadata": {
    "collapsed": false,
    "pycharm": {
     "name": "#%%\n"
    }
   }
  },
  {
   "cell_type": "code",
   "execution_count": null,
   "outputs": [],
   "source": [
    "\n",
    "#two hundred and thirteenth function is np.hsplit\n",
    "\n",
    "arr = np.array([[1,2],[3,4]])\n",
    "np.hsplit(arr, 2)\n"
   ],
   "metadata": {
    "collapsed": false,
    "pycharm": {
     "name": "#%%\n"
    }
   }
  },
  {
   "cell_type": "code",
   "execution_count": null,
   "outputs": [],
   "source": [
    "\n",
    "#two hundred and fourteenth function is np.hstack\n",
    "a = np.array([1,2,3])\n",
    "b = np.array([1,2,3])\n",
    "np.hstack((a,b))\n"
   ],
   "metadata": {
    "collapsed": false,
    "pycharm": {
     "name": "#%%\n"
    }
   }
  },
  {
   "cell_type": "code",
   "execution_count": null,
   "outputs": [],
   "source": [
    "\n",
    "#two hundred and fifteenth function is np.hypot\n",
    "a = np.array([1,2,3])\n",
    "b = np.array([1,2,3])\n",
    "\n",
    "print(np.hypot(a, b))\n",
    "\n",
    "print([np.sqrt(a[i]**2 + b[i]**2) for i in range(3)])"
   ],
   "metadata": {
    "collapsed": false,
    "pycharm": {
     "name": "#%%\n"
    }
   }
  },
  {
   "cell_type": "code",
   "execution_count": null,
   "outputs": [],
   "source": [
    "\n",
    "#two hundred and sixteenth function is np.i0\n",
    "\n",
    "a = np.array([0, 1, 2, 3])\n",
    "np.i0(a)\n"
   ],
   "metadata": {
    "collapsed": false,
    "pycharm": {
     "name": "#%%\n"
    }
   }
  },
  {
   "cell_type": "code",
   "execution_count": null,
   "outputs": [],
   "source": [
    "\n",
    "#two hundred and seventeenth function is np.identity\n",
    "\n",
    "np.identity(5)\n"
   ],
   "metadata": {
    "collapsed": false,
    "pycharm": {
     "name": "#%%\n"
    }
   }
  },
  {
   "cell_type": "code",
   "execution_count": null,
   "outputs": [],
   "source": [
    "\n",
    "#two hundred and eighteenth function is np.iinfo\n",
    "\n",
    "np.iinfo(np.int64)\n",
    "\n"
   ],
   "metadata": {
    "collapsed": false,
    "pycharm": {
     "name": "#%%\n"
    }
   }
  },
  {
   "cell_type": "code",
   "execution_count": null,
   "outputs": [],
   "source": [
    "\n",
    "#two hundred and nineteenth function is np.imag\n",
    "a = np.array([1+2j, 3+4j, 5+6j])\n",
    "a.imag\n"
   ],
   "metadata": {
    "collapsed": false,
    "pycharm": {
     "name": "#%%\n"
    }
   }
  },
  {
   "cell_type": "code",
   "execution_count": null,
   "outputs": [],
   "source": [
    "\n",
    "#two hundred and twentieth function is np.in1d\n",
    "\n",
    "test = np.array([0, 1, 2, 5, 0])\n",
    "states = [0, 2]\n",
    "np.in1d(test, states)\n"
   ],
   "metadata": {
    "collapsed": false,
    "pycharm": {
     "name": "#%%\n"
    }
   }
  },
  {
   "cell_type": "code",
   "execution_count": null,
   "outputs": [],
   "source": [
    "\n",
    "#two hundred and twenty first function is np.index_exp\n",
    "\n",
    "a = np.array([1,2,3])\n",
    "np.index_exp[a]"
   ],
   "metadata": {
    "collapsed": false,
    "pycharm": {
     "name": "#%%\n"
    }
   }
  },
  {
   "cell_type": "code",
   "execution_count": null,
   "outputs": [],
   "source": [
    "\n",
    "#two hundred and twenty second function is np.indices\n",
    "\n",
    "np.indices((2,2))\n"
   ],
   "metadata": {
    "collapsed": false,
    "pycharm": {
     "name": "#%%\n"
    }
   }
  },
  {
   "cell_type": "code",
   "execution_count": null,
   "outputs": [],
   "source": [
    "\n",
    "#two hundred and twenty third function is np.inexact\n",
    "\n",
    "np.inexact.mro()"
   ],
   "metadata": {
    "collapsed": false,
    "pycharm": {
     "name": "#%%\n"
    }
   }
  },
  {
   "cell_type": "code",
   "execution_count": null,
   "outputs": [],
   "source": [
    "\n",
    "#two hundred and twenty fourth function is np.inf\n",
    "\n",
    "np.inf is np.infty\n"
   ],
   "metadata": {
    "collapsed": false,
    "pycharm": {
     "name": "#%%\n"
    }
   }
  },
  {
   "cell_type": "code",
   "execution_count": null,
   "outputs": [],
   "source": [
    "\n",
    "#two hundred and twenty fifth function is np.info\n",
    "\n",
    "np.info(np.array)\n",
    "\n"
   ],
   "metadata": {
    "collapsed": false,
    "pycharm": {
     "name": "#%%\n"
    }
   }
  },
  {
   "cell_type": "code",
   "execution_count": null,
   "outputs": [],
   "source": [
    "\n",
    "#two hundred and twenty sixth function is np.infty\n",
    "\n",
    "np.infty is np.inf\n"
   ],
   "metadata": {
    "collapsed": false,
    "pycharm": {
     "name": "#%%\n"
    }
   }
  },
  {
   "cell_type": "code",
   "execution_count": null,
   "outputs": [],
   "source": [
    "\n",
    "#two hundred and twenty seventh function is np.inner\n",
    "a = np.array([1,2,3])\n",
    "b = np.array([1,2,3])\n",
    "print(np.inner(a,b))\n",
    "print(sum(a[:]*b[:]))"
   ],
   "metadata": {
    "collapsed": false,
    "pycharm": {
     "name": "#%%\n"
    }
   }
  },
  {
   "cell_type": "code",
   "execution_count": null,
   "outputs": [],
   "source": [
    "\n",
    "#two hundred and twenty ninth function is np.insert\n",
    "a = np.array([[1,2,3],\n",
    "              [4,5,6],\n",
    "              [7,8,9]])\n",
    "np.insert(a, 2, 10, axis=1)\n"
   ],
   "metadata": {
    "collapsed": false,
    "pycharm": {
     "name": "#%%\n"
    }
   }
  },
  {
   "cell_type": "code",
   "execution_count": null,
   "outputs": [],
   "source": [
    "\n",
    "#two hundred and thirtieth function is np.int0\n",
    "np.int0 is np.int64"
   ],
   "metadata": {
    "collapsed": false,
    "pycharm": {
     "name": "#%%\n"
    }
   }
  },
  {
   "cell_type": "code",
   "execution_count": null,
   "outputs": [],
   "source": [
    "\n",
    "#two hundred and thirtieth first function is np.int16\n",
    "print(np.int16(12345))\n",
    "print(np.int16(123456))\n"
   ],
   "metadata": {
    "collapsed": false,
    "pycharm": {
     "name": "#%%\n"
    }
   }
  },
  {
   "cell_type": "code",
   "execution_count": null,
   "outputs": [],
   "source": [
    "\n",
    "#two hundred and thirtieth second function is np.int32\n",
    "print(np.int32(1234567891))\n",
    "print(np.int32(12345678911))\n"
   ],
   "metadata": {
    "collapsed": false,
    "pycharm": {
     "name": "#%%\n"
    }
   }
  },
  {
   "cell_type": "code",
   "execution_count": null,
   "outputs": [],
   "source": [
    "\n",
    "#two hundred and thirtieth third function is np.int64\n",
    "print(np.int64(1234567891012345678))\n",
    "print(np.int64(12345678910123456789))\n"
   ],
   "metadata": {
    "collapsed": false,
    "pycharm": {
     "name": "#%%\n"
    }
   }
  },
  {
   "cell_type": "code",
   "execution_count": null,
   "outputs": [],
   "source": [
    "\n",
    "#two hundred and thirtieth fourth function is np.int8\n",
    "print(np.int8(123))\n",
    "print(np.int8(1234))\n"
   ],
   "metadata": {
    "collapsed": false,
    "pycharm": {
     "name": "#%%\n"
    }
   }
  },
  {
   "cell_type": "code",
   "execution_count": null,
   "outputs": [],
   "source": [
    "\n",
    "#two hundred and thirtieth fifth function is np.int_\n",
    "print(np.int_)\n"
   ],
   "metadata": {
    "collapsed": false,
    "pycharm": {
     "name": "#%%\n"
    }
   }
  },
  {
   "cell_type": "code",
   "execution_count": null,
   "outputs": [],
   "source": [
    "\n",
    "#two hundred and thirtieth sixth function is np.intc\n",
    "print(np.intc(2_147_483_647))\n",
    "print(np.intc(2_147_483_648))\n",
    "\n"
   ],
   "metadata": {
    "collapsed": false,
    "pycharm": {
     "name": "#%%\n"
    }
   }
  },
  {
   "cell_type": "code",
   "execution_count": null,
   "outputs": [],
   "source": [
    "\n",
    "#two hundred and thirtieth seventh function is np.integer\n",
    "np.integer.mro()\n",
    "\n"
   ],
   "metadata": {
    "collapsed": false,
    "pycharm": {
     "name": "#%%\n"
    }
   }
  },
  {
   "cell_type": "code",
   "execution_count": null,
   "outputs": [],
   "source": [
    "\n",
    "#two hundred and thirtieth eighth function is np.interp\n",
    "xp = [1, 2, 3]\n",
    "fp = [3, 2, 0]\n",
    "np.interp([1,2,3,4], xp, fp)\n"
   ],
   "metadata": {
    "collapsed": false,
    "pycharm": {
     "name": "#%%\n"
    }
   }
  },
  {
   "cell_type": "code",
   "execution_count": null,
   "outputs": [],
   "source": [
    "\n",
    "#two hundred and thirtieth ninth function is np.intersect1d\n",
    "np.intersect1d([1, 1, 2, 3, 4], [2, 1, 4, 6], return_indices=True)\n"
   ],
   "metadata": {
    "collapsed": false,
    "pycharm": {
     "name": "#%%\n"
    }
   }
  },
  {
   "cell_type": "code",
   "execution_count": null,
   "outputs": [],
   "source": [
    "\n",
    "#two hundred and fourtieth function is np.intp\n",
    "\n",
    "np.intp\n"
   ],
   "metadata": {
    "collapsed": false,
    "pycharm": {
     "name": "#%%\n"
    }
   }
  },
  {
   "cell_type": "code",
   "execution_count": null,
   "outputs": [],
   "source": [
    "\n",
    "#two hundred and fourty first function is np.invert\n",
    "\n",
    "print(np.invert([True, False]))\n",
    "print(~np.array([True, False]))\n",
    "\n"
   ],
   "metadata": {
    "collapsed": false,
    "pycharm": {
     "name": "#%%\n"
    }
   }
  },
  {
   "cell_type": "code",
   "execution_count": null,
   "outputs": [],
   "source": [
    "\n",
    "#two hundred and fourty second function is np.is_busday\n",
    "\n",
    "np.is_busday(['2021-01-01', '2021-01-02', '2021-01-03', '2021-01-04', '2021-01-05'],\n",
    "             holidays=['2021-01-01', '2021-01-02'])\n",
    "\n"
   ],
   "metadata": {
    "collapsed": false,
    "pycharm": {
     "name": "#%%\n"
    }
   }
  },
  {
   "cell_type": "code",
   "execution_count": null,
   "outputs": [],
   "source": [
    "\n",
    "#two hundred and fourty third function is np.isclose\n",
    "\n",
    "np.isclose([1,2,3,1], [2,1,3,1])\n",
    "\n"
   ],
   "metadata": {
    "collapsed": false,
    "pycharm": {
     "name": "#%%\n"
    }
   }
  },
  {
   "cell_type": "code",
   "execution_count": null,
   "outputs": [],
   "source": [
    "\n",
    "#two hundred and fourty fourth function is np.iscomplex\n",
    "np.iscomplex([1+1j, 1+0j, 4.5, 3, 2, 2j])\n"
   ],
   "metadata": {
    "collapsed": false,
    "pycharm": {
     "name": "#%%\n"
    }
   }
  },
  {
   "cell_type": "code",
   "execution_count": null,
   "outputs": [],
   "source": [
    "\n",
    "#two hundred and fourty fifth function is np.iscomplexobj\n",
    "print(np.iscomplexobj([3, 1+0j, True]))\n",
    "print(np.iscomplexobj([3, 1, True]))\n"
   ],
   "metadata": {
    "collapsed": false,
    "pycharm": {
     "name": "#%%\n"
    }
   }
  },
  {
   "cell_type": "code",
   "execution_count": null,
   "outputs": [],
   "source": [
    "\n",
    "#two hundred and fourty sixth function is np.isfinite\n",
    "\n",
    "np.isfinite([1, 1j, 0, np.inf, np.nan])\n"
   ],
   "metadata": {
    "collapsed": false,
    "pycharm": {
     "name": "#%%\n"
    }
   }
  },
  {
   "cell_type": "code",
   "execution_count": null,
   "outputs": [],
   "source": [
    "\n",
    "#two hundred and fourty seventh function is np.isfortran\n",
    "print(np.isfortran(np.array([[1, 2, 3], [4, 5, 6]], order='C')))\n",
    "print(np.isfortran(np.array([[1, 2, 3], [4, 5, 6]], order='F')))\n"
   ],
   "metadata": {
    "collapsed": false,
    "pycharm": {
     "name": "#%%\n"
    }
   }
  },
  {
   "cell_type": "code",
   "execution_count": null,
   "outputs": [],
   "source": [
    "\n",
    "#two hundred and fourty eighth function is np.isin\n",
    "\n",
    "np.isin([1,3,1,4],\n",
    "        [4,3,9,2])\n",
    "\n"
   ],
   "metadata": {
    "collapsed": false,
    "pycharm": {
     "name": "#%%\n"
    }
   }
  },
  {
   "cell_type": "code",
   "execution_count": null,
   "outputs": [],
   "source": [
    "\n",
    "#two hundred and fourty ninth function is np.isinf\n",
    "\n",
    "np.isinf([np.inf, -np.inf, 1.0, np.nan])\n"
   ],
   "metadata": {
    "collapsed": false,
    "pycharm": {
     "name": "#%%\n"
    }
   }
  },
  {
   "cell_type": "code",
   "execution_count": null,
   "outputs": [],
   "source": [
    "\n",
    "#two hundred and fiftieth function is np.isnan\n",
    "np.isnan([np.log(-1.),1.,np.log(0),np.nan])\n"
   ],
   "metadata": {
    "collapsed": false,
    "pycharm": {
     "name": "#%%\n"
    }
   }
  },
  {
   "cell_type": "code",
   "execution_count": 59,
   "outputs": [
    {
     "data": {
      "text/plain": "array([ True, False])"
     },
     "execution_count": 59,
     "metadata": {},
     "output_type": "execute_result"
    }
   ],
   "source": [
    "\n",
    "#two hundred and fifty first function is np.isnat\n",
    "\n",
    "np.isnat(np.array([\"NaT\", \"2016-01-01\"], dtype=\"datetime64[ns]\"))\n"
   ],
   "metadata": {
    "collapsed": false,
    "pycharm": {
     "name": "#%%\n"
    }
   }
  },
  {
   "cell_type": "code",
   "execution_count": 97,
   "outputs": [],
   "source": [
    "\n",
    "#two hundred and fifty first function is np.isinf\n",
    "\n"
   ],
   "metadata": {
    "collapsed": false,
    "pycharm": {
     "name": "#%%\n"
    }
   }
  },
  {
   "cell_type": "code",
   "execution_count": 98,
   "outputs": [],
   "source": [
    "\n",
    "#two hundred and fifty second function is np.isnan\n"
   ],
   "metadata": {
    "collapsed": false,
    "pycharm": {
     "name": "#%%\n"
    }
   }
  },
  {
   "cell_type": "code",
   "execution_count": 99,
   "outputs": [],
   "source": [
    "\n",
    "#two hundred and fifty third function is np.isnat\n"
   ],
   "metadata": {
    "collapsed": false,
    "pycharm": {
     "name": "#%%\n"
    }
   }
  },
  {
   "cell_type": "code",
   "execution_count": 100,
   "outputs": [],
   "source": [
    "\n",
    "#two hundred and fifty fourth function is np.isneginf\n"
   ],
   "metadata": {
    "collapsed": false,
    "pycharm": {
     "name": "#%%\n"
    }
   }
  },
  {
   "cell_type": "code",
   "execution_count": 101,
   "outputs": [],
   "source": [
    "\n",
    "#two hundred and fifty fifth function is np.isposinf\n"
   ],
   "metadata": {
    "collapsed": false,
    "pycharm": {
     "name": "#%%\n"
    }
   }
  },
  {
   "cell_type": "code",
   "execution_count": 102,
   "outputs": [],
   "source": [
    "\n",
    "#two hundred and fifty sixth function is np.isreal\n"
   ],
   "metadata": {
    "collapsed": false,
    "pycharm": {
     "name": "#%%\n"
    }
   }
  },
  {
   "cell_type": "code",
   "execution_count": 103,
   "outputs": [],
   "source": [
    "\n",
    "#two hundred and fifty seventh function is np.isrealobj\n"
   ],
   "metadata": {
    "collapsed": false,
    "pycharm": {
     "name": "#%%\n"
    }
   }
  },
  {
   "cell_type": "code",
   "execution_count": 104,
   "outputs": [],
   "source": [
    "\n",
    "#two hundred and fifty eighth function is np.isscalar\n"
   ],
   "metadata": {
    "collapsed": false,
    "pycharm": {
     "name": "#%%\n"
    }
   }
  },
  {
   "cell_type": "code",
   "execution_count": 105,
   "outputs": [],
   "source": [
    "\n",
    "#two hundred and fifty ninth function is np.issctype\n"
   ],
   "metadata": {
    "collapsed": false,
    "pycharm": {
     "name": "#%%\n"
    }
   }
  },
  {
   "cell_type": "code",
   "execution_count": 106,
   "outputs": [],
   "source": [
    "\n",
    "#two hundred and sixtieth function is np.issubclass_\n"
   ],
   "metadata": {
    "collapsed": false,
    "pycharm": {
     "name": "#%%\n"
    }
   }
  },
  {
   "cell_type": "code",
   "execution_count": 107,
   "outputs": [],
   "source": [
    "\n",
    "#two hundred and sixty first function is np.issubdtype\n"
   ],
   "metadata": {
    "collapsed": false,
    "pycharm": {
     "name": "#%%\n"
    }
   }
  },
  {
   "cell_type": "code",
   "execution_count": 108,
   "outputs": [],
   "source": [
    "\n",
    "#two hundred and sixty second function is np.issubsctype\n"
   ],
   "metadata": {
    "collapsed": false,
    "pycharm": {
     "name": "#%%\n"
    }
   }
  },
  {
   "cell_type": "code",
   "execution_count": 109,
   "outputs": [],
   "source": [
    "\n",
    "#two hundred and sixty third function is np.iterable\n"
   ],
   "metadata": {
    "collapsed": false,
    "pycharm": {
     "name": "#%%\n"
    }
   }
  },
  {
   "cell_type": "code",
   "execution_count": 110,
   "outputs": [],
   "source": [
    "\n",
    "#two hundred and sixty fourth function is np.ix_\n"
   ],
   "metadata": {
    "collapsed": false,
    "pycharm": {
     "name": "#%%\n"
    }
   }
  },
  {
   "cell_type": "code",
   "execution_count": 111,
   "outputs": [],
   "source": [
    "\n",
    "#two hundred and sixty fifth function is np.kaiser\n"
   ],
   "metadata": {
    "collapsed": false,
    "pycharm": {
     "name": "#%%\n"
    }
   }
  },
  {
   "cell_type": "code",
   "execution_count": 112,
   "outputs": [],
   "source": [
    "\n",
    "#two hundred and sixty sixth function is np.kron\n"
   ],
   "metadata": {
    "collapsed": false,
    "pycharm": {
     "name": "#%%\n"
    }
   }
  },
  {
   "cell_type": "code",
   "execution_count": 113,
   "outputs": [],
   "source": [
    "\n",
    "#two hundred and sixty seventh function is np.lcm\n"
   ],
   "metadata": {
    "collapsed": false,
    "pycharm": {
     "name": "#%%\n"
    }
   }
  },
  {
   "cell_type": "code",
   "execution_count": 114,
   "outputs": [],
   "source": [
    "\n",
    "#two hundred and sixty eighth function is np.ldexp\n"
   ],
   "metadata": {
    "collapsed": false,
    "pycharm": {
     "name": "#%%\n"
    }
   }
  },
  {
   "cell_type": "code",
   "execution_count": 115,
   "outputs": [],
   "source": [
    "\n",
    "#two hundred and sixty ninth function is np.left_shift\n"
   ],
   "metadata": {
    "collapsed": false,
    "pycharm": {
     "name": "#%%\n"
    }
   }
  },
  {
   "cell_type": "code",
   "execution_count": 116,
   "outputs": [],
   "source": [
    "\n",
    "#two hundred and seventieth function is np.less\n"
   ],
   "metadata": {
    "collapsed": false,
    "pycharm": {
     "name": "#%%\n"
    }
   }
  },
  {
   "cell_type": "code",
   "execution_count": 117,
   "outputs": [],
   "source": [
    "\n",
    "#two hundred and seventy first function is np.less_equal\n"
   ],
   "metadata": {
    "collapsed": false,
    "pycharm": {
     "name": "#%%\n"
    }
   }
  },
  {
   "cell_type": "code",
   "execution_count": 118,
   "outputs": [],
   "source": [
    "\n",
    "#two hundred and seventy second function is np.lexsort\n"
   ],
   "metadata": {
    "collapsed": false,
    "pycharm": {
     "name": "#%%\n"
    }
   }
  },
  {
   "cell_type": "code",
   "execution_count": 119,
   "outputs": [],
   "source": [
    "\n",
    "#two hundred and seventy third function is np.lib\n"
   ],
   "metadata": {
    "collapsed": false,
    "pycharm": {
     "name": "#%%\n"
    }
   }
  },
  {
   "cell_type": "code",
   "execution_count": 120,
   "outputs": [],
   "source": [
    "\n",
    "#two hundred and seventy fourth function is np.linalg\n"
   ],
   "metadata": {
    "collapsed": false,
    "pycharm": {
     "name": "#%%\n"
    }
   }
  },
  {
   "cell_type": "code",
   "execution_count": 121,
   "outputs": [],
   "source": [
    "\n",
    "#two hundred and seventy fifth function is np.linspace\n"
   ],
   "metadata": {
    "collapsed": false,
    "pycharm": {
     "name": "#%%\n"
    }
   }
  },
  {
   "cell_type": "code",
   "execution_count": 122,
   "outputs": [],
   "source": [
    "\n",
    "#two hundred and seventy sixth function is np.little_endian\n"
   ],
   "metadata": {
    "collapsed": false,
    "pycharm": {
     "name": "#%%\n"
    }
   }
  },
  {
   "cell_type": "code",
   "execution_count": 123,
   "outputs": [],
   "source": [
    "\n",
    "#two hundred and seventy seventh function is np.load\n"
   ],
   "metadata": {
    "collapsed": false,
    "pycharm": {
     "name": "#%%\n"
    }
   }
  },
  {
   "cell_type": "code",
   "execution_count": 124,
   "outputs": [],
   "source": [
    "\n",
    "#two hundred and seventy eighth function is np.loadtxt\n"
   ],
   "metadata": {
    "collapsed": false,
    "pycharm": {
     "name": "#%%\n"
    }
   }
  },
  {
   "cell_type": "code",
   "execution_count": 125,
   "outputs": [],
   "source": [
    "\n",
    "#two hundred and seventy ninth function is np.log\n"
   ],
   "metadata": {
    "collapsed": false,
    "pycharm": {
     "name": "#%%\n"
    }
   }
  },
  {
   "cell_type": "code",
   "execution_count": 126,
   "outputs": [],
   "source": [
    "\n",
    "#two hundred and eightieth function is np.log10\n",
    "\n"
   ],
   "metadata": {
    "collapsed": false,
    "pycharm": {
     "name": "#%%\n"
    }
   }
  },
  {
   "cell_type": "code",
   "execution_count": 127,
   "outputs": [],
   "source": [
    "\n",
    "#two hundred and eighty first function is np.log1p\n",
    "\n"
   ],
   "metadata": {
    "collapsed": false,
    "pycharm": {
     "name": "#%%\n"
    }
   }
  },
  {
   "cell_type": "code",
   "execution_count": 128,
   "outputs": [],
   "source": [
    "\n",
    "#two hundred and eighty second function is np.log2\n",
    "\n"
   ],
   "metadata": {
    "collapsed": false,
    "pycharm": {
     "name": "#%%\n"
    }
   }
  },
  {
   "cell_type": "code",
   "execution_count": 129,
   "outputs": [],
   "source": [
    "\n",
    "#two hundred and eighty third function is np.logaddexp\n",
    "\n"
   ],
   "metadata": {
    "collapsed": false,
    "pycharm": {
     "name": "#%%\n"
    }
   }
  },
  {
   "cell_type": "code",
   "execution_count": 130,
   "outputs": [],
   "source": [
    "\n",
    "#two hundred and eighty fourth function is np.logaddexp2\n",
    "\n"
   ],
   "metadata": {
    "collapsed": false,
    "pycharm": {
     "name": "#%%\n"
    }
   }
  },
  {
   "cell_type": "code",
   "execution_count": 131,
   "outputs": [],
   "source": [
    "\n",
    "#two hundred and eighty fifth function is np.logical_and\n",
    "\n"
   ],
   "metadata": {
    "collapsed": false,
    "pycharm": {
     "name": "#%%\n"
    }
   }
  },
  {
   "cell_type": "code",
   "execution_count": 132,
   "outputs": [],
   "source": [
    "\n",
    "#two hundred and eighty sixth function is np.logical_not\n",
    "\n"
   ],
   "metadata": {
    "collapsed": false,
    "pycharm": {
     "name": "#%%\n"
    }
   }
  },
  {
   "cell_type": "code",
   "execution_count": 133,
   "outputs": [],
   "source": [
    "\n",
    "#two hundred and eighty seventh function is np.logical_or\n",
    "\n"
   ],
   "metadata": {
    "collapsed": false,
    "pycharm": {
     "name": "#%%\n"
    }
   }
  },
  {
   "cell_type": "code",
   "execution_count": 134,
   "outputs": [],
   "source": [
    "\n",
    "#two hundred and eighty eighth function is np.logical_xor\n",
    "\n"
   ],
   "metadata": {
    "collapsed": false,
    "pycharm": {
     "name": "#%%\n"
    }
   }
  },
  {
   "cell_type": "code",
   "execution_count": 135,
   "outputs": [],
   "source": [
    "\n",
    "#two hundred and eighty ninth function is np.logspace\n",
    "\n"
   ],
   "metadata": {
    "collapsed": false,
    "pycharm": {
     "name": "#%%\n"
    }
   }
  },
  {
   "cell_type": "code",
   "execution_count": 136,
   "outputs": [],
   "source": [
    "\n",
    "#two hundred and ninetieth function is np.longcomplex\n",
    "\n"
   ],
   "metadata": {
    "collapsed": false,
    "pycharm": {
     "name": "#%%\n"
    }
   }
  },
  {
   "cell_type": "code",
   "execution_count": 137,
   "outputs": [],
   "source": [
    "\n",
    "#two hundred and ninety first function is np.longdouble\n",
    "\n"
   ],
   "metadata": {
    "collapsed": false,
    "pycharm": {
     "name": "#%%\n"
    }
   }
  },
  {
   "cell_type": "code",
   "execution_count": 138,
   "outputs": [],
   "source": [
    "\n",
    "#two hundred and ninety second function is np.longfloat\n",
    "\n"
   ],
   "metadata": {
    "collapsed": false,
    "pycharm": {
     "name": "#%%\n"
    }
   }
  },
  {
   "cell_type": "code",
   "execution_count": 139,
   "outputs": [],
   "source": [
    "\n",
    "#two hundred and ninety third function is np.longlong\n",
    "\n"
   ],
   "metadata": {
    "collapsed": false,
    "pycharm": {
     "name": "#%%\n"
    }
   }
  },
  {
   "cell_type": "code",
   "execution_count": 140,
   "outputs": [],
   "source": [
    "\n",
    "#two hundred and ninety fourth function is np.lookfor\n",
    "\n"
   ],
   "metadata": {
    "collapsed": false,
    "pycharm": {
     "name": "#%%\n"
    }
   }
  },
  {
   "cell_type": "code",
   "execution_count": 141,
   "outputs": [],
   "source": [
    "\n",
    "#two hundred and ninety fifth function is np.ma\n",
    "\n"
   ],
   "metadata": {
    "collapsed": false,
    "pycharm": {
     "name": "#%%\n"
    }
   }
  },
  {
   "cell_type": "code",
   "execution_count": 142,
   "outputs": [],
   "source": [
    "\n",
    "#two hundred and ninety sixth function is np.mask_indices\n",
    "\n"
   ],
   "metadata": {
    "collapsed": false,
    "pycharm": {
     "name": "#%%\n"
    }
   }
  },
  {
   "cell_type": "code",
   "execution_count": 143,
   "outputs": [],
   "source": [
    "\n",
    "#two hundred and ninety seventh function is np.mat\n",
    "\n"
   ],
   "metadata": {
    "collapsed": false,
    "pycharm": {
     "name": "#%%\n"
    }
   }
  },
  {
   "cell_type": "code",
   "execution_count": 144,
   "outputs": [],
   "source": [
    "\n",
    "#two hundred and ninety eighth function is np.math\n",
    "\n"
   ],
   "metadata": {
    "collapsed": false,
    "pycharm": {
     "name": "#%%\n"
    }
   }
  },
  {
   "cell_type": "code",
   "execution_count": 145,
   "outputs": [],
   "source": [
    "\n",
    "#two hundred and ninety ninth function is np.matmul\n",
    "\n"
   ],
   "metadata": {
    "collapsed": false,
    "pycharm": {
     "name": "#%%\n"
    }
   }
  },
  {
   "cell_type": "code",
   "execution_count": 146,
   "outputs": [],
   "source": [
    "\n",
    "#three hundredth function is np.matrix\n",
    "\n"
   ],
   "metadata": {
    "collapsed": false,
    "pycharm": {
     "name": "#%%\n"
    }
   }
  },
  {
   "cell_type": "code",
   "execution_count": 147,
   "outputs": [],
   "source": [
    "\n",
    "#three hundred and first function is np.matrixlib\n",
    "\n"
   ],
   "metadata": {
    "collapsed": false,
    "pycharm": {
     "name": "#%%\n"
    }
   }
  },
  {
   "cell_type": "code",
   "execution_count": 148,
   "outputs": [],
   "source": [
    "\n",
    "#three hundred and second function is np.max\n",
    "\n"
   ],
   "metadata": {
    "collapsed": false,
    "pycharm": {
     "name": "#%%\n"
    }
   }
  },
  {
   "cell_type": "code",
   "execution_count": 149,
   "outputs": [],
   "source": [
    "\n",
    "#three hundred and third function is np.maximum\n",
    "\n"
   ],
   "metadata": {
    "collapsed": false,
    "pycharm": {
     "name": "#%%\n"
    }
   }
  },
  {
   "cell_type": "code",
   "execution_count": 150,
   "outputs": [],
   "source": [
    "\n",
    "#three hundred and fourth function is np.maximum_sctype\n",
    "\n"
   ],
   "metadata": {
    "collapsed": false,
    "pycharm": {
     "name": "#%%\n"
    }
   }
  },
  {
   "cell_type": "code",
   "execution_count": 151,
   "outputs": [],
   "source": [
    "\n",
    "#three hundred and fifth function is np.may_share_memory\n",
    "\n"
   ],
   "metadata": {
    "collapsed": false,
    "pycharm": {
     "name": "#%%\n"
    }
   }
  },
  {
   "cell_type": "code",
   "execution_count": 152,
   "outputs": [],
   "source": [
    "\n",
    "#three hundred and sixth function is np.mean\n",
    "\n"
   ],
   "metadata": {
    "collapsed": false,
    "pycharm": {
     "name": "#%%\n"
    }
   }
  },
  {
   "cell_type": "code",
   "execution_count": 153,
   "outputs": [],
   "source": [
    "\n",
    "#three hundred and seventh function is np.median\n",
    "\n"
   ],
   "metadata": {
    "collapsed": false,
    "pycharm": {
     "name": "#%%\n"
    }
   }
  },
  {
   "cell_type": "code",
   "execution_count": 154,
   "outputs": [],
   "source": [
    "\n",
    "#three hundred and eighth function is np.memmap\n",
    "\n"
   ],
   "metadata": {
    "collapsed": false,
    "pycharm": {
     "name": "#%%\n"
    }
   }
  },
  {
   "cell_type": "code",
   "execution_count": 155,
   "outputs": [],
   "source": [
    "\n",
    "#three hundred and ninth function is np.meshgrid\n",
    "\n"
   ],
   "metadata": {
    "collapsed": false,
    "pycharm": {
     "name": "#%%\n"
    }
   }
  },
  {
   "cell_type": "code",
   "execution_count": 156,
   "outputs": [],
   "source": [
    "\n",
    "#three hundred and tenth function is np.mgrid\n"
   ],
   "metadata": {
    "collapsed": false,
    "pycharm": {
     "name": "#%%\n"
    }
   }
  },
  {
   "cell_type": "code",
   "execution_count": 157,
   "outputs": [],
   "source": [
    "\n",
    "#three hundred and eleventh function is np.min\n"
   ],
   "metadata": {
    "collapsed": false,
    "pycharm": {
     "name": "#%%\n"
    }
   }
  },
  {
   "cell_type": "code",
   "execution_count": 158,
   "outputs": [],
   "source": [
    "\n",
    "#three hundred and twelveth function is np.min_scalar_type\n",
    "\n"
   ],
   "metadata": {
    "collapsed": false,
    "pycharm": {
     "name": "#%%\n"
    }
   }
  },
  {
   "cell_type": "code",
   "execution_count": 159,
   "outputs": [],
   "source": [
    "\n",
    "#three hundred and thirteenth function is np.minimum\n",
    "\n"
   ],
   "metadata": {
    "collapsed": false,
    "pycharm": {
     "name": "#%%\n"
    }
   }
  },
  {
   "cell_type": "code",
   "execution_count": 160,
   "outputs": [],
   "source": [
    "\n",
    "#three hundred and fourteenth function is np.mintypecode\n",
    "\n"
   ],
   "metadata": {
    "collapsed": false,
    "pycharm": {
     "name": "#%%\n"
    }
   }
  },
  {
   "cell_type": "code",
   "execution_count": 161,
   "outputs": [],
   "source": [
    "\n",
    "#three hundred and fifteenth function is np.mod\n",
    "\n"
   ],
   "metadata": {
    "collapsed": false,
    "pycharm": {
     "name": "#%%\n"
    }
   }
  },
  {
   "cell_type": "code",
   "execution_count": 162,
   "outputs": [],
   "source": [
    "\n",
    "#three hundred and sixteenth function is np.modf\n",
    "\n"
   ],
   "metadata": {
    "collapsed": false,
    "pycharm": {
     "name": "#%%\n"
    }
   }
  },
  {
   "cell_type": "code",
   "execution_count": 163,
   "outputs": [],
   "source": [
    "\n",
    "#three hundred and seventeenth function is np.moveaxis\n",
    "\n"
   ],
   "metadata": {
    "collapsed": false,
    "pycharm": {
     "name": "#%%\n"
    }
   }
  },
  {
   "cell_type": "code",
   "execution_count": 164,
   "outputs": [],
   "source": [
    "\n",
    "#three hundred and eighteenth function is np.msort\n",
    "\n"
   ],
   "metadata": {
    "collapsed": false,
    "pycharm": {
     "name": "#%%\n"
    }
   }
  },
  {
   "cell_type": "code",
   "execution_count": 165,
   "outputs": [],
   "source": [
    "\n",
    "#three hundred and nineteenth function is np.multiply\n",
    "\n"
   ],
   "metadata": {
    "collapsed": false,
    "pycharm": {
     "name": "#%%\n"
    }
   }
  },
  {
   "cell_type": "code",
   "execution_count": 166,
   "outputs": [],
   "source": [
    "\n",
    "#three hundred and twentieth function is np.nan\n",
    "\n"
   ],
   "metadata": {
    "collapsed": false,
    "pycharm": {
     "name": "#%%\n"
    }
   }
  },
  {
   "cell_type": "code",
   "execution_count": 167,
   "outputs": [],
   "source": [
    "\n",
    "#three hundred and twenty first function is np.nan_to_num\n",
    "\n"
   ],
   "metadata": {
    "collapsed": false,
    "pycharm": {
     "name": "#%%\n"
    }
   }
  },
  {
   "cell_type": "code",
   "execution_count": 168,
   "outputs": [],
   "source": [
    "\n",
    "#three hundred and twenty second function is np.nanargmax\n",
    "\n"
   ],
   "metadata": {
    "collapsed": false,
    "pycharm": {
     "name": "#%%\n"
    }
   }
  },
  {
   "cell_type": "code",
   "execution_count": 169,
   "outputs": [],
   "source": [
    "\n",
    "#three hundred and twenty third function is np.nanargmin\n",
    "\n"
   ],
   "metadata": {
    "collapsed": false,
    "pycharm": {
     "name": "#%%\n"
    }
   }
  },
  {
   "cell_type": "code",
   "execution_count": 170,
   "outputs": [],
   "source": [
    "\n",
    "#three hundred and twenty fourth function is np.nancumprod\n",
    "\n"
   ],
   "metadata": {
    "collapsed": false,
    "pycharm": {
     "name": "#%%\n"
    }
   }
  },
  {
   "cell_type": "code",
   "execution_count": 171,
   "outputs": [],
   "source": [
    "\n",
    "#three hundred and twenty fifth function is np.nancumsum\n",
    "\n"
   ],
   "metadata": {
    "collapsed": false,
    "pycharm": {
     "name": "#%%\n"
    }
   }
  },
  {
   "cell_type": "code",
   "execution_count": 172,
   "outputs": [],
   "source": [
    "\n",
    "#three hundred and twenty sixth function is np.nanmax\n",
    "\n"
   ],
   "metadata": {
    "collapsed": false,
    "pycharm": {
     "name": "#%%\n"
    }
   }
  },
  {
   "cell_type": "code",
   "execution_count": 173,
   "outputs": [],
   "source": [
    "\n",
    "#three hundred and twenty seventh function is np.nanmean\n",
    "\n"
   ],
   "metadata": {
    "collapsed": false,
    "pycharm": {
     "name": "#%%\n"
    }
   }
  },
  {
   "cell_type": "code",
   "execution_count": 174,
   "outputs": [],
   "source": [
    "\n",
    "#three hundred and twenty eighth function is np.nanmedian\n",
    "\n"
   ],
   "metadata": {
    "collapsed": false,
    "pycharm": {
     "name": "#%%\n"
    }
   }
  },
  {
   "cell_type": "code",
   "execution_count": 175,
   "outputs": [],
   "source": [
    "\n",
    "#three hundred and twenty ninth function is np.nanmin\n",
    "\n"
   ],
   "metadata": {
    "collapsed": false,
    "pycharm": {
     "name": "#%%\n"
    }
   }
  },
  {
   "cell_type": "code",
   "execution_count": 176,
   "outputs": [],
   "source": [
    "\n",
    "#three hundred and thirtieth function is np.nanpercentile\n",
    "\n"
   ],
   "metadata": {
    "collapsed": false,
    "pycharm": {
     "name": "#%%\n"
    }
   }
  },
  {
   "cell_type": "code",
   "execution_count": 177,
   "outputs": [],
   "source": [
    "\n",
    "#three hundred and thirty first function is np.nanprod\n",
    "\n"
   ],
   "metadata": {
    "collapsed": false,
    "pycharm": {
     "name": "#%%\n"
    }
   }
  },
  {
   "cell_type": "code",
   "execution_count": 178,
   "outputs": [],
   "source": [
    "\n",
    "#three hundred and thirty second function is np.nanquantile\n",
    "\n"
   ],
   "metadata": {
    "collapsed": false,
    "pycharm": {
     "name": "#%%\n"
    }
   }
  },
  {
   "cell_type": "code",
   "execution_count": 179,
   "outputs": [],
   "source": [
    "\n",
    "#three hundred and thirty third function is np.nanstd\n",
    "\n"
   ],
   "metadata": {
    "collapsed": false,
    "pycharm": {
     "name": "#%%\n"
    }
   }
  },
  {
   "cell_type": "code",
   "execution_count": 180,
   "outputs": [],
   "source": [
    "\n",
    "#three hundred and thirty fourth function is np.nansum\n",
    "\n"
   ],
   "metadata": {
    "collapsed": false,
    "pycharm": {
     "name": "#%%\n"
    }
   }
  },
  {
   "cell_type": "code",
   "execution_count": 181,
   "outputs": [],
   "source": [
    "\n",
    "#three hundred and thirty fifth function is np.nanvar\n",
    "\n"
   ],
   "metadata": {
    "collapsed": false,
    "pycharm": {
     "name": "#%%\n"
    }
   }
  },
  {
   "cell_type": "code",
   "execution_count": 182,
   "outputs": [],
   "source": [
    "\n",
    "#three hundred and thirty sixth function is np.nbytes\n",
    "\n"
   ],
   "metadata": {
    "collapsed": false,
    "pycharm": {
     "name": "#%%\n"
    }
   }
  },
  {
   "cell_type": "code",
   "execution_count": 183,
   "outputs": [],
   "source": [
    "\n",
    "#three hundred and thirty seventh function is np.ndarray\n",
    "\n"
   ],
   "metadata": {
    "collapsed": false,
    "pycharm": {
     "name": "#%%\n"
    }
   }
  },
  {
   "cell_type": "code",
   "execution_count": 184,
   "outputs": [],
   "source": [
    "\n",
    "#three hundred and thirty eighth function is np.ndenumerate\n",
    "\n"
   ],
   "metadata": {
    "collapsed": false,
    "pycharm": {
     "name": "#%%\n"
    }
   }
  },
  {
   "cell_type": "code",
   "execution_count": 185,
   "outputs": [],
   "source": [
    "\n",
    "#three hundred and thirty ninth function is np.ndim\n",
    "\n"
   ],
   "metadata": {
    "collapsed": false,
    "pycharm": {
     "name": "#%%\n"
    }
   }
  },
  {
   "cell_type": "code",
   "execution_count": 186,
   "outputs": [],
   "source": [
    "\n",
    "#three hundred and fortieth function is np.ndindex\n",
    "\n"
   ],
   "metadata": {
    "collapsed": false,
    "pycharm": {
     "name": "#%%\n"
    }
   }
  },
  {
   "cell_type": "code",
   "execution_count": 187,
   "outputs": [],
   "source": [
    "\n",
    "#three hundred and fourty first function is np.nditer\n",
    "\n"
   ],
   "metadata": {
    "collapsed": false,
    "pycharm": {
     "name": "#%%\n"
    }
   }
  },
  {
   "cell_type": "code",
   "execution_count": 188,
   "outputs": [],
   "source": [
    "\n",
    "#three hundred and fourty second function is np.negative\n",
    "\n"
   ],
   "metadata": {
    "collapsed": false,
    "pycharm": {
     "name": "#%%\n"
    }
   }
  },
  {
   "cell_type": "code",
   "execution_count": 189,
   "outputs": [],
   "source": [
    "\n",
    "#three hundred and fourty third function is np.nested_iters\n",
    "\n"
   ],
   "metadata": {
    "collapsed": false,
    "pycharm": {
     "name": "#%%\n"
    }
   }
  },
  {
   "cell_type": "code",
   "execution_count": 190,
   "outputs": [],
   "source": [
    "\n",
    "#three hundred and fourty fourth function is np.newaxis\n",
    "\n"
   ],
   "metadata": {
    "collapsed": false,
    "pycharm": {
     "name": "#%%\n"
    }
   }
  },
  {
   "cell_type": "code",
   "execution_count": 191,
   "outputs": [],
   "source": [
    "\n",
    "#three hundred and fourty fifth function is np.nextafter\n",
    "\n"
   ],
   "metadata": {
    "collapsed": false,
    "pycharm": {
     "name": "#%%\n"
    }
   }
  },
  {
   "cell_type": "code",
   "execution_count": 192,
   "outputs": [],
   "source": [
    "\n",
    "#three hundred and fourty sixth function is np.nonzero\n",
    "\n"
   ],
   "metadata": {
    "collapsed": false,
    "pycharm": {
     "name": "#%%\n"
    }
   }
  },
  {
   "cell_type": "code",
   "execution_count": 193,
   "outputs": [],
   "source": [
    "\n",
    "#three hundred and fourty seventh function is np.not_equal\n",
    "\n"
   ],
   "metadata": {
    "collapsed": false,
    "pycharm": {
     "name": "#%%\n"
    }
   }
  },
  {
   "cell_type": "code",
   "execution_count": 194,
   "outputs": [],
   "source": [
    "\n",
    "#three hundred and fourty eighth function is np.numarray\n",
    "\n"
   ],
   "metadata": {
    "collapsed": false,
    "pycharm": {
     "name": "#%%\n"
    }
   }
  },
  {
   "cell_type": "code",
   "execution_count": 195,
   "outputs": [],
   "source": [
    "\n",
    "#three hundred and fourty ninth function is np.number\n",
    "\n"
   ],
   "metadata": {
    "collapsed": false,
    "pycharm": {
     "name": "#%%\n"
    }
   }
  },
  {
   "cell_type": "code",
   "execution_count": 196,
   "outputs": [],
   "source": [
    "\n",
    "#three hundred and fiftieth function is np.obj2sctype\n",
    "\n"
   ],
   "metadata": {
    "collapsed": false,
    "pycharm": {
     "name": "#%%\n"
    }
   }
  },
  {
   "cell_type": "code",
   "execution_count": 197,
   "outputs": [],
   "source": [
    "\n",
    "#three hundred and fifty first function is np.object0\n",
    "\n"
   ],
   "metadata": {
    "collapsed": false,
    "pycharm": {
     "name": "#%%\n"
    }
   }
  },
  {
   "cell_type": "code",
   "execution_count": 198,
   "outputs": [],
   "source": [
    "\n",
    "#three hundred and fifty second function is np.object_\n",
    "\n"
   ],
   "metadata": {
    "collapsed": false,
    "pycharm": {
     "name": "#%%\n"
    }
   }
  },
  {
   "cell_type": "code",
   "execution_count": 199,
   "outputs": [],
   "source": [
    "\n",
    "#three hundred and fifty third function is np.ogrid\n",
    "\n"
   ],
   "metadata": {
    "collapsed": false,
    "pycharm": {
     "name": "#%%\n"
    }
   }
  },
  {
   "cell_type": "code",
   "execution_count": 200,
   "outputs": [],
   "source": [
    "\n",
    "#three hundred and fifty fourth function is np.oldnumeric\n",
    "\n"
   ],
   "metadata": {
    "collapsed": false,
    "pycharm": {
     "name": "#%%\n"
    }
   }
  },
  {
   "cell_type": "code",
   "execution_count": 201,
   "outputs": [],
   "source": [
    "\n",
    "#three hundred and fifty fifth function is np.ones\n",
    "\n"
   ],
   "metadata": {
    "collapsed": false,
    "pycharm": {
     "name": "#%%\n"
    }
   }
  },
  {
   "cell_type": "code",
   "execution_count": 202,
   "outputs": [],
   "source": [
    "\n",
    "#three hundred and fifty sixth function is np.ones_like\n",
    "\n"
   ],
   "metadata": {
    "collapsed": false,
    "pycharm": {
     "name": "#%%\n"
    }
   }
  },
  {
   "cell_type": "code",
   "execution_count": 203,
   "outputs": [],
   "source": [
    "\n",
    "#three hundred and fifty seventh function is np.os\n",
    "\n"
   ],
   "metadata": {
    "collapsed": false,
    "pycharm": {
     "name": "#%%\n"
    }
   }
  },
  {
   "cell_type": "code",
   "execution_count": 204,
   "outputs": [],
   "source": [
    "\n",
    "#three hundred and fifty eighth function is np.outer\n",
    "\n"
   ],
   "metadata": {
    "collapsed": false,
    "pycharm": {
     "name": "#%%\n"
    }
   }
  },
  {
   "cell_type": "code",
   "execution_count": 205,
   "outputs": [],
   "source": [
    "\n",
    "#three hundred and fifty ninth function is np.packbits\n",
    "\n"
   ],
   "metadata": {
    "collapsed": false,
    "pycharm": {
     "name": "#%%\n"
    }
   }
  },
  {
   "cell_type": "code",
   "execution_count": 206,
   "outputs": [],
   "source": [
    "\n",
    "#three hundred and sixtieth function is np.pad\n",
    "\n"
   ],
   "metadata": {
    "collapsed": false,
    "pycharm": {
     "name": "#%%\n"
    }
   }
  },
  {
   "cell_type": "code",
   "execution_count": 207,
   "outputs": [],
   "source": [
    "\n",
    "#three hundred and sixty first function is np.partition\n",
    "\n"
   ],
   "metadata": {
    "collapsed": false,
    "pycharm": {
     "name": "#%%\n"
    }
   }
  },
  {
   "cell_type": "code",
   "execution_count": 208,
   "outputs": [],
   "source": [
    "\n",
    "#three hundred and sixty second function is np.percentile\n",
    "\n"
   ],
   "metadata": {
    "collapsed": false,
    "pycharm": {
     "name": "#%%\n"
    }
   }
  },
  {
   "cell_type": "code",
   "execution_count": 209,
   "outputs": [],
   "source": [
    "\n",
    "#three hundred and sixty third function is np.pi\n",
    "\n"
   ],
   "metadata": {
    "collapsed": false,
    "pycharm": {
     "name": "#%%\n"
    }
   }
  },
  {
   "cell_type": "code",
   "execution_count": 210,
   "outputs": [],
   "source": [
    "\n",
    "#three hundred and sixty fourth function is np.piecewise\n",
    "\n"
   ],
   "metadata": {
    "collapsed": false,
    "pycharm": {
     "name": "#%%\n"
    }
   }
  },
  {
   "cell_type": "code",
   "execution_count": 211,
   "outputs": [],
   "source": [
    "\n",
    "#three hundred and sixty fifth function is np.place\n",
    "\n"
   ],
   "metadata": {
    "collapsed": false,
    "pycharm": {
     "name": "#%%\n"
    }
   }
  },
  {
   "cell_type": "code",
   "execution_count": 212,
   "outputs": [],
   "source": [
    "\n",
    "#three hundred and sixty sixth function is np.poly\n",
    "\n"
   ],
   "metadata": {
    "collapsed": false,
    "pycharm": {
     "name": "#%%\n"
    }
   }
  },
  {
   "cell_type": "code",
   "execution_count": 213,
   "outputs": [],
   "source": [
    "\n",
    "#three hundred and sixty seventh function is np.poly1d\n",
    "\n"
   ],
   "metadata": {
    "collapsed": false,
    "pycharm": {
     "name": "#%%\n"
    }
   }
  },
  {
   "cell_type": "code",
   "execution_count": 214,
   "outputs": [],
   "source": [
    "\n",
    "#three hundred and sixty eighth function is np.polyadd\n",
    "\n"
   ],
   "metadata": {
    "collapsed": false,
    "pycharm": {
     "name": "#%%\n"
    }
   }
  },
  {
   "cell_type": "code",
   "execution_count": 215,
   "outputs": [],
   "source": [
    "\n",
    "#three hundred and sixty ninth function is np.polyder\n",
    "\n"
   ],
   "metadata": {
    "collapsed": false,
    "pycharm": {
     "name": "#%%\n"
    }
   }
  },
  {
   "cell_type": "code",
   "execution_count": 216,
   "outputs": [],
   "source": [
    "\n",
    "#three hundred and seventieth function is np.polydiv\n",
    "\n"
   ],
   "metadata": {
    "collapsed": false,
    "pycharm": {
     "name": "#%%\n"
    }
   }
  },
  {
   "cell_type": "code",
   "execution_count": 217,
   "outputs": [],
   "source": [
    "\n",
    "#three hundred and seventy first function is np.polyfit\n",
    "\n"
   ],
   "metadata": {
    "collapsed": false,
    "pycharm": {
     "name": "#%%\n"
    }
   }
  },
  {
   "cell_type": "code",
   "execution_count": 218,
   "outputs": [],
   "source": [
    "\n",
    "#three hundred and seventy second function is np.polyint\n",
    "\n"
   ],
   "metadata": {
    "collapsed": false,
    "pycharm": {
     "name": "#%%\n"
    }
   }
  },
  {
   "cell_type": "code",
   "execution_count": 219,
   "outputs": [],
   "source": [
    "\n",
    "#three hundred and seventy third function is np.polymul\n",
    "\n"
   ],
   "metadata": {
    "collapsed": false,
    "pycharm": {
     "name": "#%%\n"
    }
   }
  },
  {
   "cell_type": "code",
   "execution_count": 220,
   "outputs": [],
   "source": [
    "\n",
    "#three hundred and seventy fourth function is np.polynomial\n",
    "\n"
   ],
   "metadata": {
    "collapsed": false,
    "pycharm": {
     "name": "#%%\n"
    }
   }
  },
  {
   "cell_type": "code",
   "execution_count": 221,
   "outputs": [],
   "source": [
    "\n",
    "#three hundred and seventy fifth function is np.polysub\n",
    "\n"
   ],
   "metadata": {
    "collapsed": false,
    "pycharm": {
     "name": "#%%\n"
    }
   }
  },
  {
   "cell_type": "code",
   "execution_count": 222,
   "outputs": [],
   "source": [
    "\n",
    "#three hundred and seventy sixth function is np.polyval\n",
    "\n"
   ],
   "metadata": {
    "collapsed": false,
    "pycharm": {
     "name": "#%%\n"
    }
   }
  },
  {
   "cell_type": "code",
   "execution_count": 223,
   "outputs": [],
   "source": [
    "\n",
    "#three hundred and seventy seventh function is np.positive\n",
    "\n"
   ],
   "metadata": {
    "collapsed": false,
    "pycharm": {
     "name": "#%%\n"
    }
   }
  },
  {
   "cell_type": "code",
   "execution_count": 224,
   "outputs": [],
   "source": [
    "\n",
    "#three hundred and seventy eighth function is np.power\n",
    "\n"
   ],
   "metadata": {
    "collapsed": false,
    "pycharm": {
     "name": "#%%\n"
    }
   }
  },
  {
   "cell_type": "code",
   "execution_count": 225,
   "outputs": [],
   "source": [
    "\n",
    "#three hundred and seventy ninth function is np.printoptions\n",
    "\n"
   ],
   "metadata": {
    "collapsed": false,
    "pycharm": {
     "name": "#%%\n"
    }
   }
  },
  {
   "cell_type": "code",
   "execution_count": 226,
   "outputs": [],
   "source": [
    "\n",
    "#three hundred and eightieth function is np.prod\n",
    "\n"
   ],
   "metadata": {
    "collapsed": false,
    "pycharm": {
     "name": "#%%\n"
    }
   }
  },
  {
   "cell_type": "code",
   "execution_count": 227,
   "outputs": [],
   "source": [
    "\n",
    "#three hundred and eighty first function is np.product\n",
    "\n"
   ],
   "metadata": {
    "collapsed": false,
    "pycharm": {
     "name": "#%%\n"
    }
   }
  },
  {
   "cell_type": "code",
   "execution_count": 228,
   "outputs": [],
   "source": [
    "\n",
    "#three hundred and eighty second function is np.promote_types\n",
    "\n"
   ],
   "metadata": {
    "collapsed": false,
    "pycharm": {
     "name": "#%%\n"
    }
   }
  },
  {
   "cell_type": "code",
   "execution_count": 229,
   "outputs": [],
   "source": [
    "\n",
    "#three hundred and eighty third function is np.ptp\n",
    "\n"
   ],
   "metadata": {
    "collapsed": false,
    "pycharm": {
     "name": "#%%\n"
    }
   }
  },
  {
   "cell_type": "code",
   "execution_count": 230,
   "outputs": [],
   "source": [
    "\n",
    "#three hundred and eighty fourth function is np.put\n",
    "\n"
   ],
   "metadata": {
    "collapsed": false,
    "pycharm": {
     "name": "#%%\n"
    }
   }
  },
  {
   "cell_type": "code",
   "execution_count": 231,
   "outputs": [],
   "source": [
    "\n",
    "#three hundred and eighty fifth function is np.put_along_axis\n",
    "\n"
   ],
   "metadata": {
    "collapsed": false,
    "pycharm": {
     "name": "#%%\n"
    }
   }
  },
  {
   "cell_type": "code",
   "execution_count": 232,
   "outputs": [],
   "source": [
    "\n",
    "#three hundred and eighty sixth function is np.putmask\n",
    "\n"
   ],
   "metadata": {
    "collapsed": false,
    "pycharm": {
     "name": "#%%\n"
    }
   }
  },
  {
   "cell_type": "code",
   "execution_count": 233,
   "outputs": [],
   "source": [
    "\n",
    "#three hundred and eighty seventh function is np.quantile\n",
    "\n"
   ],
   "metadata": {
    "collapsed": false,
    "pycharm": {
     "name": "#%%\n"
    }
   }
  },
  {
   "cell_type": "code",
   "execution_count": 234,
   "outputs": [],
   "source": [
    "\n",
    "#three hundred and eighty eighth function is np.rad2deg\n",
    "\n"
   ],
   "metadata": {
    "collapsed": false,
    "pycharm": {
     "name": "#%%\n"
    }
   }
  },
  {
   "cell_type": "code",
   "execution_count": 235,
   "outputs": [],
   "source": [
    "\n",
    "#three hundred and eighty ninth function is np.radians\n",
    "\n"
   ],
   "metadata": {
    "collapsed": false,
    "pycharm": {
     "name": "#%%\n"
    }
   }
  },
  {
   "cell_type": "code",
   "execution_count": 236,
   "outputs": [],
   "source": [
    "\n",
    "#three hundred and ninetieth function is np.random\n",
    "\n"
   ],
   "metadata": {
    "collapsed": false,
    "pycharm": {
     "name": "#%%\n"
    }
   }
  },
  {
   "cell_type": "code",
   "execution_count": 237,
   "outputs": [],
   "source": [
    "\n",
    "#three hundred and ninety first function is np.ravel\n",
    "\n"
   ],
   "metadata": {
    "collapsed": false,
    "pycharm": {
     "name": "#%%\n"
    }
   }
  },
  {
   "cell_type": "code",
   "execution_count": 238,
   "outputs": [],
   "source": [
    "\n",
    "#three hundred and ninety second function is np.ravel_multi_index\n",
    "\n"
   ],
   "metadata": {
    "collapsed": false,
    "pycharm": {
     "name": "#%%\n"
    }
   }
  },
  {
   "cell_type": "code",
   "execution_count": 239,
   "outputs": [],
   "source": [
    "\n",
    "#three hundred and ninety third function is np.real\n",
    "\n"
   ],
   "metadata": {
    "collapsed": false,
    "pycharm": {
     "name": "#%%\n"
    }
   }
  },
  {
   "cell_type": "code",
   "execution_count": 240,
   "outputs": [],
   "source": [
    "\n",
    "#three hundred and ninety fourth function is np.real_if_close\n",
    "\n"
   ],
   "metadata": {
    "collapsed": false,
    "pycharm": {
     "name": "#%%\n"
    }
   }
  },
  {
   "cell_type": "code",
   "execution_count": 241,
   "outputs": [],
   "source": [
    "\n",
    "#three hundred and ninety fifth function is np.rec\n",
    "\n"
   ],
   "metadata": {
    "collapsed": false,
    "pycharm": {
     "name": "#%%\n"
    }
   }
  },
  {
   "cell_type": "code",
   "execution_count": 242,
   "outputs": [],
   "source": [
    "\n",
    "#three hundred and ninety sixth function is np.recarray\n",
    "\n"
   ],
   "metadata": {
    "collapsed": false,
    "pycharm": {
     "name": "#%%\n"
    }
   }
  },
  {
   "cell_type": "code",
   "execution_count": 243,
   "outputs": [],
   "source": [
    "\n",
    "#three hundred and ninety seventh function is np.recfromcsv\n",
    "\n"
   ],
   "metadata": {
    "collapsed": false,
    "pycharm": {
     "name": "#%%\n"
    }
   }
  },
  {
   "cell_type": "code",
   "execution_count": 244,
   "outputs": [],
   "source": [
    "\n",
    "#three hundred and ninety eighth function is np.recfromtxt\n",
    "\n"
   ],
   "metadata": {
    "collapsed": false,
    "pycharm": {
     "name": "#%%\n"
    }
   }
  },
  {
   "cell_type": "code",
   "execution_count": 245,
   "outputs": [],
   "source": [
    "\n",
    "#three hundred and ninety eighth function is np.reciprocal\n",
    "\n"
   ],
   "metadata": {
    "collapsed": false,
    "pycharm": {
     "name": "#%%\n"
    }
   }
  },
  {
   "cell_type": "code",
   "execution_count": 246,
   "outputs": [],
   "source": [
    "\n",
    "#four hundredth function is np.record\n",
    "\n"
   ],
   "metadata": {
    "collapsed": false,
    "pycharm": {
     "name": "#%%\n"
    }
   }
  },
  {
   "cell_type": "code",
   "execution_count": 247,
   "outputs": [],
   "source": [
    "\n",
    "#four hundred and first function is np.remainder\n",
    "\n"
   ],
   "metadata": {
    "collapsed": false,
    "pycharm": {
     "name": "#%%\n"
    }
   }
  },
  {
   "cell_type": "code",
   "execution_count": 248,
   "outputs": [],
   "source": [
    "\n",
    "#four hundred and second function is np.repeat\n",
    "\n"
   ],
   "metadata": {
    "collapsed": false,
    "pycharm": {
     "name": "#%%\n"
    }
   }
  },
  {
   "cell_type": "code",
   "execution_count": 249,
   "outputs": [],
   "source": [
    "\n",
    "#four hundred and third function is np.require\n",
    "\n"
   ],
   "metadata": {
    "collapsed": false,
    "pycharm": {
     "name": "#%%\n"
    }
   }
  },
  {
   "cell_type": "code",
   "execution_count": 250,
   "outputs": [],
   "source": [
    "\n",
    "#four hundred and fourth function is np.reshape\n",
    "\n"
   ],
   "metadata": {
    "collapsed": false,
    "pycharm": {
     "name": "#%%\n"
    }
   }
  },
  {
   "cell_type": "code",
   "execution_count": 251,
   "outputs": [],
   "source": [
    "\n",
    "#four hundred and fifth function is np.resize\n",
    "\n"
   ],
   "metadata": {
    "collapsed": false,
    "pycharm": {
     "name": "#%%\n"
    }
   }
  },
  {
   "cell_type": "code",
   "execution_count": 252,
   "outputs": [],
   "source": [
    "\n",
    "#four hundred and sixth function is np.result_type\n",
    "\n"
   ],
   "metadata": {
    "collapsed": false,
    "pycharm": {
     "name": "#%%\n"
    }
   }
  },
  {
   "cell_type": "code",
   "execution_count": 253,
   "outputs": [],
   "source": [
    "\n",
    "#four hundred and seventh function is np.right_shift\n",
    "\n"
   ],
   "metadata": {
    "collapsed": false,
    "pycharm": {
     "name": "#%%\n"
    }
   }
  },
  {
   "cell_type": "code",
   "execution_count": 254,
   "outputs": [],
   "source": [
    "\n",
    "#four hundred and eighth function is np.rint\n",
    "\n"
   ],
   "metadata": {
    "collapsed": false,
    "pycharm": {
     "name": "#%%\n"
    }
   }
  },
  {
   "cell_type": "code",
   "execution_count": 255,
   "outputs": [],
   "source": [
    "\n",
    "#four hundred and ninth function is np.roll\n",
    "\n"
   ],
   "metadata": {
    "collapsed": false,
    "pycharm": {
     "name": "#%%\n"
    }
   }
  },
  {
   "cell_type": "code",
   "execution_count": 256,
   "outputs": [],
   "source": [
    "\n",
    "#four hundred and tenth function is np.rollaxis\n"
   ],
   "metadata": {
    "collapsed": false,
    "pycharm": {
     "name": "#%%\n"
    }
   }
  },
  {
   "cell_type": "code",
   "execution_count": 257,
   "outputs": [],
   "source": [
    "\n",
    "#four hundred and eleventh function is np.roots\n"
   ],
   "metadata": {
    "collapsed": false,
    "pycharm": {
     "name": "#%%\n"
    }
   }
  },
  {
   "cell_type": "code",
   "execution_count": 258,
   "outputs": [],
   "source": [
    "\n",
    "#four hundred and twelveth function is np.rot90\n",
    "\n"
   ],
   "metadata": {
    "collapsed": false,
    "pycharm": {
     "name": "#%%\n"
    }
   }
  },
  {
   "cell_type": "code",
   "execution_count": 259,
   "outputs": [],
   "source": [
    "\n",
    "#four hundred and thirteenth function is np.round\n",
    "\n"
   ],
   "metadata": {
    "collapsed": false,
    "pycharm": {
     "name": "#%%\n"
    }
   }
  },
  {
   "cell_type": "code",
   "execution_count": 260,
   "outputs": [],
   "source": [
    "\n",
    "#four hundred and fourteenth function is np.round_\n",
    "\n"
   ],
   "metadata": {
    "collapsed": false,
    "pycharm": {
     "name": "#%%\n"
    }
   }
  },
  {
   "cell_type": "code",
   "execution_count": 261,
   "outputs": [],
   "source": [
    "\n",
    "#four hundred and fifteenth function is np.row_stack\n",
    "\n"
   ],
   "metadata": {
    "collapsed": false,
    "pycharm": {
     "name": "#%%\n"
    }
   }
  },
  {
   "cell_type": "code",
   "execution_count": 262,
   "outputs": [],
   "source": [
    "\n",
    "#four hundred and sixteenth function is np.safe_eval\n",
    "\n"
   ],
   "metadata": {
    "collapsed": false,
    "pycharm": {
     "name": "#%%\n"
    }
   }
  },
  {
   "cell_type": "code",
   "execution_count": 263,
   "outputs": [],
   "source": [
    "\n",
    "#four hundred and seventeenth function is np.save\n",
    "\n"
   ],
   "metadata": {
    "collapsed": false,
    "pycharm": {
     "name": "#%%\n"
    }
   }
  },
  {
   "cell_type": "code",
   "execution_count": 264,
   "outputs": [],
   "source": [
    "\n",
    "#four hundred and eighteenth function is np.savetxt\n",
    "\n"
   ],
   "metadata": {
    "collapsed": false,
    "pycharm": {
     "name": "#%%\n"
    }
   }
  },
  {
   "cell_type": "code",
   "execution_count": 265,
   "outputs": [],
   "source": [
    "\n",
    "#four hundred and nineteenth function is np.savez\n",
    "\n"
   ],
   "metadata": {
    "collapsed": false,
    "pycharm": {
     "name": "#%%\n"
    }
   }
  },
  {
   "cell_type": "code",
   "execution_count": 266,
   "outputs": [],
   "source": [
    "\n",
    "#four hundred and twentieth function is np.savez_compressed\n",
    "\n"
   ],
   "metadata": {
    "collapsed": false,
    "pycharm": {
     "name": "#%%\n"
    }
   }
  },
  {
   "cell_type": "code",
   "execution_count": 267,
   "outputs": [],
   "source": [
    "\n",
    "#four hundred and twenty first function is np.sctype2char\n",
    "\n"
   ],
   "metadata": {
    "collapsed": false,
    "pycharm": {
     "name": "#%%\n"
    }
   }
  },
  {
   "cell_type": "code",
   "execution_count": 268,
   "outputs": [],
   "source": [
    "\n",
    "#four hundred and twenty second function is np.sctypeDict\n",
    "\n"
   ],
   "metadata": {
    "collapsed": false,
    "pycharm": {
     "name": "#%%\n"
    }
   }
  },
  {
   "cell_type": "code",
   "execution_count": 269,
   "outputs": [],
   "source": [
    "\n",
    "#four hundred and twenty third function is np.sctypes\n",
    "\n"
   ],
   "metadata": {
    "collapsed": false,
    "pycharm": {
     "name": "#%%\n"
    }
   }
  },
  {
   "cell_type": "code",
   "execution_count": 270,
   "outputs": [],
   "source": [
    "\n",
    "#four hundred and twenty fourth function is np.searchsorted\n",
    "\n"
   ],
   "metadata": {
    "collapsed": false,
    "pycharm": {
     "name": "#%%\n"
    }
   }
  },
  {
   "cell_type": "code",
   "execution_count": 271,
   "outputs": [],
   "source": [
    "\n",
    "#four hundred and twenty fifth function is np.select\n",
    "\n"
   ],
   "metadata": {
    "collapsed": false,
    "pycharm": {
     "name": "#%%\n"
    }
   }
  },
  {
   "cell_type": "code",
   "execution_count": 272,
   "outputs": [],
   "source": [
    "\n",
    "#four hundred and twenty sixth function is np.set_numeric_ops\n",
    "\n"
   ],
   "metadata": {
    "collapsed": false,
    "pycharm": {
     "name": "#%%\n"
    }
   }
  },
  {
   "cell_type": "code",
   "execution_count": 273,
   "outputs": [],
   "source": [
    "\n",
    "#four hundred and twenty seventh function is np.set_printoptions\n",
    "\n"
   ],
   "metadata": {
    "collapsed": false,
    "pycharm": {
     "name": "#%%\n"
    }
   }
  },
  {
   "cell_type": "code",
   "execution_count": 274,
   "outputs": [],
   "source": [
    "\n",
    "#four hundred and twenty eighth function is np.set_string_function\n",
    "\n"
   ],
   "metadata": {
    "collapsed": false,
    "pycharm": {
     "name": "#%%\n"
    }
   }
  },
  {
   "cell_type": "code",
   "execution_count": 275,
   "outputs": [],
   "source": [
    "\n",
    "#four hundred and twenty ninth function is np.setbufsize\n",
    "\n"
   ],
   "metadata": {
    "collapsed": false,
    "pycharm": {
     "name": "#%%\n"
    }
   }
  },
  {
   "cell_type": "code",
   "execution_count": 276,
   "outputs": [],
   "source": [
    "\n",
    "#four hundred and thirtieth function is np.setdiff1d\n",
    "\n"
   ],
   "metadata": {
    "collapsed": false,
    "pycharm": {
     "name": "#%%\n"
    }
   }
  },
  {
   "cell_type": "code",
   "execution_count": 277,
   "outputs": [],
   "source": [
    "\n",
    "#four hundred and thirty first function is np.seterr\n",
    "\n"
   ],
   "metadata": {
    "collapsed": false,
    "pycharm": {
     "name": "#%%\n"
    }
   }
  },
  {
   "cell_type": "code",
   "execution_count": 278,
   "outputs": [],
   "source": [
    "\n",
    "#four hundred and thirty second function is np.seterrcall\n",
    "\n"
   ],
   "metadata": {
    "collapsed": false,
    "pycharm": {
     "name": "#%%\n"
    }
   }
  },
  {
   "cell_type": "code",
   "execution_count": 279,
   "outputs": [],
   "source": [
    "\n",
    "#four hundred and thirty third function is np.seterrobj\n",
    "\n"
   ],
   "metadata": {
    "collapsed": false,
    "pycharm": {
     "name": "#%%\n"
    }
   }
  },
  {
   "cell_type": "code",
   "execution_count": 280,
   "outputs": [],
   "source": [
    "\n",
    "#four hundred and thirty fourth function is np.setxor1d\n",
    "\n"
   ],
   "metadata": {
    "collapsed": false,
    "pycharm": {
     "name": "#%%\n"
    }
   }
  },
  {
   "cell_type": "code",
   "execution_count": 281,
   "outputs": [],
   "source": [
    "\n",
    "#four hundred and thirty fifth function is np.shape\n",
    "\n"
   ],
   "metadata": {
    "collapsed": false,
    "pycharm": {
     "name": "#%%\n"
    }
   }
  },
  {
   "cell_type": "code",
   "execution_count": 282,
   "outputs": [],
   "source": [
    "\n",
    "#four hundred and thirty sixth function is np.shares_memory\n",
    "\n"
   ],
   "metadata": {
    "collapsed": false,
    "pycharm": {
     "name": "#%%\n"
    }
   }
  },
  {
   "cell_type": "code",
   "execution_count": 283,
   "outputs": [],
   "source": [
    "\n",
    "#four hundred and thirty seventh function is np.short\n",
    "\n"
   ],
   "metadata": {
    "collapsed": false,
    "pycharm": {
     "name": "#%%\n"
    }
   }
  },
  {
   "cell_type": "code",
   "execution_count": 284,
   "outputs": [],
   "source": [
    "\n",
    "#four hundred and thirty eighth function is np.show_config\n",
    "\n"
   ],
   "metadata": {
    "collapsed": false,
    "pycharm": {
     "name": "#%%\n"
    }
   }
  },
  {
   "cell_type": "code",
   "execution_count": 285,
   "outputs": [],
   "source": [
    "\n",
    "#four hundred and thirty ninth function is np.sign\n",
    "\n"
   ],
   "metadata": {
    "collapsed": false,
    "pycharm": {
     "name": "#%%\n"
    }
   }
  },
  {
   "cell_type": "code",
   "execution_count": 286,
   "outputs": [],
   "source": [
    "\n",
    "#four hundred and fortieth function is np.signbit\n",
    "\n"
   ],
   "metadata": {
    "collapsed": false,
    "pycharm": {
     "name": "#%%\n"
    }
   }
  },
  {
   "cell_type": "code",
   "execution_count": 287,
   "outputs": [],
   "source": [
    "\n",
    "#four hundred and fourty first function is np.signedinteger\n",
    "\n"
   ],
   "metadata": {
    "collapsed": false,
    "pycharm": {
     "name": "#%%\n"
    }
   }
  },
  {
   "cell_type": "code",
   "execution_count": 288,
   "outputs": [],
   "source": [
    "\n",
    "#four hundred and fourty second function is np.sin\n",
    "\n"
   ],
   "metadata": {
    "collapsed": false,
    "pycharm": {
     "name": "#%%\n"
    }
   }
  },
  {
   "cell_type": "code",
   "execution_count": 289,
   "outputs": [],
   "source": [
    "\n",
    "#four hundred and fourty third function is np.sinc\n",
    "\n"
   ],
   "metadata": {
    "collapsed": false,
    "pycharm": {
     "name": "#%%\n"
    }
   }
  },
  {
   "cell_type": "code",
   "execution_count": 290,
   "outputs": [],
   "source": [
    "\n",
    "#four hundred and fourty fourth function is np.single\n",
    "\n"
   ],
   "metadata": {
    "collapsed": false,
    "pycharm": {
     "name": "#%%\n"
    }
   }
  },
  {
   "cell_type": "code",
   "execution_count": 291,
   "outputs": [],
   "source": [
    "\n",
    "#four hundred and fourty fifth function is np.singlecomplex\n",
    "\n"
   ],
   "metadata": {
    "collapsed": false,
    "pycharm": {
     "name": "#%%\n"
    }
   }
  },
  {
   "cell_type": "code",
   "execution_count": 292,
   "outputs": [],
   "source": [
    "\n",
    "#four hundred and fourty sixth function is np.sinh\n",
    "\n"
   ],
   "metadata": {
    "collapsed": false,
    "pycharm": {
     "name": "#%%\n"
    }
   }
  },
  {
   "cell_type": "code",
   "execution_count": 293,
   "outputs": [],
   "source": [
    "\n",
    "#four hundred and fourty seventh function is np.size\n",
    "\n"
   ],
   "metadata": {
    "collapsed": false,
    "pycharm": {
     "name": "#%%\n"
    }
   }
  },
  {
   "cell_type": "code",
   "execution_count": 294,
   "outputs": [],
   "source": [
    "\n",
    "#four hundred and fourty eighth function is np.sometrue\n",
    "\n"
   ],
   "metadata": {
    "collapsed": false,
    "pycharm": {
     "name": "#%%\n"
    }
   }
  },
  {
   "cell_type": "code",
   "execution_count": 295,
   "outputs": [],
   "source": [
    "\n",
    "#four hundred and fourty ninth function is np.sort\n",
    "\n"
   ],
   "metadata": {
    "collapsed": false,
    "pycharm": {
     "name": "#%%\n"
    }
   }
  },
  {
   "cell_type": "code",
   "execution_count": 296,
   "outputs": [],
   "source": [
    "\n",
    "#four hundred and fiftieth function is np.sort_complex\n",
    "\n"
   ],
   "metadata": {
    "collapsed": false,
    "pycharm": {
     "name": "#%%\n"
    }
   }
  },
  {
   "cell_type": "code",
   "execution_count": 297,
   "outputs": [],
   "source": [
    "\n",
    "#four hundred and fifty first function is np.source\n",
    "\n"
   ],
   "metadata": {
    "collapsed": false,
    "pycharm": {
     "name": "#%%\n"
    }
   }
  },
  {
   "cell_type": "code",
   "execution_count": 298,
   "outputs": [],
   "source": [
    "\n",
    "#four hundred and fifty second function is np.spacing\n",
    "\n"
   ],
   "metadata": {
    "collapsed": false,
    "pycharm": {
     "name": "#%%\n"
    }
   }
  },
  {
   "cell_type": "code",
   "execution_count": 299,
   "outputs": [],
   "source": [
    "\n",
    "#four hundred and fifty third function is np.split\n",
    "\n"
   ],
   "metadata": {
    "collapsed": false,
    "pycharm": {
     "name": "#%%\n"
    }
   }
  },
  {
   "cell_type": "code",
   "execution_count": 300,
   "outputs": [],
   "source": [
    "\n",
    "#four hundred and fifty fourth function is np.sqrt\n",
    "\n"
   ],
   "metadata": {
    "collapsed": false,
    "pycharm": {
     "name": "#%%\n"
    }
   }
  },
  {
   "cell_type": "code",
   "execution_count": 301,
   "outputs": [],
   "source": [
    "\n",
    "#four hundred and fifty fifth function is np.square\n",
    "\n"
   ],
   "metadata": {
    "collapsed": false,
    "pycharm": {
     "name": "#%%\n"
    }
   }
  },
  {
   "cell_type": "code",
   "execution_count": 302,
   "outputs": [],
   "source": [
    "\n",
    "#four hundred and fifty sixth function is np.squeeze\n",
    "\n"
   ],
   "metadata": {
    "collapsed": false,
    "pycharm": {
     "name": "#%%\n"
    }
   }
  },
  {
   "cell_type": "code",
   "execution_count": 303,
   "outputs": [],
   "source": [
    "\n",
    "#four hundred and fifty seventh function is np.stack\n",
    "\n"
   ],
   "metadata": {
    "collapsed": false,
    "pycharm": {
     "name": "#%%\n"
    }
   }
  },
  {
   "cell_type": "code",
   "execution_count": 304,
   "outputs": [],
   "source": [
    "\n",
    "#four hundred and fifty eighth function is np.std\n",
    "\n"
   ],
   "metadata": {
    "collapsed": false,
    "pycharm": {
     "name": "#%%\n"
    }
   }
  },
  {
   "cell_type": "code",
   "execution_count": 305,
   "outputs": [],
   "source": [
    "\n",
    "#four hundred and fifty ninth function is np.str0\n",
    "\n"
   ],
   "metadata": {
    "collapsed": false,
    "pycharm": {
     "name": "#%%\n"
    }
   }
  },
  {
   "cell_type": "code",
   "execution_count": 306,
   "outputs": [],
   "source": [
    "\n",
    "#four hundred and sixtieth function is np.str_\n",
    "\n"
   ],
   "metadata": {
    "collapsed": false,
    "pycharm": {
     "name": "#%%\n"
    }
   }
  },
  {
   "cell_type": "code",
   "execution_count": 307,
   "outputs": [],
   "source": [
    "\n",
    "#four hundred and sixty first function is np.string_\n",
    "\n"
   ],
   "metadata": {
    "collapsed": false,
    "pycharm": {
     "name": "#%%\n"
    }
   }
  },
  {
   "cell_type": "code",
   "execution_count": 308,
   "outputs": [],
   "source": [
    "\n",
    "#four hundred and sixty second function is np.subtract\n",
    "\n"
   ],
   "metadata": {
    "collapsed": false,
    "pycharm": {
     "name": "#%%\n"
    }
   }
  },
  {
   "cell_type": "code",
   "execution_count": 309,
   "outputs": [],
   "source": [
    "\n",
    "#four hundred and sixty third function is np.sum\n",
    "\n"
   ],
   "metadata": {
    "collapsed": false,
    "pycharm": {
     "name": "#%%\n"
    }
   }
  },
  {
   "cell_type": "code",
   "execution_count": 310,
   "outputs": [],
   "source": [
    "\n",
    "#four hundred and sixty fourth function is np.swapaxes\n",
    "\n"
   ],
   "metadata": {
    "collapsed": false,
    "pycharm": {
     "name": "#%%\n"
    }
   }
  },
  {
   "cell_type": "code",
   "execution_count": 311,
   "outputs": [],
   "source": [
    "\n",
    "#four hundred and sixty fifth function is np.sys\n",
    "\n"
   ],
   "metadata": {
    "collapsed": false,
    "pycharm": {
     "name": "#%%\n"
    }
   }
  },
  {
   "cell_type": "code",
   "execution_count": 312,
   "outputs": [],
   "source": [
    "\n",
    "#four hundred and sixty sixth function is np.take\n",
    "\n"
   ],
   "metadata": {
    "collapsed": false,
    "pycharm": {
     "name": "#%%\n"
    }
   }
  },
  {
   "cell_type": "code",
   "execution_count": 313,
   "outputs": [],
   "source": [
    "\n",
    "#four hundred and sixty seventh function is np.take_along_axis\n",
    "\n"
   ],
   "metadata": {
    "collapsed": false,
    "pycharm": {
     "name": "#%%\n"
    }
   }
  },
  {
   "cell_type": "code",
   "execution_count": 314,
   "outputs": [],
   "source": [
    "\n",
    "#four hundred and sixty eighth function is np.tan\n",
    "\n"
   ],
   "metadata": {
    "collapsed": false,
    "pycharm": {
     "name": "#%%\n"
    }
   }
  },
  {
   "cell_type": "code",
   "execution_count": 315,
   "outputs": [],
   "source": [
    "\n",
    "#four hundred and sixty ninth function is np.tanh\n",
    "\n"
   ],
   "metadata": {
    "collapsed": false,
    "pycharm": {
     "name": "#%%\n"
    }
   }
  },
  {
   "cell_type": "code",
   "execution_count": 316,
   "outputs": [],
   "source": [
    "\n",
    "#four hundred and seventieth function is np.tensordot\n",
    "\n"
   ],
   "metadata": {
    "collapsed": false,
    "pycharm": {
     "name": "#%%\n"
    }
   }
  },
  {
   "cell_type": "code",
   "execution_count": 317,
   "outputs": [],
   "source": [
    "\n",
    "#four hundred and seventy first function is np.test\n",
    "\n"
   ],
   "metadata": {
    "collapsed": false,
    "pycharm": {
     "name": "#%%\n"
    }
   }
  },
  {
   "cell_type": "code",
   "execution_count": 318,
   "outputs": [],
   "source": [
    "\n",
    "#four hundred and seventy second function is np.testing\n",
    "\n"
   ],
   "metadata": {
    "collapsed": false,
    "pycharm": {
     "name": "#%%\n"
    }
   }
  },
  {
   "cell_type": "code",
   "execution_count": 319,
   "outputs": [],
   "source": [
    "\n",
    "#four hundred and seventy third function is np.tile\n",
    "\n"
   ],
   "metadata": {
    "collapsed": false,
    "pycharm": {
     "name": "#%%\n"
    }
   }
  },
  {
   "cell_type": "code",
   "execution_count": 320,
   "outputs": [],
   "source": [
    "\n",
    "#four hundred and seventy fourth function is np.timedelta64\n",
    "\n"
   ],
   "metadata": {
    "collapsed": false,
    "pycharm": {
     "name": "#%%\n"
    }
   }
  },
  {
   "cell_type": "code",
   "execution_count": 321,
   "outputs": [],
   "source": [
    "\n",
    "#four hundred and seventy fifth function is np.trace\n",
    "\n"
   ],
   "metadata": {
    "collapsed": false,
    "pycharm": {
     "name": "#%%\n"
    }
   }
  },
  {
   "cell_type": "code",
   "execution_count": 322,
   "outputs": [],
   "source": [
    "\n",
    "#four hundred and seventy sixth function is np.tracemalloc_domain\n",
    "\n"
   ],
   "metadata": {
    "collapsed": false,
    "pycharm": {
     "name": "#%%\n"
    }
   }
  },
  {
   "cell_type": "code",
   "execution_count": 323,
   "outputs": [],
   "source": [
    "\n",
    "#four hundred and seventy seventh function is np.transpose\n",
    "\n"
   ],
   "metadata": {
    "collapsed": false,
    "pycharm": {
     "name": "#%%\n"
    }
   }
  },
  {
   "cell_type": "code",
   "execution_count": 324,
   "outputs": [],
   "source": [
    "\n",
    "#four hundred and seventy eighth function is np.trapz\n",
    "\n"
   ],
   "metadata": {
    "collapsed": false,
    "pycharm": {
     "name": "#%%\n"
    }
   }
  },
  {
   "cell_type": "code",
   "execution_count": 325,
   "outputs": [],
   "source": [
    "\n",
    "#four hundred and seventy ninth function is np.tri\n",
    "\n"
   ],
   "metadata": {
    "collapsed": false,
    "pycharm": {
     "name": "#%%\n"
    }
   }
  },
  {
   "cell_type": "code",
   "execution_count": 326,
   "outputs": [],
   "source": [
    "\n",
    "#four hundred and eightieth function is np.tril\n",
    "\n"
   ],
   "metadata": {
    "collapsed": false,
    "pycharm": {
     "name": "#%%\n"
    }
   }
  },
  {
   "cell_type": "code",
   "execution_count": 327,
   "outputs": [],
   "source": [
    "\n",
    "#four hundred and eighty first function is np.tril_indices\n",
    "\n"
   ],
   "metadata": {
    "collapsed": false,
    "pycharm": {
     "name": "#%%\n"
    }
   }
  },
  {
   "cell_type": "code",
   "execution_count": 328,
   "outputs": [],
   "source": [
    "\n",
    "#four hundred and eighty second function is np.tril_indices_from\n",
    "\n"
   ],
   "metadata": {
    "collapsed": false,
    "pycharm": {
     "name": "#%%\n"
    }
   }
  },
  {
   "cell_type": "code",
   "execution_count": 329,
   "outputs": [],
   "source": [
    "\n",
    "#four hundred and eighty third function is np.trim_zeros\n",
    "\n"
   ],
   "metadata": {
    "collapsed": false,
    "pycharm": {
     "name": "#%%\n"
    }
   }
  },
  {
   "cell_type": "code",
   "execution_count": 330,
   "outputs": [],
   "source": [
    "\n",
    "#four hundred and eighty fourth function is np.triu\n",
    "\n"
   ],
   "metadata": {
    "collapsed": false,
    "pycharm": {
     "name": "#%%\n"
    }
   }
  },
  {
   "cell_type": "code",
   "execution_count": 331,
   "outputs": [],
   "source": [
    "\n",
    "#four hundred and eighty fifth function is np.triu_indices\n",
    "\n"
   ],
   "metadata": {
    "collapsed": false,
    "pycharm": {
     "name": "#%%\n"
    }
   }
  },
  {
   "cell_type": "code",
   "execution_count": 332,
   "outputs": [],
   "source": [
    "\n",
    "#four hundred and eighty sixth function is np.triu_indices_from\n",
    "\n"
   ],
   "metadata": {
    "collapsed": false,
    "pycharm": {
     "name": "#%%\n"
    }
   }
  },
  {
   "cell_type": "code",
   "execution_count": 333,
   "outputs": [],
   "source": [
    "\n",
    "#four hundred and eighty seventh function is np.true_divide\n",
    "\n"
   ],
   "metadata": {
    "collapsed": false,
    "pycharm": {
     "name": "#%%\n"
    }
   }
  },
  {
   "cell_type": "code",
   "execution_count": 334,
   "outputs": [],
   "source": [
    "\n",
    "#four hundred and eighty eighth function is np.trunc\n",
    "\n"
   ],
   "metadata": {
    "collapsed": false,
    "pycharm": {
     "name": "#%%\n"
    }
   }
  },
  {
   "cell_type": "code",
   "execution_count": 335,
   "outputs": [],
   "source": [
    "\n",
    "#four hundred and eighty ninth function is np.typecodes\n",
    "\n"
   ],
   "metadata": {
    "collapsed": false,
    "pycharm": {
     "name": "#%%\n"
    }
   }
  },
  {
   "cell_type": "code",
   "execution_count": 336,
   "outputs": [],
   "source": [
    "\n",
    "#four hundred and ninetieth function is np.typename\n",
    "\n"
   ],
   "metadata": {
    "collapsed": false,
    "pycharm": {
     "name": "#%%\n"
    }
   }
  },
  {
   "cell_type": "code",
   "execution_count": 337,
   "outputs": [],
   "source": [
    "\n",
    "#four hundred and ninety first function is np.ubyte\n",
    "\n"
   ],
   "metadata": {
    "collapsed": false,
    "pycharm": {
     "name": "#%%\n"
    }
   }
  },
  {
   "cell_type": "code",
   "execution_count": 338,
   "outputs": [],
   "source": [
    "\n",
    "#four hundred and ninety second function is np.ufunc\n",
    "\n"
   ],
   "metadata": {
    "collapsed": false,
    "pycharm": {
     "name": "#%%\n"
    }
   }
  },
  {
   "cell_type": "code",
   "execution_count": 339,
   "outputs": [],
   "source": [
    "\n",
    "#four hundred and ninety third function is np.uint\n",
    "\n"
   ],
   "metadata": {
    "collapsed": false,
    "pycharm": {
     "name": "#%%\n"
    }
   }
  },
  {
   "cell_type": "code",
   "execution_count": 340,
   "outputs": [],
   "source": [
    "\n",
    "#four hundred and ninety fourth function is np.uint0\n",
    "\n"
   ],
   "metadata": {
    "collapsed": false,
    "pycharm": {
     "name": "#%%\n"
    }
   }
  },
  {
   "cell_type": "code",
   "execution_count": 341,
   "outputs": [],
   "source": [
    "\n",
    "#four hundred and ninety fifth function is np.uint16\n",
    "\n"
   ],
   "metadata": {
    "collapsed": false,
    "pycharm": {
     "name": "#%%\n"
    }
   }
  },
  {
   "cell_type": "code",
   "execution_count": 342,
   "outputs": [],
   "source": [
    "\n",
    "#four hundred and ninety sixth function is np.uint32\n",
    "\n"
   ],
   "metadata": {
    "collapsed": false,
    "pycharm": {
     "name": "#%%\n"
    }
   }
  },
  {
   "cell_type": "code",
   "execution_count": 343,
   "outputs": [],
   "source": [
    "\n",
    "#four hundred and ninety seventh function is np.uint64\n",
    "\n"
   ],
   "metadata": {
    "collapsed": false,
    "pycharm": {
     "name": "#%%\n"
    }
   }
  },
  {
   "cell_type": "code",
   "execution_count": 344,
   "outputs": [],
   "source": [
    "\n",
    "#four hundred and ninety eighth function is np.uint8\n",
    "\n"
   ],
   "metadata": {
    "collapsed": false,
    "pycharm": {
     "name": "#%%\n"
    }
   }
  },
  {
   "cell_type": "code",
   "execution_count": 345,
   "outputs": [],
   "source": [
    "\n",
    "#four hundred and ninety ninth function is np.uintc\n",
    "\n"
   ],
   "metadata": {
    "collapsed": false,
    "pycharm": {
     "name": "#%%\n"
    }
   }
  },
  {
   "cell_type": "code",
   "execution_count": 346,
   "outputs": [],
   "source": [
    "\n",
    "#five hundredth function is np.uintp\n",
    "\n"
   ],
   "metadata": {
    "collapsed": false,
    "pycharm": {
     "name": "#%%\n"
    }
   }
  },
  {
   "cell_type": "code",
   "execution_count": 347,
   "outputs": [],
   "source": [
    "\n",
    "#five hundred and first function is np.ulonglong\n",
    "\n"
   ],
   "metadata": {
    "collapsed": false,
    "pycharm": {
     "name": "#%%\n"
    }
   }
  },
  {
   "cell_type": "code",
   "execution_count": 348,
   "outputs": [],
   "source": [
    "\n",
    "#five hundred and second function is np.unicode_\n",
    "\n"
   ],
   "metadata": {
    "collapsed": false,
    "pycharm": {
     "name": "#%%\n"
    }
   }
  },
  {
   "cell_type": "code",
   "execution_count": 349,
   "outputs": [],
   "source": [
    "\n",
    "#five hundred and third function is np.union1d\n",
    "\n"
   ],
   "metadata": {
    "collapsed": false,
    "pycharm": {
     "name": "#%%\n"
    }
   }
  },
  {
   "cell_type": "code",
   "execution_count": 350,
   "outputs": [],
   "source": [
    "\n",
    "\n",
    "#five hundred and fourth function is np.unique\n",
    "\n"
   ],
   "metadata": {
    "collapsed": false,
    "pycharm": {
     "name": "#%%\n"
    }
   }
  },
  {
   "cell_type": "code",
   "execution_count": 351,
   "outputs": [],
   "source": [
    "\n",
    "#five hundred and fifth function is np.unpackbits\n",
    "\n"
   ],
   "metadata": {
    "collapsed": false,
    "pycharm": {
     "name": "#%%\n"
    }
   }
  },
  {
   "cell_type": "code",
   "execution_count": 352,
   "outputs": [],
   "source": [
    "\n",
    "#five hundred and sixth function is np.unravel_index\n",
    "\n"
   ],
   "metadata": {
    "collapsed": false,
    "pycharm": {
     "name": "#%%\n"
    }
   }
  },
  {
   "cell_type": "code",
   "execution_count": 353,
   "outputs": [],
   "source": [
    "\n",
    "#five hundred and seventh function is np.unsignedinteger\n",
    "\n"
   ],
   "metadata": {
    "collapsed": false,
    "pycharm": {
     "name": "#%%\n"
    }
   }
  },
  {
   "cell_type": "code",
   "execution_count": 354,
   "outputs": [],
   "source": [
    "\n",
    "#five hundred and eighth function is np.unwrap\n",
    "\n"
   ],
   "metadata": {
    "collapsed": false,
    "pycharm": {
     "name": "#%%\n"
    }
   }
  },
  {
   "cell_type": "code",
   "execution_count": 355,
   "outputs": [],
   "source": [
    "\n",
    "#five hundred and ninth function is np.use_hugepage\n",
    "\n"
   ],
   "metadata": {
    "collapsed": false,
    "pycharm": {
     "name": "#%%\n"
    }
   }
  },
  {
   "cell_type": "code",
   "execution_count": 356,
   "outputs": [],
   "source": [
    "\n",
    "#five hundred and tenth function is np.ushort\n"
   ],
   "metadata": {
    "collapsed": false,
    "pycharm": {
     "name": "#%%\n"
    }
   }
  },
  {
   "cell_type": "code",
   "execution_count": 357,
   "outputs": [],
   "source": [
    "\n",
    "#five hundred and eleventh function is np.vander\n"
   ],
   "metadata": {
    "collapsed": false,
    "pycharm": {
     "name": "#%%\n"
    }
   }
  },
  {
   "cell_type": "code",
   "execution_count": 358,
   "outputs": [],
   "source": [
    "\n",
    "#five hundred and twelveth function is np.var\n",
    "\n"
   ],
   "metadata": {
    "collapsed": false,
    "pycharm": {
     "name": "#%%\n"
    }
   }
  },
  {
   "cell_type": "code",
   "execution_count": 359,
   "outputs": [],
   "source": [
    "\n",
    "#five hundred and thirteenth function is np.vdot\n",
    "\n"
   ],
   "metadata": {
    "collapsed": false,
    "pycharm": {
     "name": "#%%\n"
    }
   }
  },
  {
   "cell_type": "code",
   "execution_count": 360,
   "outputs": [],
   "source": [
    "\n",
    "#five hundred and fourteenth function is np.vectorize\n",
    "\n"
   ],
   "metadata": {
    "collapsed": false,
    "pycharm": {
     "name": "#%%\n"
    }
   }
  },
  {
   "cell_type": "code",
   "execution_count": 361,
   "outputs": [],
   "source": [
    "\n",
    "#five hundred and fifteenth function is np.version\n",
    "\n"
   ],
   "metadata": {
    "collapsed": false,
    "pycharm": {
     "name": "#%%\n"
    }
   }
  },
  {
   "cell_type": "code",
   "execution_count": 362,
   "outputs": [],
   "source": [
    "\n",
    "#five hundred and sixteenth function is np.void\n",
    "\n"
   ],
   "metadata": {
    "collapsed": false,
    "pycharm": {
     "name": "#%%\n"
    }
   }
  },
  {
   "cell_type": "code",
   "execution_count": 363,
   "outputs": [],
   "source": [
    "\n",
    "#five hundred and seventeenth function is np.void0\n",
    "\n"
   ],
   "metadata": {
    "collapsed": false,
    "pycharm": {
     "name": "#%%\n"
    }
   }
  },
  {
   "cell_type": "code",
   "execution_count": 364,
   "outputs": [],
   "source": [
    "\n",
    "#five hundred and eighteenth function is np.vsplit\n",
    "\n"
   ],
   "metadata": {
    "collapsed": false,
    "pycharm": {
     "name": "#%%\n"
    }
   }
  },
  {
   "cell_type": "code",
   "execution_count": 365,
   "outputs": [],
   "source": [
    "\n",
    "#five hundred and nineteenth function is np.vstack\n",
    "\n"
   ],
   "metadata": {
    "collapsed": false,
    "pycharm": {
     "name": "#%%\n"
    }
   }
  },
  {
   "cell_type": "code",
   "execution_count": 366,
   "outputs": [],
   "source": [
    "\n",
    "#five hundred and twentieth function is np.w\n",
    "\n"
   ],
   "metadata": {
    "collapsed": false,
    "pycharm": {
     "name": "#%%\n"
    }
   }
  },
  {
   "cell_type": "code",
   "execution_count": 367,
   "outputs": [],
   "source": [
    "\n",
    "#five hundred and twenty first function is np.warnings\n",
    "\n"
   ],
   "metadata": {
    "collapsed": false,
    "pycharm": {
     "name": "#%%\n"
    }
   }
  },
  {
   "cell_type": "code",
   "execution_count": 368,
   "outputs": [],
   "source": [
    "\n",
    "#five hundred and twenty second function is np.where\n",
    "\n"
   ],
   "metadata": {
    "collapsed": false,
    "pycharm": {
     "name": "#%%\n"
    }
   }
  },
  {
   "cell_type": "code",
   "execution_count": 369,
   "outputs": [],
   "source": [
    "\n",
    "#five hundred and twenty third function is np.who\n",
    "\n"
   ],
   "metadata": {
    "collapsed": false,
    "pycharm": {
     "name": "#%%\n"
    }
   }
  },
  {
   "cell_type": "code",
   "execution_count": 370,
   "outputs": [],
   "source": [
    "\n",
    "#five hundred and twenty fourth function is np.zeros\n",
    "\n"
   ],
   "metadata": {
    "collapsed": false,
    "pycharm": {
     "name": "#%%\n"
    }
   }
  },
  {
   "cell_type": "code",
   "execution_count": 371,
   "outputs": [],
   "source": [
    "\n",
    "#five hundred and twenty fifth function is np.zeros_like\n"
   ],
   "metadata": {
    "collapsed": false,
    "pycharm": {
     "name": "#%%\n"
    }
   }
  },
  {
   "cell_type": "markdown",
   "source": [
    "## thank you !!!"
   ],
   "metadata": {
    "collapsed": false,
    "pycharm": {
     "name": "#%% md\n"
    }
   }
  }
 ],
 "metadata": {
  "kernelspec": {
   "display_name": "Python 3 (ipykernel)",
   "language": "python",
   "name": "python3"
  },
  "language_info": {
   "codemirror_mode": {
    "name": "ipython",
    "version": 3
   },
   "file_extension": ".py",
   "mimetype": "text/x-python",
   "name": "python",
   "nbconvert_exporter": "python",
   "pygments_lexer": "ipython3",
   "version": "3.8.9"
  }
 },
 "nbformat": 4,
 "nbformat_minor": 1
}