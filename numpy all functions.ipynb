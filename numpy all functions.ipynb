{
 "cells": [
  {
   "cell_type": "code",
   "execution_count": 1032,
   "metadata": {
    "pycharm": {
     "name": "#%%\n"
    }
   },
   "outputs": [],
   "source": [
    "#### All numpy functions"
   ]
  },
  {
   "cell_type": "code",
   "execution_count": 1041,
   "metadata": {
    "pycharm": {
     "name": "#%%\n"
    }
   },
   "outputs": [],
   "source": [
    "# import numpy\n",
    "\n",
    "# !pip install numpy\n",
    "\n",
    "import numpy as np\n"
   ]
  },
  {
   "cell_type": "code",
   "execution_count": 1042,
   "metadata": {
    "pycharm": {
     "name": "#%%\n"
    }
   },
   "outputs": [
    {
     "name": "stdout",
     "output_type": "stream",
     "text": [
      "numpy all functions count : 531\n",
      "0 : abs\n",
      "1 : absolute\n",
      "2 : add\n",
      "3 : add_docstring\n",
      "4 : add_newdoc\n",
      "5 : add_newdoc_ufunc\n",
      "6 : all\n",
      "7 : allclose\n",
      "8 : alltrue\n",
      "9 : amax\n",
      "10 : amin\n",
      "11 : angle\n",
      "12 : any\n",
      "13 : append\n",
      "14 : apply_along_axis\n",
      "15 : apply_over_axes\n",
      "16 : arange\n",
      "17 : arccos\n",
      "18 : arccosh\n",
      "19 : arcsin\n",
      "20 : arcsinh\n",
      "21 : arctan\n",
      "22 : arctan2\n",
      "23 : arctanh\n",
      "24 : argmax\n",
      "25 : argmin\n",
      "26 : argpartition\n",
      "27 : argsort\n",
      "28 : argwhere\n",
      "29 : around\n",
      "30 : array\n",
      "31 : array2string\n",
      "32 : array_api\n",
      "33 : array_equal\n",
      "34 : array_equiv\n",
      "35 : array_repr\n",
      "36 : array_split\n",
      "37 : array_str\n",
      "38 : asanyarray\n",
      "39 : asarray\n",
      "40 : asarray_chkfinite\n",
      "41 : ascontiguousarray\n",
      "42 : asfarray\n",
      "43 : asfortranarray\n",
      "44 : asmatrix\n",
      "45 : atleast_1d\n",
      "46 : atleast_2d\n",
      "47 : atleast_3d\n",
      "48 : average\n",
      "49 : bartlett\n",
      "50 : base_repr\n",
      "51 : binary_repr\n",
      "52 : bincount\n",
      "53 : bitwise_and\n",
      "54 : bitwise_not\n",
      "55 : bitwise_or\n",
      "56 : bitwise_xor\n",
      "57 : blackman\n",
      "58 : block\n",
      "59 : bmat\n",
      "60 : bool8\n",
      "61 : bool_\n",
      "62 : broadcast\n",
      "63 : broadcast_arrays\n",
      "64 : broadcast_shapes\n",
      "65 : broadcast_to\n",
      "66 : busday_count\n",
      "67 : busday_offset\n",
      "68 : busdaycalendar\n",
      "69 : byte\n",
      "70 : byte_bounds\n",
      "71 : bytes0\n",
      "72 : bytes_\n",
      "73 : can_cast\n",
      "74 : cast\n",
      "75 : cbrt\n",
      "76 : cdouble\n",
      "77 : ceil\n",
      "78 : cfloat\n",
      "79 : char\n",
      "80 : character\n",
      "81 : chararray\n",
      "82 : choose\n",
      "83 : clip\n",
      "84 : clongdouble\n",
      "85 : clongfloat\n",
      "86 : column_stack\n",
      "87 : common_type\n",
      "88 : compare_chararrays\n",
      "89 : compat\n",
      "90 : complex128\n",
      "91 : complex64\n",
      "92 : complex_\n",
      "93 : complexfloating\n",
      "94 : compress\n",
      "95 : concatenate\n",
      "96 : conj\n",
      "97 : conjugate\n",
      "98 : convolve\n",
      "99 : copy\n",
      "100 : copysign\n",
      "101 : copyto\n",
      "102 : core\n",
      "103 : corrcoef\n",
      "104 : correlate\n",
      "105 : cos\n",
      "106 : cosh\n",
      "107 : count_nonzero\n",
      "108 : cov\n",
      "109 : cross\n",
      "110 : csingle\n",
      "111 : ctypeslib\n",
      "112 : cumprod\n",
      "113 : cumproduct\n",
      "114 : cumsum\n",
      "115 : datetime64\n",
      "116 : datetime_as_string\n",
      "117 : datetime_data\n",
      "118 : deg2rad\n",
      "119 : degrees\n",
      "120 : delete\n",
      "121 : deprecate\n",
      "122 : deprecate_with_doc\n",
      "123 : diag\n",
      "124 : diag_indices\n",
      "125 : diag_indices_from\n",
      "126 : diagflat\n",
      "127 : diagonal\n",
      "128 : diff\n",
      "129 : digitize\n",
      "130 : disp\n",
      "131 : distutils\n",
      "132 : divide\n",
      "133 : divmod\n",
      "134 : doc\n",
      "135 : dot\n",
      "136 : double\n",
      "137 : dsplit\n",
      "138 : dstack\n",
      "139 : dtype\n",
      "140 : dual\n",
      "141 : e\n",
      "142 : ediff1d\n",
      "143 : einsum\n",
      "144 : einsum_path\n",
      "145 : emath\n",
      "146 : empty\n",
      "147 : empty_like\n",
      "148 : equal\n",
      "149 : errstate\n",
      "150 : euler_gamma\n",
      "151 : exp\n",
      "152 : exp2\n",
      "153 : expand_dims\n",
      "154 : expm1\n",
      "155 : extract\n",
      "156 : eye\n",
      "157 : f2py\n",
      "158 : fabs\n",
      "159 : fastCopyAndTranspose\n",
      "160 : fft\n",
      "161 : fill_diagonal\n",
      "162 : find_common_type\n",
      "163 : finfo\n",
      "164 : fix\n",
      "165 : flatiter\n",
      "166 : flatnonzero\n",
      "167 : flexible\n",
      "168 : flip\n",
      "169 : fliplr\n",
      "170 : flipud\n",
      "171 : float16\n",
      "172 : float32\n",
      "173 : float64\n",
      "174 : float_\n",
      "175 : float_power\n",
      "176 : floating\n",
      "177 : floor\n",
      "178 : floor_divide\n",
      "179 : fmax\n",
      "180 : fmin\n",
      "181 : fmod\n",
      "182 : format_float_positional\n",
      "183 : format_float_scientific\n",
      "184 : format_parser\n",
      "185 : frexp\n",
      "186 : from_dlpack\n",
      "187 : frombuffer\n",
      "188 : fromfile\n",
      "189 : fromfunction\n",
      "190 : fromiter\n",
      "191 : frompyfunc\n",
      "192 : fromregex\n",
      "193 : fromstring\n",
      "194 : full\n",
      "195 : full_like\n",
      "196 : gcd\n",
      "197 : generic\n",
      "198 : genfromtxt\n",
      "199 : geomspace\n",
      "200 : get_array_wrap\n",
      "201 : get_include\n",
      "202 : get_printoptions\n",
      "203 : getbufsize\n",
      "204 : geterr\n",
      "205 : geterrcall\n",
      "206 : geterrobj\n",
      "207 : gradient\n",
      "208 : greater\n",
      "209 : greater_equal\n",
      "210 : half\n",
      "211 : hamming\n",
      "212 : hanning\n",
      "213 : heaviside\n",
      "214 : histogram\n",
      "215 : histogram2d\n",
      "216 : histogram_bin_edges\n",
      "217 : histogramdd\n",
      "218 : hsplit\n",
      "219 : hstack\n",
      "220 : hypot\n",
      "221 : i0\n",
      "222 : identity\n",
      "223 : iinfo\n",
      "224 : imag\n",
      "225 : in1d\n",
      "226 : index_exp\n",
      "227 : indices\n",
      "228 : inexact\n",
      "229 : inf\n",
      "230 : info\n",
      "231 : infty\n",
      "232 : inner\n",
      "233 : insert\n",
      "234 : int0\n",
      "235 : int16\n",
      "236 : int32\n",
      "237 : int64\n",
      "238 : int8\n",
      "239 : int_\n",
      "240 : intc\n",
      "241 : integer\n",
      "242 : interp\n",
      "243 : intersect1d\n",
      "244 : intp\n",
      "245 : invert\n",
      "246 : is_busday\n",
      "247 : isclose\n",
      "248 : iscomplex\n",
      "249 : iscomplexobj\n",
      "250 : isfinite\n",
      "251 : isfortran\n",
      "252 : isin\n",
      "253 : isinf\n",
      "254 : isnan\n",
      "255 : isnat\n",
      "256 : isneginf\n",
      "257 : isposinf\n",
      "258 : isreal\n",
      "259 : isrealobj\n",
      "260 : isscalar\n",
      "261 : issctype\n",
      "262 : issubclass_\n",
      "263 : issubdtype\n",
      "264 : issubsctype\n",
      "265 : iterable\n",
      "266 : ix_\n",
      "267 : kaiser\n",
      "268 : kron\n",
      "269 : lcm\n",
      "270 : ldexp\n",
      "271 : left_shift\n",
      "272 : less\n",
      "273 : less_equal\n",
      "274 : lexsort\n",
      "275 : lib\n",
      "276 : linalg\n",
      "277 : linspace\n",
      "278 : little_endian\n",
      "279 : load\n",
      "280 : loadtxt\n",
      "281 : log\n",
      "282 : log10\n",
      "283 : log1p\n",
      "284 : log2\n",
      "285 : logaddexp\n",
      "286 : logaddexp2\n",
      "287 : logical_and\n",
      "288 : logical_not\n",
      "289 : logical_or\n",
      "290 : logical_xor\n",
      "291 : logspace\n",
      "292 : longcomplex\n",
      "293 : longdouble\n",
      "294 : longfloat\n",
      "295 : longlong\n",
      "296 : lookfor\n",
      "297 : ma\n",
      "298 : mask_indices\n",
      "299 : mat\n",
      "300 : math\n",
      "301 : matlib\n",
      "302 : matmul\n",
      "303 : matrix\n",
      "304 : matrixlib\n",
      "305 : max\n",
      "306 : maximum\n",
      "307 : maximum_sctype\n",
      "308 : may_share_memory\n",
      "309 : mean\n",
      "310 : median\n",
      "311 : memmap\n",
      "312 : meshgrid\n",
      "313 : mgrid\n",
      "314 : min\n",
      "315 : min_scalar_type\n",
      "316 : minimum\n",
      "317 : mintypecode\n",
      "318 : mod\n",
      "319 : modf\n",
      "320 : moveaxis\n",
      "321 : msort\n",
      "322 : multiply\n",
      "323 : nan\n",
      "324 : nan_to_num\n",
      "325 : nanargmax\n",
      "326 : nanargmin\n",
      "327 : nancumprod\n",
      "328 : nancumsum\n",
      "329 : nanmax\n",
      "330 : nanmean\n",
      "331 : nanmedian\n",
      "332 : nanmin\n",
      "333 : nanpercentile\n",
      "334 : nanprod\n",
      "335 : nanquantile\n",
      "336 : nanstd\n",
      "337 : nansum\n",
      "338 : nanvar\n",
      "339 : nbytes\n",
      "340 : ndarray\n",
      "341 : ndenumerate\n",
      "342 : ndim\n",
      "343 : ndindex\n",
      "344 : nditer\n",
      "345 : negative\n",
      "346 : nested_iters\n",
      "347 : newaxis\n",
      "348 : nextafter\n",
      "349 : nonzero\n",
      "350 : not_equal\n",
      "351 : numarray\n",
      "352 : number\n",
      "353 : obj2sctype\n",
      "354 : object0\n",
      "355 : object_\n",
      "356 : ogrid\n",
      "357 : oldnumeric\n",
      "358 : ones\n",
      "359 : ones_like\n",
      "360 : os\n",
      "361 : outer\n",
      "362 : packbits\n",
      "363 : pad\n",
      "364 : partition\n",
      "365 : percentile\n",
      "366 : pi\n",
      "367 : piecewise\n",
      "368 : place\n",
      "369 : poly\n",
      "370 : poly1d\n",
      "371 : polyadd\n",
      "372 : polyder\n",
      "373 : polydiv\n",
      "374 : polyfit\n",
      "375 : polyint\n",
      "376 : polymul\n",
      "377 : polynomial\n",
      "378 : polysub\n",
      "379 : polyval\n",
      "380 : positive\n",
      "381 : power\n",
      "382 : printoptions\n",
      "383 : prod\n",
      "384 : product\n",
      "385 : promote_types\n",
      "386 : ptp\n",
      "387 : put\n",
      "388 : put_along_axis\n",
      "389 : putmask\n",
      "390 : quantile\n",
      "391 : rad2deg\n",
      "392 : radians\n",
      "393 : random\n",
      "394 : ravel\n",
      "395 : ravel_multi_index\n",
      "396 : real\n",
      "397 : real_if_close\n",
      "398 : rec\n",
      "399 : recarray\n",
      "400 : recfromcsv\n",
      "401 : recfromtxt\n",
      "402 : reciprocal\n",
      "403 : record\n",
      "404 : remainder\n",
      "405 : repeat\n",
      "406 : require\n",
      "407 : reshape\n",
      "408 : resize\n",
      "409 : result_type\n",
      "410 : right_shift\n",
      "411 : rint\n",
      "412 : roll\n",
      "413 : rollaxis\n",
      "414 : roots\n",
      "415 : rot90\n",
      "416 : round\n",
      "417 : round_\n",
      "418 : row_stack\n",
      "419 : safe_eval\n",
      "420 : save\n",
      "421 : savetxt\n",
      "422 : savez\n",
      "423 : savez_compressed\n",
      "424 : sctype2char\n",
      "425 : sctypeDict\n",
      "426 : sctypes\n",
      "427 : searchsorted\n",
      "428 : select\n",
      "429 : set_numeric_ops\n",
      "430 : set_printoptions\n",
      "431 : set_string_function\n",
      "432 : setbufsize\n",
      "433 : setdiff1d\n",
      "434 : seterr\n",
      "435 : seterrcall\n",
      "436 : seterrobj\n",
      "437 : setup\n",
      "438 : setxor1d\n",
      "439 : shape\n",
      "440 : shares_memory\n",
      "441 : short\n",
      "442 : show_config\n",
      "443 : sign\n",
      "444 : signbit\n",
      "445 : signedinteger\n",
      "446 : sin\n",
      "447 : sinc\n",
      "448 : single\n",
      "449 : singlecomplex\n",
      "450 : sinh\n",
      "451 : size\n",
      "452 : sometrue\n",
      "453 : sort\n",
      "454 : sort_complex\n",
      "455 : source\n",
      "456 : spacing\n",
      "457 : split\n",
      "458 : sqrt\n",
      "459 : square\n",
      "460 : squeeze\n",
      "461 : stack\n",
      "462 : std\n",
      "463 : str0\n",
      "464 : str_\n",
      "465 : string_\n",
      "466 : subtract\n",
      "467 : sum\n",
      "468 : swapaxes\n",
      "469 : sys\n",
      "470 : take\n",
      "471 : take_along_axis\n",
      "472 : tan\n",
      "473 : tanh\n",
      "474 : tensordot\n",
      "475 : test\n",
      "476 : testing\n",
      "477 : tests\n",
      "478 : tile\n",
      "479 : timedelta64\n",
      "480 : trace\n",
      "481 : tracemalloc_domain\n",
      "482 : transpose\n",
      "483 : trapz\n",
      "484 : tri\n",
      "485 : tril\n",
      "486 : tril_indices\n",
      "487 : tril_indices_from\n",
      "488 : trim_zeros\n",
      "489 : triu\n",
      "490 : triu_indices\n",
      "491 : triu_indices_from\n",
      "492 : true_divide\n",
      "493 : trunc\n",
      "494 : typecodes\n",
      "495 : typename\n",
      "496 : typing\n",
      "497 : ubyte\n",
      "498 : ufunc\n",
      "499 : uint\n",
      "500 : uint0\n",
      "501 : uint16\n",
      "502 : uint32\n",
      "503 : uint64\n",
      "504 : uint8\n",
      "505 : uintc\n",
      "506 : uintp\n",
      "507 : ulonglong\n",
      "508 : unicode_\n",
      "509 : union1d\n",
      "510 : unique\n",
      "511 : unpackbits\n",
      "512 : unravel_index\n",
      "513 : unsignedinteger\n",
      "514 : unwrap\n",
      "515 : use_hugepage\n",
      "516 : ushort\n",
      "517 : vander\n",
      "518 : var\n",
      "519 : vdot\n",
      "520 : vectorize\n",
      "521 : version\n",
      "522 : void\n",
      "523 : void0\n",
      "524 : vsplit\n",
      "525 : vstack\n",
      "526 : warnings\n",
      "527 : where\n",
      "528 : who\n",
      "529 : zeros\n",
      "530 : zeros_like\n"
     ]
    }
   ],
   "source": [
    "\n",
    "all_functions = [i for i in dir(np) if not '_' in (i[:2] or i[1]) and i[:1].isupper() == False]\n",
    "\n",
    "print(f\"numpy all functions count : {len(all_functions)}\")\n",
    "\n",
    "for i, v in enumerate(all_functions):\n",
    "    print(f\"{i} : {v}\")\n"
   ]
  },
  {
   "cell_type": "markdown",
   "metadata": {
    "pycharm": {
     "name": "#%% md\n"
    }
   },
   "source": [
    "## start coding"
   ]
  },
  {
   "cell_type": "code",
   "execution_count": 1043,
   "metadata": {
    "pycharm": {
     "name": "#%%\n"
    }
   },
   "outputs": [
    {
     "data": {
      "text/plain": "array([1, 2, 3, 4, 5])"
     },
     "execution_count": 1043,
     "metadata": {},
     "output_type": "execute_result"
    }
   ],
   "source": [
    "#first function is np.abs\n",
    "\n",
    "array = np.array([-1, -2, -3, -4, -5])\n",
    "np.absolute(array) # or np.abs(array)\n"
   ]
  },
  {
   "cell_type": "code",
   "execution_count": 1044,
   "outputs": [
    {
     "data": {
      "text/plain": "array([[ 0,  2,  4],\n       [ 3,  5,  7],\n       [ 6,  8, 10]])"
     },
     "execution_count": 1044,
     "metadata": {},
     "output_type": "execute_result"
    }
   ],
   "source": [
    "\n",
    "#second function is np.add\n",
    "\n",
    "a1 = 123\n",
    "a2 = 321\n",
    "np.add(a1, a2)\n",
    "\n",
    "array1 = np.array([0,1,2,3,4,5,6,7,8]).reshape(3,3)\n",
    "array2 = np.array([0,1,2])\n",
    "\n",
    "np.add(array1, array2)\n"
   ],
   "metadata": {
    "collapsed": false,
    "pycharm": {
     "name": "#%%\n"
    }
   }
  },
  {
   "cell_type": "code",
   "execution_count": 1045,
   "outputs": [
    {
     "name": "stdout",
     "output_type": "stream",
     "text": [
      "this is documentation string\n"
     ]
    }
   ],
   "source": [
    "\n",
    "#third function is np.add_docstring\n",
    "\n",
    "def func():\n",
    "    # \"\"\"\n",
    "    # you need write doc string here\n",
    "    # \"\"\"\n",
    "    return \"there is not any documentation string. please add documentation string\"\n",
    "\n",
    "np.add_docstring(func, \"this is documentation string\")\n",
    "\n",
    "print(func.__doc__)\n"
   ],
   "metadata": {
    "collapsed": false,
    "pycharm": {
     "name": "#%%\n"
    }
   }
  },
  {
   "cell_type": "code",
   "execution_count": 1046,
   "outputs": [
    {
     "ename": "ModuleNotFoundError",
     "evalue": "No module named 'example'",
     "output_type": "error",
     "traceback": [
      "\u001B[1;31m---------------------------------------------------------------------------\u001B[0m",
      "\u001B[1;31mModuleNotFoundError\u001B[0m                       Traceback (most recent call last)",
      "Cell \u001B[1;32mIn [1046], line 13\u001B[0m\n\u001B[0;32m      1\u001B[0m \u001B[38;5;66;03m# fourth function is np.add_newdoc\u001B[39;00m\n\u001B[0;32m      2\u001B[0m \n\u001B[0;32m      3\u001B[0m \u001B[38;5;66;03m#create example.py and write in it the code\u001B[39;00m\n\u001B[1;32m   (...)\u001B[0m\n\u001B[0;32m     11\u001B[0m \n\u001B[0;32m     12\u001B[0m \u001B[38;5;66;03m#and write in main.py the codes\u001B[39;00m\n\u001B[1;32m---> 13\u001B[0m \u001B[38;5;28;01mimport\u001B[39;00m \u001B[38;5;21;01mexample\u001B[39;00m\n\u001B[0;32m     14\u001B[0m np\u001B[38;5;241m.\u001B[39madd_newdoc(\u001B[38;5;124m'\u001B[39m\u001B[38;5;124mexample\u001B[39m\u001B[38;5;124m'\u001B[39m, \u001B[38;5;124m'\u001B[39m\u001B[38;5;124mNew\u001B[39m\u001B[38;5;124m'\u001B[39m, \u001B[38;5;124m\"\u001B[39m\u001B[38;5;124mthis is a new docstring\u001B[39m\u001B[38;5;124m\"\u001B[39m)\n\u001B[0;32m     15\u001B[0m \u001B[38;5;28mprint\u001B[39m(example\u001B[38;5;241m.\u001B[39mNew\u001B[38;5;241m.\u001B[39m\u001B[38;5;18m__doc__\u001B[39m)\n",
      "\u001B[1;31mModuleNotFoundError\u001B[0m: No module named 'example'"
     ]
    }
   ],
   "source": [
    "\n",
    "# fourth function is np.add_newdoc\n",
    "\n",
    "#create example.py and write in it the code\n",
    "                                            # class New:\n",
    "                                            #     def __init__(self, a):\n",
    "                                            #         self.a = a\n",
    "                                            #\n",
    "                                            #     def main(self):\n",
    "                                            #         return \"docs iqrorjon\"\n",
    "\n",
    "\n",
    "#and write in main.py the codes\n",
    "import example\n",
    "np.add_newdoc('example', 'New', \"this is a new docstring\")\n",
    "print(example.New.__doc__)\n",
    "\n"
   ],
   "metadata": {
    "collapsed": false,
    "pycharm": {
     "name": "#%%\n"
    }
   }
  },
  {
   "cell_type": "code",
   "execution_count": 1047,
   "metadata": {
    "pycharm": {
     "name": "#%%\n"
    }
   },
   "outputs": [
    {
     "ename": "ValueError",
     "evalue": "Cannot change docstring of ufunc with non-NULL docstring",
     "output_type": "error",
     "traceback": [
      "\u001B[1;31m---------------------------------------------------------------------------\u001B[0m",
      "\u001B[1;31mValueError\u001B[0m                                Traceback (most recent call last)",
      "Cell \u001B[1;32mIn [1047], line 2\u001B[0m\n\u001B[0;32m      1\u001B[0m \u001B[38;5;66;03m# fifth function is np.add_newdoc_ufunc\u001B[39;00m\n\u001B[1;32m----> 2\u001B[0m \u001B[43mnp\u001B[49m\u001B[38;5;241;43m.\u001B[39;49m\u001B[43madd_newdoc_ufunc\u001B[49m\u001B[43m(\u001B[49m\u001B[43mnp\u001B[49m\u001B[38;5;241;43m.\u001B[39;49m\u001B[43mmultiply\u001B[49m\u001B[43m,\u001B[49m\u001B[43m \u001B[49m\u001B[38;5;124;43m\"\u001B[39;49m\u001B[38;5;124;43mthis is a new string\u001B[39;49m\u001B[38;5;124;43m\"\u001B[39;49m\u001B[43m)\u001B[49m\n\u001B[0;32m      3\u001B[0m \u001B[38;5;28mprint\u001B[39m(np\u001B[38;5;241m.\u001B[39mmultiply\u001B[38;5;241m.\u001B[39m\u001B[38;5;18m__doc__\u001B[39m)\n",
      "\u001B[1;31mValueError\u001B[0m: Cannot change docstring of ufunc with non-NULL docstring"
     ]
    }
   ],
   "source": [
    "\n",
    "# fifth function is np.add_newdoc_ufunc\n",
    "np.add_newdoc_ufunc(np.multiply, \"this is a new string\")\n",
    "print(np.multiply.__doc__)\n"
   ]
  },
  {
   "cell_type": "code",
   "execution_count": null,
   "metadata": {
    "pycharm": {
     "name": "#%%\n"
    }
   },
   "outputs": [],
   "source": [
    "\n",
    "#sixth function is np.all\n",
    "\n",
    "array1 = np.array([[True, False],\n",
    "                   [True, True]])\n",
    "print(np.all(array1))\n",
    "print(np.all(array1, axis=1)) # axis=1 is horizontal"
   ]
  },
  {
   "cell_type": "code",
   "execution_count": 1048,
   "metadata": {
    "pycharm": {
     "name": "#%%\n"
    }
   },
   "outputs": [
    {
     "name": "stdout",
     "output_type": "stream",
     "text": [
      "True\n",
      "False\n"
     ]
    }
   ],
   "source": [
    "\n",
    "#seventh function is np.allclose\n",
    "\n",
    "print(np.allclose([1.0, -2.0], [1.0, -2.0]))\n",
    "\n",
    "print(np.allclose([2.0, 3.0], [3.0, 2.0]))\n"
   ]
  },
  {
   "cell_type": "code",
   "execution_count": 1049,
   "metadata": {
    "pycharm": {
     "name": "#%%\n"
    }
   },
   "outputs": [
    {
     "name": "stdout",
     "output_type": "stream",
     "text": [
      "True\n",
      "False\n"
     ]
    }
   ],
   "source": [
    "\n",
    "# eighth function is np.alltrue\n",
    "\n",
    "array1 = np.array([True,1,2,3,4,5])\n",
    "array2 = np.array([False,1,2,3,4,5])\n",
    "\n",
    "print(np.alltrue(array1))\n",
    "print(np.alltrue(array2))\n"
   ]
  },
  {
   "cell_type": "code",
   "execution_count": 1050,
   "metadata": {
    "pycharm": {
     "name": "#%%\n"
    }
   },
   "outputs": [
    {
     "name": "stdout",
     "output_type": "stream",
     "text": [
      "9\n",
      "[7 8 9]\n",
      "[3 6 9]\n"
     ]
    }
   ],
   "source": [
    "\n",
    "# ninth function is np.amax\n",
    "\n",
    "array = np.array([[1,2,3],\n",
    "                  [4,5,6],\n",
    "                  [7,8,9]])\n",
    "\n",
    "print(np.amax(array))\n",
    "print(np.amax(array, axis=0))\n",
    "print(np.amax(array, axis=1))\n"
   ]
  },
  {
   "cell_type": "code",
   "execution_count": 1051,
   "metadata": {
    "pycharm": {
     "name": "#%%\n"
    }
   },
   "outputs": [
    {
     "name": "stdout",
     "output_type": "stream",
     "text": [
      "1\n",
      "[1 2 3]\n",
      "[1 4 7]\n"
     ]
    }
   ],
   "source": [
    "\n",
    "# tenth function is np.amin\n",
    "\n",
    "array = np.array([[1,2,3],\n",
    "                  [4,5,6],\n",
    "                  [7,8,9]])\n",
    "\n",
    "print(np.amin(array))\n",
    "print(np.amin(array, axis=0))\n",
    "print(np.amin(array, axis=1))\n"
   ]
  },
  {
   "cell_type": "code",
   "execution_count": 1052,
   "metadata": {
    "pycharm": {
     "name": "#%%\n"
    }
   },
   "outputs": [
    {
     "data": {
      "text/plain": "array([0.        , 1.57079633, 0.78539816])"
     },
     "execution_count": 1052,
     "metadata": {},
     "output_type": "execute_result"
    }
   ],
   "source": [
    "# eleventh function is np.angle\n",
    "\n",
    "np.angle([1.0, 1.0j, 1+1j])\n"
   ]
  },
  {
   "cell_type": "code",
   "execution_count": 1053,
   "metadata": {
    "pycharm": {
     "name": "#%%\n"
    }
   },
   "outputs": [
    {
     "name": "stdout",
     "output_type": "stream",
     "text": [
      "False\n",
      "True\n"
     ]
    }
   ],
   "source": [
    "\n",
    "# twelfth function is np.any\n",
    "\n",
    "array1 = np.array([False, False, False])\n",
    "array2 = np.array([True, False, False])\n",
    "\n",
    "print(np.any(array1))\n",
    "print(np.any(array2))\n"
   ]
  },
  {
   "cell_type": "code",
   "execution_count": 1054,
   "metadata": {
    "pycharm": {
     "name": "#%%\n"
    }
   },
   "outputs": [
    {
     "data": {
      "text/plain": "array([[1, 2, 3],\n       [4, 5, 6],\n       [7, 8, 9]])"
     },
     "execution_count": 1054,
     "metadata": {},
     "output_type": "execute_result"
    }
   ],
   "source": [
    "\n",
    "# thirteenth function is np.append\n",
    "\n",
    "array = np.array([[1,2,3],\n",
    "                  [4,5,6]])\n",
    "\n",
    "np.append(array, [[7,8,9]], axis=0)\n",
    "\n"
   ]
  },
  {
   "cell_type": "code",
   "execution_count": 1055,
   "metadata": {
    "pycharm": {
     "name": "#%%\n"
    }
   },
   "outputs": [
    {
     "data": {
      "text/plain": "array([10, 40])"
     },
     "execution_count": 1055,
     "metadata": {},
     "output_type": "execute_result"
    }
   ],
   "source": [
    "\n",
    "# fourteenth function is np.apply_along_axis\n",
    "\n",
    "def func(arr):\n",
    "    return arr[0] * 10\n",
    "\n",
    "array = np.array([[1,2,3],\n",
    "                  [4,5,6]])\n",
    "\n",
    "np.apply_along_axis(func, 1, array)\n"
   ]
  },
  {
   "cell_type": "code",
   "execution_count": 1056,
   "metadata": {
    "pycharm": {
     "name": "#%%\n"
    }
   },
   "outputs": [
    {
     "data": {
      "text/plain": "array([[[700, 800]]])"
     },
     "execution_count": 1056,
     "metadata": {},
     "output_type": "execute_result"
    }
   ],
   "source": [
    "\n",
    "# fifteenth function is np.apply_over_axes\n",
    "\n",
    "def func(arr, axis):\n",
    "    return arr[axis]*10\n",
    "\n",
    "array = np.array([[[1,2],\n",
    "                   [3,4]],\n",
    "                  [[5,6],\n",
    "                   [7,8]]])\n",
    "\n",
    "np.apply_over_axes(func, array, [1, 1])\n"
   ]
  },
  {
   "cell_type": "code",
   "execution_count": 1057,
   "metadata": {
    "pycharm": {
     "name": "#%%\n"
    }
   },
   "outputs": [
    {
     "data": {
      "text/plain": "array([1., 2., 3., 4., 5., 6., 7., 8., 9.])"
     },
     "execution_count": 1057,
     "metadata": {},
     "output_type": "execute_result"
    }
   ],
   "source": [
    "\n",
    "# sixteenth function is np.arange\n",
    "array = np.arange(start=1, stop=10, step=1, dtype='float')\n",
    "array\n"
   ]
  },
  {
   "cell_type": "code",
   "execution_count": 1058,
   "metadata": {
    "pycharm": {
     "name": "#%%\n"
    }
   },
   "outputs": [
    {
     "data": {
      "text/plain": "array([0.        , 3.14159265, 1.57079633])"
     },
     "execution_count": 1058,
     "metadata": {},
     "output_type": "execute_result"
    }
   ],
   "source": [
    "\n",
    "#seventeenth function is np.arccos\n",
    "\n",
    "np.arccos([1,-1,0])\n"
   ]
  },
  {
   "cell_type": "code",
   "execution_count": 1059,
   "metadata": {
    "pycharm": {
     "name": "#%%\n"
    }
   },
   "outputs": [
    {
     "data": {
      "text/plain": "array([2.06343707, 1.3169579 , 1.76274717])"
     },
     "execution_count": 1059,
     "metadata": {},
     "output_type": "execute_result"
    }
   ],
   "source": [
    "\n",
    "#eighteenth function is np.arccosh\n",
    "\n",
    "np.arccosh([4,2,3])\n"
   ]
  },
  {
   "cell_type": "code",
   "execution_count": 1060,
   "metadata": {
    "pycharm": {
     "name": "#%%\n"
    }
   },
   "outputs": [
    {
     "data": {
      "text/plain": "array([-1.57079633,  0.        ,  1.57079633])"
     },
     "execution_count": 1060,
     "metadata": {},
     "output_type": "execute_result"
    }
   ],
   "source": [
    "\n",
    "#nineteenth function is np.arcsin\n",
    "\n",
    "np.arcsin([-1, 0, 1])\n"
   ]
  },
  {
   "cell_type": "code",
   "execution_count": 1061,
   "metadata": {
    "pycharm": {
     "name": "#%%\n"
    }
   },
   "outputs": [
    {
     "data": {
      "text/plain": "array([0.88137359, 1.44363548, 1.81844646])"
     },
     "execution_count": 1061,
     "metadata": {},
     "output_type": "execute_result"
    }
   ],
   "source": [
    "\n",
    "#twentieth function is np.arcsinh\n",
    "np.arcsinh([1,2,3])\n"
   ]
  },
  {
   "cell_type": "code",
   "execution_count": 1062,
   "outputs": [
    {
     "data": {
      "text/plain": "array([0.78539816, 1.10714872, 1.24904577])"
     },
     "execution_count": 1062,
     "metadata": {},
     "output_type": "execute_result"
    }
   ],
   "source": [
    "\n",
    "#twenty first function is np.arctan\n",
    "\n",
    "np.arctan([1,2,3])\n"
   ],
   "metadata": {
    "collapsed": false,
    "pycharm": {
     "name": "#%%\n"
    }
   }
  },
  {
   "cell_type": "code",
   "execution_count": 1063,
   "outputs": [
    {
     "data": {
      "text/plain": "array([ 2.35619449,  2.35619449, -0.78539816])"
     },
     "execution_count": 1063,
     "metadata": {},
     "output_type": "execute_result"
    }
   ],
   "source": [
    "\n",
    "#twenty second function is np.arctan2\n",
    "\n",
    "array1 = np.array([1,2,-1])\n",
    "array2 = np.array([-1,-2,1])\n",
    "np.arctan2(array1, array2)\n"
   ],
   "metadata": {
    "collapsed": false,
    "pycharm": {
     "name": "#%%\n"
    }
   }
  },
  {
   "cell_type": "code",
   "execution_count": 1064,
   "outputs": [
    {
     "data": {
      "text/plain": "array([ 0.10033535, -0.69314718])"
     },
     "execution_count": 1064,
     "metadata": {},
     "output_type": "execute_result"
    }
   ],
   "source": [
    "\n",
    "#twenty third function is np.arctanh\n",
    "\n",
    "np.arctanh([0.1, -0.6])\n"
   ],
   "metadata": {
    "collapsed": false,
    "pycharm": {
     "name": "#%%\n"
    }
   }
  },
  {
   "cell_type": "code",
   "execution_count": 1065,
   "outputs": [
    {
     "name": "stdout",
     "output_type": "stream",
     "text": [
      "[[ 0 11]\n",
      " [22 33]\n",
      " [44 55]\n",
      " [66 77]\n",
      " [88 99]]\n"
     ]
    },
    {
     "data": {
      "text/plain": "array([4, 4], dtype=int64)"
     },
     "execution_count": 1065,
     "metadata": {},
     "output_type": "execute_result"
    }
   ],
   "source": [
    "\n",
    "#twenty fourth function is np.argmax\n",
    "\n",
    "array = np.arange(10).reshape(5,2)*11\n",
    "\n",
    "print(array)\n",
    "np.argmax(array, axis=0)\n"
   ],
   "metadata": {
    "collapsed": false,
    "pycharm": {
     "name": "#%%\n"
    }
   }
  },
  {
   "cell_type": "code",
   "execution_count": 1066,
   "outputs": [
    {
     "name": "stdout",
     "output_type": "stream",
     "text": [
      "[[ 10  20]\n",
      " [ 30  40]\n",
      " [ 50  60]\n",
      " [ 70  80]\n",
      " [ 90 100]]\n"
     ]
    },
    {
     "data": {
      "text/plain": "array([0, 0], dtype=int64)"
     },
     "execution_count": 1066,
     "metadata": {},
     "output_type": "execute_result"
    }
   ],
   "source": [
    "\n",
    "#twenty fifth function is np.argmin\n",
    "\n",
    "array = np.arange(1, 11).reshape(5,2)*10\n",
    "print(array)\n",
    "np.argmin(array, axis=0)"
   ],
   "metadata": {
    "collapsed": false,
    "pycharm": {
     "name": "#%%\n"
    }
   }
  },
  {
   "cell_type": "code",
   "execution_count": 1067,
   "outputs": [
    {
     "name": "stdout",
     "output_type": "stream",
     "text": [
      "[0 1 2 3 4 5]\n",
      "[1 0 2 3 4 5]\n"
     ]
    }
   ],
   "source": [
    "\n",
    "#twenty sixth function is np.argpartition\n",
    "array = np.array([-1,1,2,3,4,5])\n",
    "\n",
    "print(np.argpartition(array, 1))\n",
    "print(np.argpartition(array, 5))\n"
   ],
   "metadata": {
    "collapsed": false,
    "pycharm": {
     "name": "#%%\n"
    }
   }
  },
  {
   "cell_type": "code",
   "execution_count": 1068,
   "outputs": [
    {
     "name": "stdout",
     "output_type": "stream",
     "text": [
      "[0 1 2 3 4]\n",
      "[[1 0 2]\n",
      " [2 1 0]\n",
      " [2 0 1]]\n"
     ]
    }
   ],
   "source": [
    "\n",
    "#twenty seventh function is np.argsort\n",
    "\n",
    "array = np.array([3,4,2,1,0])\n",
    "print(array[np.argsort(array)])\n",
    "\n",
    "array1 = np.array([[3,2,5],\n",
    "                   [6,1,0],\n",
    "                   [5,8,1]])\n",
    "\n",
    "sorted_arr_index = np.argsort(array1, axis=1)\n",
    "print(sorted_arr_index)\n"
   ],
   "metadata": {
    "collapsed": false,
    "pycharm": {
     "name": "#%%\n"
    }
   }
  },
  {
   "cell_type": "code",
   "execution_count": 1069,
   "outputs": [
    {
     "data": {
      "text/plain": "array([1, 1], dtype=int64)"
     },
     "execution_count": 1069,
     "metadata": {},
     "output_type": "execute_result"
    }
   ],
   "source": [
    "\n",
    "#twenty eighth function is np.argwhere\n",
    "\n",
    "array = np.array([[1,2,3],\n",
    "                  [4,5,6],\n",
    "                  [7,8,9]])\n",
    "\n",
    "np.argwhere(array==5).flatten()\n"
   ],
   "metadata": {
    "collapsed": false,
    "pycharm": {
     "name": "#%%\n"
    }
   }
  },
  {
   "cell_type": "code",
   "execution_count": 1070,
   "outputs": [
    {
     "data": {
      "text/plain": "array([1.82, 3.42, 5.25])"
     },
     "execution_count": 1070,
     "metadata": {},
     "output_type": "execute_result"
    }
   ],
   "source": [
    "\n",
    "#twenty nineth function is np.around\n",
    "\n",
    "array = np.array([1.82345, 3.42325, 5.24642])\n",
    "\n",
    "np.round(array, decimals=2)\n"
   ],
   "metadata": {
    "collapsed": false,
    "pycharm": {
     "name": "#%%\n"
    }
   }
  },
  {
   "cell_type": "code",
   "execution_count": 1071,
   "outputs": [
    {
     "data": {
      "text/plain": "array([1, 2, 3, 4, 5])"
     },
     "execution_count": 1071,
     "metadata": {},
     "output_type": "execute_result"
    }
   ],
   "source": [
    "\n",
    "#thirty function is np.array\n",
    "\n",
    "array = np.array([1,2,3,4,5])\n",
    "array"
   ],
   "metadata": {
    "collapsed": false,
    "pycharm": {
     "name": "#%%\n"
    }
   }
  },
  {
   "cell_type": "code",
   "execution_count": 1072,
   "outputs": [
    {
     "data": {
      "text/plain": "'[ 0 \\n  1 \\n  2 \\n  3 \\n  4 \\n  5 \\n  6 \\n  7 \\n  8 \\n  9 \\n 10 \\n 11 \\n 12 \\n 13 \\n 14\\n 15 \\n 16 \\n 17 \\n 18 \\n 19 \\n 20 \\n 21 \\n 22 \\n 23 \\n 24 \\n 25 \\n 26 \\n 27 \\n 28 \\n 29\\n 30 \\n 31 \\n 32 \\n 33 \\n 34 \\n 35 \\n 36 \\n 37 \\n 38 \\n 39 \\n 40 \\n 41 \\n 42 \\n 43 \\n 44\\n 45 \\n 46 \\n 47 \\n 48 \\n 49 \\n 50 \\n 51 \\n 52 \\n 53 \\n 54 \\n 55 \\n 56 \\n 57 \\n 58 \\n 59\\n 60 \\n 61 \\n 62 \\n 63 \\n 64 \\n 65 \\n 66 \\n 67 \\n 68 \\n 69 \\n 70 \\n 71 \\n 72 \\n 73 \\n 74\\n 75 \\n 76 \\n 77 \\n 78 \\n 79 \\n 80 \\n 81 \\n 82 \\n 83 \\n 84 \\n 85 \\n 86 \\n 87 \\n 88 \\n 89\\n 90 \\n 91 \\n 92 \\n 93 \\n 94 \\n 95 \\n 96 \\n 97 \\n 98 \\n 99]'"
     },
     "execution_count": 1072,
     "metadata": {},
     "output_type": "execute_result"
    }
   ],
   "source": [
    "\n",
    "#thirty first function is np.array2string\n",
    "\n",
    "array = np.arange(100)\n",
    "np.array2string(array, separator=' \\n ')\n"
   ],
   "metadata": {
    "collapsed": false,
    "pycharm": {
     "name": "#%%\n"
    }
   }
  },
  {
   "cell_type": "code",
   "execution_count": 1073,
   "outputs": [
    {
     "data": {
      "text/plain": "True"
     },
     "execution_count": 1073,
     "metadata": {},
     "output_type": "execute_result"
    }
   ],
   "source": [
    "\n",
    "#thirty second function is np.array_equal\n",
    "\n",
    "array1 = np.array([1,2,-1])\n",
    "array2 = np.array([1,2,-1])\n",
    "\n",
    "np.array_equal(array1, array2)\n"
   ],
   "metadata": {
    "collapsed": false,
    "pycharm": {
     "name": "#%%\n"
    }
   }
  },
  {
   "cell_type": "code",
   "execution_count": 1074,
   "outputs": [
    {
     "name": "stdout",
     "output_type": "stream",
     "text": [
      "True\n",
      "True\n"
     ]
    }
   ],
   "source": [
    "\n",
    "#thirty third function is np.array_equiv\n",
    "\n",
    "print(np.array_equiv([1,2,-4], [1,2,-4]))\n",
    "print(np.array_equiv([1,2,-4], [[1,2,-4]]))"
   ],
   "metadata": {
    "collapsed": false,
    "pycharm": {
     "name": "#%%\n"
    }
   }
  },
  {
   "cell_type": "code",
   "execution_count": 1075,
   "outputs": [
    {
     "data": {
      "text/plain": "'array([ 1.+0.j,  2.+0.j,  3.+0.j, -1.+0.j, -0.-1.j])'"
     },
     "execution_count": 1075,
     "metadata": {},
     "output_type": "execute_result"
    }
   ],
   "source": [
    "\n",
    "#thirty fourth function is np.array_repr\n",
    "\n",
    "array = np.array([1,2,3,-1,-1j])\n",
    "\n",
    "np.array_repr(array)\n"
   ],
   "metadata": {
    "collapsed": false,
    "pycharm": {
     "name": "#%%\n"
    }
   }
  },
  {
   "cell_type": "code",
   "execution_count": 1076,
   "outputs": [
    {
     "data": {
      "text/plain": "[array([1, 2]), array([3, 4]), array([5])]"
     },
     "execution_count": 1076,
     "metadata": {},
     "output_type": "execute_result"
    }
   ],
   "source": [
    "\n",
    "#thirty fifth function is np.array_split\n",
    "\n",
    "array = np.arange(1, 6)\n",
    "\n",
    "np.array_split(array, 3)\n"
   ],
   "metadata": {
    "collapsed": false,
    "pycharm": {
     "name": "#%%\n"
    }
   }
  },
  {
   "cell_type": "code",
   "execution_count": 1077,
   "outputs": [
    {
     "data": {
      "text/plain": "'[-1  2  3 -4]'"
     },
     "execution_count": 1077,
     "metadata": {},
     "output_type": "execute_result"
    }
   ],
   "source": [
    "\n",
    "#thirty sixth function is np.array_str\n",
    "\n",
    "array = np.array([-1,2,3,-4])\n",
    "\n",
    "np.array_str(array)\n"
   ],
   "metadata": {
    "collapsed": false,
    "pycharm": {
     "name": "#%%\n"
    }
   }
  },
  {
   "cell_type": "code",
   "execution_count": 1078,
   "outputs": [
    {
     "name": "stdout",
     "output_type": "stream",
     "text": [
      "<class 'numpy.ndarray'>\n"
     ]
    },
    {
     "data": {
      "text/plain": "array([ 1,  2,  3,  4, 45])"
     },
     "execution_count": 1078,
     "metadata": {},
     "output_type": "execute_result"
    }
   ],
   "source": [
    "\n",
    "#thirty seventh function is np.asanyarray\n",
    "\n",
    "array = [1,2,3,4,45]\n",
    "\n",
    "print(type(np.asanyarray(array)))\n",
    "np.asanyarray(array)\n"
   ],
   "metadata": {
    "collapsed": false,
    "pycharm": {
     "name": "#%%\n"
    }
   }
  },
  {
   "cell_type": "code",
   "execution_count": 1079,
   "outputs": [
    {
     "data": {
      "text/plain": "array([1, 2, 3])"
     },
     "execution_count": 1079,
     "metadata": {},
     "output_type": "execute_result"
    }
   ],
   "source": [
    "\n",
    "#thirty eighth function is np.asarray\n",
    "\n",
    "array2 = [1,2,3]\n",
    "np.asarray(array2)"
   ],
   "metadata": {
    "collapsed": false,
    "pycharm": {
     "name": "#%%\n"
    }
   }
  },
  {
   "cell_type": "code",
   "execution_count": 1080,
   "outputs": [
    {
     "name": "stdout",
     "output_type": "stream",
     "text": [
      "it has inf number or numpy nan\n",
      "ValueError\n"
     ]
    }
   ],
   "source": [
    "\n",
    "#thirty nineth function is np.asarray_chkfinite\n",
    "\n",
    "array = [1,2,np.inf]\n",
    "\n",
    "try:\n",
    "    print(np.asarray_chkfinite(array))\n",
    "except:\n",
    "    print('it has inf number or numpy nan')\n",
    "    print(\"ValueError\")\n"
   ],
   "metadata": {
    "collapsed": false,
    "pycharm": {
     "name": "#%%\n"
    }
   }
  },
  {
   "cell_type": "code",
   "execution_count": 1081,
   "outputs": [
    {
     "data": {
      "text/plain": "  C_CONTIGUOUS : True\n  F_CONTIGUOUS : True\n  OWNDATA : True\n  WRITEABLE : True\n  ALIGNED : True\n  WRITEBACKIFCOPY : False"
     },
     "execution_count": 1081,
     "metadata": {},
     "output_type": "execute_result"
    }
   ],
   "source": [
    "\n",
    "#fourty function is np.ascontiguousarray\n",
    "\n",
    "array = [1,2,3,4]\n",
    "\n",
    "array = np.ascontiguousarray(array)\n",
    "array.flags\n"
   ],
   "metadata": {
    "collapsed": false,
    "pycharm": {
     "name": "#%%\n"
    }
   }
  },
  {
   "cell_type": "code",
   "execution_count": 1082,
   "outputs": [
    {
     "name": "stdout",
     "output_type": "stream",
     "text": [
      "[1. 2. 3. 4. 5.]\n",
      "float64\n"
     ]
    }
   ],
   "source": [
    "\n",
    "#fourty first function is np.asfarray\n",
    "\n",
    "array = [1,2,3,4,5]\n",
    "print(np.asfarray(array))\n",
    "print(np.asfarray(array).dtype)\n"
   ],
   "metadata": {
    "collapsed": false,
    "pycharm": {
     "name": "#%%\n"
    }
   }
  },
  {
   "cell_type": "code",
   "execution_count": 1083,
   "outputs": [
    {
     "name": "stdout",
     "output_type": "stream",
     "text": [
      "[1 2 3 4 5]\n",
      "  C_CONTIGUOUS : True\n",
      "  F_CONTIGUOUS : True\n",
      "  OWNDATA : True\n",
      "  WRITEABLE : True\n",
      "  ALIGNED : True\n",
      "  WRITEBACKIFCOPY : False\n",
      "\n"
     ]
    }
   ],
   "source": [
    "\n",
    "#fourty second function is np.asfortranarray\n",
    "\n",
    "array = [1,2,3,4,5]\n",
    "\n",
    "print(np.asfortranarray(array))\n",
    "print(np.asfortranarray(array).flags)\n"
   ],
   "metadata": {
    "collapsed": false,
    "pycharm": {
     "name": "#%%\n"
    }
   }
  },
  {
   "cell_type": "code",
   "execution_count": 1084,
   "outputs": [
    {
     "data": {
      "text/plain": "matrix([[1, 2, 3],\n        [5, 6, 7]])"
     },
     "execution_count": 1084,
     "metadata": {},
     "output_type": "execute_result"
    }
   ],
   "source": [
    "\n",
    "#fourty third function is np.asmatrix\n",
    "\n",
    "array = np.array([[1,2,3],\n",
    "                  [5,6,7]])\n",
    "\n",
    "array2 = np.asmatrix(array)\n",
    "array2\n"
   ],
   "metadata": {
    "collapsed": false,
    "pycharm": {
     "name": "#%%\n"
    }
   }
  },
  {
   "cell_type": "code",
   "execution_count": 1085,
   "outputs": [
    {
     "data": {
      "text/plain": "array([1., 2., 3.])"
     },
     "execution_count": 1085,
     "metadata": {},
     "output_type": "execute_result"
    }
   ],
   "source": [
    "\n",
    "#fourty fourth function is np.atleast_1d\n",
    "\n",
    "array = np.array([1.0, 2.0, 3.0])\n",
    "np.atleast_1d(array)\n"
   ],
   "metadata": {
    "collapsed": false,
    "pycharm": {
     "name": "#%%\n"
    }
   }
  },
  {
   "cell_type": "code",
   "execution_count": 1086,
   "outputs": [
    {
     "data": {
      "text/plain": "[array([[1.]]), array([[2.]]), array([[3.]])]"
     },
     "execution_count": 1086,
     "metadata": {},
     "output_type": "execute_result"
    }
   ],
   "source": [
    "\n",
    "#fourty fifth function is np.atleast_2d\n",
    "np.atleast_2d(1.0, 2.0, 3.0)\n"
   ],
   "metadata": {
    "collapsed": false,
    "pycharm": {
     "name": "#%%\n"
    }
   }
  },
  {
   "cell_type": "code",
   "execution_count": 1087,
   "outputs": [
    {
     "name": "stdout",
     "output_type": "stream",
     "text": [
      "[[[11]]]\n",
      "[array([[[1]]]), array([[[2]]]), array([[[3]]])]\n"
     ]
    }
   ],
   "source": [
    "\n",
    "#fourty sixth function is np.atleast_3d\n",
    "\n",
    "print(np.atleast_3d(11))\n",
    "print(np.atleast_3d(1,2,3))"
   ],
   "metadata": {
    "collapsed": false,
    "pycharm": {
     "name": "#%%\n"
    }
   }
  },
  {
   "cell_type": "code",
   "execution_count": 1088,
   "outputs": [
    {
     "name": "stdout",
     "output_type": "stream",
     "text": [
      "[[ 1  2  3  4  5]\n",
      " [ 6  7  8  9 10]\n",
      " [11 12 13 14 15]]\n",
      "[ 3.  8. 13.]\n"
     ]
    }
   ],
   "source": [
    "\n",
    "#fourty seventh function is np.average\n",
    "\n",
    "array1 = np.arange(1, 16).reshape(3,5)\n",
    "print(array1)\n",
    "print(np.average(array1, axis=1))\n"
   ],
   "metadata": {
    "collapsed": false,
    "pycharm": {
     "name": "#%%\n"
    }
   }
  },
  {
   "cell_type": "code",
   "execution_count": 1089,
   "outputs": [
    {
     "name": "stdout",
     "output_type": "stream",
     "text": [
      "[0.         0.22222222 0.44444444 0.66666667 0.88888889 0.88888889\n",
      " 0.66666667 0.44444444 0.22222222 0.        ]\n",
      "[ 0. 22. 44. 67. 89. 89. 67. 44. 22.  0.]\n"
     ]
    }
   ],
   "source": [
    "\n",
    "#fourty eighth function is np.bartlett\n",
    "\n",
    "print(np.bartlett(10))\n",
    "print(np.bartlett(10).round(2)*100)\n"
   ],
   "metadata": {
    "collapsed": false,
    "pycharm": {
     "name": "#%%\n"
    }
   }
  },
  {
   "cell_type": "code",
   "execution_count": 1090,
   "outputs": [
    {
     "name": "stdout",
     "output_type": "stream",
     "text": [
      "0\n",
      "1\n",
      "10\n",
      "11\n",
      "100\n",
      "101\n",
      "110\n",
      "111\n",
      "1000\n",
      "1001\n"
     ]
    }
   ],
   "source": [
    "\n",
    "#fourty nineth function is np.base_repr\n",
    "for i in range(10):\n",
    "    print(np.base_repr(i))\n"
   ],
   "metadata": {
    "collapsed": false,
    "pycharm": {
     "name": "#%%\n"
    }
   }
  },
  {
   "cell_type": "code",
   "execution_count": 1091,
   "outputs": [
    {
     "name": "stdout",
     "output_type": "stream",
     "text": [
      "00\n",
      "01\n",
      "10\n",
      "11\n",
      "100\n",
      "101\n",
      "110\n",
      "111\n",
      "1000\n",
      "1001\n"
     ]
    },
    {
     "name": "stderr",
     "output_type": "stream",
     "text": [
      "C:\\Users\\Student\\AppData\\Local\\Temp\\ipykernel_1156\\2130556825.py:4: DeprecationWarning: Insufficient bit width provided. This behavior will raise an error in the future.\n",
      "  print(np.binary_repr(i, width=2))\n"
     ]
    }
   ],
   "source": [
    "\n",
    "#fifty function is np.binary_repr\n",
    "\n",
    "for i in range(10):\n",
    "    print(np.binary_repr(i, width=2))\n"
   ],
   "metadata": {
    "collapsed": false,
    "pycharm": {
     "name": "#%%\n"
    }
   }
  },
  {
   "cell_type": "code",
   "execution_count": 1092,
   "outputs": [
    {
     "name": "stdout",
     "output_type": "stream",
     "text": [
      "[0 2 1 1 1]\n"
     ]
    }
   ],
   "source": [
    "\n",
    "#fifty first function is np.bincount\n",
    "array = np.array([1,2,3,4,1])\n",
    "print(np.bincount(array))\n"
   ],
   "metadata": {
    "collapsed": false,
    "pycharm": {
     "name": "#%%\n"
    }
   }
  },
  {
   "cell_type": "code",
   "execution_count": 1093,
   "outputs": [
    {
     "data": {
      "text/plain": "array([ True, False])"
     },
     "execution_count": 1093,
     "metadata": {},
     "output_type": "execute_result"
    }
   ],
   "source": [
    "\n",
    "#fifty second function is np.bitwise_and\n",
    "\n",
    "np.bitwise_and([True, False], [True, True])\n"
   ],
   "metadata": {
    "collapsed": false,
    "pycharm": {
     "name": "#%%\n"
    }
   }
  },
  {
   "cell_type": "code",
   "execution_count": 1094,
   "outputs": [
    {
     "name": "stdout",
     "output_type": "stream",
     "text": [
      "True\n"
     ]
    },
    {
     "data": {
      "text/plain": "-4"
     },
     "execution_count": 1094,
     "metadata": {},
     "output_type": "execute_result"
    }
   ],
   "source": [
    "\n",
    "#fifty third function is np.bitwise_not\n",
    "\n",
    "print(np.bitwise_not is np.invert)\n",
    "\n",
    "np.invert(3)\n"
   ],
   "metadata": {
    "collapsed": false,
    "pycharm": {
     "name": "#%%\n"
    }
   }
  },
  {
   "cell_type": "code",
   "execution_count": 1095,
   "outputs": [
    {
     "data": {
      "text/plain": "array([ True,  True])"
     },
     "execution_count": 1095,
     "metadata": {},
     "output_type": "execute_result"
    }
   ],
   "source": [
    "\n",
    "#fifty fourth function is np.bitwise_or\n",
    "\n",
    "np.bitwise_or([True, False], [True, True])\n"
   ],
   "metadata": {
    "collapsed": false,
    "pycharm": {
     "name": "#%%\n"
    }
   }
  },
  {
   "cell_type": "code",
   "execution_count": 1096,
   "outputs": [
    {
     "data": {
      "text/plain": "array([ True, False])"
     },
     "execution_count": 1096,
     "metadata": {},
     "output_type": "execute_result"
    }
   ],
   "source": [
    "\n",
    "#fifty fifth function is np.bitwise_xor\n",
    "\n",
    "np.bitwise_xor([True, True], [False, True])\n"
   ],
   "metadata": {
    "collapsed": false,
    "pycharm": {
     "name": "#%%\n"
    }
   }
  },
  {
   "cell_type": "code",
   "execution_count": 1097,
   "outputs": [
    {
     "data": {
      "text/plain": "<Figure size 640x480 with 1 Axes>",
      "image/png": "[encoded data removed]"
     },
     "metadata": {},
     "output_type": "display_data"
    }
   ],
   "source": [
    "\n",
    "#fifty sixth function is np.blackman\n",
    "import matplotlib.pyplot as plt\n",
    "\n",
    "x = np.blackman(20)\n",
    "plt.plot(x)\n",
    "plt.title(\"this is blackman array plotting\")\n",
    "plt.show()\n"
   ],
   "metadata": {
    "collapsed": false,
    "pycharm": {
     "name": "#%%\n"
    }
   }
  },
  {
   "cell_type": "code",
   "execution_count": 1098,
   "outputs": [
    {
     "data": {
      "text/plain": "array([[1., 0., 0., 0., 0., 1., 3., 0., 0., 0., 0.],\n       [0., 1., 0., 0., 0., 1., 0., 3., 0., 0., 0.],\n       [0., 0., 1., 0., 0., 1., 0., 0., 3., 0., 0.],\n       [0., 0., 0., 1., 0., 1., 0., 0., 0., 3., 0.],\n       [0., 0., 0., 0., 1., 1., 0., 0., 0., 0., 3.]])"
     },
     "execution_count": 1098,
     "metadata": {},
     "output_type": "execute_result"
    }
   ],
   "source": [
    "\n",
    "#fifty seventh function is np.block\n",
    "\n",
    "np.block([np.eye(5), np.ones(5).reshape(5, -1),\n",
    "          np.eye(5)*3])\n"
   ],
   "metadata": {
    "collapsed": false,
    "pycharm": {
     "name": "#%%\n"
    }
   }
  },
  {
   "cell_type": "code",
   "execution_count": 1099,
   "outputs": [
    {
     "data": {
      "text/plain": "matrix([[1, 1, 1, 3],\n        [4, 4, 2, 1]])"
     },
     "execution_count": 1099,
     "metadata": {},
     "output_type": "execute_result"
    }
   ],
   "source": [
    "\n",
    "#fifty eighth function is np.bmat\n",
    "\n",
    "x = np.mat('1 1 1 3')\n",
    "y = np.mat('4 4 2 1')\n",
    "np.bmat([[x], [y]])\n"
   ],
   "metadata": {
    "collapsed": false,
    "pycharm": {
     "name": "#%%\n"
    }
   }
  },
  {
   "cell_type": "code",
   "execution_count": 1100,
   "outputs": [
    {
     "data": {
      "text/plain": "array([ True,  True,  True, False])"
     },
     "execution_count": 1100,
     "metadata": {},
     "output_type": "execute_result"
    }
   ],
   "source": [
    "\n",
    "#fifty ninth function is np.bool8\n",
    "\n",
    "x = np.array([1,2,3,0])\n",
    "np.bool8(x)\n"
   ],
   "metadata": {
    "collapsed": false,
    "pycharm": {
     "name": "#%%\n"
    }
   }
  },
  {
   "cell_type": "code",
   "execution_count": 1101,
   "outputs": [
    {
     "data": {
      "text/plain": "array([False,  True])"
     },
     "execution_count": 1101,
     "metadata": {},
     "output_type": "execute_result"
    }
   ],
   "source": [
    "\n",
    "#sixty function is np.bool_\n",
    "\n",
    "a = np.bool_(True)\n",
    "b = True\n",
    "np.array([a is True, b is True], dtype=bool)\n"
   ],
   "metadata": {
    "collapsed": false,
    "pycharm": {
     "name": "#%%\n"
    }
   }
  },
  {
   "cell_type": "code",
   "execution_count": 1102,
   "outputs": [
    {
     "data": {
      "text/plain": "[(1, 2)]"
     },
     "execution_count": 1102,
     "metadata": {},
     "output_type": "execute_result"
    }
   ],
   "source": [
    "\n",
    "#sixty first function is np.broadcast\n",
    "\n",
    "[i for i in np.broadcast([1], [2])]\n"
   ],
   "metadata": {
    "collapsed": false,
    "pycharm": {
     "name": "#%%\n"
    }
   }
  },
  {
   "cell_type": "code",
   "execution_count": 1103,
   "outputs": [
    {
     "data": {
      "text/plain": "[array([[1, 2, 3],\n        [1, 2, 3]]),\n array([[4, 4, 4],\n        [5, 5, 5]])]"
     },
     "execution_count": 1103,
     "metadata": {},
     "output_type": "execute_result"
    }
   ],
   "source": [
    "\n",
    "#sixty second function is np.broadcast_arrays\n",
    "\n",
    "np.broadcast_arrays([[1,2,3]], [[4],[5]])\n"
   ],
   "metadata": {
    "collapsed": false,
    "pycharm": {
     "name": "#%%\n"
    }
   }
  },
  {
   "cell_type": "code",
   "execution_count": 1104,
   "outputs": [
    {
     "data": {
      "text/plain": "(2, 2)"
     },
     "execution_count": 1104,
     "metadata": {},
     "output_type": "execute_result"
    }
   ],
   "source": [
    "\n",
    "#sixty third function is np.broadcast_shapes\n",
    "\n",
    "np.broadcast_shapes((1,2), (2,1))\n"
   ],
   "metadata": {
    "collapsed": false,
    "pycharm": {
     "name": "#%%\n"
    }
   }
  },
  {
   "cell_type": "code",
   "execution_count": 1105,
   "outputs": [
    {
     "data": {
      "text/plain": "array([[1, 2, 3],\n       [1, 2, 3],\n       [1, 2, 3],\n       [1, 2, 3]])"
     },
     "execution_count": 1105,
     "metadata": {},
     "output_type": "execute_result"
    }
   ],
   "source": [
    "\n",
    "#sixty fourth function is np.broadcast_to\n",
    "\n",
    "x = np.array([1,2,3])\n",
    "np.broadcast_to(x, (4,3))\n"
   ],
   "metadata": {
    "collapsed": false,
    "pycharm": {
     "name": "#%%\n"
    }
   }
  },
  {
   "cell_type": "code",
   "execution_count": 1106,
   "outputs": [
    {
     "data": {
      "text/plain": "22"
     },
     "execution_count": 1106,
     "metadata": {},
     "output_type": "execute_result"
    }
   ],
   "source": [
    "\n",
    "#sixty fifth function is np.busday_count\n",
    "\n",
    "np.busday_count('2022-09', '2022-10')\n"
   ],
   "metadata": {
    "collapsed": false,
    "pycharm": {
     "name": "#%%\n"
    }
   }
  },
  {
   "cell_type": "code",
   "execution_count": 1107,
   "outputs": [
    {
     "data": {
      "text/plain": "numpy.datetime64('2022-08-24')"
     },
     "execution_count": 1107,
     "metadata": {},
     "output_type": "execute_result"
    }
   ],
   "source": [
    "\n",
    "#sixty sixth function is np.busday_offset\n",
    "\n",
    "np.busday_offset('2022-09', -6, roll='forward')\n"
   ],
   "metadata": {
    "collapsed": false,
    "pycharm": {
     "name": "#%%\n"
    }
   }
  },
  {
   "cell_type": "code",
   "execution_count": 1108,
   "outputs": [
    {
     "name": "stdout",
     "output_type": "stream",
     "text": [
      "[ True  True  True  True  True False False]\n",
      "['2022-09-30']\n"
     ]
    }
   ],
   "source": [
    "\n",
    "#sixty seventh function is np.busdaycalendar\n",
    "\n",
    "x = np.busdaycalendar(\n",
    "            holidays=['2022-09-03', '2022-09-10', '2022-09-30'])\n",
    "# Default is Monday to Friday weekdays\n",
    "\n",
    "print(x.weekmask)\n",
    "print(x.holidays)"
   ],
   "metadata": {
    "collapsed": false,
    "pycharm": {
     "name": "#%%\n"
    }
   }
  },
  {
   "cell_type": "code",
   "execution_count": 1109,
   "outputs": [
    {
     "data": {
      "text/plain": "array([1, 2, 3], dtype=int8)"
     },
     "execution_count": 1109,
     "metadata": {},
     "output_type": "execute_result"
    }
   ],
   "source": [
    "\n",
    "#sixty eighth function is np.byte\n",
    "np.byte([1,2,3])\n"
   ],
   "metadata": {
    "collapsed": false,
    "pycharm": {
     "name": "#%%\n"
    }
   }
  },
  {
   "cell_type": "code",
   "execution_count": 1110,
   "outputs": [
    {
     "data": {
      "text/plain": "(2871268811984, 2871268811992)"
     },
     "execution_count": 1110,
     "metadata": {},
     "output_type": "execute_result"
    }
   ],
   "source": [
    "\n",
    "#sixty ninth function is np.byte_bounds\n",
    "\n",
    "np.byte_bounds(np.array([[1],[2]]))\n"
   ],
   "metadata": {
    "collapsed": false,
    "pycharm": {
     "name": "#%%\n"
    }
   }
  },
  {
   "cell_type": "code",
   "execution_count": 1111,
   "outputs": [
    {
     "data": {
      "text/plain": "b'\\x01\\x00\\x00\\x00\\x02'"
     },
     "execution_count": 1111,
     "metadata": {},
     "output_type": "execute_result"
    }
   ],
   "source": [
    "\n",
    "#seventy function is np.bytes0\n",
    "np.bytes0(np.array([1, 2]))\n"
   ],
   "metadata": {
    "collapsed": false,
    "pycharm": {
     "name": "#%%\n"
    }
   }
  },
  {
   "cell_type": "code",
   "execution_count": 1112,
   "outputs": [
    {
     "data": {
      "text/plain": "b'\\x01\\x02'"
     },
     "execution_count": 1112,
     "metadata": {},
     "output_type": "execute_result"
    }
   ],
   "source": [
    "\n",
    "#seventy first function is np.bytes_\n",
    "\n",
    "np.bytes_([1, 2])\n"
   ],
   "metadata": {
    "collapsed": false,
    "pycharm": {
     "name": "#%%\n"
    }
   }
  },
  {
   "cell_type": "code",
   "execution_count": 1113,
   "outputs": [
    {
     "name": "stdout",
     "output_type": "stream",
     "text": [
      "False\n",
      "True\n"
     ]
    },
    {
     "name": "stderr",
     "output_type": "stream",
     "text": [
      "C:\\Users\\Student\\AppData\\Local\\Temp\\ipykernel_1156\\1526538133.py:4: DeprecationWarning: `np.complex` is a deprecated alias for the builtin `complex`. To silence this warning, use `complex` by itself. Doing this will not modify any behavior and is safe. If you specifically wanted the numpy scalar type, use `np.complex128` here.\n",
      "Deprecated in NumPy 1.20; for more details and guidance: https://numpy.org/devdocs/release/1.20.0-notes.html#deprecations\n",
      "  print(np.can_cast(np.int32, np.complex))\n"
     ]
    }
   ],
   "source": [
    "\n",
    "#seventy second function is np.can_cast\n",
    "\n",
    "print(np.can_cast(np.int32, np.float32))\n",
    "print(np.can_cast(np.int32, np.complex))\n"
   ],
   "metadata": {
    "collapsed": false,
    "pycharm": {
     "name": "#%%\n"
    }
   }
  },
  {
   "cell_type": "code",
   "execution_count": 1114,
   "outputs": [
    {
     "data": {
      "text/plain": "<function numpy.core.numerictypes.<lambda>(x, k=<class 'numpy.float64'>)>"
     },
     "execution_count": 1114,
     "metadata": {},
     "output_type": "execute_result"
    }
   ],
   "source": [
    "\n",
    "#seventy third function is np.cast\n",
    "\n",
    "np.cast['float']\n"
   ],
   "metadata": {
    "collapsed": false,
    "pycharm": {
     "name": "#%%\n"
    }
   }
  },
  {
   "cell_type": "code",
   "execution_count": 1115,
   "outputs": [
    {
     "data": {
      "text/plain": "array([2., 3.])"
     },
     "execution_count": 1115,
     "metadata": {},
     "output_type": "execute_result"
    }
   ],
   "source": [
    "\n",
    "#seventy fourth function is np.cbrt\n",
    "\n",
    "np.cbrt([8, 27])\n"
   ],
   "metadata": {
    "collapsed": false,
    "pycharm": {
     "name": "#%%\n"
    }
   }
  },
  {
   "cell_type": "code",
   "execution_count": 1116,
   "outputs": [
    {
     "name": "stdout",
     "output_type": "stream",
     "text": [
      "(12+0j)\n",
      "complex128\n"
     ]
    }
   ],
   "source": [
    "\n",
    "#seventy fifth function is np.cdouble\n",
    "\n",
    "x = np.cdouble(12)\n",
    "print(x)\n",
    "print(x.dtype)"
   ],
   "metadata": {
    "collapsed": false,
    "pycharm": {
     "name": "#%%\n"
    }
   }
  },
  {
   "cell_type": "code",
   "execution_count": 1117,
   "outputs": [
    {
     "data": {
      "text/plain": "array([0., 1., 1., 1., 2.])"
     },
     "execution_count": 1117,
     "metadata": {},
     "output_type": "execute_result"
    }
   ],
   "source": [
    "\n",
    "#seventy sixth function in np.ceil\n",
    "\n",
    "np.ceil([0.0, 0.1, 0.5, 1.0, 1.1])\n"
   ],
   "metadata": {
    "collapsed": false,
    "pycharm": {
     "name": "#%%\n"
    }
   }
  },
  {
   "cell_type": "code",
   "execution_count": 1118,
   "outputs": [
    {
     "name": "stdout",
     "output_type": "stream",
     "text": [
      "(3+0j)\n",
      "complex128\n"
     ]
    }
   ],
   "source": [
    "\n",
    "#seventy seventh function is np.cfloat\n",
    "\n",
    "x = np.cfloat(3)\n",
    "print(x)\n",
    "print(x.dtype)"
   ],
   "metadata": {
    "collapsed": false,
    "pycharm": {
     "name": "#%%\n"
    }
   }
  },
  {
   "cell_type": "code",
   "execution_count": 1119,
   "outputs": [
    {
     "data": {
      "text/plain": "chararray([[b'iqrorjon', b'iqrorjon', b'iqrorjon', b'iqrorjon'],\n           [b'iqrorjon', b'iqrorjon', b'iqrorjon', b'iqrorjon'],\n           [b'iqrorjon', b'iqrorjon', b'iqrorjon', b'iqrorjon'],\n           [b'iqrorjon', b'iqrorjon', b'iqrorjon', b'iqrorjon']],\n          dtype='|S10')"
     },
     "execution_count": 1119,
     "metadata": {},
     "output_type": "execute_result"
    }
   ],
   "source": [
    "\n",
    "#seventy eighth function is np.char\n",
    "\n",
    "x = np.chararray((4,4), itemsize=10)\n",
    "x[:] = 'iqrorjon'\n",
    "x\n"
   ],
   "metadata": {
    "collapsed": false,
    "pycharm": {
     "name": "#%%\n"
    }
   }
  },
  {
   "cell_type": "code",
   "execution_count": 1120,
   "outputs": [
    {
     "name": "stderr",
     "output_type": "stream",
     "text": [
      "C:\\Users\\Student\\AppData\\Local\\Temp\\ipykernel_1156\\2755792119.py:3: DeprecationWarning: Converting `np.character` to a dtype is deprecated. The current result is `np.dtype(np.str_)` which is not strictly correct. Note that `np.character` is generally deprecated and 'S1' should be used.\n",
      "  x = np.array(['i', 'q'], dtype=np.character)\n"
     ]
    },
    {
     "data": {
      "text/plain": "array([b'i', b'q'], dtype='|S1')"
     },
     "execution_count": 1120,
     "metadata": {},
     "output_type": "execute_result"
    }
   ],
   "source": [
    "\n",
    "#seventy ninth function is np.character\n",
    "\n",
    "x = np.array(['i', 'q'], dtype=np.character)\n",
    "x"
   ],
   "metadata": {
    "collapsed": false,
    "pycharm": {
     "name": "#%%\n"
    }
   }
  },
  {
   "cell_type": "code",
   "execution_count": 1121,
   "outputs": [
    {
     "data": {
      "text/plain": "chararray([[b'i', b'i', b'i'],\n           [b'\\x01', '', ''],\n           [b'i', b'i', b'i']], dtype='|S1')"
     },
     "execution_count": 1121,
     "metadata": {},
     "output_type": "execute_result"
    }
   ],
   "source": [
    "\n",
    "#eighty function is np.chararray\n",
    "\n",
    "x = np.chararray((3,3))\n",
    "x[::2] = 'i'\n",
    "x"
   ],
   "metadata": {
    "collapsed": false,
    "pycharm": {
     "name": "#%%\n"
    }
   }
  },
  {
   "cell_type": "code",
   "execution_count": 1122,
   "outputs": [
    {
     "data": {
      "text/plain": "array([1, 4])"
     },
     "execution_count": 1122,
     "metadata": {},
     "output_type": "execute_result"
    }
   ],
   "source": [
    "\n",
    "#eighty first function is np.choose\n",
    "\n",
    "a = np.array([1,2,3,4,5])\n",
    "np.choose([0, 3], a)\n"
   ],
   "metadata": {
    "collapsed": false,
    "pycharm": {
     "name": "#%%\n"
    }
   }
  },
  {
   "cell_type": "code",
   "execution_count": 1123,
   "outputs": [
    {
     "data": {
      "text/plain": "array([2, 2, 3, 4, 5, 5, 5, 5])"
     },
     "execution_count": 1123,
     "metadata": {},
     "output_type": "execute_result"
    }
   ],
   "source": [
    "\n",
    "#eighty second function is np.clip\n",
    "\n",
    "x = np.array([1,2,3,4,5,6,7,8])\n",
    "\n",
    "np.clip(x, 2,5)\n"
   ],
   "metadata": {
    "collapsed": false,
    "pycharm": {
     "name": "#%%\n"
    }
   }
  },
  {
   "cell_type": "code",
   "execution_count": 1124,
   "outputs": [
    {
     "name": "stdout",
     "output_type": "stream",
     "text": [
      "[1.+0.j 2.+0.j 3.+0.j]\n",
      "complex128\n"
     ]
    }
   ],
   "source": [
    "\n",
    "#eighty third function is np.clongdouble\n",
    "\n",
    "x = np.array([1,2,3], dtype=np.clongdouble)\n",
    "print(x)\n",
    "print(x.dtype)\n"
   ],
   "metadata": {
    "collapsed": false,
    "pycharm": {
     "name": "#%%\n"
    }
   }
  },
  {
   "cell_type": "code",
   "execution_count": 1125,
   "outputs": [
    {
     "name": "stdout",
     "output_type": "stream",
     "text": [
      "[1.+0.j 2.+0.j 3.+0.j]\n",
      "complex128\n"
     ]
    }
   ],
   "source": [
    "\n",
    "#eighty fourth function is np.clongfloat\n",
    "x = np.array([1,2,3], dtype=np.clongfloat)\n",
    "print(x)\n",
    "print(x.dtype)\n"
   ],
   "metadata": {
    "collapsed": false,
    "pycharm": {
     "name": "#%%\n"
    }
   }
  },
  {
   "cell_type": "code",
   "execution_count": 1126,
   "outputs": [
    {
     "data": {
      "text/plain": "array([[1, 4],\n       [2, 5],\n       [3, 6]])"
     },
     "execution_count": 1126,
     "metadata": {},
     "output_type": "execute_result"
    }
   ],
   "source": [
    "\n",
    "#eighty fifth function is np.column_stack\n",
    "\n",
    "a = np.array([1,2,3])\n",
    "b = np.array([4,5,6])\n",
    "np.column_stack((a, b))\n"
   ],
   "metadata": {
    "collapsed": false,
    "pycharm": {
     "name": "#%%\n"
    }
   }
  },
  {
   "cell_type": "code",
   "execution_count": 1127,
   "outputs": [
    {
     "data": {
      "text/plain": "numpy.complex128"
     },
     "execution_count": 1127,
     "metadata": {},
     "output_type": "execute_result"
    }
   ],
   "source": [
    "\n",
    "#eighty sixth function is np.common_type\n",
    "\n",
    "np.common_type(np.array([1j,1,2,3.0]))\n"
   ],
   "metadata": {
    "collapsed": false,
    "pycharm": {
     "name": "#%%\n"
    }
   }
  },
  {
   "cell_type": "code",
   "execution_count": 1128,
   "outputs": [
    {
     "name": "stdout",
     "output_type": "stream",
     "text": [
      "[False False  True False]\n",
      "[False False False  True]\n"
     ]
    }
   ],
   "source": [
    "\n",
    "#eighty seventh function is np.compare_chararrays\n",
    "a = np.array(['a', 'b', 'c', 'x'])\n",
    "b = np.array(['c', 'z', 'a', 'x'])\n",
    "\n",
    "print(np.compare_chararrays(a, b, '>', True))\n",
    "print(np.compare_chararrays(a, b, '==', True))\n"
   ],
   "metadata": {
    "collapsed": false,
    "pycharm": {
     "name": "#%%\n"
    }
   }
  },
  {
   "cell_type": "code",
   "execution_count": 1129,
   "outputs": [
    {
     "data": {
      "text/plain": "str"
     },
     "execution_count": 1129,
     "metadata": {},
     "output_type": "execute_result"
    }
   ],
   "source": [
    "\n",
    "#eighty eighth function is np.compat\n",
    "\n",
    "np.compat.unicode\n"
   ],
   "metadata": {
    "collapsed": false,
    "pycharm": {
     "name": "#%%\n"
    }
   }
  },
  {
   "cell_type": "code",
   "execution_count": 1130,
   "outputs": [
    {
     "name": "stdout",
     "output_type": "stream",
     "text": [
      "[0.+1.j 0.+2.j]\n",
      "complex128\n"
     ]
    }
   ],
   "source": [
    "\n",
    "#eighty ninth function is np.complex128\n",
    "\n",
    "print(np.array([1j, 2j]))\n",
    "print(np.array([1j, 2j]).dtype)\n"
   ],
   "metadata": {
    "collapsed": false,
    "pycharm": {
     "name": "#%%\n"
    }
   }
  },
  {
   "cell_type": "code",
   "execution_count": 1131,
   "outputs": [
    {
     "data": {
      "text/plain": "array([1.+0.j, 2.+0.j, 3.+0.j], dtype=complex64)"
     },
     "execution_count": 1131,
     "metadata": {},
     "output_type": "execute_result"
    }
   ],
   "source": [
    "\n",
    "#ninety function is np.complex64\n",
    "\n",
    "np.array([1,2,3], dtype=np.complex64)\n"
   ],
   "metadata": {
    "collapsed": false,
    "pycharm": {
     "name": "#%%\n"
    }
   }
  },
  {
   "cell_type": "code",
   "execution_count": 1132,
   "outputs": [
    {
     "data": {
      "text/plain": "(12+0j)"
     },
     "execution_count": 1132,
     "metadata": {},
     "output_type": "execute_result"
    }
   ],
   "source": [
    "\n",
    "#ninety first function is np.complex_\n",
    "\n",
    "np.complex_(12)\n"
   ],
   "metadata": {
    "collapsed": false,
    "pycharm": {
     "name": "#%%\n"
    }
   }
  },
  {
   "cell_type": "code",
   "execution_count": 1133,
   "outputs": [
    {
     "name": "stderr",
     "output_type": "stream",
     "text": [
      "C:\\Users\\Student\\AppData\\Local\\Temp\\ipykernel_1156\\1701803943.py:3: DeprecationWarning: Converting `np.complex` to a dtype is deprecated. The current result is `complex128` which is not strictly correct.\n",
      "  np.array([1,2,3], dtype=np.complexfloating)\n"
     ]
    },
    {
     "data": {
      "text/plain": "array([1.+0.j, 2.+0.j, 3.+0.j])"
     },
     "execution_count": 1133,
     "metadata": {},
     "output_type": "execute_result"
    }
   ],
   "source": [
    "\n",
    "#ninety second function is np.complexfloating\n",
    "\n",
    "np.array([1,2,3], dtype=np.complexfloating)\n"
   ],
   "metadata": {
    "collapsed": false,
    "pycharm": {
     "name": "#%%\n"
    }
   }
  },
  {
   "cell_type": "code",
   "execution_count": 1134,
   "outputs": [
    {
     "data": {
      "text/plain": "array([[2],\n       [4],\n       [6]])"
     },
     "execution_count": 1134,
     "metadata": {},
     "output_type": "execute_result"
    }
   ],
   "source": [
    "\n",
    "#ninety third function is np.compress\n",
    "a = np.array([[1,2],\n",
    "              [3,4],\n",
    "              [5,6]])\n",
    "\n",
    "np.compress([0, 1], a, axis=1)"
   ],
   "metadata": {
    "collapsed": false,
    "pycharm": {
     "name": "#%%\n"
    }
   }
  },
  {
   "cell_type": "code",
   "execution_count": 1135,
   "outputs": [
    {
     "data": {
      "text/plain": "array([[1, 2, 3, 4, 5, 6]])"
     },
     "execution_count": 1135,
     "metadata": {},
     "output_type": "execute_result"
    }
   ],
   "source": [
    "\n",
    "#ninety fourth function is np.concatenate\n",
    "\n",
    "a = np.array([[1,2,3]])\n",
    "b = np.array([[4,5,6]])\n",
    "\n",
    "np.concatenate((a,b), axis=1)"
   ],
   "metadata": {
    "collapsed": false,
    "pycharm": {
     "name": "#%%\n"
    }
   }
  },
  {
   "cell_type": "code",
   "execution_count": 1136,
   "outputs": [
    {
     "name": "stdout",
     "output_type": "stream",
     "text": [
      "[1.+0.j 2.+0.j 3.+0.j]\n"
     ]
    },
    {
     "data": {
      "text/plain": "array([1.-0.j, 2.-0.j, 3.-0.j])"
     },
     "execution_count": 1136,
     "metadata": {},
     "output_type": "execute_result"
    }
   ],
   "source": [
    "\n",
    "#ninety fifth function is np.conj\n",
    "\n",
    "a = np.array([1,2,3], dtype=np.complex128)\n",
    "print(a)\n",
    "np.conj(a)"
   ],
   "metadata": {
    "collapsed": false,
    "pycharm": {
     "name": "#%%\n"
    }
   }
  },
  {
   "cell_type": "code",
   "execution_count": 1137,
   "outputs": [
    {
     "name": "stdout",
     "output_type": "stream",
     "text": [
      "True\n",
      "[1.+0.j 2.+0.j 3.+0.j]\n"
     ]
    },
    {
     "data": {
      "text/plain": "array([1.-0.j, 2.-0.j, 3.-0.j])"
     },
     "execution_count": 1137,
     "metadata": {},
     "output_type": "execute_result"
    }
   ],
   "source": [
    "\n",
    "#ninety sixth function is np.conjugate\n",
    "\n",
    "print(np.conjugate is np.conj)\n",
    "\n",
    "a = np.array([1,2,3], dtype=np.complex128)\n",
    "print(a)\n",
    "np.conjugate(a)\n"
   ],
   "metadata": {
    "collapsed": false,
    "pycharm": {
     "name": "#%%\n"
    }
   }
  },
  {
   "cell_type": "code",
   "execution_count": 1138,
   "outputs": [
    {
     "data": {
      "text/plain": "array([1. , 2.5, 4. ])"
     },
     "execution_count": 1138,
     "metadata": {},
     "output_type": "execute_result"
    }
   ],
   "source": [
    "\n",
    "#ninety seventh function is np.convolve\n",
    "\n",
    "np.convolve([1,2,3],[0,1,0.5], 'same') # i can't understand this function formula !!!\n"
   ],
   "metadata": {
    "collapsed": false,
    "pycharm": {
     "name": "#%%\n"
    }
   }
  },
  {
   "cell_type": "code",
   "execution_count": 1139,
   "outputs": [
    {
     "name": "stdout",
     "output_type": "stream",
     "text": [
      "False\n",
      "[ True  True  True]\n"
     ]
    }
   ],
   "source": [
    "\n",
    "#ninety eighth function is np.copy\n",
    "\n",
    "a = np.array([1,2,3])\n",
    "b = np.copy(a)\n",
    "print(b is a)\n",
    "print(b == a)"
   ],
   "metadata": {
    "collapsed": false,
    "pycharm": {
     "name": "#%%\n"
    }
   }
  },
  {
   "cell_type": "code",
   "execution_count": 1140,
   "outputs": [
    {
     "name": "stdout",
     "output_type": "stream",
     "text": [
      "[1. 2. 3.]\n",
      "[-1. -2. -3.]\n"
     ]
    }
   ],
   "source": [
    "\n",
    "#ninety ninth function is np.copysign\n",
    "\n",
    "a = np.array([-1, 2, 3.0])\n",
    "print(np.copysign(a, 1))\n",
    "print(np.copysign(a, -1))\n"
   ],
   "metadata": {
    "collapsed": false,
    "pycharm": {
     "name": "#%%\n"
    }
   }
  },
  {
   "cell_type": "code",
   "execution_count": 1141,
   "outputs": [
    {
     "data": {
      "text/plain": "array([[ 4, -5,  6],\n       [ 4, -5,  6]])"
     },
     "execution_count": 1141,
     "metadata": {},
     "output_type": "execute_result"
    }
   ],
   "source": [
    "\n",
    "#hundredth function is np.copyto\n",
    "\n",
    "a = np.array([[1,2,3],\n",
    "              [1,2,3]])\n",
    "b = np.array([4,-5,6])\n",
    "np.copyto(a, b)\n",
    "a"
   ],
   "metadata": {
    "collapsed": false,
    "pycharm": {
     "name": "#%%\n"
    }
   }
  },
  {
   "cell_type": "code",
   "execution_count": 1142,
   "outputs": [
    {
     "name": "stdout",
     "output_type": "stream",
     "text": [
      "<module 'numpy.core' from 'C:\\\\Users\\\\Student\\\\AppData\\\\Local\\\\Programs\\\\Python\\\\Python310\\\\lib\\\\site-packages\\\\numpy\\\\core\\\\__init__.py'>\n"
     ]
    },
    {
     "data": {
      "text/plain": "['ALLOW_THREADS',\n 'AxisError',\n 'BUFSIZE',\n 'CLIP',\n 'ComplexWarning',\n 'ERR_CALL',\n 'ERR_DEFAULT',\n 'ERR_IGNORE',\n 'ERR_LOG',\n 'ERR_PRINT',\n 'ERR_RAISE',\n 'ERR_WARN',\n 'FLOATING_POINT_SUPPORT',\n 'FPE_DIVIDEBYZERO',\n 'FPE_INVALID',\n 'FPE_OVERFLOW',\n 'FPE_UNDERFLOW',\n 'False_',\n 'Inf',\n 'Infinity',\n 'MAXDIMS',\n 'MAY_SHARE_BOUNDS',\n 'MAY_SHARE_EXACT',\n 'MachAr',\n 'NAN',\n 'NINF',\n 'NZERO',\n 'NaN',\n 'PINF',\n 'PZERO',\n 'RAISE',\n 'SHIFT_DIVIDEBYZERO',\n 'SHIFT_INVALID',\n 'SHIFT_OVERFLOW',\n 'SHIFT_UNDERFLOW',\n 'ScalarType',\n 'TooHardError',\n 'True_',\n 'UFUNC_BUFSIZE_DEFAULT',\n 'UFUNC_PYVALS_NAME',\n 'WRAP',\n '_DType_reconstruct',\n '_UFUNC_API',\n '__all__',\n '__builtins__',\n '__cached__',\n '__doc__',\n '__file__',\n '__getattr__',\n '__loader__',\n '__name__',\n '__package__',\n '__path__',\n '__spec__',\n '__version__',\n '_add_newdoc_ufunc',\n '_add_newdocs',\n '_add_newdocs_scalars',\n '_asarray',\n '_dtype',\n '_dtype_ctypes',\n '_exceptions',\n '_internal',\n '_machar',\n '_methods',\n '_multiarray_tests',\n '_multiarray_umath',\n '_rational_tests',\n '_string_helpers',\n '_type_aliases',\n '_ufunc_config',\n '_ufunc_reconstruct',\n '_umath_tests',\n 'abs',\n 'absolute',\n 'add',\n 'all',\n 'allclose',\n 'alltrue',\n 'amax',\n 'amin',\n 'any',\n 'arange',\n 'arccos',\n 'arccosh',\n 'arcsin',\n 'arcsinh',\n 'arctan',\n 'arctan2',\n 'arctanh',\n 'argmax',\n 'argmin',\n 'argpartition',\n 'argsort',\n 'argwhere',\n 'around',\n 'array',\n 'array2string',\n 'array_equal',\n 'array_equiv',\n 'array_repr',\n 'array_str',\n 'arrayprint',\n 'asanyarray',\n 'asarray',\n 'ascontiguousarray',\n 'asfortranarray',\n 'atleast_1d',\n 'atleast_2d',\n 'atleast_3d',\n 'base_repr',\n 'binary_repr',\n 'bitwise_and',\n 'bitwise_not',\n 'bitwise_or',\n 'bitwise_xor',\n 'block',\n 'bool8',\n 'bool_',\n 'broadcast',\n 'busday_count',\n 'busday_offset',\n 'busdaycalendar',\n 'byte',\n 'bytes0',\n 'bytes_',\n 'can_cast',\n 'cast',\n 'cbrt',\n 'cdouble',\n 'ceil',\n 'cfloat',\n 'char',\n 'character',\n 'chararray',\n 'choose',\n 'clip',\n 'clongdouble',\n 'clongfloat',\n 'compare_chararrays',\n 'complex128',\n 'complex64',\n 'complex_',\n 'complexfloating',\n 'compress',\n 'concatenate',\n 'conj',\n 'conjugate',\n 'convolve',\n 'copysign',\n 'copyto',\n 'correlate',\n 'cos',\n 'cosh',\n 'count_nonzero',\n 'cross',\n 'csingle',\n 'cumprod',\n 'cumproduct',\n 'cumsum',\n 'datetime64',\n 'datetime_as_string',\n 'datetime_data',\n 'defchararray',\n 'deg2rad',\n 'degrees',\n 'diagonal',\n 'divide',\n 'divmod',\n 'dot',\n 'double',\n 'dtype',\n 'e',\n 'einsum',\n 'einsum_path',\n 'einsumfunc',\n 'empty',\n 'empty_like',\n 'equal',\n 'errstate',\n 'euler_gamma',\n 'exp',\n 'exp2',\n 'expm1',\n 'fabs',\n 'fastCopyAndTranspose',\n 'find_common_type',\n 'finfo',\n 'flatiter',\n 'flatnonzero',\n 'flexible',\n 'float16',\n 'float32',\n 'float64',\n 'float_',\n 'float_power',\n 'floating',\n 'floor',\n 'floor_divide',\n 'fmax',\n 'fmin',\n 'fmod',\n 'format_float_positional',\n 'format_float_scientific',\n 'format_parser',\n 'frexp',\n 'from_dlpack',\n 'frombuffer',\n 'fromfile',\n 'fromfunction',\n 'fromiter',\n 'fromnumeric',\n 'frompyfunc',\n 'fromstring',\n 'full',\n 'full_like',\n 'function_base',\n 'gcd',\n 'generic',\n 'geomspace',\n 'get_printoptions',\n 'getbufsize',\n 'geterr',\n 'geterrcall',\n 'geterrobj',\n 'getlimits',\n 'greater',\n 'greater_equal',\n 'half',\n 'heaviside',\n 'hstack',\n 'hypot',\n 'identity',\n 'iinfo',\n 'indices',\n 'inexact',\n 'inf',\n 'infty',\n 'inner',\n 'int0',\n 'int16',\n 'int32',\n 'int64',\n 'int8',\n 'int_',\n 'intc',\n 'integer',\n 'intp',\n 'invert',\n 'is_busday',\n 'isclose',\n 'isfinite',\n 'isfortran',\n 'isinf',\n 'isnan',\n 'isnat',\n 'isscalar',\n 'issctype',\n 'issubdtype',\n 'lcm',\n 'ldexp',\n 'left_shift',\n 'less',\n 'less_equal',\n 'lexsort',\n 'linspace',\n 'little_endian',\n 'log',\n 'log10',\n 'log1p',\n 'log2',\n 'logaddexp',\n 'logaddexp2',\n 'logical_and',\n 'logical_not',\n 'logical_or',\n 'logical_xor',\n 'logspace',\n 'long',\n 'longcomplex',\n 'longdouble',\n 'longfloat',\n 'longlong',\n 'matmul',\n 'max',\n 'maximum',\n 'maximum_sctype',\n 'may_share_memory',\n 'mean',\n 'memmap',\n 'min',\n 'min_scalar_type',\n 'minimum',\n 'mod',\n 'modf',\n 'moveaxis',\n 'multiarray',\n 'multiply',\n 'nan',\n 'nbytes',\n 'ndarray',\n 'ndim',\n 'nditer',\n 'negative',\n 'nested_iters',\n 'newaxis',\n 'nextafter',\n 'nonzero',\n 'not_equal',\n 'number',\n 'numeric',\n 'numerictypes',\n 'obj2sctype',\n 'object0',\n 'object_',\n 'ones',\n 'ones_like',\n 'outer',\n 'overrides',\n 'partition',\n 'pi',\n 'positive',\n 'power',\n 'printoptions',\n 'prod',\n 'product',\n 'promote_types',\n 'ptp',\n 'put',\n 'putmask',\n 'rad2deg',\n 'radians',\n 'ravel',\n 'rec',\n 'recarray',\n 'reciprocal',\n 'record',\n 'records',\n 'remainder',\n 'repeat',\n 'require',\n 'reshape',\n 'resize',\n 'result_type',\n 'right_shift',\n 'rint',\n 'roll',\n 'rollaxis',\n 'round',\n 'round_',\n 'sctype2char',\n 'sctypeDict',\n 'sctypes',\n 'searchsorted',\n 'set_numeric_ops',\n 'set_printoptions',\n 'set_string_function',\n 'setbufsize',\n 'seterr',\n 'seterrcall',\n 'seterrobj',\n 'shape',\n 'shape_base',\n 'shares_memory',\n 'short',\n 'sign',\n 'signbit',\n 'signedinteger',\n 'sin',\n 'single',\n 'singlecomplex',\n 'sinh',\n 'size',\n 'sometrue',\n 'sort',\n 'spacing',\n 'sqrt',\n 'square',\n 'squeeze',\n 'stack',\n 'std',\n 'str0',\n 'str_',\n 'string_',\n 'subtract',\n 'sum',\n 'swapaxes',\n 'take',\n 'tan',\n 'tanh',\n 'tensordot',\n 'test',\n 'tests',\n 'timedelta64',\n 'trace',\n 'transpose',\n 'true_divide',\n 'trunc',\n 'typecodes',\n 'ubyte',\n 'ufunc',\n 'uint',\n 'uint0',\n 'uint16',\n 'uint32',\n 'uint64',\n 'uint8',\n 'uintc',\n 'uintp',\n 'ulonglong',\n 'umath',\n 'umath_tests',\n 'unicode',\n 'unicode_',\n 'unsignedinteger',\n 'ushort',\n 'var',\n 'vdot',\n 'void',\n 'void0',\n 'vstack',\n 'warnings',\n 'where',\n 'zeros',\n 'zeros_like']"
     },
     "execution_count": 1142,
     "metadata": {},
     "output_type": "execute_result"
    }
   ],
   "source": [
    "#one hundred and first function is np.core\n",
    "print(np.core)\n",
    "dir(np.core)"
   ],
   "metadata": {
    "collapsed": false,
    "pycharm": {
     "name": "#%%\n"
    }
   }
  },
  {
   "cell_type": "code",
   "execution_count": 1143,
   "outputs": [
    {
     "data": {
      "text/plain": "array([[ 1.        ,  0.99256089, -0.68080987, -0.26249862, -0.86879845],\n       [ 0.99256089,  1.        , -0.76492173, -0.37802565, -0.92262144],\n       [-0.68080987, -0.76492173,  1.        ,  0.88548619,  0.95417585],\n       [-0.26249862, -0.37802565,  0.88548619,  1.        ,  0.70585998],\n       [-0.86879845, -0.92262144,  0.95417585,  0.70585998,  1.        ]])"
     },
     "execution_count": 1143,
     "metadata": {},
     "output_type": "execute_result"
    }
   ],
   "source": [
    "\n",
    "#one hundred and second function is np.corrcoef\n",
    "a = np.array([[0.77395605, 0.43887844, 0.85859792],\n",
    "               [0.69736803, 0.09417735, 0.97562235],\n",
    "               [0.7611397 , 0.78606431, 0.12811363],\n",
    "               [0.9767686, 0.7897584, 0.547843658943],\n",
    "               [0.5434534 , 0.75675674, 0.1234243]])\n",
    "corr = np.corrcoef(a)\n",
    "corr\n"
   ],
   "metadata": {
    "collapsed": false,
    "pycharm": {
     "name": "#%%\n"
    }
   }
  },
  {
   "cell_type": "code",
   "execution_count": 1144,
   "outputs": [
    {
     "data": {
      "text/plain": "array([32])"
     },
     "execution_count": 1144,
     "metadata": {},
     "output_type": "execute_result"
    }
   ],
   "source": [
    "\n",
    "#one hundred and third function is np.correlate\n",
    "\n",
    "corr = np.correlate([1,2,3],\n",
    "                    [4,5,6])\n",
    "corr\n"
   ],
   "metadata": {
    "collapsed": false,
    "pycharm": {
     "name": "#%%\n"
    }
   }
  },
  {
   "cell_type": "code",
   "execution_count": 1145,
   "outputs": [
    {
     "data": {
      "text/plain": "array([ 0.54030231, -0.41614684, -0.9899925 ])"
     },
     "execution_count": 1145,
     "metadata": {},
     "output_type": "execute_result"
    }
   ],
   "source": [
    "\n",
    "#one hundred and third function is np.cos\n",
    "\n",
    "a = np.array([1,2,3])\n",
    "np.cos(a)\n"
   ],
   "metadata": {
    "collapsed": false,
    "pycharm": {
     "name": "#%%\n"
    }
   }
  },
  {
   "cell_type": "code",
   "execution_count": 1146,
   "outputs": [
    {
     "data": {
      "text/plain": "array([ 1.54308063,  3.76219569, 10.067662  , 27.30823284, 74.20994852])"
     },
     "execution_count": 1146,
     "metadata": {},
     "output_type": "execute_result"
    }
   ],
   "source": [
    "\n",
    "#one hundred and fourth function is np.cosh\n",
    "\n",
    "np.cosh([1,2,3,4,5])\n"
   ],
   "metadata": {
    "collapsed": false,
    "pycharm": {
     "name": "#%%\n"
    }
   }
  },
  {
   "cell_type": "code",
   "execution_count": 1147,
   "outputs": [
    {
     "data": {
      "text/plain": "4"
     },
     "execution_count": 1147,
     "metadata": {},
     "output_type": "execute_result"
    }
   ],
   "source": [
    "\n",
    "#one hundred and fifth function is np.count_nonzero\n",
    "\n",
    "a = np.array([0,1,2,3,4,0])\n",
    "np.count_nonzero(a)\n"
   ],
   "metadata": {
    "collapsed": false,
    "pycharm": {
     "name": "#%%\n"
    }
   }
  },
  {
   "cell_type": "code",
   "execution_count": 1148,
   "outputs": [
    {
     "data": {
      "text/plain": "array([[1., 1.],\n       [1., 1.]])"
     },
     "execution_count": 1148,
     "metadata": {},
     "output_type": "execute_result"
    }
   ],
   "source": [
    "\n",
    "#one hundred and seventh function is np.cov\n",
    "\n",
    "a = np.array([[1,2,3],\n",
    "              [4,5,6]])\n",
    "np.cov(a)"
   ],
   "metadata": {
    "collapsed": false,
    "pycharm": {
     "name": "#%%\n"
    }
   }
  },
  {
   "cell_type": "code",
   "execution_count": 1149,
   "outputs": [
    {
     "data": {
      "text/plain": "array(-2)"
     },
     "execution_count": 1149,
     "metadata": {},
     "output_type": "execute_result"
    }
   ],
   "source": [
    "\n",
    "#one hundred and eighth function is np.cross\n",
    "\n",
    "np.cross([1, 2], [3, 4])\n"
   ],
   "metadata": {
    "collapsed": false,
    "pycharm": {
     "name": "#%%\n"
    }
   }
  },
  {
   "cell_type": "code",
   "execution_count": 1150,
   "outputs": [
    {
     "name": "stdout",
     "output_type": "stream",
     "text": [
      "complex64\n"
     ]
    },
    {
     "data": {
      "text/plain": "array([1.+0.j, 2.+0.j, 3.+0.j], dtype=complex64)"
     },
     "execution_count": 1150,
     "metadata": {},
     "output_type": "execute_result"
    }
   ],
   "source": [
    "\n",
    "#one hundred and ninth function is np.csingle\n",
    "\n",
    "a = np.array([1,2,3], dtype=np.csingle)\n",
    "print(a.dtype)\n",
    "a"
   ],
   "metadata": {
    "collapsed": false,
    "pycharm": {
     "name": "#%%\n"
    }
   }
  },
  {
   "cell_type": "code",
   "execution_count": 1151,
   "outputs": [
    {
     "data": {
      "text/plain": "array([1, 2, 3])"
     },
     "execution_count": 1151,
     "metadata": {},
     "output_type": "execute_result"
    }
   ],
   "source": [
    "\n",
    "#onme hundred and tenth function is np.ctypeslib\n",
    "\n",
    "np.ctypeslib.as_array([1,2,3])\n"
   ],
   "metadata": {
    "collapsed": false,
    "pycharm": {
     "name": "#%%\n"
    }
   }
  },
  {
   "cell_type": "code",
   "execution_count": 1152,
   "outputs": [
    {
     "name": "stdout",
     "output_type": "stream",
     "text": [
      "[[   1    2    6   24]\n",
      " [   5   30  210 1680]\n",
      " [   1    4    8   40]]\n",
      "------------------------------\n",
      "[[  1   2   3   4]\n",
      " [  5  12  21  32]\n",
      " [  5  48  42 160]]\n"
     ]
    }
   ],
   "source": [
    "\n",
    "#one hundred and eleventh function is np.cumprod\n",
    "\n",
    "a = np.array([[1,2,3,4],\n",
    "              [5,6,7,8],\n",
    "              [1,4,2,5]])\n",
    "print(np.cumprod(a, axis=1))\n",
    "print(\"-\"*30)\n",
    "print(np.cumprod(a, axis=0))\n"
   ],
   "metadata": {
    "collapsed": false,
    "pycharm": {
     "name": "#%%\n"
    }
   }
  },
  {
   "cell_type": "code",
   "execution_count": 1153,
   "outputs": [
    {
     "name": "stdout",
     "output_type": "stream",
     "text": [
      "[[   1    2    6   24]\n",
      " [   5   30  210 1680]\n",
      " [   1    4    8   40]]\n",
      "------------------------------\n",
      "[[  1   2   3   4]\n",
      " [  5  12  21  32]\n",
      " [  5  48  42 160]]\n"
     ]
    }
   ],
   "source": [
    "\n",
    "#one hundred and twelveth function is np.cumproduct\n",
    "a = np.array([[1,2,3,4],\n",
    "              [5,6,7,8],\n",
    "              [1,4,2,5]])\n",
    "print(np.cumprod(a, axis=1))\n",
    "print(\"-\"*30)\n",
    "print(np.cumproduct(a, axis=0))"
   ],
   "metadata": {
    "collapsed": false,
    "pycharm": {
     "name": "#%%\n"
    }
   }
  },
  {
   "cell_type": "code",
   "execution_count": 1154,
   "outputs": [
    {
     "name": "stdout",
     "output_type": "stream",
     "text": [
      "[[ 1  3  6]\n",
      " [ 4  9 15]\n",
      " [ 7 15 24]]\n",
      "------------------------------\n",
      "[[ 1  2  3]\n",
      " [ 5  7  9]\n",
      " [12 15 18]]\n"
     ]
    }
   ],
   "source": [
    "\n",
    "#one hundred and thirteenth function is np.cumsum\n",
    "\n",
    "a = np.array([[1,2,3],\n",
    "              [4,5,6],\n",
    "              [7,8,9]])\n",
    "\n",
    "print(np.cumsum(a, axis=1))\n",
    "print(\"-\"*30)\n",
    "print(np.cumsum(a, axis=0))"
   ],
   "metadata": {
    "collapsed": false,
    "pycharm": {
     "name": "#%%\n"
    }
   }
  },
  {
   "cell_type": "code",
   "execution_count": 1155,
   "outputs": [
    {
     "name": "stdout",
     "output_type": "stream",
     "text": [
      "datetime64[Y]\n",
      "['2022' '2023']\n"
     ]
    }
   ],
   "source": [
    "\n",
    "#one hundred and fourteenth function is np.datetime64\n",
    "\n",
    "arr = np.array(['2022', '2023'], dtype=np.datetime64)\n",
    "print(arr.dtype)\n",
    "print(arr)"
   ],
   "metadata": {
    "collapsed": false,
    "pycharm": {
     "name": "#%%\n"
    }
   }
  },
  {
   "cell_type": "code",
   "execution_count": 1156,
   "outputs": [
    {
     "name": "stdout",
     "output_type": "stream",
     "text": [
      "['2022-01-01' '2022-02-01']\n",
      "<U28\n"
     ]
    }
   ],
   "source": [
    "\n",
    "#one hundred and fifteenth function is np.datetime_as_string\n",
    "\n",
    "a = np.array(['2022-01-01', '2022-02-01'], dtype=np.datetime64)\n",
    "print(np.datetime_as_string(a))\n",
    "print(np.datetime_as_string(a).dtype)"
   ],
   "metadata": {
    "collapsed": false,
    "pycharm": {
     "name": "#%%\n"
    }
   }
  },
  {
   "cell_type": "code",
   "execution_count": 1157,
   "outputs": [
    {
     "data": {
      "text/plain": "('D', 1)"
     },
     "execution_count": 1157,
     "metadata": {},
     "output_type": "execute_result"
    }
   ],
   "source": [
    "\n",
    "#one hundred and sixteenth function is np.datetime_data\n",
    "a = np.datetime64('2022-01-01')\n",
    "np.datetime_data(a)"
   ],
   "metadata": {
    "collapsed": false,
    "pycharm": {
     "name": "#%%\n"
    }
   }
  },
  {
   "cell_type": "code",
   "execution_count": 1158,
   "outputs": [
    {
     "name": "stdout",
     "output_type": "stream",
     "text": [
      "3.141592653589793\n",
      "[1.74532925 1.76278254]\n"
     ]
    }
   ],
   "source": [
    "\n",
    "#one hundred and seventeenth function is np.deg2rad\n",
    "\n",
    "print(np.deg2rad(180))\n",
    "print(np.deg2rad([100, 101]))\n"
   ],
   "metadata": {
    "collapsed": false,
    "pycharm": {
     "name": "#%%\n"
    }
   }
  },
  {
   "cell_type": "code",
   "execution_count": 1159,
   "outputs": [
    {
     "name": "stdout",
     "output_type": "stream",
     "text": [
      "180.0\n",
      "179.9087476710785\n",
      "[5729.57795131 5786.87373082]\n"
     ]
    }
   ],
   "source": [
    "\n",
    "#one hundred and eighteenth function is np.degrees\n",
    "print(np.degrees(np.pi))\n",
    "print(np.degrees(3.14))\n",
    "print(np.degrees([100, 101]))\n"
   ],
   "metadata": {
    "collapsed": false,
    "pycharm": {
     "name": "#%%\n"
    }
   }
  },
  {
   "cell_type": "code",
   "execution_count": 1160,
   "outputs": [
    {
     "data": {
      "text/plain": "array([2, 3, 4, 5])"
     },
     "execution_count": 1160,
     "metadata": {},
     "output_type": "execute_result"
    }
   ],
   "source": [
    "\n",
    "#one hundred and nineteenth function is np.delete\n",
    "\n",
    "a = np.array([1,2,3,4,5,6])\n",
    "np.delete(a, [0,-1], None)\n"
   ],
   "metadata": {
    "collapsed": false,
    "pycharm": {
     "name": "#%%\n"
    }
   }
  },
  {
   "cell_type": "code",
   "execution_count": 1161,
   "outputs": [
    {
     "name": "stderr",
     "output_type": "stream",
     "text": [
      "C:\\Users\\Student\\AppData\\Local\\Temp\\ipykernel_1156\\194744607.py:3: DeprecationWarning: `np.float` is a deprecated alias for the builtin `float`. To silence this warning, use `float` by itself. Doing this will not modify any behavior and is safe. If you specifically wanted the numpy scalar type, use `np.float64` here.\n",
      "Deprecated in NumPy 1.20; for more details and guidance: https://numpy.org/devdocs/release/1.20.0-notes.html#deprecations\n",
      "  to_float = np.deprecate(np.float)\n",
      "C:\\Users\\Student\\AppData\\Local\\Temp\\ipykernel_1156\\194744607.py:4: DeprecationWarning: `float` is deprecated!\n",
      "  to_float(12)\n"
     ]
    },
    {
     "data": {
      "text/plain": "12.0"
     },
     "execution_count": 1161,
     "metadata": {},
     "output_type": "execute_result"
    }
   ],
   "source": [
    "\n",
    "#one hundred and twentieth function is np.deprecate\n",
    "\n",
    "to_float = np.deprecate(np.float)\n",
    "to_float(12)\n"
   ],
   "metadata": {
    "collapsed": false,
    "pycharm": {
     "name": "#%%\n"
    }
   }
  },
  {
   "cell_type": "code",
   "execution_count": 1162,
   "outputs": [],
   "source": [
    "\n",
    "#one hundred and twenty first function is np.deprecate_with_doc\n",
    "\n",
    "hello = np.deprecate_with_doc(\"hello\")"
   ],
   "metadata": {
    "collapsed": false,
    "pycharm": {
     "name": "#%%\n"
    }
   }
  },
  {
   "cell_type": "code",
   "execution_count": 1163,
   "outputs": [
    {
     "data": {
      "text/plain": "array([1, 5, 9])"
     },
     "execution_count": 1163,
     "metadata": {},
     "output_type": "execute_result"
    }
   ],
   "source": [
    "\n",
    "#one hundred and twenty second function is np.diag\n",
    "\n",
    "a = np.array([[1,2,3],\n",
    "              [4,5,6],\n",
    "              [7,8,9]])\n",
    "np.diag(a)"
   ],
   "metadata": {
    "collapsed": false,
    "pycharm": {
     "name": "#%%\n"
    }
   }
  },
  {
   "cell_type": "code",
   "execution_count": 1164,
   "outputs": [
    {
     "name": "stdout",
     "output_type": "stream",
     "text": [
      "[0 4 8]\n",
      "[100 101 102]\n"
     ]
    }
   ],
   "source": [
    "\n",
    "#one hundred and twenty third function is np.diag_indices\n",
    "\n",
    "di = np.diag_indices(3)\n",
    "arr = np.arange(9).reshape(3,3)\n",
    "print(arr.diagonal())\n",
    "arr[di] = [100, 101, 102]\n",
    "print(arr.diagonal())\n"
   ],
   "metadata": {
    "collapsed": false,
    "pycharm": {
     "name": "#%%\n"
    }
   }
  },
  {
   "cell_type": "code",
   "execution_count": 1165,
   "outputs": [
    {
     "data": {
      "text/plain": "(array([0, 1]), array([0, 1]))"
     },
     "execution_count": 1165,
     "metadata": {},
     "output_type": "execute_result"
    }
   ],
   "source": [
    "\n",
    "#one hundred and twenty fourth function is np.diag_indices_from\n",
    "a = np.array([[1,2],\n",
    "              [4,5]])\n",
    "np.diag_indices_from(a)\n"
   ],
   "metadata": {
    "collapsed": false,
    "pycharm": {
     "name": "#%%\n"
    }
   }
  },
  {
   "cell_type": "code",
   "execution_count": 1166,
   "outputs": [
    {
     "data": {
      "text/plain": "array([[1, 0, 0, 0],\n       [0, 2, 0, 0],\n       [0, 0, 3, 0],\n       [0, 0, 0, 4]])"
     },
     "execution_count": 1166,
     "metadata": {},
     "output_type": "execute_result"
    }
   ],
   "source": [
    "\n",
    "#one hundred and twenty fifth function is np.diagflat\n",
    "np.diagflat([[1,2], [3,4]])\n"
   ],
   "metadata": {
    "collapsed": false,
    "pycharm": {
     "name": "#%%\n"
    }
   }
  },
  {
   "cell_type": "code",
   "execution_count": 1167,
   "outputs": [
    {
     "name": "stdout",
     "output_type": "stream",
     "text": [
      "[[0 1 2]\n",
      " [3 4 5]\n",
      " [6 7 8]]\n"
     ]
    },
    {
     "data": {
      "text/plain": "array([0, 4, 8])"
     },
     "execution_count": 1167,
     "metadata": {},
     "output_type": "execute_result"
    }
   ],
   "source": [
    "\n",
    "#one hundred and twenty sixth function is np.diagonal\n",
    "\n",
    "a = np.arange(9).reshape((3,3))\n",
    "print(a)\n",
    "np.diagonal(a)\n"
   ],
   "metadata": {
    "collapsed": false,
    "pycharm": {
     "name": "#%%\n"
    }
   }
  },
  {
   "cell_type": "code",
   "execution_count": 1168,
   "outputs": [
    {
     "data": {
      "text/plain": "array([[ 9, -8],\n       [-3, -1]])"
     },
     "execution_count": 1168,
     "metadata": {},
     "output_type": "execute_result"
    }
   ],
   "source": [
    "\n",
    "#one hundred and twenty seventh function is np.diff\n",
    "a = np.array([[1,10,2],\n",
    "              [4,1,0]])\n",
    "np.diff(a)"
   ],
   "metadata": {
    "collapsed": false,
    "pycharm": {
     "name": "#%%\n"
    }
   }
  },
  {
   "cell_type": "code",
   "execution_count": 1169,
   "outputs": [
    {
     "name": "stdout",
     "output_type": "stream",
     "text": [
      "0.0 <= 0.2 < 1.0\n",
      "4.0 <= 6.4 < 10.0\n",
      "2.5 <= 3.0 < 4.0\n",
      "1.0 <= 1.6 < 2.5\n"
     ]
    }
   ],
   "source": [
    "x = np.array([0.2, 6.4, 3.0, 1.6])\n",
    "bins = np.array([0.0, 1.0, 2.5, 4.0, 10.0])\n",
    "inds = np.digitize(x, bins)\n",
    "for n in range(x.size):\n",
    "  print(bins[inds[n]-1], \"<=\", x[n], \"<\", bins[inds[n]])"
   ],
   "metadata": {
    "collapsed": false,
    "pycharm": {
     "name": "#%%\n"
    }
   }
  },
  {
   "cell_type": "code",
   "execution_count": 1170,
   "outputs": [
    {
     "data": {
      "text/plain": "'this is a message\\n'"
     },
     "execution_count": 1170,
     "metadata": {},
     "output_type": "execute_result"
    }
   ],
   "source": [
    "\n",
    "#one hundred and twenty ninth function is np.disp\n",
    "from io import StringIO\n",
    "buf = StringIO()\n",
    "np.disp(u'this is a message', device=buf)\n",
    "buf.getvalue()\n"
   ],
   "metadata": {
    "collapsed": false,
    "pycharm": {
     "name": "#%%\n"
    }
   }
  },
  {
   "cell_type": "code",
   "execution_count": 1171,
   "outputs": [
    {
     "data": {
      "text/plain": "array([0.23636364, 0.03225806, 0.4025974 , 0.87058824])"
     },
     "execution_count": 1171,
     "metadata": {},
     "output_type": "execute_result"
    }
   ],
   "source": [
    "\n",
    "#one hundred and thirtieth function is np.divide\n",
    "a = np.array([13,2,31,74])\n",
    "b = np.array([55,62,77,85])\n",
    "np.divide(a, b)\n"
   ],
   "metadata": {
    "collapsed": false,
    "pycharm": {
     "name": "#%%\n"
    }
   }
  },
  {
   "cell_type": "code",
   "execution_count": 1172,
   "outputs": [
    {
     "name": "stdout",
     "output_type": "stream",
     "text": [
      "(array([6, 1, 1], dtype=int32), array([0, 0, 1], dtype=int32))\n",
      "(array([21,  2,  3], dtype=int32), array([0, 1, 0], dtype=int32))\n"
     ]
    }
   ],
   "source": [
    "\n",
    "#one hundred and thirty first function is np.divmod\n",
    "x = np.array([12,2,3])\n",
    "y = np.array([42,5,6])\n",
    "print(np.divmod(x, 2))\n",
    "print(np.divmod(y, 2))"
   ],
   "metadata": {
    "collapsed": false,
    "pycharm": {
     "name": "#%%\n"
    }
   }
  },
  {
   "cell_type": "code",
   "execution_count": 1173,
   "outputs": [
    {
     "data": {
      "text/plain": "array([11, 22, 33])"
     },
     "execution_count": 1173,
     "metadata": {},
     "output_type": "execute_result"
    }
   ],
   "source": [
    "\n",
    "#one hundred and thirty second function is np.dot\n",
    "\n",
    "np.dot([1,2,3], 11)\n"
   ],
   "metadata": {
    "collapsed": false,
    "pycharm": {
     "name": "#%%\n"
    }
   }
  },
  {
   "cell_type": "code",
   "execution_count": 1174,
   "outputs": [
    {
     "data": {
      "text/plain": "123.0"
     },
     "execution_count": 1174,
     "metadata": {},
     "output_type": "execute_result"
    }
   ],
   "source": [
    "\n",
    "#one hundred and thirty third function is np.double\n",
    "np.double(123)\n"
   ],
   "metadata": {
    "collapsed": false,
    "pycharm": {
     "name": "#%%\n"
    }
   }
  },
  {
   "cell_type": "code",
   "execution_count": 1175,
   "outputs": [
    {
     "name": "stdout",
     "output_type": "stream",
     "text": [
      "[[[ 0  1  2]\n",
      "  [ 3  4  5]\n",
      "  [ 6  7  8]]\n",
      "\n",
      " [[ 9 10 11]\n",
      "  [12 13 14]\n",
      "  [15 16 17]]\n",
      "\n",
      " [[18 19 20]\n",
      "  [21 22 23]\n",
      "  [24 25 26]]]\n"
     ]
    },
    {
     "data": {
      "text/plain": "[array([[[ 0,  1,  2],\n         [ 3,  4,  5],\n         [ 6,  7,  8]],\n \n        [[ 9, 10, 11],\n         [12, 13, 14],\n         [15, 16, 17]],\n \n        [[18, 19, 20],\n         [21, 22, 23],\n         [24, 25, 26]]])]"
     },
     "execution_count": 1175,
     "metadata": {},
     "output_type": "execute_result"
    }
   ],
   "source": [
    "\n",
    "#one hundred and thirty fourth function is np.dsplit\n",
    "a = np.arange(27).reshape(3,3,3)\n",
    "print(a)\n",
    "np.dsplit(a, 1)\n"
   ],
   "metadata": {
    "collapsed": false,
    "pycharm": {
     "name": "#%%\n"
    }
   }
  },
  {
   "cell_type": "code",
   "execution_count": 1176,
   "outputs": [
    {
     "data": {
      "text/plain": "array([[[1, 4],\n        [2, 5],\n        [3, 6]]])"
     },
     "execution_count": 1176,
     "metadata": {},
     "output_type": "execute_result"
    }
   ],
   "source": [
    "\n",
    "#one hundred and thirty fifth function is np.dstack\n",
    "a = np.array([1,2,3])\n",
    "b = np.array([4,5,6])\n",
    "np.dstack((a, b))"
   ],
   "metadata": {
    "collapsed": false,
    "pycharm": {
     "name": "#%%\n"
    }
   }
  },
  {
   "cell_type": "code",
   "execution_count": 1177,
   "outputs": [
    {
     "data": {
      "text/plain": "dtype('float64')"
     },
     "execution_count": 1177,
     "metadata": {},
     "output_type": "execute_result"
    }
   ],
   "source": [
    "\n",
    "#one hundred and thirty sixth function is np.dtype\n",
    "\n",
    "a = np.array([1.1, 1.0, 2.0])\n",
    "a.dtype"
   ],
   "metadata": {
    "collapsed": false,
    "pycharm": {
     "name": "#%%\n"
    }
   }
  },
  {
   "cell_type": "code",
   "execution_count": 1178,
   "outputs": [
    {
     "data": {
      "text/plain": "2.718281828459045"
     },
     "execution_count": 1178,
     "metadata": {},
     "output_type": "execute_result"
    }
   ],
   "source": [
    "\n",
    "#one hundred and thirty seventh function is np.e\n",
    "np.e\n"
   ],
   "metadata": {
    "collapsed": false,
    "pycharm": {
     "name": "#%%\n"
    }
   }
  },
  {
   "cell_type": "code",
   "execution_count": 1179,
   "outputs": [
    {
     "data": {
      "text/plain": "array([ 3, -3,  5, -3,  4])"
     },
     "execution_count": 1179,
     "metadata": {},
     "output_type": "execute_result"
    }
   ],
   "source": [
    "\n",
    "#one hundred and thirty eighth function is np.ediff1d\n",
    "np.ediff1d(np.array([1,4,1,6,3,7]))\n"
   ],
   "metadata": {
    "collapsed": false,
    "pycharm": {
     "name": "#%%\n"
    }
   }
  },
  {
   "cell_type": "code",
   "execution_count": 1180,
   "outputs": [
    {
     "name": "stdout",
     "output_type": "stream",
     "text": [
      "[[0 1]\n",
      " [2 3]\n",
      " [4 5]\n",
      " [6 7]\n",
      " [8 9]]\n"
     ]
    },
    {
     "data": {
      "text/plain": "array([[0, 2, 4, 6, 8],\n       [1, 3, 5, 7, 9]])"
     },
     "execution_count": 1180,
     "metadata": {},
     "output_type": "execute_result"
    }
   ],
   "source": [
    "\n",
    "#one hundred and thirty ninth function is np.einsum\n",
    "a = np.arange(10).reshape(5,2)\n",
    "print(a)\n",
    "np.einsum(a, [1,0])\n"
   ],
   "metadata": {
    "collapsed": false,
    "pycharm": {
     "name": "#%%\n"
    }
   }
  },
  {
   "cell_type": "code",
   "execution_count": 1181,
   "outputs": [
    {
     "data": {
      "text/plain": "(['einsum_path', (0, 2), (0, 3), (0, 2), (0, 1)],\n '  Complete contraction:  ea,fb,abcd,gc,hd->efgh\\n         Naive scaling:  8\\n     Optimized scaling:  5\\n      Naive FLOP count:  5.000e+08\\n  Optimized FLOP count:  8.000e+05\\n   Theoretical speedup:  624.999\\n  Largest intermediate:  1.000e+04 elements\\n--------------------------------------------------------------------------\\nscaling                  current                                remaining\\n--------------------------------------------------------------------------\\n   5               abcd,ea->bcde                      fb,gc,hd,bcde->efgh\\n   5               bcde,fb->cdef                         gc,hd,cdef->efgh\\n   5               cdef,gc->defg                            hd,defg->efgh\\n   5               defg,hd->efgh                               efgh->efgh')"
     },
     "execution_count": 1181,
     "metadata": {},
     "output_type": "execute_result"
    }
   ],
   "source": [
    "\n",
    "#one hundred and fourtieth function is np.einsum_path\n",
    "I = np.random.rand(10, 10, 10, 10)\n",
    "C = np.random.rand(10, 10)\n",
    "np.einsum_path('ea,fb,abcd,gc,hd->efgh', C, C, I, C, C,\n",
    "                           optimize='greedy')\n"
   ],
   "metadata": {
    "collapsed": false,
    "pycharm": {
     "name": "#%%\n"
    }
   }
  },
  {
   "cell_type": "code",
   "execution_count": 1182,
   "outputs": [
    {
     "data": {
      "text/plain": "2.772588722239781"
     },
     "execution_count": 1182,
     "metadata": {},
     "output_type": "execute_result"
    }
   ],
   "source": [
    "\n",
    "#one hundred and fourty first function is np.emath\n",
    "np.emath.sqrt(16)\n",
    "np.emath.log(16)\n"
   ],
   "metadata": {
    "collapsed": false,
    "pycharm": {
     "name": "#%%\n"
    }
   }
  },
  {
   "cell_type": "code",
   "execution_count": 1183,
   "outputs": [
    {
     "data": {
      "text/plain": "array([[          0,           0, -2098720640],\n       [        668, -2098718144,         668],\n       [-2098718080,         668,           0]])"
     },
     "execution_count": 1183,
     "metadata": {},
     "output_type": "execute_result"
    }
   ],
   "source": [
    "\n",
    "#one hundred and fourty second function is np.empty\n",
    "\n",
    "np.empty([3,3], dtype=int)\n"
   ],
   "metadata": {
    "collapsed": false,
    "pycharm": {
     "name": "#%%\n"
    }
   }
  },
  {
   "cell_type": "code",
   "execution_count": 1184,
   "outputs": [
    {
     "data": {
      "text/plain": "array([   0,    0, 2812])"
     },
     "execution_count": 1184,
     "metadata": {},
     "output_type": "execute_result"
    }
   ],
   "source": [
    "\n",
    "#one hundred and fourty third function is np.empty_like\n",
    "np.empty_like([1,2,3])\n"
   ],
   "metadata": {
    "collapsed": false,
    "pycharm": {
     "name": "#%%\n"
    }
   }
  },
  {
   "cell_type": "code",
   "execution_count": 1185,
   "outputs": [
    {
     "data": {
      "text/plain": "array([ True,  True,  True,  True])"
     },
     "execution_count": 1185,
     "metadata": {},
     "output_type": "execute_result"
    }
   ],
   "source": [
    "\n",
    "#one hundred and fourty fourth function is np.equal\n",
    "\n",
    "np.equal(np.array([0,1,2,3]), np.arange(4))\n"
   ],
   "metadata": {
    "collapsed": false,
    "pycharm": {
     "name": "#%%\n"
    }
   }
  },
  {
   "cell_type": "code",
   "execution_count": 1186,
   "outputs": [
    {
     "name": "stdout",
     "output_type": "stream",
     "text": [
      "first: nan\n",
      "second: "
     ]
    },
    {
     "ename": "FloatingPointError",
     "evalue": "invalid value encountered in sqrt",
     "output_type": "error",
     "traceback": [
      "\u001B[1;31m---------------------------------------------------------------------------\u001B[0m",
      "\u001B[1;31mFloatingPointError\u001B[0m                        Traceback (most recent call last)",
      "Cell \u001B[1;32mIn [1186], line 8\u001B[0m\n\u001B[0;32m      6\u001B[0m \u001B[38;5;28mprint\u001B[39m(\u001B[38;5;124m\"\u001B[39m\u001B[38;5;124msecond: \u001B[39m\u001B[38;5;124m\"\u001B[39m, end\u001B[38;5;241m=\u001B[39m\u001B[38;5;124m'\u001B[39m\u001B[38;5;124m'\u001B[39m)\n\u001B[0;32m      7\u001B[0m \u001B[38;5;28;01mwith\u001B[39;00m np\u001B[38;5;241m.\u001B[39merrstate(invalid\u001B[38;5;241m=\u001B[39m\u001B[38;5;124m'\u001B[39m\u001B[38;5;124mraise\u001B[39m\u001B[38;5;124m'\u001B[39m):\n\u001B[1;32m----> 8\u001B[0m     \u001B[38;5;28mprint\u001B[39m(\u001B[43mnp\u001B[49m\u001B[38;5;241;43m.\u001B[39;49m\u001B[43msqrt\u001B[49m\u001B[43m(\u001B[49m\u001B[38;5;241;43m-\u001B[39;49m\u001B[38;5;241;43m16\u001B[39;49m\u001B[43m)\u001B[49m)\n",
      "\u001B[1;31mFloatingPointError\u001B[0m: invalid value encountered in sqrt"
     ]
    }
   ],
   "source": [
    "\n",
    "#one hundred and fourty fifth function is np.errstate\n",
    "print(\"first: \", end='')\n",
    "with np.errstate(all='ignore'):\n",
    "    print(np.sqrt(-16))\n",
    "\n",
    "print(\"second: \", end='')\n",
    "with np.errstate(invalid='raise'):\n",
    "    print(np.sqrt(-16))"
   ],
   "metadata": {
    "collapsed": false,
    "pycharm": {
     "name": "#%%\n"
    }
   }
  },
  {
   "cell_type": "code",
   "execution_count": 1187,
   "outputs": [
    {
     "data": {
      "text/plain": "0.5772156649015329"
     },
     "execution_count": 1187,
     "metadata": {},
     "output_type": "execute_result"
    }
   ],
   "source": [
    "\n",
    "#one hundred and fourty sizth function is np.euler_gamma\n",
    "\n",
    "np.euler_gamma\n"
   ],
   "metadata": {
    "collapsed": false,
    "pycharm": {
     "name": "#%%\n"
    }
   }
  },
  {
   "cell_type": "code",
   "execution_count": 1188,
   "outputs": [
    {
     "data": {
      "text/plain": "array([ 2.71828183,  7.3890561 , 20.08553692])"
     },
     "execution_count": 1188,
     "metadata": {},
     "output_type": "execute_result"
    }
   ],
   "source": [
    "\n",
    "#one hundred and fourty seventh function is np.exp\n",
    "np.exp([1,2,3])\n"
   ],
   "metadata": {
    "collapsed": false,
    "pycharm": {
     "name": "#%%\n"
    }
   }
  },
  {
   "cell_type": "code",
   "execution_count": 1189,
   "outputs": [
    {
     "data": {
      "text/plain": "array([2., 4., 8.])"
     },
     "execution_count": 1189,
     "metadata": {},
     "output_type": "execute_result"
    }
   ],
   "source": [
    "\n",
    "#one hundred and fourty eighth function is np.exp2\n",
    "\n",
    "np.exp2([1,2,3])\n"
   ],
   "metadata": {
    "collapsed": false,
    "pycharm": {
     "name": "#%%\n"
    }
   }
  },
  {
   "cell_type": "code",
   "execution_count": 1190,
   "outputs": [
    {
     "name": "stdout",
     "output_type": "stream",
     "text": [
      "(3,)\n"
     ]
    },
    {
     "data": {
      "text/plain": "(1, 3)"
     },
     "execution_count": 1190,
     "metadata": {},
     "output_type": "execute_result"
    }
   ],
   "source": [
    "\n",
    "#one hundred and fourty ninth function is np.expand_dims\n",
    "\n",
    "a = np.array([1,2,3])\n",
    "print(a.shape)\n",
    "np.expand_dims(a, axis=0).shape\n"
   ],
   "metadata": {
    "collapsed": false,
    "pycharm": {
     "name": "#%%\n"
    }
   }
  },
  {
   "cell_type": "code",
   "execution_count": 1191,
   "outputs": [
    {
     "data": {
      "text/plain": "array([19.08553692,  6.3890561 ,  1.71828183])"
     },
     "execution_count": 1191,
     "metadata": {},
     "output_type": "execute_result"
    }
   ],
   "source": [
    "\n",
    "#one hundred and fiftieth function is np.expm1\n",
    "\n",
    "np.expm1([3,2,1])\n"
   ],
   "metadata": {
    "collapsed": false,
    "pycharm": {
     "name": "#%%\n"
    }
   }
  },
  {
   "cell_type": "code",
   "execution_count": 1192,
   "outputs": [
    {
     "data": {
      "text/plain": "array([1, 2, 3])"
     },
     "execution_count": 1192,
     "metadata": {},
     "output_type": "execute_result"
    }
   ],
   "source": [
    "\n",
    "#one hundred and fifty first function is np.extract\n",
    "a = np.array([1,0,2,0,3,0])\n",
    "np.extract(~(a==False), a)\n"
   ],
   "metadata": {
    "collapsed": false,
    "pycharm": {
     "name": "#%%\n"
    }
   }
  },
  {
   "cell_type": "code",
   "execution_count": 1193,
   "outputs": [
    {
     "data": {
      "text/plain": "array([[1, 0, 0],\n       [0, 1, 0],\n       [0, 0, 1]], dtype=int64)"
     },
     "execution_count": 1193,
     "metadata": {},
     "output_type": "execute_result"
    }
   ],
   "source": [
    "\n",
    "#one hundred and fifty second function is np.eye\n",
    "\n",
    "np.eye(3, dtype=np.int64)\n"
   ],
   "metadata": {
    "collapsed": false,
    "pycharm": {
     "name": "#%%\n"
    }
   }
  },
  {
   "cell_type": "code",
   "execution_count": 1194,
   "outputs": [
    {
     "data": {
      "text/plain": "array([ 1. , 13. , 12. ,  0.1])"
     },
     "execution_count": 1194,
     "metadata": {},
     "output_type": "execute_result"
    }
   ],
   "source": [
    "\n",
    "#one hundred and fifty third function is np.fabs\n",
    "\n",
    "np.fabs(np.array([-1,13,-12,-0.1]))\n"
   ],
   "metadata": {
    "collapsed": false,
    "pycharm": {
     "name": "#%%\n"
    }
   }
  },
  {
   "cell_type": "code",
   "execution_count": 1195,
   "outputs": [
    {
     "data": {
      "text/plain": "12"
     },
     "execution_count": 1195,
     "metadata": {},
     "output_type": "execute_result"
    }
   ],
   "source": [
    "\n",
    "#one hundred and fifty fourth function is np.fastCopyAndTranspose\n",
    "np.fastCopyAndTranspose(12)\n"
   ],
   "metadata": {
    "collapsed": false,
    "pycharm": {
     "name": "#%%\n"
    }
   }
  },
  {
   "cell_type": "code",
   "execution_count": 1196,
   "outputs": [
    {
     "data": {
      "text/plain": "array([ 3.+0.j, -1.+0.j])"
     },
     "execution_count": 1196,
     "metadata": {},
     "output_type": "execute_result"
    }
   ],
   "source": [
    "\n",
    "#one hundred and fifty fifth function is np.fft\n",
    "\n",
    "np.fft.fft((1,2))\n"
   ],
   "metadata": {
    "collapsed": false,
    "pycharm": {
     "name": "#%%\n"
    }
   }
  },
  {
   "cell_type": "code",
   "execution_count": 1197,
   "outputs": [
    {
     "data": {
      "text/plain": "array([[10.,  0.,  0.],\n       [ 0., 10.,  0.],\n       [ 0.,  0., 10.]])"
     },
     "execution_count": 1197,
     "metadata": {},
     "output_type": "execute_result"
    }
   ],
   "source": [
    "\n",
    "#one hundred and fifty sixth function is np.fill_diagonal\n",
    "\n",
    "a = np.zeros((3,3))\n",
    "np.fill_diagonal(a, 10)\n",
    "a"
   ],
   "metadata": {
    "collapsed": false,
    "pycharm": {
     "name": "#%%\n"
    }
   }
  },
  {
   "cell_type": "code",
   "execution_count": 1198,
   "outputs": [
    {
     "name": "stderr",
     "output_type": "stream",
     "text": [
      "C:\\Users\\Student\\AppData\\Local\\Temp\\ipykernel_1156\\2720597086.py:3: DeprecationWarning: `np.complex` is a deprecated alias for the builtin `complex`. To silence this warning, use `complex` by itself. Doing this will not modify any behavior and is safe. If you specifically wanted the numpy scalar type, use `np.complex128` here.\n",
      "Deprecated in NumPy 1.20; for more details and guidance: https://numpy.org/devdocs/release/1.20.0-notes.html#deprecations\n",
      "  np.find_common_type([np.int16, np.int32, np.int64], [np.complex])\n"
     ]
    },
    {
     "data": {
      "text/plain": "dtype('complex128')"
     },
     "execution_count": 1198,
     "metadata": {},
     "output_type": "execute_result"
    }
   ],
   "source": [
    "\n",
    "#one hundred and fifty seventh function is np.find_common_type\n",
    "\n",
    "np.find_common_type([np.int16, np.int32, np.int64], [np.complex])\n"
   ],
   "metadata": {
    "collapsed": false,
    "pycharm": {
     "name": "#%%\n"
    }
   }
  },
  {
   "cell_type": "code",
   "execution_count": 1199,
   "outputs": [
    {
     "data": {
      "text/plain": "finfo(resolution=1e-06, min=-3.4028235e+38, max=3.4028235e+38, dtype=float32)"
     },
     "execution_count": 1199,
     "metadata": {},
     "output_type": "execute_result"
    }
   ],
   "source": [
    "\n",
    "#one hundred and fifty eighth function is np.finfo\n",
    "\n",
    "np.finfo(np.float32)\n"
   ],
   "metadata": {
    "collapsed": false,
    "pycharm": {
     "name": "#%%\n"
    }
   }
  },
  {
   "cell_type": "code",
   "execution_count": 1200,
   "outputs": [
    {
     "data": {
      "text/plain": "array([-0.,  1.,  1.,  3.])"
     },
     "execution_count": 1200,
     "metadata": {},
     "output_type": "execute_result"
    }
   ],
   "source": [
    "\n",
    "#one hundred and fifty ninth function is np.fix\n",
    "\n",
    "a = np.array([-0.1, 1.2, 1.9, 3])\n",
    "np.fix(a)\n"
   ],
   "metadata": {
    "collapsed": false,
    "pycharm": {
     "name": "#%%\n"
    }
   }
  },
  {
   "cell_type": "code",
   "execution_count": 1201,
   "outputs": [
    {
     "name": "stdout",
     "output_type": "stream",
     "text": [
      "6\n",
      "5\n",
      "4\n",
      "3\n",
      "2\n",
      "1\n"
     ]
    }
   ],
   "source": [
    "\n",
    "#one hundred and sixtieth function is np.flatiter\n",
    "\n",
    "a = np.array([6, 5, 4, 3, 2, 1])\n",
    "gfg = a.flat\n",
    "\n",
    "for items in gfg:\n",
    "    print(items)\n"
   ],
   "metadata": {
    "collapsed": false,
    "pycharm": {
     "name": "#%%\n"
    }
   }
  },
  {
   "cell_type": "code",
   "execution_count": 1202,
   "outputs": [
    {
     "data": {
      "text/plain": "array([0, 2, 3], dtype=int64)"
     },
     "execution_count": 1202,
     "metadata": {},
     "output_type": "execute_result"
    }
   ],
   "source": [
    "\n",
    "#one hundred and sixty first function is np.flatnonzero\n",
    "\n",
    "a = np.array([-1,0,1,2])\n",
    "np.flatnonzero(a)\n"
   ],
   "metadata": {
    "collapsed": false,
    "pycharm": {
     "name": "#%%\n"
    }
   }
  },
  {
   "cell_type": "code",
   "execution_count": 1203,
   "outputs": [
    {
     "data": {
      "text/plain": "[numpy.flexible, numpy.generic, object]"
     },
     "execution_count": 1203,
     "metadata": {},
     "output_type": "execute_result"
    }
   ],
   "source": [
    "\n",
    "#one hundred and sixty second function is np.flexible\n",
    "\n",
    "np.flexible.mro()\n"
   ],
   "metadata": {
    "collapsed": false,
    "pycharm": {
     "name": "#%%\n"
    }
   }
  },
  {
   "cell_type": "code",
   "execution_count": 1204,
   "outputs": [
    {
     "data": {
      "text/plain": "array([[3, 2, 1],\n       [6, 5, 4]])"
     },
     "execution_count": 1204,
     "metadata": {},
     "output_type": "execute_result"
    }
   ],
   "source": [
    "\n",
    "#one hundred and sixty third function is np.flip\n",
    "\n",
    "a = np.array([[1,2,3],\n",
    "              [4,5,6]])\n",
    "np.flip(a, axis=1)\n"
   ],
   "metadata": {
    "collapsed": false,
    "pycharm": {
     "name": "#%%\n"
    }
   }
  },
  {
   "cell_type": "code",
   "execution_count": 1205,
   "outputs": [
    {
     "data": {
      "text/plain": "array([[3, 2, 1]])"
     },
     "execution_count": 1205,
     "metadata": {},
     "output_type": "execute_result"
    }
   ],
   "source": [
    "\n",
    "#one hundred and sixty fourth function is np.fliplr\n",
    "\n",
    "a = np.array([[1,2,3]])\n",
    "np.fliplr(a)\n"
   ],
   "metadata": {
    "collapsed": false,
    "pycharm": {
     "name": "#%%\n"
    }
   }
  },
  {
   "cell_type": "code",
   "execution_count": 1206,
   "outputs": [
    {
     "data": {
      "text/plain": "array([[3, 2, 1]])"
     },
     "execution_count": 1206,
     "metadata": {},
     "output_type": "execute_result"
    }
   ],
   "source": [
    "\n",
    "#one hundred and sixty fifth function is np.flipud\n",
    "\n",
    "a = np.array([[1,2,3]])\n",
    "np.fliplr(a)\n"
   ],
   "metadata": {
    "collapsed": false,
    "pycharm": {
     "name": "#%%\n"
    }
   }
  },
  {
   "cell_type": "code",
   "execution_count": 1207,
   "outputs": [
    {
     "name": "stdout",
     "output_type": "stream",
     "text": [
      "321.0\n",
      "float16\n"
     ]
    }
   ],
   "source": [
    "\n",
    "#one hundred and sixty sixth function is np.float16\n",
    "\n",
    "\n",
    "print(np.float16(321))\n",
    "print(np.float16(321).dtype)\n"
   ],
   "metadata": {
    "collapsed": false,
    "pycharm": {
     "name": "#%%\n"
    }
   }
  },
  {
   "cell_type": "code",
   "execution_count": 1208,
   "outputs": [
    {
     "name": "stdout",
     "output_type": "stream",
     "text": [
      "321.0\n",
      "float32\n"
     ]
    }
   ],
   "source": [
    "\n",
    "#one hundred and sixty seventh function is np.float32\n",
    "\n",
    "print(np.float32(321))\n",
    "print(np.float32(321).dtype)\n"
   ],
   "metadata": {
    "collapsed": false,
    "pycharm": {
     "name": "#%%\n"
    }
   }
  },
  {
   "cell_type": "code",
   "execution_count": 1209,
   "outputs": [
    {
     "name": "stdout",
     "output_type": "stream",
     "text": [
      "321.0\n",
      "float64\n"
     ]
    }
   ],
   "source": [
    "\n",
    "#one hundred and sixty eighth function is np.float64\n",
    "\n",
    "print(np.float64(321))\n",
    "print(np.float64(321).dtype)\n"
   ],
   "metadata": {
    "collapsed": false,
    "pycharm": {
     "name": "#%%\n"
    }
   }
  },
  {
   "cell_type": "code",
   "execution_count": 1210,
   "outputs": [
    {
     "name": "stdout",
     "output_type": "stream",
     "text": [
      "321.0\n",
      "float64\n"
     ]
    }
   ],
   "source": [
    "\n",
    "#one hundred and sixty ninth function is np.float_\n",
    "\n",
    "print(np.float_(321))\n",
    "print(np.float_(321).dtype)\n"
   ],
   "metadata": {
    "collapsed": false,
    "pycharm": {
     "name": "#%%\n"
    }
   }
  },
  {
   "cell_type": "code",
   "execution_count": 1211,
   "outputs": [
    {
     "data": {
      "text/plain": "array([ 1.,  8., 27.])"
     },
     "execution_count": 1211,
     "metadata": {},
     "output_type": "execute_result"
    }
   ],
   "source": [
    "\n",
    "#one hundred and seventy function is np.float_power\n",
    "\n",
    "np.float_power([1,2,3], 3)\n"
   ],
   "metadata": {
    "collapsed": false,
    "pycharm": {
     "name": "#%%\n"
    }
   }
  },
  {
   "cell_type": "code",
   "execution_count": 1212,
   "outputs": [
    {
     "data": {
      "text/plain": "numpy.floating"
     },
     "execution_count": 1212,
     "metadata": {},
     "output_type": "execute_result"
    }
   ],
   "source": [
    "\n",
    "#one hundred and seventy first function is np.floating\n",
    "np.floating\n"
   ],
   "metadata": {
    "collapsed": false,
    "pycharm": {
     "name": "#%%\n"
    }
   }
  },
  {
   "cell_type": "code",
   "execution_count": 1213,
   "outputs": [
    {
     "data": {
      "text/plain": "array([-2., -3.,  1.,  1.,  3.])"
     },
     "execution_count": 1213,
     "metadata": {},
     "output_type": "execute_result"
    }
   ],
   "source": [
    "\n",
    "#one hundred and seventy second function is np.floor\n",
    "arr = np.array([-1.2, -2.1, 1.9, 1.3, 3.0])\n",
    "np.floor(arr)\n"
   ],
   "metadata": {
    "collapsed": false,
    "pycharm": {
     "name": "#%%\n"
    }
   }
  },
  {
   "cell_type": "code",
   "execution_count": 1214,
   "outputs": [
    {
     "data": {
      "text/plain": "4"
     },
     "execution_count": 1214,
     "metadata": {},
     "output_type": "execute_result"
    }
   ],
   "source": [
    "\n",
    "#one hundred and seventy third function is np.floor_divide\n",
    "\n",
    "np.floor_divide(12, 3)\n"
   ],
   "metadata": {
    "collapsed": false,
    "pycharm": {
     "name": "#%%\n"
    }
   }
  },
  {
   "cell_type": "code",
   "execution_count": 1215,
   "outputs": [
    {
     "data": {
      "text/plain": "array([4, 2, 7])"
     },
     "execution_count": 1215,
     "metadata": {},
     "output_type": "execute_result"
    }
   ],
   "source": [
    "\n",
    "#one hundred and seventy fourth function is np.fmax\n",
    "\n",
    "np.fmax([1,2,7],\n",
    "        [4,1,6])\n",
    "\n"
   ],
   "metadata": {
    "collapsed": false,
    "pycharm": {
     "name": "#%%\n"
    }
   }
  },
  {
   "cell_type": "code",
   "execution_count": 1216,
   "outputs": [
    {
     "data": {
      "text/plain": "array([1, 1, 6])"
     },
     "execution_count": 1216,
     "metadata": {},
     "output_type": "execute_result"
    }
   ],
   "source": [
    "\n",
    "#one hundred and seventy fifth function is np.fmin\n",
    "\n",
    "np.fmin([1,2,7],\n",
    "        [4,1,6])\n"
   ],
   "metadata": {
    "collapsed": false,
    "pycharm": {
     "name": "#%%\n"
    }
   }
  },
  {
   "cell_type": "code",
   "execution_count": 1217,
   "outputs": [
    {
     "data": {
      "text/plain": "array([0.1, 0.3, 1.8, 0. ])"
     },
     "execution_count": 1217,
     "metadata": {},
     "output_type": "execute_result"
    }
   ],
   "source": [
    "\n",
    "#one hundred and seventy sixth function is np.fmod\n",
    "\n",
    "np.fmod([2.1,4.3,7.8,10], 2)\n"
   ],
   "metadata": {
    "collapsed": false,
    "pycharm": {
     "name": "#%%\n"
    }
   }
  },
  {
   "cell_type": "code",
   "execution_count": 1218,
   "outputs": [
    {
     "data": {
      "text/plain": "'3.14'"
     },
     "execution_count": 1218,
     "metadata": {},
     "output_type": "execute_result"
    }
   ],
   "source": [
    "\n",
    "#one hundred and seventy seventh function is np.format_float_positional\n",
    "\n",
    "np.format_float_positional(np.float16(np.pi))\n",
    "\n"
   ],
   "metadata": {
    "collapsed": false,
    "pycharm": {
     "name": "#%%\n"
    }
   }
  },
  {
   "cell_type": "code",
   "execution_count": 1219,
   "outputs": [
    {
     "data": {
      "text/plain": "'3.141592653589793e+00'"
     },
     "execution_count": 1219,
     "metadata": {},
     "output_type": "execute_result"
    }
   ],
   "source": [
    "\n",
    "#one hundred and seventy eighth function is np.format_float_scientific\n",
    "\n",
    "np.format_float_scientific(np.float64(np.pi))\n",
    "\n"
   ],
   "metadata": {
    "collapsed": false,
    "pycharm": {
     "name": "#%%\n"
    }
   }
  },
  {
   "cell_type": "code",
   "execution_count": 1220,
   "outputs": [
    {
     "data": {
      "text/plain": "dtype([(('T1', 'col1'), '<f8'), (('T2', 'col2'), '<i4'), (('T3', 'col3'), 'S5')])"
     },
     "execution_count": 1220,
     "metadata": {},
     "output_type": "execute_result"
    }
   ],
   "source": [
    "\n",
    "#one hundred and seventy ninth function is np.format_parser\n",
    "\n",
    "np.format_parser(['<f8', '<i4', '<a5'],\n",
    "                 ['col1', 'col2', 'col3'],\n",
    "                 ['T1', 'T2', 'T3']).dtype\n"
   ],
   "metadata": {
    "collapsed": false,
    "pycharm": {
     "name": "#%%\n"
    }
   }
  },
  {
   "cell_type": "code",
   "execution_count": 1221,
   "outputs": [
    {
     "name": "stdout",
     "output_type": "stream",
     "text": [
      "[1 2 2 3]\n"
     ]
    },
    {
     "data": {
      "text/plain": "array([1., 2., 3., 4.])"
     },
     "execution_count": 1221,
     "metadata": {},
     "output_type": "execute_result"
    }
   ],
   "source": [
    "\n",
    "#one hundred and eightieth function is np.frexp\n",
    "a = np.array([1,2,3,4])\n",
    "x, y = np.frexp(a)\n",
    "print(y)\n",
    "\n",
    "x * 2**y\n"
   ],
   "metadata": {
    "collapsed": false,
    "pycharm": {
     "name": "#%%\n"
    }
   }
  },
  {
   "cell_type": "code",
   "execution_count": 1222,
   "outputs": [
    {
     "ename": "ModuleNotFoundError",
     "evalue": "No module named 'torch'",
     "output_type": "error",
     "traceback": [
      "\u001B[1;31m---------------------------------------------------------------------------\u001B[0m",
      "\u001B[1;31mModuleNotFoundError\u001B[0m                       Traceback (most recent call last)",
      "Cell \u001B[1;32mIn [1222], line 3\u001B[0m\n\u001B[0;32m      1\u001B[0m \u001B[38;5;66;03m#one hundred and eighty first function is np.from_dlpack\u001B[39;00m\n\u001B[1;32m----> 3\u001B[0m \u001B[38;5;28;01mimport\u001B[39;00m \u001B[38;5;21;01mtorch\u001B[39;00m\n\u001B[0;32m      4\u001B[0m x \u001B[38;5;241m=\u001B[39m torch\u001B[38;5;241m.\u001B[39marange(\u001B[38;5;241m10\u001B[39m)\n\u001B[0;32m      5\u001B[0m \u001B[38;5;66;03m# create a view of the torch tensor \"x\" in NumPy\u001B[39;00m\n",
      "\u001B[1;31mModuleNotFoundError\u001B[0m: No module named 'torch'"
     ]
    }
   ],
   "source": [
    "\n",
    "#one hundred and eighty first function is np.from_dlpack\n",
    "\n",
    "import torch\n",
    "x = torch.arange(10)\n",
    "# create a view of the torch tensor \"x\" in NumPy\n",
    "np.from_dlpack(x)\n"
   ],
   "metadata": {
    "collapsed": false,
    "pycharm": {
     "name": "#%%\n"
    }
   }
  },
  {
   "cell_type": "code",
   "execution_count": null,
   "outputs": [],
   "source": [
    "\n",
    "#one hundred and eighty second function is np.frombuffer\n",
    "\n",
    "np.frombuffer(b'\\x01\\x02', dtype=np.uint8)\n",
    "\n"
   ],
   "metadata": {
    "collapsed": false,
    "pycharm": {
     "name": "#%%\n"
    }
   }
  },
  {
   "cell_type": "code",
   "execution_count": null,
   "outputs": [],
   "source": [
    "\n",
    "#one hundred and eighty third function is np.fromfile\n",
    "\n",
    "np.fromfile('helper.py')\n"
   ],
   "metadata": {
    "collapsed": false,
    "pycharm": {
     "name": "#%%\n"
    }
   }
  },
  {
   "cell_type": "code",
   "execution_count": null,
   "outputs": [],
   "source": [
    "\n",
    "#one hundred and eighty fourth function is np.fromfunction\n",
    "\n",
    "print(np.fromfunction(lambda x1, x2: x1, (2,5)))\n",
    "print(np.fromfunction(lambda x1, x2: x2, (2,5)))\n"
   ],
   "metadata": {
    "collapsed": false,
    "pycharm": {
     "name": "#%%\n"
    }
   }
  },
  {
   "cell_type": "code",
   "execution_count": 1223,
   "outputs": [
    {
     "data": {
      "text/plain": "array([1.+0.j, 2.+0.j, 3.+0.j])"
     },
     "execution_count": 1223,
     "metadata": {},
     "output_type": "execute_result"
    }
   ],
   "source": [
    "\n",
    "#one hundred and eighty fifth function is np.fromiter\n",
    "\n",
    "a = np.array([1,2,3])\n",
    "np.fromiter(a, complex)\n"
   ],
   "metadata": {
    "collapsed": false,
    "pycharm": {
     "name": "#%%\n"
    }
   }
  },
  {
   "cell_type": "code",
   "execution_count": 1224,
   "outputs": [
    {
     "data": {
      "text/plain": "array([10, 30, 100], dtype=object)"
     },
     "execution_count": 1224,
     "metadata": {},
     "output_type": "execute_result"
    }
   ],
   "source": [
    "\n",
    "#one hundred and eighty sixth function is np.frompyfunc\n",
    "\n",
    "f = np.frompyfunc(abs, 1,1)\n",
    "f(np.array((-10, 30, -100)))\n"
   ],
   "metadata": {
    "collapsed": false,
    "pycharm": {
     "name": "#%%\n"
    }
   }
  },
  {
   "cell_type": "code",
   "execution_count": 1225,
   "outputs": [
    {
     "data": {
      "text/plain": "array([(2,), (0,), (2,), (2,)], dtype=[('numbers', '<i8')])"
     },
     "execution_count": 1225,
     "metadata": {},
     "output_type": "execute_result"
    }
   ],
   "source": [
    "\n",
    "#one hundred and eighty seventh function is np.fromregex\n",
    "from io import StringIO\n",
    "text = StringIO('2ug0gu i2dbniew/,.,/ds2')\n",
    "np.fromregex(text, '\\d', [('numbers', np.int64)])\n",
    "\n"
   ],
   "metadata": {
    "collapsed": false,
    "pycharm": {
     "name": "#%%\n"
    }
   }
  },
  {
   "cell_type": "code",
   "execution_count": 1226,
   "outputs": [
    {
     "data": {
      "text/plain": "array([1, 2, 3, 4, 5, 6, 7], dtype=int64)"
     },
     "execution_count": 1226,
     "metadata": {},
     "output_type": "execute_result"
    }
   ],
   "source": [
    "\n",
    "#one hundred and eighty eighth function is np.fromstring\n",
    "\n",
    "string = '1,2,3,4,5,6,7'\n",
    "np.fromstring(string, dtype=np.int64, sep=',')\n"
   ],
   "metadata": {
    "collapsed": false,
    "pycharm": {
     "name": "#%%\n"
    }
   }
  },
  {
   "cell_type": "code",
   "execution_count": 1227,
   "outputs": [
    {
     "data": {
      "text/plain": "array([[2022, 2022],\n       [2022, 2022]])"
     },
     "execution_count": 1227,
     "metadata": {},
     "output_type": "execute_result"
    }
   ],
   "source": [
    "\n",
    "#one hundred and eighty ninth function is np.full\n",
    "\n",
    "np.full((2,2), 2022)\n",
    "\n"
   ],
   "metadata": {
    "collapsed": false,
    "pycharm": {
     "name": "#%%\n"
    }
   }
  },
  {
   "cell_type": "code",
   "execution_count": 1228,
   "outputs": [
    {
     "data": {
      "text/plain": "array([[2022, 2022, 2022],\n       [2022, 2022, 2022],\n       [2022, 2022, 2022]])"
     },
     "execution_count": 1228,
     "metadata": {},
     "output_type": "execute_result"
    }
   ],
   "source": [
    "\n",
    "#one hundred and ninetieth function is np.full_like\n",
    "a = np.array([[1,2,3],\n",
    "              [4,5,6],\n",
    "              [7,8,9]])\n",
    "np.full_like(a, 2022)\n"
   ],
   "metadata": {
    "collapsed": false,
    "pycharm": {
     "name": "#%%\n"
    }
   }
  },
  {
   "cell_type": "code",
   "execution_count": 1229,
   "outputs": [
    {
     "data": {
      "text/plain": "5"
     },
     "execution_count": 1229,
     "metadata": {},
     "output_type": "execute_result"
    }
   ],
   "source": [
    "\n",
    "#one hundred and ninety first function is np.gcd\n",
    "\n",
    "np.gcd.reduce([15, 25, 35, 45])\n",
    "\n"
   ],
   "metadata": {
    "collapsed": false,
    "pycharm": {
     "name": "#%%\n"
    }
   }
  },
  {
   "cell_type": "code",
   "execution_count": 1230,
   "outputs": [
    {
     "data": {
      "text/plain": "<attribute 'data' of 'numpy.generic' objects>"
     },
     "execution_count": 1230,
     "metadata": {},
     "output_type": "execute_result"
    }
   ],
   "source": [
    "\n",
    "#one hundred and ninety second function is np.generic\n",
    "\n",
    "np.generic.data\n",
    "\n"
   ],
   "metadata": {
    "collapsed": false,
    "pycharm": {
     "name": "#%%\n"
    }
   }
  },
  {
   "cell_type": "code",
   "execution_count": 1231,
   "outputs": [
    {
     "name": "stderr",
     "output_type": "stream",
     "text": [
      "C:\\Users\\Student\\AppData\\Local\\Temp\\ipykernel_1156\\2224838882.py:6: VisibleDeprecationWarning: Reading unicode strings without specifying the encoding argument is deprecated. Set the encoding, use None for the system default.\n",
      "  a = np.genfromtxt(x, dtype=None, delimiter=',')\n"
     ]
    },
    {
     "data": {
      "text/plain": "array((1, 2, 3, b'hello1', b' hello2', b'1f', b'2f'),\n      dtype=[('f0', '<i4'), ('f1', '<i4'), ('f2', '<i4'), ('f3', 'S6'), ('f4', 'S7'), ('f5', 'S2'), ('f6', 'S2')])"
     },
     "execution_count": 1231,
     "metadata": {},
     "output_type": "execute_result"
    }
   ],
   "source": [
    "\n",
    "#one hundred and ninety third function is np.genfromtxt\n",
    "from io import StringIO\n",
    "x = StringIO(\"\"\"1,2,3,hello1, hello2,1f,2f\n",
    "\"\"\")\n",
    "\n",
    "a = np.genfromtxt(x, dtype=None, delimiter=',')\n",
    "a"
   ],
   "metadata": {
    "collapsed": false,
    "pycharm": {
     "name": "#%%\n"
    }
   }
  },
  {
   "cell_type": "code",
   "execution_count": 1232,
   "outputs": [
    {
     "data": {
      "text/plain": "array([  1.        ,   1.46779927,   2.15443469,   3.16227766,\n         4.64158883,   6.81292069,  10.        ,  14.67799268,\n        21.5443469 ,  31.6227766 ,  46.41588834,  68.12920691,\n       100.        ])"
     },
     "execution_count": 1232,
     "metadata": {},
     "output_type": "execute_result"
    }
   ],
   "source": [
    "\n",
    "#one hundred and ninety fourth function is np.geomspace\n",
    "\n",
    "np.geomspace(1, 100, num=13)\n"
   ],
   "metadata": {
    "collapsed": false,
    "pycharm": {
     "name": "#%%\n"
    }
   }
  },
  {
   "cell_type": "code",
   "execution_count": 1233,
   "outputs": [
    {
     "data": {
      "text/plain": "array([123])"
     },
     "execution_count": 1233,
     "metadata": {},
     "output_type": "execute_result"
    }
   ],
   "source": [
    "\n",
    "#one hundred and ninety fifth function is np.get_array_wrap\n",
    "a = np.array([12])\n",
    "f = np.get_array_wrap(a)\n",
    "f(np.array([123]))\n"
   ],
   "metadata": {
    "collapsed": false,
    "pycharm": {
     "name": "#%%\n"
    }
   }
  },
  {
   "cell_type": "code",
   "execution_count": 1234,
   "outputs": [
    {
     "data": {
      "text/plain": "'C:\\\\Users\\\\Student\\\\AppData\\\\Local\\\\Programs\\\\Python\\\\Python310\\\\lib\\\\site-packages\\\\numpy\\\\core\\\\include'"
     },
     "execution_count": 1234,
     "metadata": {},
     "output_type": "execute_result"
    }
   ],
   "source": [
    "\n",
    "#one hundred and ninety sixth function is np.get_include\n",
    "np.get_include()\n"
   ],
   "metadata": {
    "collapsed": false,
    "pycharm": {
     "name": "#%%\n"
    }
   }
  },
  {
   "cell_type": "code",
   "execution_count": 1235,
   "outputs": [
    {
     "data": {
      "text/plain": "<contextlib._GeneratorContextManager at 0x29c8acbd540>"
     },
     "execution_count": 1235,
     "metadata": {},
     "output_type": "execute_result"
    }
   ],
   "source": [
    "\n",
    "#one hundred and ninety seventh function is np.get_printoptions\n",
    "\n",
    "np.printoptions()\n"
   ],
   "metadata": {
    "collapsed": false,
    "pycharm": {
     "name": "#%%\n"
    }
   }
  },
  {
   "cell_type": "code",
   "execution_count": 1236,
   "outputs": [
    {
     "data": {
      "text/plain": "8192"
     },
     "execution_count": 1236,
     "metadata": {},
     "output_type": "execute_result"
    }
   ],
   "source": [
    "\n",
    "#one hundred and ninety eighth function is np.getbufsize\n",
    "np.getbufsize()\n",
    "\n"
   ],
   "metadata": {
    "collapsed": false,
    "pycharm": {
     "name": "#%%\n"
    }
   }
  },
  {
   "cell_type": "code",
   "execution_count": 1237,
   "outputs": [
    {
     "name": "stdout",
     "output_type": "stream",
     "text": [
      "{'divide': 'warn', 'over': 'warn', 'under': 'ignore', 'invalid': 'warn'}\n"
     ]
    }
   ],
   "source": [
    "\n",
    "#one hundred and ninety ninth function is np.geterr\n",
    "\n",
    "print(np.geterr())\n"
   ],
   "metadata": {
    "collapsed": false,
    "pycharm": {
     "name": "#%%\n"
    }
   }
  },
  {
   "cell_type": "code",
   "execution_count": 1238,
   "outputs": [
    {
     "name": "stdout",
     "output_type": "stream",
     "text": [
      "Floating point error (divide by zero), with flag 1\n",
      "[inf inf inf]\n"
     ]
    },
    {
     "data": {
      "text/plain": "True"
     },
     "execution_count": 1238,
     "metadata": {},
     "output_type": "execute_result"
    }
   ],
   "source": [
    "\n",
    "#two hundredths function is np.geterrcall\n",
    "\n",
    "np.seterr(all='call')\n",
    "def err_handler(type, flag):\n",
    "    print(\"Floating point error (%s), with flag %s\" % (type, flag))\n",
    "np.seterrcall(err_handler)\n",
    "print(np.array([1, 2, 3]) / 0.0)\n",
    "\n",
    "err_handler is np.geterrcall()"
   ],
   "metadata": {
    "collapsed": false,
    "pycharm": {
     "name": "#%%\n"
    }
   }
  },
  {
   "cell_type": "code",
   "execution_count": 1239,
   "outputs": [
    {
     "data": {
      "text/plain": "[8192, 1755, <function __main__.err_handler(type, flag)>]"
     },
     "execution_count": 1239,
     "metadata": {},
     "output_type": "execute_result"
    }
   ],
   "source": [
    "\n",
    "#two hundred and first function is np.geterrobj\n",
    "np.geterrobj()\n"
   ],
   "metadata": {
    "collapsed": false,
    "pycharm": {
     "name": "#%%\n"
    }
   }
  },
  {
   "cell_type": "code",
   "execution_count": 1240,
   "outputs": [
    {
     "data": {
      "text/plain": "array([1. , 1.5, 2.5, 3.5, 4.5, 5. ])"
     },
     "execution_count": 1240,
     "metadata": {},
     "output_type": "execute_result"
    }
   ],
   "source": [
    "\n",
    "#two hundred and second function is np.gradient\n",
    "\n",
    "np.gradient(np.array([1, 2, 4, 7, 11, 16]))\n",
    "\n"
   ],
   "metadata": {
    "collapsed": false,
    "pycharm": {
     "name": "#%%\n"
    }
   }
  },
  {
   "cell_type": "code",
   "execution_count": 1241,
   "outputs": [
    {
     "name": "stdout",
     "output_type": "stream",
     "text": [
      "[False  True  True]\n"
     ]
    },
    {
     "data": {
      "text/plain": "array([False,  True,  True])"
     },
     "execution_count": 1241,
     "metadata": {},
     "output_type": "execute_result"
    }
   ],
   "source": [
    "\n",
    "#two hundred and third function is np.greater\n",
    "print(np.greater([1,2,3], [2,1,0]))\n",
    "np.array([1,2,3]) > np.array([2,1,0])"
   ],
   "metadata": {
    "collapsed": false,
    "pycharm": {
     "name": "#%%\n"
    }
   }
  },
  {
   "cell_type": "code",
   "execution_count": 1242,
   "outputs": [
    {
     "name": "stdout",
     "output_type": "stream",
     "text": [
      "[False  True  True]\n"
     ]
    },
    {
     "data": {
      "text/plain": "array([False,  True,  True])"
     },
     "execution_count": 1242,
     "metadata": {},
     "output_type": "execute_result"
    }
   ],
   "source": [
    "\n",
    "#two hundred and fourth function is np.greater_equal\n",
    "print(np.greater_equal([1,2,0], [2,1,0]))\n",
    "np.array([1,2,3]) > np.array([2,1,0])\n"
   ],
   "metadata": {
    "collapsed": false,
    "pycharm": {
     "name": "#%%\n"
    }
   }
  },
  {
   "cell_type": "code",
   "execution_count": 1243,
   "outputs": [
    {
     "data": {
      "text/plain": "1.235"
     },
     "execution_count": 1243,
     "metadata": {},
     "output_type": "execute_result"
    }
   ],
   "source": [
    "\n",
    "#two hundred and fifth function is np.half\n",
    "\n",
    "np.half(1.23542343654)\n",
    "\n"
   ],
   "metadata": {
    "collapsed": false,
    "pycharm": {
     "name": "#%%\n"
    }
   }
  },
  {
   "cell_type": "code",
   "execution_count": 1244,
   "outputs": [
    {
     "name": "stdout",
     "output_type": "stream",
     "text": [
      "[0.08       0.18761956 0.46012184 0.77       0.97225861 0.97225861\n",
      " 0.77       0.46012184 0.18761956 0.08      ]\n"
     ]
    },
    {
     "data": {
      "text/plain": "[<matplotlib.lines.Line2D at 0x29c8ad02da0>]"
     },
     "execution_count": 1244,
     "metadata": {},
     "output_type": "execute_result"
    },
    {
     "data": {
      "text/plain": "<Figure size 640x480 with 1 Axes>",
      "image/png": "[encoded data removed]"
     },
     "metadata": {},
     "output_type": "display_data"
    }
   ],
   "source": [
    "\n",
    "#two hundred and sixth function is np.hamming\n",
    "print(np.hamming(10))\n",
    "import matplotlib.pyplot as plt\n",
    "plt.plot(np.hamming(10))\n"
   ],
   "metadata": {
    "collapsed": false,
    "pycharm": {
     "name": "#%%\n"
    }
   }
  },
  {
   "cell_type": "code",
   "execution_count": 1245,
   "outputs": [
    {
     "name": "stdout",
     "output_type": "stream",
     "text": [
      "[0.         0.11697778 0.41317591 0.75       0.96984631 0.96984631\n",
      " 0.75       0.41317591 0.11697778 0.        ]\n"
     ]
    },
    {
     "data": {
      "text/plain": "[<matplotlib.lines.Line2D at 0x29c86b87b20>]"
     },
     "execution_count": 1245,
     "metadata": {},
     "output_type": "execute_result"
    },
    {
     "data": {
      "text/plain": "<Figure size 640x480 with 1 Axes>",
      "image/png": "[encoded data removed]"
     },
     "metadata": {},
     "output_type": "display_data"
    }
   ],
   "source": [
    "\n",
    "#two hundred and seventh function is np.hanning\n",
    "\n",
    "print(np.hanning(10))\n",
    "import matplotlib.pyplot as plt\n",
    "\n",
    "plt.plot(np.hanning(10))\n"
   ],
   "metadata": {
    "collapsed": false,
    "pycharm": {
     "name": "#%%\n"
    }
   }
  },
  {
   "cell_type": "code",
   "execution_count": 1246,
   "outputs": [
    {
     "data": {
      "text/plain": "array([0. , 0.5, 1. ])"
     },
     "execution_count": 1246,
     "metadata": {},
     "output_type": "execute_result"
    }
   ],
   "source": [
    "\n",
    "#two hundred and eighth function is np.heaviside\n",
    "\n",
    "np.heaviside([-1.5, 0, 2.0], 0.5)\n",
    "\n"
   ],
   "metadata": {
    "collapsed": false,
    "pycharm": {
     "name": "#%%\n"
    }
   }
  },
  {
   "cell_type": "code",
   "execution_count": 1247,
   "outputs": [
    {
     "data": {
      "text/plain": "(array([[9., 1., 0., 0., 0., 0.],\n        [0., 0., 0., 0., 5., 6.]]),\n array([0.        , 0.58333333, 1.16666667, 1.75      , 2.33333333,\n        2.91666667, 3.5       ]),\n <a list of 2 BarContainer objects>)"
     },
     "execution_count": 1247,
     "metadata": {},
     "output_type": "execute_result"
    },
    {
     "data": {
      "text/plain": "<Figure size 640x480 with 1 Axes>",
      "image/png": "[encoded data removed]"
     },
     "metadata": {},
     "output_type": "display_data"
    }
   ],
   "source": [
    "\n",
    "#two hundred and ninth function is np.histogram\n",
    "\n",
    "a = np.histogram(3)\n",
    "import matplotlib.pyplot as plt\n",
    "plt.hist(a, bins='auto')\n"
   ],
   "metadata": {
    "collapsed": false,
    "pycharm": {
     "name": "#%%\n"
    }
   }
  },
  {
   "cell_type": "code",
   "execution_count": 1248,
   "outputs": [
    {
     "data": {
      "text/plain": "(array([2., 2., 2., 2., 3.]),\n array([ 9.5,  9.7,  9.9, 10.1, 10.3, 10.5]),\n <BarContainer object of 5 artists>)"
     },
     "execution_count": 1248,
     "metadata": {},
     "output_type": "execute_result"
    },
    {
     "data": {
      "text/plain": "<Figure size 640x480 with 1 Axes>",
      "image/png": "[encoded data removed]"
     },
     "metadata": {},
     "output_type": "display_data"
    }
   ],
   "source": [
    "\n",
    "#two hundred and tenth function is np.histogram2d\n",
    "\n",
    "a = np.histogram2d([1], [10])\n",
    "import matplotlib.pyplot as plt\n",
    "plt.hist(a[0], bins='auto')\n",
    "plt.hist(a[1], bins='auto')\n",
    "plt.hist(a[2], bins='auto')\n"
   ],
   "metadata": {
    "collapsed": false,
    "pycharm": {
     "name": "#%%\n"
    }
   }
  },
  {
   "cell_type": "code",
   "execution_count": 1249,
   "outputs": [
    {
     "data": {
      "text/plain": "(array([3., 1., 1., 2., 2.]),\n array([0., 1., 2., 3., 4., 5.]),\n <BarContainer object of 5 artists>)"
     },
     "execution_count": 1249,
     "metadata": {},
     "output_type": "execute_result"
    },
    {
     "data": {
      "text/plain": "<Figure size 640x480 with 1 Axes>",
      "image/png": "[encoded data removed]"
     },
     "metadata": {},
     "output_type": "display_data"
    }
   ],
   "source": [
    "\n",
    "#two hundred and eleventh function is np.histogram_bin_edges\n",
    "arr = np.array([0, 0, 0, 1, 2, 3, 3, 4, 5])\n",
    "bins = np.histogram_bin_edges(arr, bins='auto')\n",
    "import matplotlib.pyplot as plt\n",
    "\n",
    "plt.hist(arr, bins=bins, )"
   ],
   "metadata": {
    "collapsed": false,
    "pycharm": {
     "name": "#%%\n"
    }
   }
  },
  {
   "cell_type": "code",
   "execution_count": 1250,
   "outputs": [
    {
     "data": {
      "text/plain": "(array([1., 2., 0.]),\n array([1., 3., 5., 7.]),\n <BarContainer object of 3 artists>)"
     },
     "execution_count": 1250,
     "metadata": {},
     "output_type": "execute_result"
    },
    {
     "data": {
      "text/plain": "<Figure size 640x480 with 1 Axes>",
      "image/png": "[encoded data removed]"
     },
     "metadata": {},
     "output_type": "display_data"
    }
   ],
   "source": [
    "\n",
    "#two hundred and twelveth function is np.histogramdd\n",
    "\n",
    "a = np.array([1,2,3,2,1,3,4,6,7])\n",
    "x = np.histogramdd(a, bins=(3))\n",
    "\n",
    "import matplotlib.pyplot as plt\n",
    "plt.hist(x[0], x[1][0])\n"
   ],
   "metadata": {
    "collapsed": false,
    "pycharm": {
     "name": "#%%\n"
    }
   }
  },
  {
   "cell_type": "code",
   "execution_count": 1251,
   "outputs": [
    {
     "data": {
      "text/plain": "[array([[1],\n        [3]]),\n array([[2],\n        [4]])]"
     },
     "execution_count": 1251,
     "metadata": {},
     "output_type": "execute_result"
    }
   ],
   "source": [
    "\n",
    "#two hundred and thirteenth function is np.hsplit\n",
    "\n",
    "arr = np.array([[1,2],[3,4]])\n",
    "np.hsplit(arr, 2)\n"
   ],
   "metadata": {
    "collapsed": false,
    "pycharm": {
     "name": "#%%\n"
    }
   }
  },
  {
   "cell_type": "code",
   "execution_count": 1252,
   "outputs": [
    {
     "data": {
      "text/plain": "array([1, 2, 3, 1, 2, 3])"
     },
     "execution_count": 1252,
     "metadata": {},
     "output_type": "execute_result"
    }
   ],
   "source": [
    "\n",
    "#two hundred and fourteenth function is np.hstack\n",
    "a = np.array([1,2,3])\n",
    "b = np.array([1,2,3])\n",
    "np.hstack((a,b))\n"
   ],
   "metadata": {
    "collapsed": false,
    "pycharm": {
     "name": "#%%\n"
    }
   }
  },
  {
   "cell_type": "code",
   "execution_count": 1253,
   "outputs": [
    {
     "name": "stdout",
     "output_type": "stream",
     "text": [
      "[1.41421356 2.82842712 4.24264069]\n",
      "[1.4142135623730951, 2.8284271247461903, 4.242640687119285]\n"
     ]
    }
   ],
   "source": [
    "\n",
    "#two hundred and fifteenth function is np.hypot\n",
    "a = np.array([1,2,3])\n",
    "b = np.array([1,2,3])\n",
    "\n",
    "print(np.hypot(a, b))\n",
    "\n",
    "print([np.sqrt(a[i]**2 + b[i]**2) for i in range(3)])"
   ],
   "metadata": {
    "collapsed": false,
    "pycharm": {
     "name": "#%%\n"
    }
   }
  },
  {
   "cell_type": "code",
   "execution_count": 1254,
   "outputs": [
    {
     "data": {
      "text/plain": "array([1.        , 1.26606588, 2.2795853 , 4.88079259])"
     },
     "execution_count": 1254,
     "metadata": {},
     "output_type": "execute_result"
    }
   ],
   "source": [
    "\n",
    "#two hundred and sixteenth function is np.i0\n",
    "\n",
    "a = np.array([0, 1, 2, 3])\n",
    "np.i0(a)\n"
   ],
   "metadata": {
    "collapsed": false,
    "pycharm": {
     "name": "#%%\n"
    }
   }
  },
  {
   "cell_type": "code",
   "execution_count": 1255,
   "outputs": [
    {
     "data": {
      "text/plain": "array([[1., 0., 0., 0., 0.],\n       [0., 1., 0., 0., 0.],\n       [0., 0., 1., 0., 0.],\n       [0., 0., 0., 1., 0.],\n       [0., 0., 0., 0., 1.]])"
     },
     "execution_count": 1255,
     "metadata": {},
     "output_type": "execute_result"
    }
   ],
   "source": [
    "\n",
    "#two hundred and seventeenth function is np.identity\n",
    "\n",
    "np.identity(5)\n"
   ],
   "metadata": {
    "collapsed": false,
    "pycharm": {
     "name": "#%%\n"
    }
   }
  },
  {
   "cell_type": "code",
   "execution_count": 1256,
   "outputs": [
    {
     "data": {
      "text/plain": "iinfo(min=-9223372036854775808, max=9223372036854775807, dtype=int64)"
     },
     "execution_count": 1256,
     "metadata": {},
     "output_type": "execute_result"
    }
   ],
   "source": [
    "\n",
    "#two hundred and eighteenth function is np.iinfo\n",
    "\n",
    "np.iinfo(np.int64)\n",
    "\n"
   ],
   "metadata": {
    "collapsed": false,
    "pycharm": {
     "name": "#%%\n"
    }
   }
  },
  {
   "cell_type": "code",
   "execution_count": 1257,
   "outputs": [
    {
     "data": {
      "text/plain": "array([2., 4., 6.])"
     },
     "execution_count": 1257,
     "metadata": {},
     "output_type": "execute_result"
    }
   ],
   "source": [
    "\n",
    "#two hundred and nineteenth function is np.imag\n",
    "a = np.array([1+2j, 3+4j, 5+6j])\n",
    "a.imag\n"
   ],
   "metadata": {
    "collapsed": false,
    "pycharm": {
     "name": "#%%\n"
    }
   }
  },
  {
   "cell_type": "code",
   "execution_count": 1258,
   "outputs": [
    {
     "data": {
      "text/plain": "array([ True, False,  True, False,  True])"
     },
     "execution_count": 1258,
     "metadata": {},
     "output_type": "execute_result"
    }
   ],
   "source": [
    "\n",
    "#two hundred and twentieth function is np.in1d\n",
    "\n",
    "test = np.array([0, 1, 2, 5, 0])\n",
    "states = [0, 2]\n",
    "np.in1d(test, states)\n"
   ],
   "metadata": {
    "collapsed": false,
    "pycharm": {
     "name": "#%%\n"
    }
   }
  },
  {
   "cell_type": "code",
   "execution_count": 1259,
   "outputs": [
    {
     "data": {
      "text/plain": "(array([1, 2, 3]),)"
     },
     "execution_count": 1259,
     "metadata": {},
     "output_type": "execute_result"
    }
   ],
   "source": [
    "\n",
    "#two hundred and twenty first function is np.index_exp\n",
    "\n",
    "a = np.array([1,2,3])\n",
    "np.index_exp[a]"
   ],
   "metadata": {
    "collapsed": false,
    "pycharm": {
     "name": "#%%\n"
    }
   }
  },
  {
   "cell_type": "code",
   "execution_count": 1260,
   "outputs": [
    {
     "data": {
      "text/plain": "array([[[0, 0],\n        [1, 1]],\n\n       [[0, 1],\n        [0, 1]]])"
     },
     "execution_count": 1260,
     "metadata": {},
     "output_type": "execute_result"
    }
   ],
   "source": [
    "\n",
    "#two hundred and twenty second function is np.indices\n",
    "\n",
    "np.indices((2,2))\n"
   ],
   "metadata": {
    "collapsed": false,
    "pycharm": {
     "name": "#%%\n"
    }
   }
  },
  {
   "cell_type": "code",
   "execution_count": 1261,
   "outputs": [
    {
     "data": {
      "text/plain": "[numpy.inexact, numpy.number, numpy.generic, object]"
     },
     "execution_count": 1261,
     "metadata": {},
     "output_type": "execute_result"
    }
   ],
   "source": [
    "\n",
    "#two hundred and twenty third function is np.inexact\n",
    "\n",
    "np.inexact.mro()"
   ],
   "metadata": {
    "collapsed": false,
    "pycharm": {
     "name": "#%%\n"
    }
   }
  },
  {
   "cell_type": "code",
   "execution_count": 1262,
   "outputs": [
    {
     "data": {
      "text/plain": "True"
     },
     "execution_count": 1262,
     "metadata": {},
     "output_type": "execute_result"
    }
   ],
   "source": [
    "\n",
    "#two hundred and twenty fourth function is np.inf\n",
    "\n",
    "np.inf is np.infty\n"
   ],
   "metadata": {
    "collapsed": false,
    "pycharm": {
     "name": "#%%\n"
    }
   }
  },
  {
   "cell_type": "code",
   "execution_count": 1263,
   "outputs": [
    {
     "name": "stdout",
     "output_type": "stream",
     "text": [
      "array(object, dtype=None, *, copy=True, order='K', subok=False, ndmin=0,\n",
      "      like=None)\n",
      "\n",
      "Create an array.\n",
      "\n",
      "Parameters\n",
      "----------\n",
      "object : array_like\n",
      "    An array, any object exposing the array interface, an object whose\n",
      "    __array__ method returns an array, or any (nested) sequence.\n",
      "    If object is a scalar, a 0-dimensional array containing object is\n",
      "    returned.\n",
      "dtype : data-type, optional\n",
      "    The desired data-type for the array.  If not given, then the type will\n",
      "    be determined as the minimum type required to hold the objects in the\n",
      "    sequence.\n",
      "copy : bool, optional\n",
      "    If true (default), then the object is copied.  Otherwise, a copy will\n",
      "    only be made if __array__ returns a copy, if obj is a nested sequence,\n",
      "    or if a copy is needed to satisfy any of the other requirements\n",
      "    (`dtype`, `order`, etc.).\n",
      "order : {'K', 'A', 'C', 'F'}, optional\n",
      "    Specify the memory layout of the array. If object is not an array, the\n",
      "    newly created array will be in C order (row major) unless 'F' is\n",
      "    specified, in which case it will be in Fortran order (column major).\n",
      "    If object is an array the following holds.\n",
      "\n",
      "    ===== ========= ===================================================\n",
      "    order  no copy                     copy=True\n",
      "    ===== ========= ===================================================\n",
      "    'K'   unchanged F & C order preserved, otherwise most similar order\n",
      "    'A'   unchanged F order if input is F and not C, otherwise C order\n",
      "    'C'   C order   C order\n",
      "    'F'   F order   F order\n",
      "    ===== ========= ===================================================\n",
      "\n",
      "    When ``copy=False`` and a copy is made for other reasons, the result is\n",
      "    the same as if ``copy=True``, with some exceptions for 'A', see the\n",
      "    Notes section. The default order is 'K'.\n",
      "subok : bool, optional\n",
      "    If True, then sub-classes will be passed-through, otherwise\n",
      "    the returned array will be forced to be a base-class array (default).\n",
      "ndmin : int, optional\n",
      "    Specifies the minimum number of dimensions that the resulting\n",
      "    array should have.  Ones will be prepended to the shape as\n",
      "    needed to meet this requirement.\n",
      "like : array_like, optional\n",
      "    Reference object to allow the creation of arrays which are not\n",
      "    NumPy arrays. If an array-like passed in as ``like`` supports\n",
      "    the ``__array_function__`` protocol, the result will be defined\n",
      "    by it. In this case, it ensures the creation of an array object\n",
      "    compatible with that passed in via this argument.\n",
      "\n",
      "    .. versionadded:: 1.20.0\n",
      "\n",
      "Returns\n",
      "-------\n",
      "out : ndarray\n",
      "    An array object satisfying the specified requirements.\n",
      "\n",
      "See Also\n",
      "--------\n",
      "empty_like : Return an empty array with shape and type of input.\n",
      "ones_like : Return an array of ones with shape and type of input.\n",
      "zeros_like : Return an array of zeros with shape and type of input.\n",
      "full_like : Return a new array with shape of input filled with value.\n",
      "empty : Return a new uninitialized array.\n",
      "ones : Return a new array setting values to one.\n",
      "zeros : Return a new array setting values to zero.\n",
      "full : Return a new array of given shape filled with value.\n",
      "\n",
      "\n",
      "Notes\n",
      "-----\n",
      "When order is 'A' and `object` is an array in neither 'C' nor 'F' order,\n",
      "and a copy is forced by a change in dtype, then the order of the result is\n",
      "not necessarily 'C' as expected. This is likely a bug.\n",
      "\n",
      "Examples\n",
      "--------\n",
      ">>> np.array([1, 2, 3])\n",
      "array([1, 2, 3])\n",
      "\n",
      "Upcasting:\n",
      "\n",
      ">>> np.array([1, 2, 3.0])\n",
      "array([ 1.,  2.,  3.])\n",
      "\n",
      "More than one dimension:\n",
      "\n",
      ">>> np.array([[1, 2], [3, 4]])\n",
      "array([[1, 2],\n",
      "       [3, 4]])\n",
      "\n",
      "Minimum dimensions 2:\n",
      "\n",
      ">>> np.array([1, 2, 3], ndmin=2)\n",
      "array([[1, 2, 3]])\n",
      "\n",
      "Type provided:\n",
      "\n",
      ">>> np.array([1, 2, 3], dtype=complex)\n",
      "array([ 1.+0.j,  2.+0.j,  3.+0.j])\n",
      "\n",
      "Data-type consisting of more than one element:\n",
      "\n",
      ">>> x = np.array([(1,2),(3,4)],dtype=[('a','<i4'),('b','<i4')])\n",
      ">>> x['a']\n",
      "array([1, 3])\n",
      "\n",
      "Creating an array from sub-classes:\n",
      "\n",
      ">>> np.array(np.mat('1 2; 3 4'))\n",
      "array([[1, 2],\n",
      "       [3, 4]])\n",
      "\n",
      ">>> np.array(np.mat('1 2; 3 4'), subok=True)\n",
      "matrix([[1, 2],\n",
      "        [3, 4]])\n"
     ]
    }
   ],
   "source": [
    "\n",
    "#two hundred and twenty fifth function is np.info\n",
    "\n",
    "np.info(np.array)\n",
    "\n"
   ],
   "metadata": {
    "collapsed": false,
    "pycharm": {
     "name": "#%%\n"
    }
   }
  },
  {
   "cell_type": "code",
   "execution_count": 1264,
   "outputs": [
    {
     "data": {
      "text/plain": "True"
     },
     "execution_count": 1264,
     "metadata": {},
     "output_type": "execute_result"
    }
   ],
   "source": [
    "\n",
    "#two hundred and twenty sixth function is np.infty\n",
    "\n",
    "np.infty is np.inf\n"
   ],
   "metadata": {
    "collapsed": false,
    "pycharm": {
     "name": "#%%\n"
    }
   }
  },
  {
   "cell_type": "code",
   "execution_count": 1265,
   "outputs": [
    {
     "name": "stdout",
     "output_type": "stream",
     "text": [
      "14\n",
      "14\n"
     ]
    }
   ],
   "source": [
    "\n",
    "#two hundred and twenty seventh function is np.inner\n",
    "a = np.array([1,2,3])\n",
    "b = np.array([1,2,3])\n",
    "print(np.inner(a,b))\n",
    "print(sum(a[:]*b[:]))"
   ],
   "metadata": {
    "collapsed": false,
    "pycharm": {
     "name": "#%%\n"
    }
   }
  },
  {
   "cell_type": "code",
   "execution_count": 1266,
   "outputs": [
    {
     "data": {
      "text/plain": "array([[ 1,  2, 10,  3],\n       [ 4,  5, 10,  6],\n       [ 7,  8, 10,  9]])"
     },
     "execution_count": 1266,
     "metadata": {},
     "output_type": "execute_result"
    }
   ],
   "source": [
    "\n",
    "#two hundred and twenty ninth function is np.insert\n",
    "a = np.array([[1,2,3],\n",
    "              [4,5,6],\n",
    "              [7,8,9]])\n",
    "np.insert(a, 2, 10, axis=1)\n"
   ],
   "metadata": {
    "collapsed": false,
    "pycharm": {
     "name": "#%%\n"
    }
   }
  },
  {
   "cell_type": "code",
   "execution_count": 1267,
   "outputs": [
    {
     "data": {
      "text/plain": "True"
     },
     "execution_count": 1267,
     "metadata": {},
     "output_type": "execute_result"
    }
   ],
   "source": [
    "\n",
    "#two hundred and thirtieth function is np.int0\n",
    "np.int0 is np.int64"
   ],
   "metadata": {
    "collapsed": false,
    "pycharm": {
     "name": "#%%\n"
    }
   }
  },
  {
   "cell_type": "code",
   "execution_count": 1268,
   "outputs": [
    {
     "name": "stdout",
     "output_type": "stream",
     "text": [
      "12345\n",
      "-7616\n"
     ]
    }
   ],
   "source": [
    "\n",
    "#two hundred and thirtieth first function is np.int16\n",
    "print(np.int16(12345))\n",
    "print(np.int16(123456))\n"
   ],
   "metadata": {
    "collapsed": false,
    "pycharm": {
     "name": "#%%\n"
    }
   }
  },
  {
   "cell_type": "code",
   "execution_count": 1269,
   "outputs": [
    {
     "name": "stdout",
     "output_type": "stream",
     "text": [
      "1234567891\n"
     ]
    },
    {
     "ename": "OverflowError",
     "evalue": "Python int too large to convert to C long",
     "output_type": "error",
     "traceback": [
      "\u001B[1;31m---------------------------------------------------------------------------\u001B[0m",
      "\u001B[1;31mOverflowError\u001B[0m                             Traceback (most recent call last)",
      "Cell \u001B[1;32mIn [1269], line 3\u001B[0m\n\u001B[0;32m      1\u001B[0m \u001B[38;5;66;03m#two hundred and thirtieth second function is np.int32\u001B[39;00m\n\u001B[0;32m      2\u001B[0m \u001B[38;5;28mprint\u001B[39m(np\u001B[38;5;241m.\u001B[39mint32(\u001B[38;5;241m1234567891\u001B[39m))\n\u001B[1;32m----> 3\u001B[0m \u001B[38;5;28mprint\u001B[39m(\u001B[43mnp\u001B[49m\u001B[38;5;241;43m.\u001B[39;49m\u001B[43mint32\u001B[49m\u001B[43m(\u001B[49m\u001B[38;5;241;43m12345678911\u001B[39;49m\u001B[43m)\u001B[49m)\n",
      "\u001B[1;31mOverflowError\u001B[0m: Python int too large to convert to C long"
     ]
    }
   ],
   "source": [
    "\n",
    "#two hundred and thirtieth second function is np.int32\n",
    "print(np.int32(1234567891))\n",
    "print(np.int32(12345678911))\n"
   ],
   "metadata": {
    "collapsed": false,
    "pycharm": {
     "name": "#%%\n"
    }
   }
  },
  {
   "cell_type": "code",
   "execution_count": null,
   "outputs": [],
   "source": [
    "\n",
    "#two hundred and thirtieth third function is np.int64\n",
    "print(np.int64(1234567891012345678))\n",
    "print(np.int64(12345678910123456789))\n"
   ],
   "metadata": {
    "collapsed": false,
    "pycharm": {
     "name": "#%%\n"
    }
   }
  },
  {
   "cell_type": "code",
   "execution_count": null,
   "outputs": [],
   "source": [
    "\n",
    "#two hundred and thirtieth fourth function is np.int8\n",
    "print(np.int8(123))\n",
    "print(np.int8(1234))\n"
   ],
   "metadata": {
    "collapsed": false,
    "pycharm": {
     "name": "#%%\n"
    }
   }
  },
  {
   "cell_type": "code",
   "execution_count": null,
   "outputs": [],
   "source": [
    "\n",
    "#two hundred and thirtieth fifth function is np.int_\n",
    "print(np.int_)\n"
   ],
   "metadata": {
    "collapsed": false,
    "pycharm": {
     "name": "#%%\n"
    }
   }
  },
  {
   "cell_type": "code",
   "execution_count": 1270,
   "outputs": [
    {
     "name": "stdout",
     "output_type": "stream",
     "text": [
      "2147483647\n"
     ]
    },
    {
     "ename": "OverflowError",
     "evalue": "Python int too large to convert to C long",
     "output_type": "error",
     "traceback": [
      "\u001B[1;31m---------------------------------------------------------------------------\u001B[0m",
      "\u001B[1;31mOverflowError\u001B[0m                             Traceback (most recent call last)",
      "Cell \u001B[1;32mIn [1270], line 3\u001B[0m\n\u001B[0;32m      1\u001B[0m \u001B[38;5;66;03m#two hundred and thirtieth sixth function is np.intc\u001B[39;00m\n\u001B[0;32m      2\u001B[0m \u001B[38;5;28mprint\u001B[39m(np\u001B[38;5;241m.\u001B[39mintc(\u001B[38;5;241m2_147_483_647\u001B[39m))\n\u001B[1;32m----> 3\u001B[0m \u001B[38;5;28mprint\u001B[39m(\u001B[43mnp\u001B[49m\u001B[38;5;241;43m.\u001B[39;49m\u001B[43mintc\u001B[49m\u001B[43m(\u001B[49m\u001B[38;5;241;43m2_147_483_648\u001B[39;49m\u001B[43m)\u001B[49m)\n",
      "\u001B[1;31mOverflowError\u001B[0m: Python int too large to convert to C long"
     ]
    }
   ],
   "source": [
    "\n",
    "#two hundred and thirtieth sixth function is np.intc\n",
    "print(np.intc(2_147_483_647))\n",
    "print(np.intc(2_147_483_648))\n",
    "\n"
   ],
   "metadata": {
    "collapsed": false,
    "pycharm": {
     "name": "#%%\n"
    }
   }
  },
  {
   "cell_type": "code",
   "execution_count": null,
   "outputs": [],
   "source": [
    "\n",
    "#two hundred and thirtieth seventh function is np.integer\n",
    "np.integer.mro()\n",
    "\n"
   ],
   "metadata": {
    "collapsed": false,
    "pycharm": {
     "name": "#%%\n"
    }
   }
  },
  {
   "cell_type": "code",
   "execution_count": 1271,
   "outputs": [
    {
     "data": {
      "text/plain": "array([3., 2., 0., 0.])"
     },
     "execution_count": 1271,
     "metadata": {},
     "output_type": "execute_result"
    }
   ],
   "source": [
    "\n",
    "#two hundred and thirtieth eighth function is np.interp\n",
    "xp = [1, 2, 3]\n",
    "fp = [3, 2, 0]\n",
    "np.interp([1,2,3,4], xp, fp)\n"
   ],
   "metadata": {
    "collapsed": false,
    "pycharm": {
     "name": "#%%\n"
    }
   }
  },
  {
   "cell_type": "code",
   "execution_count": 1272,
   "outputs": [
    {
     "data": {
      "text/plain": "(array([1, 2, 4]),\n array([0, 2, 4], dtype=int64),\n array([1, 0, 2], dtype=int64))"
     },
     "execution_count": 1272,
     "metadata": {},
     "output_type": "execute_result"
    }
   ],
   "source": [
    "\n",
    "#two hundred and thirtieth ninth function is np.intersect1d\n",
    "np.intersect1d([1, 1, 2, 3, 4], [2, 1, 4, 6], return_indices=True)\n"
   ],
   "metadata": {
    "collapsed": false,
    "pycharm": {
     "name": "#%%\n"
    }
   }
  },
  {
   "cell_type": "code",
   "execution_count": 1273,
   "outputs": [
    {
     "data": {
      "text/plain": "numpy.int64"
     },
     "execution_count": 1273,
     "metadata": {},
     "output_type": "execute_result"
    }
   ],
   "source": [
    "\n",
    "#two hundred and fourtieth function is np.intp\n",
    "\n",
    "np.intp\n"
   ],
   "metadata": {
    "collapsed": false,
    "pycharm": {
     "name": "#%%\n"
    }
   }
  },
  {
   "cell_type": "code",
   "execution_count": 1274,
   "outputs": [
    {
     "name": "stdout",
     "output_type": "stream",
     "text": [
      "[False  True]\n",
      "[False  True]\n"
     ]
    }
   ],
   "source": [
    "\n",
    "#two hundred and fourty first function is np.invert\n",
    "\n",
    "print(np.invert([True, False]))\n",
    "print(~np.array([True, False]))\n",
    "\n"
   ],
   "metadata": {
    "collapsed": false,
    "pycharm": {
     "name": "#%%\n"
    }
   }
  },
  {
   "cell_type": "code",
   "execution_count": 1275,
   "outputs": [
    {
     "data": {
      "text/plain": "array([False, False, False,  True,  True])"
     },
     "execution_count": 1275,
     "metadata": {},
     "output_type": "execute_result"
    }
   ],
   "source": [
    "\n",
    "#two hundred and fourty second function is np.is_busday\n",
    "\n",
    "np.is_busday(['2021-01-01', '2021-01-02', '2021-01-03', '2021-01-04', '2021-01-05'],\n",
    "             holidays=['2021-01-01', '2021-01-02'])\n",
    "\n"
   ],
   "metadata": {
    "collapsed": false,
    "pycharm": {
     "name": "#%%\n"
    }
   }
  },
  {
   "cell_type": "code",
   "execution_count": 1276,
   "outputs": [
    {
     "data": {
      "text/plain": "array([False, False,  True,  True])"
     },
     "execution_count": 1276,
     "metadata": {},
     "output_type": "execute_result"
    }
   ],
   "source": [
    "\n",
    "#two hundred and fourty third function is np.isclose\n",
    "\n",
    "np.isclose([1,2,3,1], [2,1,3,1])\n",
    "\n"
   ],
   "metadata": {
    "collapsed": false,
    "pycharm": {
     "name": "#%%\n"
    }
   }
  },
  {
   "cell_type": "code",
   "execution_count": 1277,
   "outputs": [
    {
     "data": {
      "text/plain": "array([ True, False, False, False, False,  True])"
     },
     "execution_count": 1277,
     "metadata": {},
     "output_type": "execute_result"
    }
   ],
   "source": [
    "\n",
    "#two hundred and fourty fourth function is np.iscomplex\n",
    "np.iscomplex([1+1j, 1+0j, 4.5, 3, 2, 2j])\n"
   ],
   "metadata": {
    "collapsed": false,
    "pycharm": {
     "name": "#%%\n"
    }
   }
  },
  {
   "cell_type": "code",
   "execution_count": 1278,
   "outputs": [
    {
     "name": "stdout",
     "output_type": "stream",
     "text": [
      "True\n",
      "False\n"
     ]
    }
   ],
   "source": [
    "\n",
    "#two hundred and fourty fifth function is np.iscomplexobj\n",
    "print(np.iscomplexobj([3, 1+0j, True]))\n",
    "print(np.iscomplexobj([3, 1, True]))\n"
   ],
   "metadata": {
    "collapsed": false,
    "pycharm": {
     "name": "#%%\n"
    }
   }
  },
  {
   "cell_type": "code",
   "execution_count": 1279,
   "outputs": [
    {
     "data": {
      "text/plain": "array([ True,  True,  True, False, False])"
     },
     "execution_count": 1279,
     "metadata": {},
     "output_type": "execute_result"
    }
   ],
   "source": [
    "\n",
    "#two hundred and fourty sixth function is np.isfinite\n",
    "\n",
    "np.isfinite([1, 1j, 0, np.inf, np.nan])\n"
   ],
   "metadata": {
    "collapsed": false,
    "pycharm": {
     "name": "#%%\n"
    }
   }
  },
  {
   "cell_type": "code",
   "execution_count": 1280,
   "outputs": [
    {
     "name": "stdout",
     "output_type": "stream",
     "text": [
      "False\n",
      "True\n"
     ]
    }
   ],
   "source": [
    "\n",
    "#two hundred and fourty seventh function is np.isfortran\n",
    "print(np.isfortran(np.array([[1, 2, 3], [4, 5, 6]], order='C')))\n",
    "print(np.isfortran(np.array([[1, 2, 3], [4, 5, 6]], order='F')))\n"
   ],
   "metadata": {
    "collapsed": false,
    "pycharm": {
     "name": "#%%\n"
    }
   }
  },
  {
   "cell_type": "code",
   "execution_count": 1281,
   "outputs": [
    {
     "data": {
      "text/plain": "array([False,  True, False,  True])"
     },
     "execution_count": 1281,
     "metadata": {},
     "output_type": "execute_result"
    }
   ],
   "source": [
    "\n",
    "#two hundred and fourty eighth function is np.isin\n",
    "\n",
    "np.isin([1,3,1,4],\n",
    "        [4,3,9,2])\n",
    "\n"
   ],
   "metadata": {
    "collapsed": false,
    "pycharm": {
     "name": "#%%\n"
    }
   }
  },
  {
   "cell_type": "code",
   "execution_count": 1282,
   "outputs": [
    {
     "data": {
      "text/plain": "array([ True,  True, False, False])"
     },
     "execution_count": 1282,
     "metadata": {},
     "output_type": "execute_result"
    }
   ],
   "source": [
    "\n",
    "#two hundred and fourty ninth function is np.isinf\n",
    "\n",
    "np.isinf([np.inf, -np.inf, 1.0, np.nan])\n"
   ],
   "metadata": {
    "collapsed": false,
    "pycharm": {
     "name": "#%%\n"
    }
   }
  },
  {
   "cell_type": "code",
   "execution_count": 1283,
   "outputs": [
    {
     "name": "stdout",
     "output_type": "stream",
     "text": [
      "Floating point error (invalid value), with flag 8\n",
      "Floating point error (divide by zero), with flag 1\n"
     ]
    },
    {
     "data": {
      "text/plain": "array([ True, False, False,  True])"
     },
     "execution_count": 1283,
     "metadata": {},
     "output_type": "execute_result"
    }
   ],
   "source": [
    "\n",
    "#two hundred and fiftieth function is np.isnan\n",
    "np.isnan([np.log(-1.),1.,np.log(0),np.nan])\n"
   ],
   "metadata": {
    "collapsed": false,
    "pycharm": {
     "name": "#%%\n"
    }
   }
  },
  {
   "cell_type": "code",
   "execution_count": 1284,
   "outputs": [
    {
     "data": {
      "text/plain": "array([ True, False])"
     },
     "execution_count": 1284,
     "metadata": {},
     "output_type": "execute_result"
    }
   ],
   "source": [
    "\n",
    "#two hundred and fifty first function is np.isnat\n",
    "\n",
    "np.isnat(np.array([\"NaT\", \"2016-01-01\"], dtype=\"datetime64[ns]\"))\n"
   ],
   "metadata": {
    "collapsed": false,
    "pycharm": {
     "name": "#%%\n"
    }
   }
  },
  {
   "cell_type": "code",
   "execution_count": 1285,
   "outputs": [
    {
     "data": {
      "text/plain": "array([False,  True,  True, False])"
     },
     "execution_count": 1285,
     "metadata": {},
     "output_type": "execute_result"
    }
   ],
   "source": [
    "\n",
    "#two hundred and fifty first function is np.isinf\n",
    "\n",
    "np.isinf([-1, -np.inf, np.inf, np.nan])\n",
    "\n"
   ],
   "metadata": {
    "collapsed": false,
    "pycharm": {
     "name": "#%%\n"
    }
   }
  },
  {
   "cell_type": "code",
   "execution_count": 1286,
   "outputs": [
    {
     "name": "stdout",
     "output_type": "stream",
     "text": [
      "Floating point error (invalid value), with flag 8\n"
     ]
    },
    {
     "data": {
      "text/plain": "array([ True,  True,  True, False])"
     },
     "execution_count": 1286,
     "metadata": {},
     "output_type": "execute_result"
    }
   ],
   "source": [
    "\n",
    "#two hundred and fifty second function is np.isnan\n",
    "\n",
    "np.isnan([np.nan, -np.nan, np.sqrt(-4), 2])\n"
   ],
   "metadata": {
    "collapsed": false,
    "pycharm": {
     "name": "#%%\n"
    }
   }
  },
  {
   "cell_type": "code",
   "execution_count": 1287,
   "outputs": [
    {
     "data": {
      "text/plain": "array([ True, False])"
     },
     "execution_count": 1287,
     "metadata": {},
     "output_type": "execute_result"
    }
   ],
   "source": [
    "\n",
    "#two hundred and fifty third function is np.isnat\n",
    "\n",
    "np.isnat(np.array(['NaT', '2022-10-10'], dtype=np.datetime64))"
   ],
   "metadata": {
    "collapsed": false,
    "pycharm": {
     "name": "#%%\n"
    }
   }
  },
  {
   "cell_type": "code",
   "execution_count": 1288,
   "outputs": [
    {
     "data": {
      "text/plain": "array([ True, False,  True])"
     },
     "execution_count": 1288,
     "metadata": {},
     "output_type": "execute_result"
    }
   ],
   "source": [
    "\n",
    "#two hundred and fifty fourth function is np.isneginf\n",
    "\n",
    "np.isneginf([np.NINF, np.inf, -np.inf])\n"
   ],
   "metadata": {
    "collapsed": false,
    "pycharm": {
     "name": "#%%\n"
    }
   }
  },
  {
   "cell_type": "code",
   "execution_count": 1289,
   "outputs": [
    {
     "data": {
      "text/plain": "array([ True,  True, False])"
     },
     "execution_count": 1289,
     "metadata": {},
     "output_type": "execute_result"
    }
   ],
   "source": [
    "\n",
    "#two hundred and fifty fifth function is np.isposinf\n",
    "np.isposinf([np.PINF, np.inf, -np.inf])\n"
   ],
   "metadata": {
    "collapsed": false,
    "pycharm": {
     "name": "#%%\n"
    }
   }
  },
  {
   "cell_type": "code",
   "execution_count": 1290,
   "outputs": [
    {
     "data": {
      "text/plain": "array([False,  True,  True,  True,  True,  True])"
     },
     "execution_count": 1290,
     "metadata": {},
     "output_type": "execute_result"
    }
   ],
   "source": [
    "\n",
    "#two hundred and fifty sixth function is np.isreal\n",
    "a = np.array([1j,1+0j,1,2,3,0],dtype=complex)\n",
    "np.isreal(a)"
   ],
   "metadata": {
    "collapsed": false,
    "pycharm": {
     "name": "#%%\n"
    }
   }
  },
  {
   "cell_type": "code",
   "execution_count": 1291,
   "outputs": [
    {
     "name": "stdout",
     "output_type": "stream",
     "text": [
      "0 is --> True\n",
      "1 is --> True\n",
      "2 is --> True\n",
      "1j is --> False\n",
      "(1+2j) is --> False\n",
      "(1+0j) is --> False\n",
      "None is --> True\n",
      "True is --> True\n",
      "False is --> True\n",
      "this is str is --> True\n"
     ]
    }
   ],
   "source": [
    "\n",
    "#two hundred and fifty seventh function is np.isrealobj\n",
    "a = np.array([0,1,2,1j,1+2j,1+0j,None,True,False,'this is str'])\n",
    "for i in a:\n",
    "    print(f\"{i} is --> {np.isrealobj(i)}\")\n"
   ],
   "metadata": {
    "collapsed": false,
    "pycharm": {
     "name": "#%%\n"
    }
   }
  },
  {
   "cell_type": "code",
   "execution_count": 1292,
   "outputs": [
    {
     "name": "stdout",
     "output_type": "stream",
     "text": [
      "0 is ---> True\n",
      "1 is ---> True\n",
      "2.2 is ---> True\n",
      "True is ---> True\n",
      "False is ---> True\n",
      "[] is ---> False\n",
      "() is ---> False\n",
      "this is str is ---> True\n"
     ]
    },
    {
     "name": "stderr",
     "output_type": "stream",
     "text": [
      "C:\\Users\\Student\\AppData\\Local\\Temp\\ipykernel_1156\\2937082244.py:3: VisibleDeprecationWarning: Creating an ndarray from ragged nested sequences (which is a list-or-tuple of lists-or-tuples-or ndarrays with different lengths or shapes) is deprecated. If you meant to do this, you must specify 'dtype=object' when creating the ndarray.\n",
      "  a = np.array([0,1,2.2,True,False,[],(),'this is str'])\n"
     ]
    }
   ],
   "source": [
    "\n",
    "#two hundred and fifty eighth function is np.isscalar\n",
    "\n",
    "a = np.array([0,1,2.2,True,False,[],(),'this is str'])\n",
    "for i in a:\n",
    "    print(f\"{i} is ---> {np.isscalar(i)}\")\n"
   ],
   "metadata": {
    "collapsed": false,
    "pycharm": {
     "name": "#%%\n"
    }
   }
  },
  {
   "cell_type": "code",
   "execution_count": 1293,
   "outputs": [
    {
     "name": "stdout",
     "output_type": "stream",
     "text": [
      "True\n"
     ]
    },
    {
     "data": {
      "text/plain": "False"
     },
     "execution_count": 1293,
     "metadata": {},
     "output_type": "execute_result"
    }
   ],
   "source": [
    "\n",
    "#two hundred and fifty ninth function is np.issctype\n",
    "print(np.issctype(np.int32))\n",
    "np.issctype(1)"
   ],
   "metadata": {
    "collapsed": false,
    "pycharm": {
     "name": "#%%\n"
    }
   }
  },
  {
   "cell_type": "code",
   "execution_count": 1294,
   "outputs": [
    {
     "name": "stdout",
     "output_type": "stream",
     "text": [
      "False\n",
      "False\n",
      "True\n"
     ]
    }
   ],
   "source": [
    "\n",
    "#two hundred and sixtieth function is np.issubclass_\n",
    "print(np.issubclass_(np.int64, int))\n",
    "print(np.issubclass_(np.string_, str))\n",
    "print(np.issubclass_(np.float64, float))\n"
   ],
   "metadata": {
    "collapsed": false,
    "pycharm": {
     "name": "#%%\n"
    }
   }
  },
  {
   "cell_type": "code",
   "execution_count": 1295,
   "outputs": [
    {
     "name": "stdout",
     "output_type": "stream",
     "text": [
      "False\n",
      "False\n",
      "True\n",
      "True\n"
     ]
    }
   ],
   "source": [
    "\n",
    "#two hundred and sixty first function is np.issubdtype\n",
    "print(np.issubdtype(np.integer, np.int32))\n",
    "print(np.issubdtype(np.floating, np.float32))\n",
    "print(np.issubdtype(np.float64, np.floating))\n",
    "print(np.issubdtype('S1', np.string_))\n"
   ],
   "metadata": {
    "collapsed": false,
    "pycharm": {
     "name": "#%%\n"
    }
   }
  },
  {
   "cell_type": "code",
   "execution_count": 1296,
   "outputs": [
    {
     "name": "stdout",
     "output_type": "stream",
     "text": [
      "False\n",
      "True\n"
     ]
    }
   ],
   "source": [
    "\n",
    "#two hundred and sixty second function is np.issubsctype\n",
    "print(np.issctype(('S1', np.string_)))\n",
    "print(np.issubsctype(np.array([1]), int))\n"
   ],
   "metadata": {
    "collapsed": false,
    "pycharm": {
     "name": "#%%\n"
    }
   }
  },
  {
   "cell_type": "code",
   "execution_count": 1297,
   "outputs": [
    {
     "name": "stdout",
     "output_type": "stream",
     "text": [
      "True\n",
      "False\n"
     ]
    }
   ],
   "source": [
    "\n",
    "#two hundred and sixty third function is np.iterable\n",
    "print(np.iterable([1,2,3]))\n",
    "print(np.iterable(1))\n"
   ],
   "metadata": {
    "collapsed": false,
    "pycharm": {
     "name": "#%%\n"
    }
   }
  },
  {
   "cell_type": "code",
   "execution_count": 1298,
   "outputs": [
    {
     "data": {
      "text/plain": "(array([[1],\n        [3]]),\n array([[2, 5]]))"
     },
     "execution_count": 1298,
     "metadata": {},
     "output_type": "execute_result"
    }
   ],
   "source": [
    "\n",
    "#two hundred and sixty fourth function is np.ix_\n",
    "np.ix_([1,3],[2,5])\n"
   ],
   "metadata": {
    "collapsed": false,
    "pycharm": {
     "name": "#%%\n"
    }
   }
  },
  {
   "cell_type": "code",
   "execution_count": 1299,
   "outputs": [
    {
     "data": {
      "text/plain": "[<matplotlib.lines.Line2D at 0x29c8ad52800>]"
     },
     "execution_count": 1299,
     "metadata": {},
     "output_type": "execute_result"
    },
    {
     "data": {
      "text/plain": "<Figure size 640x480 with 1 Axes>",
      "image/png": "[encoded data removed]"
     },
     "metadata": {},
     "output_type": "display_data"
    }
   ],
   "source": [
    "\n",
    "#two hundred and sixty fifth function is np.kaiser\n",
    "import matplotlib.pyplot as plt\n",
    "a = np.kaiser(12,14)\n",
    "plt.plot(a)"
   ],
   "metadata": {
    "collapsed": false,
    "pycharm": {
     "name": "#%%\n"
    }
   }
  },
  {
   "cell_type": "code",
   "execution_count": 1300,
   "outputs": [
    {
     "name": "stdout",
     "output_type": "stream",
     "text": [
      "[  1  10 100   2  20 200   3  30 300]\n",
      "[array([  1,  10, 100,   2,  20, 200,   3,  30, 300]), array([300,  30,   3, 200,  20,   2, 100,  10,   1])]\n"
     ]
    },
    {
     "data": {
      "text/plain": "[<matplotlib.lines.Line2D at 0x29c8addcd00>,\n <matplotlib.lines.Line2D at 0x29c8addcd60>,\n <matplotlib.lines.Line2D at 0x29c8addcd90>,\n <matplotlib.lines.Line2D at 0x29c8addce80>,\n <matplotlib.lines.Line2D at 0x29c8addcf70>,\n <matplotlib.lines.Line2D at 0x29c8addd060>,\n <matplotlib.lines.Line2D at 0x29c8addd150>,\n <matplotlib.lines.Line2D at 0x29c8addd240>,\n <matplotlib.lines.Line2D at 0x29c8addd330>]"
     },
     "execution_count": 1300,
     "metadata": {},
     "output_type": "execute_result"
    },
    {
     "data": {
      "text/plain": "<Figure size 640x480 with 1 Axes>",
      "image/png": "[encoded data removed]"
     },
     "metadata": {},
     "output_type": "display_data"
    }
   ],
   "source": [
    "\n",
    "#two hundred and sixty sixth function is np.kron\\\n",
    "import matplotlib.pyplot as plt\n",
    "a = np.kron([1,2,3], [1,10,100])\n",
    "print(a)\n",
    "print([a, a[::-1]])\n",
    "plt.plot([a, a[::-1]])\n"
   ],
   "metadata": {
    "collapsed": false,
    "pycharm": {
     "name": "#%%\n"
    }
   }
  },
  {
   "cell_type": "code",
   "execution_count": 1301,
   "outputs": [
    {
     "name": "stdout",
     "output_type": "stream",
     "text": [
      "60\n",
      "10\n",
      "10\n"
     ]
    }
   ],
   "source": [
    "\n",
    "#two hundred and sixty seventh function is np.lcm\n",
    "print(np.lcm(10,12))\n",
    "print(np.lcm(2,10))\n",
    "print(np.lcm(1,10))\n"
   ],
   "metadata": {
    "collapsed": false,
    "pycharm": {
     "name": "#%%\n"
    }
   }
  },
  {
   "cell_type": "code",
   "execution_count": 1302,
   "outputs": [
    {
     "name": "stdout",
     "output_type": "stream",
     "text": [
      "[1024. 2048. 3072.]\n",
      "[1024, 2048, 3072]\n"
     ]
    }
   ],
   "source": [
    "\n",
    "#two hundred and sixty eighth function is np.ldexp\n",
    "\n",
    "a = [1,2,3]\n",
    "print(np.ldexp(a, 10))\n",
    "print([i*2**10 for i in a])"
   ],
   "metadata": {
    "collapsed": false,
    "pycharm": {
     "name": "#%%\n"
    }
   }
  },
  {
   "cell_type": "code",
   "execution_count": 1303,
   "outputs": [
    {
     "name": "stdout",
     "output_type": "stream",
     "text": [
      "8192\n",
      "8192\n"
     ]
    }
   ],
   "source": [
    "\n",
    "#two hundred and sixty ninth function is np.left_shift\n",
    "def this_func(x1, x2):\n",
    "    return x1*2**x2\n",
    "\n",
    "print(np.left_shift(2,12))\n",
    "print(this_func(2,12))\n"
   ],
   "metadata": {
    "collapsed": false,
    "pycharm": {
     "name": "#%%\n"
    }
   }
  },
  {
   "cell_type": "code",
   "execution_count": 1304,
   "outputs": [
    {
     "data": {
      "text/plain": "array([ True, False, False])"
     },
     "execution_count": 1304,
     "metadata": {},
     "output_type": "execute_result"
    }
   ],
   "source": [
    "\n",
    "#two hundred and seventieth function is np.less\n",
    "np.less([1,2,3], [2,1,3])\n"
   ],
   "metadata": {
    "collapsed": false,
    "pycharm": {
     "name": "#%%\n"
    }
   }
  },
  {
   "cell_type": "code",
   "execution_count": 1305,
   "outputs": [
    {
     "data": {
      "text/plain": "array([ True, False,  True])"
     },
     "execution_count": 1305,
     "metadata": {},
     "output_type": "execute_result"
    }
   ],
   "source": [
    "\n",
    "#two hundred and seventy first function is np.less_equal\n",
    "np.less_equal([1,2,3], [2,1,3])\n"
   ],
   "metadata": {
    "collapsed": false,
    "pycharm": {
     "name": "#%%\n"
    }
   }
  },
  {
   "cell_type": "code",
   "execution_count": 1306,
   "outputs": [
    {
     "name": "stdout",
     "output_type": "stream",
     "text": [
      "[1 0 2]\n",
      "['hello2 -- hi1', 'hello1 -- hi2', 'iqrorjon -- islomov']\n"
     ]
    }
   ],
   "source": [
    "\n",
    "#two hundred and seventy second function is np.lexsort\n",
    "a = ['hello1', 'hello2', 'iqrorjon']\n",
    "b = ['hi2', 'hi1', 'islomov']\n",
    "print(np.lexsort((a, b)))\n",
    "print([f\"{a[i]} -- {b[i]}\" for i in np.lexsort((a, b))])"
   ],
   "metadata": {
    "collapsed": false,
    "pycharm": {
     "name": "#%%\n"
    }
   }
  },
  {
   "cell_type": "code",
   "execution_count": 1307,
   "outputs": [
    {
     "data": {
      "text/plain": "'1.23.2'"
     },
     "execution_count": 1307,
     "metadata": {},
     "output_type": "execute_result"
    }
   ],
   "source": [
    "\n",
    "#two hundred and seventy third function is np.lib\n",
    "\n",
    "np.lib.__version__\n"
   ],
   "metadata": {
    "collapsed": false,
    "pycharm": {
     "name": "#%%\n"
    }
   }
  },
  {
   "cell_type": "code",
   "execution_count": 1308,
   "outputs": [
    {
     "data": {
      "text/plain": "(array([3., 3., 3.]),\n array([[1., 0., 0.],\n        [0., 1., 0.],\n        [0., 0., 1.]]))"
     },
     "execution_count": 1308,
     "metadata": {},
     "output_type": "execute_result"
    }
   ],
   "source": [
    "\n",
    "#two hundred and seventy fourth function is np.linalg\n",
    "np.linalg.eig(np.diag((3,3,3)))\n"
   ],
   "metadata": {
    "collapsed": false,
    "pycharm": {
     "name": "#%%\n"
    }
   }
  },
  {
   "cell_type": "code",
   "execution_count": 1309,
   "outputs": [
    {
     "data": {
      "text/plain": "array([ 2.        ,  3.33333333,  4.66666667,  6.        ,  7.33333333,\n        8.66666667, 10.        ])"
     },
     "execution_count": 1309,
     "metadata": {},
     "output_type": "execute_result"
    }
   ],
   "source": [
    "\n",
    "#two hundred and seventy fifth function is np.linspace\n",
    "\n",
    "np.linspace(2.0, 10.0, num=7)\n"
   ],
   "metadata": {
    "collapsed": false,
    "pycharm": {
     "name": "#%%\n"
    }
   }
  },
  {
   "cell_type": "code",
   "execution_count": 1310,
   "outputs": [
    {
     "data": {
      "text/plain": "True"
     },
     "execution_count": 1310,
     "metadata": {},
     "output_type": "execute_result"
    }
   ],
   "source": [
    "\n",
    "#two hundred and seventy sixth function is np.little_endian\n",
    "\n",
    "np.little_endian\n"
   ],
   "metadata": {
    "collapsed": false,
    "pycharm": {
     "name": "#%%\n"
    }
   }
  },
  {
   "cell_type": "code",
   "execution_count": 1311,
   "outputs": [
    {
     "name": "stdout",
     "output_type": "stream",
     "text": [
      "[[1 2 3]\n",
      " [4 5 6]]\n",
      "[[0 1 2 3 4]\n",
      " [5 6 7 8 9]]\n"
     ]
    }
   ],
   "source": [
    "\n",
    "#two hundred and seventy seventh function is np.load\n",
    "\n",
    "a = np.array([[1,2,3],\n",
    "              [4,5,6]])\n",
    "b = np.arange(10).reshape(2,5)\n",
    "\n",
    "np.savez('./saved_np_file.npz', a=a, b=b)\n",
    "array = np.load('./saved_np_file.npz')\n",
    "print(array['a'])\n",
    "print(array['b'])\n"
   ],
   "metadata": {
    "collapsed": false,
    "pycharm": {
     "name": "#%%\n"
    }
   }
  },
  {
   "cell_type": "code",
   "execution_count": 1312,
   "outputs": [
    {
     "data": {
      "text/plain": "array([[1., 2., 3.],\n       [4., 5., 6.]])"
     },
     "execution_count": 1312,
     "metadata": {},
     "output_type": "execute_result"
    }
   ],
   "source": [
    "\n",
    "#two hundred and seventy eighth function is np.loadtxt\n",
    "\n",
    "from io import StringIO\n",
    "\n",
    "txt = StringIO(\"1 2 3\\n4 5 6\")\n",
    "np.loadtxt(txt)"
   ],
   "metadata": {
    "collapsed": false,
    "pycharm": {
     "name": "#%%\n"
    }
   }
  },
  {
   "cell_type": "code",
   "execution_count": 1313,
   "outputs": [
    {
     "data": {
      "text/plain": "array([0.        , 0.69314718, 1.09861229])"
     },
     "execution_count": 1313,
     "metadata": {},
     "output_type": "execute_result"
    }
   ],
   "source": [
    "\n",
    "#two hundred and seventy ninth function is np.log\n",
    "np.log([1,2,3])\n"
   ],
   "metadata": {
    "collapsed": false,
    "pycharm": {
     "name": "#%%\n"
    }
   }
  },
  {
   "cell_type": "code",
   "execution_count": 1314,
   "outputs": [
    {
     "name": "stdout",
     "output_type": "stream",
     "text": [
      "['0.3010299956639812 --> 2.0', '0.47712125471966244 --> 3.0', '0.6020599913279624 --> 4.0']\n"
     ]
    }
   ],
   "source": [
    "\n",
    "#two hundred and eightieth function is np.log10\n",
    "x = np.log10([2,3,4])\n",
    "print([f\"{i} --> {10**i}\" for i in x])"
   ],
   "metadata": {
    "collapsed": false,
    "pycharm": {
     "name": "#%%\n"
    }
   }
  },
  {
   "cell_type": "code",
   "execution_count": 1315,
   "outputs": [
    {
     "name": "stdout",
     "output_type": "stream",
     "text": [
      "[1.09861229 1.38629436 1.60943791]\n"
     ]
    }
   ],
   "source": [
    "\n",
    "#two hundred and eighty first function is np.log1p\n",
    "print(np.log1p([2,3,4]))\n"
   ],
   "metadata": {
    "collapsed": false,
    "pycharm": {
     "name": "#%%\n"
    }
   }
  },
  {
   "cell_type": "code",
   "execution_count": 1316,
   "outputs": [
    {
     "name": "stdout",
     "output_type": "stream",
     "text": [
      "[0.        1.        1.5849625 2.       ]\n",
      "['1.0', '2.0', '3.0', '4.0']\n"
     ]
    }
   ],
   "source": [
    "\n",
    "#two hundred and eighty second function is np.log2\n",
    "print(np.log2([1,2,3,4]))\n",
    "print([f\"{np.float32(np.sqrt(i)**2)}\" for i in [1,2,3,4]])\n"
   ],
   "metadata": {
    "collapsed": false,
    "pycharm": {
     "name": "#%%\n"
    }
   }
  },
  {
   "cell_type": "code",
   "execution_count": 1317,
   "outputs": [
    {
     "name": "stdout",
     "output_type": "stream",
     "text": [
      "2.313261687518223\n",
      "2.3132616875182226\n"
     ]
    }
   ],
   "source": [
    "\n",
    "#two hundred and eighty third function is np.logaddexp\n",
    "print(np.logaddexp(1,2))\n",
    "print(np.log(np.exp(1) + np.exp(2)))"
   ],
   "metadata": {
    "collapsed": false,
    "pycharm": {
     "name": "#%%\n"
    }
   }
  },
  {
   "cell_type": "code",
   "execution_count": 1318,
   "outputs": [
    {
     "name": "stdout",
     "output_type": "stream",
     "text": [
      "2.584962500721156\n",
      "2.584962500721156\n"
     ]
    }
   ],
   "source": [
    "\n",
    "#two hundred and eighty fourth function is np.logaddexp2\n",
    "print(np.logaddexp2(1,2))\n",
    "print(np.log2(2**1 + 2**2))"
   ],
   "metadata": {
    "collapsed": false,
    "pycharm": {
     "name": "#%%\n"
    }
   }
  },
  {
   "cell_type": "code",
   "execution_count": 1319,
   "outputs": [
    {
     "data": {
      "text/plain": "array([ True, False, False])"
     },
     "execution_count": 1319,
     "metadata": {},
     "output_type": "execute_result"
    }
   ],
   "source": [
    "\n",
    "#two hundred and eighty fifth function is np.logical_and\n",
    "\n",
    "a = [True, True, False]\n",
    "b = [True, False, False]\n",
    "np.logical_and(a,b)\n"
   ],
   "metadata": {
    "collapsed": false,
    "pycharm": {
     "name": "#%%\n"
    }
   }
  },
  {
   "cell_type": "code",
   "execution_count": 1320,
   "outputs": [
    {
     "data": {
      "text/plain": "array([False,  True,  True, False])"
     },
     "execution_count": 1320,
     "metadata": {},
     "output_type": "execute_result"
    }
   ],
   "source": [
    "\n",
    "#two hundred and eighty sixth function is np.logical_not\n",
    "\n",
    "np.logical_not([True, False, 0, 1])\n",
    "\n"
   ],
   "metadata": {
    "collapsed": false,
    "pycharm": {
     "name": "#%%\n"
    }
   }
  },
  {
   "cell_type": "code",
   "execution_count": 1321,
   "outputs": [
    {
     "data": {
      "text/plain": "array([ True,  True, False])"
     },
     "execution_count": 1321,
     "metadata": {},
     "output_type": "execute_result"
    }
   ],
   "source": [
    "\n",
    "#two hundred and eighty seventh function is np.logical_or\n",
    "\n",
    "a = [True, True, False]\n",
    "b = [True, False, False]\n",
    "np.logical_or(a,b)\n"
   ],
   "metadata": {
    "collapsed": false,
    "pycharm": {
     "name": "#%%\n"
    }
   }
  },
  {
   "cell_type": "code",
   "execution_count": 1322,
   "outputs": [
    {
     "data": {
      "text/plain": "array([False,  True, False])"
     },
     "execution_count": 1322,
     "metadata": {},
     "output_type": "execute_result"
    }
   ],
   "source": [
    "\n",
    "#two hundred and eighty eighth function is np.logical_xor\n",
    "\n",
    "a = [True, True, False]\n",
    "b = [True, False, False]\n",
    "np.logical_xor(a,b)\n"
   ],
   "metadata": {
    "collapsed": false,
    "pycharm": {
     "name": "#%%\n"
    }
   }
  },
  {
   "cell_type": "code",
   "execution_count": 1323,
   "outputs": [
    {
     "data": {
      "text/plain": "array([  100.        ,   316.22776602,  1000.        ,  3162.27766017,\n       10000.        ])"
     },
     "execution_count": 1323,
     "metadata": {},
     "output_type": "execute_result"
    }
   ],
   "source": [
    "\n",
    "#two hundred and eighty ninth function is np.logspace\n",
    "np.logspace(2.0, 4.0, num=5)\n",
    "\n"
   ],
   "metadata": {
    "collapsed": false,
    "pycharm": {
     "name": "#%%\n"
    }
   }
  },
  {
   "cell_type": "code",
   "execution_count": 1324,
   "outputs": [
    {
     "data": {
      "text/plain": "(123+0j)"
     },
     "execution_count": 1324,
     "metadata": {},
     "output_type": "execute_result"
    }
   ],
   "source": [
    "\n",
    "#two hundred and ninetieth function is np.longcomplex\n",
    "np.longcomplex(123)\n"
   ],
   "metadata": {
    "collapsed": false,
    "pycharm": {
     "name": "#%%\n"
    }
   }
  },
  {
   "cell_type": "code",
   "execution_count": 1325,
   "outputs": [
    {
     "data": {
      "text/plain": "123.0"
     },
     "execution_count": 1325,
     "metadata": {},
     "output_type": "execute_result"
    }
   ],
   "source": [
    "\n",
    "#two hundred and ninety first function is np.longdouble\n",
    "np.longdouble(123)\n"
   ],
   "metadata": {
    "collapsed": false,
    "pycharm": {
     "name": "#%%\n"
    }
   }
  },
  {
   "cell_type": "code",
   "execution_count": 1326,
   "outputs": [
    {
     "data": {
      "text/plain": "123.0"
     },
     "execution_count": 1326,
     "metadata": {},
     "output_type": "execute_result"
    }
   ],
   "source": [
    "\n",
    "#two hundred and ninety second function is np.longfloat\n",
    "np.longfloat(123)\n"
   ],
   "metadata": {
    "collapsed": false,
    "pycharm": {
     "name": "#%%\n"
    }
   }
  },
  {
   "cell_type": "code",
   "execution_count": 1327,
   "outputs": [
    {
     "data": {
      "text/plain": "123"
     },
     "execution_count": 1327,
     "metadata": {},
     "output_type": "execute_result"
    }
   ],
   "source": [
    "\n",
    "#two hundred and ninety third function is np.longlong\n",
    "np.longlong(123)\n"
   ],
   "metadata": {
    "collapsed": false,
    "pycharm": {
     "name": "#%%\n"
    }
   }
  },
  {
   "cell_type": "code",
   "execution_count": 1328,
   "outputs": [
    {
     "name": "stdout",
     "output_type": "stream",
     "text": [
      "Search results for 'numpy lookfor function'\n",
      "-------------------------------------------\n",
      "numpy.info\n",
      "    Get help information for a function, class, or module.\n",
      "numpy.source\n",
      "    Print or write to a file the source code for a NumPy object.\n",
      "numpy.lookfor\n",
      "    Do a keyword search on docstrings.\n"
     ]
    }
   ],
   "source": [
    "\n",
    "#two hundred and ninety fourth function is np.lookfor\n",
    "np.lookfor('numpy lookfor function')\n"
   ],
   "metadata": {
    "collapsed": false,
    "pycharm": {
     "name": "#%%\n"
    }
   }
  },
  {
   "cell_type": "code",
   "execution_count": 1329,
   "outputs": [
    {
     "name": "stdout",
     "output_type": "stream",
     "text": [
      "array : --\n",
      "array : [1 2 3 4]\n"
     ]
    }
   ],
   "source": [
    "\n",
    "#two hundred and ninety fifth function is np.ma\n",
    "a = np.array([1,2,3,4])\n",
    "x = np.ma.masked_array(a, mask=[10,20,30,40])\n",
    "print(f\"array : {x.mean()}\")\n",
    "x.mask = False\n",
    "print(f\"array : {x}\")\n"
   ],
   "metadata": {
    "collapsed": false,
    "pycharm": {
     "name": "#%%\n"
    }
   }
  },
  {
   "cell_type": "code",
   "execution_count": 1330,
   "outputs": [
    {
     "data": {
      "text/plain": "(array([0, 0, 0, 1, 1, 2], dtype=int64),\n array([0, 1, 2, 1, 2, 2], dtype=int64))"
     },
     "execution_count": 1330,
     "metadata": {},
     "output_type": "execute_result"
    }
   ],
   "source": [
    "\n",
    "#two hundred and ninety sixth function is np.mask_indices\n",
    "\n",
    "np.mask_indices(3,np.triu)"
   ],
   "metadata": {
    "collapsed": false,
    "pycharm": {
     "name": "#%%\n"
    }
   }
  },
  {
   "cell_type": "code",
   "execution_count": 1331,
   "outputs": [
    {
     "name": "stdout",
     "output_type": "stream",
     "text": [
      "[1 2 3]\n",
      "[[1 2 3]]\n"
     ]
    }
   ],
   "source": [
    "\n",
    "#two hundred and ninety seventh function is np.mat\n",
    "a = np.array([1,2,3])\n",
    "b = a.copy()\n",
    "print(b)\n",
    "\n",
    "a = np.matrix(a)\n",
    "print(a)"
   ],
   "metadata": {
    "collapsed": false,
    "pycharm": {
     "name": "#%%\n"
    }
   }
  },
  {
   "cell_type": "code",
   "execution_count": 1332,
   "outputs": [
    {
     "data": {
      "text/plain": "-0.45990349068959124"
     },
     "execution_count": 1332,
     "metadata": {},
     "output_type": "execute_result"
    }
   ],
   "source": [
    "\n",
    "#two hundred and ninety eighth function is np.math\n",
    "np.math.sin(123)\n"
   ],
   "metadata": {
    "collapsed": false,
    "pycharm": {
     "name": "#%%\n"
    }
   }
  },
  {
   "cell_type": "code",
   "execution_count": 1333,
   "outputs": [
    {
     "data": {
      "text/plain": "32"
     },
     "execution_count": 1333,
     "metadata": {},
     "output_type": "execute_result"
    }
   ],
   "source": [
    "\n",
    "#two hundred and ninety ninth function is np.matmul\n",
    "a = np.array([1,2,3])\n",
    "b = np.array([4,5,6])\n",
    "np.matmul(a,b)\n"
   ],
   "metadata": {
    "collapsed": false,
    "pycharm": {
     "name": "#%%\n"
    }
   }
  },
  {
   "cell_type": "code",
   "execution_count": 1334,
   "outputs": [
    {
     "data": {
      "text/plain": "matrix([[1, 2, 3]])"
     },
     "execution_count": 1334,
     "metadata": {},
     "output_type": "execute_result"
    }
   ],
   "source": [
    "\n",
    "#three hundredth function is np.matrix\n",
    "np.matrix([1,2,3])\n"
   ],
   "metadata": {
    "collapsed": false,
    "pycharm": {
     "name": "#%%\n"
    }
   }
  },
  {
   "cell_type": "code",
   "execution_count": 1335,
   "outputs": [
    {
     "data": {
      "text/plain": "matrix([[1, 2, 3]])"
     },
     "execution_count": 1335,
     "metadata": {},
     "output_type": "execute_result"
    }
   ],
   "source": [
    "\n",
    "#three hundred and first function is np.matrixlib\n",
    "np.matrixlib.asmatrix(np.array([1,2,3]))\n"
   ],
   "metadata": {
    "collapsed": false,
    "pycharm": {
     "name": "#%%\n"
    }
   }
  },
  {
   "cell_type": "code",
   "execution_count": 1336,
   "outputs": [
    {
     "data": {
      "text/plain": "4"
     },
     "execution_count": 1336,
     "metadata": {},
     "output_type": "execute_result"
    }
   ],
   "source": [
    "\n",
    "#three hundred and second function is np.max\n",
    "a = np.array([1,2,3,4])\n",
    "np.max(a)"
   ],
   "metadata": {
    "collapsed": false,
    "pycharm": {
     "name": "#%%\n"
    }
   }
  },
  {
   "cell_type": "code",
   "execution_count": 1337,
   "outputs": [
    {
     "data": {
      "text/plain": "array([5, 2, 4, 4])"
     },
     "execution_count": 1337,
     "metadata": {},
     "output_type": "execute_result"
    }
   ],
   "source": [
    "\n",
    "#three hundred and third function is np.maximum\n",
    "a = np.array([1,2,3,4])\n",
    "b = np.array([5,2,4,1])\n",
    "np.maximum(a,b)\n"
   ],
   "metadata": {
    "collapsed": false,
    "pycharm": {
     "name": "#%%\n"
    }
   }
  },
  {
   "cell_type": "code",
   "execution_count": 1338,
   "outputs": [
    {
     "name": "stdout",
     "output_type": "stream",
     "text": [
      "<class 'numpy.int64'>\n",
      "<class 'numpy.float64'>\n",
      "<class 'numpy.complex128'>\n"
     ]
    }
   ],
   "source": [
    "\n",
    "#three hundred and fourth function is np.maximum_sctype\n",
    "print(np.maximum_sctype(int))\n",
    "print(np.maximum_sctype(float))\n",
    "print(np.maximum_sctype(complex))\n"
   ],
   "metadata": {
    "collapsed": false,
    "pycharm": {
     "name": "#%%\n"
    }
   }
  },
  {
   "cell_type": "code",
   "execution_count": 1339,
   "outputs": [
    {
     "name": "stdout",
     "output_type": "stream",
     "text": [
      "False\n",
      "True\n"
     ]
    }
   ],
   "source": [
    "\n",
    "#three hundred and fifth function is np.may_share_memory\n",
    "print(np.may_share_memory(np.array([1,2,3]), np.array([4,5,6])))\n",
    "x = np.zeros([3, 4])\n",
    "print(np.may_share_memory(x[:,0], x[:,1]))\n"
   ],
   "metadata": {
    "collapsed": false,
    "pycharm": {
     "name": "#%%\n"
    }
   }
  },
  {
   "cell_type": "code",
   "execution_count": 1340,
   "outputs": [
    {
     "data": {
      "text/plain": "2.5"
     },
     "execution_count": 1340,
     "metadata": {},
     "output_type": "execute_result"
    }
   ],
   "source": [
    "\n",
    "#three hundred and sixth function is np.mean\n",
    "np.mean([1,2,3,4])\n"
   ],
   "metadata": {
    "collapsed": false,
    "pycharm": {
     "name": "#%%\n"
    }
   }
  },
  {
   "cell_type": "code",
   "execution_count": 1341,
   "outputs": [
    {
     "data": {
      "text/plain": "3.0"
     },
     "execution_count": 1341,
     "metadata": {},
     "output_type": "execute_result"
    }
   ],
   "source": [
    "\n",
    "#three hundred and seventh function is np.median\n",
    "np.median([1,2,3,4,5])\n"
   ],
   "metadata": {
    "collapsed": false,
    "pycharm": {
     "name": "#%%\n"
    }
   }
  },
  {
   "cell_type": "code",
   "execution_count": 1342,
   "outputs": [
    {
     "ename": "OSError",
     "evalue": "[WinError 8] Not enough memory resources are available to process this command",
     "output_type": "error",
     "traceback": [
      "\u001B[1;31m---------------------------------------------------------------------------\u001B[0m",
      "\u001B[1;31mOSError\u001B[0m                                   Traceback (most recent call last)",
      "Cell \u001B[1;32mIn [1342], line 5\u001B[0m\n\u001B[0;32m      3\u001B[0m \u001B[38;5;28;01mimport\u001B[39;00m \u001B[38;5;21;01mos\u001B[39;00m\u001B[38;5;21;01m.\u001B[39;00m\u001B[38;5;21;01mpath\u001B[39;00m \u001B[38;5;28;01mas\u001B[39;00m \u001B[38;5;21;01mpath\u001B[39;00m\n\u001B[0;32m      4\u001B[0m filename \u001B[38;5;241m=\u001B[39m path\u001B[38;5;241m.\u001B[39mjoin(mkdtemp(), \u001B[38;5;124m'\u001B[39m\u001B[38;5;124mnewfile.dat\u001B[39m\u001B[38;5;124m'\u001B[39m)\n\u001B[1;32m----> 5\u001B[0m \u001B[43mnp\u001B[49m\u001B[38;5;241;43m.\u001B[39;49m\u001B[43mmemmap\u001B[49m\u001B[43m(\u001B[49m\u001B[38;5;124;43m'\u001B[39;49m\u001B[38;5;124;43m./newfile.dat\u001B[39;49m\u001B[38;5;124;43m'\u001B[39;49m\u001B[43m,\u001B[49m\u001B[43m \u001B[49m\u001B[43mdtype\u001B[49m\u001B[38;5;241;43m=\u001B[39;49m\u001B[38;5;124;43m'\u001B[39;49m\u001B[38;5;124;43mfloat32\u001B[39;49m\u001B[38;5;124;43m'\u001B[39;49m\u001B[43m,\u001B[49m\u001B[43m \u001B[49m\u001B[43mmode\u001B[49m\u001B[38;5;241;43m=\u001B[39;49m\u001B[38;5;124;43m'\u001B[39;49m\u001B[38;5;124;43mr\u001B[39;49m\u001B[38;5;124;43m'\u001B[39;49m\u001B[43m,\u001B[49m\u001B[43m \u001B[49m\u001B[43mshape\u001B[49m\u001B[38;5;241;43m=\u001B[39;49m\u001B[43m(\u001B[49m\u001B[38;5;241;43m3\u001B[39;49m\u001B[43m,\u001B[49m\u001B[38;5;241;43m4\u001B[39;49m\u001B[43m)\u001B[49m\u001B[43m)\u001B[49m\n",
      "File \u001B[1;32m~\\AppData\\Local\\Programs\\Python\\Python310\\lib\\site-packages\\numpy\\core\\memmap.py:267\u001B[0m, in \u001B[0;36mmemmap.__new__\u001B[1;34m(subtype, filename, dtype, mode, offset, shape, order)\u001B[0m\n\u001B[0;32m    265\u001B[0m \u001B[38;5;28mbytes\u001B[39m \u001B[38;5;241m-\u001B[39m\u001B[38;5;241m=\u001B[39m start\n\u001B[0;32m    266\u001B[0m array_offset \u001B[38;5;241m=\u001B[39m offset \u001B[38;5;241m-\u001B[39m start\n\u001B[1;32m--> 267\u001B[0m mm \u001B[38;5;241m=\u001B[39m \u001B[43mmmap\u001B[49m\u001B[38;5;241;43m.\u001B[39;49m\u001B[43mmmap\u001B[49m\u001B[43m(\u001B[49m\u001B[43mfid\u001B[49m\u001B[38;5;241;43m.\u001B[39;49m\u001B[43mfileno\u001B[49m\u001B[43m(\u001B[49m\u001B[43m)\u001B[49m\u001B[43m,\u001B[49m\u001B[43m \u001B[49m\u001B[38;5;28;43mbytes\u001B[39;49m\u001B[43m,\u001B[49m\u001B[43m \u001B[49m\u001B[43maccess\u001B[49m\u001B[38;5;241;43m=\u001B[39;49m\u001B[43macc\u001B[49m\u001B[43m,\u001B[49m\u001B[43m \u001B[49m\u001B[43moffset\u001B[49m\u001B[38;5;241;43m=\u001B[39;49m\u001B[43mstart\u001B[49m\u001B[43m)\u001B[49m\n\u001B[0;32m    269\u001B[0m \u001B[38;5;28mself\u001B[39m \u001B[38;5;241m=\u001B[39m ndarray\u001B[38;5;241m.\u001B[39m\u001B[38;5;21m__new__\u001B[39m(subtype, shape, dtype\u001B[38;5;241m=\u001B[39mdescr, buffer\u001B[38;5;241m=\u001B[39mmm,\n\u001B[0;32m    270\u001B[0m                        offset\u001B[38;5;241m=\u001B[39marray_offset, order\u001B[38;5;241m=\u001B[39morder)\n\u001B[0;32m    271\u001B[0m \u001B[38;5;28mself\u001B[39m\u001B[38;5;241m.\u001B[39m_mmap \u001B[38;5;241m=\u001B[39m mm\n",
      "\u001B[1;31mOSError\u001B[0m: [WinError 8] Not enough memory resources are available to process this command"
     ]
    }
   ],
   "source": [
    "\n",
    "#three hundred and eighth function is np.memmap\n",
    "from tempfile import mkdtemp\n",
    "import os.path as path\n",
    "filename = path.join(mkdtemp(), 'newfile.dat')\n",
    "np.memmap('./newfile.dat', dtype='float32', mode='r', shape=(3,4))\n"
   ],
   "metadata": {
    "collapsed": false,
    "pycharm": {
     "name": "#%%\n"
    }
   }
  },
  {
   "cell_type": "code",
   "execution_count": null,
   "outputs": [],
   "source": [
    "\n",
    "#three hundred and ninth function is np.meshgrid\n",
    "np.meshgrid(2,3, indexing='xy')\n"
   ],
   "metadata": {
    "collapsed": false,
    "pycharm": {
     "name": "#%%\n"
    }
   }
  },
  {
   "cell_type": "code",
   "execution_count": 1343,
   "outputs": [
    {
     "data": {
      "text/plain": "array([[[-1, -1, -1],\n        [ 0,  0,  0],\n        [ 1,  1,  1],\n        [ 2,  2,  2]],\n\n       [[ 0,  1,  2],\n        [ 0,  1,  2],\n        [ 0,  1,  2],\n        [ 0,  1,  2]]])"
     },
     "execution_count": 1343,
     "metadata": {},
     "output_type": "execute_result"
    }
   ],
   "source": [
    "\n",
    "#three hundred and tenth function is np.mgrid\n",
    "np.mgrid[-1:3, 0:3]\n"
   ],
   "metadata": {
    "collapsed": false,
    "pycharm": {
     "name": "#%%\n"
    }
   }
  },
  {
   "cell_type": "code",
   "execution_count": 1344,
   "outputs": [
    {
     "data": {
      "text/plain": "1"
     },
     "execution_count": 1344,
     "metadata": {},
     "output_type": "execute_result"
    }
   ],
   "source": [
    "\n",
    "#three hundred and eleventh function is np.min\n",
    "\n",
    "np.min([1,2,3,4,5])\n"
   ],
   "metadata": {
    "collapsed": false,
    "pycharm": {
     "name": "#%%\n"
    }
   }
  },
  {
   "cell_type": "code",
   "execution_count": 1345,
   "outputs": [
    {
     "name": "stdout",
     "output_type": "stream",
     "text": [
      "uint8\n",
      "float16\n",
      "complex64\n"
     ]
    }
   ],
   "source": [
    "\n",
    "#three hundred and twelveth function is np.min_scalar_type\n",
    "print(np.min_scalar_type(12))\n",
    "print(np.min_scalar_type(12.0))\n",
    "print(np.min_scalar_type(12j))\n"
   ],
   "metadata": {
    "collapsed": false,
    "pycharm": {
     "name": "#%%\n"
    }
   }
  },
  {
   "cell_type": "code",
   "execution_count": 1346,
   "outputs": [
    {
     "data": {
      "text/plain": "array([1, 1, 2])"
     },
     "execution_count": 1346,
     "metadata": {},
     "output_type": "execute_result"
    }
   ],
   "source": [
    "\n",
    "#three hundred and thirteenth function is np.minimum\n",
    "np.minimum([1,2,3],\n",
    "           [4,1,2])\n"
   ],
   "metadata": {
    "collapsed": false,
    "pycharm": {
     "name": "#%%\n"
    }
   }
  },
  {
   "cell_type": "code",
   "execution_count": 1347,
   "outputs": [
    {
     "data": {
      "text/plain": "'g'"
     },
     "execution_count": 1347,
     "metadata": {},
     "output_type": "execute_result"
    }
   ],
   "source": [
    "\n",
    "#three hundred and fourteenth function is np.mintypecode\n",
    "np.mintypecode('abcdefghij')\n"
   ],
   "metadata": {
    "collapsed": false,
    "pycharm": {
     "name": "#%%\n"
    }
   }
  },
  {
   "cell_type": "code",
   "execution_count": 1348,
   "outputs": [
    {
     "data": {
      "text/plain": "array([0, 0, 1])"
     },
     "execution_count": 1348,
     "metadata": {},
     "output_type": "execute_result"
    }
   ],
   "source": [
    "\n",
    "#three hundred and fifteenth function is np.mod\n",
    "np.mod([1,2,3], [1,1,2])\n"
   ],
   "metadata": {
    "collapsed": false,
    "pycharm": {
     "name": "#%%\n"
    }
   }
  },
  {
   "cell_type": "code",
   "execution_count": 1349,
   "outputs": [
    {
     "data": {
      "text/plain": "(array([0., 0., 0.]), array([1., 2., 3.]))"
     },
     "execution_count": 1349,
     "metadata": {},
     "output_type": "execute_result"
    }
   ],
   "source": [
    "\n",
    "#three hundred and sixteenth function is np.modf\n",
    "np.modf([1,2,3])\n"
   ],
   "metadata": {
    "collapsed": false,
    "pycharm": {
     "name": "#%%\n"
    }
   }
  },
  {
   "cell_type": "code",
   "execution_count": 1350,
   "outputs": [
    {
     "name": "stdout",
     "output_type": "stream",
     "text": [
      "[[1 2 3]\n",
      " [4 5 6]] (2, 3)\n"
     ]
    },
    {
     "data": {
      "text/plain": "(3, 2)"
     },
     "execution_count": 1350,
     "metadata": {},
     "output_type": "execute_result"
    }
   ],
   "source": [
    "\n",
    "#three hundred and seventeenth function is np.moveaxis\n",
    "a = np.array([[1,2,3],\n",
    "              [4,5,6]])\n",
    "print(a, a.shape)\n",
    "\n",
    "np.moveaxis(a ,0, -1).shape"
   ],
   "metadata": {
    "collapsed": false,
    "pycharm": {
     "name": "#%%\n"
    }
   }
  },
  {
   "cell_type": "code",
   "execution_count": 1351,
   "outputs": [
    {
     "data": {
      "text/plain": "array([[ 4,  5,  3],\n       [12, 52,  6]])"
     },
     "execution_count": 1351,
     "metadata": {},
     "output_type": "execute_result"
    }
   ],
   "source": [
    "\n",
    "#three hundred and eighteenth function is np.msort\n",
    "np.msort([[12,52,3],\n",
    "          [4,5,6]])\n"
   ],
   "metadata": {
    "collapsed": false,
    "pycharm": {
     "name": "#%%\n"
    }
   }
  },
  {
   "cell_type": "code",
   "execution_count": 1352,
   "outputs": [
    {
     "data": {
      "text/plain": "array([ 4, 10, 18])"
     },
     "execution_count": 1352,
     "metadata": {},
     "output_type": "execute_result"
    }
   ],
   "source": [
    "\n",
    "#three hundred and nineteenth function is np.multiply\n",
    "\n",
    "np.multiply([1,2,3],\n",
    "            [4,5,6])"
   ],
   "metadata": {
    "collapsed": false,
    "pycharm": {
     "name": "#%%\n"
    }
   }
  },
  {
   "cell_type": "code",
   "execution_count": 1353,
   "outputs": [
    {
     "data": {
      "text/plain": "nan"
     },
     "execution_count": 1353,
     "metadata": {},
     "output_type": "execute_result"
    }
   ],
   "source": [
    "\n",
    "#three hundred and twentieth function is np.nan\n",
    "np.nan\n"
   ],
   "metadata": {
    "collapsed": false,
    "pycharm": {
     "name": "#%%\n"
    }
   }
  },
  {
   "cell_type": "code",
   "execution_count": 1354,
   "outputs": [
    {
     "data": {
      "text/plain": "array([ 0.00000000e+000+0.j,  1.79769313e+308+0.j, -1.79769313e+308+0.j,\n        0.00000000e+000+1.j])"
     },
     "execution_count": 1354,
     "metadata": {},
     "output_type": "execute_result"
    }
   ],
   "source": [
    "\n",
    "#three hundred and twenty first function is np.nan_to_num\n",
    "np.nan_to_num([np.nan, np.inf, -np.inf, 1j])\n"
   ],
   "metadata": {
    "collapsed": false,
    "pycharm": {
     "name": "#%%\n"
    }
   }
  },
  {
   "cell_type": "code",
   "execution_count": 1355,
   "outputs": [
    {
     "data": {
      "text/plain": "array([0, 0], dtype=int64)"
     },
     "execution_count": 1355,
     "metadata": {},
     "output_type": "execute_result"
    }
   ],
   "source": [
    "\n",
    "#three hundred and twenty second function is np.nanargmax\n",
    "a = np.array([[3, 4], [np.nan, 3]])\n",
    "np.nanargmax(a, axis=0)\n"
   ],
   "metadata": {
    "collapsed": false,
    "pycharm": {
     "name": "#%%\n"
    }
   }
  },
  {
   "cell_type": "code",
   "execution_count": 1356,
   "outputs": [
    {
     "data": {
      "text/plain": "array([1, 1], dtype=int64)"
     },
     "execution_count": 1356,
     "metadata": {},
     "output_type": "execute_result"
    }
   ],
   "source": [
    "\n",
    "#three hundred and twenty third function is np.nanargmin\n",
    "a = np.array([[np.nan, 4], [2, 3]])\n",
    "np.nanargmin(a, axis=0)\n"
   ],
   "metadata": {
    "collapsed": false,
    "pycharm": {
     "name": "#%%\n"
    }
   }
  },
  {
   "cell_type": "code",
   "execution_count": 1357,
   "outputs": [
    {
     "data": {
      "text/plain": "array([ 1.,  2.,  4., 12., 12., 12.])"
     },
     "execution_count": 1357,
     "metadata": {},
     "output_type": "execute_result"
    }
   ],
   "source": [
    "\n",
    "#three hundred and twenty fourth function is np.nancumprod\n",
    "a = np.array([1,2,2,3,np.nan,-np.nan])\n",
    "np.nancumprod(a)"
   ],
   "metadata": {
    "collapsed": false,
    "pycharm": {
     "name": "#%%\n"
    }
   }
  },
  {
   "cell_type": "code",
   "execution_count": 1358,
   "outputs": [
    {
     "data": {
      "text/plain": "array([1., 3., 6., 6., 6.])"
     },
     "execution_count": 1358,
     "metadata": {},
     "output_type": "execute_result"
    }
   ],
   "source": [
    "\n",
    "#three hundred and twenty fifth function is np.nancumsum\n",
    "a = np.array([1,2,3,np.nan, -np.nan])\n",
    "np.nancumsum(a)"
   ],
   "metadata": {
    "collapsed": false,
    "pycharm": {
     "name": "#%%\n"
    }
   }
  },
  {
   "cell_type": "code",
   "execution_count": 1359,
   "outputs": [
    {
     "name": "stdout",
     "output_type": "stream",
     "text": [
      "[2. 3.]\n",
      "inf\n"
     ]
    }
   ],
   "source": [
    "#three hundred and twenty sixth function is np.nanmax\n",
    "print(np.nanmax(np.array([[1,2],[3,np.nan]]), axis=1))\n",
    "print(np.nanmax([1,2,np.nan, np.inf]))"
   ],
   "metadata": {
    "collapsed": false,
    "pycharm": {
     "name": "#%%\n"
    }
   }
  },
  {
   "cell_type": "code",
   "execution_count": 1360,
   "outputs": [
    {
     "name": "stdout",
     "output_type": "stream",
     "text": [
      "2.5\n"
     ]
    }
   ],
   "source": [
    "\n",
    "#three hundred and twenty seventh function is np.nanmean\n",
    "a = np.array([1,2,3,4,np.nan])\n",
    "print(np.nanmean(a))"
   ],
   "metadata": {
    "collapsed": false,
    "pycharm": {
     "name": "#%%\n"
    }
   }
  },
  {
   "cell_type": "code",
   "execution_count": 1361,
   "outputs": [
    {
     "name": "stdout",
     "output_type": "stream",
     "text": [
      "2.0\n"
     ]
    }
   ],
   "source": [
    "\n",
    "#three hundred and twenty eighth function is np.nanmedian\n",
    "a = np.array([1,2,3,np.nan])\n",
    "print(np.nanmedian(a))\n"
   ],
   "metadata": {
    "collapsed": false,
    "pycharm": {
     "name": "#%%\n"
    }
   }
  },
  {
   "cell_type": "code",
   "execution_count": 1362,
   "outputs": [
    {
     "data": {
      "text/plain": "3.0"
     },
     "execution_count": 1362,
     "metadata": {},
     "output_type": "execute_result"
    }
   ],
   "source": [
    "\n",
    "#three hundred and twenty ninth function is np.nanmin\n",
    "a = np.array([np.nan, -np.nan, 3])\n",
    "np.nanmin(a)"
   ],
   "metadata": {
    "collapsed": false,
    "pycharm": {
     "name": "#%%\n"
    }
   }
  },
  {
   "cell_type": "code",
   "execution_count": 1363,
   "outputs": [
    {
     "data": {
      "text/plain": "1.5"
     },
     "execution_count": 1363,
     "metadata": {},
     "output_type": "execute_result"
    }
   ],
   "source": [
    "\n",
    "#three hundred and thirtieth function is np.nanpercentile\n",
    "a = np.array([1,2,3,np.nan])\n",
    "np.nanpercentile(a, 25)"
   ],
   "metadata": {
    "collapsed": false,
    "pycharm": {
     "name": "#%%\n"
    }
   }
  },
  {
   "cell_type": "code",
   "execution_count": 1364,
   "outputs": [
    {
     "data": {
      "text/plain": "6.0"
     },
     "execution_count": 1364,
     "metadata": {},
     "output_type": "execute_result"
    }
   ],
   "source": [
    "\n",
    "#three hundred and thirty first function is np.nanprod\n",
    "np.nanprod([1,2,3,np.nan])\n"
   ],
   "metadata": {
    "collapsed": false,
    "pycharm": {
     "name": "#%%\n"
    }
   }
  },
  {
   "cell_type": "code",
   "execution_count": 1365,
   "outputs": [
    {
     "data": {
      "text/plain": "array([3., 2.])"
     },
     "execution_count": 1365,
     "metadata": {},
     "output_type": "execute_result"
    }
   ],
   "source": [
    "\n",
    "#three hundred and thirty second function is np.nanquantile\n",
    "np.nanquantile([[1,2],[3,np.nan]], 1, axis=0)\n"
   ],
   "metadata": {
    "collapsed": false,
    "pycharm": {
     "name": "#%%\n"
    }
   }
  },
  {
   "cell_type": "code",
   "execution_count": 1366,
   "outputs": [
    {
     "data": {
      "text/plain": "0.816496580927726"
     },
     "execution_count": 1366,
     "metadata": {},
     "output_type": "execute_result"
    }
   ],
   "source": [
    "\n",
    "#three hundred and thirty third function is np.nanstd\n",
    "np.nanstd(np.array([1,2,3,np.nan]))\n"
   ],
   "metadata": {
    "collapsed": false,
    "pycharm": {
     "name": "#%%\n"
    }
   }
  },
  {
   "cell_type": "code",
   "execution_count": 1367,
   "outputs": [
    {
     "data": {
      "text/plain": "array([1., 4., 7.])"
     },
     "execution_count": 1367,
     "metadata": {},
     "output_type": "execute_result"
    }
   ],
   "source": [
    "\n",
    "#three hundred and thirty fourth function is np.nansum\n",
    "a = np.array([[1,2,3],\n",
    "              [np.nan, 2, 4]])\n",
    "np.nansum(a, axis=0)"
   ],
   "metadata": {
    "collapsed": false,
    "pycharm": {
     "name": "#%%\n"
    }
   }
  },
  {
   "cell_type": "code",
   "execution_count": 1368,
   "outputs": [
    {
     "data": {
      "text/plain": "array([0.66666667, 1.        ])"
     },
     "execution_count": 1368,
     "metadata": {},
     "output_type": "execute_result"
    }
   ],
   "source": [
    "\n",
    "#three hundred and thirty fifth function is np.nanvar\n",
    "a = np.array([[1,2,3],\n",
    "              [np.nan, 2, 4]])\n",
    "np.nanvar(a, axis=1)\n"
   ],
   "metadata": {
    "collapsed": false,
    "pycharm": {
     "name": "#%%\n"
    }
   }
  },
  {
   "cell_type": "code",
   "execution_count": 1369,
   "outputs": [
    {
     "data": {
      "text/plain": "48"
     },
     "execution_count": 1369,
     "metadata": {},
     "output_type": "execute_result"
    }
   ],
   "source": [
    "\n",
    "#three hundred and thirty sixth function is np.nbytes\n",
    "a = np.array([[1,2,3],\n",
    "              [np.nan, 2, 4]])\n",
    "\n",
    "a.nbytes\n"
   ],
   "metadata": {
    "collapsed": false,
    "pycharm": {
     "name": "#%%\n"
    }
   }
  },
  {
   "cell_type": "code",
   "execution_count": 1370,
   "outputs": [
    {
     "data": {
      "text/plain": "array([[ 1.,  2.],\n       [ 3., nan]])"
     },
     "execution_count": 1370,
     "metadata": {},
     "output_type": "execute_result"
    }
   ],
   "source": [
    "\n",
    "#three hundred and thirty seventh function is np.ndarray\n",
    "\n",
    "np.ndarray((2,2))\n"
   ],
   "metadata": {
    "collapsed": false,
    "pycharm": {
     "name": "#%%\n"
    }
   }
  },
  {
   "cell_type": "code",
   "execution_count": 1371,
   "outputs": [
    {
     "name": "stdout",
     "output_type": "stream",
     "text": [
      "(0, 0) 0\n",
      "(0, 1) 1\n",
      "(0, 2) 2\n",
      "(0, 3) 3\n",
      "(0, 4) 4\n",
      "(1, 0) 5\n",
      "(1, 1) 6\n",
      "(1, 2) 7\n",
      "(1, 3) 8\n",
      "(1, 4) 9\n"
     ]
    }
   ],
   "source": [
    "\n",
    "#three hundred and thirty eighth function is np.ndenumerate\n",
    "a = np.arange(10).reshape(2, 5)\n",
    "for index, value in np.ndenumerate(a):\n",
    "    print(index, value)"
   ],
   "metadata": {
    "collapsed": false,
    "pycharm": {
     "name": "#%%\n"
    }
   }
  },
  {
   "cell_type": "code",
   "execution_count": 1372,
   "outputs": [
    {
     "name": "stdout",
     "output_type": "stream",
     "text": [
      "[[0 1 2 3 4]\n",
      " [5 6 7 8 9]]\n"
     ]
    },
    {
     "data": {
      "text/plain": "2"
     },
     "execution_count": 1372,
     "metadata": {},
     "output_type": "execute_result"
    }
   ],
   "source": [
    "\n",
    "#three hundred and thirty ninth function is np.ndim\n",
    "a = np.arange(10).reshape(2, 5)\n",
    "print(a)\n",
    "np.ndim(a)"
   ],
   "metadata": {
    "collapsed": false,
    "pycharm": {
     "name": "#%%\n"
    }
   }
  },
  {
   "cell_type": "code",
   "execution_count": 1373,
   "outputs": [
    {
     "name": "stdout",
     "output_type": "stream",
     "text": [
      "(0, 0, 0)\n",
      "(0, 1, 0)\n",
      "(1, 0, 0)\n",
      "(1, 1, 0)\n",
      "(2, 0, 0)\n",
      "(2, 1, 0)\n"
     ]
    }
   ],
   "source": [
    "\n",
    "#three hundred and fortieth function is np.ndindex\n",
    "\n",
    "for i in np.ndindex(3,2,1):\n",
    "    print(i)"
   ],
   "metadata": {
    "collapsed": false,
    "pycharm": {
     "name": "#%%\n"
    }
   }
  },
  {
   "cell_type": "code",
   "execution_count": 1374,
   "outputs": [
    {
     "data": {
      "text/plain": "numpy.nditer"
     },
     "execution_count": 1374,
     "metadata": {},
     "output_type": "execute_result"
    }
   ],
   "source": [
    "\n",
    "#three hundred and fourty first function is np.nditer\n",
    "\n",
    "np.nditer\n"
   ],
   "metadata": {
    "collapsed": false,
    "pycharm": {
     "name": "#%%\n"
    }
   }
  },
  {
   "cell_type": "code",
   "execution_count": 1375,
   "outputs": [
    {
     "data": {
      "text/plain": "array([  1.,  -1.,   2.,  nan,  nan,  inf, -inf])"
     },
     "execution_count": 1375,
     "metadata": {},
     "output_type": "execute_result"
    }
   ],
   "source": [
    "\n",
    "#three hundred and fourty second function is np.negative\n",
    "np.negative([-1,1,-2,-np.nan, np.nan, -np.inf, np.inf])\n"
   ],
   "metadata": {
    "collapsed": false,
    "pycharm": {
     "name": "#%%\n"
    }
   }
  },
  {
   "cell_type": "code",
   "execution_count": 1376,
   "outputs": [
    {
     "name": "stdout",
     "output_type": "stream",
     "text": [
      "(0,)\n",
      " (0, 0) 0\n",
      " (0, 1) 1\n",
      " (1, 0) 6\n",
      " (1, 1) 7\n",
      "(1,)\n",
      " (0, 0) 2\n",
      " (0, 1) 3\n",
      " (1, 0) 8\n",
      " (1, 1) 9\n",
      "(2,)\n",
      " (0, 0) 4\n",
      " (0, 1) 5\n",
      " (1, 0) 10\n",
      " (1, 1) 11\n"
     ]
    }
   ],
   "source": [
    "\n",
    "#three hundred and fourty third function is np.nested_iters\n",
    "a = np.arange(12).reshape(2, 3, 2)\n",
    "i, j = np.nested_iters(a, [[1], [0, 2]], flags=[\"multi_index\"])\n",
    "for x in i:\n",
    "     print(i.multi_index)\n",
    "     for y in j:\n",
    "         print('', j.multi_index, y)"
   ],
   "metadata": {
    "collapsed": false,
    "pycharm": {
     "name": "#%%\n"
    }
   }
  },
  {
   "cell_type": "code",
   "execution_count": 1377,
   "outputs": [
    {
     "data": {
      "text/plain": "array([[[0, 1, 2, 3, 4],\n        [5, 6, 7, 8, 9]]])"
     },
     "execution_count": 1377,
     "metadata": {},
     "output_type": "execute_result"
    }
   ],
   "source": [
    "\n",
    "#three hundred and fourty fourth function is np.newaxis\n",
    "a = np.arange(10).reshape(2,5)\n",
    "a[np.newaxis]"
   ],
   "metadata": {
    "collapsed": false,
    "pycharm": {
     "name": "#%%\n"
    }
   }
  },
  {
   "cell_type": "code",
   "execution_count": 1378,
   "outputs": [
    {
     "data": {
      "text/plain": "array([ 1.,  2., 10.])"
     },
     "execution_count": 1378,
     "metadata": {},
     "output_type": "execute_result"
    }
   ],
   "source": [
    "\n",
    "#three hundred and fourty fifth function is np.nextafter\n",
    "np.nextafter([1, 2,10], [2,10, 1])\n"
   ],
   "metadata": {
    "collapsed": false,
    "pycharm": {
     "name": "#%%\n"
    }
   }
  },
  {
   "cell_type": "code",
   "execution_count": 1379,
   "outputs": [
    {
     "data": {
      "text/plain": "(array([0, 1, 2], dtype=int64),)"
     },
     "execution_count": 1379,
     "metadata": {},
     "output_type": "execute_result"
    }
   ],
   "source": [
    "\n",
    "#three hundred and fourty sixth function is np.nonzero\n",
    "np.nonzero([1,2,3])\n"
   ],
   "metadata": {
    "collapsed": false,
    "pycharm": {
     "name": "#%%\n"
    }
   }
  },
  {
   "cell_type": "code",
   "execution_count": 1380,
   "outputs": [
    {
     "data": {
      "text/plain": "array([False,  True,  True])"
     },
     "execution_count": 1380,
     "metadata": {},
     "output_type": "execute_result"
    }
   ],
   "source": [
    "\n",
    "#three hundred and fourty seventh function is np.not_equal\n",
    "np.not_equal([1,2,3],\n",
    "             [1,3,2])\n"
   ],
   "metadata": {
    "collapsed": false,
    "pycharm": {
     "name": "#%%\n"
    }
   }
  },
  {
   "cell_type": "code",
   "execution_count": 1381,
   "outputs": [
    {
     "data": {
      "text/plain": "'removed'"
     },
     "execution_count": 1381,
     "metadata": {},
     "output_type": "execute_result"
    }
   ],
   "source": [
    "\n",
    "#three hundred and fourty eighth function is np.numarray\n",
    "\n",
    "np.numarray"
   ],
   "metadata": {
    "collapsed": false,
    "pycharm": {
     "name": "#%%\n"
    }
   }
  },
  {
   "cell_type": "code",
   "execution_count": 1382,
   "outputs": [
    {
     "data": {
      "text/plain": "numpy.number"
     },
     "execution_count": 1382,
     "metadata": {},
     "output_type": "execute_result"
    }
   ],
   "source": [
    "\n",
    "#three hundred and fourty ninth function is np.number\n",
    "np.number"
   ],
   "metadata": {
    "collapsed": false,
    "pycharm": {
     "name": "#%%\n"
    }
   }
  },
  {
   "cell_type": "code",
   "execution_count": 1383,
   "outputs": [
    {
     "name": "stdout",
     "output_type": "stream",
     "text": [
      "None\n",
      "<class 'numpy.int32'>\n",
      "<class 'numpy.object_'>\n",
      "<class 'numpy.str_'>\n"
     ]
    }
   ],
   "source": [
    "\n",
    "#three hundred and fiftieth function is np.obj2sctype\n",
    "print(np.obj2sctype('string'))\n",
    "print(np.obj2sctype(np.int32))\n",
    "print(np.obj2sctype(dict))\n",
    "print(np.obj2sctype(str))\n",
    "\n"
   ],
   "metadata": {
    "collapsed": false,
    "pycharm": {
     "name": "#%%\n"
    }
   }
  },
  {
   "cell_type": "code",
   "execution_count": 1384,
   "outputs": [
    {
     "data": {
      "text/plain": "__main__.example"
     },
     "execution_count": 1384,
     "metadata": {},
     "output_type": "execute_result"
    }
   ],
   "source": [
    "\n",
    "#three hundred and fifty first function is np.object0\n",
    "class example:\n",
    "\n",
    "    \"\"\"\n",
    "    this is example\n",
    "    \"\"\"\n",
    "\n",
    "    def __int__(self, x):\n",
    "        self.x = x\n",
    "\n",
    "np.object0(example)\n"
   ],
   "metadata": {
    "collapsed": false,
    "pycharm": {
     "name": "#%%\n"
    }
   }
  },
  {
   "cell_type": "code",
   "execution_count": 1385,
   "outputs": [],
   "source": [
    "\n",
    "#three hundred and fifty second function is np.object_\n",
    "\n"
   ],
   "metadata": {
    "collapsed": false,
    "pycharm": {
     "name": "#%%\n"
    }
   }
  },
  {
   "cell_type": "code",
   "execution_count": 1386,
   "outputs": [],
   "source": [
    "\n",
    "#three hundred and fifty third function is np.ogrid\n",
    "\n"
   ],
   "metadata": {
    "collapsed": false,
    "pycharm": {
     "name": "#%%\n"
    }
   }
  },
  {
   "cell_type": "code",
   "execution_count": 1387,
   "outputs": [],
   "source": [
    "\n",
    "#three hundred and fifty fourth function is np.oldnumeric\n",
    "\n"
   ],
   "metadata": {
    "collapsed": false,
    "pycharm": {
     "name": "#%%\n"
    }
   }
  },
  {
   "cell_type": "code",
   "execution_count": 1388,
   "outputs": [],
   "source": [
    "\n",
    "#three hundred and fifty fifth function is np.ones\n",
    "\n"
   ],
   "metadata": {
    "collapsed": false,
    "pycharm": {
     "name": "#%%\n"
    }
   }
  },
  {
   "cell_type": "code",
   "execution_count": 1389,
   "outputs": [],
   "source": [
    "\n",
    "#three hundred and fifty sixth function is np.ones_like\n",
    "\n"
   ],
   "metadata": {
    "collapsed": false,
    "pycharm": {
     "name": "#%%\n"
    }
   }
  },
  {
   "cell_type": "code",
   "execution_count": 1390,
   "outputs": [],
   "source": [
    "\n",
    "#three hundred and fifty seventh function is np.os\n",
    "\n"
   ],
   "metadata": {
    "collapsed": false,
    "pycharm": {
     "name": "#%%\n"
    }
   }
  },
  {
   "cell_type": "code",
   "execution_count": null,
   "outputs": [],
   "source": [
    "\n",
    "#three hundred and fifty eighth function is np.outer\n",
    "\n"
   ],
   "metadata": {
    "collapsed": false,
    "pycharm": {
     "name": "#%%\n"
    }
   }
  },
  {
   "cell_type": "code",
   "execution_count": null,
   "outputs": [],
   "source": [
    "\n",
    "#three hundred and fifty ninth function is np.packbits\n",
    "\n"
   ],
   "metadata": {
    "collapsed": false,
    "pycharm": {
     "name": "#%%\n"
    }
   }
  },
  {
   "cell_type": "code",
   "execution_count": null,
   "outputs": [],
   "source": [
    "\n",
    "#three hundred and sixtieth function is np.pad\n",
    "\n"
   ],
   "metadata": {
    "collapsed": false,
    "pycharm": {
     "name": "#%%\n"
    }
   }
  },
  {
   "cell_type": "code",
   "execution_count": null,
   "outputs": [],
   "source": [
    "\n",
    "#three hundred and sixty first function is np.partition\n",
    "\n"
   ],
   "metadata": {
    "collapsed": false,
    "pycharm": {
     "name": "#%%\n"
    }
   }
  },
  {
   "cell_type": "code",
   "execution_count": null,
   "outputs": [],
   "source": [
    "\n",
    "#three hundred and sixty second function is np.percentile\n",
    "\n"
   ],
   "metadata": {
    "collapsed": false,
    "pycharm": {
     "name": "#%%\n"
    }
   }
  },
  {
   "cell_type": "code",
   "execution_count": null,
   "outputs": [],
   "source": [
    "\n",
    "#three hundred and sixty third function is np.pi\n",
    "\n"
   ],
   "metadata": {
    "collapsed": false,
    "pycharm": {
     "name": "#%%\n"
    }
   }
  },
  {
   "cell_type": "code",
   "execution_count": null,
   "outputs": [],
   "source": [
    "\n",
    "#three hundred and sixty fourth function is np.piecewise\n",
    "\n"
   ],
   "metadata": {
    "collapsed": false,
    "pycharm": {
     "name": "#%%\n"
    }
   }
  },
  {
   "cell_type": "code",
   "execution_count": null,
   "outputs": [],
   "source": [
    "\n",
    "#three hundred and sixty fifth function is np.place\n",
    "\n"
   ],
   "metadata": {
    "collapsed": false,
    "pycharm": {
     "name": "#%%\n"
    }
   }
  },
  {
   "cell_type": "code",
   "execution_count": null,
   "outputs": [],
   "source": [
    "\n",
    "#three hundred and sixty sixth function is np.poly\n",
    "\n"
   ],
   "metadata": {
    "collapsed": false,
    "pycharm": {
     "name": "#%%\n"
    }
   }
  },
  {
   "cell_type": "code",
   "execution_count": null,
   "outputs": [],
   "source": [
    "\n",
    "#three hundred and sixty seventh function is np.poly1d\n",
    "\n"
   ],
   "metadata": {
    "collapsed": false,
    "pycharm": {
     "name": "#%%\n"
    }
   }
  },
  {
   "cell_type": "code",
   "execution_count": null,
   "outputs": [],
   "source": [
    "\n",
    "#three hundred and sixty eighth function is np.polyadd\n",
    "\n"
   ],
   "metadata": {
    "collapsed": false,
    "pycharm": {
     "name": "#%%\n"
    }
   }
  },
  {
   "cell_type": "code",
   "execution_count": null,
   "outputs": [],
   "source": [
    "\n",
    "#three hundred and sixty ninth function is np.polyder\n",
    "\n"
   ],
   "metadata": {
    "collapsed": false,
    "pycharm": {
     "name": "#%%\n"
    }
   }
  },
  {
   "cell_type": "code",
   "execution_count": null,
   "outputs": [],
   "source": [
    "\n",
    "#three hundred and seventieth function is np.polydiv\n",
    "\n"
   ],
   "metadata": {
    "collapsed": false,
    "pycharm": {
     "name": "#%%\n"
    }
   }
  },
  {
   "cell_type": "code",
   "execution_count": null,
   "outputs": [],
   "source": [
    "\n",
    "#three hundred and seventy first function is np.polyfit\n",
    "\n"
   ],
   "metadata": {
    "collapsed": false,
    "pycharm": {
     "name": "#%%\n"
    }
   }
  },
  {
   "cell_type": "code",
   "execution_count": null,
   "outputs": [],
   "source": [
    "\n",
    "#three hundred and seventy second function is np.polyint\n",
    "\n"
   ],
   "metadata": {
    "collapsed": false,
    "pycharm": {
     "name": "#%%\n"
    }
   }
  },
  {
   "cell_type": "code",
   "execution_count": null,
   "outputs": [],
   "source": [
    "\n",
    "#three hundred and seventy third function is np.polymul\n",
    "\n"
   ],
   "metadata": {
    "collapsed": false,
    "pycharm": {
     "name": "#%%\n"
    }
   }
  },
  {
   "cell_type": "code",
   "execution_count": null,
   "outputs": [],
   "source": [
    "\n",
    "#three hundred and seventy fourth function is np.polynomial\n",
    "\n"
   ],
   "metadata": {
    "collapsed": false,
    "pycharm": {
     "name": "#%%\n"
    }
   }
  },
  {
   "cell_type": "code",
   "execution_count": null,
   "outputs": [],
   "source": [
    "\n",
    "#three hundred and seventy fifth function is np.polysub\n",
    "\n"
   ],
   "metadata": {
    "collapsed": false,
    "pycharm": {
     "name": "#%%\n"
    }
   }
  },
  {
   "cell_type": "code",
   "execution_count": null,
   "outputs": [],
   "source": [
    "\n",
    "#three hundred and seventy sixth function is np.polyval\n",
    "\n"
   ],
   "metadata": {
    "collapsed": false,
    "pycharm": {
     "name": "#%%\n"
    }
   }
  },
  {
   "cell_type": "code",
   "execution_count": null,
   "outputs": [],
   "source": [
    "\n",
    "#three hundred and seventy seventh function is np.positive\n",
    "\n"
   ],
   "metadata": {
    "collapsed": false,
    "pycharm": {
     "name": "#%%\n"
    }
   }
  },
  {
   "cell_type": "code",
   "execution_count": null,
   "outputs": [],
   "source": [
    "\n",
    "#three hundred and seventy eighth function is np.power\n",
    "\n"
   ],
   "metadata": {
    "collapsed": false,
    "pycharm": {
     "name": "#%%\n"
    }
   }
  },
  {
   "cell_type": "code",
   "execution_count": null,
   "outputs": [],
   "source": [
    "\n",
    "#three hundred and seventy ninth function is np.printoptions\n",
    "\n"
   ],
   "metadata": {
    "collapsed": false,
    "pycharm": {
     "name": "#%%\n"
    }
   }
  },
  {
   "cell_type": "code",
   "execution_count": null,
   "outputs": [],
   "source": [
    "\n",
    "#three hundred and eightieth function is np.prod\n",
    "\n"
   ],
   "metadata": {
    "collapsed": false,
    "pycharm": {
     "name": "#%%\n"
    }
   }
  },
  {
   "cell_type": "code",
   "execution_count": null,
   "outputs": [],
   "source": [
    "\n",
    "#three hundred and eighty first function is np.product\n",
    "\n"
   ],
   "metadata": {
    "collapsed": false,
    "pycharm": {
     "name": "#%%\n"
    }
   }
  },
  {
   "cell_type": "code",
   "execution_count": null,
   "outputs": [],
   "source": [
    "\n",
    "#three hundred and eighty second function is np.promote_types\n",
    "\n"
   ],
   "metadata": {
    "collapsed": false,
    "pycharm": {
     "name": "#%%\n"
    }
   }
  },
  {
   "cell_type": "code",
   "execution_count": null,
   "outputs": [],
   "source": [
    "\n",
    "#three hundred and eighty third function is np.ptp\n",
    "\n"
   ],
   "metadata": {
    "collapsed": false,
    "pycharm": {
     "name": "#%%\n"
    }
   }
  },
  {
   "cell_type": "code",
   "execution_count": null,
   "outputs": [],
   "source": [
    "\n",
    "#three hundred and eighty fourth function is np.put\n",
    "\n"
   ],
   "metadata": {
    "collapsed": false,
    "pycharm": {
     "name": "#%%\n"
    }
   }
  },
  {
   "cell_type": "code",
   "execution_count": null,
   "outputs": [],
   "source": [
    "\n",
    "#three hundred and eighty fifth function is np.put_along_axis\n",
    "\n"
   ],
   "metadata": {
    "collapsed": false,
    "pycharm": {
     "name": "#%%\n"
    }
   }
  },
  {
   "cell_type": "code",
   "execution_count": null,
   "outputs": [],
   "source": [
    "\n",
    "#three hundred and eighty sixth function is np.putmask\n",
    "\n"
   ],
   "metadata": {
    "collapsed": false,
    "pycharm": {
     "name": "#%%\n"
    }
   }
  },
  {
   "cell_type": "code",
   "execution_count": null,
   "outputs": [],
   "source": [
    "\n",
    "#three hundred and eighty seventh function is np.quantile\n",
    "\n"
   ],
   "metadata": {
    "collapsed": false,
    "pycharm": {
     "name": "#%%\n"
    }
   }
  },
  {
   "cell_type": "code",
   "execution_count": null,
   "outputs": [],
   "source": [
    "\n",
    "#three hundred and eighty eighth function is np.rad2deg\n",
    "\n"
   ],
   "metadata": {
    "collapsed": false,
    "pycharm": {
     "name": "#%%\n"
    }
   }
  },
  {
   "cell_type": "code",
   "execution_count": null,
   "outputs": [],
   "source": [
    "\n",
    "#three hundred and eighty ninth function is np.radians\n",
    "\n"
   ],
   "metadata": {
    "collapsed": false,
    "pycharm": {
     "name": "#%%\n"
    }
   }
  },
  {
   "cell_type": "code",
   "execution_count": null,
   "outputs": [],
   "source": [
    "\n",
    "#three hundred and ninetieth function is np.random\n",
    "\n"
   ],
   "metadata": {
    "collapsed": false,
    "pycharm": {
     "name": "#%%\n"
    }
   }
  },
  {
   "cell_type": "code",
   "execution_count": null,
   "outputs": [],
   "source": [
    "\n",
    "#three hundred and ninety first function is np.ravel\n",
    "\n"
   ],
   "metadata": {
    "collapsed": false,
    "pycharm": {
     "name": "#%%\n"
    }
   }
  },
  {
   "cell_type": "code",
   "execution_count": null,
   "outputs": [],
   "source": [
    "\n",
    "#three hundred and ninety second function is np.ravel_multi_index\n",
    "\n"
   ],
   "metadata": {
    "collapsed": false,
    "pycharm": {
     "name": "#%%\n"
    }
   }
  },
  {
   "cell_type": "code",
   "execution_count": null,
   "outputs": [],
   "source": [
    "\n",
    "#three hundred and ninety third function is np.real\n",
    "\n"
   ],
   "metadata": {
    "collapsed": false,
    "pycharm": {
     "name": "#%%\n"
    }
   }
  },
  {
   "cell_type": "code",
   "execution_count": null,
   "outputs": [],
   "source": [
    "\n",
    "#three hundred and ninety fourth function is np.real_if_close\n",
    "\n"
   ],
   "metadata": {
    "collapsed": false,
    "pycharm": {
     "name": "#%%\n"
    }
   }
  },
  {
   "cell_type": "code",
   "execution_count": null,
   "outputs": [],
   "source": [
    "\n",
    "#three hundred and ninety fifth function is np.rec\n",
    "\n"
   ],
   "metadata": {
    "collapsed": false,
    "pycharm": {
     "name": "#%%\n"
    }
   }
  },
  {
   "cell_type": "code",
   "execution_count": null,
   "outputs": [],
   "source": [
    "\n",
    "#three hundred and ninety sixth function is np.recarray\n",
    "\n"
   ],
   "metadata": {
    "collapsed": false,
    "pycharm": {
     "name": "#%%\n"
    }
   }
  },
  {
   "cell_type": "code",
   "execution_count": null,
   "outputs": [],
   "source": [
    "\n",
    "#three hundred and ninety seventh function is np.recfromcsv\n",
    "\n"
   ],
   "metadata": {
    "collapsed": false,
    "pycharm": {
     "name": "#%%\n"
    }
   }
  },
  {
   "cell_type": "code",
   "execution_count": null,
   "outputs": [],
   "source": [
    "\n",
    "#three hundred and ninety eighth function is np.recfromtxt\n",
    "\n"
   ],
   "metadata": {
    "collapsed": false,
    "pycharm": {
     "name": "#%%\n"
    }
   }
  },
  {
   "cell_type": "code",
   "execution_count": null,
   "outputs": [],
   "source": [
    "\n",
    "#three hundred and ninety eighth function is np.reciprocal\n",
    "\n"
   ],
   "metadata": {
    "collapsed": false,
    "pycharm": {
     "name": "#%%\n"
    }
   }
  },
  {
   "cell_type": "code",
   "execution_count": null,
   "outputs": [],
   "source": [
    "\n",
    "#four hundredth function is np.record\n",
    "\n"
   ],
   "metadata": {
    "collapsed": false,
    "pycharm": {
     "name": "#%%\n"
    }
   }
  },
  {
   "cell_type": "code",
   "execution_count": null,
   "outputs": [],
   "source": [
    "\n",
    "#four hundred and first function is np.remainder\n",
    "\n"
   ],
   "metadata": {
    "collapsed": false,
    "pycharm": {
     "name": "#%%\n"
    }
   }
  },
  {
   "cell_type": "code",
   "execution_count": null,
   "outputs": [],
   "source": [
    "\n",
    "#four hundred and second function is np.repeat\n",
    "\n"
   ],
   "metadata": {
    "collapsed": false,
    "pycharm": {
     "name": "#%%\n"
    }
   }
  },
  {
   "cell_type": "code",
   "execution_count": null,
   "outputs": [],
   "source": [
    "\n",
    "#four hundred and third function is np.require\n",
    "\n"
   ],
   "metadata": {
    "collapsed": false,
    "pycharm": {
     "name": "#%%\n"
    }
   }
  },
  {
   "cell_type": "code",
   "execution_count": null,
   "outputs": [],
   "source": [
    "\n",
    "#four hundred and fourth function is np.reshape\n",
    "\n"
   ],
   "metadata": {
    "collapsed": false,
    "pycharm": {
     "name": "#%%\n"
    }
   }
  },
  {
   "cell_type": "code",
   "execution_count": null,
   "outputs": [],
   "source": [
    "\n",
    "#four hundred and fifth function is np.resize\n",
    "\n"
   ],
   "metadata": {
    "collapsed": false,
    "pycharm": {
     "name": "#%%\n"
    }
   }
  },
  {
   "cell_type": "code",
   "execution_count": null,
   "outputs": [],
   "source": [
    "\n",
    "#four hundred and sixth function is np.result_type\n",
    "\n"
   ],
   "metadata": {
    "collapsed": false,
    "pycharm": {
     "name": "#%%\n"
    }
   }
  },
  {
   "cell_type": "code",
   "execution_count": null,
   "outputs": [],
   "source": [
    "\n",
    "#four hundred and seventh function is np.right_shift\n",
    "\n"
   ],
   "metadata": {
    "collapsed": false,
    "pycharm": {
     "name": "#%%\n"
    }
   }
  },
  {
   "cell_type": "code",
   "execution_count": null,
   "outputs": [],
   "source": [
    "\n",
    "#four hundred and eighth function is np.rint\n",
    "\n"
   ],
   "metadata": {
    "collapsed": false,
    "pycharm": {
     "name": "#%%\n"
    }
   }
  },
  {
   "cell_type": "code",
   "execution_count": null,
   "outputs": [],
   "source": [
    "\n",
    "#four hundred and ninth function is np.roll\n",
    "\n"
   ],
   "metadata": {
    "collapsed": false,
    "pycharm": {
     "name": "#%%\n"
    }
   }
  },
  {
   "cell_type": "code",
   "execution_count": null,
   "outputs": [],
   "source": [
    "\n",
    "#four hundred and tenth function is np.rollaxis\n"
   ],
   "metadata": {
    "collapsed": false,
    "pycharm": {
     "name": "#%%\n"
    }
   }
  },
  {
   "cell_type": "code",
   "execution_count": null,
   "outputs": [],
   "source": [
    "\n",
    "#four hundred and eleventh function is np.roots\n"
   ],
   "metadata": {
    "collapsed": false,
    "pycharm": {
     "name": "#%%\n"
    }
   }
  },
  {
   "cell_type": "code",
   "execution_count": null,
   "outputs": [],
   "source": [
    "\n",
    "#four hundred and twelveth function is np.rot90\n",
    "\n"
   ],
   "metadata": {
    "collapsed": false,
    "pycharm": {
     "name": "#%%\n"
    }
   }
  },
  {
   "cell_type": "code",
   "execution_count": null,
   "outputs": [],
   "source": [
    "\n",
    "#four hundred and thirteenth function is np.round\n",
    "\n"
   ],
   "metadata": {
    "collapsed": false,
    "pycharm": {
     "name": "#%%\n"
    }
   }
  },
  {
   "cell_type": "code",
   "execution_count": null,
   "outputs": [],
   "source": [
    "\n",
    "#four hundred and fourteenth function is np.round_\n",
    "\n"
   ],
   "metadata": {
    "collapsed": false,
    "pycharm": {
     "name": "#%%\n"
    }
   }
  },
  {
   "cell_type": "code",
   "execution_count": null,
   "outputs": [],
   "source": [
    "\n",
    "#four hundred and fifteenth function is np.row_stack\n",
    "\n"
   ],
   "metadata": {
    "collapsed": false,
    "pycharm": {
     "name": "#%%\n"
    }
   }
  },
  {
   "cell_type": "code",
   "execution_count": null,
   "outputs": [],
   "source": [
    "\n",
    "#four hundred and sixteenth function is np.safe_eval\n",
    "\n"
   ],
   "metadata": {
    "collapsed": false,
    "pycharm": {
     "name": "#%%\n"
    }
   }
  },
  {
   "cell_type": "code",
   "execution_count": null,
   "outputs": [],
   "source": [
    "\n",
    "#four hundred and seventeenth function is np.save\n",
    "\n"
   ],
   "metadata": {
    "collapsed": false,
    "pycharm": {
     "name": "#%%\n"
    }
   }
  },
  {
   "cell_type": "code",
   "execution_count": null,
   "outputs": [],
   "source": [
    "\n",
    "#four hundred and eighteenth function is np.savetxt\n",
    "\n"
   ],
   "metadata": {
    "collapsed": false,
    "pycharm": {
     "name": "#%%\n"
    }
   }
  },
  {
   "cell_type": "code",
   "execution_count": null,
   "outputs": [],
   "source": [
    "\n",
    "#four hundred and nineteenth function is np.savez\n",
    "\n"
   ],
   "metadata": {
    "collapsed": false,
    "pycharm": {
     "name": "#%%\n"
    }
   }
  },
  {
   "cell_type": "code",
   "execution_count": null,
   "outputs": [],
   "source": [
    "\n",
    "#four hundred and twentieth function is np.savez_compressed\n",
    "\n"
   ],
   "metadata": {
    "collapsed": false,
    "pycharm": {
     "name": "#%%\n"
    }
   }
  },
  {
   "cell_type": "code",
   "execution_count": null,
   "outputs": [],
   "source": [
    "\n",
    "#four hundred and twenty first function is np.sctype2char\n",
    "\n"
   ],
   "metadata": {
    "collapsed": false,
    "pycharm": {
     "name": "#%%\n"
    }
   }
  },
  {
   "cell_type": "code",
   "execution_count": null,
   "outputs": [],
   "source": [
    "\n",
    "#four hundred and twenty second function is np.sctypeDict\n",
    "\n"
   ],
   "metadata": {
    "collapsed": false,
    "pycharm": {
     "name": "#%%\n"
    }
   }
  },
  {
   "cell_type": "code",
   "execution_count": null,
   "outputs": [],
   "source": [
    "\n",
    "#four hundred and twenty third function is np.sctypes\n",
    "\n"
   ],
   "metadata": {
    "collapsed": false,
    "pycharm": {
     "name": "#%%\n"
    }
   }
  },
  {
   "cell_type": "code",
   "execution_count": null,
   "outputs": [],
   "source": [
    "\n",
    "#four hundred and twenty fourth function is np.searchsorted\n",
    "\n"
   ],
   "metadata": {
    "collapsed": false,
    "pycharm": {
     "name": "#%%\n"
    }
   }
  },
  {
   "cell_type": "code",
   "execution_count": null,
   "outputs": [],
   "source": [
    "\n",
    "#four hundred and twenty fifth function is np.select\n",
    "\n"
   ],
   "metadata": {
    "collapsed": false,
    "pycharm": {
     "name": "#%%\n"
    }
   }
  },
  {
   "cell_type": "code",
   "execution_count": null,
   "outputs": [],
   "source": [
    "\n",
    "#four hundred and twenty sixth function is np.set_numeric_ops\n",
    "\n"
   ],
   "metadata": {
    "collapsed": false,
    "pycharm": {
     "name": "#%%\n"
    }
   }
  },
  {
   "cell_type": "code",
   "execution_count": null,
   "outputs": [],
   "source": [
    "\n",
    "#four hundred and twenty seventh function is np.set_printoptions\n",
    "\n"
   ],
   "metadata": {
    "collapsed": false,
    "pycharm": {
     "name": "#%%\n"
    }
   }
  },
  {
   "cell_type": "code",
   "execution_count": null,
   "outputs": [],
   "source": [
    "\n",
    "#four hundred and twenty eighth function is np.set_string_function\n",
    "\n"
   ],
   "metadata": {
    "collapsed": false,
    "pycharm": {
     "name": "#%%\n"
    }
   }
  },
  {
   "cell_type": "code",
   "execution_count": null,
   "outputs": [],
   "source": [
    "\n",
    "#four hundred and twenty ninth function is np.setbufsize\n",
    "\n"
   ],
   "metadata": {
    "collapsed": false,
    "pycharm": {
     "name": "#%%\n"
    }
   }
  },
  {
   "cell_type": "code",
   "execution_count": null,
   "outputs": [],
   "source": [
    "\n",
    "#four hundred and thirtieth function is np.setdiff1d\n",
    "\n"
   ],
   "metadata": {
    "collapsed": false,
    "pycharm": {
     "name": "#%%\n"
    }
   }
  },
  {
   "cell_type": "code",
   "execution_count": null,
   "outputs": [],
   "source": [
    "\n",
    "#four hundred and thirty first function is np.seterr\n",
    "\n"
   ],
   "metadata": {
    "collapsed": false,
    "pycharm": {
     "name": "#%%\n"
    }
   }
  },
  {
   "cell_type": "code",
   "execution_count": null,
   "outputs": [],
   "source": [
    "\n",
    "#four hundred and thirty second function is np.seterrcall\n",
    "\n"
   ],
   "metadata": {
    "collapsed": false,
    "pycharm": {
     "name": "#%%\n"
    }
   }
  },
  {
   "cell_type": "code",
   "execution_count": null,
   "outputs": [],
   "source": [
    "\n",
    "#four hundred and thirty third function is np.seterrobj\n",
    "\n"
   ],
   "metadata": {
    "collapsed": false,
    "pycharm": {
     "name": "#%%\n"
    }
   }
  },
  {
   "cell_type": "code",
   "execution_count": null,
   "outputs": [],
   "source": [
    "\n",
    "#four hundred and thirty fourth function is np.setxor1d\n",
    "\n"
   ],
   "metadata": {
    "collapsed": false,
    "pycharm": {
     "name": "#%%\n"
    }
   }
  },
  {
   "cell_type": "code",
   "execution_count": null,
   "outputs": [],
   "source": [
    "\n",
    "#four hundred and thirty fifth function is np.shape\n",
    "\n"
   ],
   "metadata": {
    "collapsed": false,
    "pycharm": {
     "name": "#%%\n"
    }
   }
  },
  {
   "cell_type": "code",
   "execution_count": null,
   "outputs": [],
   "source": [
    "\n",
    "#four hundred and thirty sixth function is np.shares_memory\n",
    "\n"
   ],
   "metadata": {
    "collapsed": false,
    "pycharm": {
     "name": "#%%\n"
    }
   }
  },
  {
   "cell_type": "code",
   "execution_count": null,
   "outputs": [],
   "source": [
    "\n",
    "#four hundred and thirty seventh function is np.short\n",
    "\n"
   ],
   "metadata": {
    "collapsed": false,
    "pycharm": {
     "name": "#%%\n"
    }
   }
  },
  {
   "cell_type": "code",
   "execution_count": null,
   "outputs": [],
   "source": [
    "\n",
    "#four hundred and thirty eighth function is np.show_config\n",
    "\n"
   ],
   "metadata": {
    "collapsed": false,
    "pycharm": {
     "name": "#%%\n"
    }
   }
  },
  {
   "cell_type": "code",
   "execution_count": null,
   "outputs": [],
   "source": [
    "\n",
    "#four hundred and thirty ninth function is np.sign\n",
    "\n"
   ],
   "metadata": {
    "collapsed": false,
    "pycharm": {
     "name": "#%%\n"
    }
   }
  },
  {
   "cell_type": "code",
   "execution_count": null,
   "outputs": [],
   "source": [
    "\n",
    "#four hundred and fortieth function is np.signbit\n",
    "\n"
   ],
   "metadata": {
    "collapsed": false,
    "pycharm": {
     "name": "#%%\n"
    }
   }
  },
  {
   "cell_type": "code",
   "execution_count": null,
   "outputs": [],
   "source": [
    "\n",
    "#four hundred and fourty first function is np.signedinteger\n",
    "\n"
   ],
   "metadata": {
    "collapsed": false,
    "pycharm": {
     "name": "#%%\n"
    }
   }
  },
  {
   "cell_type": "code",
   "execution_count": null,
   "outputs": [],
   "source": [
    "\n",
    "#four hundred and fourty second function is np.sin\n",
    "\n"
   ],
   "metadata": {
    "collapsed": false,
    "pycharm": {
     "name": "#%%\n"
    }
   }
  },
  {
   "cell_type": "code",
   "execution_count": null,
   "outputs": [],
   "source": [
    "\n",
    "#four hundred and fourty third function is np.sinc\n",
    "\n"
   ],
   "metadata": {
    "collapsed": false,
    "pycharm": {
     "name": "#%%\n"
    }
   }
  },
  {
   "cell_type": "code",
   "execution_count": null,
   "outputs": [],
   "source": [
    "\n",
    "#four hundred and fourty fourth function is np.single\n",
    "\n"
   ],
   "metadata": {
    "collapsed": false,
    "pycharm": {
     "name": "#%%\n"
    }
   }
  },
  {
   "cell_type": "code",
   "execution_count": null,
   "outputs": [],
   "source": [
    "\n",
    "#four hundred and fourty fifth function is np.singlecomplex\n",
    "\n"
   ],
   "metadata": {
    "collapsed": false,
    "pycharm": {
     "name": "#%%\n"
    }
   }
  },
  {
   "cell_type": "code",
   "execution_count": null,
   "outputs": [],
   "source": [
    "\n",
    "#four hundred and fourty sixth function is np.sinh\n",
    "\n"
   ],
   "metadata": {
    "collapsed": false,
    "pycharm": {
     "name": "#%%\n"
    }
   }
  },
  {
   "cell_type": "code",
   "execution_count": null,
   "outputs": [],
   "source": [
    "\n",
    "#four hundred and fourty seventh function is np.size\n",
    "\n"
   ],
   "metadata": {
    "collapsed": false,
    "pycharm": {
     "name": "#%%\n"
    }
   }
  },
  {
   "cell_type": "code",
   "execution_count": null,
   "outputs": [],
   "source": [
    "\n",
    "#four hundred and fourty eighth function is np.sometrue\n",
    "\n"
   ],
   "metadata": {
    "collapsed": false,
    "pycharm": {
     "name": "#%%\n"
    }
   }
  },
  {
   "cell_type": "code",
   "execution_count": null,
   "outputs": [],
   "source": [
    "\n",
    "#four hundred and fourty ninth function is np.sort\n",
    "\n"
   ],
   "metadata": {
    "collapsed": false,
    "pycharm": {
     "name": "#%%\n"
    }
   }
  },
  {
   "cell_type": "code",
   "execution_count": null,
   "outputs": [],
   "source": [
    "\n",
    "#four hundred and fiftieth function is np.sort_complex\n",
    "\n"
   ],
   "metadata": {
    "collapsed": false,
    "pycharm": {
     "name": "#%%\n"
    }
   }
  },
  {
   "cell_type": "code",
   "execution_count": null,
   "outputs": [],
   "source": [
    "\n",
    "#four hundred and fifty first function is np.source\n",
    "\n"
   ],
   "metadata": {
    "collapsed": false,
    "pycharm": {
     "name": "#%%\n"
    }
   }
  },
  {
   "cell_type": "code",
   "execution_count": null,
   "outputs": [],
   "source": [
    "\n",
    "#four hundred and fifty second function is np.spacing\n",
    "\n"
   ],
   "metadata": {
    "collapsed": false,
    "pycharm": {
     "name": "#%%\n"
    }
   }
  },
  {
   "cell_type": "code",
   "execution_count": null,
   "outputs": [],
   "source": [
    "\n",
    "#four hundred and fifty third function is np.split\n",
    "\n"
   ],
   "metadata": {
    "collapsed": false,
    "pycharm": {
     "name": "#%%\n"
    }
   }
  },
  {
   "cell_type": "code",
   "execution_count": null,
   "outputs": [],
   "source": [
    "\n",
    "#four hundred and fifty fourth function is np.sqrt\n",
    "\n"
   ],
   "metadata": {
    "collapsed": false,
    "pycharm": {
     "name": "#%%\n"
    }
   }
  },
  {
   "cell_type": "code",
   "execution_count": null,
   "outputs": [],
   "source": [
    "\n",
    "#four hundred and fifty fifth function is np.square\n",
    "\n"
   ],
   "metadata": {
    "collapsed": false,
    "pycharm": {
     "name": "#%%\n"
    }
   }
  },
  {
   "cell_type": "code",
   "execution_count": null,
   "outputs": [],
   "source": [
    "\n",
    "#four hundred and fifty sixth function is np.squeeze\n",
    "\n"
   ],
   "metadata": {
    "collapsed": false,
    "pycharm": {
     "name": "#%%\n"
    }
   }
  },
  {
   "cell_type": "code",
   "execution_count": null,
   "outputs": [],
   "source": [
    "\n",
    "#four hundred and fifty seventh function is np.stack\n",
    "\n"
   ],
   "metadata": {
    "collapsed": false,
    "pycharm": {
     "name": "#%%\n"
    }
   }
  },
  {
   "cell_type": "code",
   "execution_count": null,
   "outputs": [],
   "source": [
    "\n",
    "#four hundred and fifty eighth function is np.std\n",
    "\n"
   ],
   "metadata": {
    "collapsed": false,
    "pycharm": {
     "name": "#%%\n"
    }
   }
  },
  {
   "cell_type": "code",
   "execution_count": null,
   "outputs": [],
   "source": [
    "\n",
    "#four hundred and fifty ninth function is np.str0\n",
    "\n"
   ],
   "metadata": {
    "collapsed": false,
    "pycharm": {
     "name": "#%%\n"
    }
   }
  },
  {
   "cell_type": "code",
   "execution_count": null,
   "outputs": [],
   "source": [
    "\n",
    "#four hundred and sixtieth function is np.str_\n",
    "\n"
   ],
   "metadata": {
    "collapsed": false,
    "pycharm": {
     "name": "#%%\n"
    }
   }
  },
  {
   "cell_type": "code",
   "execution_count": null,
   "outputs": [],
   "source": [
    "\n",
    "#four hundred and sixty first function is np.string_\n",
    "\n"
   ],
   "metadata": {
    "collapsed": false,
    "pycharm": {
     "name": "#%%\n"
    }
   }
  },
  {
   "cell_type": "code",
   "execution_count": null,
   "outputs": [],
   "source": [
    "\n",
    "#four hundred and sixty second function is np.subtract\n",
    "\n"
   ],
   "metadata": {
    "collapsed": false,
    "pycharm": {
     "name": "#%%\n"
    }
   }
  },
  {
   "cell_type": "code",
   "execution_count": null,
   "outputs": [],
   "source": [
    "\n",
    "#four hundred and sixty third function is np.sum\n",
    "\n"
   ],
   "metadata": {
    "collapsed": false,
    "pycharm": {
     "name": "#%%\n"
    }
   }
  },
  {
   "cell_type": "code",
   "execution_count": null,
   "outputs": [],
   "source": [
    "\n",
    "#four hundred and sixty fourth function is np.swapaxes\n",
    "\n"
   ],
   "metadata": {
    "collapsed": false,
    "pycharm": {
     "name": "#%%\n"
    }
   }
  },
  {
   "cell_type": "code",
   "execution_count": null,
   "outputs": [],
   "source": [
    "\n",
    "#four hundred and sixty fifth function is np.sys\n",
    "\n"
   ],
   "metadata": {
    "collapsed": false,
    "pycharm": {
     "name": "#%%\n"
    }
   }
  },
  {
   "cell_type": "code",
   "execution_count": null,
   "outputs": [],
   "source": [
    "\n",
    "#four hundred and sixty sixth function is np.take\n",
    "\n"
   ],
   "metadata": {
    "collapsed": false,
    "pycharm": {
     "name": "#%%\n"
    }
   }
  },
  {
   "cell_type": "code",
   "execution_count": null,
   "outputs": [],
   "source": [
    "\n",
    "#four hundred and sixty seventh function is np.take_along_axis\n",
    "\n"
   ],
   "metadata": {
    "collapsed": false,
    "pycharm": {
     "name": "#%%\n"
    }
   }
  },
  {
   "cell_type": "code",
   "execution_count": null,
   "outputs": [],
   "source": [
    "\n",
    "#four hundred and sixty eighth function is np.tan\n",
    "\n"
   ],
   "metadata": {
    "collapsed": false,
    "pycharm": {
     "name": "#%%\n"
    }
   }
  },
  {
   "cell_type": "code",
   "execution_count": null,
   "outputs": [],
   "source": [
    "\n",
    "#four hundred and sixty ninth function is np.tanh\n",
    "\n"
   ],
   "metadata": {
    "collapsed": false,
    "pycharm": {
     "name": "#%%\n"
    }
   }
  },
  {
   "cell_type": "code",
   "execution_count": null,
   "outputs": [],
   "source": [
    "\n",
    "#four hundred and seventieth function is np.tensordot\n",
    "\n"
   ],
   "metadata": {
    "collapsed": false,
    "pycharm": {
     "name": "#%%\n"
    }
   }
  },
  {
   "cell_type": "code",
   "execution_count": null,
   "outputs": [],
   "source": [
    "\n",
    "#four hundred and seventy first function is np.test\n",
    "\n"
   ],
   "metadata": {
    "collapsed": false,
    "pycharm": {
     "name": "#%%\n"
    }
   }
  },
  {
   "cell_type": "code",
   "execution_count": null,
   "outputs": [],
   "source": [
    "\n",
    "#four hundred and seventy second function is np.testing\n",
    "\n"
   ],
   "metadata": {
    "collapsed": false,
    "pycharm": {
     "name": "#%%\n"
    }
   }
  },
  {
   "cell_type": "code",
   "execution_count": null,
   "outputs": [],
   "source": [
    "\n",
    "#four hundred and seventy third function is np.tile\n",
    "\n"
   ],
   "metadata": {
    "collapsed": false,
    "pycharm": {
     "name": "#%%\n"
    }
   }
  },
  {
   "cell_type": "code",
   "execution_count": null,
   "outputs": [],
   "source": [
    "\n",
    "#four hundred and seventy fourth function is np.timedelta64\n",
    "\n"
   ],
   "metadata": {
    "collapsed": false,
    "pycharm": {
     "name": "#%%\n"
    }
   }
  },
  {
   "cell_type": "code",
   "execution_count": null,
   "outputs": [],
   "source": [
    "\n",
    "#four hundred and seventy fifth function is np.trace\n",
    "\n"
   ],
   "metadata": {
    "collapsed": false,
    "pycharm": {
     "name": "#%%\n"
    }
   }
  },
  {
   "cell_type": "code",
   "execution_count": null,
   "outputs": [],
   "source": [
    "\n",
    "#four hundred and seventy sixth function is np.tracemalloc_domain\n",
    "\n"
   ],
   "metadata": {
    "collapsed": false,
    "pycharm": {
     "name": "#%%\n"
    }
   }
  },
  {
   "cell_type": "code",
   "execution_count": null,
   "outputs": [],
   "source": [
    "\n",
    "#four hundred and seventy seventh function is np.transpose\n",
    "\n"
   ],
   "metadata": {
    "collapsed": false,
    "pycharm": {
     "name": "#%%\n"
    }
   }
  },
  {
   "cell_type": "code",
   "execution_count": null,
   "outputs": [],
   "source": [
    "\n",
    "#four hundred and seventy eighth function is np.trapz\n",
    "\n"
   ],
   "metadata": {
    "collapsed": false,
    "pycharm": {
     "name": "#%%\n"
    }
   }
  },
  {
   "cell_type": "code",
   "execution_count": null,
   "outputs": [],
   "source": [
    "\n",
    "#four hundred and seventy ninth function is np.tri\n",
    "\n"
   ],
   "metadata": {
    "collapsed": false,
    "pycharm": {
     "name": "#%%\n"
    }
   }
  },
  {
   "cell_type": "code",
   "execution_count": null,
   "outputs": [],
   "source": [
    "\n",
    "#four hundred and eightieth function is np.tril\n",
    "\n"
   ],
   "metadata": {
    "collapsed": false,
    "pycharm": {
     "name": "#%%\n"
    }
   }
  },
  {
   "cell_type": "code",
   "execution_count": null,
   "outputs": [],
   "source": [
    "\n",
    "#four hundred and eighty first function is np.tril_indices\n",
    "\n"
   ],
   "metadata": {
    "collapsed": false,
    "pycharm": {
     "name": "#%%\n"
    }
   }
  },
  {
   "cell_type": "code",
   "execution_count": null,
   "outputs": [],
   "source": [
    "\n",
    "#four hundred and eighty second function is np.tril_indices_from\n",
    "\n"
   ],
   "metadata": {
    "collapsed": false,
    "pycharm": {
     "name": "#%%\n"
    }
   }
  },
  {
   "cell_type": "code",
   "execution_count": null,
   "outputs": [],
   "source": [
    "\n",
    "#four hundred and eighty third function is np.trim_zeros\n",
    "\n"
   ],
   "metadata": {
    "collapsed": false,
    "pycharm": {
     "name": "#%%\n"
    }
   }
  },
  {
   "cell_type": "code",
   "execution_count": null,
   "outputs": [],
   "source": [
    "\n",
    "#four hundred and eighty fourth function is np.triu\n",
    "\n"
   ],
   "metadata": {
    "collapsed": false,
    "pycharm": {
     "name": "#%%\n"
    }
   }
  },
  {
   "cell_type": "code",
   "execution_count": null,
   "outputs": [],
   "source": [
    "\n",
    "#four hundred and eighty fifth function is np.triu_indices\n",
    "\n"
   ],
   "metadata": {
    "collapsed": false,
    "pycharm": {
     "name": "#%%\n"
    }
   }
  },
  {
   "cell_type": "code",
   "execution_count": null,
   "outputs": [],
   "source": [
    "\n",
    "#four hundred and eighty sixth function is np.triu_indices_from\n",
    "\n"
   ],
   "metadata": {
    "collapsed": false,
    "pycharm": {
     "name": "#%%\n"
    }
   }
  },
  {
   "cell_type": "code",
   "execution_count": null,
   "outputs": [],
   "source": [
    "\n",
    "#four hundred and eighty seventh function is np.true_divide\n",
    "\n"
   ],
   "metadata": {
    "collapsed": false,
    "pycharm": {
     "name": "#%%\n"
    }
   }
  },
  {
   "cell_type": "code",
   "execution_count": null,
   "outputs": [],
   "source": [
    "\n",
    "#four hundred and eighty eighth function is np.trunc\n",
    "\n"
   ],
   "metadata": {
    "collapsed": false,
    "pycharm": {
     "name": "#%%\n"
    }
   }
  },
  {
   "cell_type": "code",
   "execution_count": null,
   "outputs": [],
   "source": [
    "\n",
    "#four hundred and eighty ninth function is np.typecodes\n",
    "\n"
   ],
   "metadata": {
    "collapsed": false,
    "pycharm": {
     "name": "#%%\n"
    }
   }
  },
  {
   "cell_type": "code",
   "execution_count": null,
   "outputs": [],
   "source": [
    "\n",
    "#four hundred and ninetieth function is np.typename\n",
    "\n"
   ],
   "metadata": {
    "collapsed": false,
    "pycharm": {
     "name": "#%%\n"
    }
   }
  },
  {
   "cell_type": "code",
   "execution_count": null,
   "outputs": [],
   "source": [
    "\n",
    "#four hundred and ninety first function is np.ubyte\n",
    "\n"
   ],
   "metadata": {
    "collapsed": false,
    "pycharm": {
     "name": "#%%\n"
    }
   }
  },
  {
   "cell_type": "code",
   "execution_count": null,
   "outputs": [],
   "source": [
    "\n",
    "#four hundred and ninety second function is np.ufunc\n",
    "\n"
   ],
   "metadata": {
    "collapsed": false,
    "pycharm": {
     "name": "#%%\n"
    }
   }
  },
  {
   "cell_type": "code",
   "execution_count": null,
   "outputs": [],
   "source": [
    "\n",
    "#four hundred and ninety third function is np.uint\n",
    "\n"
   ],
   "metadata": {
    "collapsed": false,
    "pycharm": {
     "name": "#%%\n"
    }
   }
  },
  {
   "cell_type": "code",
   "execution_count": null,
   "outputs": [],
   "source": [
    "\n",
    "#four hundred and ninety fourth function is np.uint0\n",
    "\n"
   ],
   "metadata": {
    "collapsed": false,
    "pycharm": {
     "name": "#%%\n"
    }
   }
  },
  {
   "cell_type": "code",
   "execution_count": null,
   "outputs": [],
   "source": [
    "\n",
    "#four hundred and ninety fifth function is np.uint16\n",
    "\n"
   ],
   "metadata": {
    "collapsed": false,
    "pycharm": {
     "name": "#%%\n"
    }
   }
  },
  {
   "cell_type": "code",
   "execution_count": null,
   "outputs": [],
   "source": [
    "\n",
    "#four hundred and ninety sixth function is np.uint32\n",
    "\n"
   ],
   "metadata": {
    "collapsed": false,
    "pycharm": {
     "name": "#%%\n"
    }
   }
  },
  {
   "cell_type": "code",
   "execution_count": null,
   "outputs": [],
   "source": [
    "\n",
    "#four hundred and ninety seventh function is np.uint64\n",
    "\n"
   ],
   "metadata": {
    "collapsed": false,
    "pycharm": {
     "name": "#%%\n"
    }
   }
  },
  {
   "cell_type": "code",
   "execution_count": null,
   "outputs": [],
   "source": [
    "\n",
    "#four hundred and ninety eighth function is np.uint8\n",
    "\n"
   ],
   "metadata": {
    "collapsed": false,
    "pycharm": {
     "name": "#%%\n"
    }
   }
  },
  {
   "cell_type": "code",
   "execution_count": null,
   "outputs": [],
   "source": [
    "\n",
    "#four hundred and ninety ninth function is np.uintc\n",
    "\n"
   ],
   "metadata": {
    "collapsed": false,
    "pycharm": {
     "name": "#%%\n"
    }
   }
  },
  {
   "cell_type": "code",
   "execution_count": null,
   "outputs": [],
   "source": [
    "\n",
    "#five hundredth function is np.uintp\n",
    "\n"
   ],
   "metadata": {
    "collapsed": false,
    "pycharm": {
     "name": "#%%\n"
    }
   }
  },
  {
   "cell_type": "code",
   "execution_count": null,
   "outputs": [],
   "source": [
    "\n",
    "#five hundred and first function is np.ulonglong\n",
    "\n"
   ],
   "metadata": {
    "collapsed": false,
    "pycharm": {
     "name": "#%%\n"
    }
   }
  },
  {
   "cell_type": "code",
   "execution_count": null,
   "outputs": [],
   "source": [
    "\n",
    "#five hundred and second function is np.unicode_\n",
    "\n"
   ],
   "metadata": {
    "collapsed": false,
    "pycharm": {
     "name": "#%%\n"
    }
   }
  },
  {
   "cell_type": "code",
   "execution_count": null,
   "outputs": [],
   "source": [
    "\n",
    "#five hundred and third function is np.union1d\n",
    "\n"
   ],
   "metadata": {
    "collapsed": false,
    "pycharm": {
     "name": "#%%\n"
    }
   }
  },
  {
   "cell_type": "code",
   "execution_count": null,
   "outputs": [],
   "source": [
    "\n",
    "\n",
    "#five hundred and fourth function is np.unique\n",
    "\n"
   ],
   "metadata": {
    "collapsed": false,
    "pycharm": {
     "name": "#%%\n"
    }
   }
  },
  {
   "cell_type": "code",
   "execution_count": null,
   "outputs": [],
   "source": [
    "\n",
    "#five hundred and fifth function is np.unpackbits\n",
    "\n"
   ],
   "metadata": {
    "collapsed": false,
    "pycharm": {
     "name": "#%%\n"
    }
   }
  },
  {
   "cell_type": "code",
   "execution_count": null,
   "outputs": [],
   "source": [
    "\n",
    "#five hundred and sixth function is np.unravel_index\n",
    "\n"
   ],
   "metadata": {
    "collapsed": false,
    "pycharm": {
     "name": "#%%\n"
    }
   }
  },
  {
   "cell_type": "code",
   "execution_count": null,
   "outputs": [],
   "source": [
    "\n",
    "#five hundred and seventh function is np.unsignedinteger\n",
    "\n"
   ],
   "metadata": {
    "collapsed": false,
    "pycharm": {
     "name": "#%%\n"
    }
   }
  },
  {
   "cell_type": "code",
   "execution_count": null,
   "outputs": [],
   "source": [
    "\n",
    "#five hundred and eighth function is np.unwrap\n",
    "\n"
   ],
   "metadata": {
    "collapsed": false,
    "pycharm": {
     "name": "#%%\n"
    }
   }
  },
  {
   "cell_type": "code",
   "execution_count": null,
   "outputs": [],
   "source": [
    "\n",
    "#five hundred and ninth function is np.use_hugepage\n",
    "\n"
   ],
   "metadata": {
    "collapsed": false,
    "pycharm": {
     "name": "#%%\n"
    }
   }
  },
  {
   "cell_type": "code",
   "execution_count": null,
   "outputs": [],
   "source": [
    "\n",
    "#five hundred and tenth function is np.ushort\n"
   ],
   "metadata": {
    "collapsed": false,
    "pycharm": {
     "name": "#%%\n"
    }
   }
  },
  {
   "cell_type": "code",
   "execution_count": null,
   "outputs": [],
   "source": [
    "\n",
    "#five hundred and eleventh function is np.vander\n"
   ],
   "metadata": {
    "collapsed": false,
    "pycharm": {
     "name": "#%%\n"
    }
   }
  },
  {
   "cell_type": "code",
   "execution_count": null,
   "outputs": [],
   "source": [
    "\n",
    "#five hundred and twelveth function is np.var\n",
    "\n"
   ],
   "metadata": {
    "collapsed": false,
    "pycharm": {
     "name": "#%%\n"
    }
   }
  },
  {
   "cell_type": "code",
   "execution_count": null,
   "outputs": [],
   "source": [
    "\n",
    "#five hundred and thirteenth function is np.vdot\n",
    "\n"
   ],
   "metadata": {
    "collapsed": false,
    "pycharm": {
     "name": "#%%\n"
    }
   }
  },
  {
   "cell_type": "code",
   "execution_count": null,
   "outputs": [],
   "source": [
    "\n",
    "#five hundred and fourteenth function is np.vectorize\n",
    "\n"
   ],
   "metadata": {
    "collapsed": false,
    "pycharm": {
     "name": "#%%\n"
    }
   }
  },
  {
   "cell_type": "code",
   "execution_count": null,
   "outputs": [],
   "source": [
    "\n",
    "#five hundred and fifteenth function is np.version\n",
    "\n"
   ],
   "metadata": {
    "collapsed": false,
    "pycharm": {
     "name": "#%%\n"
    }
   }
  },
  {
   "cell_type": "code",
   "execution_count": null,
   "outputs": [],
   "source": [
    "\n",
    "#five hundred and sixteenth function is np.void\n",
    "\n"
   ],
   "metadata": {
    "collapsed": false,
    "pycharm": {
     "name": "#%%\n"
    }
   }
  },
  {
   "cell_type": "code",
   "execution_count": null,
   "outputs": [],
   "source": [
    "\n",
    "#five hundred and seventeenth function is np.void0\n",
    "\n"
   ],
   "metadata": {
    "collapsed": false,
    "pycharm": {
     "name": "#%%\n"
    }
   }
  },
  {
   "cell_type": "code",
   "execution_count": null,
   "outputs": [],
   "source": [
    "\n",
    "#five hundred and eighteenth function is np.vsplit\n",
    "\n"
   ],
   "metadata": {
    "collapsed": false,
    "pycharm": {
     "name": "#%%\n"
    }
   }
  },
  {
   "cell_type": "code",
   "execution_count": null,
   "outputs": [],
   "source": [
    "\n",
    "#five hundred and nineteenth function is np.vstack\n",
    "\n"
   ],
   "metadata": {
    "collapsed": false,
    "pycharm": {
     "name": "#%%\n"
    }
   }
  },
  {
   "cell_type": "code",
   "execution_count": null,
   "outputs": [],
   "source": [
    "\n",
    "#five hundred and twentieth function is np.w\n",
    "\n"
   ],
   "metadata": {
    "collapsed": false,
    "pycharm": {
     "name": "#%%\n"
    }
   }
  },
  {
   "cell_type": "code",
   "execution_count": null,
   "outputs": [],
   "source": [
    "\n",
    "#five hundred and twenty first function is np.warnings\n",
    "\n"
   ],
   "metadata": {
    "collapsed": false,
    "pycharm": {
     "name": "#%%\n"
    }
   }
  },
  {
   "cell_type": "code",
   "execution_count": null,
   "outputs": [],
   "source": [
    "\n",
    "#five hundred and twenty second function is np.where\n",
    "\n"
   ],
   "metadata": {
    "collapsed": false,
    "pycharm": {
     "name": "#%%\n"
    }
   }
  },
  {
   "cell_type": "code",
   "execution_count": null,
   "outputs": [],
   "source": [
    "\n",
    "#five hundred and twenty third function is np.who\n",
    "\n"
   ],
   "metadata": {
    "collapsed": false,
    "pycharm": {
     "name": "#%%\n"
    }
   }
  },
  {
   "cell_type": "code",
   "execution_count": null,
   "outputs": [],
   "source": [
    "\n",
    "#five hundred and twenty fourth function is np.zeros\n",
    "\n"
   ],
   "metadata": {
    "collapsed": false,
    "pycharm": {
     "name": "#%%\n"
    }
   }
  },
  {
   "cell_type": "code",
   "execution_count": null,
   "outputs": [],
   "source": [
    "\n",
    "#five hundred and twenty fifth function is np.zeros_like\n"
   ],
   "metadata": {
    "collapsed": false,
    "pycharm": {
     "name": "#%%\n"
    }
   }
  },
  {
   "cell_type": "markdown",
   "source": [
    "## thank you !!!"
   ],
   "metadata": {
    "collapsed": false,
    "pycharm": {
     "name": "#%% md\n"
    }
   }
  },
  {
   "cell_type": "code",
   "execution_count": null,
   "outputs": [],
   "source": [],
   "metadata": {
    "collapsed": false,
    "pycharm": {
     "name": "#%%\n"
    }
   }
  }
 ],
 "metadata": {
  "kernelspec": {
   "display_name": "Python 3 (ipykernel)",
   "language": "python",
   "name": "python3"
  },
  "language_info": {
   "codemirror_mode": {
    "name": "ipython",
    "version": 3
   },
   "file_extension": ".py",
   "mimetype": "text/x-python",
   "name": "python",
   "nbconvert_exporter": "python",
   "pygments_lexer": "ipython3",
   "version": "3.8.9"
  }
 },
 "nbformat": 4,
 "nbformat_minor": 1
}