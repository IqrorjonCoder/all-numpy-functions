{
 "cells": [
  {
   "cell_type": "code",
   "execution_count": 3,
   "metadata": {
    "pycharm": {
     "name": "#%%\n"
    }
   },
   "outputs": [],
   "source": [
    "#### All numpy functions"
   ]
  },
  {
   "cell_type": "code",
   "execution_count": 1,
   "metadata": {
    "pycharm": {
     "name": "#%%\n"
    }
   },
   "outputs": [],
   "source": [
    "# import numpy\n",
    "\n",
    "# !pip install numpy\n",
    "\n",
    "import numpy as np\n"
   ]
  },
  {
   "cell_type": "code",
   "execution_count": 2,
   "metadata": {
    "pycharm": {
     "name": "#%%\n"
    }
   },
   "outputs": [
    {
     "name": "stdout",
     "output_type": "stream",
     "text": [
      "numpy all functions count : 522\n",
      "0 : abs\n",
      "1 : absolute\n",
      "2 : add\n",
      "3 : add_docstring\n",
      "4 : add_newdoc\n",
      "5 : add_newdoc_ufunc\n",
      "6 : all\n",
      "7 : allclose\n",
      "8 : alltrue\n",
      "9 : amax\n",
      "10 : amin\n",
      "11 : angle\n",
      "12 : any\n",
      "13 : append\n",
      "14 : apply_along_axis\n",
      "15 : apply_over_axes\n",
      "16 : arange\n",
      "17 : arccos\n",
      "18 : arccosh\n",
      "19 : arcsin\n",
      "20 : arcsinh\n",
      "21 : arctan\n",
      "22 : arctan2\n",
      "23 : arctanh\n",
      "24 : argmax\n",
      "25 : argmin\n",
      "26 : argpartition\n",
      "27 : argsort\n",
      "28 : argwhere\n",
      "29 : around\n",
      "30 : array\n",
      "31 : array2string\n",
      "32 : array_equal\n",
      "33 : array_equiv\n",
      "34 : array_repr\n",
      "35 : array_split\n",
      "36 : array_str\n",
      "37 : asanyarray\n",
      "38 : asarray\n",
      "39 : asarray_chkfinite\n",
      "40 : ascontiguousarray\n",
      "41 : asfarray\n",
      "42 : asfortranarray\n",
      "43 : asmatrix\n",
      "44 : atleast_1d\n",
      "45 : atleast_2d\n",
      "46 : atleast_3d\n",
      "47 : average\n",
      "48 : bartlett\n",
      "49 : base_repr\n",
      "50 : binary_repr\n",
      "51 : bincount\n",
      "52 : bitwise_and\n",
      "53 : bitwise_not\n",
      "54 : bitwise_or\n",
      "55 : bitwise_xor\n",
      "56 : blackman\n",
      "57 : block\n",
      "58 : bmat\n",
      "59 : bool8\n",
      "60 : bool_\n",
      "61 : broadcast\n",
      "62 : broadcast_arrays\n",
      "63 : broadcast_shapes\n",
      "64 : broadcast_to\n",
      "65 : busday_count\n",
      "66 : busday_offset\n",
      "67 : busdaycalendar\n",
      "68 : byte\n",
      "69 : byte_bounds\n",
      "70 : bytes0\n",
      "71 : bytes_\n",
      "72 : can_cast\n",
      "73 : cast\n",
      "74 : cbrt\n",
      "75 : cdouble\n",
      "76 : ceil\n",
      "77 : cfloat\n",
      "78 : char\n",
      "79 : character\n",
      "80 : chararray\n",
      "81 : choose\n",
      "82 : clip\n",
      "83 : clongdouble\n",
      "84 : clongfloat\n",
      "85 : column_stack\n",
      "86 : common_type\n",
      "87 : compare_chararrays\n",
      "88 : compat\n",
      "89 : complex128\n",
      "90 : complex64\n",
      "91 : complex_\n",
      "92 : complexfloating\n",
      "93 : compress\n",
      "94 : concatenate\n",
      "95 : conj\n",
      "96 : conjugate\n",
      "97 : convolve\n",
      "98 : copy\n",
      "99 : copysign\n",
      "100 : copyto\n",
      "101 : core\n",
      "102 : corrcoef\n",
      "103 : correlate\n",
      "104 : cos\n",
      "105 : cosh\n",
      "106 : count_nonzero\n",
      "107 : cov\n",
      "108 : cross\n",
      "109 : csingle\n",
      "110 : ctypeslib\n",
      "111 : cumprod\n",
      "112 : cumproduct\n",
      "113 : cumsum\n",
      "114 : datetime64\n",
      "115 : datetime_as_string\n",
      "116 : datetime_data\n",
      "117 : deg2rad\n",
      "118 : degrees\n",
      "119 : delete\n",
      "120 : deprecate\n",
      "121 : deprecate_with_doc\n",
      "122 : diag\n",
      "123 : diag_indices\n",
      "124 : diag_indices_from\n",
      "125 : diagflat\n",
      "126 : diagonal\n",
      "127 : diff\n",
      "128 : digitize\n",
      "129 : disp\n",
      "130 : divide\n",
      "131 : divmod\n",
      "132 : dot\n",
      "133 : double\n",
      "134 : dsplit\n",
      "135 : dstack\n",
      "136 : dtype\n",
      "137 : e\n",
      "138 : ediff1d\n",
      "139 : einsum\n",
      "140 : einsum_path\n",
      "141 : emath\n",
      "142 : empty\n",
      "143 : empty_like\n",
      "144 : equal\n",
      "145 : errstate\n",
      "146 : euler_gamma\n",
      "147 : exp\n",
      "148 : exp2\n",
      "149 : expand_dims\n",
      "150 : expm1\n",
      "151 : extract\n",
      "152 : eye\n",
      "153 : fabs\n",
      "154 : fastCopyAndTranspose\n",
      "155 : fft\n",
      "156 : fill_diagonal\n",
      "157 : find_common_type\n",
      "158 : finfo\n",
      "159 : fix\n",
      "160 : flatiter\n",
      "161 : flatnonzero\n",
      "162 : flexible\n",
      "163 : flip\n",
      "164 : fliplr\n",
      "165 : flipud\n",
      "166 : float16\n",
      "167 : float32\n",
      "168 : float64\n",
      "169 : float_\n",
      "170 : float_power\n",
      "171 : floating\n",
      "172 : floor\n",
      "173 : floor_divide\n",
      "174 : fmax\n",
      "175 : fmin\n",
      "176 : fmod\n",
      "177 : format_float_positional\n",
      "178 : format_float_scientific\n",
      "179 : format_parser\n",
      "180 : frexp\n",
      "181 : from_dlpack\n",
      "182 : frombuffer\n",
      "183 : fromfile\n",
      "184 : fromfunction\n",
      "185 : fromiter\n",
      "186 : frompyfunc\n",
      "187 : fromregex\n",
      "188 : fromstring\n",
      "189 : full\n",
      "190 : full_like\n",
      "191 : gcd\n",
      "192 : generic\n",
      "193 : genfromtxt\n",
      "194 : geomspace\n",
      "195 : get_array_wrap\n",
      "196 : get_include\n",
      "197 : get_printoptions\n",
      "198 : getbufsize\n",
      "199 : geterr\n",
      "200 : geterrcall\n",
      "201 : geterrobj\n",
      "202 : gradient\n",
      "203 : greater\n",
      "204 : greater_equal\n",
      "205 : half\n",
      "206 : hamming\n",
      "207 : hanning\n",
      "208 : heaviside\n",
      "209 : histogram\n",
      "210 : histogram2d\n",
      "211 : histogram_bin_edges\n",
      "212 : histogramdd\n",
      "213 : hsplit\n",
      "214 : hstack\n",
      "215 : hypot\n",
      "216 : i0\n",
      "217 : identity\n",
      "218 : iinfo\n",
      "219 : imag\n",
      "220 : in1d\n",
      "221 : index_exp\n",
      "222 : indices\n",
      "223 : inexact\n",
      "224 : inf\n",
      "225 : info\n",
      "226 : infty\n",
      "227 : inner\n",
      "228 : insert\n",
      "229 : int0\n",
      "230 : int16\n",
      "231 : int32\n",
      "232 : int64\n",
      "233 : int8\n",
      "234 : int_\n",
      "235 : intc\n",
      "236 : integer\n",
      "237 : interp\n",
      "238 : intersect1d\n",
      "239 : intp\n",
      "240 : invert\n",
      "241 : is_busday\n",
      "242 : isclose\n",
      "243 : iscomplex\n",
      "244 : iscomplexobj\n",
      "245 : isfinite\n",
      "246 : isfortran\n",
      "247 : isin\n",
      "248 : isinf\n",
      "249 : isnan\n",
      "250 : isnat\n",
      "251 : isneginf\n",
      "252 : isposinf\n",
      "253 : isreal\n",
      "254 : isrealobj\n",
      "255 : isscalar\n",
      "256 : issctype\n",
      "257 : issubclass_\n",
      "258 : issubdtype\n",
      "259 : issubsctype\n",
      "260 : iterable\n",
      "261 : ix_\n",
      "262 : kaiser\n",
      "263 : kron\n",
      "264 : lcm\n",
      "265 : ldexp\n",
      "266 : left_shift\n",
      "267 : less\n",
      "268 : less_equal\n",
      "269 : lexsort\n",
      "270 : lib\n",
      "271 : linalg\n",
      "272 : linspace\n",
      "273 : little_endian\n",
      "274 : load\n",
      "275 : loadtxt\n",
      "276 : log\n",
      "277 : log10\n",
      "278 : log1p\n",
      "279 : log2\n",
      "280 : logaddexp\n",
      "281 : logaddexp2\n",
      "282 : logical_and\n",
      "283 : logical_not\n",
      "284 : logical_or\n",
      "285 : logical_xor\n",
      "286 : logspace\n",
      "287 : longcomplex\n",
      "288 : longdouble\n",
      "289 : longfloat\n",
      "290 : longlong\n",
      "291 : lookfor\n",
      "292 : ma\n",
      "293 : mask_indices\n",
      "294 : mat\n",
      "295 : math\n",
      "296 : matmul\n",
      "297 : matrix\n",
      "298 : matrixlib\n",
      "299 : max\n",
      "300 : maximum\n",
      "301 : maximum_sctype\n",
      "302 : may_share_memory\n",
      "303 : mean\n",
      "304 : median\n",
      "305 : memmap\n",
      "306 : meshgrid\n",
      "307 : mgrid\n",
      "308 : min\n",
      "309 : min_scalar_type\n",
      "310 : minimum\n",
      "311 : mintypecode\n",
      "312 : mod\n",
      "313 : modf\n",
      "314 : moveaxis\n",
      "315 : msort\n",
      "316 : multiply\n",
      "317 : nan\n",
      "318 : nan_to_num\n",
      "319 : nanargmax\n",
      "320 : nanargmin\n",
      "321 : nancumprod\n",
      "322 : nancumsum\n",
      "323 : nanmax\n",
      "324 : nanmean\n",
      "325 : nanmedian\n",
      "326 : nanmin\n",
      "327 : nanpercentile\n",
      "328 : nanprod\n",
      "329 : nanquantile\n",
      "330 : nanstd\n",
      "331 : nansum\n",
      "332 : nanvar\n",
      "333 : nbytes\n",
      "334 : ndarray\n",
      "335 : ndenumerate\n",
      "336 : ndim\n",
      "337 : ndindex\n",
      "338 : nditer\n",
      "339 : negative\n",
      "340 : nested_iters\n",
      "341 : newaxis\n",
      "342 : nextafter\n",
      "343 : nonzero\n",
      "344 : not_equal\n",
      "345 : numarray\n",
      "346 : number\n",
      "347 : obj2sctype\n",
      "348 : object0\n",
      "349 : object_\n",
      "350 : ogrid\n",
      "351 : oldnumeric\n",
      "352 : ones\n",
      "353 : ones_like\n",
      "354 : os\n",
      "355 : outer\n",
      "356 : packbits\n",
      "357 : pad\n",
      "358 : partition\n",
      "359 : percentile\n",
      "360 : pi\n",
      "361 : piecewise\n",
      "362 : place\n",
      "363 : poly\n",
      "364 : poly1d\n",
      "365 : polyadd\n",
      "366 : polyder\n",
      "367 : polydiv\n",
      "368 : polyfit\n",
      "369 : polyint\n",
      "370 : polymul\n",
      "371 : polynomial\n",
      "372 : polysub\n",
      "373 : polyval\n",
      "374 : positive\n",
      "375 : power\n",
      "376 : printoptions\n",
      "377 : prod\n",
      "378 : product\n",
      "379 : promote_types\n",
      "380 : ptp\n",
      "381 : put\n",
      "382 : put_along_axis\n",
      "383 : putmask\n",
      "384 : quantile\n",
      "385 : rad2deg\n",
      "386 : radians\n",
      "387 : random\n",
      "388 : ravel\n",
      "389 : ravel_multi_index\n",
      "390 : real\n",
      "391 : real_if_close\n",
      "392 : rec\n",
      "393 : recarray\n",
      "394 : recfromcsv\n",
      "395 : recfromtxt\n",
      "396 : reciprocal\n",
      "397 : record\n",
      "398 : remainder\n",
      "399 : repeat\n",
      "400 : require\n",
      "401 : reshape\n",
      "402 : resize\n",
      "403 : result_type\n",
      "404 : right_shift\n",
      "405 : rint\n",
      "406 : roll\n",
      "407 : rollaxis\n",
      "408 : roots\n",
      "409 : rot90\n",
      "410 : round\n",
      "411 : round_\n",
      "412 : row_stack\n",
      "413 : safe_eval\n",
      "414 : save\n",
      "415 : savetxt\n",
      "416 : savez\n",
      "417 : savez_compressed\n",
      "418 : sctype2char\n",
      "419 : sctypeDict\n",
      "420 : sctypes\n",
      "421 : searchsorted\n",
      "422 : select\n",
      "423 : set_numeric_ops\n",
      "424 : set_printoptions\n",
      "425 : set_string_function\n",
      "426 : setbufsize\n",
      "427 : setdiff1d\n",
      "428 : seterr\n",
      "429 : seterrcall\n",
      "430 : seterrobj\n",
      "431 : setxor1d\n",
      "432 : shape\n",
      "433 : shares_memory\n",
      "434 : short\n",
      "435 : show_config\n",
      "436 : sign\n",
      "437 : signbit\n",
      "438 : signedinteger\n",
      "439 : sin\n",
      "440 : sinc\n",
      "441 : single\n",
      "442 : singlecomplex\n",
      "443 : sinh\n",
      "444 : size\n",
      "445 : sometrue\n",
      "446 : sort\n",
      "447 : sort_complex\n",
      "448 : source\n",
      "449 : spacing\n",
      "450 : split\n",
      "451 : sqrt\n",
      "452 : square\n",
      "453 : squeeze\n",
      "454 : stack\n",
      "455 : std\n",
      "456 : str0\n",
      "457 : str_\n",
      "458 : string_\n",
      "459 : subtract\n",
      "460 : sum\n",
      "461 : swapaxes\n",
      "462 : sys\n",
      "463 : take\n",
      "464 : take_along_axis\n",
      "465 : tan\n",
      "466 : tanh\n",
      "467 : tensordot\n",
      "468 : test\n",
      "469 : testing\n",
      "470 : tile\n",
      "471 : timedelta64\n",
      "472 : trace\n",
      "473 : tracemalloc_domain\n",
      "474 : transpose\n",
      "475 : trapz\n",
      "476 : tri\n",
      "477 : tril\n",
      "478 : tril_indices\n",
      "479 : tril_indices_from\n",
      "480 : trim_zeros\n",
      "481 : triu\n",
      "482 : triu_indices\n",
      "483 : triu_indices_from\n",
      "484 : true_divide\n",
      "485 : trunc\n",
      "486 : typecodes\n",
      "487 : typename\n",
      "488 : ubyte\n",
      "489 : ufunc\n",
      "490 : uint\n",
      "491 : uint0\n",
      "492 : uint16\n",
      "493 : uint32\n",
      "494 : uint64\n",
      "495 : uint8\n",
      "496 : uintc\n",
      "497 : uintp\n",
      "498 : ulonglong\n",
      "499 : unicode_\n",
      "500 : union1d\n",
      "501 : unique\n",
      "502 : unpackbits\n",
      "503 : unravel_index\n",
      "504 : unsignedinteger\n",
      "505 : unwrap\n",
      "506 : use_hugepage\n",
      "507 : ushort\n",
      "508 : vander\n",
      "509 : var\n",
      "510 : vdot\n",
      "511 : vectorize\n",
      "512 : version\n",
      "513 : void\n",
      "514 : void0\n",
      "515 : vsplit\n",
      "516 : vstack\n",
      "517 : warnings\n",
      "518 : where\n",
      "519 : who\n",
      "520 : zeros\n",
      "521 : zeros_like\n"
     ]
    }
   ],
   "source": [
    "\n",
    "all_functions = [i for i in dir(np) if not '_' in (i[:2] or i[1]) and i[:1].isupper() == False]\n",
    "\n",
    "print(f\"numpy all functions count : {len(all_functions)}\")\n",
    "\n",
    "for i, v in enumerate(all_functions):\n",
    "    print(f\"{i} : {v}\")\n"
   ]
  },
  {
   "cell_type": "markdown",
   "metadata": {
    "pycharm": {
     "name": "#%% md\n"
    }
   },
   "source": [
    "## start coding"
   ]
  },
  {
   "cell_type": "code",
   "execution_count": 4,
   "metadata": {
    "pycharm": {
     "name": "#%%\n"
    }
   },
   "outputs": [
    {
     "data": {
      "text/plain": "array([1, 2, 3, 4, 5])"
     },
     "execution_count": 4,
     "metadata": {},
     "output_type": "execute_result"
    }
   ],
   "source": [
    "#first function is np.abs\n",
    "\n",
    "array = np.array([-1, -2, -3, -4, -5])\n",
    "np.absolute(array) # or np.abs(array)\n"
   ]
  },
  {
   "cell_type": "code",
   "execution_count": 5,
   "outputs": [
    {
     "data": {
      "text/plain": "array([[ 0,  2,  4],\n       [ 3,  5,  7],\n       [ 6,  8, 10]])"
     },
     "execution_count": 5,
     "metadata": {},
     "output_type": "execute_result"
    }
   ],
   "source": [
    "\n",
    "#second function is np.add\n",
    "\n",
    "a1 = 123\n",
    "a2 = 321\n",
    "np.add(a1, a2)\n",
    "\n",
    "array1 = np.array([0,1,2,3,4,5,6,7,8]).reshape(3,3)\n",
    "array2 = np.array([0,1,2])\n",
    "\n",
    "np.add(array1, array2)\n"
   ],
   "metadata": {
    "collapsed": false,
    "pycharm": {
     "name": "#%%\n"
    }
   }
  },
  {
   "cell_type": "code",
   "execution_count": 6,
   "outputs": [
    {
     "name": "stdout",
     "output_type": "stream",
     "text": [
      "this is documentation string\n"
     ]
    }
   ],
   "source": [
    "\n",
    "#third function is np.add_docstring\n",
    "\n",
    "def func():\n",
    "    # \"\"\"\n",
    "    # you need write doc string here\n",
    "    # \"\"\"\n",
    "    return \"there is not any documentation string. please add documentation string\"\n",
    "\n",
    "np.add_docstring(func, \"this is documentation string\")\n",
    "\n",
    "print(func.__doc__)\n"
   ],
   "metadata": {
    "collapsed": false,
    "pycharm": {
     "name": "#%%\n"
    }
   }
  },
  {
   "cell_type": "code",
   "execution_count": 7,
   "outputs": [
    {
     "name": "stdout",
     "output_type": "stream",
     "text": [
      "this is a new docstring\n"
     ]
    },
    {
     "name": "stderr",
     "output_type": "stream",
     "text": [
      "/var/folders/7v/1c76ypv54yx261vygq63_47w0000gp/T/ipykernel_5396/125474528.py:14: UserWarning: add_newdoc was used on a pure-python object <class 'example.New'>. Prefer to attach it directly to the source.\n",
      "  np.add_newdoc('example', 'New', \"this is a new docstring\")\n"
     ]
    }
   ],
   "source": [
    "\n",
    "# fourth function is np.add_newdoc\n",
    "\n",
    "#create example.py and write in it the code\n",
    "                                            # class New:\n",
    "                                            #     def __init__(self, a):\n",
    "                                            #         self.a = a\n",
    "                                            #\n",
    "                                            #     def main(self):\n",
    "                                            #         return \"docs iqrorjon\"\n",
    "\n",
    "\n",
    "#and write in main.py the codes\n",
    "import example\n",
    "np.add_newdoc('example', 'New', \"this is a new docstring\")\n",
    "print(example.New.__doc__)\n",
    "\n"
   ],
   "metadata": {
    "collapsed": false,
    "pycharm": {
     "name": "#%%\n"
    }
   }
  },
  {
   "cell_type": "code",
   "execution_count": 322,
   "metadata": {
    "pycharm": {
     "name": "#%%\n"
    }
   },
   "outputs": [],
   "source": [
    "\n",
    "# fifth function is np.add_newdoc_ufunc\n",
    "np.add_newdoc_ufunc(np.multiply, \"this is a new string\")\n",
    "print(np.multiply.__doc__)\n"
   ]
  },
  {
   "cell_type": "code",
   "execution_count": 9,
   "metadata": {
    "pycharm": {
     "name": "#%%\n"
    }
   },
   "outputs": [
    {
     "name": "stdout",
     "output_type": "stream",
     "text": [
      "False\n",
      "[False  True]\n"
     ]
    }
   ],
   "source": [
    "\n",
    "#sixth function is np.all\n",
    "\n",
    "array1 = np.array([[True, False],\n",
    "                   [True, True]])\n",
    "print(np.all(array1))\n",
    "print(np.all(array1, axis=1)) # axis=1 is horizontal"
   ]
  },
  {
   "cell_type": "code",
   "execution_count": 10,
   "metadata": {
    "pycharm": {
     "name": "#%%\n"
    }
   },
   "outputs": [
    {
     "name": "stdout",
     "output_type": "stream",
     "text": [
      "True\n",
      "False\n"
     ]
    }
   ],
   "source": [
    "\n",
    "#seventh function is np.allclose\n",
    "\n",
    "print(np.allclose([1.0, -2.0], [1.0, -2.0]))\n",
    "\n",
    "print(np.allclose([2.0, 3.0], [3.0, 2.0]))\n"
   ]
  },
  {
   "cell_type": "code",
   "execution_count": 11,
   "metadata": {
    "pycharm": {
     "name": "#%%\n"
    }
   },
   "outputs": [
    {
     "name": "stdout",
     "output_type": "stream",
     "text": [
      "True\n",
      "False\n"
     ]
    }
   ],
   "source": [
    "\n",
    "# eighth function is np.alltrue\n",
    "\n",
    "array1 = np.array([True,1,2,3,4,5])\n",
    "array2 = np.array([False,1,2,3,4,5])\n",
    "\n",
    "print(np.alltrue(array1))\n",
    "print(np.alltrue(array2))\n"
   ]
  },
  {
   "cell_type": "code",
   "execution_count": null,
   "metadata": {
    "pycharm": {
     "name": "#%%\n",
     "is_executing": true
    }
   },
   "outputs": [],
   "source": [
    "\n",
    "# ninth function is np.amax\n",
    "\n",
    "array = np.array([[1,2,3],\n",
    "                  [4,5,6],\n",
    "                  [7,8,9]])\n",
    "\n",
    "print(np.amax(array))\n",
    "print(np.amax(array, axis=0))\n",
    "print(np.amax(array, axis=1))\n"
   ]
  },
  {
   "cell_type": "code",
   "execution_count": 13,
   "metadata": {
    "pycharm": {
     "name": "#%%\n"
    }
   },
   "outputs": [
    {
     "name": "stdout",
     "output_type": "stream",
     "text": [
      "1\n",
      "[1 2 3]\n",
      "[1 4 7]\n"
     ]
    }
   ],
   "source": [
    "\n",
    "# tenth function is np.amin\n",
    "\n",
    "array = np.array([[1,2,3],\n",
    "                  [4,5,6],\n",
    "                  [7,8,9]])\n",
    "\n",
    "print(np.amin(array))\n",
    "print(np.amin(array, axis=0))\n",
    "print(np.amin(array, axis=1))\n"
   ]
  },
  {
   "cell_type": "code",
   "execution_count": 14,
   "metadata": {
    "pycharm": {
     "name": "#%%\n"
    }
   },
   "outputs": [
    {
     "data": {
      "text/plain": "array([0.        , 1.57079633, 0.78539816])"
     },
     "execution_count": 14,
     "metadata": {},
     "output_type": "execute_result"
    }
   ],
   "source": [
    "# eleventh function is np.angle\n",
    "\n",
    "np.angle([1.0, 1.0j, 1+1j])\n"
   ]
  },
  {
   "cell_type": "code",
   "execution_count": 15,
   "metadata": {
    "pycharm": {
     "name": "#%%\n"
    }
   },
   "outputs": [
    {
     "name": "stdout",
     "output_type": "stream",
     "text": [
      "False\n",
      "True\n"
     ]
    }
   ],
   "source": [
    "\n",
    "# twelfth function is np.any\n",
    "\n",
    "array1 = np.array([False, False, False])\n",
    "array2 = np.array([True, False, False])\n",
    "\n",
    "print(np.any(array1))\n",
    "print(np.any(array2))\n"
   ]
  },
  {
   "cell_type": "code",
   "execution_count": 16,
   "metadata": {
    "pycharm": {
     "name": "#%%\n"
    }
   },
   "outputs": [
    {
     "data": {
      "text/plain": "array([[1, 2, 3],\n       [4, 5, 6],\n       [7, 8, 9]])"
     },
     "execution_count": 16,
     "metadata": {},
     "output_type": "execute_result"
    }
   ],
   "source": [
    "\n",
    "# thirteenth function is np.append\n",
    "\n",
    "array = np.array([[1,2,3],\n",
    "                  [4,5,6]])\n",
    "\n",
    "np.append(array, [[7,8,9]], axis=0)\n",
    "\n"
   ]
  },
  {
   "cell_type": "code",
   "execution_count": 17,
   "metadata": {
    "pycharm": {
     "name": "#%%\n"
    }
   },
   "outputs": [
    {
     "data": {
      "text/plain": "array([10, 40])"
     },
     "execution_count": 17,
     "metadata": {},
     "output_type": "execute_result"
    }
   ],
   "source": [
    "\n",
    "# fourteenth function is np.apply_along_axis\n",
    "\n",
    "def func(arr):\n",
    "    return arr[0] * 10\n",
    "\n",
    "array = np.array([[1,2,3],\n",
    "                  [4,5,6]])\n",
    "\n",
    "np.apply_along_axis(func, 1, array)\n"
   ]
  },
  {
   "cell_type": "code",
   "execution_count": 18,
   "metadata": {
    "pycharm": {
     "name": "#%%\n"
    }
   },
   "outputs": [
    {
     "data": {
      "text/plain": "array([[[700, 800]]])"
     },
     "execution_count": 18,
     "metadata": {},
     "output_type": "execute_result"
    }
   ],
   "source": [
    "\n",
    "# fifteenth function is np.apply_over_axes\n",
    "\n",
    "def func(arr, axis):\n",
    "    return arr[axis]*10\n",
    "\n",
    "array = np.array([[[1,2],\n",
    "                   [3,4]],\n",
    "                  [[5,6],\n",
    "                   [7,8]]])\n",
    "\n",
    "np.apply_over_axes(func, array, [1, 1])\n"
   ]
  },
  {
   "cell_type": "code",
   "execution_count": 22,
   "metadata": {
    "pycharm": {
     "name": "#%%\n"
    }
   },
   "outputs": [
    {
     "data": {
      "text/plain": "array([1., 2., 3., 4., 5., 6., 7., 8., 9.])"
     },
     "execution_count": 22,
     "metadata": {},
     "output_type": "execute_result"
    }
   ],
   "source": [
    "\n",
    "# sixteenth function is np.arange\n",
    "array = np.arange(start=1, stop=10, step=1, dtype='float')\n",
    "array\n"
   ]
  },
  {
   "cell_type": "code",
   "execution_count": 27,
   "metadata": {
    "pycharm": {
     "name": "#%%\n"
    }
   },
   "outputs": [
    {
     "data": {
      "text/plain": "array([0.        , 3.14159265, 1.57079633])"
     },
     "execution_count": 27,
     "metadata": {},
     "output_type": "execute_result"
    }
   ],
   "source": [
    "\n",
    "#seventeenth function is np.arccos\n",
    "\n",
    "np.arccos([1,-1,0])\n"
   ]
  },
  {
   "cell_type": "code",
   "execution_count": 30,
   "metadata": {
    "pycharm": {
     "name": "#%%\n"
    }
   },
   "outputs": [
    {
     "data": {
      "text/plain": "array([2.06343707, 1.3169579 , 1.76274717])"
     },
     "execution_count": 30,
     "metadata": {},
     "output_type": "execute_result"
    }
   ],
   "source": [
    "\n",
    "#eighteenth function is np.arccosh\n",
    "\n",
    "np.arccosh([4,2,3])\n"
   ]
  },
  {
   "cell_type": "code",
   "execution_count": 38,
   "metadata": {
    "pycharm": {
     "name": "#%%\n"
    }
   },
   "outputs": [
    {
     "data": {
      "text/plain": "array([-1.57079633,  0.        ,  1.57079633])"
     },
     "execution_count": 38,
     "metadata": {},
     "output_type": "execute_result"
    }
   ],
   "source": [
    "\n",
    "#nineteenth function is np.arcsin\n",
    "\n",
    "np.arcsin([-1, 0, 1])\n"
   ]
  },
  {
   "cell_type": "code",
   "execution_count": 39,
   "metadata": {
    "pycharm": {
     "name": "#%%\n"
    }
   },
   "outputs": [
    {
     "data": {
      "text/plain": "array([0.88137359, 1.44363548, 1.81844646])"
     },
     "execution_count": 39,
     "metadata": {},
     "output_type": "execute_result"
    }
   ],
   "source": [
    "\n",
    "#twentieth function is np.arcsinh\n",
    "np.arcsinh([1,2,3])\n"
   ]
  },
  {
   "cell_type": "code",
   "execution_count": 40,
   "outputs": [
    {
     "data": {
      "text/plain": "array([0.78539816, 1.10714872, 1.24904577])"
     },
     "execution_count": 40,
     "metadata": {},
     "output_type": "execute_result"
    }
   ],
   "source": [
    "\n",
    "#twenty first function is np.arctan\n",
    "\n",
    "np.arctan([1,2,3])\n"
   ],
   "metadata": {
    "collapsed": false,
    "pycharm": {
     "name": "#%%\n"
    }
   }
  },
  {
   "cell_type": "code",
   "execution_count": 43,
   "outputs": [
    {
     "data": {
      "text/plain": "array([ 2.35619449,  2.35619449, -0.78539816])"
     },
     "execution_count": 43,
     "metadata": {},
     "output_type": "execute_result"
    }
   ],
   "source": [
    "\n",
    "#twenty second function is np.arctan2\n",
    "\n",
    "array1 = np.array([1,2,-1])\n",
    "array2 = np.array([-1,-2,1])\n",
    "np.arctan2(array1, array2)\n"
   ],
   "metadata": {
    "collapsed": false,
    "pycharm": {
     "name": "#%%\n"
    }
   }
  },
  {
   "cell_type": "code",
   "execution_count": 48,
   "outputs": [
    {
     "data": {
      "text/plain": "array([ 0.10033535, -0.69314718])"
     },
     "execution_count": 48,
     "metadata": {},
     "output_type": "execute_result"
    }
   ],
   "source": [
    "\n",
    "#twenty third function is np.arctanh\n",
    "\n",
    "np.arctanh([0.1, -0.6])\n"
   ],
   "metadata": {
    "collapsed": false,
    "pycharm": {
     "name": "#%%\n"
    }
   }
  },
  {
   "cell_type": "code",
   "execution_count": 55,
   "outputs": [
    {
     "name": "stdout",
     "output_type": "stream",
     "text": [
      "[[ 0 11]\n",
      " [22 33]\n",
      " [44 55]\n",
      " [66 77]\n",
      " [88 99]]\n"
     ]
    },
    {
     "data": {
      "text/plain": "array([4, 4])"
     },
     "execution_count": 55,
     "metadata": {},
     "output_type": "execute_result"
    }
   ],
   "source": [
    "\n",
    "#twenty fourth function is np.argmax\n",
    "\n",
    "array = np.arange(10).reshape(5,2)*11\n",
    "\n",
    "print(array)\n",
    "np.argmax(array, axis=0)\n"
   ],
   "metadata": {
    "collapsed": false,
    "pycharm": {
     "name": "#%%\n"
    }
   }
  },
  {
   "cell_type": "code",
   "execution_count": 63,
   "outputs": [
    {
     "name": "stdout",
     "output_type": "stream",
     "text": [
      "[[ 10  20]\n",
      " [ 30  40]\n",
      " [ 50  60]\n",
      " [ 70  80]\n",
      " [ 90 100]]\n"
     ]
    },
    {
     "data": {
      "text/plain": "array([0, 0])"
     },
     "execution_count": 63,
     "metadata": {},
     "output_type": "execute_result"
    }
   ],
   "source": [
    "\n",
    "#twenty fifth function is np.argmin\n",
    "\n",
    "array = np.arange(1, 11).reshape(5,2)*10\n",
    "print(array)\n",
    "np.argmin(array, axis=0)"
   ],
   "metadata": {
    "collapsed": false,
    "pycharm": {
     "name": "#%%\n"
    }
   }
  },
  {
   "cell_type": "code",
   "execution_count": 79,
   "outputs": [
    {
     "name": "stdout",
     "output_type": "stream",
     "text": [
      "[0 1 2 3 4 5]\n",
      "[1 0 2 3 4 5]\n"
     ]
    }
   ],
   "source": [
    "\n",
    "#twenty sixth function is np.argpartition\n",
    "array = np.array([-1,1,2,3,4,5])\n",
    "\n",
    "print(np.argpartition(array, 1))\n",
    "print(np.argpartition(array, 5))\n"
   ],
   "metadata": {
    "collapsed": false,
    "pycharm": {
     "name": "#%%\n"
    }
   }
  },
  {
   "cell_type": "code",
   "execution_count": 112,
   "outputs": [
    {
     "name": "stdout",
     "output_type": "stream",
     "text": [
      "[0 1 2 3 4]\n",
      "[[1 0 2]\n",
      " [2 1 0]\n",
      " [2 0 1]]\n"
     ]
    }
   ],
   "source": [
    "\n",
    "#twenty seventh function is np.argsort\n",
    "\n",
    "array = np.array([3,4,2,1,0])\n",
    "print(array[np.argsort(array)])\n",
    "\n",
    "array1 = np.array([[3,2,5],\n",
    "                   [6,1,0],\n",
    "                   [5,8,1]])\n",
    "\n",
    "sorted_arr_index = np.argsort(array1, axis=1)\n",
    "print(sorted_arr_index)\n"
   ],
   "metadata": {
    "collapsed": false,
    "pycharm": {
     "name": "#%%\n"
    }
   }
  },
  {
   "cell_type": "code",
   "execution_count": 158,
   "outputs": [
    {
     "data": {
      "text/plain": "array([1, 1])"
     },
     "execution_count": 158,
     "metadata": {},
     "output_type": "execute_result"
    }
   ],
   "source": [
    "\n",
    "#twenty eighth function is np.argwhere\n",
    "\n",
    "array = np.array([[1,2,3],\n",
    "                  [4,5,6],\n",
    "                  [7,8,9]])\n",
    "\n",
    "np.argwhere(array==5).flatten()\n"
   ],
   "metadata": {
    "collapsed": false,
    "pycharm": {
     "name": "#%%\n"
    }
   }
  },
  {
   "cell_type": "code",
   "execution_count": 161,
   "outputs": [
    {
     "data": {
      "text/plain": "array([1.82, 3.42, 5.25])"
     },
     "execution_count": 161,
     "metadata": {},
     "output_type": "execute_result"
    }
   ],
   "source": [
    "\n",
    "#twenty nineth function is np.around\n",
    "\n",
    "array = np.array([1.82345, 3.42325, 5.24642])\n",
    "\n",
    "np.round(array, decimals=2)\n"
   ],
   "metadata": {
    "collapsed": false,
    "pycharm": {
     "name": "#%%\n"
    }
   }
  },
  {
   "cell_type": "code",
   "execution_count": 162,
   "outputs": [
    {
     "data": {
      "text/plain": "array([1, 2, 3, 4, 5])"
     },
     "execution_count": 162,
     "metadata": {},
     "output_type": "execute_result"
    }
   ],
   "source": [
    "\n",
    "#thirty function is np.array\n",
    "\n",
    "array = np.array([1,2,3,4,5])\n",
    "array"
   ],
   "metadata": {
    "collapsed": false,
    "pycharm": {
     "name": "#%%\n"
    }
   }
  },
  {
   "cell_type": "code",
   "execution_count": 192,
   "outputs": [
    {
     "data": {
      "text/plain": "'[ 0 \\n  1 \\n  2 \\n  3 \\n  4 \\n  5 \\n  6 \\n  7 \\n  8 \\n  9 \\n 10 \\n 11 \\n 12 \\n 13 \\n 14\\n 15 \\n 16 \\n 17 \\n 18 \\n 19 \\n 20 \\n 21 \\n 22 \\n 23 \\n 24 \\n 25 \\n 26 \\n 27 \\n 28 \\n 29\\n 30 \\n 31 \\n 32 \\n 33 \\n 34 \\n 35 \\n 36 \\n 37 \\n 38 \\n 39 \\n 40 \\n 41 \\n 42 \\n 43 \\n 44\\n 45 \\n 46 \\n 47 \\n 48 \\n 49 \\n 50 \\n 51 \\n 52 \\n 53 \\n 54 \\n 55 \\n 56 \\n 57 \\n 58 \\n 59\\n 60 \\n 61 \\n 62 \\n 63 \\n 64 \\n 65 \\n 66 \\n 67 \\n 68 \\n 69 \\n 70 \\n 71 \\n 72 \\n 73 \\n 74\\n 75 \\n 76 \\n 77 \\n 78 \\n 79 \\n 80 \\n 81 \\n 82 \\n 83 \\n 84 \\n 85 \\n 86 \\n 87 \\n 88 \\n 89\\n 90 \\n 91 \\n 92 \\n 93 \\n 94 \\n 95 \\n 96 \\n 97 \\n 98 \\n 99]'"
     },
     "execution_count": 192,
     "metadata": {},
     "output_type": "execute_result"
    }
   ],
   "source": [
    "\n",
    "#thirty first function is np.array2string\n",
    "\n",
    "array = np.arange(100)\n",
    "np.array2string(array, separator=' \\n ')\n"
   ],
   "metadata": {
    "collapsed": false,
    "pycharm": {
     "name": "#%%\n"
    }
   }
  },
  {
   "cell_type": "code",
   "execution_count": 193,
   "outputs": [
    {
     "data": {
      "text/plain": "True"
     },
     "execution_count": 193,
     "metadata": {},
     "output_type": "execute_result"
    }
   ],
   "source": [
    "\n",
    "#thirty second function is np.array_equal\n",
    "\n",
    "array1 = np.array([1,2,-1])\n",
    "array2 = np.array([1,2,-1])\n",
    "\n",
    "np.array_equal(array1, array2)\n"
   ],
   "metadata": {
    "collapsed": false,
    "pycharm": {
     "name": "#%%\n"
    }
   }
  },
  {
   "cell_type": "code",
   "execution_count": 197,
   "outputs": [
    {
     "name": "stdout",
     "output_type": "stream",
     "text": [
      "True\n",
      "True\n"
     ]
    }
   ],
   "source": [
    "\n",
    "#thirty third function is np.array_equiv\n",
    "\n",
    "print(np.array_equiv([1,2,-4], [1,2,-4]))\n",
    "print(np.array_equiv([1,2,-4], [[1,2,-4]]))"
   ],
   "metadata": {
    "collapsed": false,
    "pycharm": {
     "name": "#%%\n"
    }
   }
  },
  {
   "cell_type": "code",
   "execution_count": 198,
   "outputs": [
    {
     "data": {
      "text/plain": "'array([ 1.+0.j,  2.+0.j,  3.+0.j, -1.+0.j, -0.-1.j])'"
     },
     "execution_count": 198,
     "metadata": {},
     "output_type": "execute_result"
    }
   ],
   "source": [
    "\n",
    "#thirty fourth function is np.array_repr\n",
    "\n",
    "array = np.array([1,2,3,-1,-1j])\n",
    "\n",
    "np.array_repr(array)\n"
   ],
   "metadata": {
    "collapsed": false,
    "pycharm": {
     "name": "#%%\n"
    }
   }
  },
  {
   "cell_type": "code",
   "execution_count": 203,
   "outputs": [
    {
     "data": {
      "text/plain": "[array([1, 2]), array([3, 4]), array([5])]"
     },
     "execution_count": 203,
     "metadata": {},
     "output_type": "execute_result"
    }
   ],
   "source": [
    "\n",
    "#thirty fifth function is np.array_split\n",
    "\n",
    "array = np.arange(1, 6)\n",
    "\n",
    "np.array_split(array, 3)\n"
   ],
   "metadata": {
    "collapsed": false,
    "pycharm": {
     "name": "#%%\n"
    }
   }
  },
  {
   "cell_type": "code",
   "execution_count": 209,
   "outputs": [
    {
     "data": {
      "text/plain": "'[-1  2  3 -4]'"
     },
     "execution_count": 209,
     "metadata": {},
     "output_type": "execute_result"
    }
   ],
   "source": [
    "\n",
    "#thirty sixth function is np.array_str\n",
    "\n",
    "array = np.array([-1,2,3,-4])\n",
    "\n",
    "np.array_str(array)\n"
   ],
   "metadata": {
    "collapsed": false,
    "pycharm": {
     "name": "#%%\n"
    }
   }
  },
  {
   "cell_type": "code",
   "execution_count": 212,
   "outputs": [
    {
     "name": "stdout",
     "output_type": "stream",
     "text": [
      "<class 'numpy.ndarray'>\n"
     ]
    },
    {
     "data": {
      "text/plain": "array([ 1,  2,  3,  4, 45])"
     },
     "execution_count": 212,
     "metadata": {},
     "output_type": "execute_result"
    }
   ],
   "source": [
    "\n",
    "#thirty seventh function is np.asanyarray\n",
    "\n",
    "array = [1,2,3,4,45]\n",
    "\n",
    "print(type(np.asanyarray(array)))\n",
    "np.asanyarray(array)\n"
   ],
   "metadata": {
    "collapsed": false,
    "pycharm": {
     "name": "#%%\n"
    }
   }
  },
  {
   "cell_type": "code",
   "execution_count": 234,
   "outputs": [
    {
     "data": {
      "text/plain": "array([1, 2, 3])"
     },
     "execution_count": 234,
     "metadata": {},
     "output_type": "execute_result"
    }
   ],
   "source": [
    "\n",
    "#thirty eighth function is np.asarray\n",
    "\n",
    "array2 = [1,2,3]\n",
    "np.asarray(array2)"
   ],
   "metadata": {
    "collapsed": false,
    "pycharm": {
     "name": "#%%\n"
    }
   }
  },
  {
   "cell_type": "code",
   "execution_count": 249,
   "outputs": [
    {
     "name": "stdout",
     "output_type": "stream",
     "text": [
      "it has inf number or numpy nan\n",
      "ValueError\n"
     ]
    }
   ],
   "source": [
    "\n",
    "#thirty nineth function is np.asarray_chkfinite\n",
    "\n",
    "array = [1,2,np.inf]\n",
    "\n",
    "try:\n",
    "    print(np.asarray_chkfinite(array))\n",
    "except:\n",
    "    print('it has inf number or numpy nan')\n",
    "    print(\"ValueError\")\n"
   ],
   "metadata": {
    "collapsed": false,
    "pycharm": {
     "name": "#%%\n"
    }
   }
  },
  {
   "cell_type": "code",
   "execution_count": 251,
   "outputs": [
    {
     "data": {
      "text/plain": "  C_CONTIGUOUS : True\n  F_CONTIGUOUS : True\n  OWNDATA : True\n  WRITEABLE : True\n  ALIGNED : True\n  WRITEBACKIFCOPY : False"
     },
     "execution_count": 251,
     "metadata": {},
     "output_type": "execute_result"
    }
   ],
   "source": [
    "\n",
    "#fourty function is np.ascontiguousarray\n",
    "\n",
    "array = [1,2,3,4]\n",
    "\n",
    "array = np.ascontiguousarray(array)\n",
    "array.flags\n"
   ],
   "metadata": {
    "collapsed": false,
    "pycharm": {
     "name": "#%%\n"
    }
   }
  },
  {
   "cell_type": "code",
   "execution_count": 253,
   "outputs": [
    {
     "name": "stdout",
     "output_type": "stream",
     "text": [
      "[1. 2. 3. 4. 5.]\n",
      "float64\n"
     ]
    }
   ],
   "source": [
    "\n",
    "#fourty first function is np.asfarray\n",
    "\n",
    "array = [1,2,3,4,5]\n",
    "print(np.asfarray(array))\n",
    "print(np.asfarray(array).dtype)\n"
   ],
   "metadata": {
    "collapsed": false,
    "pycharm": {
     "name": "#%%\n"
    }
   }
  },
  {
   "cell_type": "code",
   "execution_count": 254,
   "outputs": [
    {
     "name": "stdout",
     "output_type": "stream",
     "text": [
      "[1 2 3 4 5]\n",
      "  C_CONTIGUOUS : True\n",
      "  F_CONTIGUOUS : True\n",
      "  OWNDATA : True\n",
      "  WRITEABLE : True\n",
      "  ALIGNED : True\n",
      "  WRITEBACKIFCOPY : False\n",
      "\n"
     ]
    }
   ],
   "source": [
    "\n",
    "#fourty second function is np.asfortranarray\n",
    "\n",
    "array = [1,2,3,4,5]\n",
    "\n",
    "print(np.asfortranarray(array))\n",
    "print(np.asfortranarray(array).flags)\n"
   ],
   "metadata": {
    "collapsed": false,
    "pycharm": {
     "name": "#%%\n"
    }
   }
  },
  {
   "cell_type": "code",
   "execution_count": 262,
   "outputs": [
    {
     "data": {
      "text/plain": "matrix([[1, 2, 3],\n        [5, 6, 7]])"
     },
     "execution_count": 262,
     "metadata": {},
     "output_type": "execute_result"
    }
   ],
   "source": [
    "\n",
    "#fourty third function is np.asmatrix\n",
    "\n",
    "array = np.array([[1,2,3],\n",
    "                  [5,6,7]])\n",
    "\n",
    "array2 = np.asmatrix(array)\n",
    "array2\n"
   ],
   "metadata": {
    "collapsed": false,
    "pycharm": {
     "name": "#%%\n"
    }
   }
  },
  {
   "cell_type": "code",
   "execution_count": 266,
   "outputs": [
    {
     "data": {
      "text/plain": "array([[1., 2., 3.]])"
     },
     "execution_count": 266,
     "metadata": {},
     "output_type": "execute_result"
    }
   ],
   "source": [
    "\n",
    "#fourty fourth function is np.atleast_1d\n",
    "\n",
    "array = np.array([1.0, 2.0, 3.0])\n",
    "np.atleast_1d(array)\n"
   ],
   "metadata": {
    "collapsed": false,
    "pycharm": {
     "name": "#%%\n"
    }
   }
  },
  {
   "cell_type": "code",
   "execution_count": 268,
   "outputs": [
    {
     "data": {
      "text/plain": "[array([[1.]]), array([[2.]]), array([[3.]])]"
     },
     "execution_count": 268,
     "metadata": {},
     "output_type": "execute_result"
    }
   ],
   "source": [
    "\n",
    "#fourty fifth function is np.atleast_2d\n",
    "np.atleast_2d(1.0, 2.0, 3.0)\n"
   ],
   "metadata": {
    "collapsed": false,
    "pycharm": {
     "name": "#%%\n"
    }
   }
  },
  {
   "cell_type": "code",
   "execution_count": 270,
   "outputs": [
    {
     "name": "stdout",
     "output_type": "stream",
     "text": [
      "[[[11]]]\n",
      "[array([[[1]]]), array([[[2]]]), array([[[3]]])]\n"
     ]
    }
   ],
   "source": [
    "\n",
    "#fourty sixth function is np.atleast_3d\n",
    "\n",
    "print(np.atleast_3d(11))\n",
    "print(np.atleast_3d(1,2,3))"
   ],
   "metadata": {
    "collapsed": false,
    "pycharm": {
     "name": "#%%\n"
    }
   }
  },
  {
   "cell_type": "code",
   "execution_count": 276,
   "outputs": [
    {
     "name": "stdout",
     "output_type": "stream",
     "text": [
      "[[ 1  2  3  4  5]\n",
      " [ 6  7  8  9 10]\n",
      " [11 12 13 14 15]]\n",
      "[ 3.  8. 13.]\n"
     ]
    }
   ],
   "source": [
    "\n",
    "#fourty seventh function is np.average\n",
    "\n",
    "array1 = np.arange(1, 16).reshape(3,5)\n",
    "print(array1)\n",
    "print(np.average(array1, axis=1))\n"
   ],
   "metadata": {
    "collapsed": false,
    "pycharm": {
     "name": "#%%\n"
    }
   }
  },
  {
   "cell_type": "code",
   "execution_count": 283,
   "outputs": [
    {
     "name": "stdout",
     "output_type": "stream",
     "text": [
      "[0.         0.22222222 0.44444444 0.66666667 0.88888889 0.88888889\n",
      " 0.66666667 0.44444444 0.22222222 0.        ]\n",
      "[ 0. 22. 44. 67. 89. 89. 67. 44. 22.  0.]\n"
     ]
    }
   ],
   "source": [
    "\n",
    "#fourty eighth function is np.bartlett\n",
    "\n",
    "print(np.bartlett(10))\n",
    "print(np.bartlett(10).round(2)*100)\n"
   ],
   "metadata": {
    "collapsed": false,
    "pycharm": {
     "name": "#%%\n"
    }
   }
  },
  {
   "cell_type": "code",
   "execution_count": 290,
   "outputs": [
    {
     "name": "stdout",
     "output_type": "stream",
     "text": [
      "0\n",
      "1\n",
      "10\n",
      "11\n",
      "100\n",
      "101\n",
      "110\n",
      "111\n",
      "1000\n",
      "1001\n"
     ]
    }
   ],
   "source": [
    "\n",
    "#fourty nineth function is np.base_repr\n",
    "for i in range(10):\n",
    "    print(np.base_repr(i))\n"
   ],
   "metadata": {
    "collapsed": false,
    "pycharm": {
     "name": "#%%\n"
    }
   }
  },
  {
   "cell_type": "code",
   "execution_count": 308,
   "outputs": [
    {
     "name": "stdout",
     "output_type": "stream",
     "text": [
      "00\n",
      "01\n",
      "10\n",
      "11\n",
      "100\n",
      "101\n",
      "110\n",
      "111\n",
      "1000\n",
      "1001\n"
     ]
    },
    {
     "name": "stderr",
     "output_type": "stream",
     "text": [
      "/var/folders/7v/1c76ypv54yx261vygq63_47w0000gp/T/ipykernel_5396/2130556825.py:4: DeprecationWarning: Insufficient bit width provided. This behavior will raise an error in the future.\n",
      "  print(np.binary_repr(i, width=2))\n"
     ]
    }
   ],
   "source": [
    "\n",
    "#fifty function is np.binary_repr\n",
    "\n",
    "for i in range(10):\n",
    "    print(np.binary_repr(i, width=2))\n"
   ],
   "metadata": {
    "collapsed": false,
    "pycharm": {
     "name": "#%%\n"
    }
   }
  },
  {
   "cell_type": "code",
   "execution_count": 3,
   "outputs": [
    {
     "name": "stdout",
     "output_type": "stream",
     "text": [
      "[0 2 1 1 1]\n"
     ]
    }
   ],
   "source": [
    "\n",
    "#fifty first function is np.bincount\n",
    "array = np.array([1,2,3,4,1])\n",
    "print(np.bincount(array))\n"
   ],
   "metadata": {
    "collapsed": false,
    "pycharm": {
     "name": "#%%\n"
    }
   }
  },
  {
   "cell_type": "code",
   "execution_count": 14,
   "outputs": [
    {
     "data": {
      "text/plain": "array([ True, False])"
     },
     "execution_count": 14,
     "metadata": {},
     "output_type": "execute_result"
    }
   ],
   "source": [
    "\n",
    "#fifty second function is np.bitwise_and\n",
    "\n",
    "np.bitwise_and([True, False], [True, True])\n"
   ],
   "metadata": {
    "collapsed": false,
    "pycharm": {
     "name": "#%%\n"
    }
   }
  },
  {
   "cell_type": "code",
   "execution_count": 24,
   "outputs": [
    {
     "name": "stdout",
     "output_type": "stream",
     "text": [
      "True\n"
     ]
    },
    {
     "data": {
      "text/plain": "-4"
     },
     "execution_count": 24,
     "metadata": {},
     "output_type": "execute_result"
    }
   ],
   "source": [
    "\n",
    "#fifty third function is np.bitwise_not\n",
    "\n",
    "print(np.bitwise_not is np.invert)\n",
    "\n",
    "np.invert(3)\n"
   ],
   "metadata": {
    "collapsed": false,
    "pycharm": {
     "name": "#%%\n"
    }
   }
  },
  {
   "cell_type": "code",
   "execution_count": 25,
   "outputs": [
    {
     "data": {
      "text/plain": "array([ True,  True])"
     },
     "execution_count": 25,
     "metadata": {},
     "output_type": "execute_result"
    }
   ],
   "source": [
    "\n",
    "#fifty fourth function is np.bitwise_or\n",
    "\n",
    "np.bitwise_or([True, False], [True, True])\n"
   ],
   "metadata": {
    "collapsed": false,
    "pycharm": {
     "name": "#%%\n"
    }
   }
  },
  {
   "cell_type": "code",
   "execution_count": 26,
   "outputs": [
    {
     "data": {
      "text/plain": "array([ True, False])"
     },
     "execution_count": 26,
     "metadata": {},
     "output_type": "execute_result"
    }
   ],
   "source": [
    "\n",
    "#fifty fifth function is np.bitwise_xor\n",
    "\n",
    "np.bitwise_xor([True, True], [False, True])\n"
   ],
   "metadata": {
    "collapsed": false,
    "pycharm": {
     "name": "#%%\n"
    }
   }
  },
  {
   "cell_type": "code",
   "execution_count": 29,
   "outputs": [
    {
     "data": {
      "text/plain": "<Figure size 640x480 with 1 Axes>",
      "image/png": "[encoded data removed]"
     },
     "metadata": {},
     "output_type": "display_data"
    }
   ],
   "source": [
    "\n",
    "#fifty sixth function is np.blackman\n",
    "import matplotlib.pyplot as plt\n",
    "\n",
    "x = np.blackman(20)\n",
    "plt.plot(x)\n",
    "plt.title(\"this is blackman array plotting\")\n",
    "plt.show()\n"
   ],
   "metadata": {
    "collapsed": false,
    "pycharm": {
     "name": "#%%\n"
    }
   }
  },
  {
   "cell_type": "code",
   "execution_count": 50,
   "outputs": [
    {
     "data": {
      "text/plain": "array([[1., 0., 0., 0., 0., 1., 3., 0., 0., 0., 0.],\n       [0., 1., 0., 0., 0., 1., 0., 3., 0., 0., 0.],\n       [0., 0., 1., 0., 0., 1., 0., 0., 3., 0., 0.],\n       [0., 0., 0., 1., 0., 1., 0., 0., 0., 3., 0.],\n       [0., 0., 0., 0., 1., 1., 0., 0., 0., 0., 3.]])"
     },
     "execution_count": 50,
     "metadata": {},
     "output_type": "execute_result"
    }
   ],
   "source": [
    "\n",
    "#fifty seventh function is np.block\n",
    "\n",
    "np.block([np.eye(5), np.ones(5).reshape(5, -1),\n",
    "          np.eye(5)*3])\n"
   ],
   "metadata": {
    "collapsed": false,
    "pycharm": {
     "name": "#%%\n"
    }
   }
  },
  {
   "cell_type": "code",
   "execution_count": 53,
   "outputs": [
    {
     "data": {
      "text/plain": "matrix([[1, 1, 1, 3],\n        [4, 4, 2, 1]])"
     },
     "execution_count": 53,
     "metadata": {},
     "output_type": "execute_result"
    }
   ],
   "source": [
    "\n",
    "#fifty eighth function is np.bmat\n",
    "\n",
    "x = np.mat('1 1 1 3')\n",
    "y = np.mat('4 4 2 1')\n",
    "np.bmat([[x], [y]])\n"
   ],
   "metadata": {
    "collapsed": false,
    "pycharm": {
     "name": "#%%\n"
    }
   }
  },
  {
   "cell_type": "code",
   "execution_count": 55,
   "outputs": [
    {
     "data": {
      "text/plain": "array([ True,  True,  True, False])"
     },
     "execution_count": 55,
     "metadata": {},
     "output_type": "execute_result"
    }
   ],
   "source": [
    "\n",
    "#fifty ninth function is np.bool8\n",
    "\n",
    "x = np.array([1,2,3,0])\n",
    "np.bool8(x)\n"
   ],
   "metadata": {
    "collapsed": false,
    "pycharm": {
     "name": "#%%\n"
    }
   }
  },
  {
   "cell_type": "code",
   "execution_count": 63,
   "outputs": [
    {
     "data": {
      "text/plain": "array([False,  True])"
     },
     "execution_count": 63,
     "metadata": {},
     "output_type": "execute_result"
    }
   ],
   "source": [
    "\n",
    "#sixty function is np.bool_\n",
    "\n",
    "a = np.bool_(True)\n",
    "b = True\n",
    "np.array([a is True, b is True], dtype=bool)\n"
   ],
   "metadata": {
    "collapsed": false,
    "pycharm": {
     "name": "#%%\n"
    }
   }
  },
  {
   "cell_type": "code",
   "execution_count": 79,
   "outputs": [
    {
     "data": {
      "text/plain": "[(1, 2)]"
     },
     "execution_count": 79,
     "metadata": {},
     "output_type": "execute_result"
    }
   ],
   "source": [
    "\n",
    "#sixty first function is np.broadcast\n",
    "\n",
    "[i for i in np.broadcast([1], [2])]\n"
   ],
   "metadata": {
    "collapsed": false,
    "pycharm": {
     "name": "#%%\n"
    }
   }
  },
  {
   "cell_type": "code",
   "execution_count": 83,
   "outputs": [
    {
     "data": {
      "text/plain": "[array([[1, 2, 3],\n        [1, 2, 3]]),\n array([[4, 4, 4],\n        [5, 5, 5]])]"
     },
     "execution_count": 83,
     "metadata": {},
     "output_type": "execute_result"
    }
   ],
   "source": [
    "\n",
    "#sixty second function is np.broadcast_arrays\n",
    "\n",
    "np.broadcast_arrays([[1,2,3]], [[4],[5]])\n"
   ],
   "metadata": {
    "collapsed": false,
    "pycharm": {
     "name": "#%%\n"
    }
   }
  },
  {
   "cell_type": "code",
   "execution_count": 95,
   "outputs": [
    {
     "data": {
      "text/plain": "(2, 2)"
     },
     "execution_count": 95,
     "metadata": {},
     "output_type": "execute_result"
    }
   ],
   "source": [
    "\n",
    "#sixty third function is np.broadcast_shapes\n",
    "\n",
    "np.broadcast_shapes((1,2), (2,1))\n"
   ],
   "metadata": {
    "collapsed": false,
    "pycharm": {
     "name": "#%%\n"
    }
   }
  },
  {
   "cell_type": "code",
   "execution_count": 98,
   "outputs": [
    {
     "data": {
      "text/plain": "array([[1, 2, 3],\n       [1, 2, 3],\n       [1, 2, 3],\n       [1, 2, 3]])"
     },
     "execution_count": 98,
     "metadata": {},
     "output_type": "execute_result"
    }
   ],
   "source": [
    "\n",
    "#sixty fourth function is np.broadcast_to\n",
    "\n",
    "x = np.array([1,2,3])\n",
    "np.broadcast_to(x, (4,3))\n"
   ],
   "metadata": {
    "collapsed": false,
    "pycharm": {
     "name": "#%%\n"
    }
   }
  },
  {
   "cell_type": "code",
   "execution_count": 101,
   "outputs": [
    {
     "data": {
      "text/plain": "22"
     },
     "execution_count": 101,
     "metadata": {},
     "output_type": "execute_result"
    }
   ],
   "source": [
    "\n",
    "#sixty fifth function is np.busday_count\n",
    "\n",
    "np.busday_count('2022-09', '2022-10')\n"
   ],
   "metadata": {
    "collapsed": false,
    "pycharm": {
     "name": "#%%\n"
    }
   }
  },
  {
   "cell_type": "code",
   "execution_count": 110,
   "outputs": [
    {
     "data": {
      "text/plain": "numpy.datetime64('2022-08-24')"
     },
     "execution_count": 110,
     "metadata": {},
     "output_type": "execute_result"
    }
   ],
   "source": [
    "\n",
    "#sixty sixth function is np.busday_offset\n",
    "\n",
    "np.busday_offset('2022-09', -6, roll='forward')\n"
   ],
   "metadata": {
    "collapsed": false,
    "pycharm": {
     "name": "#%%\n"
    }
   }
  },
  {
   "cell_type": "code",
   "execution_count": 205,
   "outputs": [
    {
     "name": "stdout",
     "output_type": "stream",
     "text": [
      "[ True  True  True  True  True False False]\n",
      "['2022-09-30']\n"
     ]
    }
   ],
   "source": [
    "\n",
    "#sixty seventh function is np.busdaycalendar\n",
    "\n",
    "x = np.busdaycalendar(\n",
    "            holidays=['2022-09-03', '2022-09-10', '2022-09-30'])\n",
    "# Default is Monday to Friday weekdays\n",
    "\n",
    "print(x.weekmask)\n",
    "print(x.holidays)"
   ],
   "metadata": {
    "collapsed": false,
    "pycharm": {
     "name": "#%%\n"
    }
   }
  },
  {
   "cell_type": "code",
   "execution_count": 211,
   "outputs": [
    {
     "data": {
      "text/plain": "array([1, 2, 3], dtype=int8)"
     },
     "execution_count": 211,
     "metadata": {},
     "output_type": "execute_result"
    }
   ],
   "source": [
    "\n",
    "#sixty eighth function is np.byte\n",
    "np.byte([1,2,3])\n"
   ],
   "metadata": {
    "collapsed": false,
    "pycharm": {
     "name": "#%%\n"
    }
   }
  },
  {
   "cell_type": "code",
   "execution_count": 220,
   "outputs": [
    {
     "data": {
      "text/plain": "(2204592659632, 2204592659640)"
     },
     "execution_count": 220,
     "metadata": {},
     "output_type": "execute_result"
    }
   ],
   "source": [
    "\n",
    "#sixty ninth function is np.byte_bounds\n",
    "\n",
    "np.byte_bounds(np.array([[1],[2]]))\n"
   ],
   "metadata": {
    "collapsed": false,
    "pycharm": {
     "name": "#%%\n"
    }
   }
  },
  {
   "cell_type": "code",
   "execution_count": 239,
   "outputs": [
    {
     "data": {
      "text/plain": "b'\\x01\\x00\\x00\\x00\\x02'"
     },
     "execution_count": 239,
     "metadata": {},
     "output_type": "execute_result"
    }
   ],
   "source": [
    "\n",
    "#seventy function is np.bytes0\n",
    "np.bytes0(np.array([1, 2]))\n"
   ],
   "metadata": {
    "collapsed": false,
    "pycharm": {
     "name": "#%%\n"
    }
   }
  },
  {
   "cell_type": "code",
   "execution_count": 245,
   "outputs": [
    {
     "data": {
      "text/plain": "b'\\x01\\x02'"
     },
     "execution_count": 245,
     "metadata": {},
     "output_type": "execute_result"
    }
   ],
   "source": [
    "\n",
    "#seventy first function is np.bytes_\n",
    "\n",
    "np.bytes_([1, 2])\n"
   ],
   "metadata": {
    "collapsed": false,
    "pycharm": {
     "name": "#%%\n"
    }
   }
  },
  {
   "cell_type": "code",
   "execution_count": 249,
   "outputs": [
    {
     "name": "stdout",
     "output_type": "stream",
     "text": [
      "False\n",
      "True\n"
     ]
    },
    {
     "name": "stderr",
     "output_type": "stream",
     "text": [
      "C:\\Users\\Student\\AppData\\Local\\Temp\\ipykernel_9780\\2255764789.py:4: DeprecationWarning: `np.complex` is a deprecated alias for the builtin `complex`. To silence this warning, use `complex` by itself. Doing this will not modify any behavior and is safe. If you specifically wanted the numpy scalar type, use `np.complex128` here.\n",
      "Deprecated in NumPy 1.20; for more details and guidance: https://numpy.org/devdocs/release/1.20.0-notes.html#deprecations\n",
      "  print(np.can_cast(np.int32, np.complex))\n"
     ]
    }
   ],
   "source": [
    "\n",
    "#seventy second function is np.can_cast\n",
    "\n",
    "print(np.can_cast(np.int32, np.float32))\n",
    "print(np.can_cast(np.int32, np.complex))\n"
   ],
   "metadata": {
    "collapsed": false,
    "pycharm": {
     "name": "#%%\n"
    }
   }
  },
  {
   "cell_type": "code",
   "execution_count": 262,
   "outputs": [
    {
     "data": {
      "text/plain": "<function numpy.core.numerictypes.<lambda>(x, k=<class 'numpy.float64'>)>"
     },
     "execution_count": 262,
     "metadata": {},
     "output_type": "execute_result"
    }
   ],
   "source": [
    "\n",
    "#seventy third function is np.cast\n",
    "\n",
    "np.cast['float']\n"
   ],
   "metadata": {
    "collapsed": false,
    "pycharm": {
     "name": "#%%\n"
    }
   }
  },
  {
   "cell_type": "code",
   "execution_count": 266,
   "outputs": [
    {
     "data": {
      "text/plain": "array([2., 3.])"
     },
     "execution_count": 266,
     "metadata": {},
     "output_type": "execute_result"
    }
   ],
   "source": [
    "\n",
    "#seventy fourth function is np.cbrt\n",
    "\n",
    "np.cbrt([8, 27])\n"
   ],
   "metadata": {
    "collapsed": false,
    "pycharm": {
     "name": "#%%\n"
    }
   }
  },
  {
   "cell_type": "code",
   "execution_count": 269,
   "outputs": [
    {
     "name": "stdout",
     "output_type": "stream",
     "text": [
      "(12+0j)\n",
      "complex128\n"
     ]
    }
   ],
   "source": [
    "\n",
    "#seventy fifth function is np.cdouble\n",
    "\n",
    "x = np.cdouble(12)\n",
    "print(x)\n",
    "print(x.dtype)"
   ],
   "metadata": {
    "collapsed": false,
    "pycharm": {
     "name": "#%%\n"
    }
   }
  },
  {
   "cell_type": "code",
   "execution_count": 275,
   "outputs": [
    {
     "data": {
      "text/plain": "array([0., 1., 1., 1., 2.])"
     },
     "execution_count": 275,
     "metadata": {},
     "output_type": "execute_result"
    }
   ],
   "source": [
    "\n",
    "#seventy sixth function in np.ceil\n",
    "\n",
    "np.ceil([0.0, 0.1, 0.5, 1.0, 1.1])\n"
   ],
   "metadata": {
    "collapsed": false,
    "pycharm": {
     "name": "#%%\n"
    }
   }
  },
  {
   "cell_type": "code",
   "execution_count": 278,
   "outputs": [
    {
     "name": "stdout",
     "output_type": "stream",
     "text": [
      "(3+0j)\n",
      "complex128\n"
     ]
    }
   ],
   "source": [
    "\n",
    "#seventy seventh function is np.cfloat\n",
    "\n",
    "x = np.cfloat(3)\n",
    "print(x)\n",
    "print(x.dtype)"
   ],
   "metadata": {
    "collapsed": false,
    "pycharm": {
     "name": "#%%\n"
    }
   }
  },
  {
   "cell_type": "code",
   "execution_count": 330,
   "outputs": [
    {
     "data": {
      "text/plain": "chararray([[b'iqrorjon', b'iqrorjon', b'iqrorjon', b'iqrorjon'],\n           [b'iqrorjon', b'iqrorjon', b'iqrorjon', b'iqrorjon'],\n           [b'iqrorjon', b'iqrorjon', b'iqrorjon', b'iqrorjon'],\n           [b'iqrorjon', b'iqrorjon', b'iqrorjon', b'iqrorjon']],\n          dtype='|S10')"
     },
     "execution_count": 330,
     "metadata": {},
     "output_type": "execute_result"
    }
   ],
   "source": [
    "\n",
    "#seventy eighth function is np.char\n",
    "\n",
    "x = np.chararray((4,4), itemsize=10)\n",
    "x[:] = 'iqrorjon'\n",
    "x\n"
   ],
   "metadata": {
    "collapsed": false,
    "pycharm": {
     "name": "#%%\n"
    }
   }
  },
  {
   "cell_type": "code",
   "execution_count": 391,
   "outputs": [
    {
     "name": "stderr",
     "output_type": "stream",
     "text": [
      "C:\\Users\\Student\\AppData\\Local\\Temp\\ipykernel_9780\\2755792119.py:3: DeprecationWarning: Converting `np.character` to a dtype is deprecated. The current result is `np.dtype(np.str_)` which is not strictly correct. Note that `np.character` is generally deprecated and 'S1' should be used.\n",
      "  x = np.array(['i', 'q'], dtype=np.character)\n"
     ]
    },
    {
     "data": {
      "text/plain": "array([b'i', b'q'], dtype='|S1')"
     },
     "execution_count": 391,
     "metadata": {},
     "output_type": "execute_result"
    }
   ],
   "source": [
    "\n",
    "#seventy ninth function is np.character\n",
    "\n",
    "x = np.array(['i', 'q'], dtype=np.character)\n",
    "x"
   ],
   "metadata": {
    "collapsed": false,
    "pycharm": {
     "name": "#%%\n"
    }
   }
  },
  {
   "cell_type": "code",
   "execution_count": 393,
   "outputs": [
    {
     "data": {
      "text/plain": "chararray([[b'i', b'i', b'i'],\n           [b'4', b'\\x01', b'\\x02'],\n           [b'i', b'i', b'i']], dtype='|S1')"
     },
     "execution_count": 393,
     "metadata": {},
     "output_type": "execute_result"
    }
   ],
   "source": [
    "\n",
    "#eighty function is np.chararray\n",
    "\n",
    "x = np.chararray((3,3))\n",
    "x[::2] = 'i'\n",
    "x"
   ],
   "metadata": {
    "collapsed": false,
    "pycharm": {
     "name": "#%%\n"
    }
   }
  },
  {
   "cell_type": "code",
   "execution_count": 398,
   "outputs": [
    {
     "data": {
      "text/plain": "array([1, 4])"
     },
     "execution_count": 398,
     "metadata": {},
     "output_type": "execute_result"
    }
   ],
   "source": [
    "\n",
    "#eighty first function is np.choose\n",
    "\n",
    "a = np.array([1,2,3,4,5])\n",
    "np.choose([0, 3], a)\n"
   ],
   "metadata": {
    "collapsed": false,
    "pycharm": {
     "name": "#%%\n"
    }
   }
  },
  {
   "cell_type": "code",
   "execution_count": 402,
   "outputs": [
    {
     "data": {
      "text/plain": "array([2, 2, 3, 4, 5, 5, 5, 5])"
     },
     "execution_count": 402,
     "metadata": {},
     "output_type": "execute_result"
    }
   ],
   "source": [
    "\n",
    "#eighty second function is np.clip\n",
    "\n",
    "x = np.array([1,2,3,4,5,6,7,8])\n",
    "\n",
    "np.clip(x, 2,5)\n"
   ],
   "metadata": {
    "collapsed": false,
    "pycharm": {
     "name": "#%%\n"
    }
   }
  },
  {
   "cell_type": "code",
   "execution_count": 404,
   "outputs": [
    {
     "name": "stdout",
     "output_type": "stream",
     "text": [
      "[1.+0.j 2.+0.j 3.+0.j]\n",
      "complex128\n"
     ]
    }
   ],
   "source": [
    "\n",
    "#eighty third function is np.clongdouble\n",
    "\n",
    "x = np.array([1,2,3], dtype=np.clongdouble)\n",
    "print(x)\n",
    "print(x.dtype)\n"
   ],
   "metadata": {
    "collapsed": false,
    "pycharm": {
     "name": "#%%\n"
    }
   }
  },
  {
   "cell_type": "code",
   "execution_count": 405,
   "outputs": [
    {
     "name": "stdout",
     "output_type": "stream",
     "text": [
      "[1.+0.j 2.+0.j 3.+0.j]\n",
      "complex128\n"
     ]
    }
   ],
   "source": [
    "\n",
    "#eighty fourth function is np.clongfloat\n",
    "x = np.array([1,2,3], dtype=np.clongfloat)\n",
    "print(x)\n",
    "print(x.dtype)\n"
   ],
   "metadata": {
    "collapsed": false,
    "pycharm": {
     "name": "#%%\n"
    }
   }
  },
  {
   "cell_type": "code",
   "execution_count": 410,
   "outputs": [
    {
     "data": {
      "text/plain": "array([[1, 4],\n       [2, 5],\n       [3, 6]])"
     },
     "execution_count": 410,
     "metadata": {},
     "output_type": "execute_result"
    }
   ],
   "source": [
    "\n",
    "#eighty fifth function is np.column_stack\n",
    "\n",
    "a = np.array([1,2,3])\n",
    "b = np.array([4,5,6])\n",
    "np.column_stack((a, b))\n"
   ],
   "metadata": {
    "collapsed": false,
    "pycharm": {
     "name": "#%%\n"
    }
   }
  },
  {
   "cell_type": "code",
   "execution_count": 415,
   "outputs": [
    {
     "data": {
      "text/plain": "numpy.complex128"
     },
     "execution_count": 415,
     "metadata": {},
     "output_type": "execute_result"
    }
   ],
   "source": [
    "\n",
    "#eighty sixth function is np.common_type\n",
    "\n",
    "np.common_type(np.array([1j,1,2,3.0]))\n"
   ],
   "metadata": {
    "collapsed": false,
    "pycharm": {
     "name": "#%%\n"
    }
   }
  },
  {
   "cell_type": "code",
   "execution_count": 423,
   "outputs": [
    {
     "name": "stdout",
     "output_type": "stream",
     "text": [
      "[False False  True False]\n",
      "[False False False  True]\n"
     ]
    }
   ],
   "source": [
    "\n",
    "#eighty seventh function is np.compare_chararrays\n",
    "a = np.array(['a', 'b', 'c', 'x'])\n",
    "b = np.array(['c', 'z', 'a', 'x'])\n",
    "\n",
    "print(np.compare_chararrays(a, b, '>', True))\n",
    "print(np.compare_chararrays(a, b, '==', True))\n"
   ],
   "metadata": {
    "collapsed": false,
    "pycharm": {
     "name": "#%%\n"
    }
   }
  },
  {
   "cell_type": "code",
   "execution_count": 428,
   "outputs": [
    {
     "data": {
      "text/plain": "str"
     },
     "execution_count": 428,
     "metadata": {},
     "output_type": "execute_result"
    }
   ],
   "source": [
    "\n",
    "#eighty eighth function is np.compat\n",
    "\n",
    "np.compat.unicode\n"
   ],
   "metadata": {
    "collapsed": false,
    "pycharm": {
     "name": "#%%\n"
    }
   }
  },
  {
   "cell_type": "code",
   "execution_count": 432,
   "outputs": [
    {
     "name": "stdout",
     "output_type": "stream",
     "text": [
      "[0.+1.j 0.+2.j]\n",
      "complex128\n"
     ]
    }
   ],
   "source": [
    "\n",
    "#eighty ninth function is np.complex128\n",
    "\n",
    "print(np.array([1j, 2j]))\n",
    "print(np.array([1j, 2j]).dtype)\n"
   ],
   "metadata": {
    "collapsed": false,
    "pycharm": {
     "name": "#%%\n"
    }
   }
  },
  {
   "cell_type": "code",
   "execution_count": 433,
   "outputs": [
    {
     "data": {
      "text/plain": "array([1.+0.j, 2.+0.j, 3.+0.j], dtype=complex64)"
     },
     "execution_count": 433,
     "metadata": {},
     "output_type": "execute_result"
    }
   ],
   "source": [
    "\n",
    "#ninety function is np.complex64\n",
    "\n",
    "np.array([1,2,3], dtype=np.complex64)\n"
   ],
   "metadata": {
    "collapsed": false,
    "pycharm": {
     "name": "#%%\n"
    }
   }
  },
  {
   "cell_type": "code",
   "execution_count": 435,
   "outputs": [
    {
     "data": {
      "text/plain": "(12+0j)"
     },
     "execution_count": 435,
     "metadata": {},
     "output_type": "execute_result"
    }
   ],
   "source": [
    "\n",
    "#ninety first function is np.complex_\n",
    "\n",
    "np.complex_(12)\n"
   ],
   "metadata": {
    "collapsed": false,
    "pycharm": {
     "name": "#%%\n"
    }
   }
  },
  {
   "cell_type": "code",
   "execution_count": 438,
   "outputs": [
    {
     "name": "stderr",
     "output_type": "stream",
     "text": [
      "C:\\Users\\Student\\AppData\\Local\\Temp\\ipykernel_9780\\1701803943.py:3: DeprecationWarning: Converting `np.complex` to a dtype is deprecated. The current result is `complex128` which is not strictly correct.\n",
      "  np.array([1,2,3], dtype=np.complexfloating)\n"
     ]
    },
    {
     "data": {
      "text/plain": "array([1.+0.j, 2.+0.j, 3.+0.j])"
     },
     "execution_count": 438,
     "metadata": {},
     "output_type": "execute_result"
    }
   ],
   "source": [
    "\n",
    "#ninety second function is np.complexfloating\n",
    "\n",
    "np.array([1,2,3], dtype=np.complexfloating)\n"
   ],
   "metadata": {
    "collapsed": false,
    "pycharm": {
     "name": "#%%\n"
    }
   }
  },
  {
   "cell_type": "code",
   "execution_count": 455,
   "outputs": [
    {
     "data": {
      "text/plain": "array([[2],\n       [4],\n       [6]])"
     },
     "execution_count": 455,
     "metadata": {},
     "output_type": "execute_result"
    }
   ],
   "source": [
    "\n",
    "#ninety third function is np.compress\n",
    "a = np.array([[1,2],\n",
    "              [3,4],\n",
    "              [5,6]])\n",
    "\n",
    "np.compress([0, 1], a, axis=1)"
   ],
   "metadata": {
    "collapsed": false,
    "pycharm": {
     "name": "#%%\n"
    }
   }
  },
  {
   "cell_type": "code",
   "execution_count": 467,
   "outputs": [
    {
     "data": {
      "text/plain": "array([[1, 2, 3, 4, 5, 6]])"
     },
     "execution_count": 467,
     "metadata": {},
     "output_type": "execute_result"
    }
   ],
   "source": [
    "\n",
    "#ninety fourth function is np.concatenate\n",
    "\n",
    "a = np.array([[1,2,3]])\n",
    "b = np.array([[4,5,6]])\n",
    "\n",
    "np.concatenate((a,b), axis=1)"
   ],
   "metadata": {
    "collapsed": false,
    "pycharm": {
     "name": "#%%\n"
    }
   }
  },
  {
   "cell_type": "code",
   "execution_count": 474,
   "outputs": [
    {
     "name": "stdout",
     "output_type": "stream",
     "text": [
      "[1.+0.j 2.+0.j 3.+0.j]\n"
     ]
    },
    {
     "data": {
      "text/plain": "array([1.-0.j, 2.-0.j, 3.-0.j])"
     },
     "execution_count": 474,
     "metadata": {},
     "output_type": "execute_result"
    }
   ],
   "source": [
    "\n",
    "#ninety fifth function is np.conj\n",
    "\n",
    "a = np.array([1,2,3], dtype=np.complex128)\n",
    "print(a)\n",
    "np.conj(a)"
   ],
   "metadata": {
    "collapsed": false,
    "pycharm": {
     "name": "#%%\n"
    }
   }
  },
  {
   "cell_type": "code",
   "execution_count": 477,
   "outputs": [
    {
     "name": "stdout",
     "output_type": "stream",
     "text": [
      "True\n",
      "[1.+0.j 2.+0.j 3.+0.j]\n"
     ]
    },
    {
     "data": {
      "text/plain": "array([1.-0.j, 2.-0.j, 3.-0.j])"
     },
     "execution_count": 477,
     "metadata": {},
     "output_type": "execute_result"
    }
   ],
   "source": [
    "\n",
    "#ninety sixth function is np.conjugate\n",
    "\n",
    "print(np.conjugate is np.conj)\n",
    "\n",
    "a = np.array([1,2,3], dtype=np.complex128)\n",
    "print(a)\n",
    "np.conjugate(a)\n"
   ],
   "metadata": {
    "collapsed": false,
    "pycharm": {
     "name": "#%%\n"
    }
   }
  },
  {
   "cell_type": "code",
   "execution_count": 478,
   "outputs": [
    {
     "data": {
      "text/plain": "array([1. , 2.5, 4. ])"
     },
     "execution_count": 478,
     "metadata": {},
     "output_type": "execute_result"
    }
   ],
   "source": [
    "\n",
    "#ninety seventh function is np.convolve\n",
    "\n",
    "np.convolve([1,2,3],[0,1,0.5], 'same') # i can't understand this function formula !!!\n"
   ],
   "metadata": {
    "collapsed": false,
    "pycharm": {
     "name": "#%%\n"
    }
   }
  },
  {
   "cell_type": "code",
   "execution_count": 485,
   "outputs": [
    {
     "name": "stdout",
     "output_type": "stream",
     "text": [
      "False\n",
      "[ True  True  True]\n"
     ]
    }
   ],
   "source": [
    "\n",
    "#ninety eighth function is np.copy\n",
    "\n",
    "a = np.array([1,2,3])\n",
    "b = np.copy(a)\n",
    "print(b is a)\n",
    "print(b == a)"
   ],
   "metadata": {
    "collapsed": false,
    "pycharm": {
     "name": "#%%\n"
    }
   }
  },
  {
   "cell_type": "code",
   "execution_count": 494,
   "outputs": [
    {
     "name": "stdout",
     "output_type": "stream",
     "text": [
      "[1. 2. 3.]\n",
      "[-1. -2. -3.]\n"
     ]
    }
   ],
   "source": [
    "\n",
    "#ninety ninth function is np.copysign\n",
    "\n",
    "a = np.array([-1, 2, 3.0])\n",
    "print(np.copysign(a, 1))\n",
    "print(np.copysign(a, -1))\n"
   ],
   "metadata": {
    "collapsed": false,
    "pycharm": {
     "name": "#%%\n"
    }
   }
  },
  {
   "cell_type": "code",
   "execution_count": 509,
   "outputs": [
    {
     "data": {
      "text/plain": "array([[ 4, -5,  6],\n       [ 4, -5,  6]])"
     },
     "execution_count": 509,
     "metadata": {},
     "output_type": "execute_result"
    }
   ],
   "source": [
    "\n",
    "#hundredth function is np.copyto\n",
    "\n",
    "a = np.array([[1,2,3],\n",
    "              [1,2,3]])\n",
    "b = np.array([4,-5,6])\n",
    "np.copyto(a, b)\n",
    "a"
   ],
   "metadata": {
    "collapsed": false,
    "pycharm": {
     "name": "#%%\n"
    }
   }
  },
  {
   "cell_type": "code",
   "execution_count": 2,
   "outputs": [
    {
     "name": "stdout",
     "output_type": "stream",
     "text": [
      "<module 'numpy.core' from 'C:\\\\Users\\\\Student\\\\.virtualenvs\\\\Iqrorjonfirst\\\\lib\\\\site-packages\\\\numpy\\\\core\\\\__init__.py'>\n"
     ]
    },
    {
     "data": {
      "text/plain": "['ALLOW_THREADS',\n 'AxisError',\n 'BUFSIZE',\n 'CLIP',\n 'ComplexWarning',\n 'ERR_CALL',\n 'ERR_DEFAULT',\n 'ERR_IGNORE',\n 'ERR_LOG',\n 'ERR_PRINT',\n 'ERR_RAISE',\n 'ERR_WARN',\n 'FLOATING_POINT_SUPPORT',\n 'FPE_DIVIDEBYZERO',\n 'FPE_INVALID',\n 'FPE_OVERFLOW',\n 'FPE_UNDERFLOW',\n 'False_',\n 'Inf',\n 'Infinity',\n 'MAXDIMS',\n 'MAY_SHARE_BOUNDS',\n 'MAY_SHARE_EXACT',\n 'MachAr',\n 'NAN',\n 'NINF',\n 'NZERO',\n 'NaN',\n 'PINF',\n 'PZERO',\n 'RAISE',\n 'SHIFT_DIVIDEBYZERO',\n 'SHIFT_INVALID',\n 'SHIFT_OVERFLOW',\n 'SHIFT_UNDERFLOW',\n 'ScalarType',\n 'TooHardError',\n 'True_',\n 'UFUNC_BUFSIZE_DEFAULT',\n 'UFUNC_PYVALS_NAME',\n 'WRAP',\n '_DType_reconstruct',\n '_UFUNC_API',\n '__all__',\n '__builtins__',\n '__cached__',\n '__doc__',\n '__file__',\n '__getattr__',\n '__loader__',\n '__name__',\n '__package__',\n '__path__',\n '__spec__',\n '__version__',\n '_add_newdoc_ufunc',\n '_add_newdocs',\n '_add_newdocs_scalars',\n '_asarray',\n '_dtype',\n '_dtype_ctypes',\n '_exceptions',\n '_internal',\n '_machar',\n '_methods',\n '_multiarray_tests',\n '_multiarray_umath',\n '_string_helpers',\n '_type_aliases',\n '_ufunc_config',\n '_ufunc_reconstruct',\n 'abs',\n 'absolute',\n 'add',\n 'all',\n 'allclose',\n 'alltrue',\n 'amax',\n 'amin',\n 'any',\n 'arange',\n 'arccos',\n 'arccosh',\n 'arcsin',\n 'arcsinh',\n 'arctan',\n 'arctan2',\n 'arctanh',\n 'argmax',\n 'argmin',\n 'argpartition',\n 'argsort',\n 'argwhere',\n 'around',\n 'array',\n 'array2string',\n 'array_equal',\n 'array_equiv',\n 'array_repr',\n 'array_str',\n 'arrayprint',\n 'asanyarray',\n 'asarray',\n 'ascontiguousarray',\n 'asfortranarray',\n 'atleast_1d',\n 'atleast_2d',\n 'atleast_3d',\n 'base_repr',\n 'binary_repr',\n 'bitwise_and',\n 'bitwise_not',\n 'bitwise_or',\n 'bitwise_xor',\n 'block',\n 'bool8',\n 'bool_',\n 'broadcast',\n 'busday_count',\n 'busday_offset',\n 'busdaycalendar',\n 'byte',\n 'bytes0',\n 'bytes_',\n 'can_cast',\n 'cast',\n 'cbrt',\n 'cdouble',\n 'ceil',\n 'cfloat',\n 'char',\n 'character',\n 'chararray',\n 'choose',\n 'clip',\n 'clongdouble',\n 'clongfloat',\n 'compare_chararrays',\n 'complex128',\n 'complex64',\n 'complex_',\n 'complexfloating',\n 'compress',\n 'concatenate',\n 'conj',\n 'conjugate',\n 'convolve',\n 'copysign',\n 'copyto',\n 'correlate',\n 'cos',\n 'cosh',\n 'count_nonzero',\n 'cross',\n 'csingle',\n 'cumprod',\n 'cumproduct',\n 'cumsum',\n 'datetime64',\n 'datetime_as_string',\n 'datetime_data',\n 'defchararray',\n 'deg2rad',\n 'degrees',\n 'diagonal',\n 'divide',\n 'divmod',\n 'dot',\n 'double',\n 'dtype',\n 'e',\n 'einsum',\n 'einsum_path',\n 'einsumfunc',\n 'empty',\n 'empty_like',\n 'equal',\n 'errstate',\n 'euler_gamma',\n 'exp',\n 'exp2',\n 'expm1',\n 'fabs',\n 'fastCopyAndTranspose',\n 'find_common_type',\n 'finfo',\n 'flatiter',\n 'flatnonzero',\n 'flexible',\n 'float16',\n 'float32',\n 'float64',\n 'float_',\n 'float_power',\n 'floating',\n 'floor',\n 'floor_divide',\n 'fmax',\n 'fmin',\n 'fmod',\n 'format_float_positional',\n 'format_float_scientific',\n 'format_parser',\n 'frexp',\n 'from_dlpack',\n 'frombuffer',\n 'fromfile',\n 'fromfunction',\n 'fromiter',\n 'fromnumeric',\n 'frompyfunc',\n 'fromstring',\n 'full',\n 'full_like',\n 'function_base',\n 'gcd',\n 'generic',\n 'geomspace',\n 'get_printoptions',\n 'getbufsize',\n 'geterr',\n 'geterrcall',\n 'geterrobj',\n 'getlimits',\n 'greater',\n 'greater_equal',\n 'half',\n 'heaviside',\n 'hstack',\n 'hypot',\n 'identity',\n 'iinfo',\n 'indices',\n 'inexact',\n 'inf',\n 'infty',\n 'inner',\n 'int0',\n 'int16',\n 'int32',\n 'int64',\n 'int8',\n 'int_',\n 'intc',\n 'integer',\n 'intp',\n 'invert',\n 'is_busday',\n 'isclose',\n 'isfinite',\n 'isfortran',\n 'isinf',\n 'isnan',\n 'isnat',\n 'isscalar',\n 'issctype',\n 'issubdtype',\n 'lcm',\n 'ldexp',\n 'left_shift',\n 'less',\n 'less_equal',\n 'lexsort',\n 'linspace',\n 'little_endian',\n 'log',\n 'log10',\n 'log1p',\n 'log2',\n 'logaddexp',\n 'logaddexp2',\n 'logical_and',\n 'logical_not',\n 'logical_or',\n 'logical_xor',\n 'logspace',\n 'long',\n 'longcomplex',\n 'longdouble',\n 'longfloat',\n 'longlong',\n 'matmul',\n 'max',\n 'maximum',\n 'maximum_sctype',\n 'may_share_memory',\n 'mean',\n 'memmap',\n 'min',\n 'min_scalar_type',\n 'minimum',\n 'mod',\n 'modf',\n 'moveaxis',\n 'multiarray',\n 'multiply',\n 'nan',\n 'nbytes',\n 'ndarray',\n 'ndim',\n 'nditer',\n 'negative',\n 'nested_iters',\n 'newaxis',\n 'nextafter',\n 'nonzero',\n 'not_equal',\n 'number',\n 'numeric',\n 'numerictypes',\n 'obj2sctype',\n 'object0',\n 'object_',\n 'ones',\n 'ones_like',\n 'outer',\n 'overrides',\n 'partition',\n 'pi',\n 'positive',\n 'power',\n 'printoptions',\n 'prod',\n 'product',\n 'promote_types',\n 'ptp',\n 'put',\n 'putmask',\n 'rad2deg',\n 'radians',\n 'ravel',\n 'rec',\n 'recarray',\n 'reciprocal',\n 'record',\n 'records',\n 'remainder',\n 'repeat',\n 'require',\n 'reshape',\n 'resize',\n 'result_type',\n 'right_shift',\n 'rint',\n 'roll',\n 'rollaxis',\n 'round',\n 'round_',\n 'sctype2char',\n 'sctypeDict',\n 'sctypes',\n 'searchsorted',\n 'set_numeric_ops',\n 'set_printoptions',\n 'set_string_function',\n 'setbufsize',\n 'seterr',\n 'seterrcall',\n 'seterrobj',\n 'shape',\n 'shape_base',\n 'shares_memory',\n 'short',\n 'sign',\n 'signbit',\n 'signedinteger',\n 'sin',\n 'single',\n 'singlecomplex',\n 'sinh',\n 'size',\n 'sometrue',\n 'sort',\n 'spacing',\n 'sqrt',\n 'square',\n 'squeeze',\n 'stack',\n 'std',\n 'str0',\n 'str_',\n 'string_',\n 'subtract',\n 'sum',\n 'swapaxes',\n 'take',\n 'tan',\n 'tanh',\n 'tensordot',\n 'test',\n 'timedelta64',\n 'trace',\n 'transpose',\n 'true_divide',\n 'trunc',\n 'typecodes',\n 'ubyte',\n 'ufunc',\n 'uint',\n 'uint0',\n 'uint16',\n 'uint32',\n 'uint64',\n 'uint8',\n 'uintc',\n 'uintp',\n 'ulonglong',\n 'umath',\n 'unicode',\n 'unicode_',\n 'unsignedinteger',\n 'ushort',\n 'var',\n 'vdot',\n 'void',\n 'void0',\n 'vstack',\n 'warnings',\n 'where',\n 'zeros',\n 'zeros_like']"
     },
     "execution_count": 2,
     "metadata": {},
     "output_type": "execute_result"
    }
   ],
   "source": [
    "#one hundred and first function is np.core\n",
    "print(np.core)\n",
    "dir(np.core)"
   ],
   "metadata": {
    "collapsed": false,
    "pycharm": {
     "name": "#%%\n"
    }
   }
  },
  {
   "cell_type": "code",
   "execution_count": 37,
   "outputs": [
    {
     "data": {
      "text/plain": "array([[ 1.        ,  0.99256089, -0.68080987, -0.26249862, -0.86879845],\n       [ 0.99256089,  1.        , -0.76492173, -0.37802565, -0.92262144],\n       [-0.68080987, -0.76492173,  1.        ,  0.88548619,  0.95417585],\n       [-0.26249862, -0.37802565,  0.88548619,  1.        ,  0.70585998],\n       [-0.86879845, -0.92262144,  0.95417585,  0.70585998,  1.        ]])"
     },
     "execution_count": 37,
     "metadata": {},
     "output_type": "execute_result"
    }
   ],
   "source": [
    "\n",
    "#one hundred and second function is np.corrcoef\n",
    "a = np.array([[0.77395605, 0.43887844, 0.85859792],\n",
    "               [0.69736803, 0.09417735, 0.97562235],\n",
    "               [0.7611397 , 0.78606431, 0.12811363],\n",
    "               [0.9767686, 0.7897584, 0.547843658943],\n",
    "               [0.5434534 , 0.75675674, 0.1234243]])\n",
    "corr = np.corrcoef(a)\n",
    "corr\n"
   ],
   "metadata": {
    "collapsed": false,
    "pycharm": {
     "name": "#%%\n"
    }
   }
  },
  {
   "cell_type": "code",
   "execution_count": 41,
   "outputs": [
    {
     "data": {
      "text/plain": "array([32])"
     },
     "execution_count": 41,
     "metadata": {},
     "output_type": "execute_result"
    }
   ],
   "source": [
    "\n",
    "#one hundred and third function is np.correlate\n",
    "\n",
    "corr = np.correlate([1,2,3],\n",
    "                    [4,5,6])\n",
    "corr\n"
   ],
   "metadata": {
    "collapsed": false,
    "pycharm": {
     "name": "#%%\n"
    }
   }
  },
  {
   "cell_type": "code",
   "execution_count": 42,
   "outputs": [
    {
     "data": {
      "text/plain": "array([ 0.54030231, -0.41614684, -0.9899925 ])"
     },
     "execution_count": 42,
     "metadata": {},
     "output_type": "execute_result"
    }
   ],
   "source": [
    "\n",
    "#one hundred and third function is np.cos\n",
    "\n",
    "a = np.array([1,2,3])\n",
    "np.cos(a)\n"
   ],
   "metadata": {
    "collapsed": false,
    "pycharm": {
     "name": "#%%\n"
    }
   }
  },
  {
   "cell_type": "code",
   "execution_count": 43,
   "outputs": [
    {
     "data": {
      "text/plain": "array([ 1.54308063,  3.76219569, 10.067662  , 27.30823284, 74.20994852])"
     },
     "execution_count": 43,
     "metadata": {},
     "output_type": "execute_result"
    }
   ],
   "source": [
    "\n",
    "#one hundred and fourth function is np.cosh\n",
    "\n",
    "np.cosh([1,2,3,4,5])\n"
   ],
   "metadata": {
    "collapsed": false,
    "pycharm": {
     "name": "#%%\n"
    }
   }
  },
  {
   "cell_type": "code",
   "execution_count": 45,
   "outputs": [
    {
     "data": {
      "text/plain": "4"
     },
     "execution_count": 45,
     "metadata": {},
     "output_type": "execute_result"
    }
   ],
   "source": [
    "\n",
    "#one hundred and fifth function is np.count_nonzero\n",
    "\n",
    "a = np.array([0,1,2,3,4,0])\n",
    "np.count_nonzero(a)\n"
   ],
   "metadata": {
    "collapsed": false,
    "pycharm": {
     "name": "#%%\n"
    }
   }
  },
  {
   "cell_type": "code",
   "execution_count": 46,
   "outputs": [
    {
     "data": {
      "text/plain": "array([[1., 1.],\n       [1., 1.]])"
     },
     "execution_count": 46,
     "metadata": {},
     "output_type": "execute_result"
    }
   ],
   "source": [
    "\n",
    "#one hundred and seventh function is np.cov\n",
    "\n",
    "a = np.array([[1,2,3],\n",
    "              [4,5,6]])\n",
    "np.cov(a)"
   ],
   "metadata": {
    "collapsed": false,
    "pycharm": {
     "name": "#%%\n"
    }
   }
  },
  {
   "cell_type": "code",
   "execution_count": 55,
   "outputs": [
    {
     "data": {
      "text/plain": "array(-2)"
     },
     "execution_count": 55,
     "metadata": {},
     "output_type": "execute_result"
    }
   ],
   "source": [
    "\n",
    "#one hundred and eighth function is np.cross\n",
    "\n",
    "np.cross([1, 2], [3, 4])\n"
   ],
   "metadata": {
    "collapsed": false,
    "pycharm": {
     "name": "#%%\n"
    }
   }
  },
  {
   "cell_type": "code",
   "execution_count": 58,
   "outputs": [
    {
     "name": "stdout",
     "output_type": "stream",
     "text": [
      "complex64\n"
     ]
    },
    {
     "data": {
      "text/plain": "array([1.+0.j, 2.+0.j, 3.+0.j], dtype=complex64)"
     },
     "execution_count": 58,
     "metadata": {},
     "output_type": "execute_result"
    }
   ],
   "source": [
    "\n",
    "#one hundred and ninth function is np.csingle\n",
    "\n",
    "a = np.array([1,2,3], dtype=np.csingle)\n",
    "print(a.dtype)\n",
    "a"
   ],
   "metadata": {
    "collapsed": false,
    "pycharm": {
     "name": "#%%\n"
    }
   }
  },
  {
   "cell_type": "code",
   "execution_count": 62,
   "outputs": [
    {
     "ename": "TypeError",
     "evalue": "'module' object is not callable",
     "output_type": "error",
     "traceback": [
      "\u001B[1;31m---------------------------------------------------------------------------\u001B[0m",
      "\u001B[1;31mTypeError\u001B[0m                                 Traceback (most recent call last)",
      "Cell \u001B[1;32mIn [62], line 3\u001B[0m\n\u001B[0;32m      1\u001B[0m \u001B[38;5;66;03m#onme hundred and tenth function is np.ctypeslib\u001B[39;00m\n\u001B[1;32m----> 3\u001B[0m \u001B[43mnp\u001B[49m\u001B[38;5;241;43m.\u001B[39;49m\u001B[43mctypeslib\u001B[49m\u001B[43m(\u001B[49m\u001B[43m[\u001B[49m\u001B[38;5;241;43m1\u001B[39;49m\u001B[43m,\u001B[49m\u001B[38;5;241;43m2\u001B[39;49m\u001B[43m,\u001B[49m\u001B[38;5;241;43m3\u001B[39;49m\u001B[43m]\u001B[49m\u001B[43m)\u001B[49m\n",
      "\u001B[1;31mTypeError\u001B[0m: 'module' object is not callable"
     ]
    }
   ],
   "source": [
    "\n",
    "#onme hundred and tenth function is np.ctypeslib\n",
    "\n",
    "np.ctypeslib.as_array([1,2,3])\n"
   ],
   "metadata": {
    "collapsed": false,
    "pycharm": {
     "name": "#%%\n"
    }
   }
  },
  {
   "cell_type": "code",
   "execution_count": 73,
   "outputs": [
    {
     "name": "stdout",
     "output_type": "stream",
     "text": [
      "[[   1    2    6   24]\n",
      " [   5   30  210 1680]\n",
      " [   1    4    8   40]]\n",
      "------------------------------\n",
      "[[  1   2   3   4]\n",
      " [  5  12  21  32]\n",
      " [  5  48  42 160]]\n"
     ]
    }
   ],
   "source": [
    "\n",
    "#one hundred and eleventh function is np.cumprod\n",
    "\n",
    "a = np.array([[1,2,3,4],\n",
    "              [5,6,7,8],\n",
    "              [1,4,2,5]])\n",
    "print(np.cumprod(a, axis=1))\n",
    "print(\"-\"*30)\n",
    "print(np.cumprod(a, axis=0))\n"
   ],
   "metadata": {
    "collapsed": false,
    "pycharm": {
     "name": "#%%\n"
    }
   }
  },
  {
   "cell_type": "code",
   "execution_count": 74,
   "outputs": [
    {
     "name": "stdout",
     "output_type": "stream",
     "text": [
      "[[   1    2    6   24]\n",
      " [   5   30  210 1680]\n",
      " [   1    4    8   40]]\n",
      "------------------------------\n",
      "[[  1   2   3   4]\n",
      " [  5  12  21  32]\n",
      " [  5  48  42 160]]\n"
     ]
    }
   ],
   "source": [
    "\n",
    "#one hundred and twelveth function is np.cumproduct\n",
    "a = np.array([[1,2,3,4],\n",
    "              [5,6,7,8],\n",
    "              [1,4,2,5]])\n",
    "print(np.cumprod(a, axis=1))\n",
    "print(\"-\"*30)\n",
    "print(np.cumproduct(a, axis=0))"
   ],
   "metadata": {
    "collapsed": false,
    "pycharm": {
     "name": "#%%\n"
    }
   }
  },
  {
   "cell_type": "code",
   "execution_count": 78,
   "outputs": [
    {
     "name": "stdout",
     "output_type": "stream",
     "text": [
      "[[ 1  3  6]\n",
      " [ 4  9 15]\n",
      " [ 7 15 24]]\n",
      "------------------------------\n",
      "[[ 1  2  3]\n",
      " [ 5  7  9]\n",
      " [12 15 18]]\n"
     ]
    }
   ],
   "source": [
    "\n",
    "#one hundred and thirteenth function is np.cumsum\n",
    "\n",
    "a = np.array([[1,2,3],\n",
    "              [4,5,6],\n",
    "              [7,8,9]])\n",
    "\n",
    "print(np.cumsum(a, axis=1))\n",
    "print(\"-\"*30)\n",
    "print(np.cumsum(a, axis=0))"
   ],
   "metadata": {
    "collapsed": false,
    "pycharm": {
     "name": "#%%\n"
    }
   }
  },
  {
   "cell_type": "code",
   "execution_count": 82,
   "outputs": [
    {
     "name": "stdout",
     "output_type": "stream",
     "text": [
      "datetime64[Y]\n",
      "['2022' '2023']\n"
     ]
    }
   ],
   "source": [
    "\n",
    "#one hundred and fourteenth function is np.datetime64\n",
    "\n",
    "arr = np.array(['2022', '2023'], dtype=np.datetime64)\n",
    "print(arr.dtype)\n",
    "print(arr)"
   ],
   "metadata": {
    "collapsed": false,
    "pycharm": {
     "name": "#%%\n"
    }
   }
  },
  {
   "cell_type": "code",
   "execution_count": 85,
   "outputs": [
    {
     "name": "stdout",
     "output_type": "stream",
     "text": [
      "['2022-01-01' '2022-02-01']\n",
      "<U28\n"
     ]
    }
   ],
   "source": [
    "\n",
    "#one hundred and fifteenth function is np.datetime_as_string\n",
    "\n",
    "a = np.array(['2022-01-01', '2022-02-01'], dtype=np.datetime64)\n",
    "print(np.datetime_as_string(a))\n",
    "print(np.datetime_as_string(a).dtype)"
   ],
   "metadata": {
    "collapsed": false,
    "pycharm": {
     "name": "#%%\n"
    }
   }
  },
  {
   "cell_type": "code",
   "execution_count": 88,
   "outputs": [
    {
     "data": {
      "text/plain": "('D', 1)"
     },
     "execution_count": 88,
     "metadata": {},
     "output_type": "execute_result"
    }
   ],
   "source": [
    "\n",
    "#one hundred and sixteenth function is np.datetime_data\n",
    "a = np.datetime64('2022-01-01')\n",
    "np.datetime_data(a)"
   ],
   "metadata": {
    "collapsed": false,
    "pycharm": {
     "name": "#%%\n"
    }
   }
  },
  {
   "cell_type": "code",
   "execution_count": 97,
   "outputs": [
    {
     "name": "stdout",
     "output_type": "stream",
     "text": [
      "3.141592653589793\n",
      "[1.74532925 1.76278254]\n"
     ]
    }
   ],
   "source": [
    "\n",
    "#one hundred and seventeenth function is np.deg2rad\n",
    "\n",
    "print(np.deg2rad(180))\n",
    "print(np.deg2rad([100, 101]))\n"
   ],
   "metadata": {
    "collapsed": false,
    "pycharm": {
     "name": "#%%\n"
    }
   }
  },
  {
   "cell_type": "code",
   "execution_count": 101,
   "outputs": [
    {
     "name": "stdout",
     "output_type": "stream",
     "text": [
      "180.0\n",
      "179.9087476710785\n",
      "[5729.57795131 5786.87373082]\n"
     ]
    }
   ],
   "source": [
    "\n",
    "#one hundred and eighteenth function is np.degrees\n",
    "print(np.degrees(np.pi))\n",
    "print(np.degrees(3.14))\n",
    "print(np.degrees([100, 101]))\n"
   ],
   "metadata": {
    "collapsed": false,
    "pycharm": {
     "name": "#%%\n"
    }
   }
  },
  {
   "cell_type": "code",
   "execution_count": 106,
   "outputs": [
    {
     "data": {
      "text/plain": "array([2, 3, 4, 5])"
     },
     "execution_count": 106,
     "metadata": {},
     "output_type": "execute_result"
    }
   ],
   "source": [
    "\n",
    "#one hundred and nineteenth function is np.delete\n",
    "\n",
    "a = np.array([1,2,3,4,5,6])\n",
    "np.delete(a, [0,-1], None)\n"
   ],
   "metadata": {
    "collapsed": false,
    "pycharm": {
     "name": "#%%\n"
    }
   }
  },
  {
   "cell_type": "code",
   "execution_count": 109,
   "outputs": [
    {
     "name": "stderr",
     "output_type": "stream",
     "text": [
      "C:\\Users\\Student\\AppData\\Local\\Temp\\ipykernel_1208\\2126322971.py:3: DeprecationWarning: `np.float` is a deprecated alias for the builtin `float`. To silence this warning, use `float` by itself. Doing this will not modify any behavior and is safe. If you specifically wanted the numpy scalar type, use `np.float64` here.\n",
      "Deprecated in NumPy 1.20; for more details and guidance: https://numpy.org/devdocs/release/1.20.0-notes.html#deprecations\n",
      "  to_float = np.deprecate(np.float)\n",
      "C:\\Users\\Student\\AppData\\Local\\Temp\\ipykernel_1208\\2126322971.py:4: DeprecationWarning: `float` is deprecated!\n",
      "  to_float(12)\n"
     ]
    },
    {
     "data": {
      "text/plain": "12.0"
     },
     "execution_count": 109,
     "metadata": {},
     "output_type": "execute_result"
    }
   ],
   "source": [
    "\n",
    "#one hundred and twentieth function is np.deprecate\n",
    "\n",
    "to_float = np.deprecate(np.float)\n",
    "to_float(12)\n"
   ],
   "metadata": {
    "collapsed": false,
    "pycharm": {
     "name": "#%%\n"
    }
   }
  },
  {
   "cell_type": "code",
   "execution_count": 127,
   "outputs": [],
   "source": [
    "\n",
    "#one hundred and twenty first function is np.deprecate_with_doc\n",
    "\n",
    "hello = np.deprecate_with_doc(\"hello\")"
   ],
   "metadata": {
    "collapsed": false,
    "pycharm": {
     "name": "#%%\n"
    }
   }
  },
  {
   "cell_type": "code",
   "execution_count": 130,
   "outputs": [
    {
     "data": {
      "text/plain": "array([1, 5, 9])"
     },
     "execution_count": 130,
     "metadata": {},
     "output_type": "execute_result"
    }
   ],
   "source": [
    "\n",
    "#one hundred and twenty second function is np.diag\n",
    "\n",
    "a = np.array([[1,2,3],\n",
    "              [4,5,6],\n",
    "              [7,8,9]])\n",
    "np.diag(a)"
   ],
   "metadata": {
    "collapsed": false,
    "pycharm": {
     "name": "#%%\n"
    }
   }
  },
  {
   "cell_type": "code",
   "execution_count": 150,
   "outputs": [
    {
     "name": "stdout",
     "output_type": "stream",
     "text": [
      "[0 4 8]\n",
      "[100 101 102]\n"
     ]
    }
   ],
   "source": [
    "\n",
    "#one hundred and twenty third function is np.diag_indices\n",
    "\n",
    "di = np.diag_indices(3)\n",
    "arr = np.arange(9).reshape(3,3)\n",
    "print(arr.diagonal())\n",
    "arr[di] = [100, 101, 102]\n",
    "print(arr.diagonal())\n"
   ],
   "metadata": {
    "collapsed": false,
    "pycharm": {
     "name": "#%%\n"
    }
   }
  },
  {
   "cell_type": "code",
   "execution_count": 160,
   "outputs": [
    {
     "data": {
      "text/plain": "(array([0, 1]), array([0, 1]))"
     },
     "execution_count": 160,
     "metadata": {},
     "output_type": "execute_result"
    }
   ],
   "source": [
    "\n",
    "#one hundred and twenty fourth function is np.diag_indices_from\n",
    "a = np.array([[1,2],\n",
    "              [4,5]])\n",
    "np.diag_indices_from(a)\n"
   ],
   "metadata": {
    "collapsed": false,
    "pycharm": {
     "name": "#%%\n"
    }
   }
  },
  {
   "cell_type": "code",
   "execution_count": 161,
   "outputs": [
    {
     "data": {
      "text/plain": "array([[1, 0, 0, 0],\n       [0, 2, 0, 0],\n       [0, 0, 3, 0],\n       [0, 0, 0, 4]])"
     },
     "execution_count": 161,
     "metadata": {},
     "output_type": "execute_result"
    }
   ],
   "source": [
    "\n",
    "#one hundred and twenty fifth function is np.diagflat\n",
    "np.diagflat([[1,2], [3,4]])\n"
   ],
   "metadata": {
    "collapsed": false,
    "pycharm": {
     "name": "#%%\n"
    }
   }
  },
  {
   "cell_type": "code",
   "execution_count": null,
   "outputs": [],
   "source": [],
   "metadata": {
    "collapsed": false,
    "pycharm": {
     "name": "#%%\n",
     "is_executing": true
    }
   }
  },
  {
   "cell_type": "code",
   "execution_count": null,
   "outputs": [],
   "source": [],
   "metadata": {
    "collapsed": false,
    "pycharm": {
     "name": "#%%\n",
     "is_executing": true
    }
   }
  },
  {
   "cell_type": "code",
   "execution_count": null,
   "outputs": [],
   "source": [],
   "metadata": {
    "collapsed": false,
    "pycharm": {
     "name": "#%%\n",
     "is_executing": true
    }
   }
  },
  {
   "cell_type": "code",
   "execution_count": null,
   "outputs": [],
   "source": [],
   "metadata": {
    "collapsed": false,
    "pycharm": {
     "name": "#%%\n",
     "is_executing": true
    }
   }
  },
  {
   "cell_type": "code",
   "execution_count": null,
   "outputs": [],
   "source": [],
   "metadata": {
    "collapsed": false,
    "pycharm": {
     "name": "#%%\n",
     "is_executing": true
    }
   }
  },
  {
   "cell_type": "code",
   "execution_count": null,
   "outputs": [],
   "source": [],
   "metadata": {
    "collapsed": false,
    "pycharm": {
     "name": "#%%\n",
     "is_executing": true
    }
   }
  },
  {
   "cell_type": "code",
   "execution_count": null,
   "outputs": [],
   "source": [],
   "metadata": {
    "collapsed": false,
    "pycharm": {
     "name": "#%%\n",
     "is_executing": true
    }
   }
  },
  {
   "cell_type": "code",
   "execution_count": null,
   "outputs": [],
   "source": [],
   "metadata": {
    "collapsed": false,
    "pycharm": {
     "name": "#%%\n",
     "is_executing": true
    }
   }
  },
  {
   "cell_type": "code",
   "execution_count": null,
   "outputs": [],
   "source": [],
   "metadata": {
    "collapsed": false,
    "pycharm": {
     "name": "#%%\n",
     "is_executing": true
    }
   }
  },
  {
   "cell_type": "code",
   "execution_count": null,
   "outputs": [],
   "source": [],
   "metadata": {
    "collapsed": false,
    "pycharm": {
     "name": "#%%\n",
     "is_executing": true
    }
   }
  },
  {
   "cell_type": "code",
   "execution_count": null,
   "outputs": [],
   "source": [],
   "metadata": {
    "collapsed": false,
    "pycharm": {
     "name": "#%%\n",
     "is_executing": true
    }
   }
  },
  {
   "cell_type": "code",
   "execution_count": null,
   "outputs": [],
   "source": [],
   "metadata": {
    "collapsed": false,
    "pycharm": {
     "name": "#%%\n",
     "is_executing": true
    }
   }
  },
  {
   "cell_type": "code",
   "execution_count": null,
   "outputs": [],
   "source": [],
   "metadata": {
    "collapsed": false,
    "pycharm": {
     "name": "#%%\n",
     "is_executing": true
    }
   }
  },
  {
   "cell_type": "code",
   "execution_count": 2,
   "outputs": [],
   "source": [],
   "metadata": {
    "collapsed": false,
    "pycharm": {
     "name": "#%%\n"
    }
   }
  },
  {
   "cell_type": "code",
   "execution_count": null,
   "outputs": [],
   "source": [],
   "metadata": {
    "collapsed": false,
    "pycharm": {
     "name": "#%%\n",
     "is_executing": true
    }
   }
  },
  {
   "cell_type": "code",
   "execution_count": null,
   "outputs": [],
   "source": [],
   "metadata": {
    "collapsed": false,
    "pycharm": {
     "name": "#%%\n",
     "is_executing": true
    }
   }
  },
  {
   "cell_type": "code",
   "execution_count": null,
   "outputs": [],
   "source": [],
   "metadata": {
    "collapsed": false,
    "pycharm": {
     "name": "#%%\n",
     "is_executing": true
    }
   }
  },
  {
   "cell_type": "code",
   "execution_count": null,
   "outputs": [],
   "source": [],
   "metadata": {
    "collapsed": false,
    "pycharm": {
     "name": "#%%\n",
     "is_executing": true
    }
   }
  },
  {
   "cell_type": "code",
   "execution_count": null,
   "outputs": [],
   "source": [],
   "metadata": {
    "collapsed": false,
    "pycharm": {
     "name": "#%%\n",
     "is_executing": true
    }
   }
  },
  {
   "cell_type": "code",
   "execution_count": null,
   "outputs": [],
   "source": [],
   "metadata": {
    "collapsed": false,
    "pycharm": {
     "name": "#%%\n",
     "is_executing": true
    }
   }
  },
  {
   "cell_type": "code",
   "execution_count": null,
   "outputs": [],
   "source": [],
   "metadata": {
    "collapsed": false,
    "pycharm": {
     "name": "#%%\n",
     "is_executing": true
    }
   }
  },
  {
   "cell_type": "code",
   "execution_count": null,
   "outputs": [],
   "source": [],
   "metadata": {
    "collapsed": false,
    "pycharm": {
     "name": "#%%\n",
     "is_executing": true
    }
   }
  },
  {
   "cell_type": "code",
   "execution_count": null,
   "outputs": [],
   "source": [],
   "metadata": {
    "collapsed": false,
    "pycharm": {
     "name": "#%%\n",
     "is_executing": true
    }
   }
  },
  {
   "cell_type": "code",
   "execution_count": null,
   "outputs": [],
   "source": [],
   "metadata": {
    "collapsed": false,
    "pycharm": {
     "name": "#%%\n",
     "is_executing": true
    }
   }
  },
  {
   "cell_type": "code",
   "execution_count": null,
   "outputs": [],
   "source": [],
   "metadata": {
    "collapsed": false,
    "pycharm": {
     "name": "#%%\n",
     "is_executing": true
    }
   }
  },
  {
   "cell_type": "code",
   "execution_count": null,
   "outputs": [],
   "source": [],
   "metadata": {
    "collapsed": false,
    "pycharm": {
     "name": "#%%\n",
     "is_executing": true
    }
   }
  },
  {
   "cell_type": "code",
   "execution_count": null,
   "outputs": [],
   "source": [],
   "metadata": {
    "collapsed": false,
    "pycharm": {
     "name": "#%%\n",
     "is_executing": true
    }
   }
  },
  {
   "cell_type": "code",
   "execution_count": null,
   "outputs": [],
   "source": [],
   "metadata": {
    "collapsed": false,
    "pycharm": {
     "name": "#%%\n",
     "is_executing": true
    }
   }
  },
  {
   "cell_type": "code",
   "execution_count": null,
   "outputs": [],
   "source": [],
   "metadata": {
    "collapsed": false,
    "pycharm": {
     "name": "#%%\n",
     "is_executing": true
    }
   }
  },
  {
   "cell_type": "code",
   "execution_count": null,
   "outputs": [],
   "source": [],
   "metadata": {
    "collapsed": false,
    "pycharm": {
     "name": "#%%\n",
     "is_executing": true
    }
   }
  },
  {
   "cell_type": "code",
   "execution_count": null,
   "outputs": [],
   "source": [],
   "metadata": {
    "collapsed": false,
    "pycharm": {
     "name": "#%%\n",
     "is_executing": true
    }
   }
  },
  {
   "cell_type": "code",
   "execution_count": null,
   "outputs": [],
   "source": [],
   "metadata": {
    "collapsed": false,
    "pycharm": {
     "name": "#%%\n",
     "is_executing": true
    }
   }
  },
  {
   "cell_type": "code",
   "execution_count": null,
   "outputs": [],
   "source": [],
   "metadata": {
    "collapsed": false,
    "pycharm": {
     "name": "#%%\n",
     "is_executing": true
    }
   }
  },
  {
   "cell_type": "code",
   "execution_count": null,
   "outputs": [],
   "source": [],
   "metadata": {
    "collapsed": false,
    "pycharm": {
     "name": "#%%\n",
     "is_executing": true
    }
   }
  },
  {
   "cell_type": "code",
   "execution_count": null,
   "outputs": [],
   "source": [],
   "metadata": {
    "collapsed": false,
    "pycharm": {
     "name": "#%%\n",
     "is_executing": true
    }
   }
  },
  {
   "cell_type": "code",
   "execution_count": null,
   "outputs": [],
   "source": [],
   "metadata": {
    "collapsed": false,
    "pycharm": {
     "name": "#%%\n",
     "is_executing": true
    }
   }
  },
  {
   "cell_type": "code",
   "execution_count": null,
   "outputs": [],
   "source": [],
   "metadata": {
    "collapsed": false,
    "pycharm": {
     "name": "#%%\n",
     "is_executing": true
    }
   }
  },
  {
   "cell_type": "code",
   "execution_count": null,
   "outputs": [],
   "source": [],
   "metadata": {
    "collapsed": false,
    "pycharm": {
     "name": "#%%\n",
     "is_executing": true
    }
   }
  },
  {
   "cell_type": "code",
   "execution_count": null,
   "outputs": [],
   "source": [],
   "metadata": {
    "collapsed": false,
    "pycharm": {
     "name": "#%%\n",
     "is_executing": true
    }
   }
  },
  {
   "cell_type": "code",
   "execution_count": null,
   "outputs": [],
   "source": [],
   "metadata": {
    "collapsed": false,
    "pycharm": {
     "name": "#%%\n",
     "is_executing": true
    }
   }
  },
  {
   "cell_type": "code",
   "execution_count": null,
   "outputs": [],
   "source": [],
   "metadata": {
    "collapsed": false,
    "pycharm": {
     "name": "#%%\n",
     "is_executing": true
    }
   }
  },
  {
   "cell_type": "code",
   "execution_count": 2,
   "outputs": [],
   "source": [],
   "metadata": {
    "collapsed": false,
    "pycharm": {
     "name": "#%%\n"
    }
   }
  },
  {
   "cell_type": "code",
   "execution_count": 2,
   "outputs": [],
   "source": [],
   "metadata": {
    "collapsed": false,
    "pycharm": {
     "name": "#%%\n"
    }
   }
  }
 ],
 "metadata": {
  "kernelspec": {
   "display_name": "Python 3 (ipykernel)",
   "language": "python",
   "name": "python3"
  },
  "language_info": {
   "codemirror_mode": {
    "name": "ipython",
    "version": 3
   },
   "file_extension": ".py",
   "mimetype": "text/x-python",
   "name": "python",
   "nbconvert_exporter": "python",
   "pygments_lexer": "ipython3",
   "version": "3.8.9"
  }
 },
 "nbformat": 4,
 "nbformat_minor": 1
}