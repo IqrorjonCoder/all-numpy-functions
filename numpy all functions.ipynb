{
 "cells": [
  {
   "cell_type": "code",
   "execution_count": 134,
   "metadata": {},
   "outputs": [],
   "source": [
    "#### All numpy functions"
   ]
  },
  {
   "cell_type": "code",
   "execution_count": 135,
   "metadata": {},
   "outputs": [],
   "source": [
    "# import numpy\n",
    "\n",
    "# !pip install numpy\n",
    "\n",
    "import numpy as np\n"
   ]
  },
  {
   "cell_type": "code",
   "execution_count": 136,
   "metadata": {},
   "outputs": [
    {
     "name": "stdout",
     "output_type": "stream",
     "text": [
      "numpy all functions count : 522\n",
      "0 : abs\n",
      "1 : absolute\n",
      "2 : add\n",
      "3 : add_docstring\n",
      "4 : add_newdoc\n",
      "5 : add_newdoc_ufunc\n",
      "6 : all\n",
      "7 : allclose\n",
      "8 : alltrue\n",
      "9 : amax\n",
      "10 : amin\n",
      "11 : angle\n",
      "12 : any\n",
      "13 : append\n",
      "14 : apply_along_axis\n",
      "15 : apply_over_axes\n",
      "16 : arange\n",
      "17 : arccos\n",
      "18 : arccosh\n",
      "19 : arcsin\n",
      "20 : arcsinh\n",
      "21 : arctan\n",
      "22 : arctan2\n",
      "23 : arctanh\n",
      "24 : argmax\n",
      "25 : argmin\n",
      "26 : argpartition\n",
      "27 : argsort\n",
      "28 : argwhere\n",
      "29 : around\n",
      "30 : array\n",
      "31 : array2string\n",
      "32 : array_equal\n",
      "33 : array_equiv\n",
      "34 : array_repr\n",
      "35 : array_split\n",
      "36 : array_str\n",
      "37 : asanyarray\n",
      "38 : asarray\n",
      "39 : asarray_chkfinite\n",
      "40 : ascontiguousarray\n",
      "41 : asfarray\n",
      "42 : asfortranarray\n",
      "43 : asmatrix\n",
      "44 : atleast_1d\n",
      "45 : atleast_2d\n",
      "46 : atleast_3d\n",
      "47 : average\n",
      "48 : bartlett\n",
      "49 : base_repr\n",
      "50 : binary_repr\n",
      "51 : bincount\n",
      "52 : bitwise_and\n",
      "53 : bitwise_not\n",
      "54 : bitwise_or\n",
      "55 : bitwise_xor\n",
      "56 : blackman\n",
      "57 : block\n",
      "58 : bmat\n",
      "59 : bool8\n",
      "60 : bool_\n",
      "61 : broadcast\n",
      "62 : broadcast_arrays\n",
      "63 : broadcast_shapes\n",
      "64 : broadcast_to\n",
      "65 : busday_count\n",
      "66 : busday_offset\n",
      "67 : busdaycalendar\n",
      "68 : byte\n",
      "69 : byte_bounds\n",
      "70 : bytes0\n",
      "71 : bytes_\n",
      "72 : can_cast\n",
      "73 : cast\n",
      "74 : cbrt\n",
      "75 : cdouble\n",
      "76 : ceil\n",
      "77 : cfloat\n",
      "78 : char\n",
      "79 : character\n",
      "80 : chararray\n",
      "81 : choose\n",
      "82 : clip\n",
      "83 : clongdouble\n",
      "84 : clongfloat\n",
      "85 : column_stack\n",
      "86 : common_type\n",
      "87 : compare_chararrays\n",
      "88 : compat\n",
      "89 : complex128\n",
      "90 : complex64\n",
      "91 : complex_\n",
      "92 : complexfloating\n",
      "93 : compress\n",
      "94 : concatenate\n",
      "95 : conj\n",
      "96 : conjugate\n",
      "97 : convolve\n",
      "98 : copy\n",
      "99 : copysign\n",
      "100 : copyto\n",
      "101 : core\n",
      "102 : corrcoef\n",
      "103 : correlate\n",
      "104 : cos\n",
      "105 : cosh\n",
      "106 : count_nonzero\n",
      "107 : cov\n",
      "108 : cross\n",
      "109 : csingle\n",
      "110 : ctypeslib\n",
      "111 : cumprod\n",
      "112 : cumproduct\n",
      "113 : cumsum\n",
      "114 : datetime64\n",
      "115 : datetime_as_string\n",
      "116 : datetime_data\n",
      "117 : deg2rad\n",
      "118 : degrees\n",
      "119 : delete\n",
      "120 : deprecate\n",
      "121 : deprecate_with_doc\n",
      "122 : diag\n",
      "123 : diag_indices\n",
      "124 : diag_indices_from\n",
      "125 : diagflat\n",
      "126 : diagonal\n",
      "127 : diff\n",
      "128 : digitize\n",
      "129 : disp\n",
      "130 : divide\n",
      "131 : divmod\n",
      "132 : dot\n",
      "133 : double\n",
      "134 : dsplit\n",
      "135 : dstack\n",
      "136 : dtype\n",
      "137 : e\n",
      "138 : ediff1d\n",
      "139 : einsum\n",
      "140 : einsum_path\n",
      "141 : emath\n",
      "142 : empty\n",
      "143 : empty_like\n",
      "144 : equal\n",
      "145 : errstate\n",
      "146 : euler_gamma\n",
      "147 : exp\n",
      "148 : exp2\n",
      "149 : expand_dims\n",
      "150 : expm1\n",
      "151 : extract\n",
      "152 : eye\n",
      "153 : fabs\n",
      "154 : fastCopyAndTranspose\n",
      "155 : fft\n",
      "156 : fill_diagonal\n",
      "157 : find_common_type\n",
      "158 : finfo\n",
      "159 : fix\n",
      "160 : flatiter\n",
      "161 : flatnonzero\n",
      "162 : flexible\n",
      "163 : flip\n",
      "164 : fliplr\n",
      "165 : flipud\n",
      "166 : float16\n",
      "167 : float32\n",
      "168 : float64\n",
      "169 : float_\n",
      "170 : float_power\n",
      "171 : floating\n",
      "172 : floor\n",
      "173 : floor_divide\n",
      "174 : fmax\n",
      "175 : fmin\n",
      "176 : fmod\n",
      "177 : format_float_positional\n",
      "178 : format_float_scientific\n",
      "179 : format_parser\n",
      "180 : frexp\n",
      "181 : from_dlpack\n",
      "182 : frombuffer\n",
      "183 : fromfile\n",
      "184 : fromfunction\n",
      "185 : fromiter\n",
      "186 : frompyfunc\n",
      "187 : fromregex\n",
      "188 : fromstring\n",
      "189 : full\n",
      "190 : full_like\n",
      "191 : gcd\n",
      "192 : generic\n",
      "193 : genfromtxt\n",
      "194 : geomspace\n",
      "195 : get_array_wrap\n",
      "196 : get_include\n",
      "197 : get_printoptions\n",
      "198 : getbufsize\n",
      "199 : geterr\n",
      "200 : geterrcall\n",
      "201 : geterrobj\n",
      "202 : gradient\n",
      "203 : greater\n",
      "204 : greater_equal\n",
      "205 : half\n",
      "206 : hamming\n",
      "207 : hanning\n",
      "208 : heaviside\n",
      "209 : histogram\n",
      "210 : histogram2d\n",
      "211 : histogram_bin_edges\n",
      "212 : histogramdd\n",
      "213 : hsplit\n",
      "214 : hstack\n",
      "215 : hypot\n",
      "216 : i0\n",
      "217 : identity\n",
      "218 : iinfo\n",
      "219 : imag\n",
      "220 : in1d\n",
      "221 : index_exp\n",
      "222 : indices\n",
      "223 : inexact\n",
      "224 : inf\n",
      "225 : info\n",
      "226 : infty\n",
      "227 : inner\n",
      "228 : insert\n",
      "229 : int0\n",
      "230 : int16\n",
      "231 : int32\n",
      "232 : int64\n",
      "233 : int8\n",
      "234 : int_\n",
      "235 : intc\n",
      "236 : integer\n",
      "237 : interp\n",
      "238 : intersect1d\n",
      "239 : intp\n",
      "240 : invert\n",
      "241 : is_busday\n",
      "242 : isclose\n",
      "243 : iscomplex\n",
      "244 : iscomplexobj\n",
      "245 : isfinite\n",
      "246 : isfortran\n",
      "247 : isin\n",
      "248 : isinf\n",
      "249 : isnan\n",
      "250 : isnat\n",
      "251 : isneginf\n",
      "252 : isposinf\n",
      "253 : isreal\n",
      "254 : isrealobj\n",
      "255 : isscalar\n",
      "256 : issctype\n",
      "257 : issubclass_\n",
      "258 : issubdtype\n",
      "259 : issubsctype\n",
      "260 : iterable\n",
      "261 : ix_\n",
      "262 : kaiser\n",
      "263 : kron\n",
      "264 : lcm\n",
      "265 : ldexp\n",
      "266 : left_shift\n",
      "267 : less\n",
      "268 : less_equal\n",
      "269 : lexsort\n",
      "270 : lib\n",
      "271 : linalg\n",
      "272 : linspace\n",
      "273 : little_endian\n",
      "274 : load\n",
      "275 : loadtxt\n",
      "276 : log\n",
      "277 : log10\n",
      "278 : log1p\n",
      "279 : log2\n",
      "280 : logaddexp\n",
      "281 : logaddexp2\n",
      "282 : logical_and\n",
      "283 : logical_not\n",
      "284 : logical_or\n",
      "285 : logical_xor\n",
      "286 : logspace\n",
      "287 : longcomplex\n",
      "288 : longdouble\n",
      "289 : longfloat\n",
      "290 : longlong\n",
      "291 : lookfor\n",
      "292 : ma\n",
      "293 : mask_indices\n",
      "294 : mat\n",
      "295 : math\n",
      "296 : matmul\n",
      "297 : matrix\n",
      "298 : matrixlib\n",
      "299 : max\n",
      "300 : maximum\n",
      "301 : maximum_sctype\n",
      "302 : may_share_memory\n",
      "303 : mean\n",
      "304 : median\n",
      "305 : memmap\n",
      "306 : meshgrid\n",
      "307 : mgrid\n",
      "308 : min\n",
      "309 : min_scalar_type\n",
      "310 : minimum\n",
      "311 : mintypecode\n",
      "312 : mod\n",
      "313 : modf\n",
      "314 : moveaxis\n",
      "315 : msort\n",
      "316 : multiply\n",
      "317 : nan\n",
      "318 : nan_to_num\n",
      "319 : nanargmax\n",
      "320 : nanargmin\n",
      "321 : nancumprod\n",
      "322 : nancumsum\n",
      "323 : nanmax\n",
      "324 : nanmean\n",
      "325 : nanmedian\n",
      "326 : nanmin\n",
      "327 : nanpercentile\n",
      "328 : nanprod\n",
      "329 : nanquantile\n",
      "330 : nanstd\n",
      "331 : nansum\n",
      "332 : nanvar\n",
      "333 : nbytes\n",
      "334 : ndarray\n",
      "335 : ndenumerate\n",
      "336 : ndim\n",
      "337 : ndindex\n",
      "338 : nditer\n",
      "339 : negative\n",
      "340 : nested_iters\n",
      "341 : newaxis\n",
      "342 : nextafter\n",
      "343 : nonzero\n",
      "344 : not_equal\n",
      "345 : numarray\n",
      "346 : number\n",
      "347 : obj2sctype\n",
      "348 : object0\n",
      "349 : object_\n",
      "350 : ogrid\n",
      "351 : oldnumeric\n",
      "352 : ones\n",
      "353 : ones_like\n",
      "354 : os\n",
      "355 : outer\n",
      "356 : packbits\n",
      "357 : pad\n",
      "358 : partition\n",
      "359 : percentile\n",
      "360 : pi\n",
      "361 : piecewise\n",
      "362 : place\n",
      "363 : poly\n",
      "364 : poly1d\n",
      "365 : polyadd\n",
      "366 : polyder\n",
      "367 : polydiv\n",
      "368 : polyfit\n",
      "369 : polyint\n",
      "370 : polymul\n",
      "371 : polynomial\n",
      "372 : polysub\n",
      "373 : polyval\n",
      "374 : positive\n",
      "375 : power\n",
      "376 : printoptions\n",
      "377 : prod\n",
      "378 : product\n",
      "379 : promote_types\n",
      "380 : ptp\n",
      "381 : put\n",
      "382 : put_along_axis\n",
      "383 : putmask\n",
      "384 : quantile\n",
      "385 : rad2deg\n",
      "386 : radians\n",
      "387 : random\n",
      "388 : ravel\n",
      "389 : ravel_multi_index\n",
      "390 : real\n",
      "391 : real_if_close\n",
      "392 : rec\n",
      "393 : recarray\n",
      "394 : recfromcsv\n",
      "395 : recfromtxt\n",
      "396 : reciprocal\n",
      "397 : record\n",
      "398 : remainder\n",
      "399 : repeat\n",
      "400 : require\n",
      "401 : reshape\n",
      "402 : resize\n",
      "403 : result_type\n",
      "404 : right_shift\n",
      "405 : rint\n",
      "406 : roll\n",
      "407 : rollaxis\n",
      "408 : roots\n",
      "409 : rot90\n",
      "410 : round\n",
      "411 : round_\n",
      "412 : row_stack\n",
      "413 : safe_eval\n",
      "414 : save\n",
      "415 : savetxt\n",
      "416 : savez\n",
      "417 : savez_compressed\n",
      "418 : sctype2char\n",
      "419 : sctypeDict\n",
      "420 : sctypes\n",
      "421 : searchsorted\n",
      "422 : select\n",
      "423 : set_numeric_ops\n",
      "424 : set_printoptions\n",
      "425 : set_string_function\n",
      "426 : setbufsize\n",
      "427 : setdiff1d\n",
      "428 : seterr\n",
      "429 : seterrcall\n",
      "430 : seterrobj\n",
      "431 : setxor1d\n",
      "432 : shape\n",
      "433 : shares_memory\n",
      "434 : short\n",
      "435 : show_config\n",
      "436 : sign\n",
      "437 : signbit\n",
      "438 : signedinteger\n",
      "439 : sin\n",
      "440 : sinc\n",
      "441 : single\n",
      "442 : singlecomplex\n",
      "443 : sinh\n",
      "444 : size\n",
      "445 : sometrue\n",
      "446 : sort\n",
      "447 : sort_complex\n",
      "448 : source\n",
      "449 : spacing\n",
      "450 : split\n",
      "451 : sqrt\n",
      "452 : square\n",
      "453 : squeeze\n",
      "454 : stack\n",
      "455 : std\n",
      "456 : str0\n",
      "457 : str_\n",
      "458 : string_\n",
      "459 : subtract\n",
      "460 : sum\n",
      "461 : swapaxes\n",
      "462 : sys\n",
      "463 : take\n",
      "464 : take_along_axis\n",
      "465 : tan\n",
      "466 : tanh\n",
      "467 : tensordot\n",
      "468 : test\n",
      "469 : testing\n",
      "470 : tile\n",
      "471 : timedelta64\n",
      "472 : trace\n",
      "473 : tracemalloc_domain\n",
      "474 : transpose\n",
      "475 : trapz\n",
      "476 : tri\n",
      "477 : tril\n",
      "478 : tril_indices\n",
      "479 : tril_indices_from\n",
      "480 : trim_zeros\n",
      "481 : triu\n",
      "482 : triu_indices\n",
      "483 : triu_indices_from\n",
      "484 : true_divide\n",
      "485 : trunc\n",
      "486 : typecodes\n",
      "487 : typename\n",
      "488 : ubyte\n",
      "489 : ufunc\n",
      "490 : uint\n",
      "491 : uint0\n",
      "492 : uint16\n",
      "493 : uint32\n",
      "494 : uint64\n",
      "495 : uint8\n",
      "496 : uintc\n",
      "497 : uintp\n",
      "498 : ulonglong\n",
      "499 : unicode_\n",
      "500 : union1d\n",
      "501 : unique\n",
      "502 : unpackbits\n",
      "503 : unravel_index\n",
      "504 : unsignedinteger\n",
      "505 : unwrap\n",
      "506 : use_hugepage\n",
      "507 : ushort\n",
      "508 : vander\n",
      "509 : var\n",
      "510 : vdot\n",
      "511 : vectorize\n",
      "512 : version\n",
      "513 : void\n",
      "514 : void0\n",
      "515 : vsplit\n",
      "516 : vstack\n",
      "517 : warnings\n",
      "518 : where\n",
      "519 : who\n",
      "520 : zeros\n",
      "521 : zeros_like\n"
     ]
    }
   ],
   "source": [
    "\n",
    "all_functions = [i for i in dir(np) if not '_' in (i[:2] or i[1]) and i[:1].isupper() == False]\n",
    "\n",
    "print(f\"numpy all functions count : {len(all_functions)}\")\n",
    "\n",
    "for i, v in enumerate(all_functions):\n",
    "    print(f\"{i} : {v}\")\n"
   ]
  },
  {
   "cell_type": "markdown",
   "metadata": {},
   "source": [
    "## start coding"
   ]
  },
  {
   "cell_type": "code",
   "execution_count": 137,
   "metadata": {},
   "outputs": [
    {
     "data": {
      "text/plain": "array([1, 2, 3, 4, 5])"
     },
     "execution_count": 137,
     "metadata": {},
     "output_type": "execute_result"
    }
   ],
   "source": [
    "#first function is np.abs\n",
    "\n",
    "array = np.array([-1, -2, -3, -4, -5])\n",
    "np.absolute(array) # or np.abs(array)\n"
   ]
  },
  {
   "cell_type": "code",
   "execution_count": 138,
   "outputs": [
    {
     "data": {
      "text/plain": "array([[ 0,  2,  4],\n       [ 3,  5,  7],\n       [ 6,  8, 10]])"
     },
     "execution_count": 138,
     "metadata": {},
     "output_type": "execute_result"
    }
   ],
   "source": [
    "\n",
    "#second function is np.add\n",
    "\n",
    "a1 = 123\n",
    "a2 = 321\n",
    "np.add(a1, a2)\n",
    "\n",
    "array1 = np.array([0,1,2,3,4,5,6,7,8]).reshape(3,3)\n",
    "array2 = np.array([0,1,2])\n",
    "\n",
    "np.add(array1, array2)\n"
   ],
   "metadata": {
    "collapsed": false
   }
  },
  {
   "cell_type": "code",
   "execution_count": 139,
   "outputs": [
    {
     "name": "stdout",
     "output_type": "stream",
     "text": [
      "this is documentation string\n"
     ]
    }
   ],
   "source": [
    "\n",
    "#third function is np.add_docstring\n",
    "\n",
    "def func():\n",
    "    # \"\"\"\n",
    "    # you need write doc string here\n",
    "    # \"\"\"\n",
    "    return \"there is not any documentation string. please add documentation string\"\n",
    "\n",
    "np.add_docstring(func, \"this is documentation string\")\n",
    "\n",
    "print(func.__doc__)\n"
   ],
   "metadata": {
    "collapsed": false
   }
  },
  {
   "cell_type": "code",
   "execution_count": 140,
   "outputs": [
    {
     "ename": "ModuleNotFoundError",
     "evalue": "No module named 'example'",
     "output_type": "error",
     "traceback": [
      "\u001B[1;31m---------------------------------------------------------------------------\u001B[0m",
      "\u001B[1;31mModuleNotFoundError\u001B[0m                       Traceback (most recent call last)",
      "Cell \u001B[1;32mIn [140], line 13\u001B[0m\n\u001B[0;32m      1\u001B[0m \u001B[38;5;66;03m# fourth function is np.add_newdoc\u001B[39;00m\n\u001B[0;32m      2\u001B[0m \n\u001B[0;32m      3\u001B[0m \u001B[38;5;66;03m#create example.py and write in it the code\u001B[39;00m\n\u001B[1;32m   (...)\u001B[0m\n\u001B[0;32m     11\u001B[0m \n\u001B[0;32m     12\u001B[0m \u001B[38;5;66;03m#and write in main.py the codes\u001B[39;00m\n\u001B[1;32m---> 13\u001B[0m \u001B[38;5;28;01mimport\u001B[39;00m \u001B[38;5;21;01mexample\u001B[39;00m\n\u001B[0;32m     14\u001B[0m np\u001B[38;5;241m.\u001B[39madd_newdoc(\u001B[38;5;124m'\u001B[39m\u001B[38;5;124mexample\u001B[39m\u001B[38;5;124m'\u001B[39m, \u001B[38;5;124m'\u001B[39m\u001B[38;5;124mNew\u001B[39m\u001B[38;5;124m'\u001B[39m, \u001B[38;5;124m\"\u001B[39m\u001B[38;5;124mthis is a new docstring\u001B[39m\u001B[38;5;124m\"\u001B[39m)\n\u001B[0;32m     15\u001B[0m \u001B[38;5;28mprint\u001B[39m(example\u001B[38;5;241m.\u001B[39mNew\u001B[38;5;241m.\u001B[39m\u001B[38;5;18m__doc__\u001B[39m)\n",
      "\u001B[1;31mModuleNotFoundError\u001B[0m: No module named 'example'"
     ]
    }
   ],
   "source": [
    "\n",
    "# fourth function is np.add_newdoc\n",
    "\n",
    "#create example.py and write in it the code\n",
    "                                            # class New:\n",
    "                                            #     def __init__(self, a):\n",
    "                                            #         self.a = a\n",
    "                                            #\n",
    "                                            #     def main(self):\n",
    "                                            #         return \"docs iqrorjon\"\n",
    "\n",
    "\n",
    "#and write in main.py the codes\n",
    "import example\n",
    "np.add_newdoc('example', 'New', \"this is a new docstring\")\n",
    "print(example.New.__doc__)\n",
    "\n"
   ],
   "metadata": {
    "collapsed": false
   }
  },
  {
   "cell_type": "code",
   "execution_count": null,
   "metadata": {},
   "outputs": [],
   "source": [
    "\n",
    "# fifth function is np.add_newdoc_ufunc\n",
    "np.add_newdoc_ufunc(np.multiply, \"this is a new string\")\n",
    "print(np.multiply.__doc__)\n"
   ]
  },
  {
   "cell_type": "code",
   "execution_count": null,
   "metadata": {},
   "outputs": [],
   "source": [
    "\n",
    "#sixth function is np.all\n",
    "\n",
    "array1 = np.array([[True, False],\n",
    "                   [True, True]])\n",
    "print(np.all(array1))\n",
    "print(np.all(array1, axis=1)) # axis=1 is horizontal"
   ]
  },
  {
   "cell_type": "code",
   "execution_count": 141,
   "metadata": {},
   "outputs": [
    {
     "name": "stdout",
     "output_type": "stream",
     "text": [
      "True\n",
      "False\n"
     ]
    }
   ],
   "source": [
    "\n",
    "#seventh function is np.allclose\n",
    "\n",
    "print(np.allclose([1.0, -2.0], [1.0, -2.0]))\n",
    "\n",
    "print(np.allclose([2.0, 3.0], [3.0, 2.0]))\n"
   ]
  },
  {
   "cell_type": "code",
   "execution_count": 142,
   "metadata": {},
   "outputs": [
    {
     "name": "stdout",
     "output_type": "stream",
     "text": [
      "True\n",
      "False\n"
     ]
    }
   ],
   "source": [
    "\n",
    "# eighth function is np.alltrue\n",
    "\n",
    "array1 = np.array([True,1,2,3,4,5])\n",
    "array2 = np.array([False,1,2,3,4,5])\n",
    "\n",
    "print(np.alltrue(array1))\n",
    "print(np.alltrue(array2))\n"
   ]
  },
  {
   "cell_type": "code",
   "execution_count": 143,
   "metadata": {},
   "outputs": [
    {
     "name": "stdout",
     "output_type": "stream",
     "text": [
      "9\n",
      "[7 8 9]\n",
      "[3 6 9]\n"
     ]
    }
   ],
   "source": [
    "\n",
    "# ninth function is np.amax\n",
    "\n",
    "array = np.array([[1,2,3],\n",
    "                  [4,5,6],\n",
    "                  [7,8,9]])\n",
    "\n",
    "print(np.amax(array))\n",
    "print(np.amax(array, axis=0))\n",
    "print(np.amax(array, axis=1))\n"
   ]
  },
  {
   "cell_type": "code",
   "execution_count": 144,
   "metadata": {},
   "outputs": [
    {
     "name": "stdout",
     "output_type": "stream",
     "text": [
      "1\n",
      "[1 2 3]\n",
      "[1 4 7]\n"
     ]
    }
   ],
   "source": [
    "\n",
    "# tenth function is np.amin\n",
    "\n",
    "array = np.array([[1,2,3],\n",
    "                  [4,5,6],\n",
    "                  [7,8,9]])\n",
    "\n",
    "print(np.amin(array))\n",
    "print(np.amin(array, axis=0))\n",
    "print(np.amin(array, axis=1))\n"
   ]
  },
  {
   "cell_type": "code",
   "execution_count": 145,
   "metadata": {},
   "outputs": [
    {
     "data": {
      "text/plain": "array([0.  , 1.57, 0.79])"
     },
     "execution_count": 145,
     "metadata": {},
     "output_type": "execute_result"
    }
   ],
   "source": [
    "# eleventh function is np.angle\n",
    "\n",
    "np.angle([1.0, 1.0j, 1+1j])\n"
   ]
  },
  {
   "cell_type": "code",
   "execution_count": 146,
   "metadata": {},
   "outputs": [
    {
     "name": "stdout",
     "output_type": "stream",
     "text": [
      "False\n",
      "True\n"
     ]
    }
   ],
   "source": [
    "\n",
    "# twelfth function is np.any\n",
    "\n",
    "array1 = np.array([False, False, False])\n",
    "array2 = np.array([True, False, False])\n",
    "\n",
    "print(np.any(array1))\n",
    "print(np.any(array2))\n"
   ]
  },
  {
   "cell_type": "code",
   "execution_count": 147,
   "metadata": {},
   "outputs": [
    {
     "data": {
      "text/plain": "array([[1, 2, 3],\n       [4, 5, 6],\n       [7, 8, 9]])"
     },
     "execution_count": 147,
     "metadata": {},
     "output_type": "execute_result"
    }
   ],
   "source": [
    "\n",
    "# thirteenth function is np.append\n",
    "\n",
    "array = np.array([[1,2,3],\n",
    "                  [4,5,6]])\n",
    "\n",
    "np.append(array, [[7,8,9]], axis=0)\n",
    "\n"
   ]
  },
  {
   "cell_type": "code",
   "execution_count": 148,
   "metadata": {},
   "outputs": [
    {
     "data": {
      "text/plain": "array([10, 40])"
     },
     "execution_count": 148,
     "metadata": {},
     "output_type": "execute_result"
    }
   ],
   "source": [
    "\n",
    "# fourteenth function is np.apply_along_axis\n",
    "\n",
    "def func(arr):\n",
    "    return arr[0] * 10\n",
    "\n",
    "array = np.array([[1,2,3],\n",
    "                  [4,5,6]])\n",
    "\n",
    "np.apply_along_axis(func, 1, array)\n"
   ]
  },
  {
   "cell_type": "code",
   "execution_count": 149,
   "metadata": {},
   "outputs": [
    {
     "data": {
      "text/plain": "array([[[700, 800]]])"
     },
     "execution_count": 149,
     "metadata": {},
     "output_type": "execute_result"
    }
   ],
   "source": [
    "\n",
    "# fifteenth function is np.apply_over_axes\n",
    "\n",
    "def func(arr, axis):\n",
    "    return arr[axis]*10\n",
    "\n",
    "array = np.array([[[1,2],\n",
    "                   [3,4]],\n",
    "                  [[5,6],\n",
    "                   [7,8]]])\n",
    "\n",
    "np.apply_over_axes(func, array, [1, 1])\n"
   ]
  },
  {
   "cell_type": "code",
   "execution_count": 150,
   "metadata": {},
   "outputs": [
    {
     "data": {
      "text/plain": "array([1., 2., 3., 4., 5., 6., 7., 8., 9.])"
     },
     "execution_count": 150,
     "metadata": {},
     "output_type": "execute_result"
    }
   ],
   "source": [
    "\n",
    "# sixteenth function is np.arange\n",
    "array = np.arange(start=1, stop=10, step=1, dtype='float')\n",
    "array\n"
   ]
  },
  {
   "cell_type": "code",
   "execution_count": 151,
   "metadata": {},
   "outputs": [
    {
     "data": {
      "text/plain": "array([0.  , 3.14, 1.57])"
     },
     "execution_count": 151,
     "metadata": {},
     "output_type": "execute_result"
    }
   ],
   "source": [
    "\n",
    "#seventeenth function is np.arccos\n",
    "\n",
    "np.arccos([1,-1,0])\n"
   ]
  },
  {
   "cell_type": "code",
   "execution_count": 152,
   "metadata": {},
   "outputs": [
    {
     "data": {
      "text/plain": "array([2.06, 1.32, 1.76])"
     },
     "execution_count": 152,
     "metadata": {},
     "output_type": "execute_result"
    }
   ],
   "source": [
    "\n",
    "#eighteenth function is np.arccosh\n",
    "\n",
    "np.arccosh([4,2,3])\n"
   ]
  },
  {
   "cell_type": "code",
   "execution_count": 153,
   "metadata": {},
   "outputs": [
    {
     "data": {
      "text/plain": "array([-1.57,  0.  ,  1.57])"
     },
     "execution_count": 153,
     "metadata": {},
     "output_type": "execute_result"
    }
   ],
   "source": [
    "\n",
    "#nineteenth function is np.arcsin\n",
    "\n",
    "np.arcsin([-1, 0, 1])\n"
   ]
  },
  {
   "cell_type": "code",
   "execution_count": 154,
   "metadata": {},
   "outputs": [
    {
     "data": {
      "text/plain": "array([0.88, 1.44, 1.82])"
     },
     "execution_count": 154,
     "metadata": {},
     "output_type": "execute_result"
    }
   ],
   "source": [
    "\n",
    "#twentieth function is np.arcsinh\n",
    "np.arcsinh([1,2,3])\n"
   ]
  },
  {
   "cell_type": "code",
   "execution_count": 155,
   "outputs": [
    {
     "data": {
      "text/plain": "array([0.79, 1.11, 1.25])"
     },
     "execution_count": 155,
     "metadata": {},
     "output_type": "execute_result"
    }
   ],
   "source": [
    "\n",
    "#twenty first function is np.arctan\n",
    "\n",
    "np.arctan([1,2,3])\n"
   ],
   "metadata": {
    "collapsed": false
   }
  },
  {
   "cell_type": "code",
   "execution_count": 156,
   "outputs": [
    {
     "data": {
      "text/plain": "array([ 2.36,  2.36, -0.79])"
     },
     "execution_count": 156,
     "metadata": {},
     "output_type": "execute_result"
    }
   ],
   "source": [
    "\n",
    "#twenty second function is np.arctan2\n",
    "\n",
    "array1 = np.array([1,2,-1])\n",
    "array2 = np.array([-1,-2,1])\n",
    "np.arctan2(array1, array2)\n"
   ],
   "metadata": {
    "collapsed": false
   }
  },
  {
   "cell_type": "code",
   "execution_count": 157,
   "outputs": [
    {
     "data": {
      "text/plain": "array([ 0.1 , -0.69])"
     },
     "execution_count": 157,
     "metadata": {},
     "output_type": "execute_result"
    }
   ],
   "source": [
    "\n",
    "#twenty third function is np.arctanh\n",
    "\n",
    "np.arctanh([0.1, -0.6])\n"
   ],
   "metadata": {
    "collapsed": false
   }
  },
  {
   "cell_type": "code",
   "execution_count": 158,
   "outputs": [
    {
     "name": "stdout",
     "output_type": "stream",
     "text": [
      "[[ 0 11]\n",
      " [22 33]\n",
      " [44 55]\n",
      " [66 77]\n",
      " [88 99]]\n"
     ]
    },
    {
     "data": {
      "text/plain": "array([4, 4], dtype=int64)"
     },
     "execution_count": 158,
     "metadata": {},
     "output_type": "execute_result"
    }
   ],
   "source": [
    "\n",
    "#twenty fourth function is np.argmax\n",
    "\n",
    "array = np.arange(10).reshape(5,2)*11\n",
    "\n",
    "print(array)\n",
    "np.argmax(array, axis=0)\n"
   ],
   "metadata": {
    "collapsed": false
   }
  },
  {
   "cell_type": "code",
   "execution_count": 159,
   "outputs": [
    {
     "name": "stdout",
     "output_type": "stream",
     "text": [
      "[[ 10  20]\n",
      " [ 30  40]\n",
      " [ 50  60]\n",
      " [ 70  80]\n",
      " [ 90 100]]\n"
     ]
    },
    {
     "data": {
      "text/plain": "array([0, 0], dtype=int64)"
     },
     "execution_count": 159,
     "metadata": {},
     "output_type": "execute_result"
    }
   ],
   "source": [
    "\n",
    "#twenty fifth function is np.argmin\n",
    "\n",
    "array = np.arange(1, 11).reshape(5,2)*10\n",
    "print(array)\n",
    "np.argmin(array, axis=0)"
   ],
   "metadata": {
    "collapsed": false
   }
  },
  {
   "cell_type": "code",
   "execution_count": 160,
   "outputs": [
    {
     "name": "stdout",
     "output_type": "stream",
     "text": [
      "[0 1 2 3 4 5]\n",
      "[1 0 2 3 4 5]\n"
     ]
    }
   ],
   "source": [
    "\n",
    "#twenty sixth function is np.argpartition\n",
    "array = np.array([-1,1,2,3,4,5])\n",
    "\n",
    "print(np.argpartition(array, 1))\n",
    "print(np.argpartition(array, 5))\n"
   ],
   "metadata": {
    "collapsed": false
   }
  },
  {
   "cell_type": "code",
   "execution_count": 161,
   "outputs": [
    {
     "name": "stdout",
     "output_type": "stream",
     "text": [
      "[0 1 2 3 4]\n",
      "[[1 0 2]\n",
      " [2 1 0]\n",
      " [2 0 1]]\n"
     ]
    }
   ],
   "source": [
    "\n",
    "#twenty seventh function is np.argsort\n",
    "\n",
    "array = np.array([3,4,2,1,0])\n",
    "print(array[np.argsort(array)])\n",
    "\n",
    "array1 = np.array([[3,2,5],\n",
    "                   [6,1,0],\n",
    "                   [5,8,1]])\n",
    "\n",
    "sorted_arr_index = np.argsort(array1, axis=1)\n",
    "print(sorted_arr_index)\n"
   ],
   "metadata": {
    "collapsed": false
   }
  },
  {
   "cell_type": "code",
   "execution_count": 162,
   "outputs": [
    {
     "data": {
      "text/plain": "array([1, 1], dtype=int64)"
     },
     "execution_count": 162,
     "metadata": {},
     "output_type": "execute_result"
    }
   ],
   "source": [
    "\n",
    "#twenty eighth function is np.argwhere\n",
    "\n",
    "array = np.array([[1,2,3],\n",
    "                  [4,5,6],\n",
    "                  [7,8,9]])\n",
    "\n",
    "np.argwhere(array==5).flatten()\n"
   ],
   "metadata": {
    "collapsed": false
   }
  },
  {
   "cell_type": "code",
   "execution_count": 163,
   "outputs": [
    {
     "data": {
      "text/plain": "array([1.82, 3.42, 5.25])"
     },
     "execution_count": 163,
     "metadata": {},
     "output_type": "execute_result"
    }
   ],
   "source": [
    "\n",
    "#twenty nineth function is np.around\n",
    "\n",
    "array = np.array([1.82345, 3.42325, 5.24642])\n",
    "\n",
    "np.round(array, decimals=2)\n"
   ],
   "metadata": {
    "collapsed": false
   }
  },
  {
   "cell_type": "code",
   "execution_count": 164,
   "outputs": [
    {
     "data": {
      "text/plain": "array([1, 2, 3, 4, 5])"
     },
     "execution_count": 164,
     "metadata": {},
     "output_type": "execute_result"
    }
   ],
   "source": [
    "\n",
    "#thirty function is np.array\n",
    "\n",
    "array = np.array([1,2,3,4,5])\n",
    "array"
   ],
   "metadata": {
    "collapsed": false
   }
  },
  {
   "cell_type": "code",
   "execution_count": 165,
   "outputs": [
    {
     "data": {
      "text/plain": "'[ 0 \\n  1 \\n  2 \\n  3 \\n  4 \\n  5 \\n  6 \\n  7 \\n  8 \\n  9 \\n 10 \\n 11 \\n 12 \\n 13 \\n 14\\n 15 \\n 16 \\n 17 \\n 18 \\n 19 \\n 20 \\n 21 \\n 22 \\n 23 \\n 24 \\n 25 \\n 26 \\n 27 \\n 28 \\n 29\\n 30 \\n 31 \\n 32 \\n 33 \\n 34 \\n 35 \\n 36 \\n 37 \\n 38 \\n 39 \\n 40 \\n 41 \\n 42 \\n 43 \\n 44\\n 45 \\n 46 \\n 47 \\n 48 \\n 49 \\n 50 \\n 51 \\n 52 \\n 53 \\n 54 \\n 55 \\n 56 \\n 57 \\n 58 \\n 59\\n 60 \\n 61 \\n 62 \\n 63 \\n 64 \\n 65 \\n 66 \\n 67 \\n 68 \\n 69 \\n 70 \\n 71 \\n 72 \\n 73 \\n 74\\n 75 \\n 76 \\n 77 \\n 78 \\n 79 \\n 80 \\n 81 \\n 82 \\n 83 \\n 84 \\n 85 \\n 86 \\n 87 \\n 88 \\n 89\\n 90 \\n 91 \\n 92 \\n 93 \\n 94 \\n 95 \\n 96 \\n 97 \\n 98 \\n 99]'"
     },
     "execution_count": 165,
     "metadata": {},
     "output_type": "execute_result"
    }
   ],
   "source": [
    "\n",
    "#thirty first function is np.array2string\n",
    "\n",
    "array = np.arange(100)\n",
    "np.array2string(array, separator=' \\n ')\n"
   ],
   "metadata": {
    "collapsed": false
   }
  },
  {
   "cell_type": "code",
   "execution_count": 166,
   "outputs": [
    {
     "data": {
      "text/plain": "True"
     },
     "execution_count": 166,
     "metadata": {},
     "output_type": "execute_result"
    }
   ],
   "source": [
    "\n",
    "#thirty second function is np.array_equal\n",
    "\n",
    "array1 = np.array([1,2,-1])\n",
    "array2 = np.array([1,2,-1])\n",
    "\n",
    "np.array_equal(array1, array2)\n"
   ],
   "metadata": {
    "collapsed": false
   }
  },
  {
   "cell_type": "code",
   "execution_count": 167,
   "outputs": [
    {
     "name": "stdout",
     "output_type": "stream",
     "text": [
      "True\n",
      "True\n"
     ]
    }
   ],
   "source": [
    "\n",
    "#thirty third function is np.array_equiv\n",
    "\n",
    "print(np.array_equiv([1,2,-4], [1,2,-4]))\n",
    "print(np.array_equiv([1,2,-4], [[1,2,-4]]))"
   ],
   "metadata": {
    "collapsed": false
   }
  },
  {
   "cell_type": "code",
   "execution_count": 168,
   "outputs": [
    {
     "data": {
      "text/plain": "'array([ 1.+0.j,  2.+0.j,  3.+0.j, -1.+0.j, -0.-1.j])'"
     },
     "execution_count": 168,
     "metadata": {},
     "output_type": "execute_result"
    }
   ],
   "source": [
    "\n",
    "#thirty fourth function is np.array_repr\n",
    "\n",
    "array = np.array([1,2,3,-1,-1j])\n",
    "\n",
    "np.array_repr(array)\n"
   ],
   "metadata": {
    "collapsed": false
   }
  },
  {
   "cell_type": "code",
   "execution_count": 169,
   "outputs": [
    {
     "data": {
      "text/plain": "[array([1, 2]), array([3, 4]), array([5])]"
     },
     "execution_count": 169,
     "metadata": {},
     "output_type": "execute_result"
    }
   ],
   "source": [
    "\n",
    "#thirty fifth function is np.array_split\n",
    "\n",
    "array = np.arange(1, 6)\n",
    "\n",
    "np.array_split(array, 3)\n"
   ],
   "metadata": {
    "collapsed": false
   }
  },
  {
   "cell_type": "code",
   "execution_count": 170,
   "outputs": [
    {
     "data": {
      "text/plain": "'[-1  2  3 -4]'"
     },
     "execution_count": 170,
     "metadata": {},
     "output_type": "execute_result"
    }
   ],
   "source": [
    "\n",
    "#thirty sixth function is np.array_str\n",
    "\n",
    "array = np.array([-1,2,3,-4])\n",
    "\n",
    "np.array_str(array)\n"
   ],
   "metadata": {
    "collapsed": false
   }
  },
  {
   "cell_type": "code",
   "execution_count": 171,
   "outputs": [
    {
     "name": "stdout",
     "output_type": "stream",
     "text": [
      "<class 'numpy.ndarray'>\n"
     ]
    },
    {
     "data": {
      "text/plain": "array([ 1,  2,  3,  4, 45])"
     },
     "execution_count": 171,
     "metadata": {},
     "output_type": "execute_result"
    }
   ],
   "source": [
    "\n",
    "#thirty seventh function is np.asanyarray\n",
    "\n",
    "array = [1,2,3,4,45]\n",
    "\n",
    "print(type(np.asanyarray(array)))\n",
    "np.asanyarray(array)\n"
   ],
   "metadata": {
    "collapsed": false
   }
  },
  {
   "cell_type": "code",
   "execution_count": 172,
   "outputs": [
    {
     "data": {
      "text/plain": "array([1, 2, 3])"
     },
     "execution_count": 172,
     "metadata": {},
     "output_type": "execute_result"
    }
   ],
   "source": [
    "\n",
    "#thirty eighth function is np.asarray\n",
    "\n",
    "array2 = [1,2,3]\n",
    "np.asarray(array2)"
   ],
   "metadata": {
    "collapsed": false
   }
  },
  {
   "cell_type": "code",
   "execution_count": 173,
   "outputs": [
    {
     "name": "stdout",
     "output_type": "stream",
     "text": [
      "it has inf number or numpy nan\n",
      "ValueError\n"
     ]
    }
   ],
   "source": [
    "\n",
    "#thirty nineth function is np.asarray_chkfinite\n",
    "\n",
    "array = [1,2,np.inf]\n",
    "\n",
    "try:\n",
    "    print(np.asarray_chkfinite(array))\n",
    "except:\n",
    "    print('it has inf number or numpy nan')\n",
    "    print(\"ValueError\")\n"
   ],
   "metadata": {
    "collapsed": false
   }
  },
  {
   "cell_type": "code",
   "execution_count": 174,
   "outputs": [
    {
     "data": {
      "text/plain": "  C_CONTIGUOUS : True\n  F_CONTIGUOUS : True\n  OWNDATA : True\n  WRITEABLE : True\n  ALIGNED : True\n  WRITEBACKIFCOPY : False"
     },
     "execution_count": 174,
     "metadata": {},
     "output_type": "execute_result"
    }
   ],
   "source": [
    "\n",
    "#fourty function is np.ascontiguousarray\n",
    "\n",
    "array = [1,2,3,4]\n",
    "\n",
    "array = np.ascontiguousarray(array)\n",
    "array.flags\n"
   ],
   "metadata": {
    "collapsed": false
   }
  },
  {
   "cell_type": "code",
   "execution_count": 175,
   "outputs": [
    {
     "name": "stdout",
     "output_type": "stream",
     "text": [
      "[1. 2. 3. 4. 5.]\n",
      "float64\n"
     ]
    }
   ],
   "source": [
    "\n",
    "#fourty first function is np.asfarray\n",
    "\n",
    "array = [1,2,3,4,5]\n",
    "print(np.asfarray(array))\n",
    "print(np.asfarray(array).dtype)\n"
   ],
   "metadata": {
    "collapsed": false
   }
  },
  {
   "cell_type": "code",
   "execution_count": 176,
   "outputs": [
    {
     "name": "stdout",
     "output_type": "stream",
     "text": [
      "[1 2 3 4 5]\n",
      "  C_CONTIGUOUS : True\n",
      "  F_CONTIGUOUS : True\n",
      "  OWNDATA : True\n",
      "  WRITEABLE : True\n",
      "  ALIGNED : True\n",
      "  WRITEBACKIFCOPY : False\n",
      "\n"
     ]
    }
   ],
   "source": [
    "\n",
    "#fourty second function is np.asfortranarray\n",
    "\n",
    "array = [1,2,3,4,5]\n",
    "\n",
    "print(np.asfortranarray(array))\n",
    "print(np.asfortranarray(array).flags)\n"
   ],
   "metadata": {
    "collapsed": false
   }
  },
  {
   "cell_type": "code",
   "execution_count": 177,
   "outputs": [
    {
     "data": {
      "text/plain": "matrix([[1, 2, 3],\n        [5, 6, 7]])"
     },
     "execution_count": 177,
     "metadata": {},
     "output_type": "execute_result"
    }
   ],
   "source": [
    "\n",
    "#fourty third function is np.asmatrix\n",
    "\n",
    "array = np.array([[1,2,3],\n",
    "                  [5,6,7]])\n",
    "\n",
    "array2 = np.asmatrix(array)\n",
    "array2\n"
   ],
   "metadata": {
    "collapsed": false
   }
  },
  {
   "cell_type": "code",
   "execution_count": 178,
   "outputs": [
    {
     "data": {
      "text/plain": "array([1., 2., 3.])"
     },
     "execution_count": 178,
     "metadata": {},
     "output_type": "execute_result"
    }
   ],
   "source": [
    "\n",
    "#fourty fourth function is np.atleast_1d\n",
    "\n",
    "array = np.array([1.0, 2.0, 3.0])\n",
    "np.atleast_1d(array)\n"
   ],
   "metadata": {
    "collapsed": false
   }
  },
  {
   "cell_type": "code",
   "execution_count": 179,
   "outputs": [
    {
     "data": {
      "text/plain": "[array([[1.]]), array([[2.]]), array([[3.]])]"
     },
     "execution_count": 179,
     "metadata": {},
     "output_type": "execute_result"
    }
   ],
   "source": [
    "\n",
    "#fourty fifth function is np.atleast_2d\n",
    "np.atleast_2d(1.0, 2.0, 3.0)\n"
   ],
   "metadata": {
    "collapsed": false
   }
  },
  {
   "cell_type": "code",
   "execution_count": 180,
   "outputs": [
    {
     "name": "stdout",
     "output_type": "stream",
     "text": [
      "[[[11]]]\n",
      "[array([[[1]]]), array([[[2]]]), array([[[3]]])]\n"
     ]
    }
   ],
   "source": [
    "\n",
    "#fourty sixth function is np.atleast_3d\n",
    "\n",
    "print(np.atleast_3d(11))\n",
    "print(np.atleast_3d(1,2,3))"
   ],
   "metadata": {
    "collapsed": false
   }
  },
  {
   "cell_type": "code",
   "execution_count": 181,
   "outputs": [
    {
     "name": "stdout",
     "output_type": "stream",
     "text": [
      "[[ 1  2  3  4  5]\n",
      " [ 6  7  8  9 10]\n",
      " [11 12 13 14 15]]\n",
      "[ 3.  8. 13.]\n"
     ]
    }
   ],
   "source": [
    "\n",
    "#fourty seventh function is np.average\n",
    "\n",
    "array1 = np.arange(1, 16).reshape(3,5)\n",
    "print(array1)\n",
    "print(np.average(array1, axis=1))\n"
   ],
   "metadata": {
    "collapsed": false
   }
  },
  {
   "cell_type": "code",
   "execution_count": 182,
   "outputs": [
    {
     "name": "stdout",
     "output_type": "stream",
     "text": [
      "[0.   0.22 0.44 0.67 0.89 0.89 0.67 0.44 0.22 0.  ]\n",
      "[ 0. 22. 44. 67. 89. 89. 67. 44. 22.  0.]\n"
     ]
    }
   ],
   "source": [
    "\n",
    "#fourty eighth function is np.bartlett\n",
    "\n",
    "print(np.bartlett(10))\n",
    "print(np.bartlett(10).round(2)*100)\n"
   ],
   "metadata": {
    "collapsed": false
   }
  },
  {
   "cell_type": "code",
   "execution_count": 183,
   "outputs": [
    {
     "name": "stdout",
     "output_type": "stream",
     "text": [
      "0\n",
      "1\n",
      "10\n",
      "11\n",
      "100\n",
      "101\n",
      "110\n",
      "111\n",
      "1000\n",
      "1001\n"
     ]
    }
   ],
   "source": [
    "\n",
    "#fourty nineth function is np.base_repr\n",
    "for i in range(10):\n",
    "    print(np.base_repr(i))\n"
   ],
   "metadata": {
    "collapsed": false
   }
  },
  {
   "cell_type": "code",
   "execution_count": 184,
   "outputs": [
    {
     "name": "stdout",
     "output_type": "stream",
     "text": [
      "00\n",
      "01\n",
      "10\n",
      "11\n",
      "100\n",
      "101\n",
      "110\n",
      "111\n",
      "1000\n",
      "1001\n"
     ]
    },
    {
     "name": "stderr",
     "output_type": "stream",
     "text": [
      "C:\\Users\\student.ASTRUM-DOMAIN\\AppData\\Local\\Temp\\ipykernel_7068\\2130556825.py:4: DeprecationWarning: Insufficient bit width provided. This behavior will raise an error in the future.\n",
      "  print(np.binary_repr(i, width=2))\n"
     ]
    }
   ],
   "source": [
    "\n",
    "#fifty function is np.binary_repr\n",
    "\n",
    "for i in range(10):\n",
    "    print(np.binary_repr(i, width=2))\n"
   ],
   "metadata": {
    "collapsed": false
   }
  },
  {
   "cell_type": "code",
   "execution_count": 185,
   "outputs": [
    {
     "name": "stdout",
     "output_type": "stream",
     "text": [
      "[0 2 1 1 1]\n"
     ]
    }
   ],
   "source": [
    "\n",
    "#fifty first function is np.bincount\n",
    "array = np.array([1,2,3,4,1])\n",
    "print(np.bincount(array))\n"
   ],
   "metadata": {
    "collapsed": false
   }
  },
  {
   "cell_type": "code",
   "execution_count": 186,
   "outputs": [
    {
     "data": {
      "text/plain": "array([ True, False])"
     },
     "execution_count": 186,
     "metadata": {},
     "output_type": "execute_result"
    }
   ],
   "source": [
    "\n",
    "#fifty second function is np.bitwise_and\n",
    "\n",
    "np.bitwise_and([True, False], [True, True])\n"
   ],
   "metadata": {
    "collapsed": false
   }
  },
  {
   "cell_type": "code",
   "execution_count": 187,
   "outputs": [
    {
     "name": "stdout",
     "output_type": "stream",
     "text": [
      "True\n"
     ]
    },
    {
     "data": {
      "text/plain": "-4"
     },
     "execution_count": 187,
     "metadata": {},
     "output_type": "execute_result"
    }
   ],
   "source": [
    "\n",
    "#fifty third function is np.bitwise_not\n",
    "\n",
    "print(np.bitwise_not is np.invert)\n",
    "\n",
    "np.invert(3)\n"
   ],
   "metadata": {
    "collapsed": false
   }
  },
  {
   "cell_type": "code",
   "execution_count": 188,
   "outputs": [
    {
     "data": {
      "text/plain": "array([ True,  True])"
     },
     "execution_count": 188,
     "metadata": {},
     "output_type": "execute_result"
    }
   ],
   "source": [
    "\n",
    "#fifty fourth function is np.bitwise_or\n",
    "\n",
    "np.bitwise_or([True, False], [True, True])\n"
   ],
   "metadata": {
    "collapsed": false
   }
  },
  {
   "cell_type": "code",
   "execution_count": 189,
   "outputs": [
    {
     "data": {
      "text/plain": "array([ True, False])"
     },
     "execution_count": 189,
     "metadata": {},
     "output_type": "execute_result"
    }
   ],
   "source": [
    "\n",
    "#fifty fifth function is np.bitwise_xor\n",
    "\n",
    "np.bitwise_xor([True, True], [False, True])\n"
   ],
   "metadata": {
    "collapsed": false
   }
  },
  {
   "cell_type": "code",
   "execution_count": 190,
   "outputs": [
    {
     "data": {
      "text/plain": "<Figure size 640x480 with 1 Axes>",
      "image/png": "[encoded data removed]"
     },
     "metadata": {},
     "output_type": "display_data"
    }
   ],
   "source": [
    "\n",
    "#fifty sixth function is np.blackman\n",
    "import matplotlib.pyplot as plt\n",
    "\n",
    "x = np.blackman(20)\n",
    "plt.plot(x)\n",
    "plt.title(\"this is blackman array plotting\")\n",
    "plt.show()\n"
   ],
   "metadata": {
    "collapsed": false
   }
  },
  {
   "cell_type": "code",
   "execution_count": 191,
   "outputs": [
    {
     "data": {
      "text/plain": "array([[1., 0., 0., 0., 0., 1., 3., 0., 0., 0., 0.],\n       [0., 1., 0., 0., 0., 1., 0., 3., 0., 0., 0.],\n       [0., 0., 1., 0., 0., 1., 0., 0., 3., 0., 0.],\n       [0., 0., 0., 1., 0., 1., 0., 0., 0., 3., 0.],\n       [0., 0., 0., 0., 1., 1., 0., 0., 0., 0., 3.]])"
     },
     "execution_count": 191,
     "metadata": {},
     "output_type": "execute_result"
    }
   ],
   "source": [
    "\n",
    "#fifty seventh function is np.block\n",
    "\n",
    "np.block([np.eye(5), np.ones(5).reshape(5, -1),\n",
    "          np.eye(5)*3])\n"
   ],
   "metadata": {
    "collapsed": false
   }
  },
  {
   "cell_type": "code",
   "execution_count": 192,
   "outputs": [
    {
     "data": {
      "text/plain": "matrix([[1, 1, 1, 3],\n        [4, 4, 2, 1]])"
     },
     "execution_count": 192,
     "metadata": {},
     "output_type": "execute_result"
    }
   ],
   "source": [
    "\n",
    "#fifty eighth function is np.bmat\n",
    "\n",
    "x = np.mat('1 1 1 3')\n",
    "y = np.mat('4 4 2 1')\n",
    "np.bmat([[x], [y]])\n"
   ],
   "metadata": {
    "collapsed": false
   }
  },
  {
   "cell_type": "code",
   "execution_count": 193,
   "outputs": [
    {
     "data": {
      "text/plain": "array([ True,  True,  True, False])"
     },
     "execution_count": 193,
     "metadata": {},
     "output_type": "execute_result"
    }
   ],
   "source": [
    "\n",
    "#fifty ninth function is np.bool8\n",
    "\n",
    "x = np.array([1,2,3,0])\n",
    "np.bool8(x)\n"
   ],
   "metadata": {
    "collapsed": false
   }
  },
  {
   "cell_type": "code",
   "execution_count": 194,
   "outputs": [
    {
     "data": {
      "text/plain": "array([False,  True])"
     },
     "execution_count": 194,
     "metadata": {},
     "output_type": "execute_result"
    }
   ],
   "source": [
    "\n",
    "#sixty function is np.bool_\n",
    "\n",
    "a = np.bool_(True)\n",
    "b = True\n",
    "np.array([a is True, b is True], dtype=bool)\n"
   ],
   "metadata": {
    "collapsed": false
   }
  },
  {
   "cell_type": "code",
   "execution_count": 195,
   "outputs": [
    {
     "data": {
      "text/plain": "[(1, 2)]"
     },
     "execution_count": 195,
     "metadata": {},
     "output_type": "execute_result"
    }
   ],
   "source": [
    "\n",
    "#sixty first function is np.broadcast\n",
    "\n",
    "[i for i in np.broadcast([1], [2])]\n"
   ],
   "metadata": {
    "collapsed": false
   }
  },
  {
   "cell_type": "code",
   "execution_count": 196,
   "outputs": [
    {
     "data": {
      "text/plain": "[array([[1, 2, 3],\n        [1, 2, 3]]),\n array([[4, 4, 4],\n        [5, 5, 5]])]"
     },
     "execution_count": 196,
     "metadata": {},
     "output_type": "execute_result"
    }
   ],
   "source": [
    "\n",
    "#sixty second function is np.broadcast_arrays\n",
    "\n",
    "np.broadcast_arrays([[1,2,3]], [[4],[5]])\n"
   ],
   "metadata": {
    "collapsed": false
   }
  },
  {
   "cell_type": "code",
   "execution_count": 197,
   "outputs": [
    {
     "data": {
      "text/plain": "(2, 2)"
     },
     "execution_count": 197,
     "metadata": {},
     "output_type": "execute_result"
    }
   ],
   "source": [
    "\n",
    "#sixty third function is np.broadcast_shapes\n",
    "\n",
    "np.broadcast_shapes((1,2), (2,1))\n"
   ],
   "metadata": {
    "collapsed": false
   }
  },
  {
   "cell_type": "code",
   "execution_count": 198,
   "outputs": [
    {
     "data": {
      "text/plain": "array([[1, 2, 3],\n       [1, 2, 3],\n       [1, 2, 3],\n       [1, 2, 3]])"
     },
     "execution_count": 198,
     "metadata": {},
     "output_type": "execute_result"
    }
   ],
   "source": [
    "\n",
    "#sixty fourth function is np.broadcast_to\n",
    "\n",
    "x = np.array([1,2,3])\n",
    "np.broadcast_to(x, (4,3))\n"
   ],
   "metadata": {
    "collapsed": false
   }
  },
  {
   "cell_type": "code",
   "execution_count": 199,
   "outputs": [
    {
     "data": {
      "text/plain": "22"
     },
     "execution_count": 199,
     "metadata": {},
     "output_type": "execute_result"
    }
   ],
   "source": [
    "\n",
    "#sixty fifth function is np.busday_count\n",
    "\n",
    "np.busday_count('2022-09', '2022-10')\n"
   ],
   "metadata": {
    "collapsed": false
   }
  },
  {
   "cell_type": "code",
   "execution_count": 200,
   "outputs": [
    {
     "data": {
      "text/plain": "numpy.datetime64('2022-08-24')"
     },
     "execution_count": 200,
     "metadata": {},
     "output_type": "execute_result"
    }
   ],
   "source": [
    "\n",
    "#sixty sixth function is np.busday_offset\n",
    "\n",
    "np.busday_offset('2022-09', -6, roll='forward')\n"
   ],
   "metadata": {
    "collapsed": false
   }
  },
  {
   "cell_type": "code",
   "execution_count": 201,
   "outputs": [
    {
     "name": "stdout",
     "output_type": "stream",
     "text": [
      "[ True  True  True  True  True False False]\n",
      "['2022-09-30']\n"
     ]
    }
   ],
   "source": [
    "\n",
    "#sixty seventh function is np.busdaycalendar\n",
    "\n",
    "x = np.busdaycalendar(\n",
    "            holidays=['2022-09-03', '2022-09-10', '2022-09-30'])\n",
    "# Default is Monday to Friday weekdays\n",
    "\n",
    "print(x.weekmask)\n",
    "print(x.holidays)"
   ],
   "metadata": {
    "collapsed": false
   }
  },
  {
   "cell_type": "code",
   "execution_count": 202,
   "outputs": [
    {
     "data": {
      "text/plain": "array([1, 2, 3], dtype=int8)"
     },
     "execution_count": 202,
     "metadata": {},
     "output_type": "execute_result"
    }
   ],
   "source": [
    "\n",
    "#sixty eighth function is np.byte\n",
    "np.byte([1,2,3])\n"
   ],
   "metadata": {
    "collapsed": false
   }
  },
  {
   "cell_type": "code",
   "execution_count": 203,
   "outputs": [
    {
     "data": {
      "text/plain": "(2882104845600, 2882104845608)"
     },
     "execution_count": 203,
     "metadata": {},
     "output_type": "execute_result"
    }
   ],
   "source": [
    "\n",
    "#sixty ninth function is np.byte_bounds\n",
    "\n",
    "np.byte_bounds(np.array([[1],[2]]))\n"
   ],
   "metadata": {
    "collapsed": false
   }
  },
  {
   "cell_type": "code",
   "execution_count": 204,
   "outputs": [
    {
     "data": {
      "text/plain": "b'\\x01\\x00\\x00\\x00\\x02'"
     },
     "execution_count": 204,
     "metadata": {},
     "output_type": "execute_result"
    }
   ],
   "source": [
    "\n",
    "#seventy function is np.bytes0\n",
    "np.bytes0(np.array([1, 2]))\n"
   ],
   "metadata": {
    "collapsed": false
   }
  },
  {
   "cell_type": "code",
   "execution_count": 205,
   "outputs": [
    {
     "data": {
      "text/plain": "b'\\x01\\x02'"
     },
     "execution_count": 205,
     "metadata": {},
     "output_type": "execute_result"
    }
   ],
   "source": [
    "\n",
    "#seventy first function is np.bytes_\n",
    "\n",
    "np.bytes_([1, 2])\n"
   ],
   "metadata": {
    "collapsed": false
   }
  },
  {
   "cell_type": "code",
   "execution_count": 206,
   "outputs": [
    {
     "name": "stdout",
     "output_type": "stream",
     "text": [
      "False\n",
      "True\n"
     ]
    },
    {
     "name": "stderr",
     "output_type": "stream",
     "text": [
      "C:\\Users\\student.ASTRUM-DOMAIN\\AppData\\Local\\Temp\\ipykernel_7068\\1526538133.py:4: DeprecationWarning: `np.complex` is a deprecated alias for the builtin `complex`. To silence this warning, use `complex` by itself. Doing this will not modify any behavior and is safe. If you specifically wanted the numpy scalar type, use `np.complex128` here.\n",
      "Deprecated in NumPy 1.20; for more details and guidance: https://numpy.org/devdocs/release/1.20.0-notes.html#deprecations\n",
      "  print(np.can_cast(np.int32, np.complex))\n"
     ]
    }
   ],
   "source": [
    "\n",
    "#seventy second function is np.can_cast\n",
    "\n",
    "print(np.can_cast(np.int32, np.float32))\n",
    "print(np.can_cast(np.int32, np.complex))\n"
   ],
   "metadata": {
    "collapsed": false
   }
  },
  {
   "cell_type": "code",
   "execution_count": 207,
   "outputs": [
    {
     "data": {
      "text/plain": "<function numpy.core.numerictypes.<lambda>(x, k=<class 'numpy.float64'>)>"
     },
     "execution_count": 207,
     "metadata": {},
     "output_type": "execute_result"
    }
   ],
   "source": [
    "\n",
    "#seventy third function is np.cast\n",
    "\n",
    "np.cast['float']\n"
   ],
   "metadata": {
    "collapsed": false
   }
  },
  {
   "cell_type": "code",
   "execution_count": 208,
   "outputs": [
    {
     "data": {
      "text/plain": "array([2., 3.])"
     },
     "execution_count": 208,
     "metadata": {},
     "output_type": "execute_result"
    }
   ],
   "source": [
    "\n",
    "#seventy fourth function is np.cbrt\n",
    "\n",
    "np.cbrt([8, 27])\n"
   ],
   "metadata": {
    "collapsed": false
   }
  },
  {
   "cell_type": "code",
   "execution_count": 209,
   "outputs": [
    {
     "name": "stdout",
     "output_type": "stream",
     "text": [
      "(12+0j)\n",
      "complex128\n"
     ]
    }
   ],
   "source": [
    "\n",
    "#seventy fifth function is np.cdouble\n",
    "\n",
    "x = np.cdouble(12)\n",
    "print(x)\n",
    "print(x.dtype)"
   ],
   "metadata": {
    "collapsed": false
   }
  },
  {
   "cell_type": "code",
   "execution_count": 210,
   "outputs": [
    {
     "data": {
      "text/plain": "array([0., 1., 1., 1., 2.])"
     },
     "execution_count": 210,
     "metadata": {},
     "output_type": "execute_result"
    }
   ],
   "source": [
    "\n",
    "#seventy sixth function in np.ceil\n",
    "\n",
    "np.ceil([0.0, 0.1, 0.5, 1.0, 1.1])\n"
   ],
   "metadata": {
    "collapsed": false
   }
  },
  {
   "cell_type": "code",
   "execution_count": 211,
   "outputs": [
    {
     "name": "stdout",
     "output_type": "stream",
     "text": [
      "(3+0j)\n",
      "complex128\n"
     ]
    }
   ],
   "source": [
    "\n",
    "#seventy seventh function is np.cfloat\n",
    "\n",
    "x = np.cfloat(3)\n",
    "print(x)\n",
    "print(x.dtype)"
   ],
   "metadata": {
    "collapsed": false
   }
  },
  {
   "cell_type": "code",
   "execution_count": 212,
   "outputs": [
    {
     "data": {
      "text/plain": "chararray([[b'iqrorjon', b'iqrorjon', b'iqrorjon', b'iqrorjon'],\n           [b'iqrorjon', b'iqrorjon', b'iqrorjon', b'iqrorjon'],\n           [b'iqrorjon', b'iqrorjon', b'iqrorjon', b'iqrorjon'],\n           [b'iqrorjon', b'iqrorjon', b'iqrorjon', b'iqrorjon']],\n          dtype='|S10')"
     },
     "execution_count": 212,
     "metadata": {},
     "output_type": "execute_result"
    }
   ],
   "source": [
    "\n",
    "#seventy eighth function is np.char\n",
    "\n",
    "x = np.chararray((4,4), itemsize=10)\n",
    "x[:] = 'iqrorjon'\n",
    "x\n"
   ],
   "metadata": {
    "collapsed": false
   }
  },
  {
   "cell_type": "code",
   "execution_count": 213,
   "outputs": [
    {
     "name": "stderr",
     "output_type": "stream",
     "text": [
      "C:\\Users\\student.ASTRUM-DOMAIN\\AppData\\Local\\Temp\\ipykernel_7068\\2755792119.py:3: DeprecationWarning: Converting `np.character` to a dtype is deprecated. The current result is `np.dtype(np.str_)` which is not strictly correct. Note that `np.character` is generally deprecated and 'S1' should be used.\n",
      "  x = np.array(['i', 'q'], dtype=np.character)\n"
     ]
    },
    {
     "data": {
      "text/plain": "array([b'i', b'q'], dtype='|S1')"
     },
     "execution_count": 213,
     "metadata": {},
     "output_type": "execute_result"
    }
   ],
   "source": [
    "\n",
    "#seventy ninth function is np.character\n",
    "\n",
    "x = np.array(['i', 'q'], dtype=np.character)\n",
    "x"
   ],
   "metadata": {
    "collapsed": false
   }
  },
  {
   "cell_type": "code",
   "execution_count": 214,
   "outputs": [
    {
     "data": {
      "text/plain": "chararray([[b'i', b'i', b'i'],\n           [b'\\x01', '', ''],\n           [b'i', b'i', b'i']], dtype='|S1')"
     },
     "execution_count": 214,
     "metadata": {},
     "output_type": "execute_result"
    }
   ],
   "source": [
    "\n",
    "#eighty function is np.chararray\n",
    "\n",
    "x = np.chararray((3,3))\n",
    "x[::2] = 'i'\n",
    "x"
   ],
   "metadata": {
    "collapsed": false
   }
  },
  {
   "cell_type": "code",
   "execution_count": 215,
   "outputs": [
    {
     "data": {
      "text/plain": "array([1, 4])"
     },
     "execution_count": 215,
     "metadata": {},
     "output_type": "execute_result"
    }
   ],
   "source": [
    "\n",
    "#eighty first function is np.choose\n",
    "\n",
    "a = np.array([1,2,3,4,5])\n",
    "np.choose([0, 3], a)\n"
   ],
   "metadata": {
    "collapsed": false
   }
  },
  {
   "cell_type": "code",
   "execution_count": 216,
   "outputs": [
    {
     "data": {
      "text/plain": "array([2, 2, 3, 4, 5, 5, 5, 5])"
     },
     "execution_count": 216,
     "metadata": {},
     "output_type": "execute_result"
    }
   ],
   "source": [
    "\n",
    "#eighty second function is np.clip\n",
    "\n",
    "x = np.array([1,2,3,4,5,6,7,8])\n",
    "\n",
    "np.clip(x, 2,5)\n"
   ],
   "metadata": {
    "collapsed": false
   }
  },
  {
   "cell_type": "code",
   "execution_count": 217,
   "outputs": [
    {
     "name": "stdout",
     "output_type": "stream",
     "text": [
      "[1.+0.j 2.+0.j 3.+0.j]\n",
      "complex128\n"
     ]
    }
   ],
   "source": [
    "\n",
    "#eighty third function is np.clongdouble\n",
    "\n",
    "x = np.array([1,2,3], dtype=np.clongdouble)\n",
    "print(x)\n",
    "print(x.dtype)\n"
   ],
   "metadata": {
    "collapsed": false
   }
  },
  {
   "cell_type": "code",
   "execution_count": 218,
   "outputs": [
    {
     "name": "stdout",
     "output_type": "stream",
     "text": [
      "[1.+0.j 2.+0.j 3.+0.j]\n",
      "complex128\n"
     ]
    }
   ],
   "source": [
    "\n",
    "#eighty fourth function is np.clongfloat\n",
    "x = np.array([1,2,3], dtype=np.clongfloat)\n",
    "print(x)\n",
    "print(x.dtype)\n"
   ],
   "metadata": {
    "collapsed": false
   }
  },
  {
   "cell_type": "code",
   "execution_count": 219,
   "outputs": [
    {
     "data": {
      "text/plain": "array([[1, 4],\n       [2, 5],\n       [3, 6]])"
     },
     "execution_count": 219,
     "metadata": {},
     "output_type": "execute_result"
    }
   ],
   "source": [
    "\n",
    "#eighty fifth function is np.column_stack\n",
    "\n",
    "a = np.array([1,2,3])\n",
    "b = np.array([4,5,6])\n",
    "np.column_stack((a, b))\n"
   ],
   "metadata": {
    "collapsed": false
   }
  },
  {
   "cell_type": "code",
   "execution_count": 220,
   "outputs": [
    {
     "data": {
      "text/plain": "numpy.complex128"
     },
     "execution_count": 220,
     "metadata": {},
     "output_type": "execute_result"
    }
   ],
   "source": [
    "\n",
    "#eighty sixth function is np.common_type\n",
    "\n",
    "np.common_type(np.array([1j,1,2,3.0]))\n"
   ],
   "metadata": {
    "collapsed": false
   }
  },
  {
   "cell_type": "code",
   "execution_count": 221,
   "outputs": [
    {
     "name": "stdout",
     "output_type": "stream",
     "text": [
      "[False False  True False]\n",
      "[False False False  True]\n"
     ]
    }
   ],
   "source": [
    "\n",
    "#eighty seventh function is np.compare_chararrays\n",
    "a = np.array(['a', 'b', 'c', 'x'])\n",
    "b = np.array(['c', 'z', 'a', 'x'])\n",
    "\n",
    "print(np.compare_chararrays(a, b, '>', True))\n",
    "print(np.compare_chararrays(a, b, '==', True))\n"
   ],
   "metadata": {
    "collapsed": false
   }
  },
  {
   "cell_type": "code",
   "execution_count": 222,
   "outputs": [
    {
     "data": {
      "text/plain": "str"
     },
     "execution_count": 222,
     "metadata": {},
     "output_type": "execute_result"
    }
   ],
   "source": [
    "\n",
    "#eighty eighth function is np.compat\n",
    "\n",
    "np.compat.unicode\n"
   ],
   "metadata": {
    "collapsed": false
   }
  },
  {
   "cell_type": "code",
   "execution_count": 223,
   "outputs": [
    {
     "name": "stdout",
     "output_type": "stream",
     "text": [
      "[0.+1.j 0.+2.j]\n",
      "complex128\n"
     ]
    }
   ],
   "source": [
    "\n",
    "#eighty ninth function is np.complex128\n",
    "\n",
    "print(np.array([1j, 2j]))\n",
    "print(np.array([1j, 2j]).dtype)\n"
   ],
   "metadata": {
    "collapsed": false
   }
  },
  {
   "cell_type": "code",
   "execution_count": 224,
   "outputs": [
    {
     "data": {
      "text/plain": "array([1.+0.j, 2.+0.j, 3.+0.j], dtype=complex64)"
     },
     "execution_count": 224,
     "metadata": {},
     "output_type": "execute_result"
    }
   ],
   "source": [
    "\n",
    "#ninety function is np.complex64\n",
    "\n",
    "np.array([1,2,3], dtype=np.complex64)\n"
   ],
   "metadata": {
    "collapsed": false
   }
  },
  {
   "cell_type": "code",
   "execution_count": 225,
   "outputs": [
    {
     "data": {
      "text/plain": "(12+0j)"
     },
     "execution_count": 225,
     "metadata": {},
     "output_type": "execute_result"
    }
   ],
   "source": [
    "\n",
    "#ninety first function is np.complex_\n",
    "\n",
    "np.complex_(12)\n"
   ],
   "metadata": {
    "collapsed": false
   }
  },
  {
   "cell_type": "code",
   "execution_count": 226,
   "outputs": [
    {
     "name": "stderr",
     "output_type": "stream",
     "text": [
      "C:\\Users\\student.ASTRUM-DOMAIN\\AppData\\Local\\Temp\\ipykernel_7068\\1701803943.py:3: DeprecationWarning: Converting `np.complex` to a dtype is deprecated. The current result is `complex128` which is not strictly correct.\n",
      "  np.array([1,2,3], dtype=np.complexfloating)\n"
     ]
    },
    {
     "data": {
      "text/plain": "array([1.+0.j, 2.+0.j, 3.+0.j])"
     },
     "execution_count": 226,
     "metadata": {},
     "output_type": "execute_result"
    }
   ],
   "source": [
    "\n",
    "#ninety second function is np.complexfloating\n",
    "\n",
    "np.array([1,2,3], dtype=np.complexfloating)\n"
   ],
   "metadata": {
    "collapsed": false
   }
  },
  {
   "cell_type": "code",
   "execution_count": 227,
   "outputs": [
    {
     "data": {
      "text/plain": "array([[2],\n       [4],\n       [6]])"
     },
     "execution_count": 227,
     "metadata": {},
     "output_type": "execute_result"
    }
   ],
   "source": [
    "\n",
    "#ninety third function is np.compress\n",
    "a = np.array([[1,2],\n",
    "              [3,4],\n",
    "              [5,6]])\n",
    "\n",
    "np.compress([0, 1], a, axis=1)"
   ],
   "metadata": {
    "collapsed": false
   }
  },
  {
   "cell_type": "code",
   "execution_count": 228,
   "outputs": [
    {
     "data": {
      "text/plain": "array([[1, 2, 3, 4, 5, 6]])"
     },
     "execution_count": 228,
     "metadata": {},
     "output_type": "execute_result"
    }
   ],
   "source": [
    "\n",
    "#ninety fourth function is np.concatenate\n",
    "\n",
    "a = np.array([[1,2,3]])\n",
    "b = np.array([[4,5,6]])\n",
    "\n",
    "np.concatenate((a,b), axis=1)"
   ],
   "metadata": {
    "collapsed": false
   }
  },
  {
   "cell_type": "code",
   "execution_count": 229,
   "outputs": [
    {
     "name": "stdout",
     "output_type": "stream",
     "text": [
      "[1.+0.j 2.+0.j 3.+0.j]\n"
     ]
    },
    {
     "data": {
      "text/plain": "array([1.-0.j, 2.-0.j, 3.-0.j])"
     },
     "execution_count": 229,
     "metadata": {},
     "output_type": "execute_result"
    }
   ],
   "source": [
    "\n",
    "#ninety fifth function is np.conj\n",
    "\n",
    "a = np.array([1,2,3], dtype=np.complex128)\n",
    "print(a)\n",
    "np.conj(a)"
   ],
   "metadata": {
    "collapsed": false
   }
  },
  {
   "cell_type": "code",
   "execution_count": 230,
   "outputs": [
    {
     "name": "stdout",
     "output_type": "stream",
     "text": [
      "True\n",
      "[1.+0.j 2.+0.j 3.+0.j]\n"
     ]
    },
    {
     "data": {
      "text/plain": "array([1.-0.j, 2.-0.j, 3.-0.j])"
     },
     "execution_count": 230,
     "metadata": {},
     "output_type": "execute_result"
    }
   ],
   "source": [
    "\n",
    "#ninety sixth function is np.conjugate\n",
    "\n",
    "print(np.conjugate is np.conj)\n",
    "\n",
    "a = np.array([1,2,3], dtype=np.complex128)\n",
    "print(a)\n",
    "np.conjugate(a)\n"
   ],
   "metadata": {
    "collapsed": false
   }
  },
  {
   "cell_type": "code",
   "execution_count": 231,
   "outputs": [
    {
     "data": {
      "text/plain": "array([1. , 2.5, 4. ])"
     },
     "execution_count": 231,
     "metadata": {},
     "output_type": "execute_result"
    }
   ],
   "source": [
    "\n",
    "#ninety seventh function is np.convolve\n",
    "\n",
    "np.convolve([1,2,3],[0,1,0.5], 'same') # i can't understand this function formula !!!\n"
   ],
   "metadata": {
    "collapsed": false
   }
  },
  {
   "cell_type": "code",
   "execution_count": 232,
   "outputs": [
    {
     "name": "stdout",
     "output_type": "stream",
     "text": [
      "False\n",
      "[ True  True  True]\n"
     ]
    }
   ],
   "source": [
    "\n",
    "#ninety eighth function is np.copy\n",
    "\n",
    "a = np.array([1,2,3])\n",
    "b = np.copy(a)\n",
    "print(b is a)\n",
    "print(b == a)"
   ],
   "metadata": {
    "collapsed": false
   }
  },
  {
   "cell_type": "code",
   "execution_count": 233,
   "outputs": [
    {
     "name": "stdout",
     "output_type": "stream",
     "text": [
      "[1. 2. 3.]\n",
      "[-1. -2. -3.]\n"
     ]
    }
   ],
   "source": [
    "\n",
    "#ninety ninth function is np.copysign\n",
    "\n",
    "a = np.array([-1, 2, 3.0])\n",
    "print(np.copysign(a, 1))\n",
    "print(np.copysign(a, -1))\n"
   ],
   "metadata": {
    "collapsed": false
   }
  },
  {
   "cell_type": "code",
   "execution_count": 234,
   "outputs": [
    {
     "data": {
      "text/plain": "array([[ 4, -5,  6],\n       [ 4, -5,  6]])"
     },
     "execution_count": 234,
     "metadata": {},
     "output_type": "execute_result"
    }
   ],
   "source": [
    "\n",
    "#hundredth function is np.copyto\n",
    "\n",
    "a = np.array([[1,2,3],\n",
    "              [1,2,3]])\n",
    "b = np.array([4,-5,6])\n",
    "np.copyto(a, b)\n",
    "a"
   ],
   "metadata": {
    "collapsed": false
   }
  },
  {
   "cell_type": "code",
   "execution_count": 235,
   "outputs": [
    {
     "name": "stdout",
     "output_type": "stream",
     "text": [
      "<module 'numpy.core' from 'C:\\\\Users\\\\student.ASTRUM-DOMAIN\\\\AppData\\\\Local\\\\Programs\\\\Python\\\\Python39\\\\lib\\\\site-packages\\\\numpy\\\\core\\\\__init__.py'>\n"
     ]
    },
    {
     "data": {
      "text/plain": "['ALLOW_THREADS',\n 'AxisError',\n 'BUFSIZE',\n 'CLIP',\n 'ComplexWarning',\n 'ERR_CALL',\n 'ERR_DEFAULT',\n 'ERR_IGNORE',\n 'ERR_LOG',\n 'ERR_PRINT',\n 'ERR_RAISE',\n 'ERR_WARN',\n 'FLOATING_POINT_SUPPORT',\n 'FPE_DIVIDEBYZERO',\n 'FPE_INVALID',\n 'FPE_OVERFLOW',\n 'FPE_UNDERFLOW',\n 'False_',\n 'Inf',\n 'Infinity',\n 'MAXDIMS',\n 'MAY_SHARE_BOUNDS',\n 'MAY_SHARE_EXACT',\n 'MachAr',\n 'NAN',\n 'NINF',\n 'NZERO',\n 'NaN',\n 'PINF',\n 'PZERO',\n 'RAISE',\n 'SHIFT_DIVIDEBYZERO',\n 'SHIFT_INVALID',\n 'SHIFT_OVERFLOW',\n 'SHIFT_UNDERFLOW',\n 'ScalarType',\n 'TooHardError',\n 'True_',\n 'UFUNC_BUFSIZE_DEFAULT',\n 'UFUNC_PYVALS_NAME',\n 'WRAP',\n '_DType_reconstruct',\n '_UFUNC_API',\n '__all__',\n '__builtins__',\n '__cached__',\n '__doc__',\n '__file__',\n '__getattr__',\n '__loader__',\n '__name__',\n '__package__',\n '__path__',\n '__spec__',\n '__version__',\n '_add_newdoc_ufunc',\n '_add_newdocs',\n '_add_newdocs_scalars',\n '_asarray',\n '_dtype',\n '_dtype_ctypes',\n '_exceptions',\n '_internal',\n '_machar',\n '_methods',\n '_multiarray_tests',\n '_multiarray_umath',\n '_string_helpers',\n '_type_aliases',\n '_ufunc_config',\n '_ufunc_reconstruct',\n 'abs',\n 'absolute',\n 'add',\n 'all',\n 'allclose',\n 'alltrue',\n 'amax',\n 'amin',\n 'any',\n 'arange',\n 'arccos',\n 'arccosh',\n 'arcsin',\n 'arcsinh',\n 'arctan',\n 'arctan2',\n 'arctanh',\n 'argmax',\n 'argmin',\n 'argpartition',\n 'argsort',\n 'argwhere',\n 'around',\n 'array',\n 'array2string',\n 'array_equal',\n 'array_equiv',\n 'array_repr',\n 'array_str',\n 'arrayprint',\n 'asanyarray',\n 'asarray',\n 'ascontiguousarray',\n 'asfortranarray',\n 'atleast_1d',\n 'atleast_2d',\n 'atleast_3d',\n 'base_repr',\n 'binary_repr',\n 'bitwise_and',\n 'bitwise_not',\n 'bitwise_or',\n 'bitwise_xor',\n 'block',\n 'bool8',\n 'bool_',\n 'broadcast',\n 'busday_count',\n 'busday_offset',\n 'busdaycalendar',\n 'byte',\n 'bytes0',\n 'bytes_',\n 'can_cast',\n 'cast',\n 'cbrt',\n 'cdouble',\n 'ceil',\n 'cfloat',\n 'char',\n 'character',\n 'chararray',\n 'choose',\n 'clip',\n 'clongdouble',\n 'clongfloat',\n 'compare_chararrays',\n 'complex128',\n 'complex64',\n 'complex_',\n 'complexfloating',\n 'compress',\n 'concatenate',\n 'conj',\n 'conjugate',\n 'convolve',\n 'copysign',\n 'copyto',\n 'correlate',\n 'cos',\n 'cosh',\n 'count_nonzero',\n 'cross',\n 'csingle',\n 'cumprod',\n 'cumproduct',\n 'cumsum',\n 'datetime64',\n 'datetime_as_string',\n 'datetime_data',\n 'defchararray',\n 'deg2rad',\n 'degrees',\n 'diagonal',\n 'divide',\n 'divmod',\n 'dot',\n 'double',\n 'dtype',\n 'e',\n 'einsum',\n 'einsum_path',\n 'einsumfunc',\n 'empty',\n 'empty_like',\n 'equal',\n 'errstate',\n 'euler_gamma',\n 'exp',\n 'exp2',\n 'expm1',\n 'fabs',\n 'fastCopyAndTranspose',\n 'find_common_type',\n 'finfo',\n 'flatiter',\n 'flatnonzero',\n 'flexible',\n 'float16',\n 'float32',\n 'float64',\n 'float_',\n 'float_power',\n 'floating',\n 'floor',\n 'floor_divide',\n 'fmax',\n 'fmin',\n 'fmod',\n 'format_float_positional',\n 'format_float_scientific',\n 'format_parser',\n 'frexp',\n 'from_dlpack',\n 'frombuffer',\n 'fromfile',\n 'fromfunction',\n 'fromiter',\n 'fromnumeric',\n 'frompyfunc',\n 'fromstring',\n 'full',\n 'full_like',\n 'function_base',\n 'gcd',\n 'generic',\n 'geomspace',\n 'get_printoptions',\n 'getbufsize',\n 'geterr',\n 'geterrcall',\n 'geterrobj',\n 'getlimits',\n 'greater',\n 'greater_equal',\n 'half',\n 'heaviside',\n 'hstack',\n 'hypot',\n 'identity',\n 'iinfo',\n 'indices',\n 'inexact',\n 'inf',\n 'infty',\n 'inner',\n 'int0',\n 'int16',\n 'int32',\n 'int64',\n 'int8',\n 'int_',\n 'intc',\n 'integer',\n 'intp',\n 'invert',\n 'is_busday',\n 'isclose',\n 'isfinite',\n 'isfortran',\n 'isinf',\n 'isnan',\n 'isnat',\n 'isscalar',\n 'issctype',\n 'issubdtype',\n 'lcm',\n 'ldexp',\n 'left_shift',\n 'less',\n 'less_equal',\n 'lexsort',\n 'linspace',\n 'little_endian',\n 'log',\n 'log10',\n 'log1p',\n 'log2',\n 'logaddexp',\n 'logaddexp2',\n 'logical_and',\n 'logical_not',\n 'logical_or',\n 'logical_xor',\n 'logspace',\n 'long',\n 'longcomplex',\n 'longdouble',\n 'longfloat',\n 'longlong',\n 'matmul',\n 'max',\n 'maximum',\n 'maximum_sctype',\n 'may_share_memory',\n 'mean',\n 'memmap',\n 'min',\n 'min_scalar_type',\n 'minimum',\n 'mod',\n 'modf',\n 'moveaxis',\n 'multiarray',\n 'multiply',\n 'nan',\n 'nbytes',\n 'ndarray',\n 'ndim',\n 'nditer',\n 'negative',\n 'nested_iters',\n 'newaxis',\n 'nextafter',\n 'nonzero',\n 'not_equal',\n 'number',\n 'numeric',\n 'numerictypes',\n 'obj2sctype',\n 'object0',\n 'object_',\n 'ones',\n 'ones_like',\n 'outer',\n 'overrides',\n 'partition',\n 'pi',\n 'positive',\n 'power',\n 'printoptions',\n 'prod',\n 'product',\n 'promote_types',\n 'ptp',\n 'put',\n 'putmask',\n 'rad2deg',\n 'radians',\n 'ravel',\n 'rec',\n 'recarray',\n 'reciprocal',\n 'record',\n 'records',\n 'remainder',\n 'repeat',\n 'require',\n 'reshape',\n 'resize',\n 'result_type',\n 'right_shift',\n 'rint',\n 'roll',\n 'rollaxis',\n 'round',\n 'round_',\n 'sctype2char',\n 'sctypeDict',\n 'sctypes',\n 'searchsorted',\n 'set_numeric_ops',\n 'set_printoptions',\n 'set_string_function',\n 'setbufsize',\n 'seterr',\n 'seterrcall',\n 'seterrobj',\n 'shape',\n 'shape_base',\n 'shares_memory',\n 'short',\n 'sign',\n 'signbit',\n 'signedinteger',\n 'sin',\n 'single',\n 'singlecomplex',\n 'sinh',\n 'size',\n 'sometrue',\n 'sort',\n 'spacing',\n 'sqrt',\n 'square',\n 'squeeze',\n 'stack',\n 'std',\n 'str0',\n 'str_',\n 'string_',\n 'subtract',\n 'sum',\n 'swapaxes',\n 'take',\n 'tan',\n 'tanh',\n 'tensordot',\n 'test',\n 'timedelta64',\n 'trace',\n 'transpose',\n 'true_divide',\n 'trunc',\n 'typecodes',\n 'ubyte',\n 'ufunc',\n 'uint',\n 'uint0',\n 'uint16',\n 'uint32',\n 'uint64',\n 'uint8',\n 'uintc',\n 'uintp',\n 'ulonglong',\n 'umath',\n 'unicode',\n 'unicode_',\n 'unsignedinteger',\n 'ushort',\n 'var',\n 'vdot',\n 'void',\n 'void0',\n 'vstack',\n 'warnings',\n 'where',\n 'zeros',\n 'zeros_like']"
     },
     "execution_count": 235,
     "metadata": {},
     "output_type": "execute_result"
    }
   ],
   "source": [
    "#one hundred and first function is np.core\n",
    "print(np.core)\n",
    "dir(np.core)"
   ],
   "metadata": {
    "collapsed": false
   }
  },
  {
   "cell_type": "code",
   "execution_count": 236,
   "outputs": [
    {
     "data": {
      "text/plain": "array([[ 1.  ,  0.99, -0.68, -0.26, -0.87],\n       [ 0.99,  1.  , -0.76, -0.38, -0.92],\n       [-0.68, -0.76,  1.  ,  0.89,  0.95],\n       [-0.26, -0.38,  0.89,  1.  ,  0.71],\n       [-0.87, -0.92,  0.95,  0.71,  1.  ]])"
     },
     "execution_count": 236,
     "metadata": {},
     "output_type": "execute_result"
    }
   ],
   "source": [
    "\n",
    "#one hundred and second function is np.corrcoef\n",
    "a = np.array([[0.77395605, 0.43887844, 0.85859792],\n",
    "               [0.69736803, 0.09417735, 0.97562235],\n",
    "               [0.7611397 , 0.78606431, 0.12811363],\n",
    "               [0.9767686, 0.7897584, 0.547843658943],\n",
    "               [0.5434534 , 0.75675674, 0.1234243]])\n",
    "corr = np.corrcoef(a)\n",
    "corr\n"
   ],
   "metadata": {
    "collapsed": false
   }
  },
  {
   "cell_type": "code",
   "execution_count": 237,
   "outputs": [
    {
     "data": {
      "text/plain": "array([32])"
     },
     "execution_count": 237,
     "metadata": {},
     "output_type": "execute_result"
    }
   ],
   "source": [
    "\n",
    "#one hundred and third function is np.correlate\n",
    "\n",
    "corr = np.correlate([1,2,3],\n",
    "                    [4,5,6])\n",
    "corr\n"
   ],
   "metadata": {
    "collapsed": false
   }
  },
  {
   "cell_type": "code",
   "execution_count": 238,
   "outputs": [
    {
     "data": {
      "text/plain": "array([ 0.54, -0.42, -0.99])"
     },
     "execution_count": 238,
     "metadata": {},
     "output_type": "execute_result"
    }
   ],
   "source": [
    "\n",
    "#one hundred and third function is np.cos\n",
    "\n",
    "a = np.array([1,2,3])\n",
    "np.cos(a)\n"
   ],
   "metadata": {
    "collapsed": false
   }
  },
  {
   "cell_type": "code",
   "execution_count": 239,
   "outputs": [
    {
     "data": {
      "text/plain": "array([ 1.54,  3.76, 10.07, 27.31, 74.21])"
     },
     "execution_count": 239,
     "metadata": {},
     "output_type": "execute_result"
    }
   ],
   "source": [
    "\n",
    "#one hundred and fourth function is np.cosh\n",
    "\n",
    "np.cosh([1,2,3,4,5])\n"
   ],
   "metadata": {
    "collapsed": false
   }
  },
  {
   "cell_type": "code",
   "execution_count": 240,
   "outputs": [
    {
     "data": {
      "text/plain": "4"
     },
     "execution_count": 240,
     "metadata": {},
     "output_type": "execute_result"
    }
   ],
   "source": [
    "\n",
    "#one hundred and fifth function is np.count_nonzero\n",
    "\n",
    "a = np.array([0,1,2,3,4,0])\n",
    "np.count_nonzero(a)\n"
   ],
   "metadata": {
    "collapsed": false
   }
  },
  {
   "cell_type": "code",
   "execution_count": 241,
   "outputs": [
    {
     "data": {
      "text/plain": "array([[1., 1.],\n       [1., 1.]])"
     },
     "execution_count": 241,
     "metadata": {},
     "output_type": "execute_result"
    }
   ],
   "source": [
    "\n",
    "#one hundred and seventh function is np.cov\n",
    "\n",
    "a = np.array([[1,2,3],\n",
    "              [4,5,6]])\n",
    "np.cov(a)"
   ],
   "metadata": {
    "collapsed": false
   }
  },
  {
   "cell_type": "code",
   "execution_count": 242,
   "outputs": [
    {
     "data": {
      "text/plain": "array(-2)"
     },
     "execution_count": 242,
     "metadata": {},
     "output_type": "execute_result"
    }
   ],
   "source": [
    "\n",
    "#one hundred and eighth function is np.cross\n",
    "\n",
    "np.cross([1, 2], [3, 4])\n"
   ],
   "metadata": {
    "collapsed": false
   }
  },
  {
   "cell_type": "code",
   "execution_count": 243,
   "outputs": [
    {
     "name": "stdout",
     "output_type": "stream",
     "text": [
      "complex64\n"
     ]
    },
    {
     "data": {
      "text/plain": "array([1.+0.j, 2.+0.j, 3.+0.j], dtype=complex64)"
     },
     "execution_count": 243,
     "metadata": {},
     "output_type": "execute_result"
    }
   ],
   "source": [
    "\n",
    "#one hundred and ninth function is np.csingle\n",
    "\n",
    "a = np.array([1,2,3], dtype=np.csingle)\n",
    "print(a.dtype)\n",
    "a"
   ],
   "metadata": {
    "collapsed": false
   }
  },
  {
   "cell_type": "code",
   "execution_count": 244,
   "outputs": [
    {
     "data": {
      "text/plain": "array([1, 2, 3])"
     },
     "execution_count": 244,
     "metadata": {},
     "output_type": "execute_result"
    }
   ],
   "source": [
    "\n",
    "#onme hundred and tenth function is np.ctypeslib\n",
    "\n",
    "np.ctypeslib.as_array([1,2,3])\n"
   ],
   "metadata": {
    "collapsed": false
   }
  },
  {
   "cell_type": "code",
   "execution_count": 245,
   "outputs": [
    {
     "name": "stdout",
     "output_type": "stream",
     "text": [
      "[[   1    2    6   24]\n",
      " [   5   30  210 1680]\n",
      " [   1    4    8   40]]\n",
      "------------------------------\n",
      "[[  1   2   3   4]\n",
      " [  5  12  21  32]\n",
      " [  5  48  42 160]]\n"
     ]
    }
   ],
   "source": [
    "\n",
    "#one hundred and eleventh function is np.cumprod\n",
    "\n",
    "a = np.array([[1,2,3,4],\n",
    "              [5,6,7,8],\n",
    "              [1,4,2,5]])\n",
    "print(np.cumprod(a, axis=1))\n",
    "print(\"-\"*30)\n",
    "print(np.cumprod(a, axis=0))\n"
   ],
   "metadata": {
    "collapsed": false
   }
  },
  {
   "cell_type": "code",
   "execution_count": 246,
   "outputs": [
    {
     "name": "stdout",
     "output_type": "stream",
     "text": [
      "[[   1    2    6   24]\n",
      " [   5   30  210 1680]\n",
      " [   1    4    8   40]]\n",
      "------------------------------\n",
      "[[  1   2   3   4]\n",
      " [  5  12  21  32]\n",
      " [  5  48  42 160]]\n"
     ]
    }
   ],
   "source": [
    "\n",
    "#one hundred and twelveth function is np.cumproduct\n",
    "a = np.array([[1,2,3,4],\n",
    "              [5,6,7,8],\n",
    "              [1,4,2,5]])\n",
    "print(np.cumprod(a, axis=1))\n",
    "print(\"-\"*30)\n",
    "print(np.cumproduct(a, axis=0))"
   ],
   "metadata": {
    "collapsed": false
   }
  },
  {
   "cell_type": "code",
   "execution_count": 247,
   "outputs": [
    {
     "name": "stdout",
     "output_type": "stream",
     "text": [
      "[[ 1  3  6]\n",
      " [ 4  9 15]\n",
      " [ 7 15 24]]\n",
      "------------------------------\n",
      "[[ 1  2  3]\n",
      " [ 5  7  9]\n",
      " [12 15 18]]\n"
     ]
    }
   ],
   "source": [
    "\n",
    "#one hundred and thirteenth function is np.cumsum\n",
    "\n",
    "a = np.array([[1,2,3],\n",
    "              [4,5,6],\n",
    "              [7,8,9]])\n",
    "\n",
    "print(np.cumsum(a, axis=1))\n",
    "print(\"-\"*30)\n",
    "print(np.cumsum(a, axis=0))"
   ],
   "metadata": {
    "collapsed": false
   }
  },
  {
   "cell_type": "code",
   "execution_count": 248,
   "outputs": [
    {
     "name": "stdout",
     "output_type": "stream",
     "text": [
      "datetime64[Y]\n",
      "['2022' '2023']\n"
     ]
    }
   ],
   "source": [
    "\n",
    "#one hundred and fourteenth function is np.datetime64\n",
    "\n",
    "arr = np.array(['2022', '2023'], dtype=np.datetime64)\n",
    "print(arr.dtype)\n",
    "print(arr)"
   ],
   "metadata": {
    "collapsed": false
   }
  },
  {
   "cell_type": "code",
   "execution_count": 249,
   "outputs": [
    {
     "name": "stdout",
     "output_type": "stream",
     "text": [
      "['2022-01-01' '2022-02-01']\n",
      "<U28\n"
     ]
    }
   ],
   "source": [
    "\n",
    "#one hundred and fifteenth function is np.datetime_as_string\n",
    "\n",
    "a = np.array(['2022-01-01', '2022-02-01'], dtype=np.datetime64)\n",
    "print(np.datetime_as_string(a))\n",
    "print(np.datetime_as_string(a).dtype)"
   ],
   "metadata": {
    "collapsed": false
   }
  },
  {
   "cell_type": "code",
   "execution_count": 250,
   "outputs": [
    {
     "data": {
      "text/plain": "('D', 1)"
     },
     "execution_count": 250,
     "metadata": {},
     "output_type": "execute_result"
    }
   ],
   "source": [
    "\n",
    "#one hundred and sixteenth function is np.datetime_data\n",
    "a = np.datetime64('2022-01-01')\n",
    "np.datetime_data(a)"
   ],
   "metadata": {
    "collapsed": false
   }
  },
  {
   "cell_type": "code",
   "execution_count": 251,
   "outputs": [
    {
     "name": "stdout",
     "output_type": "stream",
     "text": [
      "3.141592653589793\n",
      "[1.75 1.76]\n"
     ]
    }
   ],
   "source": [
    "\n",
    "#one hundred and seventeenth function is np.deg2rad\n",
    "\n",
    "print(np.deg2rad(180))\n",
    "print(np.deg2rad([100, 101]))\n"
   ],
   "metadata": {
    "collapsed": false
   }
  },
  {
   "cell_type": "code",
   "execution_count": 252,
   "outputs": [
    {
     "name": "stdout",
     "output_type": "stream",
     "text": [
      "180.0\n",
      "179.9087476710785\n",
      "[5729.58 5786.87]\n"
     ]
    }
   ],
   "source": [
    "\n",
    "#one hundred and eighteenth function is np.degrees\n",
    "print(np.degrees(np.pi))\n",
    "print(np.degrees(3.14))\n",
    "print(np.degrees([100, 101]))\n"
   ],
   "metadata": {
    "collapsed": false
   }
  },
  {
   "cell_type": "code",
   "execution_count": 253,
   "outputs": [
    {
     "data": {
      "text/plain": "array([2, 3, 4, 5])"
     },
     "execution_count": 253,
     "metadata": {},
     "output_type": "execute_result"
    }
   ],
   "source": [
    "\n",
    "#one hundred and nineteenth function is np.delete\n",
    "\n",
    "a = np.array([1,2,3,4,5,6])\n",
    "np.delete(a, [0,-1], None)\n"
   ],
   "metadata": {
    "collapsed": false
   }
  },
  {
   "cell_type": "code",
   "execution_count": 254,
   "outputs": [
    {
     "name": "stderr",
     "output_type": "stream",
     "text": [
      "C:\\Users\\student.ASTRUM-DOMAIN\\AppData\\Local\\Temp\\ipykernel_7068\\194744607.py:3: DeprecationWarning: `np.float` is a deprecated alias for the builtin `float`. To silence this warning, use `float` by itself. Doing this will not modify any behavior and is safe. If you specifically wanted the numpy scalar type, use `np.float64` here.\n",
      "Deprecated in NumPy 1.20; for more details and guidance: https://numpy.org/devdocs/release/1.20.0-notes.html#deprecations\n",
      "  to_float = np.deprecate(np.float)\n",
      "C:\\Users\\student.ASTRUM-DOMAIN\\AppData\\Local\\Temp\\ipykernel_7068\\194744607.py:4: DeprecationWarning: `float` is deprecated!\n",
      "  to_float(12)\n"
     ]
    },
    {
     "data": {
      "text/plain": "12.0"
     },
     "execution_count": 254,
     "metadata": {},
     "output_type": "execute_result"
    }
   ],
   "source": [
    "\n",
    "#one hundred and twentieth function is np.deprecate\n",
    "\n",
    "to_float = np.deprecate(np.float)\n",
    "to_float(12)\n"
   ],
   "metadata": {
    "collapsed": false
   }
  },
  {
   "cell_type": "code",
   "execution_count": 255,
   "outputs": [],
   "source": [
    "\n",
    "#one hundred and twenty first function is np.deprecate_with_doc\n",
    "\n",
    "hello = np.deprecate_with_doc(\"hello\")"
   ],
   "metadata": {
    "collapsed": false
   }
  },
  {
   "cell_type": "code",
   "execution_count": 256,
   "outputs": [
    {
     "data": {
      "text/plain": "array([1, 5, 9])"
     },
     "execution_count": 256,
     "metadata": {},
     "output_type": "execute_result"
    }
   ],
   "source": [
    "\n",
    "#one hundred and twenty second function is np.diag\n",
    "\n",
    "a = np.array([[1,2,3],\n",
    "              [4,5,6],\n",
    "              [7,8,9]])\n",
    "np.diag(a)"
   ],
   "metadata": {
    "collapsed": false
   }
  },
  {
   "cell_type": "code",
   "execution_count": 257,
   "outputs": [
    {
     "name": "stdout",
     "output_type": "stream",
     "text": [
      "[0 4 8]\n",
      "[100 101 102]\n"
     ]
    }
   ],
   "source": [
    "\n",
    "#one hundred and twenty third function is np.diag_indices\n",
    "\n",
    "di = np.diag_indices(3)\n",
    "arr = np.arange(9).reshape(3,3)\n",
    "print(arr.diagonal())\n",
    "arr[di] = [100, 101, 102]\n",
    "print(arr.diagonal())\n"
   ],
   "metadata": {
    "collapsed": false
   }
  },
  {
   "cell_type": "code",
   "execution_count": 258,
   "outputs": [
    {
     "data": {
      "text/plain": "(array([0, 1]), array([0, 1]))"
     },
     "execution_count": 258,
     "metadata": {},
     "output_type": "execute_result"
    }
   ],
   "source": [
    "\n",
    "#one hundred and twenty fourth function is np.diag_indices_from\n",
    "a = np.array([[1,2],\n",
    "              [4,5]])\n",
    "np.diag_indices_from(a)\n"
   ],
   "metadata": {
    "collapsed": false
   }
  },
  {
   "cell_type": "code",
   "execution_count": 259,
   "outputs": [
    {
     "data": {
      "text/plain": "array([[1, 0, 0, 0],\n       [0, 2, 0, 0],\n       [0, 0, 3, 0],\n       [0, 0, 0, 4]])"
     },
     "execution_count": 259,
     "metadata": {},
     "output_type": "execute_result"
    }
   ],
   "source": [
    "\n",
    "#one hundred and twenty fifth function is np.diagflat\n",
    "np.diagflat([[1,2], [3,4]])\n"
   ],
   "metadata": {
    "collapsed": false
   }
  },
  {
   "cell_type": "code",
   "execution_count": 260,
   "outputs": [
    {
     "name": "stdout",
     "output_type": "stream",
     "text": [
      "[[0 1 2]\n",
      " [3 4 5]\n",
      " [6 7 8]]\n"
     ]
    },
    {
     "data": {
      "text/plain": "array([0, 4, 8])"
     },
     "execution_count": 260,
     "metadata": {},
     "output_type": "execute_result"
    }
   ],
   "source": [
    "\n",
    "#one hundred and twenty sixth function is np.diagonal\n",
    "\n",
    "a = np.arange(9).reshape((3,3))\n",
    "print(a)\n",
    "np.diagonal(a)\n"
   ],
   "metadata": {
    "collapsed": false
   }
  },
  {
   "cell_type": "code",
   "execution_count": 261,
   "outputs": [
    {
     "data": {
      "text/plain": "array([[ 9, -8],\n       [-3, -1]])"
     },
     "execution_count": 261,
     "metadata": {},
     "output_type": "execute_result"
    }
   ],
   "source": [
    "\n",
    "#one hundred and twenty seventh function is np.diff\n",
    "a = np.array([[1,10,2],\n",
    "              [4,1,0]])\n",
    "np.diff(a)"
   ],
   "metadata": {
    "collapsed": false
   }
  },
  {
   "cell_type": "code",
   "execution_count": 262,
   "outputs": [
    {
     "name": "stdout",
     "output_type": "stream",
     "text": [
      "0.0 <= 0.2 < 1.0\n",
      "4.0 <= 6.4 < 10.0\n",
      "2.5 <= 3.0 < 4.0\n",
      "1.0 <= 1.6 < 2.5\n"
     ]
    }
   ],
   "source": [
    "x = np.array([0.2, 6.4, 3.0, 1.6])\n",
    "bins = np.array([0.0, 1.0, 2.5, 4.0, 10.0])\n",
    "inds = np.digitize(x, bins)\n",
    "for n in range(x.size):\n",
    "  print(bins[inds[n]-1], \"<=\", x[n], \"<\", bins[inds[n]])"
   ],
   "metadata": {
    "collapsed": false
   }
  },
  {
   "cell_type": "code",
   "execution_count": 263,
   "outputs": [
    {
     "data": {
      "text/plain": "'this is a message\\n'"
     },
     "execution_count": 263,
     "metadata": {},
     "output_type": "execute_result"
    }
   ],
   "source": [
    "\n",
    "#one hundred and twenty ninth function is np.disp\n",
    "from io import StringIO\n",
    "buf = StringIO()\n",
    "np.disp(u'this is a message', device=buf)\n",
    "buf.getvalue()\n"
   ],
   "metadata": {
    "collapsed": false
   }
  },
  {
   "cell_type": "code",
   "execution_count": 264,
   "outputs": [
    {
     "data": {
      "text/plain": "array([0.24, 0.03, 0.4 , 0.87])"
     },
     "execution_count": 264,
     "metadata": {},
     "output_type": "execute_result"
    }
   ],
   "source": [
    "\n",
    "#one hundred and thirtieth function is np.divide\n",
    "a = np.array([13,2,31,74])\n",
    "b = np.array([55,62,77,85])\n",
    "np.divide(a, b)\n"
   ],
   "metadata": {
    "collapsed": false
   }
  },
  {
   "cell_type": "code",
   "execution_count": 265,
   "outputs": [
    {
     "name": "stdout",
     "output_type": "stream",
     "text": [
      "(array([6, 1, 1], dtype=int32), array([0, 0, 1], dtype=int32))\n",
      "(array([21,  2,  3], dtype=int32), array([0, 1, 0], dtype=int32))\n"
     ]
    }
   ],
   "source": [
    "\n",
    "#one hundred and thirty first function is np.divmod\n",
    "x = np.array([12,2,3])\n",
    "y = np.array([42,5,6])\n",
    "print(np.divmod(x, 2))\n",
    "print(np.divmod(y, 2))"
   ],
   "metadata": {
    "collapsed": false
   }
  },
  {
   "cell_type": "code",
   "execution_count": 266,
   "outputs": [
    {
     "data": {
      "text/plain": "array([11, 22, 33])"
     },
     "execution_count": 266,
     "metadata": {},
     "output_type": "execute_result"
    }
   ],
   "source": [
    "\n",
    "#one hundred and thirty second function is np.dot\n",
    "\n",
    "np.dot([1,2,3], 11)\n"
   ],
   "metadata": {
    "collapsed": false
   }
  },
  {
   "cell_type": "code",
   "execution_count": 267,
   "outputs": [
    {
     "data": {
      "text/plain": "123.0"
     },
     "execution_count": 267,
     "metadata": {},
     "output_type": "execute_result"
    }
   ],
   "source": [
    "\n",
    "#one hundred and thirty third function is np.double\n",
    "np.double(123)\n"
   ],
   "metadata": {
    "collapsed": false
   }
  },
  {
   "cell_type": "code",
   "execution_count": 268,
   "outputs": [
    {
     "name": "stdout",
     "output_type": "stream",
     "text": [
      "[[[ 0  1  2]\n",
      "  [ 3  4  5]\n",
      "  [ 6  7  8]]\n",
      "\n",
      " [[ 9 10 11]\n",
      "  [12 13 14]\n",
      "  [15 16 17]]\n",
      "\n",
      " [[18 19 20]\n",
      "  [21 22 23]\n",
      "  [24 25 26]]]\n"
     ]
    },
    {
     "data": {
      "text/plain": "[array([[[ 0,  1,  2],\n         [ 3,  4,  5],\n         [ 6,  7,  8]],\n \n        [[ 9, 10, 11],\n         [12, 13, 14],\n         [15, 16, 17]],\n \n        [[18, 19, 20],\n         [21, 22, 23],\n         [24, 25, 26]]])]"
     },
     "execution_count": 268,
     "metadata": {},
     "output_type": "execute_result"
    }
   ],
   "source": [
    "\n",
    "#one hundred and thirty fourth function is np.dsplit\n",
    "a = np.arange(27).reshape(3,3,3)\n",
    "print(a)\n",
    "np.dsplit(a, 1)\n"
   ],
   "metadata": {
    "collapsed": false
   }
  },
  {
   "cell_type": "code",
   "execution_count": 269,
   "outputs": [
    {
     "data": {
      "text/plain": "array([[[1, 4],\n        [2, 5],\n        [3, 6]]])"
     },
     "execution_count": 269,
     "metadata": {},
     "output_type": "execute_result"
    }
   ],
   "source": [
    "\n",
    "#one hundred and thirty fifth function is np.dstack\n",
    "a = np.array([1,2,3])\n",
    "b = np.array([4,5,6])\n",
    "np.dstack((a, b))"
   ],
   "metadata": {
    "collapsed": false
   }
  },
  {
   "cell_type": "code",
   "execution_count": 270,
   "outputs": [
    {
     "data": {
      "text/plain": "dtype('float64')"
     },
     "execution_count": 270,
     "metadata": {},
     "output_type": "execute_result"
    }
   ],
   "source": [
    "\n",
    "#one hundred and thirty sixth function is np.dtype\n",
    "\n",
    "a = np.array([1.1, 1.0, 2.0])\n",
    "a.dtype"
   ],
   "metadata": {
    "collapsed": false
   }
  },
  {
   "cell_type": "code",
   "execution_count": 271,
   "outputs": [
    {
     "data": {
      "text/plain": "2.718281828459045"
     },
     "execution_count": 271,
     "metadata": {},
     "output_type": "execute_result"
    }
   ],
   "source": [
    "\n",
    "#one hundred and thirty seventh function is np.e\n",
    "np.e\n"
   ],
   "metadata": {
    "collapsed": false
   }
  },
  {
   "cell_type": "code",
   "execution_count": 272,
   "outputs": [
    {
     "data": {
      "text/plain": "array([ 3, -3,  5, -3,  4])"
     },
     "execution_count": 272,
     "metadata": {},
     "output_type": "execute_result"
    }
   ],
   "source": [
    "\n",
    "#one hundred and thirty eighth function is np.ediff1d\n",
    "np.ediff1d(np.array([1,4,1,6,3,7]))\n"
   ],
   "metadata": {
    "collapsed": false
   }
  },
  {
   "cell_type": "code",
   "execution_count": 273,
   "outputs": [
    {
     "name": "stdout",
     "output_type": "stream",
     "text": [
      "[[0 1]\n",
      " [2 3]\n",
      " [4 5]\n",
      " [6 7]\n",
      " [8 9]]\n"
     ]
    },
    {
     "data": {
      "text/plain": "array([[0, 2, 4, 6, 8],\n       [1, 3, 5, 7, 9]])"
     },
     "execution_count": 273,
     "metadata": {},
     "output_type": "execute_result"
    }
   ],
   "source": [
    "\n",
    "#one hundred and thirty ninth function is np.einsum\n",
    "a = np.arange(10).reshape(5,2)\n",
    "print(a)\n",
    "np.einsum(a, [1,0])\n"
   ],
   "metadata": {
    "collapsed": false
   }
  },
  {
   "cell_type": "code",
   "execution_count": 274,
   "outputs": [
    {
     "data": {
      "text/plain": "(['einsum_path', (0, 2), (0, 3), (0, 2), (0, 1)],\n '  Complete contraction:  ea,fb,abcd,gc,hd->efgh\\n         Naive scaling:  8\\n     Optimized scaling:  5\\n      Naive FLOP count:  5.000e+08\\n  Optimized FLOP count:  8.000e+05\\n   Theoretical speedup:  624.999\\n  Largest intermediate:  1.000e+04 elements\\n--------------------------------------------------------------------------\\nscaling                  current                                remaining\\n--------------------------------------------------------------------------\\n   5               abcd,ea->bcde                      fb,gc,hd,bcde->efgh\\n   5               bcde,fb->cdef                         gc,hd,cdef->efgh\\n   5               cdef,gc->defg                            hd,defg->efgh\\n   5               defg,hd->efgh                               efgh->efgh')"
     },
     "execution_count": 274,
     "metadata": {},
     "output_type": "execute_result"
    }
   ],
   "source": [
    "\n",
    "#one hundred and fourtieth function is np.einsum_path\n",
    "I = np.random.rand(10, 10, 10, 10)\n",
    "C = np.random.rand(10, 10)\n",
    "np.einsum_path('ea,fb,abcd,gc,hd->efgh', C, C, I, C, C,\n",
    "                           optimize='greedy')\n"
   ],
   "metadata": {
    "collapsed": false
   }
  },
  {
   "cell_type": "code",
   "execution_count": 275,
   "outputs": [
    {
     "data": {
      "text/plain": "2.772588722239781"
     },
     "execution_count": 275,
     "metadata": {},
     "output_type": "execute_result"
    }
   ],
   "source": [
    "\n",
    "#one hundred and fourty first function is np.emath\n",
    "np.emath.sqrt(16)\n",
    "np.emath.log(16)\n"
   ],
   "metadata": {
    "collapsed": false
   }
  },
  {
   "cell_type": "code",
   "execution_count": 276,
   "outputs": [
    {
     "data": {
      "text/plain": "array([[    0,     1,     0],\n       [32765,   952,     0],\n       [  768,   253,     0]])"
     },
     "execution_count": 276,
     "metadata": {},
     "output_type": "execute_result"
    }
   ],
   "source": [
    "\n",
    "#one hundred and fourty second function is np.empty\n",
    "\n",
    "np.empty([3,3], dtype=int)\n"
   ],
   "metadata": {
    "collapsed": false
   }
  },
  {
   "cell_type": "code",
   "execution_count": 277,
   "outputs": [
    {
     "data": {
      "text/plain": "array([178344480,       671,         0])"
     },
     "execution_count": 277,
     "metadata": {},
     "output_type": "execute_result"
    }
   ],
   "source": [
    "\n",
    "#one hundred and fourty third function is np.empty_like\n",
    "np.empty_like([1,2,3])\n"
   ],
   "metadata": {
    "collapsed": false
   }
  },
  {
   "cell_type": "code",
   "execution_count": 278,
   "outputs": [
    {
     "data": {
      "text/plain": "array([ True,  True,  True,  True])"
     },
     "execution_count": 278,
     "metadata": {},
     "output_type": "execute_result"
    }
   ],
   "source": [
    "\n",
    "#one hundred and fourty fourth function is np.equal\n",
    "\n",
    "np.equal(np.array([0,1,2,3]), np.arange(4))\n"
   ],
   "metadata": {
    "collapsed": false
   }
  },
  {
   "cell_type": "code",
   "execution_count": 279,
   "outputs": [
    {
     "name": "stdout",
     "output_type": "stream",
     "text": [
      "first: nan\n",
      "second: "
     ]
    },
    {
     "ename": "FloatingPointError",
     "evalue": "invalid value encountered in sqrt",
     "output_type": "error",
     "traceback": [
      "\u001B[1;31m---------------------------------------------------------------------------\u001B[0m",
      "\u001B[1;31mFloatingPointError\u001B[0m                        Traceback (most recent call last)",
      "Cell \u001B[1;32mIn [279], line 8\u001B[0m\n\u001B[0;32m      6\u001B[0m \u001B[38;5;28mprint\u001B[39m(\u001B[38;5;124m\"\u001B[39m\u001B[38;5;124msecond: \u001B[39m\u001B[38;5;124m\"\u001B[39m, end\u001B[38;5;241m=\u001B[39m\u001B[38;5;124m'\u001B[39m\u001B[38;5;124m'\u001B[39m)\n\u001B[0;32m      7\u001B[0m \u001B[38;5;28;01mwith\u001B[39;00m np\u001B[38;5;241m.\u001B[39merrstate(invalid\u001B[38;5;241m=\u001B[39m\u001B[38;5;124m'\u001B[39m\u001B[38;5;124mraise\u001B[39m\u001B[38;5;124m'\u001B[39m):\n\u001B[1;32m----> 8\u001B[0m     \u001B[38;5;28mprint\u001B[39m(np\u001B[38;5;241m.\u001B[39msqrt(\u001B[38;5;241m-\u001B[39m\u001B[38;5;241m16\u001B[39m))\n",
      "\u001B[1;31mFloatingPointError\u001B[0m: invalid value encountered in sqrt"
     ]
    }
   ],
   "source": [
    "\n",
    "#one hundred and fourty fifth function is np.errstate\n",
    "print(\"first: \", end='')\n",
    "with np.errstate(all='ignore'):\n",
    "    print(np.sqrt(-16))\n",
    "\n",
    "print(\"second: \", end='')\n",
    "with np.errstate(invalid='raise'):\n",
    "    print(np.sqrt(-16))"
   ],
   "metadata": {
    "collapsed": false
   }
  },
  {
   "cell_type": "code",
   "execution_count": 280,
   "outputs": [
    {
     "data": {
      "text/plain": "0.5772156649015329"
     },
     "execution_count": 280,
     "metadata": {},
     "output_type": "execute_result"
    }
   ],
   "source": [
    "\n",
    "#one hundred and fourty sizth function is np.euler_gamma\n",
    "\n",
    "np.euler_gamma\n"
   ],
   "metadata": {
    "collapsed": false
   }
  },
  {
   "cell_type": "code",
   "execution_count": 281,
   "outputs": [
    {
     "data": {
      "text/plain": "array([ 2.72,  7.39, 20.09])"
     },
     "execution_count": 281,
     "metadata": {},
     "output_type": "execute_result"
    }
   ],
   "source": [
    "\n",
    "#one hundred and fourty seventh function is np.exp\n",
    "np.exp([1,2,3])\n"
   ],
   "metadata": {
    "collapsed": false
   }
  },
  {
   "cell_type": "code",
   "execution_count": 282,
   "outputs": [
    {
     "data": {
      "text/plain": "array([2., 4., 8.])"
     },
     "execution_count": 282,
     "metadata": {},
     "output_type": "execute_result"
    }
   ],
   "source": [
    "\n",
    "#one hundred and fourty eighth function is np.exp2\n",
    "\n",
    "np.exp2([1,2,3])\n"
   ],
   "metadata": {
    "collapsed": false
   }
  },
  {
   "cell_type": "code",
   "execution_count": 283,
   "outputs": [
    {
     "name": "stdout",
     "output_type": "stream",
     "text": [
      "(3,)\n"
     ]
    },
    {
     "data": {
      "text/plain": "(1, 3)"
     },
     "execution_count": 283,
     "metadata": {},
     "output_type": "execute_result"
    }
   ],
   "source": [
    "\n",
    "#one hundred and fourty ninth function is np.expand_dims\n",
    "\n",
    "a = np.array([1,2,3])\n",
    "print(a.shape)\n",
    "np.expand_dims(a, axis=0).shape\n"
   ],
   "metadata": {
    "collapsed": false
   }
  },
  {
   "cell_type": "code",
   "execution_count": 284,
   "outputs": [
    {
     "data": {
      "text/plain": "array([19.09,  6.39,  1.72])"
     },
     "execution_count": 284,
     "metadata": {},
     "output_type": "execute_result"
    }
   ],
   "source": [
    "\n",
    "#one hundred and fiftieth function is np.expm1\n",
    "\n",
    "np.expm1([3,2,1])\n"
   ],
   "metadata": {
    "collapsed": false
   }
  },
  {
   "cell_type": "code",
   "execution_count": 285,
   "outputs": [
    {
     "data": {
      "text/plain": "array([1, 2, 3])"
     },
     "execution_count": 285,
     "metadata": {},
     "output_type": "execute_result"
    }
   ],
   "source": [
    "\n",
    "#one hundred and fifty first function is np.extract\n",
    "a = np.array([1,0,2,0,3,0])\n",
    "np.extract(~(a==False), a)\n"
   ],
   "metadata": {
    "collapsed": false
   }
  },
  {
   "cell_type": "code",
   "execution_count": 286,
   "outputs": [
    {
     "data": {
      "text/plain": "array([[1, 0, 0],\n       [0, 1, 0],\n       [0, 0, 1]], dtype=int64)"
     },
     "execution_count": 286,
     "metadata": {},
     "output_type": "execute_result"
    }
   ],
   "source": [
    "\n",
    "#one hundred and fifty second function is np.eye\n",
    "\n",
    "np.eye(3, dtype=np.int64)\n"
   ],
   "metadata": {
    "collapsed": false
   }
  },
  {
   "cell_type": "code",
   "execution_count": 287,
   "outputs": [
    {
     "data": {
      "text/plain": "array([ 1. , 13. , 12. ,  0.1])"
     },
     "execution_count": 287,
     "metadata": {},
     "output_type": "execute_result"
    }
   ],
   "source": [
    "\n",
    "#one hundred and fifty third function is np.fabs\n",
    "\n",
    "np.fabs(np.array([-1,13,-12,-0.1]))\n"
   ],
   "metadata": {
    "collapsed": false
   }
  },
  {
   "cell_type": "code",
   "execution_count": 288,
   "outputs": [
    {
     "data": {
      "text/plain": "12"
     },
     "execution_count": 288,
     "metadata": {},
     "output_type": "execute_result"
    }
   ],
   "source": [
    "\n",
    "#one hundred and fifty fourth function is np.fastCopyAndTranspose\n",
    "np.fastCopyAndTranspose(12)\n"
   ],
   "metadata": {
    "collapsed": false
   }
  },
  {
   "cell_type": "code",
   "execution_count": 289,
   "outputs": [
    {
     "data": {
      "text/plain": "array([ 3.+0.j, -1.+0.j])"
     },
     "execution_count": 289,
     "metadata": {},
     "output_type": "execute_result"
    }
   ],
   "source": [
    "\n",
    "#one hundred and fifty fifth function is np.fft\n",
    "\n",
    "np.fft.fft((1,2))\n"
   ],
   "metadata": {
    "collapsed": false
   }
  },
  {
   "cell_type": "code",
   "execution_count": 290,
   "outputs": [
    {
     "data": {
      "text/plain": "array([[10.,  0.,  0.],\n       [ 0., 10.,  0.],\n       [ 0.,  0., 10.]])"
     },
     "execution_count": 290,
     "metadata": {},
     "output_type": "execute_result"
    }
   ],
   "source": [
    "\n",
    "#one hundred and fifty sixth function is np.fill_diagonal\n",
    "\n",
    "a = np.zeros((3,3))\n",
    "np.fill_diagonal(a, 10)\n",
    "a"
   ],
   "metadata": {
    "collapsed": false
   }
  },
  {
   "cell_type": "code",
   "execution_count": 291,
   "outputs": [
    {
     "name": "stderr",
     "output_type": "stream",
     "text": [
      "C:\\Users\\student.ASTRUM-DOMAIN\\AppData\\Local\\Temp\\ipykernel_7068\\2720597086.py:3: DeprecationWarning: `np.complex` is a deprecated alias for the builtin `complex`. To silence this warning, use `complex` by itself. Doing this will not modify any behavior and is safe. If you specifically wanted the numpy scalar type, use `np.complex128` here.\n",
      "Deprecated in NumPy 1.20; for more details and guidance: https://numpy.org/devdocs/release/1.20.0-notes.html#deprecations\n",
      "  np.find_common_type([np.int16, np.int32, np.int64], [np.complex])\n"
     ]
    },
    {
     "data": {
      "text/plain": "dtype('complex128')"
     },
     "execution_count": 291,
     "metadata": {},
     "output_type": "execute_result"
    }
   ],
   "source": [
    "\n",
    "#one hundred and fifty seventh function is np.find_common_type\n",
    "\n",
    "np.find_common_type([np.int16, np.int32, np.int64], [np.complex])\n"
   ],
   "metadata": {
    "collapsed": false
   }
  },
  {
   "cell_type": "code",
   "execution_count": 292,
   "outputs": [
    {
     "data": {
      "text/plain": "finfo(resolution=1e-06, min=-3.4028235e+38, max=3.4028235e+38, dtype=float32)"
     },
     "execution_count": 292,
     "metadata": {},
     "output_type": "execute_result"
    }
   ],
   "source": [
    "\n",
    "#one hundred and fifty eighth function is np.finfo\n",
    "\n",
    "np.finfo(np.float32)\n"
   ],
   "metadata": {
    "collapsed": false
   }
  },
  {
   "cell_type": "code",
   "execution_count": 293,
   "outputs": [
    {
     "data": {
      "text/plain": "array([-0.,  1.,  1.,  3.])"
     },
     "execution_count": 293,
     "metadata": {},
     "output_type": "execute_result"
    }
   ],
   "source": [
    "\n",
    "#one hundred and fifty ninth function is np.fix\n",
    "\n",
    "a = np.array([-0.1, 1.2, 1.9, 3])\n",
    "np.fix(a)\n"
   ],
   "metadata": {
    "collapsed": false
   }
  },
  {
   "cell_type": "code",
   "execution_count": 294,
   "outputs": [
    {
     "name": "stdout",
     "output_type": "stream",
     "text": [
      "6\n",
      "5\n",
      "4\n",
      "3\n",
      "2\n",
      "1\n"
     ]
    }
   ],
   "source": [
    "\n",
    "#one hundred and sixtieth function is np.flatiter\n",
    "\n",
    "a = np.array([6, 5, 4, 3, 2, 1])\n",
    "gfg = a.flat\n",
    "\n",
    "for items in gfg:\n",
    "    print(items)\n"
   ],
   "metadata": {
    "collapsed": false
   }
  },
  {
   "cell_type": "code",
   "execution_count": 295,
   "outputs": [
    {
     "data": {
      "text/plain": "array([0, 2, 3], dtype=int64)"
     },
     "execution_count": 295,
     "metadata": {},
     "output_type": "execute_result"
    }
   ],
   "source": [
    "\n",
    "#one hundred and sixty first function is np.flatnonzero\n",
    "\n",
    "a = np.array([-1,0,1,2])\n",
    "np.flatnonzero(a)\n"
   ],
   "metadata": {
    "collapsed": false
   }
  },
  {
   "cell_type": "code",
   "execution_count": 296,
   "outputs": [
    {
     "data": {
      "text/plain": "[numpy.flexible, numpy.generic, object]"
     },
     "execution_count": 296,
     "metadata": {},
     "output_type": "execute_result"
    }
   ],
   "source": [
    "\n",
    "#one hundred and sixty second function is np.flexible\n",
    "\n",
    "np.flexible.mro()\n"
   ],
   "metadata": {
    "collapsed": false
   }
  },
  {
   "cell_type": "code",
   "execution_count": 297,
   "outputs": [
    {
     "data": {
      "text/plain": "array([[3, 2, 1],\n       [6, 5, 4]])"
     },
     "execution_count": 297,
     "metadata": {},
     "output_type": "execute_result"
    }
   ],
   "source": [
    "\n",
    "#one hundred and sixty third function is np.flip\n",
    "\n",
    "a = np.array([[1,2,3],\n",
    "              [4,5,6]])\n",
    "np.flip(a, axis=1)\n"
   ],
   "metadata": {
    "collapsed": false
   }
  },
  {
   "cell_type": "code",
   "execution_count": 298,
   "outputs": [
    {
     "data": {
      "text/plain": "array([[3, 2, 1]])"
     },
     "execution_count": 298,
     "metadata": {},
     "output_type": "execute_result"
    }
   ],
   "source": [
    "\n",
    "#one hundred and sixty fourth function is np.fliplr\n",
    "\n",
    "a = np.array([[1,2,3]])\n",
    "np.fliplr(a)\n"
   ],
   "metadata": {
    "collapsed": false
   }
  },
  {
   "cell_type": "code",
   "execution_count": 299,
   "outputs": [
    {
     "data": {
      "text/plain": "array([[3, 2, 1]])"
     },
     "execution_count": 299,
     "metadata": {},
     "output_type": "execute_result"
    }
   ],
   "source": [
    "\n",
    "#one hundred and sixty fifth function is np.flipud\n",
    "\n",
    "a = np.array([[1,2,3]])\n",
    "np.fliplr(a)\n"
   ],
   "metadata": {
    "collapsed": false
   }
  },
  {
   "cell_type": "code",
   "execution_count": 300,
   "outputs": [
    {
     "name": "stdout",
     "output_type": "stream",
     "text": [
      "321.0\n",
      "float16\n"
     ]
    }
   ],
   "source": [
    "\n",
    "#one hundred and sixty sixth function is np.float16\n",
    "\n",
    "\n",
    "print(np.float16(321))\n",
    "print(np.float16(321).dtype)\n"
   ],
   "metadata": {
    "collapsed": false
   }
  },
  {
   "cell_type": "code",
   "execution_count": 301,
   "outputs": [
    {
     "name": "stdout",
     "output_type": "stream",
     "text": [
      "321.0\n",
      "float32\n"
     ]
    }
   ],
   "source": [
    "\n",
    "#one hundred and sixty seventh function is np.float32\n",
    "\n",
    "print(np.float32(321))\n",
    "print(np.float32(321).dtype)\n"
   ],
   "metadata": {
    "collapsed": false
   }
  },
  {
   "cell_type": "code",
   "execution_count": 302,
   "outputs": [
    {
     "name": "stdout",
     "output_type": "stream",
     "text": [
      "321.0\n",
      "float64\n"
     ]
    }
   ],
   "source": [
    "\n",
    "#one hundred and sixty eighth function is np.float64\n",
    "\n",
    "print(np.float64(321))\n",
    "print(np.float64(321).dtype)\n"
   ],
   "metadata": {
    "collapsed": false
   }
  },
  {
   "cell_type": "code",
   "execution_count": 303,
   "outputs": [
    {
     "name": "stdout",
     "output_type": "stream",
     "text": [
      "321.0\n",
      "float64\n"
     ]
    }
   ],
   "source": [
    "\n",
    "#one hundred and sixty ninth function is np.float_\n",
    "\n",
    "print(np.float_(321))\n",
    "print(np.float_(321).dtype)\n"
   ],
   "metadata": {
    "collapsed": false
   }
  },
  {
   "cell_type": "code",
   "execution_count": 304,
   "outputs": [
    {
     "data": {
      "text/plain": "array([ 1.,  8., 27.])"
     },
     "execution_count": 304,
     "metadata": {},
     "output_type": "execute_result"
    }
   ],
   "source": [
    "\n",
    "#one hundred and seventy function is np.float_power\n",
    "\n",
    "np.float_power([1,2,3], 3)\n"
   ],
   "metadata": {
    "collapsed": false
   }
  },
  {
   "cell_type": "code",
   "execution_count": 305,
   "outputs": [
    {
     "data": {
      "text/plain": "numpy.floating"
     },
     "execution_count": 305,
     "metadata": {},
     "output_type": "execute_result"
    }
   ],
   "source": [
    "\n",
    "#one hundred and seventy first function is np.floating\n",
    "np.floating\n"
   ],
   "metadata": {
    "collapsed": false
   }
  },
  {
   "cell_type": "code",
   "execution_count": 306,
   "outputs": [
    {
     "data": {
      "text/plain": "array([-2., -3.,  1.,  1.,  3.])"
     },
     "execution_count": 306,
     "metadata": {},
     "output_type": "execute_result"
    }
   ],
   "source": [
    "\n",
    "#one hundred and seventy second function is np.floor\n",
    "arr = np.array([-1.2, -2.1, 1.9, 1.3, 3.0])\n",
    "np.floor(arr)\n"
   ],
   "metadata": {
    "collapsed": false
   }
  },
  {
   "cell_type": "code",
   "execution_count": 307,
   "outputs": [
    {
     "data": {
      "text/plain": "4"
     },
     "execution_count": 307,
     "metadata": {},
     "output_type": "execute_result"
    }
   ],
   "source": [
    "\n",
    "#one hundred and seventy third function is np.floor_divide\n",
    "\n",
    "np.floor_divide(12, 3)\n"
   ],
   "metadata": {
    "collapsed": false
   }
  },
  {
   "cell_type": "code",
   "execution_count": 308,
   "outputs": [
    {
     "data": {
      "text/plain": "array([4, 2, 7])"
     },
     "execution_count": 308,
     "metadata": {},
     "output_type": "execute_result"
    }
   ],
   "source": [
    "\n",
    "#one hundred and seventy fourth function is np.fmax\n",
    "\n",
    "np.fmax([1,2,7],\n",
    "        [4,1,6])\n",
    "\n"
   ],
   "metadata": {
    "collapsed": false
   }
  },
  {
   "cell_type": "code",
   "execution_count": 309,
   "outputs": [
    {
     "data": {
      "text/plain": "array([1, 1, 6])"
     },
     "execution_count": 309,
     "metadata": {},
     "output_type": "execute_result"
    }
   ],
   "source": [
    "\n",
    "#one hundred and seventy fifth function is np.fmin\n",
    "\n",
    "np.fmin([1,2,7],\n",
    "        [4,1,6])\n"
   ],
   "metadata": {
    "collapsed": false
   }
  },
  {
   "cell_type": "code",
   "execution_count": 310,
   "outputs": [
    {
     "data": {
      "text/plain": "array([0.1, 0.3, 1.8, 0. ])"
     },
     "execution_count": 310,
     "metadata": {},
     "output_type": "execute_result"
    }
   ],
   "source": [
    "\n",
    "#one hundred and seventy sixth function is np.fmod\n",
    "\n",
    "np.fmod([2.1,4.3,7.8,10], 2)\n"
   ],
   "metadata": {
    "collapsed": false
   }
  },
  {
   "cell_type": "code",
   "execution_count": 311,
   "outputs": [
    {
     "data": {
      "text/plain": "'3.14'"
     },
     "execution_count": 311,
     "metadata": {},
     "output_type": "execute_result"
    }
   ],
   "source": [
    "\n",
    "#one hundred and seventy seventh function is np.format_float_positional\n",
    "\n",
    "np.format_float_positional(np.float16(np.pi))\n",
    "\n"
   ],
   "metadata": {
    "collapsed": false
   }
  },
  {
   "cell_type": "code",
   "execution_count": 312,
   "outputs": [
    {
     "data": {
      "text/plain": "'3.141592653589793e+00'"
     },
     "execution_count": 312,
     "metadata": {},
     "output_type": "execute_result"
    }
   ],
   "source": [
    "\n",
    "#one hundred and seventy eighth function is np.format_float_scientific\n",
    "\n",
    "np.format_float_scientific(np.float64(np.pi))\n",
    "\n"
   ],
   "metadata": {
    "collapsed": false
   }
  },
  {
   "cell_type": "code",
   "execution_count": 313,
   "outputs": [
    {
     "data": {
      "text/plain": "dtype([(('T1', 'col1'), '<f8'), (('T2', 'col2'), '<i4'), (('T3', 'col3'), 'S5')])"
     },
     "execution_count": 313,
     "metadata": {},
     "output_type": "execute_result"
    }
   ],
   "source": [
    "\n",
    "#one hundred and seventy ninth function is np.format_parser\n",
    "\n",
    "np.format_parser(['<f8', '<i4', '<a5'],\n",
    "                 ['col1', 'col2', 'col3'],\n",
    "                 ['T1', 'T2', 'T3']).dtype\n"
   ],
   "metadata": {
    "collapsed": false
   }
  },
  {
   "cell_type": "code",
   "execution_count": 314,
   "outputs": [
    {
     "name": "stdout",
     "output_type": "stream",
     "text": [
      "[1 2 2 3]\n"
     ]
    },
    {
     "data": {
      "text/plain": "array([1., 2., 3., 4.])"
     },
     "execution_count": 314,
     "metadata": {},
     "output_type": "execute_result"
    }
   ],
   "source": [
    "\n",
    "#one hundred and eightieth function is np.frexp\n",
    "a = np.array([1,2,3,4])\n",
    "x, y = np.frexp(a)\n",
    "print(y)\n",
    "\n",
    "x * 2**y\n"
   ],
   "metadata": {
    "collapsed": false
   }
  },
  {
   "cell_type": "code",
   "execution_count": 315,
   "outputs": [
    {
     "data": {
      "text/plain": "array([0, 1, 2, 3, 4, 5, 6, 7, 8, 9], dtype=int64)"
     },
     "execution_count": 315,
     "metadata": {},
     "output_type": "execute_result"
    }
   ],
   "source": [
    "\n",
    "#one hundred and eighty first function is np.from_dlpack\n",
    "\n",
    "import torch\n",
    "x = torch.arange(10)\n",
    "# create a view of the torch tensor \"x\" in NumPy\n",
    "np.from_dlpack(x)\n"
   ],
   "metadata": {
    "collapsed": false
   }
  },
  {
   "cell_type": "code",
   "execution_count": 316,
   "outputs": [
    {
     "data": {
      "text/plain": "array([1, 2], dtype=uint8)"
     },
     "execution_count": 316,
     "metadata": {},
     "output_type": "execute_result"
    }
   ],
   "source": [
    "\n",
    "#one hundred and eighty second function is np.frombuffer\n",
    "\n",
    "np.frombuffer(b'\\x01\\x02', dtype=np.uint8)\n",
    "\n"
   ],
   "metadata": {
    "collapsed": false
   }
  },
  {
   "cell_type": "code",
   "execution_count": 317,
   "outputs": [
    {
     "ename": "FileNotFoundError",
     "evalue": "[Errno 2] No such file or directory: 'helper.py'",
     "output_type": "error",
     "traceback": [
      "\u001B[1;31m---------------------------------------------------------------------------\u001B[0m",
      "\u001B[1;31mFileNotFoundError\u001B[0m                         Traceback (most recent call last)",
      "Cell \u001B[1;32mIn [317], line 3\u001B[0m\n\u001B[0;32m      1\u001B[0m \u001B[38;5;66;03m#one hundred and eighty third function is np.fromfile\u001B[39;00m\n\u001B[1;32m----> 3\u001B[0m np\u001B[38;5;241m.\u001B[39mfromfile(\u001B[38;5;124m'\u001B[39m\u001B[38;5;124mhelper.py\u001B[39m\u001B[38;5;124m'\u001B[39m)\n",
      "\u001B[1;31mFileNotFoundError\u001B[0m: [Errno 2] No such file or directory: 'helper.py'"
     ]
    }
   ],
   "source": [
    "\n",
    "#one hundred and eighty third function is np.fromfile\n",
    "\n",
    "np.fromfile('helper.py')\n"
   ],
   "metadata": {
    "collapsed": false
   }
  },
  {
   "cell_type": "code",
   "execution_count": null,
   "outputs": [],
   "source": [
    "\n",
    "#one hundred and eighty fourth function is np.fromfunction\n",
    "\n",
    "print(np.fromfunction(lambda x1, x2: x1, (2,5)))\n",
    "print(np.fromfunction(lambda x1, x2: x2, (2,5)))\n"
   ],
   "metadata": {
    "collapsed": false
   }
  },
  {
   "cell_type": "code",
   "execution_count": null,
   "outputs": [],
   "source": [
    "\n",
    "#one hundred and eighty fifth function is np.fromiter\n",
    "\n",
    "a = np.array([1,2,3])\n",
    "np.fromiter(a, complex)\n"
   ],
   "metadata": {
    "collapsed": false
   }
  },
  {
   "cell_type": "code",
   "execution_count": null,
   "outputs": [],
   "source": [
    "\n",
    "#one hundred and eighty sixth function is np.frompyfunc\n",
    "\n",
    "f = np.frompyfunc(abs, 1,1)\n",
    "f(np.array((-10, 30, -100)))\n"
   ],
   "metadata": {
    "collapsed": false
   }
  },
  {
   "cell_type": "code",
   "execution_count": null,
   "outputs": [],
   "source": [
    "\n",
    "#one hundred and eighty seventh function is np.fromregex\n",
    "from io import StringIO\n",
    "text = StringIO('2ug0gu i2dbniew/,.,/ds2')\n",
    "np.fromregex(text, '\\d', [('numbers', np.int64)])\n",
    "\n"
   ],
   "metadata": {
    "collapsed": false
   }
  },
  {
   "cell_type": "code",
   "execution_count": null,
   "outputs": [],
   "source": [
    "\n",
    "#one hundred and eighty eighth function is np.fromstring\n",
    "\n",
    "string = '1,2,3,4,5,6,7'\n",
    "np.fromstring(string, dtype=np.int64, sep=',')\n"
   ],
   "metadata": {
    "collapsed": false
   }
  },
  {
   "cell_type": "code",
   "execution_count": null,
   "outputs": [],
   "source": [
    "\n",
    "#one hundred and eighty ninth function is np.full\n",
    "\n",
    "np.full((2,2), 2022)\n",
    "\n"
   ],
   "metadata": {
    "collapsed": false
   }
  },
  {
   "cell_type": "code",
   "execution_count": null,
   "outputs": [],
   "source": [
    "\n",
    "#one hundred and ninetieth function is np.full_like\n",
    "a = np.array([[1,2,3],\n",
    "              [4,5,6],\n",
    "              [7,8,9]])\n",
    "np.full_like(a, 2022)\n"
   ],
   "metadata": {
    "collapsed": false
   }
  },
  {
   "cell_type": "code",
   "execution_count": null,
   "outputs": [],
   "source": [
    "\n",
    "#one hundred and ninety first function is np.gcd\n",
    "\n",
    "np.gcd.reduce([15, 25, 35, 45])\n",
    "\n"
   ],
   "metadata": {
    "collapsed": false
   }
  },
  {
   "cell_type": "code",
   "execution_count": null,
   "outputs": [],
   "source": [
    "\n",
    "#one hundred and ninety second function is np.generic\n",
    "\n",
    "np.generic.data\n",
    "\n"
   ],
   "metadata": {
    "collapsed": false
   }
  },
  {
   "cell_type": "code",
   "execution_count": null,
   "outputs": [],
   "source": [
    "\n",
    "#one hundred and ninety third function is np.genfromtxt\n",
    "from io import StringIO\n",
    "x = StringIO(\"\"\"1,2,3,hello1, hello2,1f,2f\n",
    "\"\"\")\n",
    "\n",
    "a = np.genfromtxt(x, dtype=None, delimiter=',')\n",
    "a"
   ],
   "metadata": {
    "collapsed": false
   }
  },
  {
   "cell_type": "code",
   "execution_count": null,
   "outputs": [],
   "source": [
    "\n",
    "#one hundred and ninety fourth function is np.geomspace\n",
    "\n",
    "np.geomspace(1, 100, num=13)\n"
   ],
   "metadata": {
    "collapsed": false
   }
  },
  {
   "cell_type": "code",
   "execution_count": null,
   "outputs": [],
   "source": [
    "\n",
    "#one hundred and ninety fifth function is np.get_array_wrap\n",
    "a = np.array([12])\n",
    "f = np.get_array_wrap(a)\n",
    "f(np.array([123]))\n"
   ],
   "metadata": {
    "collapsed": false
   }
  },
  {
   "cell_type": "code",
   "execution_count": null,
   "outputs": [],
   "source": [
    "\n",
    "#one hundred and ninety sixth function is np.get_include\n",
    "np.get_include()\n"
   ],
   "metadata": {
    "collapsed": false
   }
  },
  {
   "cell_type": "code",
   "execution_count": null,
   "outputs": [],
   "source": [
    "\n",
    "#one hundred and ninety seventh function is np.get_printoptions\n",
    "\n",
    "np.printoptions()\n"
   ],
   "metadata": {
    "collapsed": false
   }
  },
  {
   "cell_type": "code",
   "execution_count": null,
   "outputs": [],
   "source": [
    "\n",
    "#one hundred and ninety eighth function is np.getbufsize\n",
    "np.getbufsize()\n",
    "\n"
   ],
   "metadata": {
    "collapsed": false
   }
  },
  {
   "cell_type": "code",
   "execution_count": null,
   "outputs": [],
   "source": [
    "\n",
    "#one hundred and ninety ninth function is np.geterr\n",
    "\n",
    "print(np.geterr())\n"
   ],
   "metadata": {
    "collapsed": false
   }
  },
  {
   "cell_type": "code",
   "execution_count": null,
   "outputs": [],
   "source": [
    "\n",
    "#two hundredths function is np.geterrcall\n",
    "\n",
    "np.seterr(all='call')\n",
    "def err_handler(type, flag):\n",
    "    print(\"Floating point error (%s), with flag %s\" % (type, flag))\n",
    "np.seterrcall(err_handler)\n",
    "print(np.array([1, 2, 3]) / 0.0)\n",
    "\n",
    "err_handler is np.geterrcall()"
   ],
   "metadata": {
    "collapsed": false
   }
  },
  {
   "cell_type": "code",
   "execution_count": null,
   "outputs": [],
   "source": [
    "\n",
    "#two hundred and first function is np.geterrobj\n",
    "np.geterrobj()\n"
   ],
   "metadata": {
    "collapsed": false
   }
  },
  {
   "cell_type": "code",
   "execution_count": null,
   "outputs": [],
   "source": [
    "\n",
    "#two hundred and second function is np.gradient\n",
    "\n",
    "np.gradient(np.array([1, 2, 4, 7, 11, 16]))\n",
    "\n"
   ],
   "metadata": {
    "collapsed": false
   }
  },
  {
   "cell_type": "code",
   "execution_count": null,
   "outputs": [],
   "source": [
    "\n",
    "#two hundred and third function is np.greater\n",
    "print(np.greater([1,2,3], [2,1,0]))\n",
    "np.array([1,2,3]) > np.array([2,1,0])"
   ],
   "metadata": {
    "collapsed": false
   }
  },
  {
   "cell_type": "code",
   "execution_count": null,
   "outputs": [],
   "source": [
    "\n",
    "#two hundred and fourth function is np.greater_equal\n",
    "print(np.greater_equal([1,2,0], [2,1,0]))\n",
    "np.array([1,2,3]) > np.array([2,1,0])\n"
   ],
   "metadata": {
    "collapsed": false
   }
  },
  {
   "cell_type": "code",
   "execution_count": null,
   "outputs": [],
   "source": [
    "\n",
    "#two hundred and fifth function is np.half\n",
    "\n",
    "np.half(1.23542343654)\n",
    "\n"
   ],
   "metadata": {
    "collapsed": false
   }
  },
  {
   "cell_type": "code",
   "execution_count": null,
   "outputs": [],
   "source": [
    "\n",
    "#two hundred and sixth function is np.hamming\n",
    "print(np.hamming(10))\n",
    "import matplotlib.pyplot as plt\n",
    "plt.plot(np.hamming(10))\n"
   ],
   "metadata": {
    "collapsed": false
   }
  },
  {
   "cell_type": "code",
   "execution_count": null,
   "outputs": [],
   "source": [
    "\n",
    "#two hundred and seventh function is np.hanning\n",
    "\n",
    "print(np.hanning(10))\n",
    "import matplotlib.pyplot as plt\n",
    "\n",
    "plt.plot(np.hanning(10))\n"
   ],
   "metadata": {
    "collapsed": false
   }
  },
  {
   "cell_type": "code",
   "execution_count": null,
   "outputs": [],
   "source": [
    "\n",
    "#two hundred and eighth function is np.heaviside\n",
    "\n",
    "np.heaviside([-1.5, 0, 2.0], 0.5)\n",
    "\n"
   ],
   "metadata": {
    "collapsed": false
   }
  },
  {
   "cell_type": "code",
   "execution_count": null,
   "outputs": [],
   "source": [
    "\n",
    "#two hundred and ninth function is np.histogram\n",
    "\n",
    "a = np.histogram(3)\n",
    "import matplotlib.pyplot as plt\n",
    "plt.hist(a, bins='auto')\n"
   ],
   "metadata": {
    "collapsed": false
   }
  },
  {
   "cell_type": "code",
   "execution_count": null,
   "outputs": [],
   "source": [
    "\n",
    "#two hundred and tenth function is np.histogram2d\n",
    "\n",
    "a = np.histogram2d([1], [10])\n",
    "import matplotlib.pyplot as plt\n",
    "plt.hist(a[0], bins='auto')\n",
    "plt.hist(a[1], bins='auto')\n",
    "plt.hist(a[2], bins='auto')\n"
   ],
   "metadata": {
    "collapsed": false
   }
  },
  {
   "cell_type": "code",
   "execution_count": null,
   "outputs": [],
   "source": [
    "\n",
    "#two hundred and eleventh function is np.histogram_bin_edges\n",
    "arr = np.array([0, 0, 0, 1, 2, 3, 3, 4, 5])\n",
    "bins = np.histogram_bin_edges(arr, bins='auto')\n",
    "import matplotlib.pyplot as plt\n",
    "\n",
    "plt.hist(arr, bins=bins, )"
   ],
   "metadata": {
    "collapsed": false
   }
  },
  {
   "cell_type": "code",
   "execution_count": null,
   "outputs": [],
   "source": [
    "\n",
    "#two hundred and twelveth function is np.histogramdd\n",
    "\n",
    "a = np.array([1,2,3,2,1,3,4,6,7])\n",
    "x = np.histogramdd(a, bins=(3))\n",
    "\n",
    "import matplotlib.pyplot as plt\n",
    "plt.hist(x[0], x[1][0])\n"
   ],
   "metadata": {
    "collapsed": false
   }
  },
  {
   "cell_type": "code",
   "execution_count": null,
   "outputs": [],
   "source": [
    "\n",
    "#two hundred and thirteenth function is np.hsplit\n",
    "\n",
    "arr = np.array([[1,2],[3,4]])\n",
    "np.hsplit(arr, 2)\n"
   ],
   "metadata": {
    "collapsed": false
   }
  },
  {
   "cell_type": "code",
   "execution_count": null,
   "outputs": [],
   "source": [
    "\n",
    "#two hundred and fourteenth function is np.hstack\n",
    "a = np.array([1,2,3])\n",
    "b = np.array([1,2,3])\n",
    "np.hstack((a,b))\n"
   ],
   "metadata": {
    "collapsed": false
   }
  },
  {
   "cell_type": "code",
   "execution_count": null,
   "outputs": [],
   "source": [
    "\n",
    "#two hundred and fifteenth function is np.hypot\n",
    "a = np.array([1,2,3])\n",
    "b = np.array([1,2,3])\n",
    "\n",
    "print(np.hypot(a, b))\n",
    "\n",
    "print([np.sqrt(a[i]**2 + b[i]**2) for i in range(3)])"
   ],
   "metadata": {
    "collapsed": false
   }
  },
  {
   "cell_type": "code",
   "execution_count": null,
   "outputs": [],
   "source": [
    "\n",
    "#two hundred and sixteenth function is np.i0\n",
    "\n",
    "a = np.array([0, 1, 2, 3])\n",
    "np.i0(a)\n"
   ],
   "metadata": {
    "collapsed": false
   }
  },
  {
   "cell_type": "code",
   "execution_count": null,
   "outputs": [],
   "source": [
    "\n",
    "#two hundred and seventeenth function is np.identity\n",
    "\n",
    "np.identity(5)\n"
   ],
   "metadata": {
    "collapsed": false
   }
  },
  {
   "cell_type": "code",
   "execution_count": null,
   "outputs": [],
   "source": [
    "\n",
    "#two hundred and eighteenth function is np.iinfo\n",
    "\n",
    "np.iinfo(np.int64)\n",
    "\n"
   ],
   "metadata": {
    "collapsed": false
   }
  },
  {
   "cell_type": "code",
   "execution_count": null,
   "outputs": [],
   "source": [
    "\n",
    "#two hundred and nineteenth function is np.imag\n",
    "a = np.array([1+2j, 3+4j, 5+6j])\n",
    "a.imag\n"
   ],
   "metadata": {
    "collapsed": false
   }
  },
  {
   "cell_type": "code",
   "execution_count": null,
   "outputs": [],
   "source": [
    "\n",
    "#two hundred and twentieth function is np.in1d\n",
    "\n",
    "test = np.array([0, 1, 2, 5, 0])\n",
    "states = [0, 2]\n",
    "np.in1d(test, states)\n"
   ],
   "metadata": {
    "collapsed": false
   }
  },
  {
   "cell_type": "code",
   "execution_count": null,
   "outputs": [],
   "source": [
    "\n",
    "#two hundred and twenty first function is np.index_exp\n",
    "\n",
    "a = np.array([1,2,3])\n",
    "np.index_exp[a]"
   ],
   "metadata": {
    "collapsed": false
   }
  },
  {
   "cell_type": "code",
   "execution_count": null,
   "outputs": [],
   "source": [
    "\n",
    "#two hundred and twenty second function is np.indices\n",
    "\n",
    "np.indices((2,2))\n"
   ],
   "metadata": {
    "collapsed": false
   }
  },
  {
   "cell_type": "code",
   "execution_count": null,
   "outputs": [],
   "source": [
    "\n",
    "#two hundred and twenty third function is np.inexact\n",
    "\n",
    "np.inexact.mro()"
   ],
   "metadata": {
    "collapsed": false
   }
  },
  {
   "cell_type": "code",
   "execution_count": null,
   "outputs": [],
   "source": [
    "\n",
    "#two hundred and twenty fourth function is np.inf\n",
    "\n",
    "np.inf is np.infty\n"
   ],
   "metadata": {
    "collapsed": false
   }
  },
  {
   "cell_type": "code",
   "execution_count": null,
   "outputs": [],
   "source": [
    "\n",
    "#two hundred and twenty fifth function is np.info\n",
    "\n",
    "np.info(np.array)\n",
    "\n"
   ],
   "metadata": {
    "collapsed": false
   }
  },
  {
   "cell_type": "code",
   "execution_count": null,
   "outputs": [],
   "source": [
    "\n",
    "#two hundred and twenty sixth function is np.infty\n",
    "\n",
    "np.infty is np.inf\n"
   ],
   "metadata": {
    "collapsed": false
   }
  },
  {
   "cell_type": "code",
   "execution_count": null,
   "outputs": [],
   "source": [
    "\n",
    "#two hundred and twenty seventh function is np.inner\n",
    "a = np.array([1,2,3])\n",
    "b = np.array([1,2,3])\n",
    "print(np.inner(a,b))\n",
    "print(sum(a[:]*b[:]))"
   ],
   "metadata": {
    "collapsed": false
   }
  },
  {
   "cell_type": "code",
   "execution_count": null,
   "outputs": [],
   "source": [
    "\n",
    "#two hundred and twenty ninth function is np.insert\n",
    "a = np.array([[1,2,3],\n",
    "              [4,5,6],\n",
    "              [7,8,9]])\n",
    "np.insert(a, 2, 10, axis=1)\n"
   ],
   "metadata": {
    "collapsed": false
   }
  },
  {
   "cell_type": "code",
   "execution_count": null,
   "outputs": [],
   "source": [
    "\n",
    "#two hundred and thirtieth function is np.int0\n",
    "np.int0 is np.int64"
   ],
   "metadata": {
    "collapsed": false
   }
  },
  {
   "cell_type": "code",
   "execution_count": null,
   "outputs": [],
   "source": [
    "\n",
    "#two hundred and thirtieth first function is np.int16\n",
    "print(np.int16(12345))\n",
    "print(np.int16(123456))\n"
   ],
   "metadata": {
    "collapsed": false
   }
  },
  {
   "cell_type": "code",
   "execution_count": null,
   "outputs": [],
   "source": [
    "\n",
    "#two hundred and thirtieth second function is np.int32\n",
    "print(np.int32(1234567891))\n",
    "print(np.int32(12345678911))\n"
   ],
   "metadata": {
    "collapsed": false
   }
  },
  {
   "cell_type": "code",
   "execution_count": null,
   "outputs": [],
   "source": [
    "\n",
    "#two hundred and thirtieth third function is np.int64\n",
    "print(np.int64(1234567891012345678))\n",
    "print(np.int64(12345678910123456789))\n"
   ],
   "metadata": {
    "collapsed": false
   }
  },
  {
   "cell_type": "code",
   "execution_count": null,
   "outputs": [],
   "source": [
    "\n",
    "#two hundred and thirtieth fourth function is np.int8\n",
    "print(np.int8(123))\n",
    "print(np.int8(1234))\n"
   ],
   "metadata": {
    "collapsed": false
   }
  },
  {
   "cell_type": "code",
   "execution_count": null,
   "outputs": [],
   "source": [
    "\n",
    "#two hundred and thirtieth fifth function is np.int_\n",
    "print(np.int_)\n"
   ],
   "metadata": {
    "collapsed": false
   }
  },
  {
   "cell_type": "code",
   "execution_count": null,
   "outputs": [],
   "source": [
    "\n",
    "#two hundred and thirtieth sixth function is np.intc\n",
    "print(np.intc(2_147_483_647))\n",
    "print(np.intc(2_147_483_648))\n",
    "\n"
   ],
   "metadata": {
    "collapsed": false
   }
  },
  {
   "cell_type": "code",
   "execution_count": null,
   "outputs": [],
   "source": [
    "\n",
    "#two hundred and thirtieth seventh function is np.integer\n",
    "np.integer.mro()\n",
    "\n"
   ],
   "metadata": {
    "collapsed": false
   }
  },
  {
   "cell_type": "code",
   "execution_count": null,
   "outputs": [],
   "source": [
    "\n",
    "#two hundred and thirtieth eighth function is np.interp\n",
    "xp = [1, 2, 3]\n",
    "fp = [3, 2, 0]\n",
    "np.interp([1,2,3,4], xp, fp)\n"
   ],
   "metadata": {
    "collapsed": false
   }
  },
  {
   "cell_type": "code",
   "execution_count": null,
   "outputs": [],
   "source": [
    "\n",
    "#two hundred and thirtieth ninth function is np.intersect1d\n",
    "np.intersect1d([1, 1, 2, 3, 4], [2, 1, 4, 6], return_indices=True)\n"
   ],
   "metadata": {
    "collapsed": false
   }
  },
  {
   "cell_type": "code",
   "execution_count": null,
   "outputs": [],
   "source": [
    "\n",
    "#two hundred and fourtieth function is np.intp\n",
    "\n",
    "np.intp\n"
   ],
   "metadata": {
    "collapsed": false
   }
  },
  {
   "cell_type": "code",
   "execution_count": null,
   "outputs": [],
   "source": [
    "\n",
    "#two hundred and fourty first function is np.invert\n",
    "\n",
    "print(np.invert([True, False]))\n",
    "print(~np.array([True, False]))\n",
    "\n"
   ],
   "metadata": {
    "collapsed": false
   }
  },
  {
   "cell_type": "code",
   "execution_count": null,
   "outputs": [],
   "source": [
    "\n",
    "#two hundred and fourty second function is np.is_busday\n",
    "\n",
    "np.is_busday(['2021-01-01', '2021-01-02', '2021-01-03', '2021-01-04', '2021-01-05'],\n",
    "             holidays=['2021-01-01', '2021-01-02'])\n",
    "\n"
   ],
   "metadata": {
    "collapsed": false
   }
  },
  {
   "cell_type": "code",
   "execution_count": null,
   "outputs": [],
   "source": [
    "\n",
    "#two hundred and fourty third function is np.isclose\n",
    "\n",
    "np.isclose([1,2,3,1], [2,1,3,1])\n",
    "\n"
   ],
   "metadata": {
    "collapsed": false
   }
  },
  {
   "cell_type": "code",
   "execution_count": null,
   "outputs": [],
   "source": [
    "\n",
    "#two hundred and fourty fourth function is np.iscomplex\n",
    "np.iscomplex([1+1j, 1+0j, 4.5, 3, 2, 2j])\n"
   ],
   "metadata": {
    "collapsed": false
   }
  },
  {
   "cell_type": "code",
   "execution_count": null,
   "outputs": [],
   "source": [
    "\n",
    "#two hundred and fourty fifth function is np.iscomplexobj\n",
    "print(np.iscomplexobj([3, 1+0j, True]))\n",
    "print(np.iscomplexobj([3, 1, True]))\n"
   ],
   "metadata": {
    "collapsed": false
   }
  },
  {
   "cell_type": "code",
   "execution_count": null,
   "outputs": [],
   "source": [
    "\n",
    "#two hundred and fourty sixth function is np.isfinite\n",
    "\n",
    "np.isfinite([1, 1j, 0, np.inf, np.nan])\n"
   ],
   "metadata": {
    "collapsed": false
   }
  },
  {
   "cell_type": "code",
   "execution_count": null,
   "outputs": [],
   "source": [
    "\n",
    "#two hundred and fourty seventh function is np.isfortran\n",
    "print(np.isfortran(np.array([[1, 2, 3], [4, 5, 6]], order='C')))\n",
    "print(np.isfortran(np.array([[1, 2, 3], [4, 5, 6]], order='F')))\n"
   ],
   "metadata": {
    "collapsed": false
   }
  },
  {
   "cell_type": "code",
   "execution_count": null,
   "outputs": [],
   "source": [
    "\n",
    "#two hundred and fourty eighth function is np.isin\n",
    "\n",
    "np.isin([1,3,1,4],\n",
    "        [4,3,9,2])\n",
    "\n"
   ],
   "metadata": {
    "collapsed": false
   }
  },
  {
   "cell_type": "code",
   "execution_count": null,
   "outputs": [],
   "source": [
    "\n",
    "#two hundred and fourty ninth function is np.isinf\n",
    "\n",
    "np.isinf([np.inf, -np.inf, 1.0, np.nan])\n"
   ],
   "metadata": {
    "collapsed": false
   }
  },
  {
   "cell_type": "code",
   "execution_count": null,
   "outputs": [],
   "source": [
    "\n",
    "#two hundred and fiftieth function is np.isnan\n",
    "np.isnan([np.log(-1.),1.,np.log(0),np.nan])\n"
   ],
   "metadata": {
    "collapsed": false
   }
  },
  {
   "cell_type": "code",
   "execution_count": null,
   "outputs": [],
   "source": [
    "\n",
    "#two hundred and fifty first function is np.isnat\n",
    "\n",
    "np.isnat(np.array([\"NaT\", \"2016-01-01\"], dtype=\"datetime64[ns]\"))\n"
   ],
   "metadata": {
    "collapsed": false
   }
  },
  {
   "cell_type": "code",
   "execution_count": null,
   "outputs": [],
   "source": [
    "\n",
    "#two hundred and fifty first function is np.isinf\n",
    "\n",
    "np.isinf([-1, -np.inf, np.inf, np.nan])\n",
    "\n"
   ],
   "metadata": {
    "collapsed": false
   }
  },
  {
   "cell_type": "code",
   "execution_count": null,
   "outputs": [],
   "source": [
    "\n",
    "#two hundred and fifty second function is np.isnan\n",
    "\n",
    "np.isnan([np.nan, -np.nan, np.sqrt(-4), 2])\n"
   ],
   "metadata": {
    "collapsed": false
   }
  },
  {
   "cell_type": "code",
   "execution_count": null,
   "outputs": [],
   "source": [
    "\n",
    "#two hundred and fifty third function is np.isnat\n",
    "\n",
    "np.isnat(np.array(['NaT', '2022-10-10'], dtype=np.datetime64))"
   ],
   "metadata": {
    "collapsed": false
   }
  },
  {
   "cell_type": "code",
   "execution_count": null,
   "outputs": [],
   "source": [
    "\n",
    "#two hundred and fifty fourth function is np.isneginf\n",
    "\n",
    "np.isneginf([np.NINF, np.inf, -np.inf])\n"
   ],
   "metadata": {
    "collapsed": false
   }
  },
  {
   "cell_type": "code",
   "execution_count": null,
   "outputs": [],
   "source": [
    "\n",
    "#two hundred and fifty fifth function is np.isposinf\n",
    "np.isposinf([np.PINF, np.inf, -np.inf])\n"
   ],
   "metadata": {
    "collapsed": false
   }
  },
  {
   "cell_type": "code",
   "execution_count": null,
   "outputs": [],
   "source": [
    "\n",
    "#two hundred and fifty sixth function is np.isreal\n",
    "a = np.array([1j,1+0j,1,2,3,0],dtype=complex)\n",
    "np.isreal(a)"
   ],
   "metadata": {
    "collapsed": false
   }
  },
  {
   "cell_type": "code",
   "execution_count": null,
   "outputs": [],
   "source": [
    "\n",
    "#two hundred and fifty seventh function is np.isrealobj\n",
    "a = np.array([0,1,2,1j,1+2j,1+0j,None,True,False,'this is str'])\n",
    "for i in a:\n",
    "    print(f\"{i} is --> {np.isrealobj(i)}\")\n"
   ],
   "metadata": {
    "collapsed": false
   }
  },
  {
   "cell_type": "code",
   "execution_count": null,
   "outputs": [],
   "source": [
    "\n",
    "#two hundred and fifty eighth function is np.isscalar\n",
    "\n",
    "a = np.array([0,1,2.2,True,False,[],(),'this is str'])\n",
    "for i in a:\n",
    "    print(f\"{i} is ---> {np.isscalar(i)}\")\n"
   ],
   "metadata": {
    "collapsed": false
   }
  },
  {
   "cell_type": "code",
   "execution_count": 318,
   "outputs": [
    {
     "name": "stdout",
     "output_type": "stream",
     "text": [
      "True\n"
     ]
    },
    {
     "data": {
      "text/plain": "False"
     },
     "execution_count": 318,
     "metadata": {},
     "output_type": "execute_result"
    }
   ],
   "source": [
    "\n",
    "#two hundred and fifty ninth function is np.issctype\n",
    "print(np.issctype(np.int32))\n",
    "np.issctype(1)"
   ],
   "metadata": {
    "collapsed": false
   }
  },
  {
   "cell_type": "code",
   "execution_count": 319,
   "outputs": [
    {
     "name": "stdout",
     "output_type": "stream",
     "text": [
      "False\n",
      "False\n",
      "True\n"
     ]
    }
   ],
   "source": [
    "\n",
    "#two hundred and sixtieth function is np.issubclass_\n",
    "print(np.issubclass_(np.int64, int))\n",
    "print(np.issubclass_(np.string_, str))\n",
    "print(np.issubclass_(np.float64, float))\n"
   ],
   "metadata": {
    "collapsed": false
   }
  },
  {
   "cell_type": "code",
   "execution_count": 320,
   "outputs": [
    {
     "name": "stdout",
     "output_type": "stream",
     "text": [
      "False\n",
      "False\n",
      "True\n",
      "True\n"
     ]
    }
   ],
   "source": [
    "\n",
    "#two hundred and sixty first function is np.issubdtype\n",
    "print(np.issubdtype(np.integer, np.int32))\n",
    "print(np.issubdtype(np.floating, np.float32))\n",
    "print(np.issubdtype(np.float64, np.floating))\n",
    "print(np.issubdtype('S1', np.string_))\n"
   ],
   "metadata": {
    "collapsed": false
   }
  },
  {
   "cell_type": "code",
   "execution_count": 321,
   "outputs": [
    {
     "name": "stdout",
     "output_type": "stream",
     "text": [
      "False\n",
      "True\n"
     ]
    }
   ],
   "source": [
    "\n",
    "#two hundred and sixty second function is np.issubsctype\n",
    "print(np.issctype(('S1', np.string_)))\n",
    "print(np.issubsctype(np.array([1]), int))\n"
   ],
   "metadata": {
    "collapsed": false
   }
  },
  {
   "cell_type": "code",
   "execution_count": 322,
   "outputs": [
    {
     "name": "stdout",
     "output_type": "stream",
     "text": [
      "True\n",
      "False\n"
     ]
    }
   ],
   "source": [
    "\n",
    "#two hundred and sixty third function is np.iterable\n",
    "print(np.iterable([1,2,3]))\n",
    "print(np.iterable(1))\n"
   ],
   "metadata": {
    "collapsed": false
   }
  },
  {
   "cell_type": "code",
   "execution_count": 323,
   "outputs": [
    {
     "data": {
      "text/plain": "(array([[1],\n        [3]]),\n array([[2, 5]]))"
     },
     "execution_count": 323,
     "metadata": {},
     "output_type": "execute_result"
    }
   ],
   "source": [
    "\n",
    "#two hundred and sixty fourth function is np.ix_\n",
    "np.ix_([1,3],[2,5])\n"
   ],
   "metadata": {
    "collapsed": false
   }
  },
  {
   "cell_type": "code",
   "execution_count": 324,
   "outputs": [
    {
     "data": {
      "text/plain": "[<matplotlib.lines.Line2D at 0x29f2e4016a0>]"
     },
     "execution_count": 324,
     "metadata": {},
     "output_type": "execute_result"
    },
    {
     "data": {
      "text/plain": "<Figure size 640x480 with 1 Axes>",
      "image/png": "[encoded data removed]"
     },
     "metadata": {},
     "output_type": "display_data"
    }
   ],
   "source": [
    "\n",
    "#two hundred and sixty fifth function is np.kaiser\n",
    "import matplotlib.pyplot as plt\n",
    "a = np.kaiser(12,14)\n",
    "plt.plot(a)"
   ],
   "metadata": {
    "collapsed": false
   }
  },
  {
   "cell_type": "code",
   "execution_count": 325,
   "outputs": [
    {
     "name": "stdout",
     "output_type": "stream",
     "text": [
      "[  1  10 100   2  20 200   3  30 300]\n",
      "[array([  1,  10, 100,   2,  20, 200,   3,  30, 300]), array([300,  30,   3, 200,  20,   2, 100,  10,   1])]\n"
     ]
    },
    {
     "data": {
      "text/plain": "[<matplotlib.lines.Line2D at 0x29f2e5c92b0>,\n <matplotlib.lines.Line2D at 0x29f2e5c9190>,\n <matplotlib.lines.Line2D at 0x29f2e5c91c0>,\n <matplotlib.lines.Line2D at 0x29f2e5c9c10>,\n <matplotlib.lines.Line2D at 0x29f2e5c9d00>,\n <matplotlib.lines.Line2D at 0x29f2e5c9df0>,\n <matplotlib.lines.Line2D at 0x29f2e5c9ee0>,\n <matplotlib.lines.Line2D at 0x29f2e5c9fd0>,\n <matplotlib.lines.Line2D at 0x29f2e45b100>]"
     },
     "execution_count": 325,
     "metadata": {},
     "output_type": "execute_result"
    },
    {
     "data": {
      "text/plain": "<Figure size 640x480 with 1 Axes>",
      "image/png": "[encoded data removed]"
     },
     "metadata": {},
     "output_type": "display_data"
    }
   ],
   "source": [
    "\n",
    "#two hundred and sixty sixth function is np.kron\\\n",
    "import matplotlib.pyplot as plt\n",
    "a = np.kron([1,2,3], [1,10,100])\n",
    "print(a)\n",
    "print([a, a[::-1]])\n",
    "plt.plot([a, a[::-1]])\n"
   ],
   "metadata": {
    "collapsed": false
   }
  },
  {
   "cell_type": "code",
   "execution_count": 326,
   "outputs": [
    {
     "name": "stdout",
     "output_type": "stream",
     "text": [
      "60\n",
      "10\n",
      "10\n"
     ]
    }
   ],
   "source": [
    "\n",
    "#two hundred and sixty seventh function is np.lcm\n",
    "print(np.lcm(10,12))\n",
    "print(np.lcm(2,10))\n",
    "print(np.lcm(1,10))\n"
   ],
   "metadata": {
    "collapsed": false
   }
  },
  {
   "cell_type": "code",
   "execution_count": 327,
   "outputs": [
    {
     "name": "stdout",
     "output_type": "stream",
     "text": [
      "[1024. 2048. 3072.]\n",
      "[1024, 2048, 3072]\n"
     ]
    }
   ],
   "source": [
    "\n",
    "#two hundred and sixty eighth function is np.ldexp\n",
    "\n",
    "a = [1,2,3]\n",
    "print(np.ldexp(a, 10))\n",
    "print([i*2**10 for i in a])"
   ],
   "metadata": {
    "collapsed": false
   }
  },
  {
   "cell_type": "code",
   "execution_count": 328,
   "outputs": [
    {
     "name": "stdout",
     "output_type": "stream",
     "text": [
      "8192\n",
      "8192\n"
     ]
    }
   ],
   "source": [
    "\n",
    "#two hundred and sixty ninth function is np.left_shift\n",
    "def this_func(x1, x2):\n",
    "    return x1*2**x2\n",
    "\n",
    "print(np.left_shift(2,12))\n",
    "print(this_func(2,12))\n"
   ],
   "metadata": {
    "collapsed": false
   }
  },
  {
   "cell_type": "code",
   "execution_count": 329,
   "outputs": [
    {
     "data": {
      "text/plain": "array([ True, False, False])"
     },
     "execution_count": 329,
     "metadata": {},
     "output_type": "execute_result"
    }
   ],
   "source": [
    "\n",
    "#two hundred and seventieth function is np.less\n",
    "np.less([1,2,3], [2,1,3])\n"
   ],
   "metadata": {
    "collapsed": false
   }
  },
  {
   "cell_type": "code",
   "execution_count": 330,
   "outputs": [
    {
     "data": {
      "text/plain": "array([ True, False,  True])"
     },
     "execution_count": 330,
     "metadata": {},
     "output_type": "execute_result"
    }
   ],
   "source": [
    "\n",
    "#two hundred and seventy first function is np.less_equal\n",
    "np.less_equal([1,2,3], [2,1,3])\n"
   ],
   "metadata": {
    "collapsed": false
   }
  },
  {
   "cell_type": "code",
   "execution_count": 331,
   "outputs": [
    {
     "name": "stdout",
     "output_type": "stream",
     "text": [
      "[1 0 2]\n",
      "['hello2 -- hi1', 'hello1 -- hi2', 'iqrorjon -- islomov']\n"
     ]
    }
   ],
   "source": [
    "\n",
    "#two hundred and seventy second function is np.lexsort\n",
    "a = ['hello1', 'hello2', 'iqrorjon']\n",
    "b = ['hi2', 'hi1', 'islomov']\n",
    "print(np.lexsort((a, b)))\n",
    "print([f\"{a[i]} -- {b[i]}\" for i in np.lexsort((a, b))])"
   ],
   "metadata": {
    "collapsed": false
   }
  },
  {
   "cell_type": "code",
   "execution_count": 332,
   "outputs": [
    {
     "data": {
      "text/plain": "'1.23.3'"
     },
     "execution_count": 332,
     "metadata": {},
     "output_type": "execute_result"
    }
   ],
   "source": [
    "\n",
    "#two hundred and seventy third function is np.lib\n",
    "\n",
    "np.lib.__version__\n"
   ],
   "metadata": {
    "collapsed": false
   }
  },
  {
   "cell_type": "code",
   "execution_count": 333,
   "outputs": [
    {
     "data": {
      "text/plain": "(array([3., 3., 3.]),\n array([[1., 0., 0.],\n        [0., 1., 0.],\n        [0., 0., 1.]]))"
     },
     "execution_count": 333,
     "metadata": {},
     "output_type": "execute_result"
    }
   ],
   "source": [
    "\n",
    "#two hundred and seventy fourth function is np.linalg\n",
    "np.linalg.eig(np.diag((3,3,3)))\n"
   ],
   "metadata": {
    "collapsed": false
   }
  },
  {
   "cell_type": "code",
   "execution_count": 334,
   "outputs": [
    {
     "data": {
      "text/plain": "array([ 2.  ,  3.33,  4.67,  6.  ,  7.33,  8.67, 10.  ])"
     },
     "execution_count": 334,
     "metadata": {},
     "output_type": "execute_result"
    }
   ],
   "source": [
    "\n",
    "#two hundred and seventy fifth function is np.linspace\n",
    "\n",
    "np.linspace(2.0, 10.0, num=7)\n"
   ],
   "metadata": {
    "collapsed": false
   }
  },
  {
   "cell_type": "code",
   "execution_count": 335,
   "outputs": [
    {
     "data": {
      "text/plain": "True"
     },
     "execution_count": 335,
     "metadata": {},
     "output_type": "execute_result"
    }
   ],
   "source": [
    "\n",
    "#two hundred and seventy sixth function is np.little_endian\n",
    "\n",
    "np.little_endian\n"
   ],
   "metadata": {
    "collapsed": false
   }
  },
  {
   "cell_type": "code",
   "execution_count": 336,
   "outputs": [
    {
     "name": "stdout",
     "output_type": "stream",
     "text": [
      "[[1 2 3]\n",
      " [4 5 6]]\n",
      "[[0 1 2 3 4]\n",
      " [5 6 7 8 9]]\n"
     ]
    }
   ],
   "source": [
    "\n",
    "#two hundred and seventy seventh function is np.load\n",
    "\n",
    "a = np.array([[1,2,3],\n",
    "              [4,5,6]])\n",
    "b = np.arange(10).reshape(2,5)\n",
    "\n",
    "np.savez('./saved_np_file.npz', a=a, b=b)\n",
    "array = np.load('./saved_np_file.npz')\n",
    "print(array['a'])\n",
    "print(array['b'])\n"
   ],
   "metadata": {
    "collapsed": false
   }
  },
  {
   "cell_type": "code",
   "execution_count": 337,
   "outputs": [
    {
     "data": {
      "text/plain": "array([[1., 2., 3.],\n       [4., 5., 6.]])"
     },
     "execution_count": 337,
     "metadata": {},
     "output_type": "execute_result"
    }
   ],
   "source": [
    "\n",
    "#two hundred and seventy eighth function is np.loadtxt\n",
    "\n",
    "from io import StringIO\n",
    "\n",
    "txt = StringIO(\"1 2 3\\n4 5 6\")\n",
    "np.loadtxt(txt)"
   ],
   "metadata": {
    "collapsed": false
   }
  },
  {
   "cell_type": "code",
   "execution_count": 338,
   "outputs": [
    {
     "data": {
      "text/plain": "array([0.  , 0.69, 1.1 ])"
     },
     "execution_count": 338,
     "metadata": {},
     "output_type": "execute_result"
    }
   ],
   "source": [
    "\n",
    "#two hundred and seventy ninth function is np.log\n",
    "np.log([1,2,3])\n"
   ],
   "metadata": {
    "collapsed": false
   }
  },
  {
   "cell_type": "code",
   "execution_count": 339,
   "outputs": [
    {
     "name": "stdout",
     "output_type": "stream",
     "text": [
      "['0.3010299956639812 --> 2.0', '0.47712125471966244 --> 3.0', '0.6020599913279624 --> 4.0']\n"
     ]
    }
   ],
   "source": [
    "\n",
    "#two hundred and eightieth function is np.log10\n",
    "x = np.log10([2,3,4])\n",
    "print([f\"{i} --> {10**i}\" for i in x])"
   ],
   "metadata": {
    "collapsed": false
   }
  },
  {
   "cell_type": "code",
   "execution_count": 340,
   "outputs": [
    {
     "name": "stdout",
     "output_type": "stream",
     "text": [
      "[1.1  1.39 1.61]\n"
     ]
    }
   ],
   "source": [
    "\n",
    "#two hundred and eighty first function is np.log1p\n",
    "print(np.log1p([2,3,4]))\n"
   ],
   "metadata": {
    "collapsed": false
   }
  },
  {
   "cell_type": "code",
   "execution_count": 341,
   "outputs": [
    {
     "name": "stdout",
     "output_type": "stream",
     "text": [
      "[0.   1.   1.58 2.  ]\n",
      "['1.0', '2.0', '3.0', '4.0']\n"
     ]
    }
   ],
   "source": [
    "\n",
    "#two hundred and eighty second function is np.log2\n",
    "print(np.log2([1,2,3,4]))\n",
    "print([f\"{np.float32(np.sqrt(i)**2)}\" for i in [1,2,3,4]])\n"
   ],
   "metadata": {
    "collapsed": false
   }
  },
  {
   "cell_type": "code",
   "execution_count": 342,
   "outputs": [
    {
     "name": "stdout",
     "output_type": "stream",
     "text": [
      "2.313261687518223\n",
      "2.3132616875182226\n"
     ]
    }
   ],
   "source": [
    "\n",
    "#two hundred and eighty third function is np.logaddexp\n",
    "print(np.logaddexp(1,2))\n",
    "print(np.log(np.exp(1) + np.exp(2)))"
   ],
   "metadata": {
    "collapsed": false
   }
  },
  {
   "cell_type": "code",
   "execution_count": 343,
   "outputs": [
    {
     "name": "stdout",
     "output_type": "stream",
     "text": [
      "2.584962500721156\n",
      "2.584962500721156\n"
     ]
    }
   ],
   "source": [
    "\n",
    "#two hundred and eighty fourth function is np.logaddexp2\n",
    "print(np.logaddexp2(1,2))\n",
    "print(np.log2(2**1 + 2**2))"
   ],
   "metadata": {
    "collapsed": false
   }
  },
  {
   "cell_type": "code",
   "execution_count": 344,
   "outputs": [
    {
     "data": {
      "text/plain": "array([ True, False, False])"
     },
     "execution_count": 344,
     "metadata": {},
     "output_type": "execute_result"
    }
   ],
   "source": [
    "\n",
    "#two hundred and eighty fifth function is np.logical_and\n",
    "\n",
    "a = [True, True, False]\n",
    "b = [True, False, False]\n",
    "np.logical_and(a,b)\n"
   ],
   "metadata": {
    "collapsed": false
   }
  },
  {
   "cell_type": "code",
   "execution_count": 345,
   "outputs": [
    {
     "data": {
      "text/plain": "array([False,  True,  True, False])"
     },
     "execution_count": 345,
     "metadata": {},
     "output_type": "execute_result"
    }
   ],
   "source": [
    "\n",
    "#two hundred and eighty sixth function is np.logical_not\n",
    "\n",
    "np.logical_not([True, False, 0, 1])\n",
    "\n"
   ],
   "metadata": {
    "collapsed": false
   }
  },
  {
   "cell_type": "code",
   "execution_count": 346,
   "outputs": [
    {
     "data": {
      "text/plain": "array([ True,  True, False])"
     },
     "execution_count": 346,
     "metadata": {},
     "output_type": "execute_result"
    }
   ],
   "source": [
    "\n",
    "#two hundred and eighty seventh function is np.logical_or\n",
    "\n",
    "a = [True, True, False]\n",
    "b = [True, False, False]\n",
    "np.logical_or(a,b)\n"
   ],
   "metadata": {
    "collapsed": false
   }
  },
  {
   "cell_type": "code",
   "execution_count": 347,
   "outputs": [
    {
     "data": {
      "text/plain": "array([False,  True, False])"
     },
     "execution_count": 347,
     "metadata": {},
     "output_type": "execute_result"
    }
   ],
   "source": [
    "\n",
    "#two hundred and eighty eighth function is np.logical_xor\n",
    "\n",
    "a = [True, True, False]\n",
    "b = [True, False, False]\n",
    "np.logical_xor(a,b)\n"
   ],
   "metadata": {
    "collapsed": false
   }
  },
  {
   "cell_type": "code",
   "execution_count": 348,
   "outputs": [
    {
     "data": {
      "text/plain": "array([  100.  ,   316.23,  1000.  ,  3162.28, 10000.  ])"
     },
     "execution_count": 348,
     "metadata": {},
     "output_type": "execute_result"
    }
   ],
   "source": [
    "\n",
    "#two hundred and eighty ninth function is np.logspace\n",
    "np.logspace(2.0, 4.0, num=5)\n",
    "\n"
   ],
   "metadata": {
    "collapsed": false
   }
  },
  {
   "cell_type": "code",
   "execution_count": 349,
   "outputs": [
    {
     "data": {
      "text/plain": "(123+0j)"
     },
     "execution_count": 349,
     "metadata": {},
     "output_type": "execute_result"
    }
   ],
   "source": [
    "\n",
    "#two hundred and ninetieth function is np.longcomplex\n",
    "np.longcomplex(123)\n"
   ],
   "metadata": {
    "collapsed": false
   }
  },
  {
   "cell_type": "code",
   "execution_count": 350,
   "outputs": [
    {
     "data": {
      "text/plain": "123.0"
     },
     "execution_count": 350,
     "metadata": {},
     "output_type": "execute_result"
    }
   ],
   "source": [
    "\n",
    "#two hundred and ninety first function is np.longdouble\n",
    "np.longdouble(123)\n"
   ],
   "metadata": {
    "collapsed": false
   }
  },
  {
   "cell_type": "code",
   "execution_count": 351,
   "outputs": [
    {
     "data": {
      "text/plain": "123.0"
     },
     "execution_count": 351,
     "metadata": {},
     "output_type": "execute_result"
    }
   ],
   "source": [
    "\n",
    "#two hundred and ninety second function is np.longfloat\n",
    "np.longfloat(123)\n"
   ],
   "metadata": {
    "collapsed": false
   }
  },
  {
   "cell_type": "code",
   "execution_count": 352,
   "outputs": [
    {
     "data": {
      "text/plain": "123"
     },
     "execution_count": 352,
     "metadata": {},
     "output_type": "execute_result"
    }
   ],
   "source": [
    "\n",
    "#two hundred and ninety third function is np.longlong\n",
    "np.longlong(123)\n"
   ],
   "metadata": {
    "collapsed": false
   }
  },
  {
   "cell_type": "code",
   "execution_count": 353,
   "outputs": [
    {
     "name": "stdout",
     "output_type": "stream",
     "text": [
      "Search results for 'numpy lookfor function'\n",
      "-------------------------------------------\n",
      "numpy.info\n",
      "    Get help information for a function, class, or module.\n",
      "numpy.source\n",
      "    Print or write to a file the source code for a NumPy object.\n",
      "numpy.lookfor\n",
      "    Do a keyword search on docstrings.\n"
     ]
    }
   ],
   "source": [
    "\n",
    "#two hundred and ninety fourth function is np.lookfor\n",
    "np.lookfor('numpy lookfor function')\n"
   ],
   "metadata": {
    "collapsed": false
   }
  },
  {
   "cell_type": "code",
   "execution_count": 354,
   "outputs": [
    {
     "name": "stdout",
     "output_type": "stream",
     "text": [
      "array : --\n",
      "array : [1 2 3 4]\n"
     ]
    }
   ],
   "source": [
    "\n",
    "#two hundred and ninety fifth function is np.ma\n",
    "a = np.array([1,2,3,4])\n",
    "x = np.ma.masked_array(a, mask=[10,20,30,40])\n",
    "print(f\"array : {x.mean()}\")\n",
    "x.mask = False\n",
    "print(f\"array : {x}\")\n"
   ],
   "metadata": {
    "collapsed": false
   }
  },
  {
   "cell_type": "code",
   "execution_count": 355,
   "outputs": [
    {
     "data": {
      "text/plain": "(array([0, 0, 0, 1, 1, 2], dtype=int64),\n array([0, 1, 2, 1, 2, 2], dtype=int64))"
     },
     "execution_count": 355,
     "metadata": {},
     "output_type": "execute_result"
    }
   ],
   "source": [
    "\n",
    "#two hundred and ninety sixth function is np.mask_indices\n",
    "\n",
    "np.mask_indices(3,np.triu)"
   ],
   "metadata": {
    "collapsed": false
   }
  },
  {
   "cell_type": "code",
   "execution_count": 356,
   "outputs": [
    {
     "name": "stdout",
     "output_type": "stream",
     "text": [
      "[1 2 3]\n",
      "[[1 2 3]]\n"
     ]
    }
   ],
   "source": [
    "\n",
    "#two hundred and ninety seventh function is np.mat\n",
    "a = np.array([1,2,3])\n",
    "b = a.copy()\n",
    "print(b)\n",
    "\n",
    "a = np.matrix(a)\n",
    "print(a)"
   ],
   "metadata": {
    "collapsed": false
   }
  },
  {
   "cell_type": "code",
   "execution_count": 357,
   "outputs": [
    {
     "data": {
      "text/plain": "-0.45990349068959124"
     },
     "execution_count": 357,
     "metadata": {},
     "output_type": "execute_result"
    }
   ],
   "source": [
    "\n",
    "#two hundred and ninety eighth function is np.math\n",
    "np.math.sin(123)\n"
   ],
   "metadata": {
    "collapsed": false
   }
  },
  {
   "cell_type": "code",
   "execution_count": 358,
   "outputs": [
    {
     "data": {
      "text/plain": "32"
     },
     "execution_count": 358,
     "metadata": {},
     "output_type": "execute_result"
    }
   ],
   "source": [
    "\n",
    "#two hundred and ninety ninth function is np.matmul\n",
    "a = np.array([1,2,3])\n",
    "b = np.array([4,5,6])\n",
    "np.matmul(a,b)\n"
   ],
   "metadata": {
    "collapsed": false
   }
  },
  {
   "cell_type": "code",
   "execution_count": 359,
   "outputs": [
    {
     "data": {
      "text/plain": "matrix([[1, 2, 3]])"
     },
     "execution_count": 359,
     "metadata": {},
     "output_type": "execute_result"
    }
   ],
   "source": [
    "\n",
    "#three hundredth function is np.matrix\n",
    "np.matrix([1,2,3])\n"
   ],
   "metadata": {
    "collapsed": false
   }
  },
  {
   "cell_type": "code",
   "execution_count": 360,
   "outputs": [
    {
     "data": {
      "text/plain": "matrix([[1, 2, 3]])"
     },
     "execution_count": 360,
     "metadata": {},
     "output_type": "execute_result"
    }
   ],
   "source": [
    "\n",
    "#three hundred and first function is np.matrixlib\n",
    "np.matrixlib.asmatrix(np.array([1,2,3]))\n"
   ],
   "metadata": {
    "collapsed": false
   }
  },
  {
   "cell_type": "code",
   "execution_count": 361,
   "outputs": [
    {
     "data": {
      "text/plain": "4"
     },
     "execution_count": 361,
     "metadata": {},
     "output_type": "execute_result"
    }
   ],
   "source": [
    "\n",
    "#three hundred and second function is np.max\n",
    "a = np.array([1,2,3,4])\n",
    "np.max(a)"
   ],
   "metadata": {
    "collapsed": false
   }
  },
  {
   "cell_type": "code",
   "execution_count": 362,
   "outputs": [
    {
     "data": {
      "text/plain": "array([5, 2, 4, 4])"
     },
     "execution_count": 362,
     "metadata": {},
     "output_type": "execute_result"
    }
   ],
   "source": [
    "\n",
    "#three hundred and third function is np.maximum\n",
    "a = np.array([1,2,3,4])\n",
    "b = np.array([5,2,4,1])\n",
    "np.maximum(a,b)\n"
   ],
   "metadata": {
    "collapsed": false
   }
  },
  {
   "cell_type": "code",
   "execution_count": 363,
   "outputs": [
    {
     "name": "stdout",
     "output_type": "stream",
     "text": [
      "<class 'numpy.int64'>\n",
      "<class 'numpy.float64'>\n",
      "<class 'numpy.complex128'>\n"
     ]
    }
   ],
   "source": [
    "\n",
    "#three hundred and fourth function is np.maximum_sctype\n",
    "print(np.maximum_sctype(int))\n",
    "print(np.maximum_sctype(float))\n",
    "print(np.maximum_sctype(complex))\n"
   ],
   "metadata": {
    "collapsed": false
   }
  },
  {
   "cell_type": "code",
   "execution_count": 364,
   "outputs": [
    {
     "name": "stdout",
     "output_type": "stream",
     "text": [
      "False\n",
      "True\n"
     ]
    }
   ],
   "source": [
    "\n",
    "#three hundred and fifth function is np.may_share_memory\n",
    "print(np.may_share_memory(np.array([1,2,3]), np.array([4,5,6])))\n",
    "x = np.zeros([3, 4])\n",
    "print(np.may_share_memory(x[:,0], x[:,1]))\n"
   ],
   "metadata": {
    "collapsed": false
   }
  },
  {
   "cell_type": "code",
   "execution_count": 365,
   "outputs": [
    {
     "data": {
      "text/plain": "2.5"
     },
     "execution_count": 365,
     "metadata": {},
     "output_type": "execute_result"
    }
   ],
   "source": [
    "\n",
    "#three hundred and sixth function is np.mean\n",
    "np.mean([1,2,3,4])\n"
   ],
   "metadata": {
    "collapsed": false
   }
  },
  {
   "cell_type": "code",
   "execution_count": 366,
   "outputs": [
    {
     "data": {
      "text/plain": "3.0"
     },
     "execution_count": 366,
     "metadata": {},
     "output_type": "execute_result"
    }
   ],
   "source": [
    "\n",
    "#three hundred and seventh function is np.median\n",
    "np.median([1,2,3,4,5])\n"
   ],
   "metadata": {
    "collapsed": false
   }
  },
  {
   "cell_type": "code",
   "execution_count": 367,
   "outputs": [
    {
     "ename": "FileNotFoundError",
     "evalue": "[Errno 2] No such file or directory: './newfile.dat'",
     "output_type": "error",
     "traceback": [
      "\u001B[1;31m---------------------------------------------------------------------------\u001B[0m",
      "\u001B[1;31mFileNotFoundError\u001B[0m                         Traceback (most recent call last)",
      "Cell \u001B[1;32mIn [367], line 5\u001B[0m\n\u001B[0;32m      3\u001B[0m \u001B[38;5;28;01mimport\u001B[39;00m \u001B[38;5;21;01mos\u001B[39;00m\u001B[38;5;21;01m.\u001B[39;00m\u001B[38;5;21;01mpath\u001B[39;00m \u001B[38;5;28;01mas\u001B[39;00m \u001B[38;5;21;01mpath\u001B[39;00m\n\u001B[0;32m      4\u001B[0m filename \u001B[38;5;241m=\u001B[39m path\u001B[38;5;241m.\u001B[39mjoin(mkdtemp(), \u001B[38;5;124m'\u001B[39m\u001B[38;5;124mnewfile.dat\u001B[39m\u001B[38;5;124m'\u001B[39m)\n\u001B[1;32m----> 5\u001B[0m np\u001B[38;5;241m.\u001B[39mmemmap(\u001B[38;5;124m'\u001B[39m\u001B[38;5;124m./newfile.dat\u001B[39m\u001B[38;5;124m'\u001B[39m, dtype\u001B[38;5;241m=\u001B[39m\u001B[38;5;124m'\u001B[39m\u001B[38;5;124mfloat32\u001B[39m\u001B[38;5;124m'\u001B[39m, mode\u001B[38;5;241m=\u001B[39m\u001B[38;5;124m'\u001B[39m\u001B[38;5;124mr\u001B[39m\u001B[38;5;124m'\u001B[39m, shape\u001B[38;5;241m=\u001B[39m(\u001B[38;5;241m3\u001B[39m,\u001B[38;5;241m4\u001B[39m))\n",
      "File \u001B[1;32m~\\AppData\\Local\\Programs\\Python\\Python39\\lib\\site-packages\\numpy\\core\\memmap.py:228\u001B[0m, in \u001B[0;36mmemmap.__new__\u001B[1;34m(subtype, filename, dtype, mode, offset, shape, order)\u001B[0m\n\u001B[0;32m    226\u001B[0m     f_ctx \u001B[38;5;241m=\u001B[39m nullcontext(filename)\n\u001B[0;32m    227\u001B[0m \u001B[38;5;28;01melse\u001B[39;00m:\n\u001B[1;32m--> 228\u001B[0m     f_ctx \u001B[38;5;241m=\u001B[39m \u001B[38;5;28;43mopen\u001B[39;49m\u001B[43m(\u001B[49m\u001B[43mos_fspath\u001B[49m\u001B[43m(\u001B[49m\u001B[43mfilename\u001B[49m\u001B[43m)\u001B[49m\u001B[43m,\u001B[49m\u001B[43m \u001B[49m\u001B[43m(\u001B[49m\u001B[38;5;124;43m'\u001B[39;49m\u001B[38;5;124;43mr\u001B[39;49m\u001B[38;5;124;43m'\u001B[39;49m\u001B[43m \u001B[49m\u001B[38;5;28;43;01mif\u001B[39;49;00m\u001B[43m \u001B[49m\u001B[43mmode\u001B[49m\u001B[43m \u001B[49m\u001B[38;5;241;43m==\u001B[39;49m\u001B[43m \u001B[49m\u001B[38;5;124;43m'\u001B[39;49m\u001B[38;5;124;43mc\u001B[39;49m\u001B[38;5;124;43m'\u001B[39;49m\u001B[43m \u001B[49m\u001B[38;5;28;43;01melse\u001B[39;49;00m\u001B[43m \u001B[49m\u001B[43mmode\u001B[49m\u001B[43m)\u001B[49m\u001B[38;5;241;43m+\u001B[39;49m\u001B[38;5;124;43m'\u001B[39;49m\u001B[38;5;124;43mb\u001B[39;49m\u001B[38;5;124;43m'\u001B[39;49m\u001B[43m)\u001B[49m\n\u001B[0;32m    230\u001B[0m \u001B[38;5;28;01mwith\u001B[39;00m f_ctx \u001B[38;5;28;01mas\u001B[39;00m fid:\n\u001B[0;32m    231\u001B[0m     fid\u001B[38;5;241m.\u001B[39mseek(\u001B[38;5;241m0\u001B[39m, \u001B[38;5;241m2\u001B[39m)\n",
      "\u001B[1;31mFileNotFoundError\u001B[0m: [Errno 2] No such file or directory: './newfile.dat'"
     ]
    }
   ],
   "source": [
    "\n",
    "#three hundred and eighth function is np.memmap\n",
    "from tempfile import mkdtemp\n",
    "import os.path as path\n",
    "filename = path.join(mkdtemp(), 'newfile.dat')\n",
    "np.memmap('./newfile.dat', dtype='float32', mode='r', shape=(3,4))\n"
   ],
   "metadata": {
    "collapsed": false
   }
  },
  {
   "cell_type": "code",
   "execution_count": null,
   "outputs": [],
   "source": [
    "\n",
    "#three hundred and ninth function is np.meshgrid\n",
    "np.meshgrid(2,3, indexing='xy')\n"
   ],
   "metadata": {
    "collapsed": false
   }
  },
  {
   "cell_type": "code",
   "execution_count": null,
   "outputs": [],
   "source": [
    "\n",
    "#three hundred and tenth function is np.mgrid\n",
    "np.mgrid[-1:3, 0:3]\n"
   ],
   "metadata": {
    "collapsed": false
   }
  },
  {
   "cell_type": "code",
   "execution_count": null,
   "outputs": [],
   "source": [
    "\n",
    "#three hundred and eleventh function is np.min\n",
    "\n",
    "np.min([1,2,3,4,5])\n"
   ],
   "metadata": {
    "collapsed": false
   }
  },
  {
   "cell_type": "code",
   "execution_count": null,
   "outputs": [],
   "source": [
    "\n",
    "#three hundred and twelveth function is np.min_scalar_type\n",
    "print(np.min_scalar_type(12))\n",
    "print(np.min_scalar_type(12.0))\n",
    "print(np.min_scalar_type(12j))\n"
   ],
   "metadata": {
    "collapsed": false
   }
  },
  {
   "cell_type": "code",
   "execution_count": null,
   "outputs": [],
   "source": [
    "\n",
    "#three hundred and thirteenth function is np.minimum\n",
    "np.minimum([1,2,3],\n",
    "           [4,1,2])\n"
   ],
   "metadata": {
    "collapsed": false
   }
  },
  {
   "cell_type": "code",
   "execution_count": null,
   "outputs": [],
   "source": [
    "\n",
    "#three hundred and fourteenth function is np.mintypecode\n",
    "np.mintypecode('abcdefghij')\n"
   ],
   "metadata": {
    "collapsed": false
   }
  },
  {
   "cell_type": "code",
   "execution_count": null,
   "outputs": [],
   "source": [
    "\n",
    "#three hundred and fifteenth function is np.mod\n",
    "np.mod([1,2,3], [1,1,2])\n"
   ],
   "metadata": {
    "collapsed": false
   }
  },
  {
   "cell_type": "code",
   "execution_count": null,
   "outputs": [],
   "source": [
    "\n",
    "#three hundred and sixteenth function is np.modf\n",
    "np.modf([1,2,3])\n"
   ],
   "metadata": {
    "collapsed": false
   }
  },
  {
   "cell_type": "code",
   "execution_count": null,
   "outputs": [],
   "source": [
    "\n",
    "#three hundred and seventeenth function is np.moveaxis\n",
    "a = np.array([[1,2,3],\n",
    "              [4,5,6]])\n",
    "print(a, a.shape)\n",
    "\n",
    "np.moveaxis(a ,0, -1).shape"
   ],
   "metadata": {
    "collapsed": false
   }
  },
  {
   "cell_type": "code",
   "execution_count": null,
   "outputs": [],
   "source": [
    "\n",
    "#three hundred and eighteenth function is np.msort\n",
    "np.msort([[12,52,3],\n",
    "          [4,5,6]])\n"
   ],
   "metadata": {
    "collapsed": false
   }
  },
  {
   "cell_type": "code",
   "execution_count": null,
   "outputs": [],
   "source": [
    "\n",
    "#three hundred and nineteenth function is np.multiply\n",
    "\n",
    "np.multiply([1,2,3],\n",
    "            [4,5,6])"
   ],
   "metadata": {
    "collapsed": false
   }
  },
  {
   "cell_type": "code",
   "execution_count": null,
   "outputs": [],
   "source": [
    "\n",
    "#three hundred and twentieth function is np.nan\n",
    "np.nan\n"
   ],
   "metadata": {
    "collapsed": false
   }
  },
  {
   "cell_type": "code",
   "execution_count": null,
   "outputs": [],
   "source": [
    "\n",
    "#three hundred and twenty first function is np.nan_to_num\n",
    "np.nan_to_num([np.nan, np.inf, -np.inf, 1j])\n"
   ],
   "metadata": {
    "collapsed": false
   }
  },
  {
   "cell_type": "code",
   "execution_count": null,
   "outputs": [],
   "source": [
    "\n",
    "#three hundred and twenty second function is np.nanargmax\n",
    "a = np.array([[3, 4], [np.nan, 3]])\n",
    "np.nanargmax(a, axis=0)\n"
   ],
   "metadata": {
    "collapsed": false
   }
  },
  {
   "cell_type": "code",
   "execution_count": null,
   "outputs": [],
   "source": [
    "\n",
    "#three hundred and twenty third function is np.nanargmin\n",
    "a = np.array([[np.nan, 4], [2, 3]])\n",
    "np.nanargmin(a, axis=0)\n"
   ],
   "metadata": {
    "collapsed": false
   }
  },
  {
   "cell_type": "code",
   "execution_count": null,
   "outputs": [],
   "source": [
    "\n",
    "#three hundred and twenty fourth function is np.nancumprod\n",
    "a = np.array([1,2,2,3,np.nan,-np.nan])\n",
    "np.nancumprod(a)"
   ],
   "metadata": {
    "collapsed": false
   }
  },
  {
   "cell_type": "code",
   "execution_count": null,
   "outputs": [],
   "source": [
    "\n",
    "#three hundred and twenty fifth function is np.nancumsum\n",
    "a = np.array([1,2,3,np.nan, -np.nan])\n",
    "np.nancumsum(a)"
   ],
   "metadata": {
    "collapsed": false
   }
  },
  {
   "cell_type": "code",
   "execution_count": null,
   "outputs": [],
   "source": [
    "#three hundred and twenty sixth function is np.nanmax\n",
    "print(np.nanmax(np.array([[1,2],[3,np.nan]]), axis=1))\n",
    "print(np.nanmax([1,2,np.nan, np.inf]))"
   ],
   "metadata": {
    "collapsed": false
   }
  },
  {
   "cell_type": "code",
   "execution_count": null,
   "outputs": [],
   "source": [
    "\n",
    "#three hundred and twenty seventh function is np.nanmean\n",
    "a = np.array([1,2,3,4,np.nan])\n",
    "print(np.nanmean(a))"
   ],
   "metadata": {
    "collapsed": false
   }
  },
  {
   "cell_type": "code",
   "execution_count": null,
   "outputs": [],
   "source": [
    "\n",
    "#three hundred and twenty eighth function is np.nanmedian\n",
    "a = np.array([1,2,3,np.nan])\n",
    "print(np.nanmedian(a))\n"
   ],
   "metadata": {
    "collapsed": false
   }
  },
  {
   "cell_type": "code",
   "execution_count": null,
   "outputs": [],
   "source": [
    "\n",
    "#three hundred and twenty ninth function is np.nanmin\n",
    "a = np.array([np.nan, -np.nan, 3])\n",
    "np.nanmin(a)"
   ],
   "metadata": {
    "collapsed": false
   }
  },
  {
   "cell_type": "code",
   "execution_count": null,
   "outputs": [],
   "source": [
    "\n",
    "#three hundred and thirtieth function is np.nanpercentile\n",
    "a = np.array([1,2,3,np.nan])\n",
    "np.nanpercentile(a, 25)"
   ],
   "metadata": {
    "collapsed": false
   }
  },
  {
   "cell_type": "code",
   "execution_count": null,
   "outputs": [],
   "source": [
    "\n",
    "#three hundred and thirty first function is np.nanprod\n",
    "np.nanprod([1,2,3,np.nan])\n"
   ],
   "metadata": {
    "collapsed": false
   }
  },
  {
   "cell_type": "code",
   "execution_count": null,
   "outputs": [],
   "source": [
    "\n",
    "#three hundred and thirty second function is np.nanquantile\n",
    "np.nanquantile([[1,2],[3,np.nan]], 1, axis=0)\n"
   ],
   "metadata": {
    "collapsed": false
   }
  },
  {
   "cell_type": "code",
   "execution_count": null,
   "outputs": [],
   "source": [
    "\n",
    "#three hundred and thirty third function is np.nanstd\n",
    "np.nanstd(np.array([1,2,3,np.nan]))\n"
   ],
   "metadata": {
    "collapsed": false
   }
  },
  {
   "cell_type": "code",
   "execution_count": null,
   "outputs": [],
   "source": [
    "\n",
    "#three hundred and thirty fourth function is np.nansum\n",
    "a = np.array([[1,2,3],\n",
    "              [np.nan, 2, 4]])\n",
    "np.nansum(a, axis=0)"
   ],
   "metadata": {
    "collapsed": false
   }
  },
  {
   "cell_type": "code",
   "execution_count": null,
   "outputs": [],
   "source": [
    "\n",
    "#three hundred and thirty fifth function is np.nanvar\n",
    "a = np.array([[1,2,3],\n",
    "              [np.nan, 2, 4]])\n",
    "np.nanvar(a, axis=1)\n"
   ],
   "metadata": {
    "collapsed": false
   }
  },
  {
   "cell_type": "code",
   "execution_count": null,
   "outputs": [],
   "source": [
    "\n",
    "#three hundred and thirty sixth function is np.nbytes\n",
    "a = np.array([[1,2,3],\n",
    "              [np.nan, 2, 4]])\n",
    "\n",
    "a.nbytes\n"
   ],
   "metadata": {
    "collapsed": false
   }
  },
  {
   "cell_type": "code",
   "execution_count": null,
   "outputs": [],
   "source": [
    "\n",
    "#three hundred and thirty seventh function is np.ndarray\n",
    "\n",
    "np.ndarray((2,2))\n"
   ],
   "metadata": {
    "collapsed": false
   }
  },
  {
   "cell_type": "code",
   "execution_count": null,
   "outputs": [],
   "source": [
    "\n",
    "#three hundred and thirty eighth function is np.ndenumerate\n",
    "a = np.arange(10).reshape(2, 5)\n",
    "for index, value in np.ndenumerate(a):\n",
    "    print(index, value)"
   ],
   "metadata": {
    "collapsed": false
   }
  },
  {
   "cell_type": "code",
   "execution_count": null,
   "outputs": [],
   "source": [
    "\n",
    "#three hundred and thirty ninth function is np.ndim\n",
    "a = np.arange(10).reshape(2, 5)\n",
    "print(a)\n",
    "np.ndim(a)"
   ],
   "metadata": {
    "collapsed": false
   }
  },
  {
   "cell_type": "code",
   "execution_count": null,
   "outputs": [],
   "source": [
    "\n",
    "#three hundred and fortieth function is np.ndindex\n",
    "\n",
    "for i in np.ndindex(3,2,1):\n",
    "    print(i)"
   ],
   "metadata": {
    "collapsed": false
   }
  },
  {
   "cell_type": "code",
   "execution_count": null,
   "outputs": [],
   "source": [
    "\n",
    "#three hundred and fourty first function is np.nditer\n",
    "\n",
    "np.nditer\n"
   ],
   "metadata": {
    "collapsed": false
   }
  },
  {
   "cell_type": "code",
   "execution_count": null,
   "outputs": [],
   "source": [
    "\n",
    "#three hundred and fourty second function is np.negative\n",
    "np.negative([-1,1,-2,-np.nan, np.nan, -np.inf, np.inf])\n"
   ],
   "metadata": {
    "collapsed": false
   }
  },
  {
   "cell_type": "code",
   "execution_count": null,
   "outputs": [],
   "source": [
    "\n",
    "#three hundred and fourty third function is np.nested_iters\n",
    "a = np.arange(12).reshape(2, 3, 2)\n",
    "i, j = np.nested_iters(a, [[1], [0, 2]], flags=[\"multi_index\"])\n",
    "for x in i:\n",
    "     print(i.multi_index)\n",
    "     for y in j:\n",
    "         print('', j.multi_index, y)"
   ],
   "metadata": {
    "collapsed": false
   }
  },
  {
   "cell_type": "code",
   "execution_count": null,
   "outputs": [],
   "source": [
    "\n",
    "#three hundred and fourty fourth function is np.newaxis\n",
    "a = np.arange(10).reshape(2,5)\n",
    "a[np.newaxis]"
   ],
   "metadata": {
    "collapsed": false
   }
  },
  {
   "cell_type": "code",
   "execution_count": null,
   "outputs": [],
   "source": [
    "\n",
    "#three hundred and fourty fifth function is np.nextafter\n",
    "np.nextafter([1, 2,10], [2,10, 1])\n"
   ],
   "metadata": {
    "collapsed": false
   }
  },
  {
   "cell_type": "code",
   "execution_count": null,
   "outputs": [],
   "source": [
    "\n",
    "#three hundred and fourty sixth function is np.nonzero\n",
    "np.nonzero([1,2,3])\n"
   ],
   "metadata": {
    "collapsed": false
   }
  },
  {
   "cell_type": "code",
   "execution_count": null,
   "outputs": [],
   "source": [
    "\n",
    "#three hundred and fourty seventh function is np.not_equal\n",
    "np.not_equal([1,2,3],\n",
    "             [1,3,2])\n"
   ],
   "metadata": {
    "collapsed": false
   }
  },
  {
   "cell_type": "code",
   "execution_count": null,
   "outputs": [],
   "source": [
    "\n",
    "#three hundred and fourty eighth function is np.numarray\n",
    "\n",
    "np.numarray"
   ],
   "metadata": {
    "collapsed": false
   }
  },
  {
   "cell_type": "code",
   "execution_count": null,
   "outputs": [],
   "source": [
    "\n",
    "#three hundred and fourty ninth function is np.number\n",
    "np.number"
   ],
   "metadata": {
    "collapsed": false
   }
  },
  {
   "cell_type": "code",
   "execution_count": null,
   "outputs": [],
   "source": [
    "\n",
    "#three hundred and fiftieth function is np.obj2sctype\n",
    "print(np.obj2sctype('string'))\n",
    "print(np.obj2sctype(np.int32))\n",
    "print(np.obj2sctype(dict))\n",
    "print(np.obj2sctype(str))\n",
    "\n"
   ],
   "metadata": {
    "collapsed": false
   }
  },
  {
   "cell_type": "code",
   "execution_count": null,
   "outputs": [],
   "source": [
    "\n",
    "#three hundred and fifty first function is np.object0\n",
    "class example:\n",
    "\n",
    "    \"\"\"\n",
    "    this is example\n",
    "    \"\"\"\n",
    "\n",
    "    def __int__(self, x):\n",
    "        self.x = x\n",
    "\n",
    "np.object0(example)\n"
   ],
   "metadata": {
    "collapsed": false
   }
  },
  {
   "cell_type": "code",
   "execution_count": null,
   "outputs": [],
   "source": [
    "\n",
    "#three hundred and fifty second function is np.object_\n",
    "\n",
    "class New:\n",
    "    def __int__(self, a):\n",
    "        self.a = a\n",
    "\n",
    "np.object_(New)\n"
   ],
   "metadata": {
    "collapsed": false
   }
  },
  {
   "cell_type": "code",
   "execution_count": null,
   "outputs": [],
   "source": [
    "\n",
    "#three hundred and fifty third function is np.ogrid\n",
    "\n",
    "from numpy import mgrid\n",
    "print(mgrid[1:10:0.1], \"\\n\\n\\n\")\n",
    "print(mgrid[1:10, 1:2])\n"
   ],
   "metadata": {
    "collapsed": false
   }
  },
  {
   "cell_type": "code",
   "execution_count": null,
   "outputs": [],
   "source": [
    "\n",
    "#three hundred and fifty fourth function is np.oldnumeric\n",
    "\n",
    "np.oldnumeric\n",
    "\n"
   ],
   "metadata": {
    "collapsed": false
   }
  },
  {
   "cell_type": "code",
   "execution_count": null,
   "outputs": [],
   "source": [
    "\n",
    "#three hundred and fifty fifth function is np.ones\n",
    "\n",
    "np.ones((10,2))\n",
    "\n"
   ],
   "metadata": {
    "collapsed": false
   }
  },
  {
   "cell_type": "code",
   "execution_count": null,
   "outputs": [],
   "source": [
    "\n",
    "#three hundred and fifty sixth function is np.ones_like\n",
    "\n",
    "x = np.arange(10).reshape(5,-1)\n",
    "print(\"this is x array : \", x, \"\\n\\n\\n\")\n",
    "np.ones_like(x)\n"
   ],
   "metadata": {
    "collapsed": false
   }
  },
  {
   "cell_type": "code",
   "execution_count": null,
   "outputs": [],
   "source": [
    "\n",
    "#three hundred and fifty seventh function is np.os\n",
    "print(\"this is np.os functions list : \", dir(np.os), \"\\n\\n\\n\\n\")\n",
    "np.os.listdir()"
   ],
   "metadata": {
    "collapsed": false
   }
  },
  {
   "cell_type": "code",
   "execution_count": null,
   "outputs": [],
   "source": [
    "\n",
    "#three hundred and fifty eighth function is np.outer\n",
    "a = np.array([1,2,3])\n",
    "b = np.array([4,5,6])\n",
    "np.outer(a, b)\n"
   ],
   "metadata": {
    "collapsed": false
   }
  },
  {
   "cell_type": "code",
   "execution_count": null,
   "outputs": [],
   "source": [
    "\n",
    "#three hundred and fifty ninth function is np.packbits\n",
    "x = np.array([1,2,3])\n",
    "np.packbits(x)"
   ],
   "metadata": {
    "collapsed": false
   }
  },
  {
   "cell_type": "code",
   "execution_count": null,
   "outputs": [],
   "source": [
    "\n",
    "#three hundred and sixtieth function is np.pad\n",
    "\n",
    "np.pad([[1, 2, 3, 4, 5]], (3,2))"
   ],
   "metadata": {
    "collapsed": false
   }
  },
  {
   "cell_type": "code",
   "execution_count": null,
   "outputs": [],
   "source": [
    "\n",
    "#three hundred and sixty first function is np.partition\n",
    "np.partition([6,7,8,9,1,2,3,4,5], 3)\n"
   ],
   "metadata": {
    "collapsed": false
   }
  },
  {
   "cell_type": "code",
   "execution_count": null,
   "outputs": [],
   "source": [
    "\n",
    "#three hundred and sixty second function is np.percentile\n",
    "a = np.array([1,2,3,4,5])\n",
    "np.percentile(a, 50)"
   ],
   "metadata": {
    "collapsed": false
   }
  },
  {
   "cell_type": "code",
   "execution_count": null,
   "outputs": [],
   "source": [
    "\n",
    "#three hundred and sixty third function is np.pi\n",
    "np.pi\n"
   ],
   "metadata": {
    "collapsed": false
   }
  },
  {
   "cell_type": "code",
   "execution_count": null,
   "outputs": [],
   "source": [
    "\n",
    "#three hundred and sixty fourth function is np.piecewise\n",
    "a = np.linspace(1, 10, 10)\n",
    "print(\"this is a array\", a)\n",
    "np.piecewise(a, [a<5, a>5], [-1, 10])"
   ],
   "metadata": {
    "collapsed": false
   }
  },
  {
   "cell_type": "code",
   "execution_count": null,
   "outputs": [],
   "source": [
    "\n",
    "#three hundred and sixty fifth function is np.place\n",
    "arr = np.arange(6).reshape(2, 3)\n",
    "print(\"this is a array : \\n\", a)\n",
    "np.place(arr, arr>2, [44, 55])\n",
    "arr"
   ],
   "metadata": {
    "collapsed": false
   }
  },
  {
   "cell_type": "code",
   "execution_count": null,
   "outputs": [],
   "source": [
    "\n",
    "#three hundred and sixty sixth function is np.poly\n",
    "np.poly([1,2,3,4])\n"
   ],
   "metadata": {
    "collapsed": false
   }
  },
  {
   "cell_type": "code",
   "execution_count": null,
   "outputs": [],
   "source": [
    "\n",
    "#three hundred and sixty seventh function is np.poly1d\n",
    "p = np.poly1d([1,2,3,4])\n",
    "p(2)"
   ],
   "metadata": {
    "collapsed": false
   }
  },
  {
   "cell_type": "code",
   "execution_count": null,
   "outputs": [],
   "source": [
    "\n",
    "#three hundred and sixty eighth function is np.polyadd\n",
    "np.polyadd([10, 1, 2], [9, 5, 4])\n"
   ],
   "metadata": {
    "collapsed": false
   }
  },
  {
   "cell_type": "code",
   "execution_count": null,
   "outputs": [],
   "source": [
    "\n",
    "#three hundred and sixty ninth function is np.polyder\n",
    "x = np.poly1d([1,2,3])\n",
    "np.polyder(x)"
   ],
   "metadata": {
    "collapsed": false
   }
  },
  {
   "cell_type": "code",
   "execution_count": null,
   "outputs": [],
   "source": [
    "\n",
    "#three hundred and seventieth function is np.polydiv\n",
    "a = np.array([1,2,3])\n",
    "b = np.array([4,5,6])\n",
    "np.polydiv(a, b)"
   ],
   "metadata": {
    "collapsed": false
   }
  },
  {
   "cell_type": "code",
   "execution_count": null,
   "outputs": [],
   "source": [
    "\n",
    "#three hundred and seventy first function is np.polyfit\n",
    "\n",
    "a = np.array([1,2,3])\n",
    "b = np.array([4,5,6])\n",
    "np.polyfit(a, b, 10)"
   ],
   "metadata": {
    "collapsed": false
   }
  },
  {
   "cell_type": "code",
   "execution_count": null,
   "outputs": [],
   "source": [
    "\n",
    "#three hundred and seventy second function is np.polyint\n",
    "a = np.poly1d([1,2,3])\n",
    "np.polyint(a)"
   ],
   "metadata": {
    "collapsed": false
   }
  },
  {
   "cell_type": "code",
   "execution_count": 368,
   "outputs": [
    {
     "data": {
      "text/plain": "array([ 4, 13, 28, 27, 18])"
     },
     "execution_count": 368,
     "metadata": {},
     "output_type": "execute_result"
    }
   ],
   "source": [
    "\n",
    "#three hundred and seventy third function is np.polymul\n",
    "np.polymul([1,2,3], [4,5,6])\n"
   ],
   "metadata": {
    "collapsed": false
   }
  },
  {
   "cell_type": "code",
   "execution_count": 369,
   "outputs": [
    {
     "data": {
      "text/plain": "array([-1,  1])"
     },
     "execution_count": 369,
     "metadata": {},
     "output_type": "execute_result"
    }
   ],
   "source": [
    "\n",
    "#three hundred and seventy fourth function is np.polynomial\n",
    "np.polynomial.polynomial.polydomain\n"
   ],
   "metadata": {
    "collapsed": false
   }
  },
  {
   "cell_type": "code",
   "execution_count": 370,
   "outputs": [
    {
     "data": {
      "text/plain": "array([-2,  2,  1])"
     },
     "execution_count": 370,
     "metadata": {},
     "output_type": "execute_result"
    }
   ],
   "source": [
    "\n",
    "#three hundred and seventy fifth function is np.polysub\n",
    "np.polysub([1,4,2], [3,2,1])\n",
    "\n"
   ],
   "metadata": {
    "collapsed": false
   }
  },
  {
   "cell_type": "code",
   "execution_count": 371,
   "outputs": [
    {
     "data": {
      "text/plain": "11"
     },
     "execution_count": 371,
     "metadata": {},
     "output_type": "execute_result"
    }
   ],
   "source": [
    "\n",
    "#three hundred and seventy sixth function is np.polyval\n",
    "np.polyval([1,2,3], 2)\n"
   ],
   "metadata": {
    "collapsed": false
   }
  },
  {
   "cell_type": "code",
   "execution_count": 372,
   "outputs": [
    {
     "data": {
      "text/plain": "array([-1,  1,  2, -2])"
     },
     "execution_count": 372,
     "metadata": {},
     "output_type": "execute_result"
    }
   ],
   "source": [
    "\n",
    "#three hundred and seventy seventh function is np.positive\n",
    "np.positive([-1,1,2,-2])\n"
   ],
   "metadata": {
    "collapsed": false
   }
  },
  {
   "cell_type": "code",
   "execution_count": 373,
   "outputs": [
    {
     "data": {
      "text/plain": "array([ 1,  4,  9, 16], dtype=int32)"
     },
     "execution_count": 373,
     "metadata": {},
     "output_type": "execute_result"
    }
   ],
   "source": [
    "\n",
    "#three hundred and seventy eighth function is np.power\n",
    "np.power([1,2,3,4], 2)\n"
   ],
   "metadata": {
    "collapsed": false
   }
  },
  {
   "cell_type": "code",
   "execution_count": 374,
   "outputs": [
    {
     "name": "stdout",
     "output_type": "stream",
     "text": [
      "[0.    0.901 1.802 2.703 3.604 4.505 5.405 6.306 7.207 8.108]\n"
     ]
    }
   ],
   "source": [
    "\n",
    "#three hundred and seventy ninth function is np.printoptions\n",
    "with np.printoptions(precision=3):\n",
    "    print(np.arange(10)/1.11)\n"
   ],
   "metadata": {
    "collapsed": false
   }
  },
  {
   "cell_type": "code",
   "execution_count": 375,
   "outputs": [
    {
     "data": {
      "text/plain": "24"
     },
     "execution_count": 375,
     "metadata": {},
     "output_type": "execute_result"
    }
   ],
   "source": [
    "\n",
    "#three hundred and eightieth function is np.prod\n",
    "np.prod([1,2,3,4])\n"
   ],
   "metadata": {
    "collapsed": false
   }
  },
  {
   "cell_type": "code",
   "execution_count": 376,
   "outputs": [
    {
     "data": {
      "text/plain": "24"
     },
     "execution_count": 376,
     "metadata": {},
     "output_type": "execute_result"
    }
   ],
   "source": [
    "\n",
    "#three hundred and eighty first function is np.product\n",
    "np.product([1,2,3,4])\n"
   ],
   "metadata": {
    "collapsed": false
   }
  },
  {
   "cell_type": "code",
   "execution_count": 377,
   "outputs": [
    {
     "data": {
      "text/plain": "dtype('float32')"
     },
     "execution_count": 377,
     "metadata": {},
     "output_type": "execute_result"
    }
   ],
   "source": [
    "\n",
    "#three hundred and eighty second function is np.promote_types\n",
    "np.promote_types('f4', 'f2')\n"
   ],
   "metadata": {
    "collapsed": false
   }
  },
  {
   "cell_type": "code",
   "execution_count": 378,
   "outputs": [
    {
     "data": {
      "text/plain": "array([4, 4])"
     },
     "execution_count": 378,
     "metadata": {},
     "output_type": "execute_result"
    }
   ],
   "source": [
    "\n",
    "#three hundred and eighty third function is np.ptp\n",
    "x = np.arange(10).reshape(2,-1)\n",
    "np.ptp(x, axis=1)\n"
   ],
   "metadata": {
    "collapsed": false
   }
  },
  {
   "cell_type": "code",
   "execution_count": 379,
   "outputs": [
    {
     "name": "stdout",
     "output_type": "stream",
     "text": [
      "this is a array :  [0 1 2 3 4]\n",
      "this is put array :  [1000    1    2 1000    4]\n"
     ]
    }
   ],
   "source": [
    "\n",
    "#three hundred and eighty fourth function is np.put\n",
    "a = np.arange(5)\n",
    "print(\"this is a array : \", a)\n",
    "np.put(a, [0,3], 1000)\n",
    "print(\"this is put array : \", a)"
   ],
   "metadata": {
    "collapsed": false
   }
  },
  {
   "cell_type": "code",
   "execution_count": 380,
   "outputs": [
    {
     "name": "stdout",
     "output_type": "stream",
     "text": [
      "this is arra : \n",
      " [[0 1 2 3 4]\n",
      " [5 6 7 8 9]]\n",
      "this is put array : \n",
      " [[  0 100   2   3   4]\n",
      " [100   6   7   8   9]]\n"
     ]
    }
   ],
   "source": [
    "\n",
    "#three hundred and eighty fifth function is np.put_along_axis\n",
    "a = np.arange(10).reshape(2,5)\n",
    "print(\"this is arra : \\n\", a)\n",
    "np.put_along_axis(a, np.array([[1],[0]]), 100, axis=1)\n",
    "print(\"this is put array : \\n\", a)"
   ],
   "metadata": {
    "collapsed": false
   }
  },
  {
   "cell_type": "code",
   "execution_count": 381,
   "outputs": [
    {
     "data": {
      "text/plain": "array([1, 4, 9, 4, 5, 6])"
     },
     "execution_count": 381,
     "metadata": {},
     "output_type": "execute_result"
    }
   ],
   "source": [
    "\n",
    "#three hundred and eighty sixth function is np.putmask\n",
    "a = np.array([1,2,3,4,5,6])\n",
    "np.putmask(a, a<4, a**2)\n",
    "a"
   ],
   "metadata": {
    "collapsed": false
   }
  },
  {
   "cell_type": "code",
   "execution_count": 382,
   "outputs": [
    {
     "data": {
      "text/plain": "1.3"
     },
     "execution_count": 382,
     "metadata": {},
     "output_type": "execute_result"
    }
   ],
   "source": [
    "\n",
    "#three hundred and eighty seventh function is np.quantile\n",
    "a = np.array([3,2,1,4])\n",
    "np.quantile(a, 0.1)"
   ],
   "metadata": {
    "collapsed": false
   }
  },
  {
   "cell_type": "code",
   "execution_count": 383,
   "outputs": [
    {
     "name": "stdout",
     "output_type": "stream",
     "text": [
      "[ 57.29577951308232 114.59155902616465 171.88733853924697]\n",
      "[57.29577951308232, 114.59155902616465, 171.88733853924697]\n"
     ]
    }
   ],
   "source": [
    "\n",
    "#three hundred and eighty eighth function is np.rad2deg\n",
    "with np.printoptions(precision=15):\n",
    "    print(np.rad2deg([1,2,3]))\n",
    "    print([180*i/np.pi for i in [1,2,3]])\n"
   ],
   "metadata": {
    "collapsed": false
   }
  },
  {
   "cell_type": "code",
   "execution_count": 384,
   "outputs": [
    {
     "data": {
      "text/plain": "array([0.17, 0.35, 0.52, 0.7 , 0.87, 1.05, 1.22, 1.4 , 1.57])"
     },
     "execution_count": 384,
     "metadata": {},
     "output_type": "execute_result"
    }
   ],
   "source": [
    "\n",
    "#three hundred and eighty ninth function is np.radians\n",
    "arr = np.arange(10,100,10)\n",
    "np.radians(arr)"
   ],
   "metadata": {
    "collapsed": false
   }
  },
  {
   "cell_type": "code",
   "execution_count": 385,
   "outputs": [
    {
     "data": {
      "text/plain": "array([0.8 , 0.11, 0.36, 0.69, 0.45, 0.06, 0.71, 0.24, 0.66, 0.33])"
     },
     "execution_count": 385,
     "metadata": {},
     "output_type": "execute_result"
    }
   ],
   "source": [
    "\n",
    "#three hundred and ninetieth function is np.random\n",
    "\n",
    "np.random.rand(10)"
   ],
   "metadata": {
    "collapsed": false
   }
  },
  {
   "cell_type": "code",
   "execution_count": 386,
   "outputs": [
    {
     "data": {
      "text/plain": "array([1, 2, 3, 5, 4, 2])"
     },
     "execution_count": 386,
     "metadata": {},
     "output_type": "execute_result"
    }
   ],
   "source": [
    "\n",
    "#three hundred and ninety first function is np.ravel\n",
    "a = np.array([[1,2,3],\n",
    "              [5,4,2]])\n",
    "np.ravel(a)"
   ],
   "metadata": {
    "collapsed": false
   }
  },
  {
   "cell_type": "code",
   "execution_count": 387,
   "outputs": [
    {
     "data": {
      "text/plain": "array([11, 16, 20], dtype=int64)"
     },
     "execution_count": 387,
     "metadata": {},
     "output_type": "execute_result"
    }
   ],
   "source": [
    "\n",
    "#three hundred and ninety second function is np.ravel_multi_index\n",
    "a = np.array([[1,2,3],\n",
    "              [5,4,2]])\n",
    "np.ravel_multi_index(a, (7,6))\n"
   ],
   "metadata": {
    "collapsed": false
   }
  },
  {
   "cell_type": "code",
   "execution_count": 388,
   "outputs": [
    {
     "data": {
      "text/plain": "array([10., 11.,  3.])"
     },
     "execution_count": 388,
     "metadata": {},
     "output_type": "execute_result"
    }
   ],
   "source": [
    "\n",
    "#three hundred and ninety third function is np.real\n",
    "x = np.array([10+1j, 11+2j, 3+3j])\n",
    "np.real(x)\n"
   ],
   "metadata": {
    "collapsed": false
   }
  },
  {
   "cell_type": "code",
   "execution_count": 389,
   "outputs": [
    {
     "data": {
      "text/plain": "array([2.1, 5.2])"
     },
     "execution_count": 389,
     "metadata": {},
     "output_type": "execute_result"
    }
   ],
   "source": [
    "\n",
    "#three hundred and ninety fourth function is np.real_if_close\n",
    "a = np.array([2.1 + 4e-14j, 5.2 + 3e-15j])\n",
    "np.real_if_close(a, tol=1000)"
   ],
   "metadata": {
    "collapsed": false
   }
  },
  {
   "cell_type": "code",
   "execution_count": 390,
   "outputs": [
    {
     "data": {
      "text/plain": "rec.array([(nan, 0.e+000), ( 0., 5.e-324)],\n          dtype=[('a', '<f8'), ('b', '<f8')])"
     },
     "execution_count": 390,
     "metadata": {},
     "output_type": "execute_result"
    }
   ],
   "source": [
    "\n",
    "#three hundred and ninety fifth function is np.rec\n",
    "b = np.recarray((2,), dtype=[('a', '<f8'), ('b', '<f8')])\n",
    "b"
   ],
   "metadata": {
    "collapsed": false
   }
  },
  {
   "cell_type": "code",
   "execution_count": 391,
   "outputs": [
    {
     "data": {
      "text/plain": "rec.array([(46.1,  33.72), (46.1, 403.32)],\n          dtype=[('a', '<f8'), ('b', '<f8')])"
     },
     "execution_count": 391,
     "metadata": {},
     "output_type": "execute_result"
    }
   ],
   "source": [
    "\n",
    "#three hundred and ninety sixth function is np.recarray\n",
    "b = np.recarray((2,), dtype=[('a', '<f8'), ('b', '<f8')])\n",
    "b\n"
   ],
   "metadata": {
    "collapsed": false
   }
  },
  {
   "cell_type": "code",
   "execution_count": 392,
   "outputs": [
    {
     "name": "stdout",
     "output_type": "stream",
     "text": [
      "[(0, 1, 2) (3, 4, 5) (6, 7, 8)]\n"
     ]
    }
   ],
   "source": [
    "\n",
    "#three hundred and ninety seventh function is np.recfromcsv\n",
    "filename = 'data.csv'\n",
    "writer = open(filename,mode='w')\n",
    "writer.write('first column,second column,third column\\n')\n",
    "writer.write('0,1,2\\n3,4,5\\n6,7,8')\n",
    "writer.close()\n",
    "\n",
    "data = np.recfromcsv(filename)\n",
    "print(data)\n"
   ],
   "metadata": {
    "collapsed": false
   }
  },
  {
   "cell_type": "code",
   "execution_count": 393,
   "outputs": [
    {
     "name": "stdout",
     "output_type": "stream",
     "text": [
      "[(0, 1, 2) (3, 4, 5) (6, 7, 8)]\n"
     ]
    }
   ],
   "source": [
    "\n",
    "#three hundred and ninety eighth function is np.recfromtxt\n",
    "filename = 'data.txt'\n",
    "writer = open(filename,mode='w')\n",
    "writer.write('first column,second column,third column\\n')\n",
    "writer.write('0,1,2\\n3,4,5\\n6,7,8')\n",
    "writer.close()\n",
    "\n",
    "data = np.recfromcsv(filename)\n",
    "print(data)\n",
    "\n"
   ],
   "metadata": {
    "collapsed": false
   }
  },
  {
   "cell_type": "code",
   "execution_count": 394,
   "outputs": [
    {
     "data": {
      "text/plain": "array([1.  , 0.5 , 0.33, 0.25, 0.2 ])"
     },
     "execution_count": 394,
     "metadata": {},
     "output_type": "execute_result"
    }
   ],
   "source": [
    "\n",
    "#three hundred and ninety eighth function is np.reciprocal\n",
    "\n",
    "np.reciprocal([1,2,3,4,5.0])\n"
   ],
   "metadata": {
    "collapsed": false
   }
  },
  {
   "cell_type": "code",
   "execution_count": 395,
   "outputs": [
    {
     "data": {
      "text/plain": "'A data-type scalar that allows field access as attribute lookup.\\n    '"
     },
     "execution_count": 395,
     "metadata": {},
     "output_type": "execute_result"
    }
   ],
   "source": [
    "\n",
    "#four hundredth function is np.record\n",
    "np.record.__doc__\n"
   ],
   "metadata": {
    "collapsed": false
   }
  },
  {
   "cell_type": "code",
   "execution_count": 396,
   "outputs": [
    {
     "name": "stdout",
     "output_type": "stream",
     "text": [
      "[2 4 1]\n",
      "[2 4 1]\n"
     ]
    }
   ],
   "source": [
    "\n",
    "#four hundred and first function is np.remainder\n",
    "print(np.remainder([10,24,13], [4,5,6]))\n",
    "print(np.array([10,24,13]) % np.array([4,5,6]))\n"
   ],
   "metadata": {
    "collapsed": false
   }
  },
  {
   "cell_type": "code",
   "execution_count": 397,
   "outputs": [
    {
     "data": {
      "text/plain": "array([1, 1, 1, 1, 1, 2, 2, 2])"
     },
     "execution_count": 397,
     "metadata": {},
     "output_type": "execute_result"
    }
   ],
   "source": [
    "\n",
    "#four hundred and second function is np.repeat\n",
    "np.repeat([1,2], [5,3])\n"
   ],
   "metadata": {
    "collapsed": false
   }
  },
  {
   "cell_type": "code",
   "execution_count": 398,
   "outputs": [
    {
     "data": {
      "text/plain": "  C_CONTIGUOUS : True\n  F_CONTIGUOUS : True\n  OWNDATA : True\n  WRITEABLE : True\n  ALIGNED : True\n  WRITEBACKIFCOPY : False"
     },
     "execution_count": 398,
     "metadata": {},
     "output_type": "execute_result"
    }
   ],
   "source": [
    "\n",
    "#four hundred and third function is np.require\n",
    "a = np.array([1,2,3])\n",
    "np.require(a)\n",
    "a.flags"
   ],
   "metadata": {
    "collapsed": false
   }
  },
  {
   "cell_type": "code",
   "execution_count": 399,
   "outputs": [
    {
     "data": {
      "text/plain": "array([[1, 2],\n       [3, 4]])"
     },
     "execution_count": 399,
     "metadata": {},
     "output_type": "execute_result"
    }
   ],
   "source": [
    "\n",
    "#four hundred and fourth function is np.reshape\n",
    "a = np.array([1,2,3,4])\n",
    "np.reshape(a, (2,2))"
   ],
   "metadata": {
    "collapsed": false
   }
  },
  {
   "cell_type": "code",
   "execution_count": 400,
   "outputs": [
    {
     "data": {
      "text/plain": "array([[1, 2, 3, 4, 1],\n       [2, 3, 4, 1, 2]])"
     },
     "execution_count": 400,
     "metadata": {},
     "output_type": "execute_result"
    }
   ],
   "source": [
    "\n",
    "#four hundred and fifth function is np.resize\n",
    "a = np.array([1,2,3,4])\n",
    "np.resize(a, (2,5))\n"
   ],
   "metadata": {
    "collapsed": false
   }
  },
  {
   "cell_type": "code",
   "execution_count": 401,
   "outputs": [
    {
     "name": "stdout",
     "output_type": "stream",
     "text": [
      "int32\n",
      "float64\n"
     ]
    }
   ],
   "source": [
    "\n",
    "#four hundred and sixth function is np.result_type\n",
    "print(np.result_type(3, 2))\n",
    "print(np.result_type(3.2, 2.1))\n"
   ],
   "metadata": {
    "collapsed": false
   }
  },
  {
   "cell_type": "code",
   "execution_count": 402,
   "outputs": [
    {
     "data": {
      "text/plain": "array([5, 2, 1, 0, 0], dtype=int32)"
     },
     "execution_count": 402,
     "metadata": {},
     "output_type": "execute_result"
    }
   ],
   "source": [
    "\n",
    "#four hundred and seventh function is np.right_shift\n",
    "np.right_shift(10,[1,2,3,4,5])\n"
   ],
   "metadata": {
    "collapsed": false
   }
  },
  {
   "cell_type": "code",
   "execution_count": 403,
   "outputs": [
    {
     "data": {
      "text/plain": "array([-0.,  0.,  1.,  1.,  2.,  3.,  2.])"
     },
     "execution_count": 403,
     "metadata": {},
     "output_type": "execute_result"
    }
   ],
   "source": [
    "\n",
    "#four hundred and eighth function is np.rint\n",
    "a = np.array([-0.2, 0.1, 1.1, 1.4, 2.5, 2.7, 1.5])\n",
    "np.rint(a)"
   ],
   "metadata": {
    "collapsed": false
   }
  },
  {
   "cell_type": "code",
   "execution_count": 404,
   "outputs": [
    {
     "name": "stdout",
     "output_type": "stream",
     "text": [
      "this is array : \n",
      " [[ 0  1  2  3  4]\n",
      " [ 5  6  7  8  9]\n",
      " [10 11 12 13 14]\n",
      " [15 16 17 18 19]]\n",
      "this is roll array : \n",
      " [[18 19  0  1  2]\n",
      " [ 3  4  5  6  7]\n",
      " [ 8  9 10 11 12]\n",
      " [13 14 15 16 17]]\n"
     ]
    }
   ],
   "source": [
    "\n",
    "#four hundred and ninth function is np.roll\n",
    "a = np.arange(20).reshape(4,5)\n",
    "print(\"this is array : \\n\", a)\n",
    "\n",
    "print(\"this is roll array : \\n\", np.roll(a, 2))"
   ],
   "metadata": {
    "collapsed": false
   }
  },
  {
   "cell_type": "code",
   "execution_count": 405,
   "outputs": [
    {
     "name": "stdout",
     "output_type": "stream",
     "text": [
      "this is array : \n",
      " [[[ 0]\n",
      "  [ 1]\n",
      "  [ 2]\n",
      "  [ 3]\n",
      "  [ 4]]\n",
      "\n",
      " [[ 5]\n",
      "  [ 6]\n",
      "  [ 7]\n",
      "  [ 8]\n",
      "  [ 9]]\n",
      "\n",
      " [[10]\n",
      "  [11]\n",
      "  [12]\n",
      "  [13]\n",
      "  [14]]\n",
      "\n",
      " [[15]\n",
      "  [16]\n",
      "  [17]\n",
      "  [18]\n",
      "  [19]]]\n",
      "this is roll array : \n",
      " [[[ 0  1  2  3  4]]\n",
      "\n",
      " [[ 5  6  7  8  9]]\n",
      "\n",
      " [[10 11 12 13 14]]\n",
      "\n",
      " [[15 16 17 18 19]]]\n"
     ]
    }
   ],
   "source": [
    "\n",
    "#four hundred and tenth function is np.rollaxis\n",
    "a = np.arange(20).reshape(4,5,1)\n",
    "print(\"this is array : \\n\", a)\n",
    "\n",
    "print(\"this is roll array : \\n\", np.rollaxis(a, 2, 1))\n"
   ],
   "metadata": {
    "collapsed": false
   }
  },
  {
   "cell_type": "code",
   "execution_count": 406,
   "outputs": [
    {
     "data": {
      "text/plain": "array([-1.+1.41j, -1.-1.41j])"
     },
     "execution_count": 406,
     "metadata": {},
     "output_type": "execute_result"
    }
   ],
   "source": [
    "\n",
    "#four hundred and eleventh function is np.roots\n",
    "arr = np.array([1,2,3])\n",
    "np.roots(arr)"
   ],
   "metadata": {
    "collapsed": false
   }
  },
  {
   "cell_type": "code",
   "execution_count": 407,
   "outputs": [
    {
     "name": "stdout",
     "output_type": "stream",
     "text": [
      "this is array : \n",
      " [[1 2]\n",
      " [3 4]]\n",
      "this is rot90 array : \n",
      " [[2 4]\n",
      " [1 3]]\n"
     ]
    }
   ],
   "source": [
    "\n",
    "#four hundred and twelveth function is np.rot90\n",
    "a = np.array([[1,2], [3,4]])\n",
    "print(\"this is array : \\n\", a)\n",
    "\n",
    "print(\"this is rot90 array : \\n\", np.rot90(a))"
   ],
   "metadata": {
    "collapsed": false
   }
  },
  {
   "cell_type": "code",
   "execution_count": 408,
   "outputs": [
    {
     "data": {
      "text/plain": "array([2., 3.])"
     },
     "execution_count": 408,
     "metadata": {},
     "output_type": "execute_result"
    }
   ],
   "source": [
    "\n",
    "#four hundred and thirteenth function is np.round\n",
    "np.round([1.9438934,2.56832])\n"
   ],
   "metadata": {
    "collapsed": false
   }
  },
  {
   "cell_type": "code",
   "execution_count": 409,
   "outputs": [
    {
     "data": {
      "text/plain": "array([1., 5.])"
     },
     "execution_count": 409,
     "metadata": {},
     "output_type": "execute_result"
    }
   ],
   "source": [
    "\n",
    "#four hundred and fourteenth function is np.round_\n",
    "np.round_([1.1342, 4.652])\n"
   ],
   "metadata": {
    "collapsed": false
   }
  },
  {
   "cell_type": "code",
   "execution_count": 410,
   "outputs": [
    {
     "data": {
      "text/plain": "array([[1, 2, 3, 4],\n       [5, 6, 7, 8]])"
     },
     "execution_count": 410,
     "metadata": {},
     "output_type": "execute_result"
    }
   ],
   "source": [
    "\n",
    "#four hundred and fifteenth function is np.row_stack\n",
    "a = np.array([1,2,3,4])\n",
    "b = np.array([5,6,7,8])\n",
    "np.vstack((a,b))"
   ],
   "metadata": {
    "collapsed": false
   }
  },
  {
   "cell_type": "code",
   "execution_count": 411,
   "outputs": [
    {
     "data": {
      "text/plain": "'\\n    Protected string evaluation.\\n\\n    Evaluate a string containing a Python literal expression without\\n    allowing the execution of arbitrary non-literal code.\\n\\n    Parameters\\n    ----------\\n    source : str\\n        The string to evaluate.\\n\\n    Returns\\n    -------\\n    obj : object\\n       The result of evaluating `source`.\\n\\n    Raises\\n    ------\\n    SyntaxError\\n        If the code has invalid Python syntax, or if it contains\\n        non-literal code.\\n\\n    Examples\\n    --------\\n    >>> np.safe_eval(\\'1\\')\\n    1\\n    >>> np.safe_eval(\\'[1, 2, 3]\\')\\n    [1, 2, 3]\\n    >>> np.safe_eval(\\'{\"foo\": (\"bar\", 10.0)}\\')\\n    {\\'foo\\': (\\'bar\\', 10.0)}\\n\\n    >>> np.safe_eval(\\'import os\\')\\n    Traceback (most recent call last):\\n      ...\\n    SyntaxError: invalid syntax\\n\\n    >>> np.safe_eval(\\'open(\"/home/user/.ssh/id_dsa\").read()\\')\\n    Traceback (most recent call last):\\n      ...\\n    ValueError: malformed node or string: <_ast.Call object at 0x...>\\n\\n    '"
     },
     "execution_count": 411,
     "metadata": {},
     "output_type": "execute_result"
    }
   ],
   "source": [
    "\n",
    "#four hundred and sixteenth function is np.safe_eval\n",
    "np.safe_eval.__doc__\n"
   ],
   "metadata": {
    "collapsed": false
   }
  },
  {
   "cell_type": "code",
   "execution_count": 412,
   "outputs": [
    {
     "name": "stdout",
     "output_type": "stream",
     "text": [
      "[1 2 3 4 5]\n"
     ]
    }
   ],
   "source": [
    "\n",
    "#four hundred and seventeenth function is np.save\n",
    "with open('test.npy', 'wb') as f:\n",
    "    a = np.array([1,2,3,4,5])\n",
    "    np.save(f, a)\n",
    "\n",
    "with open('test.npy', 'rb') as f:\n",
    "    a = np.load(f)\n",
    "    print(a)\n"
   ],
   "metadata": {
    "collapsed": false
   }
  },
  {
   "cell_type": "code",
   "execution_count": 413,
   "outputs": [
    {
     "name": "stdout",
     "output_type": "stream",
     "text": [
      "[1. 2. 3.]\n"
     ]
    }
   ],
   "source": [
    "\n",
    "#four hundred and eighteenth function is np.savetxt\n",
    "arr = np.array([1,2,3])\n",
    "np.savetxt('savetxt_test.txt', arr)\n",
    "\n",
    "with open('savetxt_test.txt', 'rb') as f:\n",
    "    x = np.loadtxt(f)\n",
    "    print(x)"
   ],
   "metadata": {
    "collapsed": false
   }
  },
  {
   "cell_type": "code",
   "execution_count": 414,
   "outputs": [
    {
     "data": {
      "text/plain": "array(['hi1', 'hi2', 'hi3'], dtype='<U3')"
     },
     "execution_count": 414,
     "metadata": {},
     "output_type": "execute_result"
    }
   ],
   "source": [
    "\n",
    "#four hundred and nineteenth function is np.savez\n",
    "a = np.array(['hi1', 'hi2', 'hi3'])\n",
    "np.savez('test_savez.npz', data=a)\n",
    "d = np.load('test_savez.npz')\n",
    "d['data']"
   ],
   "metadata": {
    "collapsed": false
   }
  },
  {
   "cell_type": "code",
   "execution_count": 415,
   "outputs": [
    {
     "data": {
      "text/plain": "array(['hi1', 'hi2', 'hi3'], dtype='<U3')"
     },
     "execution_count": 415,
     "metadata": {},
     "output_type": "execute_result"
    }
   ],
   "source": [
    "\n",
    "#four hundred and twentieth function is np.savez_compressed\n",
    "a = np.array(['hi1', 'hi2', 'hi3'])\n",
    "np.savez_compressed('test_savez.npz', data=a)\n",
    "d = np.load('test_savez.npz')\n",
    "d['data']\n"
   ],
   "metadata": {
    "collapsed": false
   }
  },
  {
   "cell_type": "code",
   "execution_count": 416,
   "outputs": [
    {
     "data": {
      "text/plain": "'S'"
     },
     "execution_count": 416,
     "metadata": {},
     "output_type": "execute_result"
    }
   ],
   "source": [
    "\n",
    "#four hundred and twenty first function is np.sctype2char\n",
    "np.sctype2char('a')\n"
   ],
   "metadata": {
    "collapsed": false
   }
  },
  {
   "cell_type": "code",
   "execution_count": 417,
   "outputs": [
    {
     "data": {
      "text/plain": "{'?': numpy.bool_,\n 0: numpy.bool_,\n 'byte': numpy.int8,\n 'b': numpy.int8,\n 1: numpy.int8,\n 'ubyte': numpy.uint8,\n 'B': numpy.uint8,\n 2: numpy.uint8,\n 'short': numpy.int16,\n 'h': numpy.int16,\n 3: numpy.int16,\n 'ushort': numpy.uint16,\n 'H': numpy.uint16,\n 4: numpy.uint16,\n 'i': numpy.intc,\n 5: numpy.intc,\n 'uint': numpy.uint32,\n 'I': numpy.uintc,\n 6: numpy.uintc,\n 'intp': numpy.int64,\n 'p': numpy.int64,\n 9: numpy.int64,\n 'uintp': numpy.uint64,\n 'P': numpy.uint64,\n 10: numpy.uint64,\n 'long': numpy.int32,\n 'l': numpy.int32,\n 7: numpy.int32,\n 'ulong': numpy.uint32,\n 'L': numpy.uint32,\n 8: numpy.uint32,\n 'longlong': numpy.int64,\n 'q': numpy.int64,\n 'ulonglong': numpy.uint64,\n 'Q': numpy.uint64,\n 'half': numpy.float16,\n 'e': numpy.float16,\n 23: numpy.float16,\n 'f': numpy.float32,\n 11: numpy.float32,\n 'double': numpy.float64,\n 'd': numpy.float64,\n 12: numpy.float64,\n 'longdouble': numpy.longdouble,\n 'g': numpy.longdouble,\n 13: numpy.longdouble,\n 'cfloat': numpy.complex128,\n 'F': numpy.complex64,\n 14: numpy.complex64,\n 'cdouble': numpy.complex128,\n 'D': numpy.complex128,\n 15: numpy.complex128,\n 'clongdouble': numpy.clongdouble,\n 'G': numpy.clongdouble,\n 16: numpy.clongdouble,\n 'O': numpy.object_,\n 17: numpy.object_,\n 'S': numpy.bytes_,\n 18: numpy.bytes_,\n 'unicode': numpy.str_,\n 'U': numpy.str_,\n 19: numpy.str_,\n 'void': numpy.void,\n 'V': numpy.void,\n 20: numpy.void,\n 'M': numpy.datetime64,\n 21: numpy.datetime64,\n 'm': numpy.timedelta64,\n 22: numpy.timedelta64,\n 'bool8': numpy.bool_,\n 'b1': numpy.bool_,\n 'int64': numpy.int64,\n 'i8': numpy.int64,\n 'uint64': numpy.uint64,\n 'u8': numpy.uint64,\n 'float16': numpy.float16,\n 'f2': numpy.float16,\n 'float32': numpy.float32,\n 'f4': numpy.float32,\n 'float64': numpy.float64,\n 'f8': numpy.float64,\n 'complex64': numpy.complex64,\n 'c8': numpy.complex64,\n 'complex128': numpy.complex128,\n 'c16': numpy.complex128,\n 'object0': numpy.object_,\n 'bytes0': numpy.bytes_,\n 'str0': numpy.str_,\n 'void0': numpy.void,\n 'datetime64': numpy.datetime64,\n 'M8': numpy.datetime64,\n 'timedelta64': numpy.timedelta64,\n 'm8': numpy.timedelta64,\n 'int32': numpy.int32,\n 'i4': numpy.int32,\n 'uint32': numpy.uint32,\n 'u4': numpy.uint32,\n 'int16': numpy.int16,\n 'i2': numpy.int16,\n 'uint16': numpy.uint16,\n 'u2': numpy.uint16,\n 'int8': numpy.int8,\n 'i1': numpy.int8,\n 'uint8': numpy.uint8,\n 'u1': numpy.uint8,\n 'complex_': numpy.complex128,\n 'int0': numpy.int64,\n 'uint0': numpy.uint64,\n 'single': numpy.float32,\n 'csingle': numpy.complex64,\n 'singlecomplex': numpy.complex64,\n 'float_': numpy.float64,\n 'intc': numpy.intc,\n 'uintc': numpy.uintc,\n 'int_': numpy.int32,\n 'longfloat': numpy.longdouble,\n 'clongfloat': numpy.clongdouble,\n 'longcomplex': numpy.clongdouble,\n 'bool_': numpy.bool_,\n 'bytes_': numpy.bytes_,\n 'string_': numpy.bytes_,\n 'str_': numpy.str_,\n 'unicode_': numpy.str_,\n 'object_': numpy.object_,\n 'int': numpy.int32,\n 'float': numpy.float64,\n 'complex': numpy.complex128,\n 'bool': numpy.bool_,\n 'object': numpy.object_,\n 'str': numpy.str_,\n 'bytes': numpy.bytes_,\n 'a': numpy.bytes_}"
     },
     "execution_count": 417,
     "metadata": {},
     "output_type": "execute_result"
    }
   ],
   "source": [
    "\n",
    "#four hundred and twenty second function is np.sctypeDict\n",
    "np.sctypeDict\n"
   ],
   "metadata": {
    "collapsed": false
   }
  },
  {
   "cell_type": "code",
   "execution_count": 418,
   "outputs": [
    {
     "data": {
      "text/plain": "{'int': [numpy.int8, numpy.int16, numpy.int32, numpy.int64],\n 'uint': [numpy.uint8, numpy.uint16, numpy.uint32, numpy.uint64],\n 'float': [numpy.float16, numpy.float32, numpy.float64],\n 'complex': [numpy.complex64, numpy.complex128],\n 'others': [bool, object, bytes, str, numpy.void]}"
     },
     "execution_count": 418,
     "metadata": {},
     "output_type": "execute_result"
    }
   ],
   "source": [
    "\n",
    "#four hundred and twenty third function is np.sctypes\n",
    "np.sctypes\n"
   ],
   "metadata": {
    "collapsed": false
   }
  },
  {
   "cell_type": "code",
   "execution_count": 419,
   "outputs": [
    {
     "data": {
      "text/plain": "4"
     },
     "execution_count": 419,
     "metadata": {},
     "output_type": "execute_result"
    }
   ],
   "source": [
    "\n",
    "#four hundred and twenty fourth function is np.searchsorted\n",
    "np.searchsorted([10,2,1,2,4,3], 3)\n"
   ],
   "metadata": {
    "collapsed": false
   }
  },
  {
   "cell_type": "code",
   "execution_count": 420,
   "outputs": [
    {
     "data": {
      "text/plain": "array([    1,     2, 10000,    40,    50,    60])"
     },
     "execution_count": 420,
     "metadata": {},
     "output_type": "execute_result"
    }
   ],
   "source": [
    "\n",
    "#four hundred and twenty fifth function is np.select\n",
    "a = np.array([1,2,3,4,5,6])\n",
    "np.select([a<3, a>3], [a*1, a*10], 10000)"
   ],
   "metadata": {
    "collapsed": false
   }
  },
  {
   "cell_type": "code",
   "execution_count": 421,
   "outputs": [
    {
     "data": {
      "text/plain": "{'add': <ufunc 'add'>,\n 'subtract': <ufunc 'subtract'>,\n 'multiply': <ufunc 'multiply'>,\n 'divide': <ufunc 'divide'>,\n 'remainder': <ufunc 'remainder'>,\n 'divmod': <ufunc 'divmod'>,\n 'power': <ufunc 'power'>,\n 'square': <ufunc 'square'>,\n 'reciprocal': <ufunc 'reciprocal'>,\n '_ones_like': <ufunc '_ones_like'>,\n 'sqrt': <ufunc 'sqrt'>,\n 'negative': <ufunc 'negative'>,\n 'positive': <ufunc 'positive'>,\n 'absolute': <ufunc 'absolute'>,\n 'invert': <ufunc 'invert'>,\n 'left_shift': <ufunc 'left_shift'>,\n 'right_shift': <ufunc 'right_shift'>,\n 'bitwise_and': <ufunc 'bitwise_and'>,\n 'bitwise_or': <ufunc 'bitwise_or'>,\n 'bitwise_xor': <ufunc 'bitwise_xor'>,\n 'less': <ufunc 'less'>,\n 'less_equal': <ufunc 'less_equal'>,\n 'equal': <ufunc 'equal'>,\n 'not_equal': <ufunc 'not_equal'>,\n 'greater': <ufunc 'greater'>,\n 'greater_equal': <ufunc 'greater_equal'>,\n 'floor_divide': <ufunc 'floor_divide'>,\n 'true_divide': <ufunc 'divide'>,\n 'logical_or': <ufunc 'logical_or'>,\n 'logical_and': <ufunc 'logical_and'>,\n 'floor': <ufunc 'floor'>,\n 'ceil': <ufunc 'ceil'>,\n 'maximum': <ufunc 'maximum'>,\n 'minimum': <ufunc 'minimum'>,\n 'rint': <ufunc 'rint'>,\n 'conjugate': <ufunc 'conjugate'>,\n 'matmul': <ufunc 'matmul'>,\n 'clip': <ufunc 'clip'>}"
     },
     "execution_count": 421,
     "metadata": {},
     "output_type": "execute_result"
    }
   ],
   "source": [
    "\n",
    "#four hundred and twenty sixth function is np.set_numeric_ops\n",
    "np.set_numeric_ops()\n"
   ],
   "metadata": {
    "collapsed": false
   }
  },
  {
   "cell_type": "code",
   "execution_count": 422,
   "outputs": [
    {
     "name": "stdout",
     "output_type": "stream",
     "text": [
      "[1.42 2.34]\n"
     ]
    }
   ],
   "source": [
    "\n",
    "#four hundred and twenty seventh function is np.set_printoptions\n",
    "np.set_printoptions(precision=2)\n",
    "print(np.array([1.42343, 2.3423]))\n"
   ],
   "metadata": {
    "collapsed": false
   }
  },
  {
   "cell_type": "code",
   "execution_count": 423,
   "outputs": [
    {
     "data": {
      "text/plain": "this is array :  ! [0 1 2 3 4 5 6 7 8 9]"
     },
     "execution_count": 423,
     "metadata": {},
     "output_type": "execute_result"
    }
   ],
   "source": [
    "\n",
    "#four hundred and twenty eighth function is np.set_string_function\n",
    "\n",
    "def ff(arr):\n",
    "    return f'this is array :  ! {arr}'\n",
    "\n",
    "np.set_string_function(ff)\n",
    "a = np.arange(10)\n",
    "a\n"
   ],
   "metadata": {
    "collapsed": false
   }
  },
  {
   "cell_type": "code",
   "execution_count": 424,
   "outputs": [
    {
     "data": {
      "text/plain": "16"
     },
     "execution_count": 424,
     "metadata": {},
     "output_type": "execute_result"
    }
   ],
   "source": [
    "\n",
    "#four hundred and twenty ninth function is np.setbufsize\n",
    "np.setbufsize(16)\n"
   ],
   "metadata": {
    "collapsed": false
   }
  },
  {
   "cell_type": "code",
   "execution_count": 425,
   "outputs": [
    {
     "data": {
      "text/plain": "this is array :  ! [4 6]"
     },
     "execution_count": 425,
     "metadata": {},
     "output_type": "execute_result"
    }
   ],
   "source": [
    "\n",
    "#four hundred and thirtieth function is np.setdiff1d\n",
    "a = np.array([1,2,3,4,6])\n",
    "b = np.array([1,2,3,5,7])\n",
    "np.setdiff1d(a, b)"
   ],
   "metadata": {
    "collapsed": false
   }
  },
  {
   "cell_type": "code",
   "execution_count": 426,
   "outputs": [
    {
     "name": "stdout",
     "output_type": "stream",
     "text": [
      "first :  nan\n",
      "second :  nan\n"
     ]
    },
    {
     "name": "stderr",
     "output_type": "stream",
     "text": [
      "C:\\Users\\student.ASTRUM-DOMAIN\\AppData\\Local\\Temp\\ipykernel_7068\\3436931307.py:6: RuntimeWarning: invalid value encountered in sqrt\n",
      "  print(\"second : \", np.sqrt(-1))\n"
     ]
    }
   ],
   "source": [
    "\n",
    "#four hundred and thirty first function is np.seterr\n",
    "np.seterr(all='print')\n",
    "print(\"first : \", np.sqrt(-1))\n",
    "\n",
    "np.seterr(all='warn')\n",
    "print(\"second : \", np.sqrt(-1))"
   ],
   "metadata": {
    "collapsed": false
   }
  },
  {
   "cell_type": "code",
   "execution_count": 427,
   "outputs": [
    {
     "name": "stdout",
     "output_type": "stream",
     "text": [
      "this is error 1\n"
     ]
    },
    {
     "data": {
      "text/plain": "this is array :  ! [inf inf inf]"
     },
     "execution_count": 427,
     "metadata": {},
     "output_type": "execute_result"
    }
   ],
   "source": [
    "\n",
    "#four hundred and thirty second function is np.seterrcall\n",
    "def err_handler(type, flag):\n",
    "    print(f\"this is error {flag}\")\n",
    "\n",
    "saved_handler = np.seterrcall(err_handler)\n",
    "save_err = np.seterr(all='call')\n",
    "np.array([1, 2, 3]) / 0.0\n"
   ],
   "metadata": {
    "collapsed": false
   }
  },
  {
   "cell_type": "code",
   "execution_count": 428,
   "outputs": [
    {
     "data": {
      "text/plain": "[16, 1755, <function __main__.err_handler(type, flag)>]"
     },
     "execution_count": 428,
     "metadata": {},
     "output_type": "execute_result"
    }
   ],
   "source": [
    "\n",
    "#four hundred and thirty third function is np.seterrobj\n",
    "np.geterrobj()\n"
   ],
   "metadata": {
    "collapsed": false
   }
  },
  {
   "cell_type": "code",
   "execution_count": 429,
   "outputs": [
    {
     "data": {
      "text/plain": "this is array :  ! [3 4 5 6]"
     },
     "execution_count": 429,
     "metadata": {},
     "output_type": "execute_result"
    }
   ],
   "source": [
    "\n",
    "#four hundred and thirty fourth function is np.setxor1d\n",
    "a = np.array([1,2,3,4])\n",
    "b = np.array([1,2,5,6])\n",
    "np.setxor1d(a,b)"
   ],
   "metadata": {
    "collapsed": false
   }
  },
  {
   "cell_type": "code",
   "execution_count": 430,
   "outputs": [
    {
     "data": {
      "text/plain": "(1, 3)"
     },
     "execution_count": 430,
     "metadata": {},
     "output_type": "execute_result"
    }
   ],
   "source": [
    "\n",
    "#four hundred and thirty fifth function is np.shape\n",
    "a = np.array([[1,2,3]])\n",
    "np.shape(a)"
   ],
   "metadata": {
    "collapsed": false
   }
  },
  {
   "cell_type": "code",
   "execution_count": 431,
   "outputs": [
    {
     "name": "stdout",
     "output_type": "stream",
     "text": [
      "False\n",
      "True\n"
     ]
    }
   ],
   "source": [
    "\n",
    "#four hundred and thirty sixth function is np.shares_memory\n",
    "a = np.array([1,2,3])\n",
    "print(np.shares_memory(a, np.array([1,2,3])))\n",
    "print(np.shares_memory(a, a[::2]))\n"
   ],
   "metadata": {
    "collapsed": false
   }
  },
  {
   "cell_type": "code",
   "execution_count": 432,
   "outputs": [
    {
     "data": {
      "text/plain": "numpy.int16"
     },
     "execution_count": 432,
     "metadata": {},
     "output_type": "execute_result"
    }
   ],
   "source": [
    "\n",
    "#four hundred and thirty seventh function is np.short\n",
    "np.short\n"
   ],
   "metadata": {
    "collapsed": false
   }
  },
  {
   "cell_type": "code",
   "execution_count": 433,
   "outputs": [
    {
     "name": "stdout",
     "output_type": "stream",
     "text": [
      "openblas64__info:\n",
      "    library_dirs = ['D:\\\\a\\\\numpy\\\\numpy\\\\build\\\\openblas64__info']\n",
      "    libraries = ['openblas64__info']\n",
      "    language = f77\n",
      "    define_macros = [('HAVE_CBLAS', None), ('BLAS_SYMBOL_SUFFIX', '64_'), ('HAVE_BLAS_ILP64', None)]\n",
      "blas_ilp64_opt_info:\n",
      "    library_dirs = ['D:\\\\a\\\\numpy\\\\numpy\\\\build\\\\openblas64__info']\n",
      "    libraries = ['openblas64__info']\n",
      "    language = f77\n",
      "    define_macros = [('HAVE_CBLAS', None), ('BLAS_SYMBOL_SUFFIX', '64_'), ('HAVE_BLAS_ILP64', None)]\n",
      "openblas64__lapack_info:\n",
      "    library_dirs = ['D:\\\\a\\\\numpy\\\\numpy\\\\build\\\\openblas64__lapack_info']\n",
      "    libraries = ['openblas64__lapack_info']\n",
      "    language = f77\n",
      "    define_macros = [('HAVE_CBLAS', None), ('BLAS_SYMBOL_SUFFIX', '64_'), ('HAVE_BLAS_ILP64', None), ('HAVE_LAPACKE', None)]\n",
      "lapack_ilp64_opt_info:\n",
      "    library_dirs = ['D:\\\\a\\\\numpy\\\\numpy\\\\build\\\\openblas64__lapack_info']\n",
      "    libraries = ['openblas64__lapack_info']\n",
      "    language = f77\n",
      "    define_macros = [('HAVE_CBLAS', None), ('BLAS_SYMBOL_SUFFIX', '64_'), ('HAVE_BLAS_ILP64', None), ('HAVE_LAPACKE', None)]\n",
      "Supported SIMD extensions in this NumPy install:\n",
      "    baseline = SSE,SSE2,SSE3\n",
      "    found = SSSE3,SSE41,POPCNT,SSE42,AVX,F16C,FMA3,AVX2\n",
      "    not found = AVX512F,AVX512CD,AVX512_SKX,AVX512_CLX,AVX512_CNL,AVX512_ICL\n"
     ]
    }
   ],
   "source": [
    "\n",
    "#four hundred and thirty eighth function is np.show_config\n",
    "np.show_config()\n"
   ],
   "metadata": {
    "collapsed": false
   }
  },
  {
   "cell_type": "code",
   "execution_count": 434,
   "outputs": [
    {
     "data": {
      "text/plain": "this is array :  ! [-1  0  1  1]"
     },
     "execution_count": 434,
     "metadata": {},
     "output_type": "execute_result"
    }
   ],
   "source": [
    "\n",
    "#four hundred and thirty ninth function is np.sign\n",
    "np.sign(np.array([-1,0,1,2]))\n"
   ],
   "metadata": {
    "collapsed": false
   }
  },
  {
   "cell_type": "code",
   "execution_count": 435,
   "outputs": [
    {
     "data": {
      "text/plain": "this is array :  ! [ True  True False False]"
     },
     "execution_count": 435,
     "metadata": {},
     "output_type": "execute_result"
    }
   ],
   "source": [
    "\n",
    "#four hundred and fortieth function is np.signbit\n",
    "np.signbit(np.array([-1,-2,0,1]))\n"
   ],
   "metadata": {
    "collapsed": false
   }
  },
  {
   "cell_type": "code",
   "execution_count": 436,
   "outputs": [
    {
     "data": {
      "text/plain": "[numpy.signedinteger, numpy.integer, numpy.number, numpy.generic, object]"
     },
     "execution_count": 436,
     "metadata": {},
     "output_type": "execute_result"
    }
   ],
   "source": [
    "\n",
    "#four hundred and fourty first function is np.signedinteger\n",
    "np.signedinteger.mro()\n",
    "\n"
   ],
   "metadata": {
    "collapsed": false
   }
  },
  {
   "cell_type": "code",
   "execution_count": 437,
   "outputs": [
    {
     "data": {
      "text/plain": "[<matplotlib.lines.Line2D at 0x29f2f4e20a0>]"
     },
     "execution_count": 437,
     "metadata": {},
     "output_type": "execute_result"
    },
    {
     "data": {
      "text/plain": "<Figure size 640x480 with 1 Axes>",
      "image/png": "[encoded data removed]"
     },
     "metadata": {},
     "output_type": "display_data"
    }
   ],
   "source": [
    "\n",
    "#four hundred and fourty second function is np.sin\n",
    "x = np.sin(np.array([1,2,3,4,2,1]))\n",
    "import matplotlib.pyplot as plt\n",
    "plt.plot(x)"
   ],
   "metadata": {
    "collapsed": false
   }
  },
  {
   "cell_type": "code",
   "execution_count": 438,
   "outputs": [
    {
     "data": {
      "text/plain": "[<matplotlib.lines.Line2D at 0x29f2f569220>]"
     },
     "execution_count": 438,
     "metadata": {},
     "output_type": "execute_result"
    },
    {
     "data": {
      "text/plain": "<Figure size 640x480 with 1 Axes>",
      "image/png": "[encoded data removed]"
     },
     "metadata": {},
     "output_type": "display_data"
    }
   ],
   "source": [
    "\n",
    "#four hundred and fourty third function is np.sinc\n",
    "x = np.sinc(np.array([1,2,3,4,2,1]))\n",
    "import matplotlib.pyplot as plt\n",
    "plt.plot(x)\n"
   ],
   "metadata": {
    "collapsed": false
   }
  },
  {
   "cell_type": "code",
   "execution_count": 439,
   "outputs": [
    {
     "data": {
      "text/plain": "numpy.float32"
     },
     "execution_count": 439,
     "metadata": {},
     "output_type": "execute_result"
    }
   ],
   "source": [
    "\n",
    "#four hundred and fourty fourth function is np.single\n",
    "np.single\n"
   ],
   "metadata": {
    "collapsed": false
   }
  },
  {
   "cell_type": "code",
   "execution_count": 440,
   "outputs": [
    {
     "data": {
      "text/plain": "numpy.complex64"
     },
     "execution_count": 440,
     "metadata": {},
     "output_type": "execute_result"
    }
   ],
   "source": [
    "\n",
    "#four hundred and fourty fifth function is np.singlecomplex\n",
    "np.singlecomplex\n"
   ],
   "metadata": {
    "collapsed": false
   }
  },
  {
   "cell_type": "code",
   "execution_count": 441,
   "outputs": [
    {
     "data": {
      "text/plain": "this is array :  ! [ 1.18  3.63 10.02 27.29]"
     },
     "execution_count": 441,
     "metadata": {},
     "output_type": "execute_result"
    }
   ],
   "source": [
    "\n",
    "#four hundred and fourty sixth function is np.sinh\n",
    "np.sinh(np.array([1,2,3,4]))\n"
   ],
   "metadata": {
    "collapsed": false
   }
  },
  {
   "cell_type": "code",
   "execution_count": 442,
   "outputs": [
    {
     "name": "stdout",
     "output_type": "stream",
     "text": [
      "4\n"
     ]
    },
    {
     "data": {
      "text/plain": "4"
     },
     "execution_count": 442,
     "metadata": {},
     "output_type": "execute_result"
    }
   ],
   "source": [
    "\n",
    "#four hundred and fourty seventh function is np.size\n",
    "a = np.array([1,2,3,4])\n",
    "print(np.size(a))\n",
    "a.size"
   ],
   "metadata": {
    "collapsed": false
   }
  },
  {
   "cell_type": "code",
   "execution_count": 443,
   "outputs": [
    {
     "data": {
      "text/plain": "False"
     },
     "execution_count": 443,
     "metadata": {},
     "output_type": "execute_result"
    }
   ],
   "source": [
    "\n",
    "#four hundred and fourty eighth function is np.sometrue\n",
    "a = np.array([True, False, False])\n",
    "b = np.array([0, False, False])\n",
    "np.sometrue(a)\n",
    "np.sometrue(b)"
   ],
   "metadata": {
    "collapsed": false
   }
  },
  {
   "cell_type": "code",
   "execution_count": 444,
   "outputs": [
    {
     "name": "stdout",
     "output_type": "stream",
     "text": [
      "sort axis1 : \n",
      " [[-0.92  0.95]\n",
      " [ 0.55  1.66]\n",
      " [-0.93 -0.66]\n",
      " [ 0.22  1.01]\n",
      " [-1.01 -0.44]]\n",
      "sort axis0 : \n",
      " [[-0.93 -1.01]\n",
      " [-0.92 -0.66]\n",
      " [-0.44  0.55]\n",
      " [ 0.22  0.95]\n",
      " [ 1.66  1.01]]\n",
      "sort axis None : \n",
      " [-1.01 -0.93 -0.92 -0.66 -0.44  0.22  0.55  0.95  1.01  1.66]\n"
     ]
    }
   ],
   "source": [
    "\n",
    "#four hundred and fourty ninth function is np.sort\n",
    "a = np.random.randn(10).reshape(5,2)\n",
    "print(\"sort axis1 : \\n\", np.sort(a, axis=1))\n",
    "print(\"sort axis0 : \\n\", np.sort(a, axis=0))\n",
    "print(\"sort axis None : \\n\", np.sort(a, axis=None))"
   ],
   "metadata": {
    "collapsed": false
   }
  },
  {
   "cell_type": "code",
   "execution_count": 445,
   "outputs": [
    {
     "data": {
      "text/plain": "this is array :  ! [1.+0.j 2.+0.j 3.+0.j 5.+0.j 6.+0.j]"
     },
     "execution_count": 445,
     "metadata": {},
     "output_type": "execute_result"
    }
   ],
   "source": [
    "\n",
    "#four hundred and fiftieth function is np.sort_complex\n",
    "np.sort_complex([5, 3, 6, 2, 1])\n"
   ],
   "metadata": {
    "collapsed": false
   }
  },
  {
   "cell_type": "code",
   "execution_count": 446,
   "outputs": [
    {
     "name": "stdout",
     "output_type": "stream",
     "text": [
      "In file: <__array_function__ internals>\n",
      "\n",
      "@array_function_dispatch(_interp_dispatcher)\n",
      "def interp(x, xp, fp, left=None, right=None, period=None):\n",
      "    \"\"\"\n",
      "    One-dimensional linear interpolation for monotonically increasing sample points.\n",
      "\n",
      "    Returns the one-dimensional piecewise linear interpolant to a function\n",
      "    with given discrete data points (`xp`, `fp`), evaluated at `x`.\n",
      "\n",
      "    Parameters\n",
      "    ----------\n",
      "    x : array_like\n",
      "        The x-coordinates at which to evaluate the interpolated values.\n",
      "\n",
      "    xp : 1-D sequence of floats\n",
      "        The x-coordinates of the data points, must be increasing if argument\n",
      "        `period` is not specified. Otherwise, `xp` is internally sorted after\n",
      "        normalizing the periodic boundaries with ``xp = xp % period``.\n",
      "\n",
      "    fp : 1-D sequence of float or complex\n",
      "        The y-coordinates of the data points, same length as `xp`.\n",
      "\n",
      "    left : optional float or complex corresponding to fp\n",
      "        Value to return for `x < xp[0]`, default is `fp[0]`.\n",
      "\n",
      "    right : optional float or complex corresponding to fp\n",
      "        Value to return for `x > xp[-1]`, default is `fp[-1]`.\n",
      "\n",
      "    period : None or float, optional\n",
      "        A period for the x-coordinates. This parameter allows the proper\n",
      "        interpolation of angular x-coordinates. Parameters `left` and `right`\n",
      "        are ignored if `period` is specified.\n",
      "\n",
      "        .. versionadded:: 1.10.0\n",
      "\n",
      "    Returns\n",
      "    -------\n",
      "    y : float or complex (corresponding to fp) or ndarray\n",
      "        The interpolated values, same shape as `x`.\n",
      "\n",
      "    Raises\n",
      "    ------\n",
      "    ValueError\n",
      "        If `xp` and `fp` have different length\n",
      "        If `xp` or `fp` are not 1-D sequences\n",
      "        If `period == 0`\n",
      "\n",
      "    See Also\n",
      "    --------\n",
      "    scipy.interpolate\n",
      "\n",
      "    Warnings\n",
      "    --------\n",
      "    The x-coordinate sequence is expected to be increasing, but this is not\n",
      "    explicitly enforced.  However, if the sequence `xp` is non-increasing,\n",
      "    interpolation results are meaningless.\n",
      "\n",
      "    Note that, since NaN is unsortable, `xp` also cannot contain NaNs.\n",
      "\n",
      "    A simple check for `xp` being strictly increasing is::\n",
      "\n",
      "        np.all(np.diff(xp) > 0)\n",
      "\n",
      "    Examples\n",
      "    --------\n",
      "    >>> xp = [1, 2, 3]\n",
      "    >>> fp = [3, 2, 0]\n",
      "    >>> np.interp(2.5, xp, fp)\n",
      "    1.0\n",
      "    >>> np.interp([0, 1, 1.5, 2.72, 3.14], xp, fp)\n",
      "    array([3.  , 3.  , 2.5 , 0.56, 0.  ])\n",
      "    >>> UNDEF = -99.0\n",
      "    >>> np.interp(3.14, xp, fp, right=UNDEF)\n",
      "    -99.0\n",
      "\n",
      "    Plot an interpolant to the sine function:\n",
      "\n",
      "    >>> x = np.linspace(0, 2*np.pi, 10)\n",
      "    >>> y = np.sin(x)\n",
      "    >>> xvals = np.linspace(0, 2*np.pi, 50)\n",
      "    >>> yinterp = np.interp(xvals, x, y)\n",
      "    >>> import matplotlib.pyplot as plt\n",
      "    >>> plt.plot(x, y, 'o')\n",
      "    [<matplotlib.lines.Line2D object at 0x...>]\n",
      "    >>> plt.plot(xvals, yinterp, '-x')\n",
      "    [<matplotlib.lines.Line2D object at 0x...>]\n",
      "    >>> plt.show()\n",
      "\n",
      "    Interpolation with periodic x-coordinates:\n",
      "\n",
      "    >>> x = [-180, -170, -185, 185, -10, -5, 0, 365]\n",
      "    >>> xp = [190, -190, 350, -350]\n",
      "    >>> fp = [5, 10, 3, 4]\n",
      "    >>> np.interp(x, xp, fp, period=360)\n",
      "    array([7.5 , 5.  , 8.75, 6.25, 3.  , 3.25, 3.5 , 3.75])\n",
      "\n",
      "    Complex interpolation:\n",
      "\n",
      "    >>> x = [1.5, 4.0]\n",
      "    >>> xp = [2,3,5]\n",
      "    >>> fp = [1.0j, 0, 2+3j]\n",
      "    >>> np.interp(x, xp, fp)\n",
      "    array([0.+1.j , 1.+1.5j])\n",
      "\n",
      "    \"\"\"\n",
      "\n",
      "    fp = np.asarray(fp)\n",
      "\n",
      "    if np.iscomplexobj(fp):\n",
      "        interp_func = compiled_interp_complex\n",
      "        input_dtype = np.complex128\n",
      "    else:\n",
      "        interp_func = compiled_interp\n",
      "        input_dtype = np.float64\n",
      "\n",
      "    if period is not None:\n",
      "        if period == 0:\n",
      "            raise ValueError(\"period must be a non-zero value\")\n",
      "        period = abs(period)\n",
      "        left = None\n",
      "        right = None\n",
      "\n",
      "        x = np.asarray(x, dtype=np.float64)\n",
      "        xp = np.asarray(xp, dtype=np.float64)\n",
      "        fp = np.asarray(fp, dtype=input_dtype)\n",
      "\n",
      "        if xp.ndim != 1 or fp.ndim != 1:\n",
      "            raise ValueError(\"Data points must be 1-D sequences\")\n",
      "        if xp.shape[0] != fp.shape[0]:\n",
      "            raise ValueError(\"fp and xp are not of the same length\")\n",
      "        # normalizing periodic boundaries\n",
      "        x = x % period\n",
      "        xp = xp % period\n",
      "        asort_xp = np.argsort(xp)\n",
      "        xp = xp[asort_xp]\n",
      "        fp = fp[asort_xp]\n",
      "        xp = np.concatenate((xp[-1:]-period, xp, xp[0:1]+period))\n",
      "        fp = np.concatenate((fp[-1:], fp, fp[0:1]))\n",
      "\n",
      "    return interp_func(x, xp, fp, left, right)\n",
      "\n"
     ]
    }
   ],
   "source": [
    "\n",
    "#four hundred and fifty first function is np.source\n",
    "np.source(np.interp)\n"
   ],
   "metadata": {
    "collapsed": false
   }
  },
  {
   "cell_type": "code",
   "execution_count": 447,
   "outputs": [],
   "source": [
    "\n",
    "#four hundred and fifty second function is np.spacing\n",
    "\n"
   ],
   "metadata": {
    "collapsed": false
   }
  },
  {
   "cell_type": "code",
   "execution_count": 448,
   "outputs": [],
   "source": [
    "\n",
    "#four hundred and fifty third function is np.split\n",
    "\n"
   ],
   "metadata": {
    "collapsed": false
   }
  },
  {
   "cell_type": "code",
   "execution_count": null,
   "outputs": [],
   "source": [
    "\n",
    "#four hundred and fifty fourth function is np.sqrt\n",
    "\n"
   ],
   "metadata": {
    "collapsed": false
   }
  },
  {
   "cell_type": "code",
   "execution_count": null,
   "outputs": [],
   "source": [
    "\n",
    "#four hundred and fifty fifth function is np.square\n",
    "\n"
   ],
   "metadata": {
    "collapsed": false
   }
  },
  {
   "cell_type": "code",
   "execution_count": null,
   "outputs": [],
   "source": [
    "\n",
    "#four hundred and fifty sixth function is np.squeeze\n",
    "\n"
   ],
   "metadata": {
    "collapsed": false
   }
  },
  {
   "cell_type": "code",
   "execution_count": null,
   "outputs": [],
   "source": [
    "\n",
    "#four hundred and fifty seventh function is np.stack\n",
    "\n"
   ],
   "metadata": {
    "collapsed": false
   }
  },
  {
   "cell_type": "code",
   "execution_count": null,
   "outputs": [],
   "source": [
    "\n",
    "#four hundred and fifty eighth function is np.std\n",
    "\n"
   ],
   "metadata": {
    "collapsed": false
   }
  },
  {
   "cell_type": "code",
   "execution_count": null,
   "outputs": [],
   "source": [
    "\n",
    "#four hundred and fifty ninth function is np.str0\n",
    "\n"
   ],
   "metadata": {
    "collapsed": false
   }
  },
  {
   "cell_type": "code",
   "execution_count": null,
   "outputs": [],
   "source": [
    "\n",
    "#four hundred and sixtieth function is np.str_\n",
    "\n"
   ],
   "metadata": {
    "collapsed": false
   }
  },
  {
   "cell_type": "code",
   "execution_count": null,
   "outputs": [],
   "source": [
    "\n",
    "#four hundred and sixty first function is np.string_\n",
    "\n"
   ],
   "metadata": {
    "collapsed": false
   }
  },
  {
   "cell_type": "code",
   "execution_count": null,
   "outputs": [],
   "source": [
    "\n",
    "#four hundred and sixty second function is np.subtract\n",
    "\n"
   ],
   "metadata": {
    "collapsed": false
   }
  },
  {
   "cell_type": "code",
   "execution_count": null,
   "outputs": [],
   "source": [
    "\n",
    "#four hundred and sixty third function is np.sum\n",
    "\n"
   ],
   "metadata": {
    "collapsed": false
   }
  },
  {
   "cell_type": "code",
   "execution_count": null,
   "outputs": [],
   "source": [
    "\n",
    "#four hundred and sixty fourth function is np.swapaxes\n",
    "\n"
   ],
   "metadata": {
    "collapsed": false
   }
  },
  {
   "cell_type": "code",
   "execution_count": null,
   "outputs": [],
   "source": [
    "\n",
    "#four hundred and sixty fifth function is np.sys\n",
    "\n"
   ],
   "metadata": {
    "collapsed": false
   }
  },
  {
   "cell_type": "code",
   "execution_count": null,
   "outputs": [],
   "source": [
    "\n",
    "#four hundred and sixty sixth function is np.take\n",
    "\n"
   ],
   "metadata": {
    "collapsed": false
   }
  },
  {
   "cell_type": "code",
   "execution_count": null,
   "outputs": [],
   "source": [
    "\n",
    "#four hundred and sixty seventh function is np.take_along_axis\n",
    "\n"
   ],
   "metadata": {
    "collapsed": false
   }
  },
  {
   "cell_type": "code",
   "execution_count": null,
   "outputs": [],
   "source": [
    "\n",
    "#four hundred and sixty eighth function is np.tan\n",
    "\n"
   ],
   "metadata": {
    "collapsed": false
   }
  },
  {
   "cell_type": "code",
   "execution_count": null,
   "outputs": [],
   "source": [
    "\n",
    "#four hundred and sixty ninth function is np.tanh\n",
    "\n"
   ],
   "metadata": {
    "collapsed": false
   }
  },
  {
   "cell_type": "code",
   "execution_count": null,
   "outputs": [],
   "source": [
    "\n",
    "#four hundred and seventieth function is np.tensordot\n",
    "\n"
   ],
   "metadata": {
    "collapsed": false
   }
  },
  {
   "cell_type": "code",
   "execution_count": null,
   "outputs": [],
   "source": [
    "\n",
    "#four hundred and seventy first function is np.test\n",
    "\n"
   ],
   "metadata": {
    "collapsed": false
   }
  },
  {
   "cell_type": "code",
   "execution_count": null,
   "outputs": [],
   "source": [
    "\n",
    "#four hundred and seventy second function is np.testing\n",
    "\n"
   ],
   "metadata": {
    "collapsed": false
   }
  },
  {
   "cell_type": "code",
   "execution_count": null,
   "outputs": [],
   "source": [
    "\n",
    "#four hundred and seventy third function is np.tile\n",
    "\n"
   ],
   "metadata": {
    "collapsed": false
   }
  },
  {
   "cell_type": "code",
   "execution_count": null,
   "outputs": [],
   "source": [
    "\n",
    "#four hundred and seventy fourth function is np.timedelta64\n",
    "\n"
   ],
   "metadata": {
    "collapsed": false
   }
  },
  {
   "cell_type": "code",
   "execution_count": null,
   "outputs": [],
   "source": [
    "\n",
    "#four hundred and seventy fifth function is np.trace\n",
    "\n"
   ],
   "metadata": {
    "collapsed": false
   }
  },
  {
   "cell_type": "code",
   "execution_count": null,
   "outputs": [],
   "source": [
    "\n",
    "#four hundred and seventy sixth function is np.tracemalloc_domain\n",
    "\n"
   ],
   "metadata": {
    "collapsed": false
   }
  },
  {
   "cell_type": "code",
   "execution_count": null,
   "outputs": [],
   "source": [
    "\n",
    "#four hundred and seventy seventh function is np.transpose\n",
    "\n"
   ],
   "metadata": {
    "collapsed": false
   }
  },
  {
   "cell_type": "code",
   "execution_count": null,
   "outputs": [],
   "source": [
    "\n",
    "#four hundred and seventy eighth function is np.trapz\n",
    "\n"
   ],
   "metadata": {
    "collapsed": false
   }
  },
  {
   "cell_type": "code",
   "execution_count": null,
   "outputs": [],
   "source": [
    "\n",
    "#four hundred and seventy ninth function is np.tri\n",
    "\n"
   ],
   "metadata": {
    "collapsed": false
   }
  },
  {
   "cell_type": "code",
   "execution_count": null,
   "outputs": [],
   "source": [
    "\n",
    "#four hundred and eightieth function is np.tril\n",
    "\n"
   ],
   "metadata": {
    "collapsed": false
   }
  },
  {
   "cell_type": "code",
   "execution_count": null,
   "outputs": [],
   "source": [
    "\n",
    "#four hundred and eighty first function is np.tril_indices\n",
    "\n"
   ],
   "metadata": {
    "collapsed": false
   }
  },
  {
   "cell_type": "code",
   "execution_count": null,
   "outputs": [],
   "source": [
    "\n",
    "#four hundred and eighty second function is np.tril_indices_from\n",
    "\n"
   ],
   "metadata": {
    "collapsed": false
   }
  },
  {
   "cell_type": "code",
   "execution_count": null,
   "outputs": [],
   "source": [
    "\n",
    "#four hundred and eighty third function is np.trim_zeros\n",
    "\n"
   ],
   "metadata": {
    "collapsed": false
   }
  },
  {
   "cell_type": "code",
   "execution_count": null,
   "outputs": [],
   "source": [
    "\n",
    "#four hundred and eighty fourth function is np.triu\n",
    "\n"
   ],
   "metadata": {
    "collapsed": false
   }
  },
  {
   "cell_type": "code",
   "execution_count": null,
   "outputs": [],
   "source": [
    "\n",
    "#four hundred and eighty fifth function is np.triu_indices\n",
    "\n"
   ],
   "metadata": {
    "collapsed": false
   }
  },
  {
   "cell_type": "code",
   "execution_count": null,
   "outputs": [],
   "source": [
    "\n",
    "#four hundred and eighty sixth function is np.triu_indices_from\n",
    "\n"
   ],
   "metadata": {
    "collapsed": false
   }
  },
  {
   "cell_type": "code",
   "execution_count": null,
   "outputs": [],
   "source": [
    "\n",
    "#four hundred and eighty seventh function is np.true_divide\n",
    "\n"
   ],
   "metadata": {
    "collapsed": false
   }
  },
  {
   "cell_type": "code",
   "execution_count": null,
   "outputs": [],
   "source": [
    "\n",
    "#four hundred and eighty eighth function is np.trunc\n",
    "\n"
   ],
   "metadata": {
    "collapsed": false
   }
  },
  {
   "cell_type": "code",
   "execution_count": null,
   "outputs": [],
   "source": [
    "\n",
    "#four hundred and eighty ninth function is np.typecodes\n",
    "\n"
   ],
   "metadata": {
    "collapsed": false
   }
  },
  {
   "cell_type": "code",
   "execution_count": null,
   "outputs": [],
   "source": [
    "\n",
    "#four hundred and ninetieth function is np.typename\n",
    "\n"
   ],
   "metadata": {
    "collapsed": false
   }
  },
  {
   "cell_type": "code",
   "execution_count": null,
   "outputs": [],
   "source": [
    "\n",
    "#four hundred and ninety first function is np.ubyte\n",
    "\n"
   ],
   "metadata": {
    "collapsed": false
   }
  },
  {
   "cell_type": "code",
   "execution_count": null,
   "outputs": [],
   "source": [
    "\n",
    "#four hundred and ninety second function is np.ufunc\n",
    "\n"
   ],
   "metadata": {
    "collapsed": false
   }
  },
  {
   "cell_type": "code",
   "execution_count": null,
   "outputs": [],
   "source": [
    "\n",
    "#four hundred and ninety third function is np.uint\n",
    "\n"
   ],
   "metadata": {
    "collapsed": false
   }
  },
  {
   "cell_type": "code",
   "execution_count": null,
   "outputs": [],
   "source": [
    "\n",
    "#four hundred and ninety fourth function is np.uint0\n",
    "\n"
   ],
   "metadata": {
    "collapsed": false
   }
  },
  {
   "cell_type": "code",
   "execution_count": null,
   "outputs": [],
   "source": [
    "\n",
    "#four hundred and ninety fifth function is np.uint16\n",
    "\n"
   ],
   "metadata": {
    "collapsed": false
   }
  },
  {
   "cell_type": "code",
   "execution_count": null,
   "outputs": [],
   "source": [
    "\n",
    "#four hundred and ninety sixth function is np.uint32\n",
    "\n"
   ],
   "metadata": {
    "collapsed": false
   }
  },
  {
   "cell_type": "code",
   "execution_count": null,
   "outputs": [],
   "source": [
    "\n",
    "#four hundred and ninety seventh function is np.uint64\n",
    "\n"
   ],
   "metadata": {
    "collapsed": false
   }
  },
  {
   "cell_type": "code",
   "execution_count": null,
   "outputs": [],
   "source": [
    "\n",
    "#four hundred and ninety eighth function is np.uint8\n",
    "\n"
   ],
   "metadata": {
    "collapsed": false
   }
  },
  {
   "cell_type": "code",
   "execution_count": null,
   "outputs": [],
   "source": [
    "\n",
    "#four hundred and ninety ninth function is np.uintc\n",
    "\n"
   ],
   "metadata": {
    "collapsed": false
   }
  },
  {
   "cell_type": "code",
   "execution_count": null,
   "outputs": [],
   "source": [
    "\n",
    "#five hundredth function is np.uintp\n",
    "\n"
   ],
   "metadata": {
    "collapsed": false
   }
  },
  {
   "cell_type": "code",
   "execution_count": null,
   "outputs": [],
   "source": [
    "\n",
    "#five hundred and first function is np.ulonglong\n",
    "\n"
   ],
   "metadata": {
    "collapsed": false
   }
  },
  {
   "cell_type": "code",
   "execution_count": null,
   "outputs": [],
   "source": [
    "\n",
    "#five hundred and second function is np.unicode_\n",
    "\n"
   ],
   "metadata": {
    "collapsed": false
   }
  },
  {
   "cell_type": "code",
   "execution_count": null,
   "outputs": [],
   "source": [
    "\n",
    "#five hundred and third function is np.union1d\n",
    "\n"
   ],
   "metadata": {
    "collapsed": false
   }
  },
  {
   "cell_type": "code",
   "execution_count": null,
   "outputs": [],
   "source": [
    "\n",
    "\n",
    "#five hundred and fourth function is np.unique\n",
    "\n"
   ],
   "metadata": {
    "collapsed": false
   }
  },
  {
   "cell_type": "code",
   "execution_count": null,
   "outputs": [],
   "source": [
    "\n",
    "#five hundred and fifth function is np.unpackbits\n",
    "\n"
   ],
   "metadata": {
    "collapsed": false
   }
  },
  {
   "cell_type": "code",
   "execution_count": null,
   "outputs": [],
   "source": [
    "\n",
    "#five hundred and sixth function is np.unravel_index\n",
    "\n"
   ],
   "metadata": {
    "collapsed": false
   }
  },
  {
   "cell_type": "code",
   "execution_count": null,
   "outputs": [],
   "source": [
    "\n",
    "#five hundred and seventh function is np.unsignedinteger\n",
    "\n"
   ],
   "metadata": {
    "collapsed": false
   }
  },
  {
   "cell_type": "code",
   "execution_count": null,
   "outputs": [],
   "source": [
    "\n",
    "#five hundred and eighth function is np.unwrap\n",
    "\n"
   ],
   "metadata": {
    "collapsed": false
   }
  },
  {
   "cell_type": "code",
   "execution_count": null,
   "outputs": [],
   "source": [
    "\n",
    "#five hundred and ninth function is np.use_hugepage\n",
    "\n"
   ],
   "metadata": {
    "collapsed": false
   }
  },
  {
   "cell_type": "code",
   "execution_count": null,
   "outputs": [],
   "source": [
    "\n",
    "#five hundred and tenth function is np.ushort\n"
   ],
   "metadata": {
    "collapsed": false
   }
  },
  {
   "cell_type": "code",
   "execution_count": null,
   "outputs": [],
   "source": [
    "\n",
    "#five hundred and eleventh function is np.vander\n"
   ],
   "metadata": {
    "collapsed": false
   }
  },
  {
   "cell_type": "code",
   "execution_count": null,
   "outputs": [],
   "source": [
    "\n",
    "#five hundred and twelveth function is np.var\n",
    "\n"
   ],
   "metadata": {
    "collapsed": false
   }
  },
  {
   "cell_type": "code",
   "execution_count": null,
   "outputs": [],
   "source": [
    "\n",
    "#five hundred and thirteenth function is np.vdot\n",
    "\n"
   ],
   "metadata": {
    "collapsed": false
   }
  },
  {
   "cell_type": "code",
   "execution_count": null,
   "outputs": [],
   "source": [
    "\n",
    "#five hundred and fourteenth function is np.vectorize\n",
    "\n"
   ],
   "metadata": {
    "collapsed": false
   }
  },
  {
   "cell_type": "code",
   "execution_count": null,
   "outputs": [],
   "source": [
    "\n",
    "#five hundred and fifteenth function is np.version\n",
    "\n"
   ],
   "metadata": {
    "collapsed": false
   }
  },
  {
   "cell_type": "code",
   "execution_count": null,
   "outputs": [],
   "source": [
    "\n",
    "#five hundred and sixteenth function is np.void\n",
    "\n"
   ],
   "metadata": {
    "collapsed": false
   }
  },
  {
   "cell_type": "code",
   "execution_count": null,
   "outputs": [],
   "source": [
    "\n",
    "#five hundred and seventeenth function is np.void0\n",
    "\n"
   ],
   "metadata": {
    "collapsed": false
   }
  },
  {
   "cell_type": "code",
   "execution_count": null,
   "outputs": [],
   "source": [
    "\n",
    "#five hundred and eighteenth function is np.vsplit\n",
    "\n"
   ],
   "metadata": {
    "collapsed": false
   }
  },
  {
   "cell_type": "code",
   "execution_count": null,
   "outputs": [],
   "source": [
    "\n",
    "#five hundred and nineteenth function is np.vstack\n",
    "\n"
   ],
   "metadata": {
    "collapsed": false
   }
  },
  {
   "cell_type": "code",
   "execution_count": null,
   "outputs": [],
   "source": [
    "\n",
    "#five hundred and twentieth function is np.w\n",
    "\n"
   ],
   "metadata": {
    "collapsed": false
   }
  },
  {
   "cell_type": "code",
   "execution_count": null,
   "outputs": [],
   "source": [
    "\n",
    "#five hundred and twenty first function is np.warnings\n",
    "\n"
   ],
   "metadata": {
    "collapsed": false
   }
  },
  {
   "cell_type": "code",
   "execution_count": null,
   "outputs": [],
   "source": [
    "\n",
    "#five hundred and twenty second function is np.where\n",
    "\n"
   ],
   "metadata": {
    "collapsed": false
   }
  },
  {
   "cell_type": "code",
   "execution_count": null,
   "outputs": [],
   "source": [
    "\n",
    "#five hundred and twenty third function is np.who\n",
    "\n"
   ],
   "metadata": {
    "collapsed": false
   }
  },
  {
   "cell_type": "code",
   "execution_count": null,
   "outputs": [],
   "source": [
    "\n",
    "#five hundred and twenty fourth function is np.zeros\n",
    "\n"
   ],
   "metadata": {
    "collapsed": false
   }
  },
  {
   "cell_type": "code",
   "execution_count": null,
   "outputs": [],
   "source": [
    "\n",
    "#five hundred and twenty fifth function is np.zeros_like\n"
   ],
   "metadata": {
    "collapsed": false
   }
  },
  {
   "cell_type": "markdown",
   "source": [
    "## thank you !!!"
   ],
   "metadata": {
    "collapsed": false
   }
  },
  {
   "cell_type": "code",
   "execution_count": null,
   "outputs": [],
   "source": [],
   "metadata": {
    "collapsed": false
   }
  }
 ],
 "metadata": {
  "kernelspec": {
   "display_name": "Python 3 (ipykernel)",
   "language": "python",
   "name": "python3"
  },
  "language_info": {
   "codemirror_mode": {
    "name": "ipython",
    "version": 3
   },
   "file_extension": ".py",
   "mimetype": "text/x-python",
   "name": "python",
   "nbconvert_exporter": "python",
   "pygments_lexer": "ipython3",
   "version": "3.8.9"
  }
 },
 "nbformat": 4,
 "nbformat_minor": 1
}
